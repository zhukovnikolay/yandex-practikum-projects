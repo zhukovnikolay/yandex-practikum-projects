{
 "cells": [
  {
   "cell_type": "markdown",
   "id": "90874694",
   "metadata": {
    "toc": true
   },
   "source": [
    "<h1>Содержание<span class=\"tocSkip\"></span></h1>\n",
    "<div class=\"toc\"><ul class=\"toc-item\"><li><span><a href=\"#Описание-проекта\" data-toc-modified-id=\"Описание-проекта-1\"><span class=\"toc-item-num\">1&nbsp;&nbsp;</span>Описание проекта</a></span></li><li><span><a href=\"#Проект\" data-toc-modified-id=\"Проект-2\"><span class=\"toc-item-num\">2&nbsp;&nbsp;</span>Проект</a></span><ul class=\"toc-item\"><li><span><a href=\"#Обзор-данных\" data-toc-modified-id=\"Обзор-данных-2.1\"><span class=\"toc-item-num\">2.1&nbsp;&nbsp;</span>Обзор данных</a></span></li><li><span><a href=\"#Заполнение-пропусков\" data-toc-modified-id=\"Заполнение-пропусков-2.2\"><span class=\"toc-item-num\">2.2&nbsp;&nbsp;</span>Заполнение пропусков</a></span><ul class=\"toc-item\"><li><span><a href=\"#Заполнение-пропусков-total-income\" data-toc-modified-id=\"Заполнение-пропусков-total-income-2.2.1\"><span class=\"toc-item-num\">2.2.1&nbsp;&nbsp;</span>Заполнение пропусков total income</a></span></li><li><span><a href=\"#Заполнение-пропусков-gender\" data-toc-modified-id=\"Заполнение-пропусков-gender-2.2.2\"><span class=\"toc-item-num\">2.2.2&nbsp;&nbsp;</span>Заполнение пропусков gender</a></span></li><li><span><a href=\"#Заполнение-пропусков-days_employed\" data-toc-modified-id=\"Заполнение-пропусков-days_employed-2.2.3\"><span class=\"toc-item-num\">2.2.3&nbsp;&nbsp;</span>Заполнение пропусков days_employed</a></span></li></ul></li><li><span><a href=\"#Проверка-данных-на-аномалии-и-исправления.\" data-toc-modified-id=\"Проверка-данных-на-аномалии-и-исправления.-2.3\"><span class=\"toc-item-num\">2.3&nbsp;&nbsp;</span>Проверка данных на аномалии и исправления.</a></span><ul class=\"toc-item\"><li><span><a href=\"#Аномалии-dob_years\" data-toc-modified-id=\"Аномалии-dob_years-2.3.1\"><span class=\"toc-item-num\">2.3.1&nbsp;&nbsp;</span>Аномалии dob_years</a></span></li><li><span><a href=\"#Аномалии-days_employed\" data-toc-modified-id=\"Аномалии-days_employed-2.3.2\"><span class=\"toc-item-num\">2.3.2&nbsp;&nbsp;</span>Аномалии days_employed</a></span></li><li><span><a href=\"#Аномалии-children\" data-toc-modified-id=\"Аномалии-children-2.3.3\"><span class=\"toc-item-num\">2.3.3&nbsp;&nbsp;</span>Аномалии children</a></span></li></ul></li><li><span><a href=\"#Изменение-типов-данных.\" data-toc-modified-id=\"Изменение-типов-данных.-2.4\"><span class=\"toc-item-num\">2.4&nbsp;&nbsp;</span>Изменение типов данных.</a></span></li><li><span><a href=\"#Удаление-дубликатов.\" data-toc-modified-id=\"Удаление-дубликатов.-2.5\"><span class=\"toc-item-num\">2.5&nbsp;&nbsp;</span>Удаление дубликатов.</a></span><ul class=\"toc-item\"><li><span><a href=\"#Общие-дубликаты\" data-toc-modified-id=\"Общие-дубликаты-2.5.1\"><span class=\"toc-item-num\">2.5.1&nbsp;&nbsp;</span>Общие дубликаты</a></span></li><li><span><a href=\"#Дубликаты-education\" data-toc-modified-id=\"Дубликаты-education-2.5.2\"><span class=\"toc-item-num\">2.5.2&nbsp;&nbsp;</span>Дубликаты education</a></span></li></ul></li><li><span><a href=\"#Формирование-дополнительных-датафреймов-словарей,-декомпозиция-исходного-датафрейма.\" data-toc-modified-id=\"Формирование-дополнительных-датафреймов-словарей,-декомпозиция-исходного-датафрейма.-2.6\"><span class=\"toc-item-num\">2.6&nbsp;&nbsp;</span>Формирование дополнительных датафреймов словарей, декомпозиция исходного датафрейма.</a></span></li><li><span><a href=\"#Категоризация-дохода.\" data-toc-modified-id=\"Категоризация-дохода.-2.7\"><span class=\"toc-item-num\">2.7&nbsp;&nbsp;</span>Категоризация дохода.</a></span></li><li><span><a href=\"#Категоризация-целей-кредита.\" data-toc-modified-id=\"Категоризация-целей-кредита.-2.8\"><span class=\"toc-item-num\">2.8&nbsp;&nbsp;</span>Категоризация целей кредита.</a></span></li><li><span><a href=\"#Ответы-на-вопросы-исследования\" data-toc-modified-id=\"Ответы-на-вопросы-исследования-2.9\"><span class=\"toc-item-num\">2.9&nbsp;&nbsp;</span>Ответы на вопросы исследования</a></span><ul class=\"toc-item\"><li><span><a href=\"#Есть-ли-зависимость-между-количеством-детей-и-возвратом-кредита-в-срок?\" data-toc-modified-id=\"Есть-ли-зависимость-между-количеством-детей-и-возвратом-кредита-в-срок?-2.9.1\"><span class=\"toc-item-num\">2.9.1&nbsp;&nbsp;</span>Есть ли зависимость между количеством детей и возвратом кредита в срок?</a></span></li><li><span><a href=\"#Есть-ли-зависимость-между-семейным-положением-и-возвратом-кредита-в-срок?\" data-toc-modified-id=\"Есть-ли-зависимость-между-семейным-положением-и-возвратом-кредита-в-срок?-2.9.2\"><span class=\"toc-item-num\">2.9.2&nbsp;&nbsp;</span>Есть ли зависимость между семейным положением и возвратом кредита в срок?</a></span></li><li><span><a href=\"#Есть-ли-зависимость-между-уровнем-дохода-и-возвратом-кредита-в-срок?\" data-toc-modified-id=\"Есть-ли-зависимость-между-уровнем-дохода-и-возвратом-кредита-в-срок?-2.9.3\"><span class=\"toc-item-num\">2.9.3&nbsp;&nbsp;</span>Есть ли зависимость между уровнем дохода и возвратом кредита в срок?</a></span></li><li><span><a href=\"#Как-разные-цели-кредита-влияют-на-его-возврат-в-срок?\" data-toc-modified-id=\"Как-разные-цели-кредита-влияют-на-его-возврат-в-срок?-2.9.4\"><span class=\"toc-item-num\">2.9.4&nbsp;&nbsp;</span>Как разные цели кредита влияют на его возврат в срок?</a></span></li></ul></li></ul></li><li><span><a href=\"#Общий-вывод:\" data-toc-modified-id=\"Общий-вывод:-3\"><span class=\"toc-item-num\">3&nbsp;&nbsp;</span>Общий вывод:</a></span></li></ul></div>"
   ]
  },
  {
   "cell_type": "markdown",
   "id": "0a4ff3d8",
   "metadata": {},
   "source": [
    "# Исследование надежности заемщиков."
   ]
  },
  {
   "cell_type": "markdown",
   "id": "2303db35",
   "metadata": {},
   "source": [
    "## Описание проекта\n",
    "\n",
    "Заказчик — кредитный отдел банка. Нужно разобраться, влияет ли семейное положение и количество детей клиента на факт погашения кредита в срок. Входные данные от банка — статистика о платёжеспособности клиентов.\n",
    "Результаты исследования будут учтены при построении модели кредитного скоринга — специальной системы, которая оценивает способность потенциального заёмщика вернуть кредит банку."
   ]
  },
  {
   "cell_type": "markdown",
   "id": "5ecf6151",
   "metadata": {},
   "source": [
    "**Описание данных**\n",
    "- children — количество детей в семье\n",
    "- days_employed — общий трудовой стаж в днях\n",
    "- dob_years — возраст клиента в годах\n",
    "- education — уровень образования клиента\n",
    "- education_id — идентификатор уровня образования\n",
    "- family_status — семейное положение\n",
    "- family_status_id — идентификатор семейного положения\n",
    "- gender — пол клиента\n",
    "- income_type — тип занятости\n",
    "- debt — имел ли задолженность по возврату кредитов\n",
    "- total_income — ежемесячный доход\n",
    "- purpose — цель получения кредита"
   ]
  },
  {
   "cell_type": "markdown",
   "id": "1c2cb304",
   "metadata": {},
   "source": [
    "## Проект"
   ]
  },
  {
   "cell_type": "markdown",
   "id": "a476d091",
   "metadata": {},
   "source": [
    "### Обзор данных"
   ]
  },
  {
   "cell_type": "code",
   "execution_count": 1,
   "id": "a9b97935",
   "metadata": {},
   "outputs": [],
   "source": [
    "import pandas as pd\n",
    "import seaborn as sns"
   ]
  },
  {
   "cell_type": "code",
   "execution_count": 2,
   "id": "1bb9ce76",
   "metadata": {},
   "outputs": [],
   "source": [
    "data = pd.read_csv('/datasets/data.csv')"
   ]
  },
  {
   "cell_type": "code",
   "execution_count": 3,
   "id": "a4d1581f",
   "metadata": {
    "scrolled": true
   },
   "outputs": [
    {
     "name": "stdout",
     "output_type": "stream",
     "text": [
      "<class 'pandas.core.frame.DataFrame'>\n",
      "RangeIndex: 21525 entries, 0 to 21524\n",
      "Data columns (total 12 columns):\n",
      "children            21525 non-null int64\n",
      "days_employed       19351 non-null float64\n",
      "dob_years           21525 non-null int64\n",
      "education           21525 non-null object\n",
      "education_id        21525 non-null int64\n",
      "family_status       21525 non-null object\n",
      "family_status_id    21525 non-null int64\n",
      "gender              21525 non-null object\n",
      "income_type         21525 non-null object\n",
      "debt                21525 non-null int64\n",
      "total_income        19351 non-null float64\n",
      "purpose             21525 non-null object\n",
      "dtypes: float64(2), int64(5), object(5)\n",
      "memory usage: 2.0+ MB\n"
     ]
    }
   ],
   "source": [
    "# Посмотрим на данные\n",
    "data.info()"
   ]
  },
  {
   "cell_type": "markdown",
   "id": "4c5e971b",
   "metadata": {},
   "source": [
    "1. Названия переменных соответствуют snake_case.\n",
    "\n",
    "2. В столбцах days_employed, total_income есть пропуски.\n",
    "\n",
    "3. С типами данных на первый взгляд все хорошо."
   ]
  },
  {
   "cell_type": "code",
   "execution_count": 4,
   "id": "cca72ed3",
   "metadata": {},
   "outputs": [
    {
     "data": {
      "text/html": [
       "<div>\n",
       "<style scoped>\n",
       "    .dataframe tbody tr th:only-of-type {\n",
       "        vertical-align: middle;\n",
       "    }\n",
       "\n",
       "    .dataframe tbody tr th {\n",
       "        vertical-align: top;\n",
       "    }\n",
       "\n",
       "    .dataframe thead th {\n",
       "        text-align: right;\n",
       "    }\n",
       "</style>\n",
       "<table border=\"1\" class=\"dataframe\">\n",
       "  <thead>\n",
       "    <tr style=\"text-align: right;\">\n",
       "      <th></th>\n",
       "      <th>count</th>\n",
       "      <th>mean</th>\n",
       "      <th>std</th>\n",
       "      <th>min</th>\n",
       "      <th>25%</th>\n",
       "      <th>50%</th>\n",
       "      <th>75%</th>\n",
       "      <th>max</th>\n",
       "    </tr>\n",
       "  </thead>\n",
       "  <tbody>\n",
       "    <tr>\n",
       "      <td>children</td>\n",
       "      <td>21525.0</td>\n",
       "      <td>0.538908</td>\n",
       "      <td>1.381587</td>\n",
       "      <td>-1.000000</td>\n",
       "      <td>0.000000</td>\n",
       "      <td>0.000000</td>\n",
       "      <td>1.000000</td>\n",
       "      <td>2.000000e+01</td>\n",
       "    </tr>\n",
       "    <tr>\n",
       "      <td>days_employed</td>\n",
       "      <td>19351.0</td>\n",
       "      <td>63046.497661</td>\n",
       "      <td>140827.311974</td>\n",
       "      <td>-18388.949901</td>\n",
       "      <td>-2747.423625</td>\n",
       "      <td>-1203.369529</td>\n",
       "      <td>-291.095954</td>\n",
       "      <td>4.017554e+05</td>\n",
       "    </tr>\n",
       "    <tr>\n",
       "      <td>dob_years</td>\n",
       "      <td>21525.0</td>\n",
       "      <td>43.293380</td>\n",
       "      <td>12.574584</td>\n",
       "      <td>0.000000</td>\n",
       "      <td>33.000000</td>\n",
       "      <td>42.000000</td>\n",
       "      <td>53.000000</td>\n",
       "      <td>7.500000e+01</td>\n",
       "    </tr>\n",
       "    <tr>\n",
       "      <td>education_id</td>\n",
       "      <td>21525.0</td>\n",
       "      <td>0.817236</td>\n",
       "      <td>0.548138</td>\n",
       "      <td>0.000000</td>\n",
       "      <td>1.000000</td>\n",
       "      <td>1.000000</td>\n",
       "      <td>1.000000</td>\n",
       "      <td>4.000000e+00</td>\n",
       "    </tr>\n",
       "    <tr>\n",
       "      <td>family_status_id</td>\n",
       "      <td>21525.0</td>\n",
       "      <td>0.972544</td>\n",
       "      <td>1.420324</td>\n",
       "      <td>0.000000</td>\n",
       "      <td>0.000000</td>\n",
       "      <td>0.000000</td>\n",
       "      <td>1.000000</td>\n",
       "      <td>4.000000e+00</td>\n",
       "    </tr>\n",
       "    <tr>\n",
       "      <td>debt</td>\n",
       "      <td>21525.0</td>\n",
       "      <td>0.080883</td>\n",
       "      <td>0.272661</td>\n",
       "      <td>0.000000</td>\n",
       "      <td>0.000000</td>\n",
       "      <td>0.000000</td>\n",
       "      <td>0.000000</td>\n",
       "      <td>1.000000e+00</td>\n",
       "    </tr>\n",
       "    <tr>\n",
       "      <td>total_income</td>\n",
       "      <td>19351.0</td>\n",
       "      <td>167422.302208</td>\n",
       "      <td>102971.566448</td>\n",
       "      <td>20667.263793</td>\n",
       "      <td>103053.152913</td>\n",
       "      <td>145017.937533</td>\n",
       "      <td>203435.067663</td>\n",
       "      <td>2.265604e+06</td>\n",
       "    </tr>\n",
       "  </tbody>\n",
       "</table>\n",
       "</div>"
      ],
      "text/plain": [
       "                    count           mean            std           min  \\\n",
       "children          21525.0       0.538908       1.381587     -1.000000   \n",
       "days_employed     19351.0   63046.497661  140827.311974 -18388.949901   \n",
       "dob_years         21525.0      43.293380      12.574584      0.000000   \n",
       "education_id      21525.0       0.817236       0.548138      0.000000   \n",
       "family_status_id  21525.0       0.972544       1.420324      0.000000   \n",
       "debt              21525.0       0.080883       0.272661      0.000000   \n",
       "total_income      19351.0  167422.302208  102971.566448  20667.263793   \n",
       "\n",
       "                            25%            50%            75%           max  \n",
       "children               0.000000       0.000000       1.000000  2.000000e+01  \n",
       "days_employed      -2747.423625   -1203.369529    -291.095954  4.017554e+05  \n",
       "dob_years             33.000000      42.000000      53.000000  7.500000e+01  \n",
       "education_id           1.000000       1.000000       1.000000  4.000000e+00  \n",
       "family_status_id       0.000000       0.000000       1.000000  4.000000e+00  \n",
       "debt                   0.000000       0.000000       0.000000  1.000000e+00  \n",
       "total_income      103053.152913  145017.937533  203435.067663  2.265604e+06  "
      ]
     },
     "execution_count": 4,
     "metadata": {},
     "output_type": "execute_result"
    }
   ],
   "source": [
    "data.describe().T"
   ]
  },
  {
   "cell_type": "markdown",
   "id": "f93c6379",
   "metadata": {},
   "source": [
    "Есть существенное число некорректных данных в следующих столбцах:\n",
    "- children: отрицательное количество детей (см. минимальное значение).\n",
    "- days_employed: отрицательный трудовой стаж (причем таких значений очень много - даже в 75-процентиле) + слишком большие значения (максимальное значение > 400000 дней, это более 1000 лет).\n",
    "- dob_years: минимальный возраст клиента - 0 лет.\n",
    "\n",
    "В столбцах education_id, family_status_id, debt, total_income на первый взгляд нет аномалий."
   ]
  },
  {
   "cell_type": "code",
   "execution_count": 5,
   "id": "f2fd7dad",
   "metadata": {},
   "outputs": [
    {
     "data": {
      "text/html": [
       "<div>\n",
       "<style scoped>\n",
       "    .dataframe tbody tr th:only-of-type {\n",
       "        vertical-align: middle;\n",
       "    }\n",
       "\n",
       "    .dataframe tbody tr th {\n",
       "        vertical-align: top;\n",
       "    }\n",
       "\n",
       "    .dataframe thead th {\n",
       "        text-align: right;\n",
       "    }\n",
       "</style>\n",
       "<table border=\"1\" class=\"dataframe\">\n",
       "  <thead>\n",
       "    <tr style=\"text-align: right;\">\n",
       "      <th></th>\n",
       "      <th>children</th>\n",
       "      <th>days_employed</th>\n",
       "      <th>dob_years</th>\n",
       "      <th>education</th>\n",
       "      <th>education_id</th>\n",
       "      <th>family_status</th>\n",
       "      <th>family_status_id</th>\n",
       "      <th>gender</th>\n",
       "      <th>income_type</th>\n",
       "      <th>debt</th>\n",
       "      <th>total_income</th>\n",
       "      <th>purpose</th>\n",
       "    </tr>\n",
       "  </thead>\n",
       "  <tbody>\n",
       "    <tr>\n",
       "      <td>0</td>\n",
       "      <td>1</td>\n",
       "      <td>-8437.673028</td>\n",
       "      <td>42</td>\n",
       "      <td>высшее</td>\n",
       "      <td>0</td>\n",
       "      <td>женат / замужем</td>\n",
       "      <td>0</td>\n",
       "      <td>F</td>\n",
       "      <td>сотрудник</td>\n",
       "      <td>0</td>\n",
       "      <td>253875.639453</td>\n",
       "      <td>покупка жилья</td>\n",
       "    </tr>\n",
       "    <tr>\n",
       "      <td>1</td>\n",
       "      <td>1</td>\n",
       "      <td>-4024.803754</td>\n",
       "      <td>36</td>\n",
       "      <td>среднее</td>\n",
       "      <td>1</td>\n",
       "      <td>женат / замужем</td>\n",
       "      <td>0</td>\n",
       "      <td>F</td>\n",
       "      <td>сотрудник</td>\n",
       "      <td>0</td>\n",
       "      <td>112080.014102</td>\n",
       "      <td>приобретение автомобиля</td>\n",
       "    </tr>\n",
       "    <tr>\n",
       "      <td>2</td>\n",
       "      <td>0</td>\n",
       "      <td>-5623.422610</td>\n",
       "      <td>33</td>\n",
       "      <td>Среднее</td>\n",
       "      <td>1</td>\n",
       "      <td>женат / замужем</td>\n",
       "      <td>0</td>\n",
       "      <td>M</td>\n",
       "      <td>сотрудник</td>\n",
       "      <td>0</td>\n",
       "      <td>145885.952297</td>\n",
       "      <td>покупка жилья</td>\n",
       "    </tr>\n",
       "    <tr>\n",
       "      <td>3</td>\n",
       "      <td>3</td>\n",
       "      <td>-4124.747207</td>\n",
       "      <td>32</td>\n",
       "      <td>среднее</td>\n",
       "      <td>1</td>\n",
       "      <td>женат / замужем</td>\n",
       "      <td>0</td>\n",
       "      <td>M</td>\n",
       "      <td>сотрудник</td>\n",
       "      <td>0</td>\n",
       "      <td>267628.550329</td>\n",
       "      <td>дополнительное образование</td>\n",
       "    </tr>\n",
       "    <tr>\n",
       "      <td>4</td>\n",
       "      <td>0</td>\n",
       "      <td>340266.072047</td>\n",
       "      <td>53</td>\n",
       "      <td>среднее</td>\n",
       "      <td>1</td>\n",
       "      <td>гражданский брак</td>\n",
       "      <td>1</td>\n",
       "      <td>F</td>\n",
       "      <td>пенсионер</td>\n",
       "      <td>0</td>\n",
       "      <td>158616.077870</td>\n",
       "      <td>сыграть свадьбу</td>\n",
       "    </tr>\n",
       "    <tr>\n",
       "      <td>5</td>\n",
       "      <td>0</td>\n",
       "      <td>-926.185831</td>\n",
       "      <td>27</td>\n",
       "      <td>высшее</td>\n",
       "      <td>0</td>\n",
       "      <td>гражданский брак</td>\n",
       "      <td>1</td>\n",
       "      <td>M</td>\n",
       "      <td>компаньон</td>\n",
       "      <td>0</td>\n",
       "      <td>255763.565419</td>\n",
       "      <td>покупка жилья</td>\n",
       "    </tr>\n",
       "    <tr>\n",
       "      <td>6</td>\n",
       "      <td>0</td>\n",
       "      <td>-2879.202052</td>\n",
       "      <td>43</td>\n",
       "      <td>высшее</td>\n",
       "      <td>0</td>\n",
       "      <td>женат / замужем</td>\n",
       "      <td>0</td>\n",
       "      <td>F</td>\n",
       "      <td>компаньон</td>\n",
       "      <td>0</td>\n",
       "      <td>240525.971920</td>\n",
       "      <td>операции с жильем</td>\n",
       "    </tr>\n",
       "  </tbody>\n",
       "</table>\n",
       "</div>"
      ],
      "text/plain": [
       "   children  days_employed  dob_years education  education_id  \\\n",
       "0         1   -8437.673028         42    высшее             0   \n",
       "1         1   -4024.803754         36   среднее             1   \n",
       "2         0   -5623.422610         33   Среднее             1   \n",
       "3         3   -4124.747207         32   среднее             1   \n",
       "4         0  340266.072047         53   среднее             1   \n",
       "5         0    -926.185831         27    высшее             0   \n",
       "6         0   -2879.202052         43    высшее             0   \n",
       "\n",
       "      family_status  family_status_id gender income_type  debt   total_income  \\\n",
       "0   женат / замужем                 0      F   сотрудник     0  253875.639453   \n",
       "1   женат / замужем                 0      F   сотрудник     0  112080.014102   \n",
       "2   женат / замужем                 0      M   сотрудник     0  145885.952297   \n",
       "3   женат / замужем                 0      M   сотрудник     0  267628.550329   \n",
       "4  гражданский брак                 1      F   пенсионер     0  158616.077870   \n",
       "5  гражданский брак                 1      M   компаньон     0  255763.565419   \n",
       "6   женат / замужем                 0      F   компаньон     0  240525.971920   \n",
       "\n",
       "                      purpose  \n",
       "0               покупка жилья  \n",
       "1     приобретение автомобиля  \n",
       "2               покупка жилья  \n",
       "3  дополнительное образование  \n",
       "4             сыграть свадьбу  \n",
       "5               покупка жилья  \n",
       "6           операции с жильем  "
      ]
     },
     "execution_count": 5,
     "metadata": {},
     "output_type": "execute_result"
    }
   ],
   "source": [
    "data.head(7)"
   ]
  },
  {
   "cell_type": "markdown",
   "id": "c02045df",
   "metadata": {},
   "source": [
    "1. В столбце education потребуется привести все значения к нижнему регистру (присутствует запись одних значений разными способами - \"Среднее\" и \"среднее\"). \n",
    "\n",
    "2. Возможно, стоит округлить значения total_income, а также создать дополнительные категории на основании столбца total_income и purpose (есть схожие цели, например, \"операции с жильем\" и \"покупка жилья\").\n",
    "\n",
    "3. Связки education-education_id и family_status-family_status_id перенесем в отдельные таблицы-справочники."
   ]
  },
  {
   "cell_type": "code",
   "execution_count": 6,
   "id": "9ef3c219",
   "metadata": {
    "scrolled": true
   },
   "outputs": [
    {
     "name": "stdout",
     "output_type": "stream",
     "text": [
      "Признак children\n",
      " 0     14149\n",
      " 1      4818\n",
      " 2      2055\n",
      " 3       330\n",
      " 20       76\n",
      "-1        47\n",
      " 4        41\n",
      " 5         9\n",
      "Name: children, dtype: int64\n",
      "__________________________\n",
      "Признак education\n",
      "среднее                13750\n",
      "высшее                  4718\n",
      "СРЕДНЕЕ                  772\n",
      "Среднее                  711\n",
      "неоконченное высшее      668\n",
      "ВЫСШЕЕ                   274\n",
      "Высшее                   268\n",
      "начальное                250\n",
      "Неоконченное высшее       47\n",
      "НЕОКОНЧЕННОЕ ВЫСШЕЕ       29\n",
      "НАЧАЛЬНОЕ                 17\n",
      "Начальное                 15\n",
      "ученая степень             4\n",
      "УЧЕНАЯ СТЕПЕНЬ             1\n",
      "Ученая степень             1\n",
      "Name: education, dtype: int64\n",
      "__________________________\n",
      "Признак education_id\n",
      "1    15233\n",
      "0     5260\n",
      "2      744\n",
      "3      282\n",
      "4        6\n",
      "Name: education_id, dtype: int64\n",
      "__________________________\n",
      "Признак family_status\n",
      "женат / замужем          12380\n",
      "гражданский брак          4177\n",
      "Не женат / не замужем     2813\n",
      "в разводе                 1195\n",
      "вдовец / вдова             960\n",
      "Name: family_status, dtype: int64\n",
      "__________________________\n",
      "Признак family_status_id\n",
      "0    12380\n",
      "1     4177\n",
      "4     2813\n",
      "3     1195\n",
      "2      960\n",
      "Name: family_status_id, dtype: int64\n",
      "__________________________\n",
      "Признак gender\n",
      "F      14236\n",
      "M       7288\n",
      "XNA        1\n",
      "Name: gender, dtype: int64\n",
      "__________________________\n",
      "Признак income_type\n",
      "сотрудник          11119\n",
      "компаньон           5085\n",
      "пенсионер           3856\n",
      "госслужащий         1459\n",
      "безработный            2\n",
      "предприниматель        2\n",
      "в декрете              1\n",
      "студент                1\n",
      "Name: income_type, dtype: int64\n",
      "__________________________\n",
      "Признак debt\n",
      "0    19784\n",
      "1     1741\n",
      "Name: debt, dtype: int64\n",
      "__________________________\n",
      "Признак purpose\n",
      "свадьба                                   797\n",
      "на проведение свадьбы                     777\n",
      "сыграть свадьбу                           774\n",
      "операции с недвижимостью                  676\n",
      "покупка коммерческой недвижимости         664\n",
      "операции с жильем                         653\n",
      "покупка жилья для сдачи                   653\n",
      "операции с коммерческой недвижимостью     651\n",
      "покупка жилья                             647\n",
      "жилье                                     647\n",
      "покупка жилья для семьи                   641\n",
      "строительство собственной недвижимости    635\n",
      "недвижимость                              634\n",
      "операции со своей недвижимостью           630\n",
      "строительство жилой недвижимости          626\n",
      "покупка недвижимости                      624\n",
      "строительство недвижимости                620\n",
      "покупка своего жилья                      620\n",
      "ремонт жилью                              612\n",
      "покупка жилой недвижимости                607\n",
      "на покупку своего автомобиля              505\n",
      "заняться высшим образованием              496\n",
      "автомобиль                                495\n",
      "сделка с подержанным автомобилем          489\n",
      "свой автомобиль                           480\n",
      "на покупку подержанного автомобиля        479\n",
      "автомобили                                478\n",
      "на покупку автомобиля                     472\n",
      "дополнительное образование                462\n",
      "приобретение автомобиля                   462\n",
      "сделка с автомобилем                      455\n",
      "высшее образование                        453\n",
      "образование                               447\n",
      "получение дополнительного образования     447\n",
      "получение образования                     443\n",
      "профильное образование                    436\n",
      "получение высшего образования             426\n",
      "заняться образованием                     412\n",
      "Name: purpose, dtype: int64\n",
      "__________________________\n"
     ]
    }
   ],
   "source": [
    "# признак children не относится к категориальным, но добавлен в список, чтобы оценить его значения\n",
    "cat_features = ['children', 'education', 'education_id', 'family_status', 'family_status_id', \n",
    "                'gender', 'income_type', 'debt', 'purpose']\n",
    "num_features = ['days_employed', 'dob_years', 'total_income']\n",
    "# оценим частотность категориальных признаков\n",
    "for column in cat_features:\n",
    "    print(f'Признак {column}')\n",
    "    print(data[column].value_counts())\n",
    "    print('__________________________')"
   ]
  },
  {
   "cell_type": "markdown",
   "id": "cef9bd62",
   "metadata": {},
   "source": [
    "Помимо аномалий в признаке children (20 детей, -1 ребенок) и неявных дубликатов в education, у нас есть один неопределенный пол в признаке gender (я теряюсь, что такое XNA - предполагаю, что пропуск, заменим его по частотности на F).\n",
    "\n",
    "Также можно заметить, что категории \"безработный\", \"предприниматель\", \"в декрете\" и \"студент\" очень малочисленны и не позволят провести полноценный анализ. Было бы корректнее объединить эти категории с более многочисленными или объединить в одну - other (хотя это также не совсем корректно ввиду сильного различия по остальным признакам для этих категорий)."
   ]
  },
  {
   "cell_type": "markdown",
   "id": "00efd167",
   "metadata": {},
   "source": [
    "### Заполнение пропусков"
   ]
  },
  {
   "cell_type": "markdown",
   "id": "5eae9daf",
   "metadata": {},
   "source": [
    "Исходя из исследования выше, нам нужно заполнить явные пропуски в признаках 'days_employed', 'total_income', а также один неявный в признаке 'gender'. \n",
    "\n",
    "Количественные признаки можно было бы заменить просто медианой по всем значениям (медиана наиболее корректна, т.к. устойчива к выбросам, в отличии от среднего), но я полагаю, что есть вариант получше: признак days_employed скорее всего зависит от стажа ('dob_years'), 'total_income' может зависеть как от стажа (не факт, учитывая большое число пенсионеров), так и от какой-либо категории (например, 'income_type') или группы категорий (чем большее разбиение, тем лучше, вероятно). Проверим."
   ]
  },
  {
   "cell_type": "code",
   "execution_count": 7,
   "id": "1e94060a",
   "metadata": {},
   "outputs": [
    {
     "name": "stdout",
     "output_type": "stream",
     "text": [
      "Доля пропусков в признаке days_employed: 10.1%\n",
      "Доля пропусков в признаке total_income: 10.1%\n"
     ]
    }
   ],
   "source": [
    "# сначала оценим долю пропущенных значений\n",
    "for column in ['days_employed', 'total_income']:\n",
    "    print(f'Доля пропусков в признаке {column}: {data[column].isna().sum() / data.shape[0]:.1%}')"
   ]
  },
  {
   "cell_type": "code",
   "execution_count": 8,
   "id": "e6b907c5",
   "metadata": {},
   "outputs": [
    {
     "data": {
      "text/html": [
       "<div>\n",
       "<style scoped>\n",
       "    .dataframe tbody tr th:only-of-type {\n",
       "        vertical-align: middle;\n",
       "    }\n",
       "\n",
       "    .dataframe tbody tr th {\n",
       "        vertical-align: top;\n",
       "    }\n",
       "\n",
       "    .dataframe thead th {\n",
       "        text-align: right;\n",
       "    }\n",
       "</style>\n",
       "<table border=\"1\" class=\"dataframe\">\n",
       "  <thead>\n",
       "    <tr style=\"text-align: right;\">\n",
       "      <th></th>\n",
       "      <th>children</th>\n",
       "      <th>days_employed</th>\n",
       "      <th>dob_years</th>\n",
       "      <th>education</th>\n",
       "      <th>education_id</th>\n",
       "      <th>family_status</th>\n",
       "      <th>family_status_id</th>\n",
       "      <th>gender</th>\n",
       "      <th>income_type</th>\n",
       "      <th>debt</th>\n",
       "      <th>total_income</th>\n",
       "      <th>purpose</th>\n",
       "    </tr>\n",
       "  </thead>\n",
       "  <tbody>\n",
       "    <tr>\n",
       "      <td>12</td>\n",
       "      <td>0</td>\n",
       "      <td>NaN</td>\n",
       "      <td>65</td>\n",
       "      <td>среднее</td>\n",
       "      <td>1</td>\n",
       "      <td>гражданский брак</td>\n",
       "      <td>1</td>\n",
       "      <td>M</td>\n",
       "      <td>пенсионер</td>\n",
       "      <td>0</td>\n",
       "      <td>NaN</td>\n",
       "      <td>сыграть свадьбу</td>\n",
       "    </tr>\n",
       "    <tr>\n",
       "      <td>26</td>\n",
       "      <td>0</td>\n",
       "      <td>NaN</td>\n",
       "      <td>41</td>\n",
       "      <td>среднее</td>\n",
       "      <td>1</td>\n",
       "      <td>женат / замужем</td>\n",
       "      <td>0</td>\n",
       "      <td>M</td>\n",
       "      <td>госслужащий</td>\n",
       "      <td>0</td>\n",
       "      <td>NaN</td>\n",
       "      <td>образование</td>\n",
       "    </tr>\n",
       "    <tr>\n",
       "      <td>29</td>\n",
       "      <td>0</td>\n",
       "      <td>NaN</td>\n",
       "      <td>63</td>\n",
       "      <td>среднее</td>\n",
       "      <td>1</td>\n",
       "      <td>Не женат / не замужем</td>\n",
       "      <td>4</td>\n",
       "      <td>F</td>\n",
       "      <td>пенсионер</td>\n",
       "      <td>0</td>\n",
       "      <td>NaN</td>\n",
       "      <td>строительство жилой недвижимости</td>\n",
       "    </tr>\n",
       "    <tr>\n",
       "      <td>41</td>\n",
       "      <td>0</td>\n",
       "      <td>NaN</td>\n",
       "      <td>50</td>\n",
       "      <td>среднее</td>\n",
       "      <td>1</td>\n",
       "      <td>женат / замужем</td>\n",
       "      <td>0</td>\n",
       "      <td>F</td>\n",
       "      <td>госслужащий</td>\n",
       "      <td>0</td>\n",
       "      <td>NaN</td>\n",
       "      <td>сделка с подержанным автомобилем</td>\n",
       "    </tr>\n",
       "    <tr>\n",
       "      <td>55</td>\n",
       "      <td>0</td>\n",
       "      <td>NaN</td>\n",
       "      <td>54</td>\n",
       "      <td>среднее</td>\n",
       "      <td>1</td>\n",
       "      <td>гражданский брак</td>\n",
       "      <td>1</td>\n",
       "      <td>F</td>\n",
       "      <td>пенсионер</td>\n",
       "      <td>1</td>\n",
       "      <td>NaN</td>\n",
       "      <td>сыграть свадьбу</td>\n",
       "    </tr>\n",
       "  </tbody>\n",
       "</table>\n",
       "</div>"
      ],
      "text/plain": [
       "    children  days_employed  dob_years education  education_id  \\\n",
       "12         0            NaN         65   среднее             1   \n",
       "26         0            NaN         41   среднее             1   \n",
       "29         0            NaN         63   среднее             1   \n",
       "41         0            NaN         50   среднее             1   \n",
       "55         0            NaN         54   среднее             1   \n",
       "\n",
       "            family_status  family_status_id gender  income_type  debt  \\\n",
       "12       гражданский брак                 1      M    пенсионер     0   \n",
       "26        женат / замужем                 0      M  госслужащий     0   \n",
       "29  Не женат / не замужем                 4      F    пенсионер     0   \n",
       "41        женат / замужем                 0      F  госслужащий     0   \n",
       "55       гражданский брак                 1      F    пенсионер     1   \n",
       "\n",
       "    total_income                           purpose  \n",
       "12           NaN                   сыграть свадьбу  \n",
       "26           NaN                       образование  \n",
       "29           NaN  строительство жилой недвижимости  \n",
       "41           NaN  сделка с подержанным автомобилем  \n",
       "55           NaN                   сыграть свадьбу  "
      ]
     },
     "execution_count": 8,
     "metadata": {},
     "output_type": "execute_result"
    }
   ],
   "source": [
    "# посмотрим на пропуски глазами\n",
    "data[data['total_income'].isna()].head(5)"
   ]
  },
  {
   "cell_type": "markdown",
   "id": "76cecd67",
   "metadata": {},
   "source": [
    "Похоже, что пропуски в колонках 'total_income' и 'days_employed' присутствуют для одних и тех же людей. Проверим."
   ]
  },
  {
   "cell_type": "code",
   "execution_count": 9,
   "id": "d5883b94",
   "metadata": {},
   "outputs": [
    {
     "data": {
      "text/plain": [
       "2174"
      ]
     },
     "execution_count": 9,
     "metadata": {},
     "output_type": "execute_result"
    }
   ],
   "source": [
    "data[(data['total_income'].isna()) & (data['days_employed'].isna())]['dob_years'].count()"
   ]
  },
  {
   "cell_type": "markdown",
   "id": "2fa9c58f",
   "metadata": {},
   "source": [
    "Число пропусков одновременно в двух признаках совпадает с общим числом пропусков, значит данные пропущены для одних и тех же людей. \n",
    "\n",
    "Возможно это произошло из-за выдачи кредита без подтверждения дохода (т.к. оба признака относятся к карьере)."
   ]
  },
  {
   "cell_type": "markdown",
   "id": "4168edbf",
   "metadata": {},
   "source": [
    "#### Заполнение пропусков total income"
   ]
  },
  {
   "cell_type": "markdown",
   "id": "49543c97",
   "metadata": {},
   "source": [
    "Попробуем сформировать категории пользователей в зависимости от их уровня образования и типа дохода. Для указанных категорий определим медиану дохода и посчитаем сколько человек оказалось в каждой из категорий."
   ]
  },
  {
   "cell_type": "code",
   "execution_count": 10,
   "id": "f0974856",
   "metadata": {
    "scrolled": false
   },
   "outputs": [
    {
     "data": {
      "text/html": [
       "<div>\n",
       "<style scoped>\n",
       "    .dataframe tbody tr th:only-of-type {\n",
       "        vertical-align: middle;\n",
       "    }\n",
       "\n",
       "    .dataframe tbody tr th {\n",
       "        vertical-align: top;\n",
       "    }\n",
       "\n",
       "    .dataframe thead th {\n",
       "        text-align: right;\n",
       "    }\n",
       "</style>\n",
       "<table border=\"1\" class=\"dataframe\">\n",
       "  <thead>\n",
       "    <tr style=\"text-align: right;\">\n",
       "      <th></th>\n",
       "      <th>income_type</th>\n",
       "      <th>education_id</th>\n",
       "      <th>median</th>\n",
       "      <th>count</th>\n",
       "    </tr>\n",
       "  </thead>\n",
       "  <tbody>\n",
       "    <tr>\n",
       "      <td>0</td>\n",
       "      <td>безработный</td>\n",
       "      <td>0</td>\n",
       "      <td>202722.511368</td>\n",
       "      <td>1</td>\n",
       "    </tr>\n",
       "    <tr>\n",
       "      <td>1</td>\n",
       "      <td>безработный</td>\n",
       "      <td>1</td>\n",
       "      <td>59956.991984</td>\n",
       "      <td>1</td>\n",
       "    </tr>\n",
       "    <tr>\n",
       "      <td>2</td>\n",
       "      <td>в декрете</td>\n",
       "      <td>1</td>\n",
       "      <td>53829.130729</td>\n",
       "      <td>1</td>\n",
       "    </tr>\n",
       "    <tr>\n",
       "      <td>3</td>\n",
       "      <td>госслужащий</td>\n",
       "      <td>0</td>\n",
       "      <td>172511.107016</td>\n",
       "      <td>488</td>\n",
       "    </tr>\n",
       "    <tr>\n",
       "      <td>4</td>\n",
       "      <td>госслужащий</td>\n",
       "      <td>1</td>\n",
       "      <td>136652.970357</td>\n",
       "      <td>771</td>\n",
       "    </tr>\n",
       "    <tr>\n",
       "      <td>5</td>\n",
       "      <td>госслужащий</td>\n",
       "      <td>2</td>\n",
       "      <td>160592.345303</td>\n",
       "      <td>46</td>\n",
       "    </tr>\n",
       "    <tr>\n",
       "      <td>6</td>\n",
       "      <td>госслужащий</td>\n",
       "      <td>3</td>\n",
       "      <td>148339.290825</td>\n",
       "      <td>6</td>\n",
       "    </tr>\n",
       "    <tr>\n",
       "      <td>7</td>\n",
       "      <td>госслужащий</td>\n",
       "      <td>4</td>\n",
       "      <td>111392.231107</td>\n",
       "      <td>1</td>\n",
       "    </tr>\n",
       "    <tr>\n",
       "      <td>8</td>\n",
       "      <td>компаньон</td>\n",
       "      <td>0</td>\n",
       "      <td>201785.400018</td>\n",
       "      <td>1600</td>\n",
       "    </tr>\n",
       "    <tr>\n",
       "      <td>9</td>\n",
       "      <td>компаньон</td>\n",
       "      <td>1</td>\n",
       "      <td>159070.690289</td>\n",
       "      <td>2687</td>\n",
       "    </tr>\n",
       "    <tr>\n",
       "      <td>10</td>\n",
       "      <td>компаньон</td>\n",
       "      <td>2</td>\n",
       "      <td>179867.152890</td>\n",
       "      <td>261</td>\n",
       "    </tr>\n",
       "    <tr>\n",
       "      <td>11</td>\n",
       "      <td>компаньон</td>\n",
       "      <td>3</td>\n",
       "      <td>136798.905143</td>\n",
       "      <td>29</td>\n",
       "    </tr>\n",
       "    <tr>\n",
       "      <td>12</td>\n",
       "      <td>пенсионер</td>\n",
       "      <td>0</td>\n",
       "      <td>144240.768611</td>\n",
       "      <td>520</td>\n",
       "    </tr>\n",
       "    <tr>\n",
       "      <td>13</td>\n",
       "      <td>пенсионер</td>\n",
       "      <td>1</td>\n",
       "      <td>114842.854099</td>\n",
       "      <td>2793</td>\n",
       "    </tr>\n",
       "    <tr>\n",
       "      <td>14</td>\n",
       "      <td>пенсионер</td>\n",
       "      <td>2</td>\n",
       "      <td>120136.896353</td>\n",
       "      <td>35</td>\n",
       "    </tr>\n",
       "    <tr>\n",
       "      <td>15</td>\n",
       "      <td>пенсионер</td>\n",
       "      <td>3</td>\n",
       "      <td>102598.653164</td>\n",
       "      <td>93</td>\n",
       "    </tr>\n",
       "    <tr>\n",
       "      <td>16</td>\n",
       "      <td>пенсионер</td>\n",
       "      <td>4</td>\n",
       "      <td>177088.845999</td>\n",
       "      <td>2</td>\n",
       "    </tr>\n",
       "    <tr>\n",
       "      <td>17</td>\n",
       "      <td>предприниматель</td>\n",
       "      <td>0</td>\n",
       "      <td>499163.144947</td>\n",
       "      <td>1</td>\n",
       "    </tr>\n",
       "    <tr>\n",
       "      <td>18</td>\n",
       "      <td>сотрудник</td>\n",
       "      <td>0</td>\n",
       "      <td>165640.744634</td>\n",
       "      <td>2105</td>\n",
       "    </tr>\n",
       "    <tr>\n",
       "      <td>19</td>\n",
       "      <td>сотрудник</td>\n",
       "      <td>1</td>\n",
       "      <td>136555.108821</td>\n",
       "      <td>7440</td>\n",
       "    </tr>\n",
       "    <tr>\n",
       "      <td>20</td>\n",
       "      <td>сотрудник</td>\n",
       "      <td>2</td>\n",
       "      <td>151308.937846</td>\n",
       "      <td>333</td>\n",
       "    </tr>\n",
       "    <tr>\n",
       "      <td>21</td>\n",
       "      <td>сотрудник</td>\n",
       "      <td>3</td>\n",
       "      <td>125994.910603</td>\n",
       "      <td>133</td>\n",
       "    </tr>\n",
       "    <tr>\n",
       "      <td>22</td>\n",
       "      <td>сотрудник</td>\n",
       "      <td>4</td>\n",
       "      <td>198570.757322</td>\n",
       "      <td>3</td>\n",
       "    </tr>\n",
       "    <tr>\n",
       "      <td>23</td>\n",
       "      <td>студент</td>\n",
       "      <td>0</td>\n",
       "      <td>98201.625314</td>\n",
       "      <td>1</td>\n",
       "    </tr>\n",
       "  </tbody>\n",
       "</table>\n",
       "</div>"
      ],
      "text/plain": [
       "        income_type  education_id         median  count\n",
       "0       безработный             0  202722.511368      1\n",
       "1       безработный             1   59956.991984      1\n",
       "2         в декрете             1   53829.130729      1\n",
       "3       госслужащий             0  172511.107016    488\n",
       "4       госслужащий             1  136652.970357    771\n",
       "5       госслужащий             2  160592.345303     46\n",
       "6       госслужащий             3  148339.290825      6\n",
       "7       госслужащий             4  111392.231107      1\n",
       "8         компаньон             0  201785.400018   1600\n",
       "9         компаньон             1  159070.690289   2687\n",
       "10        компаньон             2  179867.152890    261\n",
       "11        компаньон             3  136798.905143     29\n",
       "12        пенсионер             0  144240.768611    520\n",
       "13        пенсионер             1  114842.854099   2793\n",
       "14        пенсионер             2  120136.896353     35\n",
       "15        пенсионер             3  102598.653164     93\n",
       "16        пенсионер             4  177088.845999      2\n",
       "17  предприниматель             0  499163.144947      1\n",
       "18        сотрудник             0  165640.744634   2105\n",
       "19        сотрудник             1  136555.108821   7440\n",
       "20        сотрудник             2  151308.937846    333\n",
       "21        сотрудник             3  125994.910603    133\n",
       "22        сотрудник             4  198570.757322      3\n",
       "23          студент             0   98201.625314      1"
      ]
     },
     "execution_count": 10,
     "metadata": {},
     "output_type": "execute_result"
    }
   ],
   "source": [
    "# медиана и число наблюдений total_income в зависимости от income_type и education_id\n",
    "total_income_medians = data.groupby(['income_type', 'education_id'])['total_income'].agg(['median', 'count']).reset_index()\n",
    "total_income_medians"
   ]
  },
  {
   "cell_type": "markdown",
   "id": "639185e8",
   "metadata": {},
   "source": [
    "Неплохое разделение на категории, хотя если среди пропущенных значений окажутся те, по которым группы слишком маленькие (до 20), точность заполнения может снизиться. Убедимся, что среди пропущенных значений немного тех, по которым категории получились слишком маленькими."
   ]
  },
  {
   "cell_type": "code",
   "execution_count": 11,
   "id": "0c228d75",
   "metadata": {
    "scrolled": false
   },
   "outputs": [
    {
     "data": {
      "text/html": [
       "<div>\n",
       "<style scoped>\n",
       "    .dataframe tbody tr th:only-of-type {\n",
       "        vertical-align: middle;\n",
       "    }\n",
       "\n",
       "    .dataframe tbody tr th {\n",
       "        vertical-align: top;\n",
       "    }\n",
       "\n",
       "    .dataframe thead th {\n",
       "        text-align: right;\n",
       "    }\n",
       "</style>\n",
       "<table border=\"1\" class=\"dataframe\">\n",
       "  <thead>\n",
       "    <tr style=\"text-align: right;\">\n",
       "      <th></th>\n",
       "      <th>income_type</th>\n",
       "      <th>education_id</th>\n",
       "      <th>count_miss</th>\n",
       "    </tr>\n",
       "  </thead>\n",
       "  <tbody>\n",
       "    <tr>\n",
       "      <td>0</td>\n",
       "      <td>госслужащий</td>\n",
       "      <td>0</td>\n",
       "      <td>62</td>\n",
       "    </tr>\n",
       "    <tr>\n",
       "      <td>1</td>\n",
       "      <td>госслужащий</td>\n",
       "      <td>1</td>\n",
       "      <td>77</td>\n",
       "    </tr>\n",
       "    <tr>\n",
       "      <td>2</td>\n",
       "      <td>госслужащий</td>\n",
       "      <td>2</td>\n",
       "      <td>6</td>\n",
       "    </tr>\n",
       "    <tr>\n",
       "      <td>3</td>\n",
       "      <td>госслужащий</td>\n",
       "      <td>3</td>\n",
       "      <td>2</td>\n",
       "    </tr>\n",
       "    <tr>\n",
       "      <td>4</td>\n",
       "      <td>компаньон</td>\n",
       "      <td>0</td>\n",
       "      <td>188</td>\n",
       "    </tr>\n",
       "    <tr>\n",
       "      <td>5</td>\n",
       "      <td>компаньон</td>\n",
       "      <td>1</td>\n",
       "      <td>299</td>\n",
       "    </tr>\n",
       "    <tr>\n",
       "      <td>6</td>\n",
       "      <td>компаньон</td>\n",
       "      <td>2</td>\n",
       "      <td>20</td>\n",
       "    </tr>\n",
       "    <tr>\n",
       "      <td>7</td>\n",
       "      <td>компаньон</td>\n",
       "      <td>3</td>\n",
       "      <td>1</td>\n",
       "    </tr>\n",
       "    <tr>\n",
       "      <td>8</td>\n",
       "      <td>пенсионер</td>\n",
       "      <td>0</td>\n",
       "      <td>57</td>\n",
       "    </tr>\n",
       "    <tr>\n",
       "      <td>9</td>\n",
       "      <td>пенсионер</td>\n",
       "      <td>1</td>\n",
       "      <td>344</td>\n",
       "    </tr>\n",
       "    <tr>\n",
       "      <td>10</td>\n",
       "      <td>пенсионер</td>\n",
       "      <td>2</td>\n",
       "      <td>6</td>\n",
       "    </tr>\n",
       "    <tr>\n",
       "      <td>11</td>\n",
       "      <td>пенсионер</td>\n",
       "      <td>3</td>\n",
       "      <td>6</td>\n",
       "    </tr>\n",
       "    <tr>\n",
       "      <td>12</td>\n",
       "      <td>предприниматель</td>\n",
       "      <td>0</td>\n",
       "      <td>1</td>\n",
       "    </tr>\n",
       "    <tr>\n",
       "      <td>13</td>\n",
       "      <td>сотрудник</td>\n",
       "      <td>0</td>\n",
       "      <td>236</td>\n",
       "    </tr>\n",
       "    <tr>\n",
       "      <td>14</td>\n",
       "      <td>сотрудник</td>\n",
       "      <td>1</td>\n",
       "      <td>820</td>\n",
       "    </tr>\n",
       "    <tr>\n",
       "      <td>15</td>\n",
       "      <td>сотрудник</td>\n",
       "      <td>2</td>\n",
       "      <td>37</td>\n",
       "    </tr>\n",
       "    <tr>\n",
       "      <td>16</td>\n",
       "      <td>сотрудник</td>\n",
       "      <td>3</td>\n",
       "      <td>12</td>\n",
       "    </tr>\n",
       "  </tbody>\n",
       "</table>\n",
       "</div>"
      ],
      "text/plain": [
       "        income_type  education_id  count_miss\n",
       "0       госслужащий             0          62\n",
       "1       госслужащий             1          77\n",
       "2       госслужащий             2           6\n",
       "3       госслужащий             3           2\n",
       "4         компаньон             0         188\n",
       "5         компаньон             1         299\n",
       "6         компаньон             2          20\n",
       "7         компаньон             3           1\n",
       "8         пенсионер             0          57\n",
       "9         пенсионер             1         344\n",
       "10        пенсионер             2           6\n",
       "11        пенсионер             3           6\n",
       "12  предприниматель             0           1\n",
       "13        сотрудник             0         236\n",
       "14        сотрудник             1         820\n",
       "15        сотрудник             2          37\n",
       "16        сотрудник             3          12"
      ]
     },
     "execution_count": 11,
     "metadata": {},
     "output_type": "execute_result"
    }
   ],
   "source": [
    "# подсчет числа пропусков в total_income для выбранных категорий\n",
    "total_income_miss_count = data[data['total_income'].isna()].groupby(['income_type', 'education_id'])['income_type'].agg(['count']).reset_index()\n",
    "total_income_miss_count.rename(columns={'count': 'count_miss'}, inplace=True)\n",
    "total_income_miss_count"
   ]
  },
  {
   "cell_type": "code",
   "execution_count": 12,
   "id": "9e691bc3",
   "metadata": {},
   "outputs": [
    {
     "data": {
      "text/html": [
       "<div>\n",
       "<style scoped>\n",
       "    .dataframe tbody tr th:only-of-type {\n",
       "        vertical-align: middle;\n",
       "    }\n",
       "\n",
       "    .dataframe tbody tr th {\n",
       "        vertical-align: top;\n",
       "    }\n",
       "\n",
       "    .dataframe thead th {\n",
       "        text-align: right;\n",
       "    }\n",
       "</style>\n",
       "<table border=\"1\" class=\"dataframe\">\n",
       "  <thead>\n",
       "    <tr style=\"text-align: right;\">\n",
       "      <th></th>\n",
       "      <th>income_type</th>\n",
       "      <th>education_id</th>\n",
       "      <th>median</th>\n",
       "      <th>count</th>\n",
       "      <th>count_miss</th>\n",
       "      <th>missed_proportion</th>\n",
       "    </tr>\n",
       "  </thead>\n",
       "  <tbody>\n",
       "    <tr>\n",
       "      <td>0</td>\n",
       "      <td>безработный</td>\n",
       "      <td>0</td>\n",
       "      <td>202722.511368</td>\n",
       "      <td>1</td>\n",
       "      <td>0.0</td>\n",
       "      <td>0.000000</td>\n",
       "    </tr>\n",
       "    <tr>\n",
       "      <td>1</td>\n",
       "      <td>безработный</td>\n",
       "      <td>1</td>\n",
       "      <td>59956.991984</td>\n",
       "      <td>1</td>\n",
       "      <td>0.0</td>\n",
       "      <td>0.000000</td>\n",
       "    </tr>\n",
       "    <tr>\n",
       "      <td>2</td>\n",
       "      <td>в декрете</td>\n",
       "      <td>1</td>\n",
       "      <td>53829.130729</td>\n",
       "      <td>1</td>\n",
       "      <td>0.0</td>\n",
       "      <td>0.000000</td>\n",
       "    </tr>\n",
       "    <tr>\n",
       "      <td>3</td>\n",
       "      <td>госслужащий</td>\n",
       "      <td>0</td>\n",
       "      <td>172511.107016</td>\n",
       "      <td>488</td>\n",
       "      <td>62.0</td>\n",
       "      <td>0.127049</td>\n",
       "    </tr>\n",
       "    <tr>\n",
       "      <td>4</td>\n",
       "      <td>госслужащий</td>\n",
       "      <td>1</td>\n",
       "      <td>136652.970357</td>\n",
       "      <td>771</td>\n",
       "      <td>77.0</td>\n",
       "      <td>0.099870</td>\n",
       "    </tr>\n",
       "    <tr>\n",
       "      <td>5</td>\n",
       "      <td>госслужащий</td>\n",
       "      <td>2</td>\n",
       "      <td>160592.345303</td>\n",
       "      <td>46</td>\n",
       "      <td>6.0</td>\n",
       "      <td>0.130435</td>\n",
       "    </tr>\n",
       "    <tr>\n",
       "      <td>6</td>\n",
       "      <td>госслужащий</td>\n",
       "      <td>3</td>\n",
       "      <td>148339.290825</td>\n",
       "      <td>6</td>\n",
       "      <td>2.0</td>\n",
       "      <td>0.333333</td>\n",
       "    </tr>\n",
       "    <tr>\n",
       "      <td>7</td>\n",
       "      <td>госслужащий</td>\n",
       "      <td>4</td>\n",
       "      <td>111392.231107</td>\n",
       "      <td>1</td>\n",
       "      <td>0.0</td>\n",
       "      <td>0.000000</td>\n",
       "    </tr>\n",
       "    <tr>\n",
       "      <td>8</td>\n",
       "      <td>компаньон</td>\n",
       "      <td>0</td>\n",
       "      <td>201785.400018</td>\n",
       "      <td>1600</td>\n",
       "      <td>188.0</td>\n",
       "      <td>0.117500</td>\n",
       "    </tr>\n",
       "    <tr>\n",
       "      <td>9</td>\n",
       "      <td>компаньон</td>\n",
       "      <td>1</td>\n",
       "      <td>159070.690289</td>\n",
       "      <td>2687</td>\n",
       "      <td>299.0</td>\n",
       "      <td>0.111277</td>\n",
       "    </tr>\n",
       "    <tr>\n",
       "      <td>10</td>\n",
       "      <td>компаньон</td>\n",
       "      <td>2</td>\n",
       "      <td>179867.152890</td>\n",
       "      <td>261</td>\n",
       "      <td>20.0</td>\n",
       "      <td>0.076628</td>\n",
       "    </tr>\n",
       "    <tr>\n",
       "      <td>11</td>\n",
       "      <td>компаньон</td>\n",
       "      <td>3</td>\n",
       "      <td>136798.905143</td>\n",
       "      <td>29</td>\n",
       "      <td>1.0</td>\n",
       "      <td>0.034483</td>\n",
       "    </tr>\n",
       "    <tr>\n",
       "      <td>12</td>\n",
       "      <td>пенсионер</td>\n",
       "      <td>0</td>\n",
       "      <td>144240.768611</td>\n",
       "      <td>520</td>\n",
       "      <td>57.0</td>\n",
       "      <td>0.109615</td>\n",
       "    </tr>\n",
       "    <tr>\n",
       "      <td>13</td>\n",
       "      <td>пенсионер</td>\n",
       "      <td>1</td>\n",
       "      <td>114842.854099</td>\n",
       "      <td>2793</td>\n",
       "      <td>344.0</td>\n",
       "      <td>0.123165</td>\n",
       "    </tr>\n",
       "    <tr>\n",
       "      <td>14</td>\n",
       "      <td>пенсионер</td>\n",
       "      <td>2</td>\n",
       "      <td>120136.896353</td>\n",
       "      <td>35</td>\n",
       "      <td>6.0</td>\n",
       "      <td>0.171429</td>\n",
       "    </tr>\n",
       "    <tr>\n",
       "      <td>15</td>\n",
       "      <td>пенсионер</td>\n",
       "      <td>3</td>\n",
       "      <td>102598.653164</td>\n",
       "      <td>93</td>\n",
       "      <td>6.0</td>\n",
       "      <td>0.064516</td>\n",
       "    </tr>\n",
       "    <tr>\n",
       "      <td>16</td>\n",
       "      <td>пенсионер</td>\n",
       "      <td>4</td>\n",
       "      <td>177088.845999</td>\n",
       "      <td>2</td>\n",
       "      <td>0.0</td>\n",
       "      <td>0.000000</td>\n",
       "    </tr>\n",
       "    <tr>\n",
       "      <td>17</td>\n",
       "      <td>предприниматель</td>\n",
       "      <td>0</td>\n",
       "      <td>499163.144947</td>\n",
       "      <td>1</td>\n",
       "      <td>1.0</td>\n",
       "      <td>1.000000</td>\n",
       "    </tr>\n",
       "    <tr>\n",
       "      <td>18</td>\n",
       "      <td>сотрудник</td>\n",
       "      <td>0</td>\n",
       "      <td>165640.744634</td>\n",
       "      <td>2105</td>\n",
       "      <td>236.0</td>\n",
       "      <td>0.112114</td>\n",
       "    </tr>\n",
       "    <tr>\n",
       "      <td>19</td>\n",
       "      <td>сотрудник</td>\n",
       "      <td>1</td>\n",
       "      <td>136555.108821</td>\n",
       "      <td>7440</td>\n",
       "      <td>820.0</td>\n",
       "      <td>0.110215</td>\n",
       "    </tr>\n",
       "    <tr>\n",
       "      <td>20</td>\n",
       "      <td>сотрудник</td>\n",
       "      <td>2</td>\n",
       "      <td>151308.937846</td>\n",
       "      <td>333</td>\n",
       "      <td>37.0</td>\n",
       "      <td>0.111111</td>\n",
       "    </tr>\n",
       "    <tr>\n",
       "      <td>21</td>\n",
       "      <td>сотрудник</td>\n",
       "      <td>3</td>\n",
       "      <td>125994.910603</td>\n",
       "      <td>133</td>\n",
       "      <td>12.0</td>\n",
       "      <td>0.090226</td>\n",
       "    </tr>\n",
       "    <tr>\n",
       "      <td>22</td>\n",
       "      <td>сотрудник</td>\n",
       "      <td>4</td>\n",
       "      <td>198570.757322</td>\n",
       "      <td>3</td>\n",
       "      <td>0.0</td>\n",
       "      <td>0.000000</td>\n",
       "    </tr>\n",
       "    <tr>\n",
       "      <td>23</td>\n",
       "      <td>студент</td>\n",
       "      <td>0</td>\n",
       "      <td>98201.625314</td>\n",
       "      <td>1</td>\n",
       "      <td>0.0</td>\n",
       "      <td>0.000000</td>\n",
       "    </tr>\n",
       "  </tbody>\n",
       "</table>\n",
       "</div>"
      ],
      "text/plain": [
       "        income_type  education_id         median  count  count_miss  \\\n",
       "0       безработный             0  202722.511368      1         0.0   \n",
       "1       безработный             1   59956.991984      1         0.0   \n",
       "2         в декрете             1   53829.130729      1         0.0   \n",
       "3       госслужащий             0  172511.107016    488        62.0   \n",
       "4       госслужащий             1  136652.970357    771        77.0   \n",
       "5       госслужащий             2  160592.345303     46         6.0   \n",
       "6       госслужащий             3  148339.290825      6         2.0   \n",
       "7       госслужащий             4  111392.231107      1         0.0   \n",
       "8         компаньон             0  201785.400018   1600       188.0   \n",
       "9         компаньон             1  159070.690289   2687       299.0   \n",
       "10        компаньон             2  179867.152890    261        20.0   \n",
       "11        компаньон             3  136798.905143     29         1.0   \n",
       "12        пенсионер             0  144240.768611    520        57.0   \n",
       "13        пенсионер             1  114842.854099   2793       344.0   \n",
       "14        пенсионер             2  120136.896353     35         6.0   \n",
       "15        пенсионер             3  102598.653164     93         6.0   \n",
       "16        пенсионер             4  177088.845999      2         0.0   \n",
       "17  предприниматель             0  499163.144947      1         1.0   \n",
       "18        сотрудник             0  165640.744634   2105       236.0   \n",
       "19        сотрудник             1  136555.108821   7440       820.0   \n",
       "20        сотрудник             2  151308.937846    333        37.0   \n",
       "21        сотрудник             3  125994.910603    133        12.0   \n",
       "22        сотрудник             4  198570.757322      3         0.0   \n",
       "23          студент             0   98201.625314      1         0.0   \n",
       "\n",
       "    missed_proportion  \n",
       "0            0.000000  \n",
       "1            0.000000  \n",
       "2            0.000000  \n",
       "3            0.127049  \n",
       "4            0.099870  \n",
       "5            0.130435  \n",
       "6            0.333333  \n",
       "7            0.000000  \n",
       "8            0.117500  \n",
       "9            0.111277  \n",
       "10           0.076628  \n",
       "11           0.034483  \n",
       "12           0.109615  \n",
       "13           0.123165  \n",
       "14           0.171429  \n",
       "15           0.064516  \n",
       "16           0.000000  \n",
       "17           1.000000  \n",
       "18           0.112114  \n",
       "19           0.110215  \n",
       "20           0.111111  \n",
       "21           0.090226  \n",
       "22           0.000000  \n",
       "23           0.000000  "
      ]
     },
     "execution_count": 12,
     "metadata": {},
     "output_type": "execute_result"
    }
   ],
   "source": [
    "# объединим значения из двух таблиц для наглядности, используем объединение outer, чтобы не упустить случаи, когда\n",
    "# пропуски для какой-либо категории есть, а данных по ней нет\n",
    "total_income_medians = total_income_medians.merge(total_income_miss_count, \n",
    "                                                  on=['income_type', 'education_id'], \n",
    "                                                  how='outer').fillna(0)\n",
    "total_income_medians['missed_proportion'] = total_income_medians['count_miss'] / total_income_medians['count']\n",
    "total_income_medians"
   ]
  },
  {
   "cell_type": "markdown",
   "id": "e0ce1aae",
   "metadata": {},
   "source": [
    "Видим, что для заполнения пропусков соотношение числа пропущенных значений в выбранных категориях к имеющимся данным в большинстве случаев не превышает 0.15, т.е. на один пропуск приходится более 6 наблюдений, так что разделение на указанные категории для заполнения медианой более-менее корректно."
   ]
  },
  {
   "cell_type": "code",
   "execution_count": 13,
   "id": "e7ebf437",
   "metadata": {},
   "outputs": [],
   "source": [
    "# заполняем пропуски выбранным способом\n",
    "data.loc[data['total_income'].isna(), 'total_income'] = data.groupby(['income_type', 'education_id'])['total_income'].apply(lambda x: x.fillna(x.median()))"
   ]
  },
  {
   "cell_type": "code",
   "execution_count": 14,
   "id": "089e6f84",
   "metadata": {},
   "outputs": [
    {
     "data": {
      "text/plain": [
       "0"
      ]
     },
     "execution_count": 14,
     "metadata": {},
     "output_type": "execute_result"
    }
   ],
   "source": [
    "# убедимся, что пропусков в 'total_income' не осталось\n",
    "data['total_income'].isna().sum()"
   ]
  },
  {
   "cell_type": "markdown",
   "id": "b00a8f3b",
   "metadata": {},
   "source": [
    "#### Заполнение пропусков gender"
   ]
  },
  {
   "cell_type": "markdown",
   "id": "70a1aaf9",
   "metadata": {},
   "source": [
    "В gender у нас есть одно странное значение XNA - либо это какая-то небинарная личность, либо пропуск (ошибка заполнения). Поскольку такое значение всего одно, заполним его по частотности (модой) - F."
   ]
  },
  {
   "cell_type": "code",
   "execution_count": 15,
   "id": "2669dc72",
   "metadata": {},
   "outputs": [
    {
     "data": {
      "text/plain": [
       "F      14236\n",
       "M       7288\n",
       "XNA        1\n",
       "Name: gender, dtype: int64"
      ]
     },
     "execution_count": 15,
     "metadata": {},
     "output_type": "execute_result"
    }
   ],
   "source": [
    "data['gender'].value_counts()"
   ]
  },
  {
   "cell_type": "code",
   "execution_count": 16,
   "id": "9aaf0016",
   "metadata": {},
   "outputs": [],
   "source": [
    "data.loc[data['gender'] == 'XNA', 'gender'] = 'F'"
   ]
  },
  {
   "cell_type": "code",
   "execution_count": 17,
   "id": "7560e874",
   "metadata": {},
   "outputs": [
    {
     "data": {
      "text/plain": [
       "F    14237\n",
       "M     7288\n",
       "Name: gender, dtype: int64"
      ]
     },
     "execution_count": 17,
     "metadata": {},
     "output_type": "execute_result"
    }
   ],
   "source": [
    "# убедимся, что все сработало\n",
    "data['gender'].value_counts()"
   ]
  },
  {
   "cell_type": "markdown",
   "id": "9d8b48bc",
   "metadata": {},
   "source": [
    "#### Заполнение пропусков days_employed"
   ]
  },
  {
   "cell_type": "markdown",
   "id": "126a12a3",
   "metadata": {},
   "source": [
    "В случае с days_employed до заполнения пропусков необходимо сначала исправить аномалии с отрицательным и слишком большим стажем, иначе полноценно заполнить пропуски не получится (см. график ниже). Хотя теория о том, что самая высокая корреляция между days_employed и dob_years подтвердилась (см. тепловую карту).\n",
    "\n",
    "Таким образом, заполнение пропусков произведем после корректировки аномалии в следующем разделе."
   ]
  },
  {
   "cell_type": "code",
   "execution_count": 18,
   "id": "621de142",
   "metadata": {
    "scrolled": false
   },
   "outputs": [
    {
     "data": {
      "image/png": "[encoded data removed]",
      "text/plain": [
       "<Figure size 1152x720 with 1 Axes>"
      ]
     },
     "metadata": {},
     "output_type": "display_data"
    }
   ],
   "source": [
    "# регрессионный график зависимости 'days_employed' от 'dob_years'\n",
    "sns.set(rc={'figure.figsize':(16,10)})\n",
    "sns.regplot(x='dob_years', y='days_employed', data=data);"
   ]
  },
  {
   "cell_type": "code",
   "execution_count": 19,
   "id": "bf39a6c0",
   "metadata": {
    "scrolled": false
   },
   "outputs": [
    {
     "data": {
      "image/png": "[encoded data removed]",
      "text/plain": [
       "<Figure size 1152x720 with 2 Axes>"
      ]
     },
     "metadata": {},
     "output_type": "display_data"
    }
   ],
   "source": [
    "# оценим зависимость количественных признаков друг от друга через матрицу корреляций\n",
    "corr = data.corr()\n",
    "\n",
    "# построим heatmap\n",
    "sns.heatmap(corr, \n",
    "            xticklabels=corr.columns,\n",
    "            yticklabels=corr.columns,\n",
    "           annot=True);"
   ]
  },
  {
   "cell_type": "markdown",
   "id": "d35e609b",
   "metadata": {},
   "source": [
    "### Проверка данных на аномалии и исправления."
   ]
  },
  {
   "cell_type": "markdown",
   "id": "8ff7af3d",
   "metadata": {},
   "source": [
    "Судя по проведенному исследованию, основные аномалии содержатся в признаках:\n",
    "- children: отрицательное количество детей, кол-во детей == 20.\n",
    "- days_employed: отрицательный трудовой стаж (причем таких значений очень много - даже в 75-процентиле) + слишком большие значения (максимальное значение > 400000 дней, это более 1000 лет).\n",
    "- dob_years: минимальный возраст клиента - 0 лет.\n",
    "\n",
    "Исследуем их подробнее. Начнем с dob_years, т.к. от него будет зависеть заполнение пропусков days_employed."
   ]
  },
  {
   "cell_type": "markdown",
   "id": "4d293d46",
   "metadata": {},
   "source": [
    "#### Аномалии dob_years"
   ]
  },
  {
   "cell_type": "code",
   "execution_count": 20,
   "id": "08b2b085",
   "metadata": {},
   "outputs": [
    {
     "data": {
      "image/png": "[encoded data removed]",
      "text/plain": [
       "<Figure size 1152x720 with 1 Axes>"
      ]
     },
     "metadata": {},
     "output_type": "display_data"
    }
   ],
   "source": [
    "sns.set(rc={'figure.figsize':(16,10)})\n",
    "sns.countplot(data['dob_years']);"
   ]
  },
  {
   "cell_type": "markdown",
   "id": "2f88bcbd",
   "metadata": {},
   "source": [
    "Визуально, кроме выбросов со значениями 0, никакого криминала не видно.\n",
    "\n",
    "Посчитаем, какая доля аномалий с dob_years == 0."
   ]
  },
  {
   "cell_type": "code",
   "execution_count": 21,
   "id": "a0d978c1",
   "metadata": {},
   "outputs": [
    {
     "data": {
      "text/plain": [
       "0.004692218350754936"
      ]
     },
     "execution_count": 21,
     "metadata": {},
     "output_type": "execute_result"
    }
   ],
   "source": [
    "data[data['dob_years'] == 0]['dob_years'].count() / data.shape[0]"
   ]
  },
  {
   "cell_type": "code",
   "execution_count": 22,
   "id": "19317d03",
   "metadata": {},
   "outputs": [
    {
     "data": {
      "text/html": [
       "<div>\n",
       "<style scoped>\n",
       "    .dataframe tbody tr th:only-of-type {\n",
       "        vertical-align: middle;\n",
       "    }\n",
       "\n",
       "    .dataframe tbody tr th {\n",
       "        vertical-align: top;\n",
       "    }\n",
       "\n",
       "    .dataframe thead th {\n",
       "        text-align: right;\n",
       "    }\n",
       "</style>\n",
       "<table border=\"1\" class=\"dataframe\">\n",
       "  <thead>\n",
       "    <tr style=\"text-align: right;\">\n",
       "      <th></th>\n",
       "      <th>children</th>\n",
       "      <th>days_employed</th>\n",
       "      <th>dob_years</th>\n",
       "      <th>education</th>\n",
       "      <th>education_id</th>\n",
       "      <th>family_status</th>\n",
       "      <th>family_status_id</th>\n",
       "      <th>gender</th>\n",
       "      <th>income_type</th>\n",
       "      <th>debt</th>\n",
       "      <th>total_income</th>\n",
       "      <th>purpose</th>\n",
       "    </tr>\n",
       "  </thead>\n",
       "  <tbody>\n",
       "    <tr>\n",
       "      <td>19116</td>\n",
       "      <td>0</td>\n",
       "      <td>331558.550969</td>\n",
       "      <td>0</td>\n",
       "      <td>высшее</td>\n",
       "      <td>0</td>\n",
       "      <td>женат / замужем</td>\n",
       "      <td>0</td>\n",
       "      <td>F</td>\n",
       "      <td>пенсионер</td>\n",
       "      <td>0</td>\n",
       "      <td>91791.878400</td>\n",
       "      <td>покупка коммерческой недвижимости</td>\n",
       "    </tr>\n",
       "    <tr>\n",
       "      <td>19371</td>\n",
       "      <td>1</td>\n",
       "      <td>-2356.250615</td>\n",
       "      <td>0</td>\n",
       "      <td>высшее</td>\n",
       "      <td>0</td>\n",
       "      <td>женат / замужем</td>\n",
       "      <td>0</td>\n",
       "      <td>F</td>\n",
       "      <td>компаньон</td>\n",
       "      <td>0</td>\n",
       "      <td>77936.218285</td>\n",
       "      <td>автомобиль</td>\n",
       "    </tr>\n",
       "    <tr>\n",
       "      <td>19829</td>\n",
       "      <td>0</td>\n",
       "      <td>NaN</td>\n",
       "      <td>0</td>\n",
       "      <td>среднее</td>\n",
       "      <td>1</td>\n",
       "      <td>женат / замужем</td>\n",
       "      <td>0</td>\n",
       "      <td>F</td>\n",
       "      <td>сотрудник</td>\n",
       "      <td>0</td>\n",
       "      <td>136555.108821</td>\n",
       "      <td>жилье</td>\n",
       "    </tr>\n",
       "    <tr>\n",
       "      <td>20462</td>\n",
       "      <td>0</td>\n",
       "      <td>338734.868540</td>\n",
       "      <td>0</td>\n",
       "      <td>среднее</td>\n",
       "      <td>1</td>\n",
       "      <td>женат / замужем</td>\n",
       "      <td>0</td>\n",
       "      <td>F</td>\n",
       "      <td>пенсионер</td>\n",
       "      <td>0</td>\n",
       "      <td>259193.920299</td>\n",
       "      <td>покупка своего жилья</td>\n",
       "    </tr>\n",
       "    <tr>\n",
       "      <td>20577</td>\n",
       "      <td>0</td>\n",
       "      <td>331741.271455</td>\n",
       "      <td>0</td>\n",
       "      <td>среднее</td>\n",
       "      <td>1</td>\n",
       "      <td>Не женат / не замужем</td>\n",
       "      <td>4</td>\n",
       "      <td>F</td>\n",
       "      <td>пенсионер</td>\n",
       "      <td>0</td>\n",
       "      <td>129788.762899</td>\n",
       "      <td>недвижимость</td>\n",
       "    </tr>\n",
       "    <tr>\n",
       "      <td>21179</td>\n",
       "      <td>2</td>\n",
       "      <td>-108.967042</td>\n",
       "      <td>0</td>\n",
       "      <td>высшее</td>\n",
       "      <td>0</td>\n",
       "      <td>женат / замужем</td>\n",
       "      <td>0</td>\n",
       "      <td>M</td>\n",
       "      <td>компаньон</td>\n",
       "      <td>0</td>\n",
       "      <td>240702.007382</td>\n",
       "      <td>строительство жилой недвижимости</td>\n",
       "    </tr>\n",
       "    <tr>\n",
       "      <td>21313</td>\n",
       "      <td>0</td>\n",
       "      <td>-1268.487728</td>\n",
       "      <td>0</td>\n",
       "      <td>среднее</td>\n",
       "      <td>1</td>\n",
       "      <td>Не женат / не замужем</td>\n",
       "      <td>4</td>\n",
       "      <td>M</td>\n",
       "      <td>сотрудник</td>\n",
       "      <td>0</td>\n",
       "      <td>152419.184851</td>\n",
       "      <td>операции с жильем</td>\n",
       "    </tr>\n",
       "  </tbody>\n",
       "</table>\n",
       "</div>"
      ],
      "text/plain": [
       "       children  days_employed  dob_years education  education_id  \\\n",
       "19116         0  331558.550969          0    высшее             0   \n",
       "19371         1   -2356.250615          0    высшее             0   \n",
       "19829         0            NaN          0   среднее             1   \n",
       "20462         0  338734.868540          0   среднее             1   \n",
       "20577         0  331741.271455          0   среднее             1   \n",
       "21179         2    -108.967042          0    высшее             0   \n",
       "21313         0   -1268.487728          0   среднее             1   \n",
       "\n",
       "               family_status  family_status_id gender income_type  debt  \\\n",
       "19116        женат / замужем                 0      F   пенсионер     0   \n",
       "19371        женат / замужем                 0      F   компаньон     0   \n",
       "19829        женат / замужем                 0      F   сотрудник     0   \n",
       "20462        женат / замужем                 0      F   пенсионер     0   \n",
       "20577  Не женат / не замужем                 4      F   пенсионер     0   \n",
       "21179        женат / замужем                 0      M   компаньон     0   \n",
       "21313  Не женат / не замужем                 4      M   сотрудник     0   \n",
       "\n",
       "        total_income                            purpose  \n",
       "19116   91791.878400  покупка коммерческой недвижимости  \n",
       "19371   77936.218285                         автомобиль  \n",
       "19829  136555.108821                              жилье  \n",
       "20462  259193.920299               покупка своего жилья  \n",
       "20577  129788.762899                       недвижимость  \n",
       "21179  240702.007382   строительство жилой недвижимости  \n",
       "21313  152419.184851                  операции с жильем  "
      ]
     },
     "execution_count": 22,
     "metadata": {},
     "output_type": "execute_result"
    }
   ],
   "source": [
    "# посмотрим на данные глазами\n",
    "data[data['dob_years'] == 0].tail(7)"
   ]
  },
  {
   "cell_type": "markdown",
   "id": "2b80a87d",
   "metadata": {},
   "source": [
    "Аномалий не очень много - порядка 0.5%, но они неоднородны (встречаются для разных категорий людей - статус занятий, пол, уровень дохода, образования и т.д.), попробуем заменить их на медианный возраст по категории ('income_type' + 'family_status_id')."
   ]
  },
  {
   "cell_type": "code",
   "execution_count": 23,
   "id": "d2d8c599",
   "metadata": {
    "scrolled": false
   },
   "outputs": [
    {
     "data": {
      "text/html": [
       "<div>\n",
       "<style scoped>\n",
       "    .dataframe tbody tr th:only-of-type {\n",
       "        vertical-align: middle;\n",
       "    }\n",
       "\n",
       "    .dataframe tbody tr th {\n",
       "        vertical-align: top;\n",
       "    }\n",
       "\n",
       "    .dataframe thead th {\n",
       "        text-align: right;\n",
       "    }\n",
       "</style>\n",
       "<table border=\"1\" class=\"dataframe\">\n",
       "  <thead>\n",
       "    <tr style=\"text-align: right;\">\n",
       "      <th></th>\n",
       "      <th>income_type</th>\n",
       "      <th>family_status_id</th>\n",
       "      <th>dob_years</th>\n",
       "    </tr>\n",
       "  </thead>\n",
       "  <tbody>\n",
       "    <tr>\n",
       "      <td>0</td>\n",
       "      <td>безработный</td>\n",
       "      <td>0</td>\n",
       "      <td>31</td>\n",
       "    </tr>\n",
       "    <tr>\n",
       "      <td>1</td>\n",
       "      <td>безработный</td>\n",
       "      <td>1</td>\n",
       "      <td>45</td>\n",
       "    </tr>\n",
       "    <tr>\n",
       "      <td>2</td>\n",
       "      <td>в декрете</td>\n",
       "      <td>0</td>\n",
       "      <td>39</td>\n",
       "    </tr>\n",
       "    <tr>\n",
       "      <td>3</td>\n",
       "      <td>госслужащий</td>\n",
       "      <td>0</td>\n",
       "      <td>40</td>\n",
       "    </tr>\n",
       "    <tr>\n",
       "      <td>4</td>\n",
       "      <td>госслужащий</td>\n",
       "      <td>1</td>\n",
       "      <td>41</td>\n",
       "    </tr>\n",
       "    <tr>\n",
       "      <td>5</td>\n",
       "      <td>госслужащий</td>\n",
       "      <td>2</td>\n",
       "      <td>53</td>\n",
       "    </tr>\n",
       "    <tr>\n",
       "      <td>6</td>\n",
       "      <td>госслужащий</td>\n",
       "      <td>3</td>\n",
       "      <td>42</td>\n",
       "    </tr>\n",
       "    <tr>\n",
       "      <td>7</td>\n",
       "      <td>госслужащий</td>\n",
       "      <td>4</td>\n",
       "      <td>34</td>\n",
       "    </tr>\n",
       "    <tr>\n",
       "      <td>8</td>\n",
       "      <td>компаньон</td>\n",
       "      <td>0</td>\n",
       "      <td>40</td>\n",
       "    </tr>\n",
       "    <tr>\n",
       "      <td>9</td>\n",
       "      <td>компаньон</td>\n",
       "      <td>1</td>\n",
       "      <td>38</td>\n",
       "    </tr>\n",
       "    <tr>\n",
       "      <td>10</td>\n",
       "      <td>компаньон</td>\n",
       "      <td>2</td>\n",
       "      <td>53</td>\n",
       "    </tr>\n",
       "    <tr>\n",
       "      <td>11</td>\n",
       "      <td>компаньон</td>\n",
       "      <td>3</td>\n",
       "      <td>43</td>\n",
       "    </tr>\n",
       "    <tr>\n",
       "      <td>12</td>\n",
       "      <td>компаньон</td>\n",
       "      <td>4</td>\n",
       "      <td>32</td>\n",
       "    </tr>\n",
       "    <tr>\n",
       "      <td>13</td>\n",
       "      <td>пенсионер</td>\n",
       "      <td>0</td>\n",
       "      <td>59</td>\n",
       "    </tr>\n",
       "    <tr>\n",
       "      <td>14</td>\n",
       "      <td>пенсионер</td>\n",
       "      <td>1</td>\n",
       "      <td>59</td>\n",
       "    </tr>\n",
       "    <tr>\n",
       "      <td>15</td>\n",
       "      <td>пенсионер</td>\n",
       "      <td>2</td>\n",
       "      <td>61</td>\n",
       "    </tr>\n",
       "    <tr>\n",
       "      <td>16</td>\n",
       "      <td>пенсионер</td>\n",
       "      <td>3</td>\n",
       "      <td>60</td>\n",
       "    </tr>\n",
       "    <tr>\n",
       "      <td>17</td>\n",
       "      <td>пенсионер</td>\n",
       "      <td>4</td>\n",
       "      <td>60</td>\n",
       "    </tr>\n",
       "    <tr>\n",
       "      <td>18</td>\n",
       "      <td>предприниматель</td>\n",
       "      <td>0</td>\n",
       "      <td>58</td>\n",
       "    </tr>\n",
       "    <tr>\n",
       "      <td>19</td>\n",
       "      <td>предприниматель</td>\n",
       "      <td>1</td>\n",
       "      <td>27</td>\n",
       "    </tr>\n",
       "    <tr>\n",
       "      <td>20</td>\n",
       "      <td>сотрудник</td>\n",
       "      <td>0</td>\n",
       "      <td>40</td>\n",
       "    </tr>\n",
       "    <tr>\n",
       "      <td>21</td>\n",
       "      <td>сотрудник</td>\n",
       "      <td>1</td>\n",
       "      <td>39</td>\n",
       "    </tr>\n",
       "    <tr>\n",
       "      <td>22</td>\n",
       "      <td>сотрудник</td>\n",
       "      <td>2</td>\n",
       "      <td>51</td>\n",
       "    </tr>\n",
       "    <tr>\n",
       "      <td>23</td>\n",
       "      <td>сотрудник</td>\n",
       "      <td>3</td>\n",
       "      <td>43</td>\n",
       "    </tr>\n",
       "    <tr>\n",
       "      <td>24</td>\n",
       "      <td>сотрудник</td>\n",
       "      <td>4</td>\n",
       "      <td>33</td>\n",
       "    </tr>\n",
       "    <tr>\n",
       "      <td>25</td>\n",
       "      <td>студент</td>\n",
       "      <td>4</td>\n",
       "      <td>22</td>\n",
       "    </tr>\n",
       "  </tbody>\n",
       "</table>\n",
       "</div>"
      ],
      "text/plain": [
       "        income_type  family_status_id  dob_years\n",
       "0       безработный                 0         31\n",
       "1       безработный                 1         45\n",
       "2         в декрете                 0         39\n",
       "3       госслужащий                 0         40\n",
       "4       госслужащий                 1         41\n",
       "5       госслужащий                 2         53\n",
       "6       госслужащий                 3         42\n",
       "7       госслужащий                 4         34\n",
       "8         компаньон                 0         40\n",
       "9         компаньон                 1         38\n",
       "10        компаньон                 2         53\n",
       "11        компаньон                 3         43\n",
       "12        компаньон                 4         32\n",
       "13        пенсионер                 0         59\n",
       "14        пенсионер                 1         59\n",
       "15        пенсионер                 2         61\n",
       "16        пенсионер                 3         60\n",
       "17        пенсионер                 4         60\n",
       "18  предприниматель                 0         58\n",
       "19  предприниматель                 1         27\n",
       "20        сотрудник                 0         40\n",
       "21        сотрудник                 1         39\n",
       "22        сотрудник                 2         51\n",
       "23        сотрудник                 3         43\n",
       "24        сотрудник                 4         33\n",
       "25          студент                 4         22"
      ]
     },
     "execution_count": 23,
     "metadata": {},
     "output_type": "execute_result"
    }
   ],
   "source": [
    "data.groupby(['income_type', 'family_status_id'])['dob_years'].median().reset_index()"
   ]
  },
  {
   "cell_type": "code",
   "execution_count": 24,
   "id": "61661f5f",
   "metadata": {},
   "outputs": [],
   "source": [
    "data.loc[data['dob_years'] == 0, 'dob_years'] = None\n",
    "data.loc[data['dob_years'].isna(), 'dob_years'] = data.groupby(['income_type', 'family_status_id'])['dob_years'].apply(lambda x: x.fillna(x.median()))"
   ]
  },
  {
   "cell_type": "code",
   "execution_count": 25,
   "id": "f6d64673",
   "metadata": {},
   "outputs": [
    {
     "data": {
      "text/plain": [
       "0"
      ]
     },
     "execution_count": 25,
     "metadata": {},
     "output_type": "execute_result"
    }
   ],
   "source": [
    "# проверяем\n",
    "data[data['dob_years'] == 0]['dob_years'].count()"
   ]
  },
  {
   "cell_type": "markdown",
   "id": "a506801c",
   "metadata": {},
   "source": [
    "#### Аномалии days_employed"
   ]
  },
  {
   "cell_type": "markdown",
   "id": "852a298e",
   "metadata": {},
   "source": [
    "Исходя из описания данных, в days_employed содержится общий трудовой стаж в днях, таким образом ни отрицательных значений, ни слишком больших (300000-400000) тут быть не может.\n",
    "\n",
    "С учетом максимального возраста заемщика в данных (75 лет), максимальный стаж может быть $365\\cdot61 = 22265$ дней.\n",
    "Это значение получится при полной занятости в течение жизни с 14 лет.\n",
    "\n",
    "Найдем сколько в данных значений больше указанного (долю от всех данных)."
   ]
  },
  {
   "cell_type": "code",
   "execution_count": 26,
   "id": "da44b7ea",
   "metadata": {},
   "outputs": [
    {
     "data": {
      "text/plain": [
       "0.16004645760743322"
      ]
     },
     "execution_count": 26,
     "metadata": {},
     "output_type": "execute_result"
    }
   ],
   "source": [
    "# данные берем по модулю, чтобы учитывать выбросы в отрицательных значениях\n",
    "data[abs(data['days_employed'] > 22265)]['days_employed'].count() / data.shape[0]"
   ]
  },
  {
   "cell_type": "code",
   "execution_count": 27,
   "id": "c615651d",
   "metadata": {},
   "outputs": [
    {
     "data": {
      "text/html": [
       "<div>\n",
       "<style scoped>\n",
       "    .dataframe tbody tr th:only-of-type {\n",
       "        vertical-align: middle;\n",
       "    }\n",
       "\n",
       "    .dataframe tbody tr th {\n",
       "        vertical-align: top;\n",
       "    }\n",
       "\n",
       "    .dataframe thead th {\n",
       "        text-align: right;\n",
       "    }\n",
       "</style>\n",
       "<table border=\"1\" class=\"dataframe\">\n",
       "  <thead>\n",
       "    <tr style=\"text-align: right;\">\n",
       "      <th></th>\n",
       "      <th>children</th>\n",
       "      <th>days_employed</th>\n",
       "      <th>dob_years</th>\n",
       "      <th>education</th>\n",
       "      <th>education_id</th>\n",
       "      <th>family_status</th>\n",
       "      <th>family_status_id</th>\n",
       "      <th>gender</th>\n",
       "      <th>income_type</th>\n",
       "      <th>debt</th>\n",
       "      <th>total_income</th>\n",
       "      <th>purpose</th>\n",
       "    </tr>\n",
       "  </thead>\n",
       "  <tbody>\n",
       "    <tr>\n",
       "      <td>4</td>\n",
       "      <td>0</td>\n",
       "      <td>340266.072047</td>\n",
       "      <td>53.0</td>\n",
       "      <td>среднее</td>\n",
       "      <td>1</td>\n",
       "      <td>гражданский брак</td>\n",
       "      <td>1</td>\n",
       "      <td>F</td>\n",
       "      <td>пенсионер</td>\n",
       "      <td>0</td>\n",
       "      <td>158616.077870</td>\n",
       "      <td>сыграть свадьбу</td>\n",
       "    </tr>\n",
       "    <tr>\n",
       "      <td>18</td>\n",
       "      <td>0</td>\n",
       "      <td>400281.136913</td>\n",
       "      <td>53.0</td>\n",
       "      <td>среднее</td>\n",
       "      <td>1</td>\n",
       "      <td>вдовец / вдова</td>\n",
       "      <td>2</td>\n",
       "      <td>F</td>\n",
       "      <td>пенсионер</td>\n",
       "      <td>0</td>\n",
       "      <td>56823.777243</td>\n",
       "      <td>на покупку подержанного автомобиля</td>\n",
       "    </tr>\n",
       "    <tr>\n",
       "      <td>24</td>\n",
       "      <td>1</td>\n",
       "      <td>338551.952911</td>\n",
       "      <td>57.0</td>\n",
       "      <td>среднее</td>\n",
       "      <td>1</td>\n",
       "      <td>Не женат / не замужем</td>\n",
       "      <td>4</td>\n",
       "      <td>F</td>\n",
       "      <td>пенсионер</td>\n",
       "      <td>0</td>\n",
       "      <td>290547.235997</td>\n",
       "      <td>операции с коммерческой недвижимостью</td>\n",
       "    </tr>\n",
       "    <tr>\n",
       "      <td>25</td>\n",
       "      <td>0</td>\n",
       "      <td>363548.489348</td>\n",
       "      <td>67.0</td>\n",
       "      <td>среднее</td>\n",
       "      <td>1</td>\n",
       "      <td>женат / замужем</td>\n",
       "      <td>0</td>\n",
       "      <td>M</td>\n",
       "      <td>пенсионер</td>\n",
       "      <td>0</td>\n",
       "      <td>55112.757732</td>\n",
       "      <td>покупка недвижимости</td>\n",
       "    </tr>\n",
       "    <tr>\n",
       "      <td>30</td>\n",
       "      <td>1</td>\n",
       "      <td>335581.668515</td>\n",
       "      <td>62.0</td>\n",
       "      <td>среднее</td>\n",
       "      <td>1</td>\n",
       "      <td>женат / замужем</td>\n",
       "      <td>0</td>\n",
       "      <td>F</td>\n",
       "      <td>пенсионер</td>\n",
       "      <td>0</td>\n",
       "      <td>171456.067993</td>\n",
       "      <td>операции с коммерческой недвижимостью</td>\n",
       "    </tr>\n",
       "    <tr>\n",
       "      <td>35</td>\n",
       "      <td>0</td>\n",
       "      <td>394021.072184</td>\n",
       "      <td>68.0</td>\n",
       "      <td>среднее</td>\n",
       "      <td>1</td>\n",
       "      <td>гражданский брак</td>\n",
       "      <td>1</td>\n",
       "      <td>M</td>\n",
       "      <td>пенсионер</td>\n",
       "      <td>0</td>\n",
       "      <td>77805.677436</td>\n",
       "      <td>на проведение свадьбы</td>\n",
       "    </tr>\n",
       "    <tr>\n",
       "      <td>50</td>\n",
       "      <td>0</td>\n",
       "      <td>353731.432338</td>\n",
       "      <td>63.0</td>\n",
       "      <td>среднее</td>\n",
       "      <td>1</td>\n",
       "      <td>женат / замужем</td>\n",
       "      <td>0</td>\n",
       "      <td>F</td>\n",
       "      <td>пенсионер</td>\n",
       "      <td>0</td>\n",
       "      <td>92342.730612</td>\n",
       "      <td>автомобили</td>\n",
       "    </tr>\n",
       "    <tr>\n",
       "      <td>56</td>\n",
       "      <td>0</td>\n",
       "      <td>370145.087237</td>\n",
       "      <td>64.0</td>\n",
       "      <td>среднее</td>\n",
       "      <td>1</td>\n",
       "      <td>вдовец / вдова</td>\n",
       "      <td>2</td>\n",
       "      <td>F</td>\n",
       "      <td>пенсионер</td>\n",
       "      <td>0</td>\n",
       "      <td>149141.043533</td>\n",
       "      <td>образование</td>\n",
       "    </tr>\n",
       "  </tbody>\n",
       "</table>\n",
       "</div>"
      ],
      "text/plain": [
       "    children  days_employed  dob_years education  education_id  \\\n",
       "4          0  340266.072047       53.0   среднее             1   \n",
       "18         0  400281.136913       53.0   среднее             1   \n",
       "24         1  338551.952911       57.0   среднее             1   \n",
       "25         0  363548.489348       67.0   среднее             1   \n",
       "30         1  335581.668515       62.0   среднее             1   \n",
       "35         0  394021.072184       68.0   среднее             1   \n",
       "50         0  353731.432338       63.0   среднее             1   \n",
       "56         0  370145.087237       64.0   среднее             1   \n",
       "\n",
       "            family_status  family_status_id gender income_type  debt  \\\n",
       "4        гражданский брак                 1      F   пенсионер     0   \n",
       "18         вдовец / вдова                 2      F   пенсионер     0   \n",
       "24  Не женат / не замужем                 4      F   пенсионер     0   \n",
       "25        женат / замужем                 0      M   пенсионер     0   \n",
       "30        женат / замужем                 0      F   пенсионер     0   \n",
       "35       гражданский брак                 1      M   пенсионер     0   \n",
       "50        женат / замужем                 0      F   пенсионер     0   \n",
       "56         вдовец / вдова                 2      F   пенсионер     0   \n",
       "\n",
       "     total_income                                purpose  \n",
       "4   158616.077870                        сыграть свадьбу  \n",
       "18   56823.777243     на покупку подержанного автомобиля  \n",
       "24  290547.235997  операции с коммерческой недвижимостью  \n",
       "25   55112.757732                   покупка недвижимости  \n",
       "30  171456.067993  операции с коммерческой недвижимостью  \n",
       "35   77805.677436                  на проведение свадьбы  \n",
       "50   92342.730612                             автомобили  \n",
       "56  149141.043533                            образование  "
      ]
     },
     "execution_count": 27,
     "metadata": {},
     "output_type": "execute_result"
    }
   ],
   "source": [
    "# посмотрим глазами\n",
    "data[abs(data['days_employed'] > 22265)].head(8)"
   ]
  },
  {
   "cell_type": "markdown",
   "id": "0f4bec59",
   "metadata": {},
   "source": [
    "Аномалия в 16% данных. Интересно, что указанная аномалия, похоже, затрагивает в основном возрастных заемщиков (пенсионеров с большим возрастом). Проверим."
   ]
  },
  {
   "cell_type": "code",
   "execution_count": 28,
   "id": "0ba3c274",
   "metadata": {},
   "outputs": [
    {
     "data": {
      "text/plain": [
       "пенсионер      3443\n",
       "безработный       2\n",
       "Name: income_type, dtype: int64"
      ]
     },
     "execution_count": 28,
     "metadata": {},
     "output_type": "execute_result"
    }
   ],
   "source": [
    "data[abs(data['days_employed'] > 22265)]['income_type'].value_counts()"
   ]
  },
  {
   "cell_type": "markdown",
   "id": "a92337fe",
   "metadata": {},
   "source": [
    "Так и есть, аномалия почти целиком относится к категории пенсионеров. При общем размере категории в 3856 человека, она покрывает ее почти полностью. Посмотрим на данные дальше и потом примем решение о корректировке."
   ]
  },
  {
   "cell_type": "markdown",
   "id": "580f7f42",
   "metadata": {},
   "source": [
    "Посмотрим сколько данных со значениями < 0. "
   ]
  },
  {
   "cell_type": "code",
   "execution_count": 29,
   "id": "f6729db7",
   "metadata": {},
   "outputs": [
    {
     "data": {
      "text/plain": [
       "0.7389547038327526"
      ]
     },
     "execution_count": 29,
     "metadata": {},
     "output_type": "execute_result"
    }
   ],
   "source": [
    "data[data['days_employed'] < 0]['days_employed'].count() / data.shape[0]"
   ]
  },
  {
   "cell_type": "code",
   "execution_count": 30,
   "id": "cdd014f7",
   "metadata": {},
   "outputs": [
    {
     "data": {
      "text/html": [
       "<div>\n",
       "<style scoped>\n",
       "    .dataframe tbody tr th:only-of-type {\n",
       "        vertical-align: middle;\n",
       "    }\n",
       "\n",
       "    .dataframe tbody tr th {\n",
       "        vertical-align: top;\n",
       "    }\n",
       "\n",
       "    .dataframe thead th {\n",
       "        text-align: right;\n",
       "    }\n",
       "</style>\n",
       "<table border=\"1\" class=\"dataframe\">\n",
       "  <thead>\n",
       "    <tr style=\"text-align: right;\">\n",
       "      <th></th>\n",
       "      <th>children</th>\n",
       "      <th>days_employed</th>\n",
       "      <th>dob_years</th>\n",
       "      <th>education</th>\n",
       "      <th>education_id</th>\n",
       "      <th>family_status</th>\n",
       "      <th>family_status_id</th>\n",
       "      <th>gender</th>\n",
       "      <th>income_type</th>\n",
       "      <th>debt</th>\n",
       "      <th>total_income</th>\n",
       "      <th>purpose</th>\n",
       "    </tr>\n",
       "  </thead>\n",
       "  <tbody>\n",
       "    <tr>\n",
       "      <td>0</td>\n",
       "      <td>1</td>\n",
       "      <td>-8437.673028</td>\n",
       "      <td>42.0</td>\n",
       "      <td>высшее</td>\n",
       "      <td>0</td>\n",
       "      <td>женат / замужем</td>\n",
       "      <td>0</td>\n",
       "      <td>F</td>\n",
       "      <td>сотрудник</td>\n",
       "      <td>0</td>\n",
       "      <td>253875.639453</td>\n",
       "      <td>покупка жилья</td>\n",
       "    </tr>\n",
       "    <tr>\n",
       "      <td>1</td>\n",
       "      <td>1</td>\n",
       "      <td>-4024.803754</td>\n",
       "      <td>36.0</td>\n",
       "      <td>среднее</td>\n",
       "      <td>1</td>\n",
       "      <td>женат / замужем</td>\n",
       "      <td>0</td>\n",
       "      <td>F</td>\n",
       "      <td>сотрудник</td>\n",
       "      <td>0</td>\n",
       "      <td>112080.014102</td>\n",
       "      <td>приобретение автомобиля</td>\n",
       "    </tr>\n",
       "    <tr>\n",
       "      <td>2</td>\n",
       "      <td>0</td>\n",
       "      <td>-5623.422610</td>\n",
       "      <td>33.0</td>\n",
       "      <td>Среднее</td>\n",
       "      <td>1</td>\n",
       "      <td>женат / замужем</td>\n",
       "      <td>0</td>\n",
       "      <td>M</td>\n",
       "      <td>сотрудник</td>\n",
       "      <td>0</td>\n",
       "      <td>145885.952297</td>\n",
       "      <td>покупка жилья</td>\n",
       "    </tr>\n",
       "    <tr>\n",
       "      <td>3</td>\n",
       "      <td>3</td>\n",
       "      <td>-4124.747207</td>\n",
       "      <td>32.0</td>\n",
       "      <td>среднее</td>\n",
       "      <td>1</td>\n",
       "      <td>женат / замужем</td>\n",
       "      <td>0</td>\n",
       "      <td>M</td>\n",
       "      <td>сотрудник</td>\n",
       "      <td>0</td>\n",
       "      <td>267628.550329</td>\n",
       "      <td>дополнительное образование</td>\n",
       "    </tr>\n",
       "    <tr>\n",
       "      <td>5</td>\n",
       "      <td>0</td>\n",
       "      <td>-926.185831</td>\n",
       "      <td>27.0</td>\n",
       "      <td>высшее</td>\n",
       "      <td>0</td>\n",
       "      <td>гражданский брак</td>\n",
       "      <td>1</td>\n",
       "      <td>M</td>\n",
       "      <td>компаньон</td>\n",
       "      <td>0</td>\n",
       "      <td>255763.565419</td>\n",
       "      <td>покупка жилья</td>\n",
       "    </tr>\n",
       "    <tr>\n",
       "      <td>6</td>\n",
       "      <td>0</td>\n",
       "      <td>-2879.202052</td>\n",
       "      <td>43.0</td>\n",
       "      <td>высшее</td>\n",
       "      <td>0</td>\n",
       "      <td>женат / замужем</td>\n",
       "      <td>0</td>\n",
       "      <td>F</td>\n",
       "      <td>компаньон</td>\n",
       "      <td>0</td>\n",
       "      <td>240525.971920</td>\n",
       "      <td>операции с жильем</td>\n",
       "    </tr>\n",
       "    <tr>\n",
       "      <td>7</td>\n",
       "      <td>0</td>\n",
       "      <td>-152.779569</td>\n",
       "      <td>50.0</td>\n",
       "      <td>СРЕДНЕЕ</td>\n",
       "      <td>1</td>\n",
       "      <td>женат / замужем</td>\n",
       "      <td>0</td>\n",
       "      <td>M</td>\n",
       "      <td>сотрудник</td>\n",
       "      <td>0</td>\n",
       "      <td>135823.934197</td>\n",
       "      <td>образование</td>\n",
       "    </tr>\n",
       "    <tr>\n",
       "      <td>8</td>\n",
       "      <td>2</td>\n",
       "      <td>-6929.865299</td>\n",
       "      <td>35.0</td>\n",
       "      <td>ВЫСШЕЕ</td>\n",
       "      <td>0</td>\n",
       "      <td>гражданский брак</td>\n",
       "      <td>1</td>\n",
       "      <td>F</td>\n",
       "      <td>сотрудник</td>\n",
       "      <td>0</td>\n",
       "      <td>95856.832424</td>\n",
       "      <td>на проведение свадьбы</td>\n",
       "    </tr>\n",
       "  </tbody>\n",
       "</table>\n",
       "</div>"
      ],
      "text/plain": [
       "   children  days_employed  dob_years education  education_id  \\\n",
       "0         1   -8437.673028       42.0    высшее             0   \n",
       "1         1   -4024.803754       36.0   среднее             1   \n",
       "2         0   -5623.422610       33.0   Среднее             1   \n",
       "3         3   -4124.747207       32.0   среднее             1   \n",
       "5         0    -926.185831       27.0    высшее             0   \n",
       "6         0   -2879.202052       43.0    высшее             0   \n",
       "7         0    -152.779569       50.0   СРЕДНЕЕ             1   \n",
       "8         2   -6929.865299       35.0    ВЫСШЕЕ             0   \n",
       "\n",
       "      family_status  family_status_id gender income_type  debt   total_income  \\\n",
       "0   женат / замужем                 0      F   сотрудник     0  253875.639453   \n",
       "1   женат / замужем                 0      F   сотрудник     0  112080.014102   \n",
       "2   женат / замужем                 0      M   сотрудник     0  145885.952297   \n",
       "3   женат / замужем                 0      M   сотрудник     0  267628.550329   \n",
       "5  гражданский брак                 1      M   компаньон     0  255763.565419   \n",
       "6   женат / замужем                 0      F   компаньон     0  240525.971920   \n",
       "7   женат / замужем                 0      M   сотрудник     0  135823.934197   \n",
       "8  гражданский брак                 1      F   сотрудник     0   95856.832424   \n",
       "\n",
       "                      purpose  \n",
       "0               покупка жилья  \n",
       "1     приобретение автомобиля  \n",
       "2               покупка жилья  \n",
       "3  дополнительное образование  \n",
       "5               покупка жилья  \n",
       "6           операции с жильем  \n",
       "7                 образование  \n",
       "8       на проведение свадьбы  "
      ]
     },
     "execution_count": 30,
     "metadata": {},
     "output_type": "execute_result"
    }
   ],
   "source": [
    "# посмотрим глазами\n",
    "data[data['days_employed'] < 0].head(8)"
   ]
  },
  {
   "cell_type": "markdown",
   "id": "5006a87c",
   "metadata": {},
   "source": [
    "Почти 74%. Сложно представить чем могут быть вызваны такие аномалии, возможно ошибкой при переносе данных из каких-либо файлов, где они были представлены в виде ненумерованного списка с -. Альтернативно могла произойти техническая ошибка в формуле при переводе данных стажа, например из полных лет или месяцев в дни. \n",
    "\n",
    "В отличии от аномалий со слишком большим стажем, здесь присутствует разнородные группы заемщиков.\n",
    "\n",
    "Сначала переведем все отрицательные данные в положительные."
   ]
  },
  {
   "cell_type": "code",
   "execution_count": 31,
   "id": "b78e5e94",
   "metadata": {},
   "outputs": [],
   "source": [
    "data['days_employed'] = data['days_employed'].abs()"
   ]
  },
  {
   "cell_type": "code",
   "execution_count": 32,
   "id": "d75460fd",
   "metadata": {},
   "outputs": [
    {
     "data": {
      "text/plain": [
       "0"
      ]
     },
     "execution_count": 32,
     "metadata": {},
     "output_type": "execute_result"
    }
   ],
   "source": [
    "# проверяем\n",
    "data[data['days_employed'] < 0]['days_employed'].count()"
   ]
  },
  {
   "cell_type": "markdown",
   "id": "4dd305e3",
   "metadata": {},
   "source": [
    "Посмотрим на аномально большие значения на графике"
   ]
  },
  {
   "cell_type": "code",
   "execution_count": 33,
   "id": "07fd7424",
   "metadata": {},
   "outputs": [
    {
     "name": "stdout",
     "output_type": "stream",
     "text": [
      "Минимум: 328728.72060451825, максимум: 401755.40047533\n"
     ]
    },
    {
     "data": {
      "image/png": "[encoded data removed]",
      "text/plain": [
       "<Figure size 1152x720 with 1 Axes>"
      ]
     },
     "metadata": {},
     "output_type": "display_data"
    }
   ],
   "source": [
    "sns.distplot(data[data['days_employed'] > 22265]['days_employed'])\n",
    "print(f'Минимум: {data[data[\"days_employed\"] > 22265][\"days_employed\"].min()}, максимум: {data[data[\"days_employed\"] > 22265][\"days_employed\"].max()}')"
   ]
  },
  {
   "cell_type": "markdown",
   "id": "8bf97977",
   "metadata": {},
   "source": [
    "Данные распределены практически равномерно в диапазоне от 328728 до 401755 дней. Если предположить, что единицей измерения для данной аномалии являются не дни, а, например, часы, то можно получить следующий интервал значений:"
   ]
  },
  {
   "cell_type": "code",
   "execution_count": 34,
   "id": "a167ce9c",
   "metadata": {},
   "outputs": [
    {
     "name": "stdout",
     "output_type": "stream",
     "text": [
      "Минимум: 13697.03002518826, максимум: 16739.80835313875\n"
     ]
    }
   ],
   "source": [
    "print(f'Минимум: {data[data[\"days_employed\"] > 22265][\"days_employed\"].min() / 24}, максимум: {data[data[\"days_employed\"] > 22265][\"days_employed\"].max() / 24}')"
   ]
  },
  {
   "cell_type": "markdown",
   "id": "6118ea70",
   "metadata": {},
   "source": [
    "Это соответствует стажу от 37 до 45 лет и, в принципе, выглядит достаточно корректным для пенсионеров. Произведем такую замену данных."
   ]
  },
  {
   "cell_type": "code",
   "execution_count": 35,
   "id": "17e836e0",
   "metadata": {},
   "outputs": [],
   "source": [
    "data.loc[data['days_employed'] > 22265, 'days_employed'] /= 24"
   ]
  },
  {
   "cell_type": "code",
   "execution_count": 36,
   "id": "d9b2c984",
   "metadata": {},
   "outputs": [
    {
     "data": {
      "text/plain": [
       "0"
      ]
     },
     "execution_count": 36,
     "metadata": {},
     "output_type": "execute_result"
    }
   ],
   "source": [
    "# проверяем\n",
    "data[data['days_employed'] > 22265]['days_employed'].count()"
   ]
  },
  {
   "cell_type": "markdown",
   "id": "0e06fac6",
   "metadata": {},
   "source": [
    "Дополнительно попробуем оценить, не появились ли у нас ошибки, при которых у человека с маленьким возрастом, слишком большой стаж. Возьмем за критерий условие, при котором стаж отличается от возраста менее, чем на 14 лет."
   ]
  },
  {
   "cell_type": "code",
   "execution_count": 37,
   "id": "27f9c3fe",
   "metadata": {},
   "outputs": [
    {
     "data": {
      "text/plain": [
       "54"
      ]
     },
     "execution_count": 37,
     "metadata": {},
     "output_type": "execute_result"
    }
   ],
   "source": [
    "data[data['dob_years'] < data['days_employed'] / 365]['dob_years'].count()"
   ]
  },
  {
   "cell_type": "markdown",
   "id": "59cdc5c9",
   "metadata": {},
   "source": [
    "У нас есть 54 подобных аномалии, посмотрим на них глазами."
   ]
  },
  {
   "cell_type": "code",
   "execution_count": 38,
   "id": "b8b7a9e3",
   "metadata": {
    "scrolled": true
   },
   "outputs": [
    {
     "data": {
      "text/html": [
       "<div>\n",
       "<style scoped>\n",
       "    .dataframe tbody tr th:only-of-type {\n",
       "        vertical-align: middle;\n",
       "    }\n",
       "\n",
       "    .dataframe tbody tr th {\n",
       "        vertical-align: top;\n",
       "    }\n",
       "\n",
       "    .dataframe thead th {\n",
       "        text-align: right;\n",
       "    }\n",
       "</style>\n",
       "<table border=\"1\" class=\"dataframe\">\n",
       "  <thead>\n",
       "    <tr style=\"text-align: right;\">\n",
       "      <th></th>\n",
       "      <th>children</th>\n",
       "      <th>days_employed</th>\n",
       "      <th>dob_years</th>\n",
       "      <th>education</th>\n",
       "      <th>education_id</th>\n",
       "      <th>family_status</th>\n",
       "      <th>family_status_id</th>\n",
       "      <th>gender</th>\n",
       "      <th>income_type</th>\n",
       "      <th>debt</th>\n",
       "      <th>total_income</th>\n",
       "      <th>purpose</th>\n",
       "    </tr>\n",
       "  </thead>\n",
       "  <tbody>\n",
       "    <tr>\n",
       "      <td>157</td>\n",
       "      <td>0</td>\n",
       "      <td>14517.251167</td>\n",
       "      <td>38.0</td>\n",
       "      <td>среднее</td>\n",
       "      <td>1</td>\n",
       "      <td>женат / замужем</td>\n",
       "      <td>0</td>\n",
       "      <td>F</td>\n",
       "      <td>пенсионер</td>\n",
       "      <td>1</td>\n",
       "      <td>113560.650035</td>\n",
       "      <td>сделка с автомобилем</td>\n",
       "    </tr>\n",
       "    <tr>\n",
       "      <td>751</td>\n",
       "      <td>0</td>\n",
       "      <td>16281.477669</td>\n",
       "      <td>41.0</td>\n",
       "      <td>среднее</td>\n",
       "      <td>1</td>\n",
       "      <td>женат / замужем</td>\n",
       "      <td>0</td>\n",
       "      <td>M</td>\n",
       "      <td>пенсионер</td>\n",
       "      <td>0</td>\n",
       "      <td>151898.693438</td>\n",
       "      <td>операции со своей недвижимостью</td>\n",
       "    </tr>\n",
       "    <tr>\n",
       "      <td>776</td>\n",
       "      <td>0</td>\n",
       "      <td>15222.356680</td>\n",
       "      <td>38.0</td>\n",
       "      <td>среднее</td>\n",
       "      <td>1</td>\n",
       "      <td>женат / замужем</td>\n",
       "      <td>0</td>\n",
       "      <td>F</td>\n",
       "      <td>пенсионер</td>\n",
       "      <td>0</td>\n",
       "      <td>73859.425084</td>\n",
       "      <td>покупка недвижимости</td>\n",
       "    </tr>\n",
       "    <tr>\n",
       "      <td>1242</td>\n",
       "      <td>0</td>\n",
       "      <td>13948.510826</td>\n",
       "      <td>22.0</td>\n",
       "      <td>Среднее</td>\n",
       "      <td>1</td>\n",
       "      <td>Не женат / не замужем</td>\n",
       "      <td>4</td>\n",
       "      <td>F</td>\n",
       "      <td>пенсионер</td>\n",
       "      <td>0</td>\n",
       "      <td>89368.600062</td>\n",
       "      <td>получение высшего образования</td>\n",
       "    </tr>\n",
       "    <tr>\n",
       "      <td>1383</td>\n",
       "      <td>0</td>\n",
       "      <td>14741.783820</td>\n",
       "      <td>37.0</td>\n",
       "      <td>среднее</td>\n",
       "      <td>1</td>\n",
       "      <td>вдовец / вдова</td>\n",
       "      <td>2</td>\n",
       "      <td>F</td>\n",
       "      <td>пенсионер</td>\n",
       "      <td>0</td>\n",
       "      <td>216452.226085</td>\n",
       "      <td>строительство недвижимости</td>\n",
       "    </tr>\n",
       "  </tbody>\n",
       "</table>\n",
       "</div>"
      ],
      "text/plain": [
       "      children  days_employed  dob_years education  education_id  \\\n",
       "157          0   14517.251167       38.0   среднее             1   \n",
       "751          0   16281.477669       41.0   среднее             1   \n",
       "776          0   15222.356680       38.0   среднее             1   \n",
       "1242         0   13948.510826       22.0   Среднее             1   \n",
       "1383         0   14741.783820       37.0   среднее             1   \n",
       "\n",
       "              family_status  family_status_id gender income_type  debt  \\\n",
       "157         женат / замужем                 0      F   пенсионер     1   \n",
       "751         женат / замужем                 0      M   пенсионер     0   \n",
       "776         женат / замужем                 0      F   пенсионер     0   \n",
       "1242  Не женат / не замужем                 4      F   пенсионер     0   \n",
       "1383         вдовец / вдова                 2      F   пенсионер     0   \n",
       "\n",
       "       total_income                          purpose  \n",
       "157   113560.650035             сделка с автомобилем  \n",
       "751   151898.693438  операции со своей недвижимостью  \n",
       "776    73859.425084             покупка недвижимости  \n",
       "1242   89368.600062    получение высшего образования  \n",
       "1383  216452.226085       строительство недвижимости  "
      ]
     },
     "execution_count": 38,
     "metadata": {},
     "output_type": "execute_result"
    }
   ],
   "source": [
    "data[data['dob_years'] < data['days_employed'] / 365].head(5)"
   ]
  },
  {
   "cell_type": "markdown",
   "id": "2d427aea",
   "metadata": {},
   "source": [
    "Аномалия снова возникла преимущественно для пенсионеров, но сейчас распространяется на пенсионеров \"молодых\" (возраст не соответствует типичному статусу пенсионера).\n",
    "\n",
    "Можно предположить, что данные люди относятся к пенсионерам по инвалидности с рождения. Возможно, стаж указан с момента начала получения ими выплат - с рождения. Проверим."
   ]
  },
  {
   "cell_type": "code",
   "execution_count": 39,
   "id": "91265d42",
   "metadata": {},
   "outputs": [
    {
     "data": {
      "text/html": [
       "<div>\n",
       "<style scoped>\n",
       "    .dataframe tbody tr th:only-of-type {\n",
       "        vertical-align: middle;\n",
       "    }\n",
       "\n",
       "    .dataframe tbody tr th {\n",
       "        vertical-align: top;\n",
       "    }\n",
       "\n",
       "    .dataframe thead th {\n",
       "        text-align: right;\n",
       "    }\n",
       "</style>\n",
       "<table border=\"1\" class=\"dataframe\">\n",
       "  <thead>\n",
       "    <tr style=\"text-align: right;\">\n",
       "      <th></th>\n",
       "      <th>days_employed</th>\n",
       "      <th>dob_years</th>\n",
       "      <th>years_employed</th>\n",
       "    </tr>\n",
       "  </thead>\n",
       "  <tbody>\n",
       "    <tr>\n",
       "      <td>157</td>\n",
       "      <td>14517.251167</td>\n",
       "      <td>38.0</td>\n",
       "      <td>39.773291</td>\n",
       "    </tr>\n",
       "    <tr>\n",
       "      <td>751</td>\n",
       "      <td>16281.477669</td>\n",
       "      <td>41.0</td>\n",
       "      <td>44.606788</td>\n",
       "    </tr>\n",
       "    <tr>\n",
       "      <td>776</td>\n",
       "      <td>15222.356680</td>\n",
       "      <td>38.0</td>\n",
       "      <td>41.705087</td>\n",
       "    </tr>\n",
       "    <tr>\n",
       "      <td>1242</td>\n",
       "      <td>13948.510826</td>\n",
       "      <td>22.0</td>\n",
       "      <td>38.215098</td>\n",
       "    </tr>\n",
       "    <tr>\n",
       "      <td>1383</td>\n",
       "      <td>14741.783820</td>\n",
       "      <td>37.0</td>\n",
       "      <td>40.388449</td>\n",
       "    </tr>\n",
       "    <tr>\n",
       "      <td>1446</td>\n",
       "      <td>14122.485068</td>\n",
       "      <td>37.0</td>\n",
       "      <td>38.691740</td>\n",
       "    </tr>\n",
       "    <tr>\n",
       "      <td>1637</td>\n",
       "      <td>16635.852021</td>\n",
       "      <td>39.0</td>\n",
       "      <td>45.577677</td>\n",
       "    </tr>\n",
       "    <tr>\n",
       "      <td>1752</td>\n",
       "      <td>16249.126643</td>\n",
       "      <td>38.0</td>\n",
       "      <td>44.518155</td>\n",
       "    </tr>\n",
       "  </tbody>\n",
       "</table>\n",
       "</div>"
      ],
      "text/plain": [
       "      days_employed  dob_years  years_employed\n",
       "157    14517.251167       38.0       39.773291\n",
       "751    16281.477669       41.0       44.606788\n",
       "776    15222.356680       38.0       41.705087\n",
       "1242   13948.510826       22.0       38.215098\n",
       "1383   14741.783820       37.0       40.388449\n",
       "1446   14122.485068       37.0       38.691740\n",
       "1637   16635.852021       39.0       45.577677\n",
       "1752   16249.126643       38.0       44.518155"
      ]
     },
     "execution_count": 39,
     "metadata": {},
     "output_type": "execute_result"
    }
   ],
   "source": [
    "data_anomaly = data[data['dob_years'] < data['days_employed'] / 365][['days_employed', 'dob_years']].copy()\n",
    "data_anomaly['years_employed'] = data_anomaly['days_employed'] / 365\n",
    "data_anomaly.head(8)"
   ]
  },
  {
   "cell_type": "markdown",
   "id": "87b75741",
   "metadata": {},
   "source": [
    "Теория не подтвердилась, почти у всех \"молодых\" пенсионеров стаж в годах оказывается больше их возраста. \n",
    "Исправление данных ошибок скорее потребует дополнительного бизнес-анализа, поэтому корректировку данной аномалии, ввиду ее малочисленности, производить не будем, чтобы не ухудшить ситуацию неправильными предположениями."
   ]
  },
  {
   "cell_type": "markdown",
   "id": "8f5168b3",
   "metadata": {},
   "source": [
    "Теперь можем заполнить пропуски в данных 'days_employed'. У нас может быть два варианта - заполнение медианой из самого столбца 'days_employed' или с использованием столбца 'dob_years' с учетом высокой линейной корреляции между ними. С учетом их высокой корреляции, один из столбцов для будущей модели машинного обучения можно было бы отбросить, но сейчас такой задачи нет."
   ]
  },
  {
   "cell_type": "markdown",
   "id": "0be09a8d",
   "metadata": {},
   "source": [
    "Проверим корреляцию после корректировки аномалий в данных."
   ]
  },
  {
   "cell_type": "code",
   "execution_count": 40,
   "id": "2f7c7763",
   "metadata": {
    "scrolled": false
   },
   "outputs": [
    {
     "data": {
      "image/png": "[encoded data removed]",
      "text/plain": [
       "<Figure size 1152x720 with 2 Axes>"
      ]
     },
     "metadata": {},
     "output_type": "display_data"
    }
   ],
   "source": [
    "# оценим зависимость количественных признаков друг от друга через матрицу корреляций\n",
    "corr = data[['days_employed', 'dob_years']].corr()\n",
    "\n",
    "# построим heatmap\n",
    "sns.heatmap(corr, \n",
    "            xticklabels=corr.columns,\n",
    "            yticklabels=corr.columns,\n",
    "           annot=True);"
   ]
  },
  {
   "cell_type": "markdown",
   "id": "28a2fdc2",
   "metadata": {},
   "source": [
    "Корреляция даже немного увеличилась (0.65 вместо 0.58). Посмотрим на регрессионный график."
   ]
  },
  {
   "cell_type": "code",
   "execution_count": 41,
   "id": "037e3a62",
   "metadata": {},
   "outputs": [
    {
     "data": {
      "text/plain": [
       "<matplotlib.axes._subplots.AxesSubplot at 0x7f1d519db3d0>"
      ]
     },
     "execution_count": 41,
     "metadata": {},
     "output_type": "execute_result"
    },
    {
     "data": {
      "image/png": "[encoded data removed]",
      "text/plain": [
       "<Figure size 1152x720 with 1 Axes>"
      ]
     },
     "metadata": {},
     "output_type": "display_data"
    }
   ],
   "source": [
    "# регрессионный график зависимости 'days_employed' от 'dob_years'\n",
    "sns.set(rc={'figure.figsize':(16,10)})\n",
    "sns.regplot(x='dob_years', y='days_employed', data=data)"
   ]
  },
  {
   "cell_type": "markdown",
   "id": "f4a87bcf",
   "metadata": {},
   "source": [
    "График улучшился, но заполнение пропусков с использованием признака 'dob_years' с учетом настолько большого разброса, все равно представляется менее корректным, чем заполнение медианой. Заполним пропуски медианной по категории 'income_type'."
   ]
  },
  {
   "cell_type": "code",
   "execution_count": 42,
   "id": "f79f487f",
   "metadata": {},
   "outputs": [
    {
     "data": {
      "text/plain": [
       "income_type\n",
       "безработный        15267.235531\n",
       "в декрете           3296.759962\n",
       "госслужащий         2689.368353\n",
       "компаньон           1547.382223\n",
       "пенсионер          15217.221094\n",
       "предприниматель      520.848083\n",
       "сотрудник           1574.202821\n",
       "студент              578.751554\n",
       "Name: days_employed, dtype: float64"
      ]
     },
     "execution_count": 42,
     "metadata": {},
     "output_type": "execute_result"
    }
   ],
   "source": [
    "data.groupby('income_type')['days_employed'].median()"
   ]
  },
  {
   "cell_type": "code",
   "execution_count": 43,
   "id": "ff5adf6c",
   "metadata": {},
   "outputs": [],
   "source": [
    "data.loc[data['days_employed'].isna(), 'days_employed'] = data.groupby('income_type')['days_employed'].apply(lambda x: x.fillna(x.median()))"
   ]
  },
  {
   "cell_type": "code",
   "execution_count": 44,
   "id": "63e1c25d",
   "metadata": {},
   "outputs": [
    {
     "data": {
      "text/plain": [
       "0"
      ]
     },
     "execution_count": 44,
     "metadata": {},
     "output_type": "execute_result"
    }
   ],
   "source": [
    "# проверяем, что пропусков не осталось\n",
    "data[data['days_employed'].isna()]['days_employed'].count()"
   ]
  },
  {
   "cell_type": "markdown",
   "id": "351889a3",
   "metadata": {},
   "source": [
    "#### Аномалии children"
   ]
  },
  {
   "cell_type": "markdown",
   "id": "5c9e60da",
   "metadata": {},
   "source": [
    "В признаке children два вида аномалий - отрицательное количество детей и количество детей == 20."
   ]
  },
  {
   "cell_type": "code",
   "execution_count": 45,
   "id": "46e7dc21",
   "metadata": {},
   "outputs": [
    {
     "data": {
      "text/plain": [
       " 0     14149\n",
       " 1      4818\n",
       " 2      2055\n",
       " 3       330\n",
       " 20       76\n",
       "-1        47\n",
       " 4        41\n",
       " 5         9\n",
       "Name: children, dtype: int64"
      ]
     },
     "execution_count": 45,
     "metadata": {},
     "output_type": "execute_result"
    }
   ],
   "source": [
    "data['children'].value_counts()"
   ]
  },
  {
   "cell_type": "markdown",
   "id": "62c368aa",
   "metadata": {},
   "source": [
    "Посмотрим на каждую из аномалий глазами."
   ]
  },
  {
   "cell_type": "code",
   "execution_count": 46,
   "id": "10f4f57c",
   "metadata": {},
   "outputs": [
    {
     "data": {
      "text/html": [
       "<div>\n",
       "<style scoped>\n",
       "    .dataframe tbody tr th:only-of-type {\n",
       "        vertical-align: middle;\n",
       "    }\n",
       "\n",
       "    .dataframe tbody tr th {\n",
       "        vertical-align: top;\n",
       "    }\n",
       "\n",
       "    .dataframe thead th {\n",
       "        text-align: right;\n",
       "    }\n",
       "</style>\n",
       "<table border=\"1\" class=\"dataframe\">\n",
       "  <thead>\n",
       "    <tr style=\"text-align: right;\">\n",
       "      <th></th>\n",
       "      <th>children</th>\n",
       "      <th>days_employed</th>\n",
       "      <th>dob_years</th>\n",
       "      <th>education</th>\n",
       "      <th>education_id</th>\n",
       "      <th>family_status</th>\n",
       "      <th>family_status_id</th>\n",
       "      <th>gender</th>\n",
       "      <th>income_type</th>\n",
       "      <th>debt</th>\n",
       "      <th>total_income</th>\n",
       "      <th>purpose</th>\n",
       "    </tr>\n",
       "  </thead>\n",
       "  <tbody>\n",
       "    <tr>\n",
       "      <td>291</td>\n",
       "      <td>-1</td>\n",
       "      <td>4417.703588</td>\n",
       "      <td>46.0</td>\n",
       "      <td>среднее</td>\n",
       "      <td>1</td>\n",
       "      <td>гражданский брак</td>\n",
       "      <td>1</td>\n",
       "      <td>F</td>\n",
       "      <td>сотрудник</td>\n",
       "      <td>0</td>\n",
       "      <td>102816.346412</td>\n",
       "      <td>профильное образование</td>\n",
       "    </tr>\n",
       "    <tr>\n",
       "      <td>705</td>\n",
       "      <td>-1</td>\n",
       "      <td>902.084528</td>\n",
       "      <td>50.0</td>\n",
       "      <td>среднее</td>\n",
       "      <td>1</td>\n",
       "      <td>женат / замужем</td>\n",
       "      <td>0</td>\n",
       "      <td>F</td>\n",
       "      <td>госслужащий</td>\n",
       "      <td>0</td>\n",
       "      <td>137882.899271</td>\n",
       "      <td>приобретение автомобиля</td>\n",
       "    </tr>\n",
       "    <tr>\n",
       "      <td>742</td>\n",
       "      <td>-1</td>\n",
       "      <td>3174.456205</td>\n",
       "      <td>57.0</td>\n",
       "      <td>среднее</td>\n",
       "      <td>1</td>\n",
       "      <td>женат / замужем</td>\n",
       "      <td>0</td>\n",
       "      <td>F</td>\n",
       "      <td>сотрудник</td>\n",
       "      <td>0</td>\n",
       "      <td>64268.044444</td>\n",
       "      <td>дополнительное образование</td>\n",
       "    </tr>\n",
       "    <tr>\n",
       "      <td>800</td>\n",
       "      <td>-1</td>\n",
       "      <td>14582.827176</td>\n",
       "      <td>54.0</td>\n",
       "      <td>среднее</td>\n",
       "      <td>1</td>\n",
       "      <td>Не женат / не замужем</td>\n",
       "      <td>4</td>\n",
       "      <td>F</td>\n",
       "      <td>пенсионер</td>\n",
       "      <td>0</td>\n",
       "      <td>86293.724153</td>\n",
       "      <td>дополнительное образование</td>\n",
       "    </tr>\n",
       "    <tr>\n",
       "      <td>941</td>\n",
       "      <td>-1</td>\n",
       "      <td>15217.221094</td>\n",
       "      <td>57.0</td>\n",
       "      <td>Среднее</td>\n",
       "      <td>1</td>\n",
       "      <td>женат / замужем</td>\n",
       "      <td>0</td>\n",
       "      <td>F</td>\n",
       "      <td>пенсионер</td>\n",
       "      <td>0</td>\n",
       "      <td>114842.854099</td>\n",
       "      <td>на покупку своего автомобиля</td>\n",
       "    </tr>\n",
       "    <tr>\n",
       "      <td>1363</td>\n",
       "      <td>-1</td>\n",
       "      <td>1195.264956</td>\n",
       "      <td>55.0</td>\n",
       "      <td>СРЕДНЕЕ</td>\n",
       "      <td>1</td>\n",
       "      <td>женат / замужем</td>\n",
       "      <td>0</td>\n",
       "      <td>F</td>\n",
       "      <td>компаньон</td>\n",
       "      <td>0</td>\n",
       "      <td>69550.699692</td>\n",
       "      <td>профильное образование</td>\n",
       "    </tr>\n",
       "    <tr>\n",
       "      <td>1929</td>\n",
       "      <td>-1</td>\n",
       "      <td>1461.303336</td>\n",
       "      <td>38.0</td>\n",
       "      <td>среднее</td>\n",
       "      <td>1</td>\n",
       "      <td>Не женат / не замужем</td>\n",
       "      <td>4</td>\n",
       "      <td>M</td>\n",
       "      <td>сотрудник</td>\n",
       "      <td>0</td>\n",
       "      <td>109121.569013</td>\n",
       "      <td>покупка жилья</td>\n",
       "    </tr>\n",
       "    <tr>\n",
       "      <td>2073</td>\n",
       "      <td>-1</td>\n",
       "      <td>2539.761232</td>\n",
       "      <td>42.0</td>\n",
       "      <td>среднее</td>\n",
       "      <td>1</td>\n",
       "      <td>в разводе</td>\n",
       "      <td>3</td>\n",
       "      <td>F</td>\n",
       "      <td>компаньон</td>\n",
       "      <td>0</td>\n",
       "      <td>162638.609373</td>\n",
       "      <td>покупка жилья</td>\n",
       "    </tr>\n",
       "  </tbody>\n",
       "</table>\n",
       "</div>"
      ],
      "text/plain": [
       "      children  days_employed  dob_years education  education_id  \\\n",
       "291         -1    4417.703588       46.0   среднее             1   \n",
       "705         -1     902.084528       50.0   среднее             1   \n",
       "742         -1    3174.456205       57.0   среднее             1   \n",
       "800         -1   14582.827176       54.0   среднее             1   \n",
       "941         -1   15217.221094       57.0   Среднее             1   \n",
       "1363        -1    1195.264956       55.0   СРЕДНЕЕ             1   \n",
       "1929        -1    1461.303336       38.0   среднее             1   \n",
       "2073        -1    2539.761232       42.0   среднее             1   \n",
       "\n",
       "              family_status  family_status_id gender  income_type  debt  \\\n",
       "291        гражданский брак                 1      F    сотрудник     0   \n",
       "705         женат / замужем                 0      F  госслужащий     0   \n",
       "742         женат / замужем                 0      F    сотрудник     0   \n",
       "800   Не женат / не замужем                 4      F    пенсионер     0   \n",
       "941         женат / замужем                 0      F    пенсионер     0   \n",
       "1363        женат / замужем                 0      F    компаньон     0   \n",
       "1929  Не женат / не замужем                 4      M    сотрудник     0   \n",
       "2073              в разводе                 3      F    компаньон     0   \n",
       "\n",
       "       total_income                       purpose  \n",
       "291   102816.346412        профильное образование  \n",
       "705   137882.899271       приобретение автомобиля  \n",
       "742    64268.044444    дополнительное образование  \n",
       "800    86293.724153    дополнительное образование  \n",
       "941   114842.854099  на покупку своего автомобиля  \n",
       "1363   69550.699692        профильное образование  \n",
       "1929  109121.569013                 покупка жилья  \n",
       "2073  162638.609373                 покупка жилья  "
      ]
     },
     "execution_count": 46,
     "metadata": {},
     "output_type": "execute_result"
    }
   ],
   "source": [
    "data[data['children'] == -1].head(8)"
   ]
  },
  {
   "cell_type": "code",
   "execution_count": 47,
   "id": "be747570",
   "metadata": {},
   "outputs": [
    {
     "data": {
      "text/plain": [
       "family_status\n",
       "женат / замужем          29\n",
       "гражданский брак          5\n",
       "Не женат / не замужем     5\n",
       "вдовец / вдова            4\n",
       "в разводе                 4\n",
       "Name: children, dtype: int64"
      ]
     },
     "execution_count": 47,
     "metadata": {},
     "output_type": "execute_result"
    }
   ],
   "source": [
    "# сгруппируем данные по family_status\n",
    "data[data['children'] == -1].groupby('family_status')['children'].count().sort_values(ascending=False)"
   ]
  },
  {
   "cell_type": "markdown",
   "id": "7ec566b1",
   "metadata": {},
   "source": [
    "Больше всего отрицательное количество детей у заемщиков в браке, поэтому можем предположить, что наиболее корректно -1 заменить на 1 (у женатых людей, тем более немолодого возраста, скорее всего есть дети)."
   ]
  },
  {
   "cell_type": "code",
   "execution_count": 48,
   "id": "7b6e3035",
   "metadata": {},
   "outputs": [],
   "source": [
    "# произведем корректировку\n",
    "data.loc[data['children'] == -1, 'children'] = 1"
   ]
  },
  {
   "cell_type": "markdown",
   "id": "b630414c",
   "metadata": {},
   "source": [
    "Проверяем аномалию с 20 детьми (странно, что все время встречается именно число 20, а не в том числе 10, 30 и т.д., что можно было бы объяснить человеческим фактором при заполнении - лишний ноль)."
   ]
  },
  {
   "cell_type": "code",
   "execution_count": 49,
   "id": "097bbe6f",
   "metadata": {},
   "outputs": [
    {
     "data": {
      "text/html": [
       "<div>\n",
       "<style scoped>\n",
       "    .dataframe tbody tr th:only-of-type {\n",
       "        vertical-align: middle;\n",
       "    }\n",
       "\n",
       "    .dataframe tbody tr th {\n",
       "        vertical-align: top;\n",
       "    }\n",
       "\n",
       "    .dataframe thead th {\n",
       "        text-align: right;\n",
       "    }\n",
       "</style>\n",
       "<table border=\"1\" class=\"dataframe\">\n",
       "  <thead>\n",
       "    <tr style=\"text-align: right;\">\n",
       "      <th></th>\n",
       "      <th>children</th>\n",
       "      <th>days_employed</th>\n",
       "      <th>dob_years</th>\n",
       "      <th>education</th>\n",
       "      <th>education_id</th>\n",
       "      <th>family_status</th>\n",
       "      <th>family_status_id</th>\n",
       "      <th>gender</th>\n",
       "      <th>income_type</th>\n",
       "      <th>debt</th>\n",
       "      <th>total_income</th>\n",
       "      <th>purpose</th>\n",
       "    </tr>\n",
       "  </thead>\n",
       "  <tbody>\n",
       "    <tr>\n",
       "      <td>606</td>\n",
       "      <td>20</td>\n",
       "      <td>880.221113</td>\n",
       "      <td>21.0</td>\n",
       "      <td>среднее</td>\n",
       "      <td>1</td>\n",
       "      <td>женат / замужем</td>\n",
       "      <td>0</td>\n",
       "      <td>M</td>\n",
       "      <td>компаньон</td>\n",
       "      <td>0</td>\n",
       "      <td>145334.865002</td>\n",
       "      <td>покупка жилья</td>\n",
       "    </tr>\n",
       "    <tr>\n",
       "      <td>720</td>\n",
       "      <td>20</td>\n",
       "      <td>855.595512</td>\n",
       "      <td>44.0</td>\n",
       "      <td>среднее</td>\n",
       "      <td>1</td>\n",
       "      <td>женат / замужем</td>\n",
       "      <td>0</td>\n",
       "      <td>F</td>\n",
       "      <td>компаньон</td>\n",
       "      <td>0</td>\n",
       "      <td>112998.738649</td>\n",
       "      <td>покупка недвижимости</td>\n",
       "    </tr>\n",
       "    <tr>\n",
       "      <td>1074</td>\n",
       "      <td>20</td>\n",
       "      <td>3310.411598</td>\n",
       "      <td>56.0</td>\n",
       "      <td>среднее</td>\n",
       "      <td>1</td>\n",
       "      <td>женат / замужем</td>\n",
       "      <td>0</td>\n",
       "      <td>F</td>\n",
       "      <td>сотрудник</td>\n",
       "      <td>1</td>\n",
       "      <td>229518.537004</td>\n",
       "      <td>получение образования</td>\n",
       "    </tr>\n",
       "    <tr>\n",
       "      <td>2510</td>\n",
       "      <td>20</td>\n",
       "      <td>2714.161249</td>\n",
       "      <td>59.0</td>\n",
       "      <td>высшее</td>\n",
       "      <td>0</td>\n",
       "      <td>вдовец / вдова</td>\n",
       "      <td>2</td>\n",
       "      <td>F</td>\n",
       "      <td>сотрудник</td>\n",
       "      <td>0</td>\n",
       "      <td>264474.835577</td>\n",
       "      <td>операции с коммерческой недвижимостью</td>\n",
       "    </tr>\n",
       "    <tr>\n",
       "      <td>2941</td>\n",
       "      <td>20</td>\n",
       "      <td>2161.591519</td>\n",
       "      <td>40.0</td>\n",
       "      <td>среднее</td>\n",
       "      <td>1</td>\n",
       "      <td>женат / замужем</td>\n",
       "      <td>0</td>\n",
       "      <td>F</td>\n",
       "      <td>сотрудник</td>\n",
       "      <td>0</td>\n",
       "      <td>199739.941398</td>\n",
       "      <td>на покупку автомобиля</td>\n",
       "    </tr>\n",
       "    <tr>\n",
       "      <td>3302</td>\n",
       "      <td>20</td>\n",
       "      <td>2689.368353</td>\n",
       "      <td>35.0</td>\n",
       "      <td>среднее</td>\n",
       "      <td>1</td>\n",
       "      <td>Не женат / не замужем</td>\n",
       "      <td>4</td>\n",
       "      <td>F</td>\n",
       "      <td>госслужащий</td>\n",
       "      <td>0</td>\n",
       "      <td>136652.970357</td>\n",
       "      <td>профильное образование</td>\n",
       "    </tr>\n",
       "    <tr>\n",
       "      <td>3396</td>\n",
       "      <td>20</td>\n",
       "      <td>1547.382223</td>\n",
       "      <td>56.0</td>\n",
       "      <td>высшее</td>\n",
       "      <td>0</td>\n",
       "      <td>женат / замужем</td>\n",
       "      <td>0</td>\n",
       "      <td>F</td>\n",
       "      <td>компаньон</td>\n",
       "      <td>0</td>\n",
       "      <td>201785.400018</td>\n",
       "      <td>высшее образование</td>\n",
       "    </tr>\n",
       "    <tr>\n",
       "      <td>3671</td>\n",
       "      <td>20</td>\n",
       "      <td>913.161503</td>\n",
       "      <td>23.0</td>\n",
       "      <td>среднее</td>\n",
       "      <td>1</td>\n",
       "      <td>Не женат / не замужем</td>\n",
       "      <td>4</td>\n",
       "      <td>F</td>\n",
       "      <td>сотрудник</td>\n",
       "      <td>0</td>\n",
       "      <td>101255.492076</td>\n",
       "      <td>на покупку подержанного автомобиля</td>\n",
       "    </tr>\n",
       "  </tbody>\n",
       "</table>\n",
       "</div>"
      ],
      "text/plain": [
       "      children  days_employed  dob_years education  education_id  \\\n",
       "606         20     880.221113       21.0   среднее             1   \n",
       "720         20     855.595512       44.0   среднее             1   \n",
       "1074        20    3310.411598       56.0   среднее             1   \n",
       "2510        20    2714.161249       59.0    высшее             0   \n",
       "2941        20    2161.591519       40.0   среднее             1   \n",
       "3302        20    2689.368353       35.0   среднее             1   \n",
       "3396        20    1547.382223       56.0    высшее             0   \n",
       "3671        20     913.161503       23.0   среднее             1   \n",
       "\n",
       "              family_status  family_status_id gender  income_type  debt  \\\n",
       "606         женат / замужем                 0      M    компаньон     0   \n",
       "720         женат / замужем                 0      F    компаньон     0   \n",
       "1074        женат / замужем                 0      F    сотрудник     1   \n",
       "2510         вдовец / вдова                 2      F    сотрудник     0   \n",
       "2941        женат / замужем                 0      F    сотрудник     0   \n",
       "3302  Не женат / не замужем                 4      F  госслужащий     0   \n",
       "3396        женат / замужем                 0      F    компаньон     0   \n",
       "3671  Не женат / не замужем                 4      F    сотрудник     0   \n",
       "\n",
       "       total_income                                purpose  \n",
       "606   145334.865002                          покупка жилья  \n",
       "720   112998.738649                   покупка недвижимости  \n",
       "1074  229518.537004                  получение образования  \n",
       "2510  264474.835577  операции с коммерческой недвижимостью  \n",
       "2941  199739.941398                  на покупку автомобиля  \n",
       "3302  136652.970357                 профильное образование  \n",
       "3396  201785.400018                     высшее образование  \n",
       "3671  101255.492076     на покупку подержанного автомобиля  "
      ]
     },
     "execution_count": 49,
     "metadata": {},
     "output_type": "execute_result"
    }
   ],
   "source": [
    "data[data['children'] == 20].head(8)"
   ]
  },
  {
   "cell_type": "code",
   "execution_count": 50,
   "id": "52837334",
   "metadata": {},
   "outputs": [
    {
     "data": {
      "text/plain": [
       "family_status\n",
       "женат / замужем          49\n",
       "гражданский брак         12\n",
       "Не женат / не замужем     9\n",
       "вдовец / вдова            4\n",
       "в разводе                 2\n",
       "Name: children, dtype: int64"
      ]
     },
     "execution_count": 50,
     "metadata": {},
     "output_type": "execute_result"
    }
   ],
   "source": [
    "# сгруппируем данные по family_status\n",
    "data[data['children'] == 20].groupby('family_status')['children'].count().sort_values(ascending=False)"
   ]
  },
  {
   "cell_type": "markdown",
   "id": "9d8b380d",
   "metadata": {},
   "source": [
    "Ситуация выглядит аналогичной той, в которой детей -1. Наиболее корректным представляется замена значений 20 на 2 (тем более никаких законов, улучшающих условия при наличии ровно 20 детей, вроде бы не существует)."
   ]
  },
  {
   "cell_type": "code",
   "execution_count": 51,
   "id": "850486a6",
   "metadata": {},
   "outputs": [],
   "source": [
    "# произведем корректировку\n",
    "data.loc[data['children'] == 20, 'children'] = 2"
   ]
  },
  {
   "cell_type": "code",
   "execution_count": 52,
   "id": "d6b9990a",
   "metadata": {},
   "outputs": [
    {
     "data": {
      "text/plain": [
       "0"
      ]
     },
     "execution_count": 52,
     "metadata": {},
     "output_type": "execute_result"
    }
   ],
   "source": [
    "# проверяем, что в данных не осталось аномалий\n",
    "data[(data['children'] == 20) & (data['children'] == -1)]['children'].count()"
   ]
  },
  {
   "cell_type": "markdown",
   "id": "ceac8f3f",
   "metadata": {},
   "source": [
    "Проверяем, что пропусков во всех данных также не осталось"
   ]
  },
  {
   "cell_type": "code",
   "execution_count": 53,
   "id": "801869ea",
   "metadata": {},
   "outputs": [
    {
     "data": {
      "text/plain": [
       "0"
      ]
     },
     "execution_count": 53,
     "metadata": {},
     "output_type": "execute_result"
    }
   ],
   "source": [
    "data.isna().sum().sum()"
   ]
  },
  {
   "cell_type": "markdown",
   "id": "788d636d",
   "metadata": {},
   "source": [
    "### Изменение типов данных."
   ]
  },
  {
   "cell_type": "markdown",
   "id": "b1f10538",
   "metadata": {},
   "source": [
    "Условие предприсывает заменить тип данных у total_income на целочисленный. Выполняем."
   ]
  },
  {
   "cell_type": "code",
   "execution_count": 54,
   "id": "3b7ce27e",
   "metadata": {},
   "outputs": [],
   "source": [
    "data['total_income'] = data['total_income'].astype('int')"
   ]
  },
  {
   "cell_type": "code",
   "execution_count": 55,
   "id": "bac5e910",
   "metadata": {},
   "outputs": [
    {
     "name": "stdout",
     "output_type": "stream",
     "text": [
      "<class 'pandas.core.frame.DataFrame'>\n",
      "RangeIndex: 21525 entries, 0 to 21524\n",
      "Data columns (total 12 columns):\n",
      "children            21525 non-null int64\n",
      "days_employed       21525 non-null float64\n",
      "dob_years           21525 non-null float64\n",
      "education           21525 non-null object\n",
      "education_id        21525 non-null int64\n",
      "family_status       21525 non-null object\n",
      "family_status_id    21525 non-null int64\n",
      "gender              21525 non-null object\n",
      "income_type         21525 non-null object\n",
      "debt                21525 non-null int64\n",
      "total_income        21525 non-null int64\n",
      "purpose             21525 non-null object\n",
      "dtypes: float64(2), int64(5), object(5)\n",
      "memory usage: 2.0+ MB\n"
     ]
    }
   ],
   "source": [
    "# проверяем\n",
    "data.info()"
   ]
  },
  {
   "cell_type": "markdown",
   "id": "545c076b",
   "metadata": {},
   "source": [
    "### Удаление дубликатов."
   ]
  },
  {
   "cell_type": "markdown",
   "id": "72276375",
   "metadata": {},
   "source": [
    "#### Общие дубликаты"
   ]
  },
  {
   "cell_type": "code",
   "execution_count": 56,
   "id": "d8578596",
   "metadata": {},
   "outputs": [
    {
     "name": "stdout",
     "output_type": "stream",
     "text": [
      "Дубликатов в данных: 54\n"
     ]
    }
   ],
   "source": [
    "print(f'Дубликатов в данных: {data.duplicated().sum()}')"
   ]
  },
  {
   "cell_type": "markdown",
   "id": "9179acef",
   "metadata": {},
   "source": [
    "Посмотрим на них. Для корректной обработки посмотрим на все дубликаты (параметр keep=False)."
   ]
  },
  {
   "cell_type": "code",
   "execution_count": 57,
   "id": "56bc6bac",
   "metadata": {},
   "outputs": [
    {
     "data": {
      "text/html": [
       "<div>\n",
       "<style scoped>\n",
       "    .dataframe tbody tr th:only-of-type {\n",
       "        vertical-align: middle;\n",
       "    }\n",
       "\n",
       "    .dataframe tbody tr th {\n",
       "        vertical-align: top;\n",
       "    }\n",
       "\n",
       "    .dataframe thead th {\n",
       "        text-align: right;\n",
       "    }\n",
       "</style>\n",
       "<table border=\"1\" class=\"dataframe\">\n",
       "  <thead>\n",
       "    <tr style=\"text-align: right;\">\n",
       "      <th></th>\n",
       "      <th>children</th>\n",
       "      <th>days_employed</th>\n",
       "      <th>dob_years</th>\n",
       "      <th>education</th>\n",
       "      <th>education_id</th>\n",
       "      <th>family_status</th>\n",
       "      <th>family_status_id</th>\n",
       "      <th>gender</th>\n",
       "      <th>income_type</th>\n",
       "      <th>debt</th>\n",
       "      <th>total_income</th>\n",
       "      <th>purpose</th>\n",
       "    </tr>\n",
       "  </thead>\n",
       "  <tbody>\n",
       "    <tr>\n",
       "      <td>21415</td>\n",
       "      <td>0</td>\n",
       "      <td>15217.221094</td>\n",
       "      <td>54.0</td>\n",
       "      <td>среднее</td>\n",
       "      <td>1</td>\n",
       "      <td>женат / замужем</td>\n",
       "      <td>0</td>\n",
       "      <td>F</td>\n",
       "      <td>пенсионер</td>\n",
       "      <td>0</td>\n",
       "      <td>114842</td>\n",
       "      <td>операции с жильем</td>\n",
       "    </tr>\n",
       "    <tr>\n",
       "      <td>4851</td>\n",
       "      <td>0</td>\n",
       "      <td>15217.221094</td>\n",
       "      <td>60.0</td>\n",
       "      <td>среднее</td>\n",
       "      <td>1</td>\n",
       "      <td>гражданский брак</td>\n",
       "      <td>1</td>\n",
       "      <td>F</td>\n",
       "      <td>пенсионер</td>\n",
       "      <td>0</td>\n",
       "      <td>114842</td>\n",
       "      <td>свадьба</td>\n",
       "    </tr>\n",
       "    <tr>\n",
       "      <td>18428</td>\n",
       "      <td>0</td>\n",
       "      <td>15217.221094</td>\n",
       "      <td>64.0</td>\n",
       "      <td>среднее</td>\n",
       "      <td>1</td>\n",
       "      <td>женат / замужем</td>\n",
       "      <td>0</td>\n",
       "      <td>F</td>\n",
       "      <td>пенсионер</td>\n",
       "      <td>0</td>\n",
       "      <td>114842</td>\n",
       "      <td>жилье</td>\n",
       "    </tr>\n",
       "    <tr>\n",
       "      <td>17787</td>\n",
       "      <td>0</td>\n",
       "      <td>15217.221094</td>\n",
       "      <td>54.0</td>\n",
       "      <td>среднее</td>\n",
       "      <td>1</td>\n",
       "      <td>женат / замужем</td>\n",
       "      <td>0</td>\n",
       "      <td>F</td>\n",
       "      <td>пенсионер</td>\n",
       "      <td>0</td>\n",
       "      <td>114842</td>\n",
       "      <td>операции с жильем</td>\n",
       "    </tr>\n",
       "    <tr>\n",
       "      <td>5557</td>\n",
       "      <td>0</td>\n",
       "      <td>15217.221094</td>\n",
       "      <td>58.0</td>\n",
       "      <td>среднее</td>\n",
       "      <td>1</td>\n",
       "      <td>гражданский брак</td>\n",
       "      <td>1</td>\n",
       "      <td>F</td>\n",
       "      <td>пенсионер</td>\n",
       "      <td>0</td>\n",
       "      <td>114842</td>\n",
       "      <td>сыграть свадьбу</td>\n",
       "    </tr>\n",
       "    <tr>\n",
       "      <td>7808</td>\n",
       "      <td>0</td>\n",
       "      <td>15217.221094</td>\n",
       "      <td>57.0</td>\n",
       "      <td>среднее</td>\n",
       "      <td>1</td>\n",
       "      <td>гражданский брак</td>\n",
       "      <td>1</td>\n",
       "      <td>F</td>\n",
       "      <td>пенсионер</td>\n",
       "      <td>0</td>\n",
       "      <td>114842</td>\n",
       "      <td>на проведение свадьбы</td>\n",
       "    </tr>\n",
       "    <tr>\n",
       "      <td>7995</td>\n",
       "      <td>0</td>\n",
       "      <td>15217.221094</td>\n",
       "      <td>57.0</td>\n",
       "      <td>среднее</td>\n",
       "      <td>1</td>\n",
       "      <td>гражданский брак</td>\n",
       "      <td>1</td>\n",
       "      <td>F</td>\n",
       "      <td>пенсионер</td>\n",
       "      <td>0</td>\n",
       "      <td>114842</td>\n",
       "      <td>свадьба</td>\n",
       "    </tr>\n",
       "    <tr>\n",
       "      <td>8178</td>\n",
       "      <td>0</td>\n",
       "      <td>15217.221094</td>\n",
       "      <td>64.0</td>\n",
       "      <td>среднее</td>\n",
       "      <td>1</td>\n",
       "      <td>женат / замужем</td>\n",
       "      <td>0</td>\n",
       "      <td>F</td>\n",
       "      <td>пенсионер</td>\n",
       "      <td>0</td>\n",
       "      <td>114842</td>\n",
       "      <td>автомобиль</td>\n",
       "    </tr>\n",
       "    <tr>\n",
       "      <td>15273</td>\n",
       "      <td>0</td>\n",
       "      <td>15217.221094</td>\n",
       "      <td>57.0</td>\n",
       "      <td>среднее</td>\n",
       "      <td>1</td>\n",
       "      <td>гражданский брак</td>\n",
       "      <td>1</td>\n",
       "      <td>F</td>\n",
       "      <td>пенсионер</td>\n",
       "      <td>0</td>\n",
       "      <td>114842</td>\n",
       "      <td>свадьба</td>\n",
       "    </tr>\n",
       "    <tr>\n",
       "      <td>4529</td>\n",
       "      <td>0</td>\n",
       "      <td>15217.221094</td>\n",
       "      <td>57.0</td>\n",
       "      <td>среднее</td>\n",
       "      <td>1</td>\n",
       "      <td>гражданский брак</td>\n",
       "      <td>1</td>\n",
       "      <td>M</td>\n",
       "      <td>пенсионер</td>\n",
       "      <td>0</td>\n",
       "      <td>114842</td>\n",
       "      <td>свадьба</td>\n",
       "    </tr>\n",
       "    <tr>\n",
       "      <td>9528</td>\n",
       "      <td>0</td>\n",
       "      <td>15217.221094</td>\n",
       "      <td>66.0</td>\n",
       "      <td>среднее</td>\n",
       "      <td>1</td>\n",
       "      <td>вдовец / вдова</td>\n",
       "      <td>2</td>\n",
       "      <td>F</td>\n",
       "      <td>пенсионер</td>\n",
       "      <td>0</td>\n",
       "      <td>114842</td>\n",
       "      <td>операции со своей недвижимостью</td>\n",
       "    </tr>\n",
       "    <tr>\n",
       "      <td>10462</td>\n",
       "      <td>0</td>\n",
       "      <td>15217.221094</td>\n",
       "      <td>62.0</td>\n",
       "      <td>среднее</td>\n",
       "      <td>1</td>\n",
       "      <td>женат / замужем</td>\n",
       "      <td>0</td>\n",
       "      <td>F</td>\n",
       "      <td>пенсионер</td>\n",
       "      <td>0</td>\n",
       "      <td>114842</td>\n",
       "      <td>покупка коммерческой недвижимости</td>\n",
       "    </tr>\n",
       "    <tr>\n",
       "      <td>10796</td>\n",
       "      <td>0</td>\n",
       "      <td>15217.221094</td>\n",
       "      <td>59.0</td>\n",
       "      <td>среднее</td>\n",
       "      <td>1</td>\n",
       "      <td>женат / замужем</td>\n",
       "      <td>0</td>\n",
       "      <td>F</td>\n",
       "      <td>пенсионер</td>\n",
       "      <td>0</td>\n",
       "      <td>114842</td>\n",
       "      <td>заняться образованием</td>\n",
       "    </tr>\n",
       "    <tr>\n",
       "      <td>10864</td>\n",
       "      <td>0</td>\n",
       "      <td>15217.221094</td>\n",
       "      <td>62.0</td>\n",
       "      <td>среднее</td>\n",
       "      <td>1</td>\n",
       "      <td>женат / замужем</td>\n",
       "      <td>0</td>\n",
       "      <td>F</td>\n",
       "      <td>пенсионер</td>\n",
       "      <td>0</td>\n",
       "      <td>114842</td>\n",
       "      <td>ремонт жилью</td>\n",
       "    </tr>\n",
       "    <tr>\n",
       "      <td>10994</td>\n",
       "      <td>0</td>\n",
       "      <td>15217.221094</td>\n",
       "      <td>62.0</td>\n",
       "      <td>среднее</td>\n",
       "      <td>1</td>\n",
       "      <td>женат / замужем</td>\n",
       "      <td>0</td>\n",
       "      <td>F</td>\n",
       "      <td>пенсионер</td>\n",
       "      <td>0</td>\n",
       "      <td>114842</td>\n",
       "      <td>ремонт жилью</td>\n",
       "    </tr>\n",
       "    <tr>\n",
       "      <td>13639</td>\n",
       "      <td>0</td>\n",
       "      <td>15217.221094</td>\n",
       "      <td>64.0</td>\n",
       "      <td>среднее</td>\n",
       "      <td>1</td>\n",
       "      <td>женат / замужем</td>\n",
       "      <td>0</td>\n",
       "      <td>F</td>\n",
       "      <td>пенсионер</td>\n",
       "      <td>0</td>\n",
       "      <td>114842</td>\n",
       "      <td>автомобиль</td>\n",
       "    </tr>\n",
       "    <tr>\n",
       "      <td>12736</td>\n",
       "      <td>0</td>\n",
       "      <td>15217.221094</td>\n",
       "      <td>59.0</td>\n",
       "      <td>среднее</td>\n",
       "      <td>1</td>\n",
       "      <td>женат / замужем</td>\n",
       "      <td>0</td>\n",
       "      <td>F</td>\n",
       "      <td>пенсионер</td>\n",
       "      <td>0</td>\n",
       "      <td>114842</td>\n",
       "      <td>заняться образованием</td>\n",
       "    </tr>\n",
       "    <tr>\n",
       "      <td>12393</td>\n",
       "      <td>0</td>\n",
       "      <td>15217.221094</td>\n",
       "      <td>58.0</td>\n",
       "      <td>среднее</td>\n",
       "      <td>1</td>\n",
       "      <td>женат / замужем</td>\n",
       "      <td>0</td>\n",
       "      <td>F</td>\n",
       "      <td>пенсионер</td>\n",
       "      <td>0</td>\n",
       "      <td>114842</td>\n",
       "      <td>заняться образованием</td>\n",
       "    </tr>\n",
       "    <tr>\n",
       "      <td>12389</td>\n",
       "      <td>0</td>\n",
       "      <td>15217.221094</td>\n",
       "      <td>64.0</td>\n",
       "      <td>среднее</td>\n",
       "      <td>1</td>\n",
       "      <td>женат / замужем</td>\n",
       "      <td>0</td>\n",
       "      <td>F</td>\n",
       "      <td>пенсионер</td>\n",
       "      <td>0</td>\n",
       "      <td>114842</td>\n",
       "      <td>дополнительное образование</td>\n",
       "    </tr>\n",
       "    <tr>\n",
       "      <td>9627</td>\n",
       "      <td>0</td>\n",
       "      <td>15217.221094</td>\n",
       "      <td>56.0</td>\n",
       "      <td>среднее</td>\n",
       "      <td>1</td>\n",
       "      <td>женат / замужем</td>\n",
       "      <td>0</td>\n",
       "      <td>F</td>\n",
       "      <td>пенсионер</td>\n",
       "      <td>0</td>\n",
       "      <td>114842</td>\n",
       "      <td>операции со своей недвижимостью</td>\n",
       "    </tr>\n",
       "    <tr>\n",
       "      <td>18755</td>\n",
       "      <td>0</td>\n",
       "      <td>15217.221094</td>\n",
       "      <td>58.0</td>\n",
       "      <td>среднее</td>\n",
       "      <td>1</td>\n",
       "      <td>женат / замужем</td>\n",
       "      <td>0</td>\n",
       "      <td>F</td>\n",
       "      <td>пенсионер</td>\n",
       "      <td>0</td>\n",
       "      <td>114842</td>\n",
       "      <td>заняться образованием</td>\n",
       "    </tr>\n",
       "    <tr>\n",
       "      <td>5865</td>\n",
       "      <td>0</td>\n",
       "      <td>15217.221094</td>\n",
       "      <td>66.0</td>\n",
       "      <td>среднее</td>\n",
       "      <td>1</td>\n",
       "      <td>вдовец / вдова</td>\n",
       "      <td>2</td>\n",
       "      <td>F</td>\n",
       "      <td>пенсионер</td>\n",
       "      <td>0</td>\n",
       "      <td>114842</td>\n",
       "      <td>операции со своей недвижимостью</td>\n",
       "    </tr>\n",
       "    <tr>\n",
       "      <td>2052</td>\n",
       "      <td>0</td>\n",
       "      <td>15217.221094</td>\n",
       "      <td>58.0</td>\n",
       "      <td>среднее</td>\n",
       "      <td>1</td>\n",
       "      <td>гражданский брак</td>\n",
       "      <td>1</td>\n",
       "      <td>F</td>\n",
       "      <td>пенсионер</td>\n",
       "      <td>0</td>\n",
       "      <td>114842</td>\n",
       "      <td>сыграть свадьбу</td>\n",
       "    </tr>\n",
       "    <tr>\n",
       "      <td>3609</td>\n",
       "      <td>0</td>\n",
       "      <td>15217.221094</td>\n",
       "      <td>64.0</td>\n",
       "      <td>среднее</td>\n",
       "      <td>1</td>\n",
       "      <td>женат / замужем</td>\n",
       "      <td>0</td>\n",
       "      <td>F</td>\n",
       "      <td>пенсионер</td>\n",
       "      <td>0</td>\n",
       "      <td>114842</td>\n",
       "      <td>жилье</td>\n",
       "    </tr>\n",
       "    <tr>\n",
       "      <td>21032</td>\n",
       "      <td>0</td>\n",
       "      <td>15217.221094</td>\n",
       "      <td>60.0</td>\n",
       "      <td>среднее</td>\n",
       "      <td>1</td>\n",
       "      <td>женат / замужем</td>\n",
       "      <td>0</td>\n",
       "      <td>F</td>\n",
       "      <td>пенсионер</td>\n",
       "      <td>0</td>\n",
       "      <td>114842</td>\n",
       "      <td>заняться образованием</td>\n",
       "    </tr>\n",
       "    <tr>\n",
       "      <td>3378</td>\n",
       "      <td>0</td>\n",
       "      <td>15217.221094</td>\n",
       "      <td>62.0</td>\n",
       "      <td>среднее</td>\n",
       "      <td>1</td>\n",
       "      <td>женат / замужем</td>\n",
       "      <td>0</td>\n",
       "      <td>F</td>\n",
       "      <td>пенсионер</td>\n",
       "      <td>0</td>\n",
       "      <td>114842</td>\n",
       "      <td>покупка коммерческой недвижимости</td>\n",
       "    </tr>\n",
       "    <tr>\n",
       "      <td>3344</td>\n",
       "      <td>0</td>\n",
       "      <td>15217.221094</td>\n",
       "      <td>56.0</td>\n",
       "      <td>среднее</td>\n",
       "      <td>1</td>\n",
       "      <td>женат / замужем</td>\n",
       "      <td>0</td>\n",
       "      <td>F</td>\n",
       "      <td>пенсионер</td>\n",
       "      <td>0</td>\n",
       "      <td>114842</td>\n",
       "      <td>операции со своей недвижимостью</td>\n",
       "    </tr>\n",
       "    <tr>\n",
       "      <td>20702</td>\n",
       "      <td>0</td>\n",
       "      <td>15217.221094</td>\n",
       "      <td>64.0</td>\n",
       "      <td>среднее</td>\n",
       "      <td>1</td>\n",
       "      <td>женат / замужем</td>\n",
       "      <td>0</td>\n",
       "      <td>F</td>\n",
       "      <td>пенсионер</td>\n",
       "      <td>0</td>\n",
       "      <td>114842</td>\n",
       "      <td>дополнительное образование</td>\n",
       "    </tr>\n",
       "    <tr>\n",
       "      <td>19688</td>\n",
       "      <td>0</td>\n",
       "      <td>15217.221094</td>\n",
       "      <td>61.0</td>\n",
       "      <td>среднее</td>\n",
       "      <td>1</td>\n",
       "      <td>женат / замужем</td>\n",
       "      <td>0</td>\n",
       "      <td>F</td>\n",
       "      <td>пенсионер</td>\n",
       "      <td>0</td>\n",
       "      <td>114842</td>\n",
       "      <td>операции с недвижимостью</td>\n",
       "    </tr>\n",
       "    <tr>\n",
       "      <td>2596</td>\n",
       "      <td>0</td>\n",
       "      <td>15217.221094</td>\n",
       "      <td>60.0</td>\n",
       "      <td>среднее</td>\n",
       "      <td>1</td>\n",
       "      <td>гражданский брак</td>\n",
       "      <td>1</td>\n",
       "      <td>F</td>\n",
       "      <td>пенсионер</td>\n",
       "      <td>0</td>\n",
       "      <td>114842</td>\n",
       "      <td>свадьба</td>\n",
       "    </tr>\n",
       "    <tr>\n",
       "      <td>1681</td>\n",
       "      <td>0</td>\n",
       "      <td>15217.221094</td>\n",
       "      <td>57.0</td>\n",
       "      <td>среднее</td>\n",
       "      <td>1</td>\n",
       "      <td>гражданский брак</td>\n",
       "      <td>1</td>\n",
       "      <td>F</td>\n",
       "      <td>пенсионер</td>\n",
       "      <td>0</td>\n",
       "      <td>114842</td>\n",
       "      <td>на проведение свадьбы</td>\n",
       "    </tr>\n",
       "    <tr>\n",
       "      <td>2545</td>\n",
       "      <td>0</td>\n",
       "      <td>15217.221094</td>\n",
       "      <td>60.0</td>\n",
       "      <td>среднее</td>\n",
       "      <td>1</td>\n",
       "      <td>женат / замужем</td>\n",
       "      <td>0</td>\n",
       "      <td>F</td>\n",
       "      <td>пенсионер</td>\n",
       "      <td>0</td>\n",
       "      <td>114842</td>\n",
       "      <td>заняться образованием</td>\n",
       "    </tr>\n",
       "    <tr>\n",
       "      <td>1005</td>\n",
       "      <td>0</td>\n",
       "      <td>15217.221094</td>\n",
       "      <td>62.0</td>\n",
       "      <td>среднее</td>\n",
       "      <td>1</td>\n",
       "      <td>женат / замужем</td>\n",
       "      <td>0</td>\n",
       "      <td>F</td>\n",
       "      <td>пенсионер</td>\n",
       "      <td>0</td>\n",
       "      <td>114842</td>\n",
       "      <td>ремонт жилью</td>\n",
       "    </tr>\n",
       "    <tr>\n",
       "      <td>1191</td>\n",
       "      <td>0</td>\n",
       "      <td>15217.221094</td>\n",
       "      <td>61.0</td>\n",
       "      <td>среднее</td>\n",
       "      <td>1</td>\n",
       "      <td>женат / замужем</td>\n",
       "      <td>0</td>\n",
       "      <td>F</td>\n",
       "      <td>пенсионер</td>\n",
       "      <td>0</td>\n",
       "      <td>114842</td>\n",
       "      <td>операции с недвижимостью</td>\n",
       "    </tr>\n",
       "    <tr>\n",
       "      <td>20116</td>\n",
       "      <td>0</td>\n",
       "      <td>15217.221094</td>\n",
       "      <td>57.0</td>\n",
       "      <td>среднее</td>\n",
       "      <td>1</td>\n",
       "      <td>гражданский брак</td>\n",
       "      <td>1</td>\n",
       "      <td>M</td>\n",
       "      <td>пенсионер</td>\n",
       "      <td>0</td>\n",
       "      <td>114842</td>\n",
       "      <td>свадьба</td>\n",
       "    </tr>\n",
       "    <tr>\n",
       "      <td>13942</td>\n",
       "      <td>0</td>\n",
       "      <td>1574.202821</td>\n",
       "      <td>44.0</td>\n",
       "      <td>среднее</td>\n",
       "      <td>1</td>\n",
       "      <td>женат / замужем</td>\n",
       "      <td>0</td>\n",
       "      <td>F</td>\n",
       "      <td>сотрудник</td>\n",
       "      <td>0</td>\n",
       "      <td>136555</td>\n",
       "      <td>приобретение автомобиля</td>\n",
       "    </tr>\n",
       "    <tr>\n",
       "      <td>13773</td>\n",
       "      <td>0</td>\n",
       "      <td>1574.202821</td>\n",
       "      <td>35.0</td>\n",
       "      <td>среднее</td>\n",
       "      <td>1</td>\n",
       "      <td>гражданский брак</td>\n",
       "      <td>1</td>\n",
       "      <td>F</td>\n",
       "      <td>сотрудник</td>\n",
       "      <td>0</td>\n",
       "      <td>136555</td>\n",
       "      <td>сыграть свадьбу</td>\n",
       "    </tr>\n",
       "    <tr>\n",
       "      <td>19946</td>\n",
       "      <td>0</td>\n",
       "      <td>1574.202821</td>\n",
       "      <td>57.0</td>\n",
       "      <td>среднее</td>\n",
       "      <td>1</td>\n",
       "      <td>женат / замужем</td>\n",
       "      <td>0</td>\n",
       "      <td>F</td>\n",
       "      <td>сотрудник</td>\n",
       "      <td>0</td>\n",
       "      <td>136555</td>\n",
       "      <td>сделка с подержанным автомобилем</td>\n",
       "    </tr>\n",
       "    <tr>\n",
       "      <td>18563</td>\n",
       "      <td>0</td>\n",
       "      <td>1574.202821</td>\n",
       "      <td>54.0</td>\n",
       "      <td>среднее</td>\n",
       "      <td>1</td>\n",
       "      <td>женат / замужем</td>\n",
       "      <td>0</td>\n",
       "      <td>F</td>\n",
       "      <td>сотрудник</td>\n",
       "      <td>0</td>\n",
       "      <td>136555</td>\n",
       "      <td>операции со своей недвижимостью</td>\n",
       "    </tr>\n",
       "    <tr>\n",
       "      <td>13025</td>\n",
       "      <td>1</td>\n",
       "      <td>1574.202821</td>\n",
       "      <td>44.0</td>\n",
       "      <td>среднее</td>\n",
       "      <td>1</td>\n",
       "      <td>женат / замужем</td>\n",
       "      <td>0</td>\n",
       "      <td>F</td>\n",
       "      <td>сотрудник</td>\n",
       "      <td>0</td>\n",
       "      <td>136555</td>\n",
       "      <td>сделка с подержанным автомобилем</td>\n",
       "    </tr>\n",
       "    <tr>\n",
       "      <td>21132</td>\n",
       "      <td>0</td>\n",
       "      <td>1574.202821</td>\n",
       "      <td>47.0</td>\n",
       "      <td>среднее</td>\n",
       "      <td>1</td>\n",
       "      <td>женат / замужем</td>\n",
       "      <td>0</td>\n",
       "      <td>F</td>\n",
       "      <td>сотрудник</td>\n",
       "      <td>0</td>\n",
       "      <td>136555</td>\n",
       "      <td>ремонт жилью</td>\n",
       "    </tr>\n",
       "    <tr>\n",
       "      <td>13712</td>\n",
       "      <td>0</td>\n",
       "      <td>1574.202821</td>\n",
       "      <td>42.0</td>\n",
       "      <td>среднее</td>\n",
       "      <td>1</td>\n",
       "      <td>женат / замужем</td>\n",
       "      <td>0</td>\n",
       "      <td>F</td>\n",
       "      <td>сотрудник</td>\n",
       "      <td>0</td>\n",
       "      <td>136555</td>\n",
       "      <td>покупка жилья для семьи</td>\n",
       "    </tr>\n",
       "    <tr>\n",
       "      <td>20165</td>\n",
       "      <td>0</td>\n",
       "      <td>1574.202821</td>\n",
       "      <td>42.0</td>\n",
       "      <td>среднее</td>\n",
       "      <td>1</td>\n",
       "      <td>женат / замужем</td>\n",
       "      <td>0</td>\n",
       "      <td>F</td>\n",
       "      <td>сотрудник</td>\n",
       "      <td>0</td>\n",
       "      <td>136555</td>\n",
       "      <td>покупка жилья для семьи</td>\n",
       "    </tr>\n",
       "    <tr>\n",
       "      <td>15188</td>\n",
       "      <td>0</td>\n",
       "      <td>1574.202821</td>\n",
       "      <td>60.0</td>\n",
       "      <td>среднее</td>\n",
       "      <td>1</td>\n",
       "      <td>женат / замужем</td>\n",
       "      <td>0</td>\n",
       "      <td>M</td>\n",
       "      <td>сотрудник</td>\n",
       "      <td>0</td>\n",
       "      <td>136555</td>\n",
       "      <td>покупка недвижимости</td>\n",
       "    </tr>\n",
       "    <tr>\n",
       "      <td>15091</td>\n",
       "      <td>0</td>\n",
       "      <td>1574.202821</td>\n",
       "      <td>58.0</td>\n",
       "      <td>среднее</td>\n",
       "      <td>1</td>\n",
       "      <td>гражданский брак</td>\n",
       "      <td>1</td>\n",
       "      <td>M</td>\n",
       "      <td>сотрудник</td>\n",
       "      <td>0</td>\n",
       "      <td>136555</td>\n",
       "      <td>на проведение свадьбы</td>\n",
       "    </tr>\n",
       "    <tr>\n",
       "      <td>19041</td>\n",
       "      <td>0</td>\n",
       "      <td>1574.202821</td>\n",
       "      <td>56.0</td>\n",
       "      <td>среднее</td>\n",
       "      <td>1</td>\n",
       "      <td>гражданский брак</td>\n",
       "      <td>1</td>\n",
       "      <td>F</td>\n",
       "      <td>сотрудник</td>\n",
       "      <td>0</td>\n",
       "      <td>136555</td>\n",
       "      <td>на проведение свадьбы</td>\n",
       "    </tr>\n",
       "    <tr>\n",
       "      <td>19832</td>\n",
       "      <td>0</td>\n",
       "      <td>1574.202821</td>\n",
       "      <td>48.0</td>\n",
       "      <td>среднее</td>\n",
       "      <td>1</td>\n",
       "      <td>женат / замужем</td>\n",
       "      <td>0</td>\n",
       "      <td>F</td>\n",
       "      <td>сотрудник</td>\n",
       "      <td>0</td>\n",
       "      <td>136555</td>\n",
       "      <td>ремонт жилью</td>\n",
       "    </tr>\n",
       "    <tr>\n",
       "      <td>15892</td>\n",
       "      <td>0</td>\n",
       "      <td>1574.202821</td>\n",
       "      <td>23.0</td>\n",
       "      <td>среднее</td>\n",
       "      <td>1</td>\n",
       "      <td>Не женат / не замужем</td>\n",
       "      <td>4</td>\n",
       "      <td>F</td>\n",
       "      <td>сотрудник</td>\n",
       "      <td>0</td>\n",
       "      <td>136555</td>\n",
       "      <td>сделка с подержанным автомобилем</td>\n",
       "    </tr>\n",
       "    <tr>\n",
       "      <td>16176</td>\n",
       "      <td>0</td>\n",
       "      <td>1574.202821</td>\n",
       "      <td>47.0</td>\n",
       "      <td>среднее</td>\n",
       "      <td>1</td>\n",
       "      <td>женат / замужем</td>\n",
       "      <td>0</td>\n",
       "      <td>F</td>\n",
       "      <td>сотрудник</td>\n",
       "      <td>0</td>\n",
       "      <td>136555</td>\n",
       "      <td>ремонт жилью</td>\n",
       "    </tr>\n",
       "    <tr>\n",
       "      <td>16378</td>\n",
       "      <td>0</td>\n",
       "      <td>1574.202821</td>\n",
       "      <td>46.0</td>\n",
       "      <td>среднее</td>\n",
       "      <td>1</td>\n",
       "      <td>женат / замужем</td>\n",
       "      <td>0</td>\n",
       "      <td>F</td>\n",
       "      <td>сотрудник</td>\n",
       "      <td>0</td>\n",
       "      <td>136555</td>\n",
       "      <td>высшее образование</td>\n",
       "    </tr>\n",
       "    <tr>\n",
       "      <td>16902</td>\n",
       "      <td>2</td>\n",
       "      <td>1574.202821</td>\n",
       "      <td>39.0</td>\n",
       "      <td>среднее</td>\n",
       "      <td>1</td>\n",
       "      <td>гражданский брак</td>\n",
       "      <td>1</td>\n",
       "      <td>F</td>\n",
       "      <td>сотрудник</td>\n",
       "      <td>0</td>\n",
       "      <td>136555</td>\n",
       "      <td>сыграть свадьбу</td>\n",
       "    </tr>\n",
       "    <tr>\n",
       "      <td>17291</td>\n",
       "      <td>0</td>\n",
       "      <td>1574.202821</td>\n",
       "      <td>56.0</td>\n",
       "      <td>среднее</td>\n",
       "      <td>1</td>\n",
       "      <td>гражданский брак</td>\n",
       "      <td>1</td>\n",
       "      <td>F</td>\n",
       "      <td>сотрудник</td>\n",
       "      <td>0</td>\n",
       "      <td>136555</td>\n",
       "      <td>на проведение свадьбы</td>\n",
       "    </tr>\n",
       "    <tr>\n",
       "      <td>17755</td>\n",
       "      <td>1</td>\n",
       "      <td>1574.202821</td>\n",
       "      <td>43.0</td>\n",
       "      <td>среднее</td>\n",
       "      <td>1</td>\n",
       "      <td>женат / замужем</td>\n",
       "      <td>0</td>\n",
       "      <td>M</td>\n",
       "      <td>сотрудник</td>\n",
       "      <td>0</td>\n",
       "      <td>136555</td>\n",
       "      <td>заняться образованием</td>\n",
       "    </tr>\n",
       "    <tr>\n",
       "      <td>12375</td>\n",
       "      <td>1</td>\n",
       "      <td>1574.202821</td>\n",
       "      <td>37.0</td>\n",
       "      <td>среднее</td>\n",
       "      <td>1</td>\n",
       "      <td>женат / замужем</td>\n",
       "      <td>0</td>\n",
       "      <td>F</td>\n",
       "      <td>сотрудник</td>\n",
       "      <td>0</td>\n",
       "      <td>136555</td>\n",
       "      <td>покупка недвижимости</td>\n",
       "    </tr>\n",
       "    <tr>\n",
       "      <td>19321</td>\n",
       "      <td>0</td>\n",
       "      <td>1574.202821</td>\n",
       "      <td>23.0</td>\n",
       "      <td>среднее</td>\n",
       "      <td>1</td>\n",
       "      <td>Не женат / не замужем</td>\n",
       "      <td>4</td>\n",
       "      <td>F</td>\n",
       "      <td>сотрудник</td>\n",
       "      <td>0</td>\n",
       "      <td>136555</td>\n",
       "      <td>сделка с подержанным автомобилем</td>\n",
       "    </tr>\n",
       "    <tr>\n",
       "      <td>19184</td>\n",
       "      <td>0</td>\n",
       "      <td>1574.202821</td>\n",
       "      <td>46.0</td>\n",
       "      <td>среднее</td>\n",
       "      <td>1</td>\n",
       "      <td>женат / замужем</td>\n",
       "      <td>0</td>\n",
       "      <td>F</td>\n",
       "      <td>сотрудник</td>\n",
       "      <td>0</td>\n",
       "      <td>136555</td>\n",
       "      <td>свой автомобиль</td>\n",
       "    </tr>\n",
       "    <tr>\n",
       "      <td>18521</td>\n",
       "      <td>0</td>\n",
       "      <td>1574.202821</td>\n",
       "      <td>56.0</td>\n",
       "      <td>среднее</td>\n",
       "      <td>1</td>\n",
       "      <td>гражданский брак</td>\n",
       "      <td>1</td>\n",
       "      <td>F</td>\n",
       "      <td>сотрудник</td>\n",
       "      <td>0</td>\n",
       "      <td>136555</td>\n",
       "      <td>сыграть свадьбу</td>\n",
       "    </tr>\n",
       "    <tr>\n",
       "      <td>14832</td>\n",
       "      <td>0</td>\n",
       "      <td>1574.202821</td>\n",
       "      <td>50.0</td>\n",
       "      <td>среднее</td>\n",
       "      <td>1</td>\n",
       "      <td>Не женат / не замужем</td>\n",
       "      <td>4</td>\n",
       "      <td>F</td>\n",
       "      <td>сотрудник</td>\n",
       "      <td>0</td>\n",
       "      <td>136555</td>\n",
       "      <td>недвижимость</td>\n",
       "    </tr>\n",
       "    <tr>\n",
       "      <td>12373</td>\n",
       "      <td>0</td>\n",
       "      <td>1574.202821</td>\n",
       "      <td>58.0</td>\n",
       "      <td>среднее</td>\n",
       "      <td>1</td>\n",
       "      <td>женат / замужем</td>\n",
       "      <td>0</td>\n",
       "      <td>M</td>\n",
       "      <td>сотрудник</td>\n",
       "      <td>0</td>\n",
       "      <td>136555</td>\n",
       "      <td>покупка недвижимости</td>\n",
       "    </tr>\n",
       "    <tr>\n",
       "      <td>120</td>\n",
       "      <td>0</td>\n",
       "      <td>1574.202821</td>\n",
       "      <td>46.0</td>\n",
       "      <td>среднее</td>\n",
       "      <td>1</td>\n",
       "      <td>женат / замужем</td>\n",
       "      <td>0</td>\n",
       "      <td>F</td>\n",
       "      <td>сотрудник</td>\n",
       "      <td>0</td>\n",
       "      <td>136555</td>\n",
       "      <td>высшее образование</td>\n",
       "    </tr>\n",
       "    <tr>\n",
       "      <td>11950</td>\n",
       "      <td>0</td>\n",
       "      <td>1574.202821</td>\n",
       "      <td>58.0</td>\n",
       "      <td>среднее</td>\n",
       "      <td>1</td>\n",
       "      <td>гражданский брак</td>\n",
       "      <td>1</td>\n",
       "      <td>M</td>\n",
       "      <td>сотрудник</td>\n",
       "      <td>0</td>\n",
       "      <td>136555</td>\n",
       "      <td>на проведение свадьбы</td>\n",
       "    </tr>\n",
       "    <tr>\n",
       "      <td>520</td>\n",
       "      <td>0</td>\n",
       "      <td>1574.202821</td>\n",
       "      <td>35.0</td>\n",
       "      <td>среднее</td>\n",
       "      <td>1</td>\n",
       "      <td>гражданский брак</td>\n",
       "      <td>1</td>\n",
       "      <td>F</td>\n",
       "      <td>сотрудник</td>\n",
       "      <td>0</td>\n",
       "      <td>136555</td>\n",
       "      <td>сыграть свадьбу</td>\n",
       "    </tr>\n",
       "    <tr>\n",
       "      <td>541</td>\n",
       "      <td>0</td>\n",
       "      <td>1574.202821</td>\n",
       "      <td>57.0</td>\n",
       "      <td>среднее</td>\n",
       "      <td>1</td>\n",
       "      <td>женат / замужем</td>\n",
       "      <td>0</td>\n",
       "      <td>F</td>\n",
       "      <td>сотрудник</td>\n",
       "      <td>0</td>\n",
       "      <td>136555</td>\n",
       "      <td>сделка с подержанным автомобилем</td>\n",
       "    </tr>\n",
       "    <tr>\n",
       "      <td>554</td>\n",
       "      <td>0</td>\n",
       "      <td>1574.202821</td>\n",
       "      <td>60.0</td>\n",
       "      <td>среднее</td>\n",
       "      <td>1</td>\n",
       "      <td>женат / замужем</td>\n",
       "      <td>0</td>\n",
       "      <td>M</td>\n",
       "      <td>сотрудник</td>\n",
       "      <td>0</td>\n",
       "      <td>136555</td>\n",
       "      <td>покупка недвижимости</td>\n",
       "    </tr>\n",
       "    <tr>\n",
       "      <td>1431</td>\n",
       "      <td>0</td>\n",
       "      <td>1574.202821</td>\n",
       "      <td>41.0</td>\n",
       "      <td>среднее</td>\n",
       "      <td>1</td>\n",
       "      <td>женат / замужем</td>\n",
       "      <td>0</td>\n",
       "      <td>F</td>\n",
       "      <td>сотрудник</td>\n",
       "      <td>0</td>\n",
       "      <td>136555</td>\n",
       "      <td>покупка жилья для семьи</td>\n",
       "    </tr>\n",
       "    <tr>\n",
       "      <td>2849</td>\n",
       "      <td>0</td>\n",
       "      <td>1574.202821</td>\n",
       "      <td>41.0</td>\n",
       "      <td>среднее</td>\n",
       "      <td>1</td>\n",
       "      <td>женат / замужем</td>\n",
       "      <td>0</td>\n",
       "      <td>F</td>\n",
       "      <td>сотрудник</td>\n",
       "      <td>0</td>\n",
       "      <td>136555</td>\n",
       "      <td>покупка жилья для семьи</td>\n",
       "    </tr>\n",
       "    <tr>\n",
       "      <td>3111</td>\n",
       "      <td>0</td>\n",
       "      <td>1574.202821</td>\n",
       "      <td>54.0</td>\n",
       "      <td>среднее</td>\n",
       "      <td>1</td>\n",
       "      <td>женат / замужем</td>\n",
       "      <td>0</td>\n",
       "      <td>F</td>\n",
       "      <td>сотрудник</td>\n",
       "      <td>0</td>\n",
       "      <td>136555</td>\n",
       "      <td>операции со своей недвижимостью</td>\n",
       "    </tr>\n",
       "    <tr>\n",
       "      <td>4508</td>\n",
       "      <td>0</td>\n",
       "      <td>1574.202821</td>\n",
       "      <td>48.0</td>\n",
       "      <td>среднее</td>\n",
       "      <td>1</td>\n",
       "      <td>женат / замужем</td>\n",
       "      <td>0</td>\n",
       "      <td>F</td>\n",
       "      <td>сотрудник</td>\n",
       "      <td>0</td>\n",
       "      <td>136555</td>\n",
       "      <td>ремонт жилью</td>\n",
       "    </tr>\n",
       "    <tr>\n",
       "      <td>5394</td>\n",
       "      <td>1</td>\n",
       "      <td>1574.202821</td>\n",
       "      <td>43.0</td>\n",
       "      <td>среднее</td>\n",
       "      <td>1</td>\n",
       "      <td>женат / замужем</td>\n",
       "      <td>0</td>\n",
       "      <td>M</td>\n",
       "      <td>сотрудник</td>\n",
       "      <td>0</td>\n",
       "      <td>136555</td>\n",
       "      <td>заняться образованием</td>\n",
       "    </tr>\n",
       "    <tr>\n",
       "      <td>8015</td>\n",
       "      <td>0</td>\n",
       "      <td>1574.202821</td>\n",
       "      <td>58.0</td>\n",
       "      <td>среднее</td>\n",
       "      <td>1</td>\n",
       "      <td>женат / замужем</td>\n",
       "      <td>0</td>\n",
       "      <td>M</td>\n",
       "      <td>сотрудник</td>\n",
       "      <td>0</td>\n",
       "      <td>136555</td>\n",
       "      <td>покупка недвижимости</td>\n",
       "    </tr>\n",
       "    <tr>\n",
       "      <td>12215</td>\n",
       "      <td>0</td>\n",
       "      <td>1574.202821</td>\n",
       "      <td>50.0</td>\n",
       "      <td>среднее</td>\n",
       "      <td>1</td>\n",
       "      <td>Не женат / не замужем</td>\n",
       "      <td>4</td>\n",
       "      <td>F</td>\n",
       "      <td>сотрудник</td>\n",
       "      <td>0</td>\n",
       "      <td>136555</td>\n",
       "      <td>недвижимость</td>\n",
       "    </tr>\n",
       "    <tr>\n",
       "      <td>8886</td>\n",
       "      <td>1</td>\n",
       "      <td>1574.202821</td>\n",
       "      <td>37.0</td>\n",
       "      <td>среднее</td>\n",
       "      <td>1</td>\n",
       "      <td>женат / замужем</td>\n",
       "      <td>0</td>\n",
       "      <td>F</td>\n",
       "      <td>сотрудник</td>\n",
       "      <td>0</td>\n",
       "      <td>136555</td>\n",
       "      <td>покупка недвижимости</td>\n",
       "    </tr>\n",
       "    <tr>\n",
       "      <td>9009</td>\n",
       "      <td>0</td>\n",
       "      <td>1574.202821</td>\n",
       "      <td>46.0</td>\n",
       "      <td>среднее</td>\n",
       "      <td>1</td>\n",
       "      <td>женат / замужем</td>\n",
       "      <td>0</td>\n",
       "      <td>F</td>\n",
       "      <td>сотрудник</td>\n",
       "      <td>0</td>\n",
       "      <td>136555</td>\n",
       "      <td>свой автомобиль</td>\n",
       "    </tr>\n",
       "    <tr>\n",
       "      <td>9037</td>\n",
       "      <td>2</td>\n",
       "      <td>1574.202821</td>\n",
       "      <td>34.0</td>\n",
       "      <td>среднее</td>\n",
       "      <td>1</td>\n",
       "      <td>женат / замужем</td>\n",
       "      <td>0</td>\n",
       "      <td>F</td>\n",
       "      <td>сотрудник</td>\n",
       "      <td>0</td>\n",
       "      <td>136555</td>\n",
       "      <td>покупка жилья для сдачи</td>\n",
       "    </tr>\n",
       "    <tr>\n",
       "      <td>11033</td>\n",
       "      <td>2</td>\n",
       "      <td>1574.202821</td>\n",
       "      <td>39.0</td>\n",
       "      <td>среднее</td>\n",
       "      <td>1</td>\n",
       "      <td>гражданский брак</td>\n",
       "      <td>1</td>\n",
       "      <td>F</td>\n",
       "      <td>сотрудник</td>\n",
       "      <td>0</td>\n",
       "      <td>136555</td>\n",
       "      <td>сыграть свадьбу</td>\n",
       "    </tr>\n",
       "    <tr>\n",
       "      <td>11838</td>\n",
       "      <td>0</td>\n",
       "      <td>1574.202821</td>\n",
       "      <td>47.0</td>\n",
       "      <td>среднее</td>\n",
       "      <td>1</td>\n",
       "      <td>женат / замужем</td>\n",
       "      <td>0</td>\n",
       "      <td>F</td>\n",
       "      <td>сотрудник</td>\n",
       "      <td>0</td>\n",
       "      <td>136555</td>\n",
       "      <td>ремонт жилью</td>\n",
       "    </tr>\n",
       "    <tr>\n",
       "      <td>11791</td>\n",
       "      <td>0</td>\n",
       "      <td>1574.202821</td>\n",
       "      <td>47.0</td>\n",
       "      <td>среднее</td>\n",
       "      <td>1</td>\n",
       "      <td>женат / замужем</td>\n",
       "      <td>0</td>\n",
       "      <td>F</td>\n",
       "      <td>сотрудник</td>\n",
       "      <td>0</td>\n",
       "      <td>136555</td>\n",
       "      <td>строительство недвижимости</td>\n",
       "    </tr>\n",
       "    <tr>\n",
       "      <td>11443</td>\n",
       "      <td>0</td>\n",
       "      <td>1574.202821</td>\n",
       "      <td>56.0</td>\n",
       "      <td>среднее</td>\n",
       "      <td>1</td>\n",
       "      <td>гражданский брак</td>\n",
       "      <td>1</td>\n",
       "      <td>F</td>\n",
       "      <td>сотрудник</td>\n",
       "      <td>0</td>\n",
       "      <td>136555</td>\n",
       "      <td>сыграть свадьбу</td>\n",
       "    </tr>\n",
       "    <tr>\n",
       "      <td>9739</td>\n",
       "      <td>0</td>\n",
       "      <td>1574.202821</td>\n",
       "      <td>44.0</td>\n",
       "      <td>среднее</td>\n",
       "      <td>1</td>\n",
       "      <td>женат / замужем</td>\n",
       "      <td>0</td>\n",
       "      <td>F</td>\n",
       "      <td>сотрудник</td>\n",
       "      <td>0</td>\n",
       "      <td>136555</td>\n",
       "      <td>приобретение автомобиля</td>\n",
       "    </tr>\n",
       "    <tr>\n",
       "      <td>9238</td>\n",
       "      <td>2</td>\n",
       "      <td>1574.202821</td>\n",
       "      <td>34.0</td>\n",
       "      <td>среднее</td>\n",
       "      <td>1</td>\n",
       "      <td>женат / замужем</td>\n",
       "      <td>0</td>\n",
       "      <td>F</td>\n",
       "      <td>сотрудник</td>\n",
       "      <td>0</td>\n",
       "      <td>136555</td>\n",
       "      <td>покупка жилья для сдачи</td>\n",
       "    </tr>\n",
       "    <tr>\n",
       "      <td>11702</td>\n",
       "      <td>1</td>\n",
       "      <td>1574.202821</td>\n",
       "      <td>44.0</td>\n",
       "      <td>среднее</td>\n",
       "      <td>1</td>\n",
       "      <td>женат / замужем</td>\n",
       "      <td>0</td>\n",
       "      <td>F</td>\n",
       "      <td>сотрудник</td>\n",
       "      <td>0</td>\n",
       "      <td>136555</td>\n",
       "      <td>сделка с подержанным автомобилем</td>\n",
       "    </tr>\n",
       "    <tr>\n",
       "      <td>9900</td>\n",
       "      <td>0</td>\n",
       "      <td>1574.202821</td>\n",
       "      <td>47.0</td>\n",
       "      <td>среднее</td>\n",
       "      <td>1</td>\n",
       "      <td>женат / замужем</td>\n",
       "      <td>0</td>\n",
       "      <td>F</td>\n",
       "      <td>сотрудник</td>\n",
       "      <td>0</td>\n",
       "      <td>136555</td>\n",
       "      <td>строительство недвижимости</td>\n",
       "    </tr>\n",
       "    <tr>\n",
       "      <td>1511</td>\n",
       "      <td>0</td>\n",
       "      <td>15217.221094</td>\n",
       "      <td>58.0</td>\n",
       "      <td>высшее</td>\n",
       "      <td>0</td>\n",
       "      <td>Не женат / не замужем</td>\n",
       "      <td>4</td>\n",
       "      <td>F</td>\n",
       "      <td>пенсионер</td>\n",
       "      <td>0</td>\n",
       "      <td>144240</td>\n",
       "      <td>дополнительное образование</td>\n",
       "    </tr>\n",
       "    <tr>\n",
       "      <td>8583</td>\n",
       "      <td>0</td>\n",
       "      <td>15217.221094</td>\n",
       "      <td>58.0</td>\n",
       "      <td>высшее</td>\n",
       "      <td>0</td>\n",
       "      <td>Не женат / не замужем</td>\n",
       "      <td>4</td>\n",
       "      <td>F</td>\n",
       "      <td>пенсионер</td>\n",
       "      <td>0</td>\n",
       "      <td>144240</td>\n",
       "      <td>дополнительное образование</td>\n",
       "    </tr>\n",
       "    <tr>\n",
       "      <td>10697</td>\n",
       "      <td>0</td>\n",
       "      <td>1547.382223</td>\n",
       "      <td>40.0</td>\n",
       "      <td>среднее</td>\n",
       "      <td>1</td>\n",
       "      <td>гражданский брак</td>\n",
       "      <td>1</td>\n",
       "      <td>F</td>\n",
       "      <td>компаньон</td>\n",
       "      <td>0</td>\n",
       "      <td>159070</td>\n",
       "      <td>сыграть свадьбу</td>\n",
       "    </tr>\n",
       "    <tr>\n",
       "      <td>5124</td>\n",
       "      <td>0</td>\n",
       "      <td>1547.382223</td>\n",
       "      <td>40.0</td>\n",
       "      <td>среднее</td>\n",
       "      <td>1</td>\n",
       "      <td>гражданский брак</td>\n",
       "      <td>1</td>\n",
       "      <td>F</td>\n",
       "      <td>компаньон</td>\n",
       "      <td>0</td>\n",
       "      <td>159070</td>\n",
       "      <td>сыграть свадьбу</td>\n",
       "    </tr>\n",
       "    <tr>\n",
       "      <td>13878</td>\n",
       "      <td>1</td>\n",
       "      <td>1547.382223</td>\n",
       "      <td>31.0</td>\n",
       "      <td>среднее</td>\n",
       "      <td>1</td>\n",
       "      <td>женат / замужем</td>\n",
       "      <td>0</td>\n",
       "      <td>F</td>\n",
       "      <td>компаньон</td>\n",
       "      <td>0</td>\n",
       "      <td>159070</td>\n",
       "      <td>покупка жилья</td>\n",
       "    </tr>\n",
       "    <tr>\n",
       "      <td>17774</td>\n",
       "      <td>1</td>\n",
       "      <td>1547.382223</td>\n",
       "      <td>40.0</td>\n",
       "      <td>среднее</td>\n",
       "      <td>1</td>\n",
       "      <td>гражданский брак</td>\n",
       "      <td>1</td>\n",
       "      <td>F</td>\n",
       "      <td>компаньон</td>\n",
       "      <td>0</td>\n",
       "      <td>159070</td>\n",
       "      <td>строительство жилой недвижимости</td>\n",
       "    </tr>\n",
       "    <tr>\n",
       "      <td>8490</td>\n",
       "      <td>1</td>\n",
       "      <td>1547.382223</td>\n",
       "      <td>31.0</td>\n",
       "      <td>среднее</td>\n",
       "      <td>1</td>\n",
       "      <td>женат / замужем</td>\n",
       "      <td>0</td>\n",
       "      <td>F</td>\n",
       "      <td>компаньон</td>\n",
       "      <td>0</td>\n",
       "      <td>159070</td>\n",
       "      <td>покупка жилья</td>\n",
       "    </tr>\n",
       "    <tr>\n",
       "      <td>4081</td>\n",
       "      <td>1</td>\n",
       "      <td>1547.382223</td>\n",
       "      <td>40.0</td>\n",
       "      <td>среднее</td>\n",
       "      <td>1</td>\n",
       "      <td>гражданский брак</td>\n",
       "      <td>1</td>\n",
       "      <td>F</td>\n",
       "      <td>компаньон</td>\n",
       "      <td>0</td>\n",
       "      <td>159070</td>\n",
       "      <td>строительство жилой недвижимости</td>\n",
       "    </tr>\n",
       "    <tr>\n",
       "      <td>21281</td>\n",
       "      <td>1</td>\n",
       "      <td>1574.202821</td>\n",
       "      <td>30.0</td>\n",
       "      <td>высшее</td>\n",
       "      <td>0</td>\n",
       "      <td>женат / замужем</td>\n",
       "      <td>0</td>\n",
       "      <td>F</td>\n",
       "      <td>сотрудник</td>\n",
       "      <td>0</td>\n",
       "      <td>165640</td>\n",
       "      <td>покупка коммерческой недвижимости</td>\n",
       "    </tr>\n",
       "    <tr>\n",
       "      <td>3452</td>\n",
       "      <td>0</td>\n",
       "      <td>1574.202821</td>\n",
       "      <td>29.0</td>\n",
       "      <td>высшее</td>\n",
       "      <td>0</td>\n",
       "      <td>женат / замужем</td>\n",
       "      <td>0</td>\n",
       "      <td>M</td>\n",
       "      <td>сотрудник</td>\n",
       "      <td>0</td>\n",
       "      <td>165640</td>\n",
       "      <td>покупка жилой недвижимости</td>\n",
       "    </tr>\n",
       "    <tr>\n",
       "      <td>4182</td>\n",
       "      <td>1</td>\n",
       "      <td>1574.202821</td>\n",
       "      <td>34.0</td>\n",
       "      <td>ВЫСШЕЕ</td>\n",
       "      <td>0</td>\n",
       "      <td>гражданский брак</td>\n",
       "      <td>1</td>\n",
       "      <td>F</td>\n",
       "      <td>сотрудник</td>\n",
       "      <td>0</td>\n",
       "      <td>165640</td>\n",
       "      <td>свадьба</td>\n",
       "    </tr>\n",
       "    <tr>\n",
       "      <td>12851</td>\n",
       "      <td>1</td>\n",
       "      <td>1574.202821</td>\n",
       "      <td>32.0</td>\n",
       "      <td>высшее</td>\n",
       "      <td>0</td>\n",
       "      <td>женат / замужем</td>\n",
       "      <td>0</td>\n",
       "      <td>F</td>\n",
       "      <td>сотрудник</td>\n",
       "      <td>0</td>\n",
       "      <td>165640</td>\n",
       "      <td>на покупку подержанного автомобиля</td>\n",
       "    </tr>\n",
       "    <tr>\n",
       "      <td>16904</td>\n",
       "      <td>1</td>\n",
       "      <td>1574.202821</td>\n",
       "      <td>32.0</td>\n",
       "      <td>высшее</td>\n",
       "      <td>0</td>\n",
       "      <td>женат / замужем</td>\n",
       "      <td>0</td>\n",
       "      <td>F</td>\n",
       "      <td>сотрудник</td>\n",
       "      <td>0</td>\n",
       "      <td>165640</td>\n",
       "      <td>на покупку подержанного автомобиля</td>\n",
       "    </tr>\n",
       "    <tr>\n",
       "      <td>8629</td>\n",
       "      <td>1</td>\n",
       "      <td>1574.202821</td>\n",
       "      <td>30.0</td>\n",
       "      <td>высшее</td>\n",
       "      <td>0</td>\n",
       "      <td>женат / замужем</td>\n",
       "      <td>0</td>\n",
       "      <td>F</td>\n",
       "      <td>сотрудник</td>\n",
       "      <td>0</td>\n",
       "      <td>165640</td>\n",
       "      <td>покупка коммерческой недвижимости</td>\n",
       "    </tr>\n",
       "    <tr>\n",
       "      <td>3690</td>\n",
       "      <td>1</td>\n",
       "      <td>1574.202821</td>\n",
       "      <td>34.0</td>\n",
       "      <td>ВЫСШЕЕ</td>\n",
       "      <td>0</td>\n",
       "      <td>гражданский брак</td>\n",
       "      <td>1</td>\n",
       "      <td>F</td>\n",
       "      <td>сотрудник</td>\n",
       "      <td>0</td>\n",
       "      <td>165640</td>\n",
       "      <td>свадьба</td>\n",
       "    </tr>\n",
       "    <tr>\n",
       "      <td>18328</td>\n",
       "      <td>0</td>\n",
       "      <td>1574.202821</td>\n",
       "      <td>29.0</td>\n",
       "      <td>высшее</td>\n",
       "      <td>0</td>\n",
       "      <td>женат / замужем</td>\n",
       "      <td>0</td>\n",
       "      <td>M</td>\n",
       "      <td>сотрудник</td>\n",
       "      <td>0</td>\n",
       "      <td>165640</td>\n",
       "      <td>покупка жилой недвижимости</td>\n",
       "    </tr>\n",
       "    <tr>\n",
       "      <td>680</td>\n",
       "      <td>1</td>\n",
       "      <td>2689.368353</td>\n",
       "      <td>30.0</td>\n",
       "      <td>высшее</td>\n",
       "      <td>0</td>\n",
       "      <td>женат / замужем</td>\n",
       "      <td>0</td>\n",
       "      <td>F</td>\n",
       "      <td>госслужащий</td>\n",
       "      <td>0</td>\n",
       "      <td>172511</td>\n",
       "      <td>покупка жилья для семьи</td>\n",
       "    </tr>\n",
       "    <tr>\n",
       "      <td>9013</td>\n",
       "      <td>2</td>\n",
       "      <td>2689.368353</td>\n",
       "      <td>36.0</td>\n",
       "      <td>высшее</td>\n",
       "      <td>0</td>\n",
       "      <td>женат / замужем</td>\n",
       "      <td>0</td>\n",
       "      <td>F</td>\n",
       "      <td>госслужащий</td>\n",
       "      <td>0</td>\n",
       "      <td>172511</td>\n",
       "      <td>получение образования</td>\n",
       "    </tr>\n",
       "    <tr>\n",
       "      <td>18349</td>\n",
       "      <td>1</td>\n",
       "      <td>2689.368353</td>\n",
       "      <td>30.0</td>\n",
       "      <td>высшее</td>\n",
       "      <td>0</td>\n",
       "      <td>женат / замужем</td>\n",
       "      <td>0</td>\n",
       "      <td>F</td>\n",
       "      <td>госслужащий</td>\n",
       "      <td>0</td>\n",
       "      <td>172511</td>\n",
       "      <td>покупка жилья для семьи</td>\n",
       "    </tr>\n",
       "    <tr>\n",
       "      <td>14432</td>\n",
       "      <td>2</td>\n",
       "      <td>2689.368353</td>\n",
       "      <td>36.0</td>\n",
       "      <td>высшее</td>\n",
       "      <td>0</td>\n",
       "      <td>женат / замужем</td>\n",
       "      <td>0</td>\n",
       "      <td>F</td>\n",
       "      <td>госслужащий</td>\n",
       "      <td>0</td>\n",
       "      <td>172511</td>\n",
       "      <td>получение образования</td>\n",
       "    </tr>\n",
       "    <tr>\n",
       "      <td>19387</td>\n",
       "      <td>0</td>\n",
       "      <td>1547.382223</td>\n",
       "      <td>38.0</td>\n",
       "      <td>высшее</td>\n",
       "      <td>0</td>\n",
       "      <td>гражданский брак</td>\n",
       "      <td>1</td>\n",
       "      <td>F</td>\n",
       "      <td>компаньон</td>\n",
       "      <td>0</td>\n",
       "      <td>201785</td>\n",
       "      <td>на проведение свадьбы</td>\n",
       "    </tr>\n",
       "    <tr>\n",
       "      <td>9374</td>\n",
       "      <td>0</td>\n",
       "      <td>1547.382223</td>\n",
       "      <td>38.0</td>\n",
       "      <td>высшее</td>\n",
       "      <td>0</td>\n",
       "      <td>гражданский брак</td>\n",
       "      <td>1</td>\n",
       "      <td>F</td>\n",
       "      <td>компаньон</td>\n",
       "      <td>0</td>\n",
       "      <td>201785</td>\n",
       "      <td>на проведение свадьбы</td>\n",
       "    </tr>\n",
       "    <tr>\n",
       "      <td>2254</td>\n",
       "      <td>0</td>\n",
       "      <td>1547.382223</td>\n",
       "      <td>54.0</td>\n",
       "      <td>высшее</td>\n",
       "      <td>0</td>\n",
       "      <td>женат / замужем</td>\n",
       "      <td>0</td>\n",
       "      <td>M</td>\n",
       "      <td>компаньон</td>\n",
       "      <td>0</td>\n",
       "      <td>201785</td>\n",
       "      <td>операции с коммерческой недвижимостью</td>\n",
       "    </tr>\n",
       "    <tr>\n",
       "      <td>17379</td>\n",
       "      <td>0</td>\n",
       "      <td>1547.382223</td>\n",
       "      <td>54.0</td>\n",
       "      <td>высшее</td>\n",
       "      <td>0</td>\n",
       "      <td>женат / замужем</td>\n",
       "      <td>0</td>\n",
       "      <td>M</td>\n",
       "      <td>компаньон</td>\n",
       "      <td>0</td>\n",
       "      <td>201785</td>\n",
       "      <td>операции с коммерческой недвижимостью</td>\n",
       "    </tr>\n",
       "  </tbody>\n",
       "</table>\n",
       "</div>"
      ],
      "text/plain": [
       "       children  days_employed  dob_years education  education_id  \\\n",
       "21415         0   15217.221094       54.0   среднее             1   \n",
       "4851          0   15217.221094       60.0   среднее             1   \n",
       "18428         0   15217.221094       64.0   среднее             1   \n",
       "17787         0   15217.221094       54.0   среднее             1   \n",
       "5557          0   15217.221094       58.0   среднее             1   \n",
       "7808          0   15217.221094       57.0   среднее             1   \n",
       "7995          0   15217.221094       57.0   среднее             1   \n",
       "8178          0   15217.221094       64.0   среднее             1   \n",
       "15273         0   15217.221094       57.0   среднее             1   \n",
       "4529          0   15217.221094       57.0   среднее             1   \n",
       "9528          0   15217.221094       66.0   среднее             1   \n",
       "10462         0   15217.221094       62.0   среднее             1   \n",
       "10796         0   15217.221094       59.0   среднее             1   \n",
       "10864         0   15217.221094       62.0   среднее             1   \n",
       "10994         0   15217.221094       62.0   среднее             1   \n",
       "13639         0   15217.221094       64.0   среднее             1   \n",
       "12736         0   15217.221094       59.0   среднее             1   \n",
       "12393         0   15217.221094       58.0   среднее             1   \n",
       "12389         0   15217.221094       64.0   среднее             1   \n",
       "9627          0   15217.221094       56.0   среднее             1   \n",
       "18755         0   15217.221094       58.0   среднее             1   \n",
       "5865          0   15217.221094       66.0   среднее             1   \n",
       "2052          0   15217.221094       58.0   среднее             1   \n",
       "3609          0   15217.221094       64.0   среднее             1   \n",
       "21032         0   15217.221094       60.0   среднее             1   \n",
       "3378          0   15217.221094       62.0   среднее             1   \n",
       "3344          0   15217.221094       56.0   среднее             1   \n",
       "20702         0   15217.221094       64.0   среднее             1   \n",
       "19688         0   15217.221094       61.0   среднее             1   \n",
       "2596          0   15217.221094       60.0   среднее             1   \n",
       "1681          0   15217.221094       57.0   среднее             1   \n",
       "2545          0   15217.221094       60.0   среднее             1   \n",
       "1005          0   15217.221094       62.0   среднее             1   \n",
       "1191          0   15217.221094       61.0   среднее             1   \n",
       "20116         0   15217.221094       57.0   среднее             1   \n",
       "13942         0    1574.202821       44.0   среднее             1   \n",
       "13773         0    1574.202821       35.0   среднее             1   \n",
       "19946         0    1574.202821       57.0   среднее             1   \n",
       "18563         0    1574.202821       54.0   среднее             1   \n",
       "13025         1    1574.202821       44.0   среднее             1   \n",
       "21132         0    1574.202821       47.0   среднее             1   \n",
       "13712         0    1574.202821       42.0   среднее             1   \n",
       "20165         0    1574.202821       42.0   среднее             1   \n",
       "15188         0    1574.202821       60.0   среднее             1   \n",
       "15091         0    1574.202821       58.0   среднее             1   \n",
       "19041         0    1574.202821       56.0   среднее             1   \n",
       "19832         0    1574.202821       48.0   среднее             1   \n",
       "15892         0    1574.202821       23.0   среднее             1   \n",
       "16176         0    1574.202821       47.0   среднее             1   \n",
       "16378         0    1574.202821       46.0   среднее             1   \n",
       "16902         2    1574.202821       39.0   среднее             1   \n",
       "17291         0    1574.202821       56.0   среднее             1   \n",
       "17755         1    1574.202821       43.0   среднее             1   \n",
       "12375         1    1574.202821       37.0   среднее             1   \n",
       "19321         0    1574.202821       23.0   среднее             1   \n",
       "19184         0    1574.202821       46.0   среднее             1   \n",
       "18521         0    1574.202821       56.0   среднее             1   \n",
       "14832         0    1574.202821       50.0   среднее             1   \n",
       "12373         0    1574.202821       58.0   среднее             1   \n",
       "120           0    1574.202821       46.0   среднее             1   \n",
       "11950         0    1574.202821       58.0   среднее             1   \n",
       "520           0    1574.202821       35.0   среднее             1   \n",
       "541           0    1574.202821       57.0   среднее             1   \n",
       "554           0    1574.202821       60.0   среднее             1   \n",
       "1431          0    1574.202821       41.0   среднее             1   \n",
       "2849          0    1574.202821       41.0   среднее             1   \n",
       "3111          0    1574.202821       54.0   среднее             1   \n",
       "4508          0    1574.202821       48.0   среднее             1   \n",
       "5394          1    1574.202821       43.0   среднее             1   \n",
       "8015          0    1574.202821       58.0   среднее             1   \n",
       "12215         0    1574.202821       50.0   среднее             1   \n",
       "8886          1    1574.202821       37.0   среднее             1   \n",
       "9009          0    1574.202821       46.0   среднее             1   \n",
       "9037          2    1574.202821       34.0   среднее             1   \n",
       "11033         2    1574.202821       39.0   среднее             1   \n",
       "11838         0    1574.202821       47.0   среднее             1   \n",
       "11791         0    1574.202821       47.0   среднее             1   \n",
       "11443         0    1574.202821       56.0   среднее             1   \n",
       "9739          0    1574.202821       44.0   среднее             1   \n",
       "9238          2    1574.202821       34.0   среднее             1   \n",
       "11702         1    1574.202821       44.0   среднее             1   \n",
       "9900          0    1574.202821       47.0   среднее             1   \n",
       "1511          0   15217.221094       58.0    высшее             0   \n",
       "8583          0   15217.221094       58.0    высшее             0   \n",
       "10697         0    1547.382223       40.0   среднее             1   \n",
       "5124          0    1547.382223       40.0   среднее             1   \n",
       "13878         1    1547.382223       31.0   среднее             1   \n",
       "17774         1    1547.382223       40.0   среднее             1   \n",
       "8490          1    1547.382223       31.0   среднее             1   \n",
       "4081          1    1547.382223       40.0   среднее             1   \n",
       "21281         1    1574.202821       30.0    высшее             0   \n",
       "3452          0    1574.202821       29.0    высшее             0   \n",
       "4182          1    1574.202821       34.0    ВЫСШЕЕ             0   \n",
       "12851         1    1574.202821       32.0    высшее             0   \n",
       "16904         1    1574.202821       32.0    высшее             0   \n",
       "8629          1    1574.202821       30.0    высшее             0   \n",
       "3690          1    1574.202821       34.0    ВЫСШЕЕ             0   \n",
       "18328         0    1574.202821       29.0    высшее             0   \n",
       "680           1    2689.368353       30.0    высшее             0   \n",
       "9013          2    2689.368353       36.0    высшее             0   \n",
       "18349         1    2689.368353       30.0    высшее             0   \n",
       "14432         2    2689.368353       36.0    высшее             0   \n",
       "19387         0    1547.382223       38.0    высшее             0   \n",
       "9374          0    1547.382223       38.0    высшее             0   \n",
       "2254          0    1547.382223       54.0    высшее             0   \n",
       "17379         0    1547.382223       54.0    высшее             0   \n",
       "\n",
       "               family_status  family_status_id gender  income_type  debt  \\\n",
       "21415        женат / замужем                 0      F    пенсионер     0   \n",
       "4851        гражданский брак                 1      F    пенсионер     0   \n",
       "18428        женат / замужем                 0      F    пенсионер     0   \n",
       "17787        женат / замужем                 0      F    пенсионер     0   \n",
       "5557        гражданский брак                 1      F    пенсионер     0   \n",
       "7808        гражданский брак                 1      F    пенсионер     0   \n",
       "7995        гражданский брак                 1      F    пенсионер     0   \n",
       "8178         женат / замужем                 0      F    пенсионер     0   \n",
       "15273       гражданский брак                 1      F    пенсионер     0   \n",
       "4529        гражданский брак                 1      M    пенсионер     0   \n",
       "9528          вдовец / вдова                 2      F    пенсионер     0   \n",
       "10462        женат / замужем                 0      F    пенсионер     0   \n",
       "10796        женат / замужем                 0      F    пенсионер     0   \n",
       "10864        женат / замужем                 0      F    пенсионер     0   \n",
       "10994        женат / замужем                 0      F    пенсионер     0   \n",
       "13639        женат / замужем                 0      F    пенсионер     0   \n",
       "12736        женат / замужем                 0      F    пенсионер     0   \n",
       "12393        женат / замужем                 0      F    пенсионер     0   \n",
       "12389        женат / замужем                 0      F    пенсионер     0   \n",
       "9627         женат / замужем                 0      F    пенсионер     0   \n",
       "18755        женат / замужем                 0      F    пенсионер     0   \n",
       "5865          вдовец / вдова                 2      F    пенсионер     0   \n",
       "2052        гражданский брак                 1      F    пенсионер     0   \n",
       "3609         женат / замужем                 0      F    пенсионер     0   \n",
       "21032        женат / замужем                 0      F    пенсионер     0   \n",
       "3378         женат / замужем                 0      F    пенсионер     0   \n",
       "3344         женат / замужем                 0      F    пенсионер     0   \n",
       "20702        женат / замужем                 0      F    пенсионер     0   \n",
       "19688        женат / замужем                 0      F    пенсионер     0   \n",
       "2596        гражданский брак                 1      F    пенсионер     0   \n",
       "1681        гражданский брак                 1      F    пенсионер     0   \n",
       "2545         женат / замужем                 0      F    пенсионер     0   \n",
       "1005         женат / замужем                 0      F    пенсионер     0   \n",
       "1191         женат / замужем                 0      F    пенсионер     0   \n",
       "20116       гражданский брак                 1      M    пенсионер     0   \n",
       "13942        женат / замужем                 0      F    сотрудник     0   \n",
       "13773       гражданский брак                 1      F    сотрудник     0   \n",
       "19946        женат / замужем                 0      F    сотрудник     0   \n",
       "18563        женат / замужем                 0      F    сотрудник     0   \n",
       "13025        женат / замужем                 0      F    сотрудник     0   \n",
       "21132        женат / замужем                 0      F    сотрудник     0   \n",
       "13712        женат / замужем                 0      F    сотрудник     0   \n",
       "20165        женат / замужем                 0      F    сотрудник     0   \n",
       "15188        женат / замужем                 0      M    сотрудник     0   \n",
       "15091       гражданский брак                 1      M    сотрудник     0   \n",
       "19041       гражданский брак                 1      F    сотрудник     0   \n",
       "19832        женат / замужем                 0      F    сотрудник     0   \n",
       "15892  Не женат / не замужем                 4      F    сотрудник     0   \n",
       "16176        женат / замужем                 0      F    сотрудник     0   \n",
       "16378        женат / замужем                 0      F    сотрудник     0   \n",
       "16902       гражданский брак                 1      F    сотрудник     0   \n",
       "17291       гражданский брак                 1      F    сотрудник     0   \n",
       "17755        женат / замужем                 0      M    сотрудник     0   \n",
       "12375        женат / замужем                 0      F    сотрудник     0   \n",
       "19321  Не женат / не замужем                 4      F    сотрудник     0   \n",
       "19184        женат / замужем                 0      F    сотрудник     0   \n",
       "18521       гражданский брак                 1      F    сотрудник     0   \n",
       "14832  Не женат / не замужем                 4      F    сотрудник     0   \n",
       "12373        женат / замужем                 0      M    сотрудник     0   \n",
       "120          женат / замужем                 0      F    сотрудник     0   \n",
       "11950       гражданский брак                 1      M    сотрудник     0   \n",
       "520         гражданский брак                 1      F    сотрудник     0   \n",
       "541          женат / замужем                 0      F    сотрудник     0   \n",
       "554          женат / замужем                 0      M    сотрудник     0   \n",
       "1431         женат / замужем                 0      F    сотрудник     0   \n",
       "2849         женат / замужем                 0      F    сотрудник     0   \n",
       "3111         женат / замужем                 0      F    сотрудник     0   \n",
       "4508         женат / замужем                 0      F    сотрудник     0   \n",
       "5394         женат / замужем                 0      M    сотрудник     0   \n",
       "8015         женат / замужем                 0      M    сотрудник     0   \n",
       "12215  Не женат / не замужем                 4      F    сотрудник     0   \n",
       "8886         женат / замужем                 0      F    сотрудник     0   \n",
       "9009         женат / замужем                 0      F    сотрудник     0   \n",
       "9037         женат / замужем                 0      F    сотрудник     0   \n",
       "11033       гражданский брак                 1      F    сотрудник     0   \n",
       "11838        женат / замужем                 0      F    сотрудник     0   \n",
       "11791        женат / замужем                 0      F    сотрудник     0   \n",
       "11443       гражданский брак                 1      F    сотрудник     0   \n",
       "9739         женат / замужем                 0      F    сотрудник     0   \n",
       "9238         женат / замужем                 0      F    сотрудник     0   \n",
       "11702        женат / замужем                 0      F    сотрудник     0   \n",
       "9900         женат / замужем                 0      F    сотрудник     0   \n",
       "1511   Не женат / не замужем                 4      F    пенсионер     0   \n",
       "8583   Не женат / не замужем                 4      F    пенсионер     0   \n",
       "10697       гражданский брак                 1      F    компаньон     0   \n",
       "5124        гражданский брак                 1      F    компаньон     0   \n",
       "13878        женат / замужем                 0      F    компаньон     0   \n",
       "17774       гражданский брак                 1      F    компаньон     0   \n",
       "8490         женат / замужем                 0      F    компаньон     0   \n",
       "4081        гражданский брак                 1      F    компаньон     0   \n",
       "21281        женат / замужем                 0      F    сотрудник     0   \n",
       "3452         женат / замужем                 0      M    сотрудник     0   \n",
       "4182        гражданский брак                 1      F    сотрудник     0   \n",
       "12851        женат / замужем                 0      F    сотрудник     0   \n",
       "16904        женат / замужем                 0      F    сотрудник     0   \n",
       "8629         женат / замужем                 0      F    сотрудник     0   \n",
       "3690        гражданский брак                 1      F    сотрудник     0   \n",
       "18328        женат / замужем                 0      M    сотрудник     0   \n",
       "680          женат / замужем                 0      F  госслужащий     0   \n",
       "9013         женат / замужем                 0      F  госслужащий     0   \n",
       "18349        женат / замужем                 0      F  госслужащий     0   \n",
       "14432        женат / замужем                 0      F  госслужащий     0   \n",
       "19387       гражданский брак                 1      F    компаньон     0   \n",
       "9374        гражданский брак                 1      F    компаньон     0   \n",
       "2254         женат / замужем                 0      M    компаньон     0   \n",
       "17379        женат / замужем                 0      M    компаньон     0   \n",
       "\n",
       "       total_income                                purpose  \n",
       "21415        114842                      операции с жильем  \n",
       "4851         114842                                свадьба  \n",
       "18428        114842                                  жилье  \n",
       "17787        114842                      операции с жильем  \n",
       "5557         114842                        сыграть свадьбу  \n",
       "7808         114842                  на проведение свадьбы  \n",
       "7995         114842                                свадьба  \n",
       "8178         114842                             автомобиль  \n",
       "15273        114842                                свадьба  \n",
       "4529         114842                                свадьба  \n",
       "9528         114842        операции со своей недвижимостью  \n",
       "10462        114842      покупка коммерческой недвижимости  \n",
       "10796        114842                  заняться образованием  \n",
       "10864        114842                           ремонт жилью  \n",
       "10994        114842                           ремонт жилью  \n",
       "13639        114842                             автомобиль  \n",
       "12736        114842                  заняться образованием  \n",
       "12393        114842                  заняться образованием  \n",
       "12389        114842             дополнительное образование  \n",
       "9627         114842        операции со своей недвижимостью  \n",
       "18755        114842                  заняться образованием  \n",
       "5865         114842        операции со своей недвижимостью  \n",
       "2052         114842                        сыграть свадьбу  \n",
       "3609         114842                                  жилье  \n",
       "21032        114842                  заняться образованием  \n",
       "3378         114842      покупка коммерческой недвижимости  \n",
       "3344         114842        операции со своей недвижимостью  \n",
       "20702        114842             дополнительное образование  \n",
       "19688        114842               операции с недвижимостью  \n",
       "2596         114842                                свадьба  \n",
       "1681         114842                  на проведение свадьбы  \n",
       "2545         114842                  заняться образованием  \n",
       "1005         114842                           ремонт жилью  \n",
       "1191         114842               операции с недвижимостью  \n",
       "20116        114842                                свадьба  \n",
       "13942        136555                приобретение автомобиля  \n",
       "13773        136555                        сыграть свадьбу  \n",
       "19946        136555       сделка с подержанным автомобилем  \n",
       "18563        136555        операции со своей недвижимостью  \n",
       "13025        136555       сделка с подержанным автомобилем  \n",
       "21132        136555                           ремонт жилью  \n",
       "13712        136555                покупка жилья для семьи  \n",
       "20165        136555                покупка жилья для семьи  \n",
       "15188        136555                   покупка недвижимости  \n",
       "15091        136555                  на проведение свадьбы  \n",
       "19041        136555                  на проведение свадьбы  \n",
       "19832        136555                           ремонт жилью  \n",
       "15892        136555       сделка с подержанным автомобилем  \n",
       "16176        136555                           ремонт жилью  \n",
       "16378        136555                     высшее образование  \n",
       "16902        136555                        сыграть свадьбу  \n",
       "17291        136555                  на проведение свадьбы  \n",
       "17755        136555                  заняться образованием  \n",
       "12375        136555                   покупка недвижимости  \n",
       "19321        136555       сделка с подержанным автомобилем  \n",
       "19184        136555                        свой автомобиль  \n",
       "18521        136555                        сыграть свадьбу  \n",
       "14832        136555                           недвижимость  \n",
       "12373        136555                   покупка недвижимости  \n",
       "120          136555                     высшее образование  \n",
       "11950        136555                  на проведение свадьбы  \n",
       "520          136555                        сыграть свадьбу  \n",
       "541          136555       сделка с подержанным автомобилем  \n",
       "554          136555                   покупка недвижимости  \n",
       "1431         136555                покупка жилья для семьи  \n",
       "2849         136555                покупка жилья для семьи  \n",
       "3111         136555        операции со своей недвижимостью  \n",
       "4508         136555                           ремонт жилью  \n",
       "5394         136555                  заняться образованием  \n",
       "8015         136555                   покупка недвижимости  \n",
       "12215        136555                           недвижимость  \n",
       "8886         136555                   покупка недвижимости  \n",
       "9009         136555                        свой автомобиль  \n",
       "9037         136555                покупка жилья для сдачи  \n",
       "11033        136555                        сыграть свадьбу  \n",
       "11838        136555                           ремонт жилью  \n",
       "11791        136555             строительство недвижимости  \n",
       "11443        136555                        сыграть свадьбу  \n",
       "9739         136555                приобретение автомобиля  \n",
       "9238         136555                покупка жилья для сдачи  \n",
       "11702        136555       сделка с подержанным автомобилем  \n",
       "9900         136555             строительство недвижимости  \n",
       "1511         144240             дополнительное образование  \n",
       "8583         144240             дополнительное образование  \n",
       "10697        159070                        сыграть свадьбу  \n",
       "5124         159070                        сыграть свадьбу  \n",
       "13878        159070                          покупка жилья  \n",
       "17774        159070       строительство жилой недвижимости  \n",
       "8490         159070                          покупка жилья  \n",
       "4081         159070       строительство жилой недвижимости  \n",
       "21281        165640      покупка коммерческой недвижимости  \n",
       "3452         165640             покупка жилой недвижимости  \n",
       "4182         165640                                свадьба  \n",
       "12851        165640     на покупку подержанного автомобиля  \n",
       "16904        165640     на покупку подержанного автомобиля  \n",
       "8629         165640      покупка коммерческой недвижимости  \n",
       "3690         165640                                свадьба  \n",
       "18328        165640             покупка жилой недвижимости  \n",
       "680          172511                покупка жилья для семьи  \n",
       "9013         172511                  получение образования  \n",
       "18349        172511                покупка жилья для семьи  \n",
       "14432        172511                  получение образования  \n",
       "19387        201785                  на проведение свадьбы  \n",
       "9374         201785                  на проведение свадьбы  \n",
       "2254         201785  операции с коммерческой недвижимостью  \n",
       "17379        201785  операции с коммерческой недвижимостью  "
      ]
     },
     "execution_count": 57,
     "metadata": {},
     "output_type": "execute_result"
    }
   ],
   "source": [
    "pd.set_option('display.max_rows', None)\n",
    "data[data.duplicated(keep=False)].sort_values('total_income')"
   ]
  },
  {
   "cell_type": "markdown",
   "id": "b7871932",
   "metadata": {},
   "source": [
    "Видно, что в таблице присутствуют как просто дубликаты одних и тех же значений (например, строки 1511, 8583), так и заемщики, которые брали кредиты несколько раз (причем данные по ним несколько расходятся - в возрасте и семейном положении (что логично - заявки подавались в разное время), но иногда даже отличается пол (строки 4529 и 9528, 15273 и т.д.)).\n",
    "\n",
    "Помимо удаления явных дубликатов, где все данные совпадают, напрашивается три пути работы с остальными:\n",
    "- оставить все данные, т.к. они могут нести полезную информацию (один и тот же человек в разное время и в разном статусе мог отдать кредит, а мог не отдать);\n",
    "- удалить все дубликаты, кроме первого/последнего встреченного;\n",
    "- удалить все дубликаты, кроме дубликата с самым большим возрастом заемщика (оставить наиболее свежие данные).\n",
    "\n",
    "Каждый подход имеет плюсы и минусы:\n",
    "- первый требует большой дополнительной обработки (отделять реальные дубликаты от попыток взять разные кредиты в разное время на разные цели) - это трудоемко, учитывая, что некоторые дубликаты могут быть записаны немного по-разному и критерий даже разного возраста может не сработать (например, строки 5557 и 7808 - кредит на одну цель (свадьба), но с разным возрастом (то ли две разные свадьбы, то ли дубликат));\n",
    "- при втором и третьем подходах возможно будут потеряны важные данные, к тому же в третьем подходе совсем необязательно, что для анализа пригодятся именно наиболее свежие данные, но, например, по менее значимому кредиту.\n",
    "\n",
    "В итоге, пойдем на компромисс и просто удалим все дубликаты методом \"по умолчанию\": оставим первый встреченный."
   ]
  },
  {
   "cell_type": "code",
   "execution_count": 58,
   "id": "a864c4a4",
   "metadata": {},
   "outputs": [],
   "source": [
    "data = data.drop_duplicates().reset_index(drop=True)"
   ]
  },
  {
   "cell_type": "code",
   "execution_count": 59,
   "id": "3dc7a1ad",
   "metadata": {},
   "outputs": [
    {
     "name": "stdout",
     "output_type": "stream",
     "text": [
      "<class 'pandas.core.frame.DataFrame'>\n",
      "RangeIndex: 21471 entries, 0 to 21470\n",
      "Data columns (total 12 columns):\n",
      "children            21471 non-null int64\n",
      "days_employed       21471 non-null float64\n",
      "dob_years           21471 non-null float64\n",
      "education           21471 non-null object\n",
      "education_id        21471 non-null int64\n",
      "family_status       21471 non-null object\n",
      "family_status_id    21471 non-null int64\n",
      "gender              21471 non-null object\n",
      "income_type         21471 non-null object\n",
      "debt                21471 non-null int64\n",
      "total_income        21471 non-null int64\n",
      "purpose             21471 non-null object\n",
      "dtypes: float64(2), int64(5), object(5)\n",
      "memory usage: 2.0+ MB\n"
     ]
    }
   ],
   "source": [
    "data.info()"
   ]
  },
  {
   "cell_type": "markdown",
   "id": "1faf01a0",
   "metadata": {},
   "source": [
    "#### Дубликаты education"
   ]
  },
  {
   "cell_type": "markdown",
   "id": "f8da44e2",
   "metadata": {},
   "source": [
    "При первоначальном обзоре мы обнаружили неявные дубликаты в признаке education (уровень образования записан разным регистром). Исправим это"
   ]
  },
  {
   "cell_type": "code",
   "execution_count": 60,
   "id": "6e184e5b",
   "metadata": {},
   "outputs": [
    {
     "data": {
      "text/plain": [
       "среднее                13705\n",
       "высшее                  4710\n",
       "СРЕДНЕЕ                  772\n",
       "Среднее                  711\n",
       "неоконченное высшее      668\n",
       "ВЫСШЕЕ                   273\n",
       "Высшее                   268\n",
       "начальное                250\n",
       "Неоконченное высшее       47\n",
       "НЕОКОНЧЕННОЕ ВЫСШЕЕ       29\n",
       "НАЧАЛЬНОЕ                 17\n",
       "Начальное                 15\n",
       "ученая степень             4\n",
       "УЧЕНАЯ СТЕПЕНЬ             1\n",
       "Ученая степень             1\n",
       "Name: education, dtype: int64"
      ]
     },
     "execution_count": 60,
     "metadata": {},
     "output_type": "execute_result"
    }
   ],
   "source": [
    "data['education'].value_counts()"
   ]
  },
  {
   "cell_type": "code",
   "execution_count": 61,
   "id": "2e43f846",
   "metadata": {
    "scrolled": true
   },
   "outputs": [
    {
     "data": {
      "text/plain": [
       "среднее                15188\n",
       "высшее                  5251\n",
       "неоконченное высшее      744\n",
       "начальное                282\n",
       "ученая степень             6\n",
       "Name: education, dtype: int64"
      ]
     },
     "execution_count": 61,
     "metadata": {},
     "output_type": "execute_result"
    }
   ],
   "source": [
    "data['education'] = data['education'].str.lower()\n",
    "data['education'].value_counts()"
   ]
  },
  {
   "cell_type": "code",
   "execution_count": 62,
   "id": "87b4cd49",
   "metadata": {},
   "outputs": [
    {
     "data": {
      "text/plain": [
       "1    15188\n",
       "0     5251\n",
       "2      744\n",
       "3      282\n",
       "4        6\n",
       "Name: education_id, dtype: int64"
      ]
     },
     "execution_count": 62,
     "metadata": {},
     "output_type": "execute_result"
    }
   ],
   "source": [
    "data['education_id'].value_counts()"
   ]
  },
  {
   "cell_type": "markdown",
   "id": "f266d8be",
   "metadata": {},
   "source": [
    "Сейчас данные выглядят корректно и совпадают с количеством категорий и их численными значениями по признаку 'education_id'.\n",
    "\n",
    "При первоначальном обзоре других неявных дубликатов в категориальных переменных не было обнаружено, так что работу с дубликатами на этом можно закончить."
   ]
  },
  {
   "cell_type": "markdown",
   "id": "bbdc4866",
   "metadata": {},
   "source": [
    "### Формирование дополнительных датафреймов словарей, декомпозиция исходного датафрейма."
   ]
  },
  {
   "cell_type": "markdown",
   "id": "8eb2b0fa",
   "metadata": {},
   "source": [
    "Создадим словари для education и family_status."
   ]
  },
  {
   "cell_type": "code",
   "execution_count": 63,
   "id": "ce8711de",
   "metadata": {},
   "outputs": [
    {
     "data": {
      "text/html": [
       "<div>\n",
       "<style scoped>\n",
       "    .dataframe tbody tr th:only-of-type {\n",
       "        vertical-align: middle;\n",
       "    }\n",
       "\n",
       "    .dataframe tbody tr th {\n",
       "        vertical-align: top;\n",
       "    }\n",
       "\n",
       "    .dataframe thead th {\n",
       "        text-align: right;\n",
       "    }\n",
       "</style>\n",
       "<table border=\"1\" class=\"dataframe\">\n",
       "  <thead>\n",
       "    <tr style=\"text-align: right;\">\n",
       "      <th></th>\n",
       "      <th>education</th>\n",
       "      <th>education_id</th>\n",
       "    </tr>\n",
       "  </thead>\n",
       "  <tbody>\n",
       "    <tr>\n",
       "      <td>0</td>\n",
       "      <td>высшее</td>\n",
       "      <td>0</td>\n",
       "    </tr>\n",
       "    <tr>\n",
       "      <td>1</td>\n",
       "      <td>среднее</td>\n",
       "      <td>1</td>\n",
       "    </tr>\n",
       "    <tr>\n",
       "      <td>2</td>\n",
       "      <td>неоконченное высшее</td>\n",
       "      <td>2</td>\n",
       "    </tr>\n",
       "    <tr>\n",
       "      <td>3</td>\n",
       "      <td>начальное</td>\n",
       "      <td>3</td>\n",
       "    </tr>\n",
       "    <tr>\n",
       "      <td>4</td>\n",
       "      <td>ученая степень</td>\n",
       "      <td>4</td>\n",
       "    </tr>\n",
       "  </tbody>\n",
       "</table>\n",
       "</div>"
      ],
      "text/plain": [
       "             education  education_id\n",
       "0               высшее             0\n",
       "1              среднее             1\n",
       "2  неоконченное высшее             2\n",
       "3            начальное             3\n",
       "4       ученая степень             4"
      ]
     },
     "execution_count": 63,
     "metadata": {},
     "output_type": "execute_result"
    }
   ],
   "source": [
    "education_dict = data[['education', 'education_id']].drop_duplicates().reset_index(drop=True)\n",
    "education_dict.head()"
   ]
  },
  {
   "cell_type": "code",
   "execution_count": 64,
   "id": "ea5635ef",
   "metadata": {},
   "outputs": [
    {
     "data": {
      "text/html": [
       "<div>\n",
       "<style scoped>\n",
       "    .dataframe tbody tr th:only-of-type {\n",
       "        vertical-align: middle;\n",
       "    }\n",
       "\n",
       "    .dataframe tbody tr th {\n",
       "        vertical-align: top;\n",
       "    }\n",
       "\n",
       "    .dataframe thead th {\n",
       "        text-align: right;\n",
       "    }\n",
       "</style>\n",
       "<table border=\"1\" class=\"dataframe\">\n",
       "  <thead>\n",
       "    <tr style=\"text-align: right;\">\n",
       "      <th></th>\n",
       "      <th>family_status</th>\n",
       "      <th>family_status_id</th>\n",
       "    </tr>\n",
       "  </thead>\n",
       "  <tbody>\n",
       "    <tr>\n",
       "      <td>0</td>\n",
       "      <td>женат / замужем</td>\n",
       "      <td>0</td>\n",
       "    </tr>\n",
       "    <tr>\n",
       "      <td>1</td>\n",
       "      <td>гражданский брак</td>\n",
       "      <td>1</td>\n",
       "    </tr>\n",
       "    <tr>\n",
       "      <td>2</td>\n",
       "      <td>вдовец / вдова</td>\n",
       "      <td>2</td>\n",
       "    </tr>\n",
       "    <tr>\n",
       "      <td>3</td>\n",
       "      <td>в разводе</td>\n",
       "      <td>3</td>\n",
       "    </tr>\n",
       "    <tr>\n",
       "      <td>4</td>\n",
       "      <td>Не женат / не замужем</td>\n",
       "      <td>4</td>\n",
       "    </tr>\n",
       "  </tbody>\n",
       "</table>\n",
       "</div>"
      ],
      "text/plain": [
       "           family_status  family_status_id\n",
       "0        женат / замужем                 0\n",
       "1       гражданский брак                 1\n",
       "2         вдовец / вдова                 2\n",
       "3              в разводе                 3\n",
       "4  Не женат / не замужем                 4"
      ]
     },
     "execution_count": 64,
     "metadata": {},
     "output_type": "execute_result"
    }
   ],
   "source": [
    "family_status_dict = data[['family_status', 'family_status_id']].drop_duplicates().reset_index(drop=True)\n",
    "family_status_dict.head()"
   ]
  },
  {
   "cell_type": "markdown",
   "id": "558c0182",
   "metadata": {},
   "source": [
    "Удалим лишние данные из исходного датафрейма."
   ]
  },
  {
   "cell_type": "code",
   "execution_count": 65,
   "id": "eb8699b1",
   "metadata": {},
   "outputs": [
    {
     "data": {
      "text/html": [
       "<div>\n",
       "<style scoped>\n",
       "    .dataframe tbody tr th:only-of-type {\n",
       "        vertical-align: middle;\n",
       "    }\n",
       "\n",
       "    .dataframe tbody tr th {\n",
       "        vertical-align: top;\n",
       "    }\n",
       "\n",
       "    .dataframe thead th {\n",
       "        text-align: right;\n",
       "    }\n",
       "</style>\n",
       "<table border=\"1\" class=\"dataframe\">\n",
       "  <thead>\n",
       "    <tr style=\"text-align: right;\">\n",
       "      <th></th>\n",
       "      <th>children</th>\n",
       "      <th>days_employed</th>\n",
       "      <th>dob_years</th>\n",
       "      <th>education_id</th>\n",
       "      <th>family_status_id</th>\n",
       "      <th>gender</th>\n",
       "      <th>income_type</th>\n",
       "      <th>debt</th>\n",
       "      <th>total_income</th>\n",
       "      <th>purpose</th>\n",
       "    </tr>\n",
       "  </thead>\n",
       "  <tbody>\n",
       "    <tr>\n",
       "      <td>0</td>\n",
       "      <td>1</td>\n",
       "      <td>8437.673028</td>\n",
       "      <td>42.0</td>\n",
       "      <td>0</td>\n",
       "      <td>0</td>\n",
       "      <td>F</td>\n",
       "      <td>сотрудник</td>\n",
       "      <td>0</td>\n",
       "      <td>253875</td>\n",
       "      <td>покупка жилья</td>\n",
       "    </tr>\n",
       "    <tr>\n",
       "      <td>1</td>\n",
       "      <td>1</td>\n",
       "      <td>4024.803754</td>\n",
       "      <td>36.0</td>\n",
       "      <td>1</td>\n",
       "      <td>0</td>\n",
       "      <td>F</td>\n",
       "      <td>сотрудник</td>\n",
       "      <td>0</td>\n",
       "      <td>112080</td>\n",
       "      <td>приобретение автомобиля</td>\n",
       "    </tr>\n",
       "    <tr>\n",
       "      <td>2</td>\n",
       "      <td>0</td>\n",
       "      <td>5623.422610</td>\n",
       "      <td>33.0</td>\n",
       "      <td>1</td>\n",
       "      <td>0</td>\n",
       "      <td>M</td>\n",
       "      <td>сотрудник</td>\n",
       "      <td>0</td>\n",
       "      <td>145885</td>\n",
       "      <td>покупка жилья</td>\n",
       "    </tr>\n",
       "    <tr>\n",
       "      <td>3</td>\n",
       "      <td>3</td>\n",
       "      <td>4124.747207</td>\n",
       "      <td>32.0</td>\n",
       "      <td>1</td>\n",
       "      <td>0</td>\n",
       "      <td>M</td>\n",
       "      <td>сотрудник</td>\n",
       "      <td>0</td>\n",
       "      <td>267628</td>\n",
       "      <td>дополнительное образование</td>\n",
       "    </tr>\n",
       "    <tr>\n",
       "      <td>4</td>\n",
       "      <td>0</td>\n",
       "      <td>14177.753002</td>\n",
       "      <td>53.0</td>\n",
       "      <td>1</td>\n",
       "      <td>1</td>\n",
       "      <td>F</td>\n",
       "      <td>пенсионер</td>\n",
       "      <td>0</td>\n",
       "      <td>158616</td>\n",
       "      <td>сыграть свадьбу</td>\n",
       "    </tr>\n",
       "  </tbody>\n",
       "</table>\n",
       "</div>"
      ],
      "text/plain": [
       "   children  days_employed  dob_years  education_id  family_status_id gender  \\\n",
       "0         1    8437.673028       42.0             0                 0      F   \n",
       "1         1    4024.803754       36.0             1                 0      F   \n",
       "2         0    5623.422610       33.0             1                 0      M   \n",
       "3         3    4124.747207       32.0             1                 0      M   \n",
       "4         0   14177.753002       53.0             1                 1      F   \n",
       "\n",
       "  income_type  debt  total_income                     purpose  \n",
       "0   сотрудник     0        253875               покупка жилья  \n",
       "1   сотрудник     0        112080     приобретение автомобиля  \n",
       "2   сотрудник     0        145885               покупка жилья  \n",
       "3   сотрудник     0        267628  дополнительное образование  \n",
       "4   пенсионер     0        158616             сыграть свадьбу  "
      ]
     },
     "execution_count": 65,
     "metadata": {},
     "output_type": "execute_result"
    }
   ],
   "source": [
    "data.drop(columns=['family_status', 'education'], inplace=True)\n",
    "data.head()"
   ]
  },
  {
   "cell_type": "markdown",
   "id": "3a5f8568",
   "metadata": {},
   "source": [
    "Все хорошо."
   ]
  },
  {
   "cell_type": "markdown",
   "id": "8aa00b60",
   "metadata": {},
   "source": [
    "### Категоризация дохода."
   ]
  },
  {
   "cell_type": "markdown",
   "id": "8c469639",
   "metadata": {},
   "source": [
    "Создадим две дополнительные категории: по уровню дохода и цели кредита. Начнем с уровня дохода."
   ]
  },
  {
   "cell_type": "code",
   "execution_count": 66,
   "id": "0cd7ebce",
   "metadata": {},
   "outputs": [],
   "source": [
    "def total_income_cat_create(row):\n",
    "    if row['total_income'] < 30000:\n",
    "        return 'E'\n",
    "    elif row['total_income'] < 50000:\n",
    "        return 'D'\n",
    "    elif row['total_income'] < 200000:\n",
    "        return 'C'\n",
    "    elif row['total_income'] < 1000000:\n",
    "        return 'B'\n",
    "    else:\n",
    "        return 'A'"
   ]
  },
  {
   "cell_type": "code",
   "execution_count": 67,
   "id": "2717f8d4",
   "metadata": {},
   "outputs": [
    {
     "data": {
      "text/html": [
       "<div>\n",
       "<style scoped>\n",
       "    .dataframe tbody tr th:only-of-type {\n",
       "        vertical-align: middle;\n",
       "    }\n",
       "\n",
       "    .dataframe tbody tr th {\n",
       "        vertical-align: top;\n",
       "    }\n",
       "\n",
       "    .dataframe thead th {\n",
       "        text-align: right;\n",
       "    }\n",
       "</style>\n",
       "<table border=\"1\" class=\"dataframe\">\n",
       "  <thead>\n",
       "    <tr style=\"text-align: right;\">\n",
       "      <th></th>\n",
       "      <th>children</th>\n",
       "      <th>days_employed</th>\n",
       "      <th>dob_years</th>\n",
       "      <th>education_id</th>\n",
       "      <th>family_status_id</th>\n",
       "      <th>gender</th>\n",
       "      <th>income_type</th>\n",
       "      <th>debt</th>\n",
       "      <th>total_income</th>\n",
       "      <th>purpose</th>\n",
       "      <th>total_income_category</th>\n",
       "    </tr>\n",
       "  </thead>\n",
       "  <tbody>\n",
       "    <tr>\n",
       "      <td>0</td>\n",
       "      <td>1</td>\n",
       "      <td>8437.673028</td>\n",
       "      <td>42.0</td>\n",
       "      <td>0</td>\n",
       "      <td>0</td>\n",
       "      <td>F</td>\n",
       "      <td>сотрудник</td>\n",
       "      <td>0</td>\n",
       "      <td>253875</td>\n",
       "      <td>покупка жилья</td>\n",
       "      <td>B</td>\n",
       "    </tr>\n",
       "    <tr>\n",
       "      <td>1</td>\n",
       "      <td>1</td>\n",
       "      <td>4024.803754</td>\n",
       "      <td>36.0</td>\n",
       "      <td>1</td>\n",
       "      <td>0</td>\n",
       "      <td>F</td>\n",
       "      <td>сотрудник</td>\n",
       "      <td>0</td>\n",
       "      <td>112080</td>\n",
       "      <td>приобретение автомобиля</td>\n",
       "      <td>C</td>\n",
       "    </tr>\n",
       "    <tr>\n",
       "      <td>2</td>\n",
       "      <td>0</td>\n",
       "      <td>5623.422610</td>\n",
       "      <td>33.0</td>\n",
       "      <td>1</td>\n",
       "      <td>0</td>\n",
       "      <td>M</td>\n",
       "      <td>сотрудник</td>\n",
       "      <td>0</td>\n",
       "      <td>145885</td>\n",
       "      <td>покупка жилья</td>\n",
       "      <td>C</td>\n",
       "    </tr>\n",
       "    <tr>\n",
       "      <td>3</td>\n",
       "      <td>3</td>\n",
       "      <td>4124.747207</td>\n",
       "      <td>32.0</td>\n",
       "      <td>1</td>\n",
       "      <td>0</td>\n",
       "      <td>M</td>\n",
       "      <td>сотрудник</td>\n",
       "      <td>0</td>\n",
       "      <td>267628</td>\n",
       "      <td>дополнительное образование</td>\n",
       "      <td>B</td>\n",
       "    </tr>\n",
       "    <tr>\n",
       "      <td>4</td>\n",
       "      <td>0</td>\n",
       "      <td>14177.753002</td>\n",
       "      <td>53.0</td>\n",
       "      <td>1</td>\n",
       "      <td>1</td>\n",
       "      <td>F</td>\n",
       "      <td>пенсионер</td>\n",
       "      <td>0</td>\n",
       "      <td>158616</td>\n",
       "      <td>сыграть свадьбу</td>\n",
       "      <td>C</td>\n",
       "    </tr>\n",
       "  </tbody>\n",
       "</table>\n",
       "</div>"
      ],
      "text/plain": [
       "   children  days_employed  dob_years  education_id  family_status_id gender  \\\n",
       "0         1    8437.673028       42.0             0                 0      F   \n",
       "1         1    4024.803754       36.0             1                 0      F   \n",
       "2         0    5623.422610       33.0             1                 0      M   \n",
       "3         3    4124.747207       32.0             1                 0      M   \n",
       "4         0   14177.753002       53.0             1                 1      F   \n",
       "\n",
       "  income_type  debt  total_income                     purpose  \\\n",
       "0   сотрудник     0        253875               покупка жилья   \n",
       "1   сотрудник     0        112080     приобретение автомобиля   \n",
       "2   сотрудник     0        145885               покупка жилья   \n",
       "3   сотрудник     0        267628  дополнительное образование   \n",
       "4   пенсионер     0        158616             сыграть свадьбу   \n",
       "\n",
       "  total_income_category  \n",
       "0                     B  \n",
       "1                     C  \n",
       "2                     C  \n",
       "3                     B  \n",
       "4                     C  "
      ]
     },
     "execution_count": 67,
     "metadata": {},
     "output_type": "execute_result"
    }
   ],
   "source": [
    "data['total_income_category'] = data.apply(total_income_cat_create, axis=1)\n",
    "data.head(5)"
   ]
  },
  {
   "cell_type": "markdown",
   "id": "28b3da4a",
   "metadata": {},
   "source": [
    "### Категоризация целей кредита."
   ]
  },
  {
   "cell_type": "markdown",
   "id": "34dc9d5c",
   "metadata": {},
   "source": [
    "Создадим категорию для цели кредита"
   ]
  },
  {
   "cell_type": "code",
   "execution_count": 68,
   "id": "1e2a8a94",
   "metadata": {},
   "outputs": [
    {
     "data": {
      "text/plain": [
       "['автомобили',\n",
       " 'автомобиль',\n",
       " 'высшее образование',\n",
       " 'дополнительное образование',\n",
       " 'жилье',\n",
       " 'заняться высшим образованием',\n",
       " 'заняться образованием',\n",
       " 'на покупку автомобиля',\n",
       " 'на покупку подержанного автомобиля',\n",
       " 'на покупку своего автомобиля',\n",
       " 'на проведение свадьбы',\n",
       " 'недвижимость',\n",
       " 'образование',\n",
       " 'операции с жильем',\n",
       " 'операции с коммерческой недвижимостью',\n",
       " 'операции с недвижимостью',\n",
       " 'операции со своей недвижимостью',\n",
       " 'покупка жилой недвижимости',\n",
       " 'покупка жилья',\n",
       " 'покупка жилья для сдачи',\n",
       " 'покупка жилья для семьи',\n",
       " 'покупка коммерческой недвижимости',\n",
       " 'покупка недвижимости',\n",
       " 'покупка своего жилья',\n",
       " 'получение высшего образования',\n",
       " 'получение дополнительного образования',\n",
       " 'получение образования',\n",
       " 'приобретение автомобиля',\n",
       " 'профильное образование',\n",
       " 'ремонт жилью',\n",
       " 'свадьба',\n",
       " 'свой автомобиль',\n",
       " 'сделка с автомобилем',\n",
       " 'сделка с подержанным автомобилем',\n",
       " 'строительство жилой недвижимости',\n",
       " 'строительство недвижимости',\n",
       " 'строительство собственной недвижимости',\n",
       " 'сыграть свадьбу']"
      ]
     },
     "execution_count": 68,
     "metadata": {},
     "output_type": "execute_result"
    }
   ],
   "source": [
    "# сначала еще раз взглянем на цели\n",
    "sorted(data['purpose'].unique())"
   ]
  },
  {
   "cell_type": "code",
   "execution_count": 69,
   "id": "365406fd",
   "metadata": {},
   "outputs": [
    {
     "data": {
      "text/plain": [
       "38"
      ]
     },
     "execution_count": 69,
     "metadata": {},
     "output_type": "execute_result"
    }
   ],
   "source": [
    "data['purpose'].nunique()"
   ]
  },
  {
   "cell_type": "markdown",
   "id": "ed489a84",
   "metadata": {},
   "source": [
    "Всего у нас сейчас 38 категорий, которые нужно превратить в 4:\n",
    "- 'операции с автомобилем': слово 'авто..'\n",
    "- 'операции с недвижимостью': слова 'жил..', 'недвиж..'\n",
    "- 'проведение свадьбы': слово 'свадьб..'\n",
    "- 'получение образования': слово 'образован...'\n",
    "\n",
    "Проверим, что слова подобраны корректно."
   ]
  },
  {
   "cell_type": "code",
   "execution_count": 70,
   "id": "96c65994",
   "metadata": {},
   "outputs": [
    {
     "name": "stdout",
     "output_type": "stream",
     "text": [
      "Нужны другие слова\n",
      "40\n"
     ]
    }
   ],
   "source": [
    "purpose_count = 0\n",
    "words = ['авто', 'жил', 'недвиж', 'свадьб', 'образован']\n",
    "for purpose in data['purpose'].unique():\n",
    "    for word in words:\n",
    "        if word in purpose:\n",
    "            purpose_count += 1\n",
    "print('Со словами все ок') if purpose_count == data['purpose'].nunique() else print(f'Нужны другие слова')\n",
    "print(purpose_count)"
   ]
  },
  {
   "cell_type": "markdown",
   "id": "8bcb68b8",
   "metadata": {},
   "source": [
    "Проблема возникла с \"жилой недвижимостью\" - в конкретно нашем случае можно упростить критерий до 'жи'."
   ]
  },
  {
   "cell_type": "code",
   "execution_count": 71,
   "id": "f145cf16",
   "metadata": {},
   "outputs": [
    {
     "name": "stdout",
     "output_type": "stream",
     "text": [
      "Со словами все ок\n",
      "38\n"
     ]
    }
   ],
   "source": [
    "purpose_count = 0\n",
    "words = ['авто', 'жи', 'свадьб', 'образован']\n",
    "for purpose in data['purpose'].unique():\n",
    "    for word in words:\n",
    "        if word in purpose:\n",
    "            purpose_count += 1\n",
    "print('Со словами все ок') if purpose_count == data['purpose'].nunique() else print(f'Нужны другие слова')\n",
    "print(purpose_count)"
   ]
  },
  {
   "cell_type": "code",
   "execution_count": 72,
   "id": "31bda4a2",
   "metadata": {},
   "outputs": [],
   "source": [
    "# пишем функцию - обработчик\n",
    "def purpose_cat_create(row):\n",
    "    if 'авто' in row['purpose']:\n",
    "        return 'операции с автомобилем'\n",
    "    elif 'жи' in row['purpose']:\n",
    "        return 'операции с недвижимостью'\n",
    "    elif 'свадьб' in row['purpose']:\n",
    "        return 'проведение свадьбы'\n",
    "    elif 'образован' in row['purpose']:\n",
    "        return 'получение образования'"
   ]
  },
  {
   "cell_type": "code",
   "execution_count": 73,
   "id": "b6ab2cf3",
   "metadata": {},
   "outputs": [
    {
     "data": {
      "text/html": [
       "<div>\n",
       "<style scoped>\n",
       "    .dataframe tbody tr th:only-of-type {\n",
       "        vertical-align: middle;\n",
       "    }\n",
       "\n",
       "    .dataframe tbody tr th {\n",
       "        vertical-align: top;\n",
       "    }\n",
       "\n",
       "    .dataframe thead th {\n",
       "        text-align: right;\n",
       "    }\n",
       "</style>\n",
       "<table border=\"1\" class=\"dataframe\">\n",
       "  <thead>\n",
       "    <tr style=\"text-align: right;\">\n",
       "      <th></th>\n",
       "      <th>children</th>\n",
       "      <th>days_employed</th>\n",
       "      <th>dob_years</th>\n",
       "      <th>education_id</th>\n",
       "      <th>family_status_id</th>\n",
       "      <th>gender</th>\n",
       "      <th>income_type</th>\n",
       "      <th>debt</th>\n",
       "      <th>total_income</th>\n",
       "      <th>purpose</th>\n",
       "      <th>total_income_category</th>\n",
       "      <th>purpose_category</th>\n",
       "    </tr>\n",
       "  </thead>\n",
       "  <tbody>\n",
       "    <tr>\n",
       "      <td>0</td>\n",
       "      <td>1</td>\n",
       "      <td>8437.673028</td>\n",
       "      <td>42.0</td>\n",
       "      <td>0</td>\n",
       "      <td>0</td>\n",
       "      <td>F</td>\n",
       "      <td>сотрудник</td>\n",
       "      <td>0</td>\n",
       "      <td>253875</td>\n",
       "      <td>покупка жилья</td>\n",
       "      <td>B</td>\n",
       "      <td>операции с недвижимостью</td>\n",
       "    </tr>\n",
       "    <tr>\n",
       "      <td>1</td>\n",
       "      <td>1</td>\n",
       "      <td>4024.803754</td>\n",
       "      <td>36.0</td>\n",
       "      <td>1</td>\n",
       "      <td>0</td>\n",
       "      <td>F</td>\n",
       "      <td>сотрудник</td>\n",
       "      <td>0</td>\n",
       "      <td>112080</td>\n",
       "      <td>приобретение автомобиля</td>\n",
       "      <td>C</td>\n",
       "      <td>операции с автомобилем</td>\n",
       "    </tr>\n",
       "    <tr>\n",
       "      <td>2</td>\n",
       "      <td>0</td>\n",
       "      <td>5623.422610</td>\n",
       "      <td>33.0</td>\n",
       "      <td>1</td>\n",
       "      <td>0</td>\n",
       "      <td>M</td>\n",
       "      <td>сотрудник</td>\n",
       "      <td>0</td>\n",
       "      <td>145885</td>\n",
       "      <td>покупка жилья</td>\n",
       "      <td>C</td>\n",
       "      <td>операции с недвижимостью</td>\n",
       "    </tr>\n",
       "    <tr>\n",
       "      <td>3</td>\n",
       "      <td>3</td>\n",
       "      <td>4124.747207</td>\n",
       "      <td>32.0</td>\n",
       "      <td>1</td>\n",
       "      <td>0</td>\n",
       "      <td>M</td>\n",
       "      <td>сотрудник</td>\n",
       "      <td>0</td>\n",
       "      <td>267628</td>\n",
       "      <td>дополнительное образование</td>\n",
       "      <td>B</td>\n",
       "      <td>получение образования</td>\n",
       "    </tr>\n",
       "    <tr>\n",
       "      <td>4</td>\n",
       "      <td>0</td>\n",
       "      <td>14177.753002</td>\n",
       "      <td>53.0</td>\n",
       "      <td>1</td>\n",
       "      <td>1</td>\n",
       "      <td>F</td>\n",
       "      <td>пенсионер</td>\n",
       "      <td>0</td>\n",
       "      <td>158616</td>\n",
       "      <td>сыграть свадьбу</td>\n",
       "      <td>C</td>\n",
       "      <td>проведение свадьбы</td>\n",
       "    </tr>\n",
       "  </tbody>\n",
       "</table>\n",
       "</div>"
      ],
      "text/plain": [
       "   children  days_employed  dob_years  education_id  family_status_id gender  \\\n",
       "0         1    8437.673028       42.0             0                 0      F   \n",
       "1         1    4024.803754       36.0             1                 0      F   \n",
       "2         0    5623.422610       33.0             1                 0      M   \n",
       "3         3    4124.747207       32.0             1                 0      M   \n",
       "4         0   14177.753002       53.0             1                 1      F   \n",
       "\n",
       "  income_type  debt  total_income                     purpose  \\\n",
       "0   сотрудник     0        253875               покупка жилья   \n",
       "1   сотрудник     0        112080     приобретение автомобиля   \n",
       "2   сотрудник     0        145885               покупка жилья   \n",
       "3   сотрудник     0        267628  дополнительное образование   \n",
       "4   пенсионер     0        158616             сыграть свадьбу   \n",
       "\n",
       "  total_income_category          purpose_category  \n",
       "0                     B  операции с недвижимостью  \n",
       "1                     C    операции с автомобилем  \n",
       "2                     C  операции с недвижимостью  \n",
       "3                     B     получение образования  \n",
       "4                     C        проведение свадьбы  "
      ]
     },
     "execution_count": 73,
     "metadata": {},
     "output_type": "execute_result"
    }
   ],
   "source": [
    "data['purpose_category'] = data.apply(purpose_cat_create, axis=1)\n",
    "data.head(5)"
   ]
  },
  {
   "cell_type": "markdown",
   "id": "8cce9bf2",
   "metadata": {},
   "source": [
    "Все выглядит неплохо."
   ]
  },
  {
   "cell_type": "markdown",
   "id": "d36bfcc1",
   "metadata": {},
   "source": [
    "### Ответы на вопросы исследования"
   ]
  },
  {
   "cell_type": "markdown",
   "id": "f8ee540d",
   "metadata": {},
   "source": [
    "#### Есть ли зависимость между количеством детей и возвратом кредита в срок?"
   ]
  },
  {
   "cell_type": "markdown",
   "id": "3838d1a6",
   "metadata": {},
   "source": [
    "Оценим средние значения возврата долга, в зависимости от количества детей."
   ]
  },
  {
   "cell_type": "code",
   "execution_count": 74,
   "id": "ca55f58c",
   "metadata": {
    "scrolled": true
   },
   "outputs": [
    {
     "data": {
      "text/html": [
       "<div>\n",
       "<style scoped>\n",
       "    .dataframe tbody tr th:only-of-type {\n",
       "        vertical-align: middle;\n",
       "    }\n",
       "\n",
       "    .dataframe tbody tr th {\n",
       "        vertical-align: top;\n",
       "    }\n",
       "\n",
       "    .dataframe thead th {\n",
       "        text-align: right;\n",
       "    }\n",
       "</style>\n",
       "<table border=\"1\" class=\"dataframe\">\n",
       "  <thead>\n",
       "    <tr style=\"text-align: right;\">\n",
       "      <th></th>\n",
       "      <th>Средние значения возврата долга</th>\n",
       "      <th>Количество наблюдений</th>\n",
       "    </tr>\n",
       "    <tr>\n",
       "      <th>Кол-во детей</th>\n",
       "      <th></th>\n",
       "      <th></th>\n",
       "    </tr>\n",
       "  </thead>\n",
       "  <tbody>\n",
       "    <tr>\n",
       "      <td>4</td>\n",
       "      <td>0.097561</td>\n",
       "      <td>41</td>\n",
       "    </tr>\n",
       "    <tr>\n",
       "      <td>2</td>\n",
       "      <td>0.094925</td>\n",
       "      <td>2128</td>\n",
       "    </tr>\n",
       "    <tr>\n",
       "      <td>1</td>\n",
       "      <td>0.091639</td>\n",
       "      <td>4856</td>\n",
       "    </tr>\n",
       "    <tr>\n",
       "      <td>3</td>\n",
       "      <td>0.081818</td>\n",
       "      <td>330</td>\n",
       "    </tr>\n",
       "    <tr>\n",
       "      <td>0</td>\n",
       "      <td>0.075353</td>\n",
       "      <td>14107</td>\n",
       "    </tr>\n",
       "    <tr>\n",
       "      <td>5</td>\n",
       "      <td>0.000000</td>\n",
       "      <td>9</td>\n",
       "    </tr>\n",
       "  </tbody>\n",
       "</table>\n",
       "</div>"
      ],
      "text/plain": [
       "              Средние значения возврата долга  Количество наблюдений\n",
       "Кол-во детей                                                        \n",
       "4                                    0.097561                     41\n",
       "2                                    0.094925                   2128\n",
       "1                                    0.091639                   4856\n",
       "3                                    0.081818                    330\n",
       "0                                    0.075353                  14107\n",
       "5                                    0.000000                      9"
      ]
     },
     "execution_count": 74,
     "metadata": {},
     "output_type": "execute_result"
    }
   ],
   "source": [
    "children_result = data.pivot_table(index='children', values='debt', aggfunc=['mean', 'count'])\n",
    "children_result.columns = list(map(\"_\".join, children_result.columns))\n",
    "children_result = children_result.sort_values('mean_debt', ascending=False)\n",
    "children_result = children_result.rename(columns={'mean_debt': 'Средние значения возврата долга', 'count_debt': 'Количество наблюдений'})\n",
    "children_result.index.name = 'Кол-во детей'\n",
    "children_result"
   ]
  },
  {
   "cell_type": "code",
   "execution_count": 75,
   "id": "fdbc7ec8",
   "metadata": {},
   "outputs": [
    {
     "data": {
      "image/png": "[encoded data removed]",
      "text/plain": [
       "<Figure size 1152x720 with 1 Axes>"
      ]
     },
     "metadata": {},
     "output_type": "display_data"
    }
   ],
   "source": [
    "sns.barplot(x=children_result.index, y='Средние значения возврата долга', data=children_result);"
   ]
  },
  {
   "cell_type": "markdown",
   "id": "9699c9c2",
   "metadata": {},
   "source": [
    "**Вывод**"
   ]
  },
  {
   "cell_type": "markdown",
   "id": "8e94c443",
   "metadata": {},
   "source": [
    "Отсутствие детей несколько повышает вероятность возврата кредита (такие заемщики возвращают кредит на 0.6% чаще, чем лучшая категория заемщиков с детьми (с 3 детьми)). Для данной категории невозврат составляет ≈ 7.5% случаев.\n",
    "\n",
    "Для заемщиков с детьми можно отметить следующее:\n",
    "1. Отсутствие невозвращенных кредитов при количестве детей, равном 5, можно списать на малое число таких наблюдений (всего 9 подобных наблюдений из 21471).\n",
    "2. Лучшая категория заемщиков с детьми - те, у которых 3 детей. Невозврат для данной категории составляет ≈ 8.2% случаев.\n",
    "3. Для заемщиков с 1, 2 и 4 детьми проценты невозврата близки, немного увеличиваясь по мере увеличения числа детей, и составляют 9.1%, 9.5%, 9.75% соответственно. Отдельно стоит отметить небольшое число наблюдений для заемщиков с 4 детьми (41 из 21471)."
   ]
  },
  {
   "cell_type": "markdown",
   "id": "fe6ceba2",
   "metadata": {},
   "source": [
    "#### Есть ли зависимость между семейным положением и возвратом кредита в срок?"
   ]
  },
  {
   "cell_type": "markdown",
   "id": "838cccc3",
   "metadata": {},
   "source": [
    "Аналогично первому вопросу."
   ]
  },
  {
   "cell_type": "code",
   "execution_count": 76,
   "id": "afb3ea7d",
   "metadata": {},
   "outputs": [
    {
     "data": {
      "text/html": [
       "<div>\n",
       "<style scoped>\n",
       "    .dataframe tbody tr th:only-of-type {\n",
       "        vertical-align: middle;\n",
       "    }\n",
       "\n",
       "    .dataframe tbody tr th {\n",
       "        vertical-align: top;\n",
       "    }\n",
       "\n",
       "    .dataframe thead th {\n",
       "        text-align: right;\n",
       "    }\n",
       "</style>\n",
       "<table border=\"1\" class=\"dataframe\">\n",
       "  <thead>\n",
       "    <tr style=\"text-align: right;\">\n",
       "      <th></th>\n",
       "      <th>Средние значения возврата долга</th>\n",
       "      <th>Количество наблюдений</th>\n",
       "    </tr>\n",
       "    <tr>\n",
       "      <th>Семейное положение</th>\n",
       "      <th></th>\n",
       "      <th></th>\n",
       "    </tr>\n",
       "  </thead>\n",
       "  <tbody>\n",
       "    <tr>\n",
       "      <td>Не женат / не замужем</td>\n",
       "      <td>0.097509</td>\n",
       "      <td>2810</td>\n",
       "    </tr>\n",
       "    <tr>\n",
       "      <td>гражданский брак</td>\n",
       "      <td>0.093202</td>\n",
       "      <td>4163</td>\n",
       "    </tr>\n",
       "    <tr>\n",
       "      <td>женат / замужем</td>\n",
       "      <td>0.075421</td>\n",
       "      <td>12344</td>\n",
       "    </tr>\n",
       "    <tr>\n",
       "      <td>в разводе</td>\n",
       "      <td>0.071130</td>\n",
       "      <td>1195</td>\n",
       "    </tr>\n",
       "    <tr>\n",
       "      <td>вдовец / вдова</td>\n",
       "      <td>0.065693</td>\n",
       "      <td>959</td>\n",
       "    </tr>\n",
       "  </tbody>\n",
       "</table>\n",
       "</div>"
      ],
      "text/plain": [
       "                       Средние значения возврата долга  Количество наблюдений\n",
       "Семейное положение                                                           \n",
       "Не женат / не замужем                         0.097509                   2810\n",
       "гражданский брак                              0.093202                   4163\n",
       "женат / замужем                               0.075421                  12344\n",
       "в разводе                                     0.071130                   1195\n",
       "вдовец / вдова                                0.065693                    959"
      ]
     },
     "execution_count": 76,
     "metadata": {},
     "output_type": "execute_result"
    }
   ],
   "source": [
    "result_family_status = data.pivot_table(index='family_status_id', values='debt', aggfunc=['mean', 'count'])\n",
    "result_family_status.columns = list(map(\"_\".join, result_family_status.columns))\n",
    "result_family_status['family_status_id'] = result_family_status.reset_index()['family_status_id'].replace(family_status_dict['family_status'])\n",
    "result_family_status = result_family_status.set_index('family_status_id')\n",
    "result_family_status = result_family_status.sort_values('mean_debt', ascending=False)\n",
    "result_family_status = result_family_status.rename(columns={'mean_debt': 'Средние значения возврата долга', 'count_debt': 'Количество наблюдений'})\n",
    "result_family_status.index.name = 'Семейное положение'\n",
    "result_family_status"
   ]
  },
  {
   "cell_type": "code",
   "execution_count": 80,
   "id": "955cb576",
   "metadata": {},
   "outputs": [
    {
     "data": {
      "image/png": "[encoded data removed]",
      "text/plain": [
       "<Figure size 1152x720 with 1 Axes>"
      ]
     },
     "metadata": {},
     "output_type": "display_data"
    }
   ],
   "source": [
    "sns.barplot(x=result_family_status.index, y='Средние значения возврата долга', data=result_family_status);"
   ]
  },
  {
   "cell_type": "markdown",
   "id": "f544b336",
   "metadata": {},
   "source": [
    "**Вывод**\n",
    "\n",
    "Заметна некоторая зависимость возврата долга от семейного положения: лучше всего возвращают долг люди, находящиеся или бывшие в официально зарегистрированных браках."
   ]
  },
  {
   "cell_type": "markdown",
   "id": "dd862369",
   "metadata": {},
   "source": [
    "#### Есть ли зависимость между уровнем дохода и возвратом кредита в срок?"
   ]
  },
  {
   "cell_type": "code",
   "execution_count": 81,
   "id": "d636f4fa",
   "metadata": {},
   "outputs": [
    {
     "data": {
      "text/html": [
       "<div>\n",
       "<style scoped>\n",
       "    .dataframe tbody tr th:only-of-type {\n",
       "        vertical-align: middle;\n",
       "    }\n",
       "\n",
       "    .dataframe tbody tr th {\n",
       "        vertical-align: top;\n",
       "    }\n",
       "\n",
       "    .dataframe thead th {\n",
       "        text-align: right;\n",
       "    }\n",
       "</style>\n",
       "<table border=\"1\" class=\"dataframe\">\n",
       "  <thead>\n",
       "    <tr style=\"text-align: right;\">\n",
       "      <th></th>\n",
       "      <th>Средние значения возврата долга</th>\n",
       "      <th>Количество наблюдений</th>\n",
       "    </tr>\n",
       "    <tr>\n",
       "      <th>Категория дохода</th>\n",
       "      <th></th>\n",
       "      <th></th>\n",
       "    </tr>\n",
       "  </thead>\n",
       "  <tbody>\n",
       "    <tr>\n",
       "      <td>E</td>\n",
       "      <td>0.090909</td>\n",
       "      <td>22</td>\n",
       "    </tr>\n",
       "    <tr>\n",
       "      <td>C</td>\n",
       "      <td>0.085321</td>\n",
       "      <td>15846</td>\n",
       "    </tr>\n",
       "    <tr>\n",
       "      <td>A</td>\n",
       "      <td>0.080000</td>\n",
       "      <td>25</td>\n",
       "    </tr>\n",
       "    <tr>\n",
       "      <td>B</td>\n",
       "      <td>0.069625</td>\n",
       "      <td>5228</td>\n",
       "    </tr>\n",
       "    <tr>\n",
       "      <td>D</td>\n",
       "      <td>0.060000</td>\n",
       "      <td>350</td>\n",
       "    </tr>\n",
       "  </tbody>\n",
       "</table>\n",
       "</div>"
      ],
      "text/plain": [
       "                  Средние значения возврата долга  Количество наблюдений\n",
       "Категория дохода                                                        \n",
       "E                                        0.090909                     22\n",
       "C                                        0.085321                  15846\n",
       "A                                        0.080000                     25\n",
       "B                                        0.069625                   5228\n",
       "D                                        0.060000                    350"
      ]
     },
     "execution_count": 81,
     "metadata": {},
     "output_type": "execute_result"
    }
   ],
   "source": [
    "result_total_income = data.pivot_table(index='total_income_category', values='debt', aggfunc=['mean', 'count'])\n",
    "result_total_income.columns = list(map(\"_\".join, result_total_income.columns))\n",
    "result_total_income = result_total_income.sort_values('mean_debt', ascending=False)\n",
    "result_total_income = result_total_income.rename(columns={'mean_debt': 'Средние значения возврата долга', 'count_debt': 'Количество наблюдений'})\n",
    "result_total_income.index.name = 'Категория дохода'\n",
    "result_total_income"
   ]
  },
  {
   "cell_type": "code",
   "execution_count": 82,
   "id": "bfb7e4a0",
   "metadata": {},
   "outputs": [
    {
     "data": {
      "image/png": "[encoded data removed]",
      "text/plain": [
       "<Figure size 1152x720 with 1 Axes>"
      ]
     },
     "metadata": {},
     "output_type": "display_data"
    }
   ],
   "source": [
    "sns.barplot(x=result_total_income.index, y='Средние значения возврата долга', data=result_total_income);"
   ]
  },
  {
   "cell_type": "markdown",
   "id": "311bfc53",
   "metadata": {},
   "source": [
    "**Вывод**\n",
    "\n",
    "Прямой взаимосвязи между уровнем дохода и вероятностью вернуть долг нет. Люди с самыми низкими дохода действительно отдают долг хуже всех, однако люди, находящиеся во второй снизу категории по доходам, являются лучшими заемщиками."
   ]
  },
  {
   "cell_type": "markdown",
   "id": "124ff4a6",
   "metadata": {},
   "source": [
    "#### Как разные цели кредита влияют на его возврат в срок?"
   ]
  },
  {
   "cell_type": "code",
   "execution_count": 86,
   "id": "f225eeb8",
   "metadata": {},
   "outputs": [
    {
     "data": {
      "text/html": [
       "<div>\n",
       "<style scoped>\n",
       "    .dataframe tbody tr th:only-of-type {\n",
       "        vertical-align: middle;\n",
       "    }\n",
       "\n",
       "    .dataframe tbody tr th {\n",
       "        vertical-align: top;\n",
       "    }\n",
       "\n",
       "    .dataframe thead th {\n",
       "        text-align: right;\n",
       "    }\n",
       "</style>\n",
       "<table border=\"1\" class=\"dataframe\">\n",
       "  <thead>\n",
       "    <tr style=\"text-align: right;\">\n",
       "      <th></th>\n",
       "      <th>Средние значения возврата долга</th>\n",
       "      <th>Количество наблюдений</th>\n",
       "    </tr>\n",
       "    <tr>\n",
       "      <th>Цель займа</th>\n",
       "      <th></th>\n",
       "      <th></th>\n",
       "    </tr>\n",
       "  </thead>\n",
       "  <tbody>\n",
       "    <tr>\n",
       "      <td>операции с автомобилем</td>\n",
       "      <td>0.093547</td>\n",
       "      <td>4308</td>\n",
       "    </tr>\n",
       "    <tr>\n",
       "      <td>получение образования</td>\n",
       "      <td>0.092177</td>\n",
       "      <td>4014</td>\n",
       "    </tr>\n",
       "    <tr>\n",
       "      <td>проведение свадьбы</td>\n",
       "      <td>0.079657</td>\n",
       "      <td>2335</td>\n",
       "    </tr>\n",
       "    <tr>\n",
       "      <td>операции с недвижимостью</td>\n",
       "      <td>0.072314</td>\n",
       "      <td>10814</td>\n",
       "    </tr>\n",
       "  </tbody>\n",
       "</table>\n",
       "</div>"
      ],
      "text/plain": [
       "                          Средние значения возврата долга  \\\n",
       "Цель займа                                                  \n",
       "операции с автомобилем                           0.093547   \n",
       "получение образования                            0.092177   \n",
       "проведение свадьбы                               0.079657   \n",
       "операции с недвижимостью                         0.072314   \n",
       "\n",
       "                          Количество наблюдений  \n",
       "Цель займа                                       \n",
       "операции с автомобилем                     4308  \n",
       "получение образования                      4014  \n",
       "проведение свадьбы                         2335  \n",
       "операции с недвижимостью                  10814  "
      ]
     },
     "execution_count": 86,
     "metadata": {},
     "output_type": "execute_result"
    }
   ],
   "source": [
    "result_purpose = data.pivot_table(index='purpose_category', values='debt', aggfunc=['mean', 'count'])\n",
    "result_purpose.columns = list(map(\"_\".join, result_purpose.columns))\n",
    "result_purpose = result_purpose.sort_values('mean_debt', ascending=False)\n",
    "result_purpose = result_purpose.rename(columns={'mean_debt': 'Средние значения возврата долга', 'count_debt': 'Количество наблюдений'})\n",
    "result_purpose.index.name = 'Цель займа'\n",
    "result_purpose"
   ]
  },
  {
   "cell_type": "code",
   "execution_count": 87,
   "id": "e392d997",
   "metadata": {},
   "outputs": [
    {
     "data": {
      "image/png": "[encoded data removed]",
      "text/plain": [
       "<Figure size 1152x720 with 1 Axes>"
      ]
     },
     "metadata": {},
     "output_type": "display_data"
    }
   ],
   "source": [
    "sns.barplot(x=result_purpose.index, y='Средние значения возврата долга', data=result_purpose);"
   ]
  },
  {
   "cell_type": "markdown",
   "id": "edb426ab",
   "metadata": {},
   "source": [
    "**Вывод**\n",
    "\n",
    "Лучше всего возращают кредиты, взятые для проведения операций с недвижимостью и проведение свадьбы. Хуже всего для операций с автомобилем и получения образования."
   ]
  },
  {
   "cell_type": "markdown",
   "id": "c71c383c",
   "metadata": {},
   "source": [
    "## Общий вывод:"
   ]
  },
  {
   "cell_type": "markdown",
   "id": "6f067107",
   "metadata": {},
   "source": [
    "В результате проведенного исследования удалось установить следующие взаимосвязи:\n",
    "1. Отсутствие детей положительно влияет на вероятность возврата кредита (процент невозврата ≈ 7.5%), из семей с детьми лучше всего возвращают займ люди с 3 детьми (≈ 8.1% невозвращенных кредитов), для заемщиков с 1, 2 и 4 детьми проценты невозврата близки, немного увеличиваясь по мере увеличения числа детей, и составляют 9.1%, 9.5%, 9.75% соответственно. Для корректной оценки вероятности невозврата для людей с 5 детьми необходимо собрать дополнительные данные ввиду невысокого числа наблюдений данной категории заемщиков.\n",
    "2. Лучшие заемщики - люди, находящиеся или находившиеся в официальном браке (в разводе и вдовцы/вдовы). Процент невозврата для них составляет приблизительно 6.5% (для вдовцов/вдов), 7.1% (для заемщиков в разводе), 7.5% (для заемщиков в браке). Худшие заемщики - люди, не состоящие в браке (9.7% невозвращенных кредитов), а также люди, состоящие в гражданском браке (процент невозврата - 9.3%).\n",
    "3. Уровень дохода практически не влияет на вероятность возврата кредита: можно было бы порекомендовать ограничить выдачу займов для людей с самым низким доходом (9% невозвращенных кредитов), однако установить прямую зависимость вероятности возврата от уровня дохода для других категорий заемщиков представляется труднореализуемым.\n",
    "4. Наиболее часто возвращают кредиты, взятые с целью проведения операций с недвижимостью (7.2% невозвращенных кредитов) и проведение свадьбы (приблизительно 8% невозвращенных кредитов). Эти цели имеют важное материальное (квартира - основной пассив большинства жителей) и представительское значение (+ деньги, подаренные на свадьбу, можно использовать для возврата кредита) для заемщиков, поэтому возврат по ним наиболее вероятен. Получение образования и операции с автомобилем приводят к меньшему числу возвратов (9.2% и 9.35% соответственно), что может быть следствием низкого уровня оплаты труда для выпускников или их неоправданными ожиданиями от образования, а также завышенными ожиданиями и требованиями заемщиков от пользования автомобилем."
   ]
  }
 ],
 "metadata": {
  "ExecuteTimeLog": [
   {
    "duration": 298,
    "start_time": "2022-02-03T05:01:58.421Z"
   },
   {
    "duration": 670,
    "start_time": "2022-02-03T05:02:01.691Z"
   },
   {
    "duration": 56,
    "start_time": "2022-02-03T05:02:02.654Z"
   },
   {
    "duration": 13,
    "start_time": "2022-02-03T05:02:20.823Z"
   },
   {
    "duration": 42,
    "start_time": "2022-02-03T05:03:58.145Z"
   },
   {
    "duration": 12,
    "start_time": "2022-02-03T05:15:10.470Z"
   },
   {
    "duration": 12,
    "start_time": "2022-02-03T05:15:23.888Z"
   },
   {
    "duration": 335,
    "start_time": "2022-02-04T04:56:34.871Z"
   },
   {
    "duration": 684,
    "start_time": "2022-02-04T04:56:42.185Z"
   },
   {
    "duration": 67,
    "start_time": "2022-02-04T04:56:42.872Z"
   },
   {
    "duration": 14,
    "start_time": "2022-02-04T04:56:42.942Z"
   },
   {
    "duration": 56,
    "start_time": "2022-02-04T04:56:43.612Z"
   },
   {
    "duration": 21,
    "start_time": "2022-02-04T04:56:44.697Z"
   },
   {
    "duration": 48,
    "start_time": "2022-02-04T04:56:45.934Z"
   },
   {
    "duration": 51,
    "start_time": "2022-02-04T05:00:22.763Z"
   },
   {
    "duration": 51,
    "start_time": "2022-02-04T05:00:31.916Z"
   },
   {
    "duration": 49,
    "start_time": "2022-02-04T05:03:56.680Z"
   },
   {
    "duration": 36,
    "start_time": "2022-02-04T05:05:54.692Z"
   },
   {
    "duration": 727,
    "start_time": "2022-02-04T05:13:27.060Z"
   },
   {
    "duration": 364,
    "start_time": "2022-02-04T05:13:52.902Z"
   },
   {
    "duration": 305,
    "start_time": "2022-02-04T05:14:02.858Z"
   },
   {
    "duration": 1625,
    "start_time": "2022-02-04T05:14:36.290Z"
   },
   {
    "duration": 632,
    "start_time": "2022-02-04T05:14:49.919Z"
   },
   {
    "duration": 312,
    "start_time": "2022-02-04T05:15:01.806Z"
   },
   {
    "duration": 549,
    "start_time": "2022-02-04T05:15:59.151Z"
   },
   {
    "duration": 2703,
    "start_time": "2022-02-04T05:17:55.764Z"
   },
   {
    "duration": 2208,
    "start_time": "2022-02-04T05:18:17.092Z"
   },
   {
    "duration": 95,
    "start_time": "2022-02-04T05:20:36.038Z"
   },
   {
    "duration": 2132,
    "start_time": "2022-02-04T05:20:43.801Z"
   },
   {
    "duration": 7,
    "start_time": "2022-02-04T05:25:16.126Z"
   },
   {
    "duration": 8,
    "start_time": "2022-02-04T05:25:37.156Z"
   },
   {
    "duration": 7,
    "start_time": "2022-02-04T05:25:43.569Z"
   },
   {
    "duration": 10,
    "start_time": "2022-02-04T05:27:19.716Z"
   },
   {
    "duration": 11,
    "start_time": "2022-02-04T05:28:32.966Z"
   },
   {
    "duration": 10,
    "start_time": "2022-02-04T05:28:46.114Z"
   },
   {
    "duration": 11,
    "start_time": "2022-02-04T05:30:49.716Z"
   },
   {
    "duration": 10,
    "start_time": "2022-02-04T05:31:01.432Z"
   },
   {
    "duration": 7,
    "start_time": "2022-02-04T05:31:54.753Z"
   },
   {
    "duration": 10,
    "start_time": "2022-02-04T05:32:03.827Z"
   },
   {
    "duration": 2236,
    "start_time": "2022-02-04T05:35:35.985Z"
   },
   {
    "duration": 2646,
    "start_time": "2022-02-04T05:36:36.740Z"
   },
   {
    "duration": 35,
    "start_time": "2022-02-04T05:39:49.750Z"
   },
   {
    "duration": 6,
    "start_time": "2022-02-04T05:40:39.714Z"
   },
   {
    "duration": 612,
    "start_time": "2022-02-04T05:44:05.813Z"
   },
   {
    "duration": 837,
    "start_time": "2022-02-04T05:45:47.575Z"
   },
   {
    "duration": 849,
    "start_time": "2022-02-04T05:46:53.912Z"
   },
   {
    "duration": 19,
    "start_time": "2022-02-04T05:51:49.152Z"
   },
   {
    "duration": 20,
    "start_time": "2022-02-04T05:53:59.260Z"
   },
   {
    "duration": 22,
    "start_time": "2022-02-04T05:54:45.197Z"
   },
   {
    "duration": 23,
    "start_time": "2022-02-04T05:55:01.017Z"
   },
   {
    "duration": 13,
    "start_time": "2022-02-04T05:56:01.037Z"
   },
   {
    "duration": 18,
    "start_time": "2022-02-04T05:56:11.378Z"
   },
   {
    "duration": 13,
    "start_time": "2022-02-04T05:59:55.072Z"
   },
   {
    "duration": 32,
    "start_time": "2022-02-04T06:00:15.542Z"
   },
   {
    "duration": 6990,
    "start_time": "2022-02-04T06:00:26.806Z"
   },
   {
    "duration": 10,
    "start_time": "2022-02-04T06:00:37.335Z"
   },
   {
    "duration": 3634,
    "start_time": "2022-02-04T06:00:52.170Z"
   },
   {
    "duration": 8,
    "start_time": "2022-02-04T06:01:01.942Z"
   },
   {
    "duration": 6,
    "start_time": "2022-02-04T06:01:06.640Z"
   },
   {
    "duration": 17,
    "start_time": "2022-02-04T06:01:13.216Z"
   },
   {
    "duration": 12,
    "start_time": "2022-02-04T06:03:17.956Z"
   },
   {
    "duration": 16,
    "start_time": "2022-02-04T06:03:31.777Z"
   },
   {
    "duration": 8,
    "start_time": "2022-02-04T06:04:14.459Z"
   },
   {
    "duration": 22,
    "start_time": "2022-02-04T06:07:18.453Z"
   },
   {
    "duration": 14,
    "start_time": "2022-02-04T06:10:52.940Z"
   },
   {
    "duration": 42,
    "start_time": "2022-02-04T06:11:22.719Z"
   },
   {
    "duration": 4,
    "start_time": "2022-02-04T06:11:34.126Z"
   },
   {
    "duration": 64,
    "start_time": "2022-02-04T06:11:34.308Z"
   },
   {
    "duration": 14,
    "start_time": "2022-02-04T06:11:34.483Z"
   },
   {
    "duration": 46,
    "start_time": "2022-02-04T06:11:34.879Z"
   },
   {
    "duration": 17,
    "start_time": "2022-02-04T06:11:35.321Z"
   },
   {
    "duration": 38,
    "start_time": "2022-02-04T06:11:35.733Z"
   },
   {
    "duration": 7,
    "start_time": "2022-02-04T06:11:40.206Z"
   },
   {
    "duration": 20,
    "start_time": "2022-02-04T06:11:42.686Z"
   },
   {
    "duration": 19,
    "start_time": "2022-02-04T06:11:55.175Z"
   },
   {
    "duration": 18,
    "start_time": "2022-02-04T06:12:09.746Z"
   },
   {
    "duration": 368,
    "start_time": "2022-02-04T06:13:56.968Z"
   },
   {
    "duration": 17,
    "start_time": "2022-02-04T06:14:02.233Z"
   },
   {
    "duration": 21,
    "start_time": "2022-02-04T06:14:13.769Z"
   },
   {
    "duration": 360,
    "start_time": "2022-02-04T08:29:00.436Z"
   },
   {
    "duration": 1446,
    "start_time": "2022-02-04T08:29:04.763Z"
   },
   {
    "duration": 64,
    "start_time": "2022-02-04T08:29:06.212Z"
   },
   {
    "duration": 15,
    "start_time": "2022-02-04T08:29:06.278Z"
   },
   {
    "duration": 71,
    "start_time": "2022-02-04T08:29:06.296Z"
   },
   {
    "duration": 18,
    "start_time": "2022-02-04T08:29:06.369Z"
   },
   {
    "duration": 36,
    "start_time": "2022-02-04T08:29:06.527Z"
   },
   {
    "duration": 6,
    "start_time": "2022-02-04T08:29:08.355Z"
   },
   {
    "duration": 23,
    "start_time": "2022-02-04T08:29:08.983Z"
   },
   {
    "duration": 20,
    "start_time": "2022-02-04T08:30:08.526Z"
   },
   {
    "duration": 377,
    "start_time": "2022-02-04T08:31:08.697Z"
   },
   {
    "duration": 7468,
    "start_time": "2022-02-04T08:32:32.132Z"
   },
   {
    "duration": 13484,
    "start_time": "2022-02-04T08:32:54.598Z"
   },
   {
    "duration": 16,
    "start_time": "2022-02-04T08:33:17.239Z"
   },
   {
    "duration": 23,
    "start_time": "2022-02-04T08:33:59.264Z"
   },
   {
    "duration": 21,
    "start_time": "2022-02-04T08:34:05.186Z"
   },
   {
    "duration": 294,
    "start_time": "2022-02-04T08:34:13.351Z"
   },
   {
    "duration": 7,
    "start_time": "2022-02-04T08:34:42.692Z"
   },
   {
    "duration": 302,
    "start_time": "2022-02-04T08:35:07.148Z"
   },
   {
    "duration": 18,
    "start_time": "2022-02-04T08:36:20.651Z"
   },
   {
    "duration": 20,
    "start_time": "2022-02-04T08:36:34.575Z"
   },
   {
    "duration": 25,
    "start_time": "2022-02-04T08:36:45.843Z"
   },
   {
    "duration": 23,
    "start_time": "2022-02-04T08:36:55.372Z"
   },
   {
    "duration": 27,
    "start_time": "2022-02-04T08:36:56.460Z"
   },
   {
    "duration": 23,
    "start_time": "2022-02-04T08:36:57.183Z"
   },
   {
    "duration": 21,
    "start_time": "2022-02-04T08:39:42.797Z"
   },
   {
    "duration": 30,
    "start_time": "2022-02-04T08:40:11.158Z"
   },
   {
    "duration": 27,
    "start_time": "2022-02-04T08:40:25.013Z"
   },
   {
    "duration": 22,
    "start_time": "2022-02-04T08:40:26.022Z"
   },
   {
    "duration": 22,
    "start_time": "2022-02-04T08:40:26.590Z"
   },
   {
    "duration": 23,
    "start_time": "2022-02-04T08:42:34.720Z"
   },
   {
    "duration": 23,
    "start_time": "2022-02-04T08:42:35.334Z"
   },
   {
    "duration": 31,
    "start_time": "2022-02-04T08:42:35.847Z"
   },
   {
    "duration": 44,
    "start_time": "2022-02-04T08:48:47.458Z"
   },
   {
    "duration": 6,
    "start_time": "2022-02-04T08:48:52.201Z"
   },
   {
    "duration": 24,
    "start_time": "2022-02-04T08:53:03.748Z"
   },
   {
    "duration": 20,
    "start_time": "2022-02-04T08:53:04.637Z"
   },
   {
    "duration": 17,
    "start_time": "2022-02-04T08:53:08.088Z"
   },
   {
    "duration": 4,
    "start_time": "2022-02-04T08:53:14.844Z"
   },
   {
    "duration": 59,
    "start_time": "2022-02-04T08:53:15.063Z"
   },
   {
    "duration": 16,
    "start_time": "2022-02-04T08:53:15.305Z"
   },
   {
    "duration": 47,
    "start_time": "2022-02-04T08:53:15.761Z"
   },
   {
    "duration": 18,
    "start_time": "2022-02-04T08:53:16.409Z"
   },
   {
    "duration": 35,
    "start_time": "2022-02-04T08:53:17.884Z"
   },
   {
    "duration": 5,
    "start_time": "2022-02-04T08:53:21.922Z"
   },
   {
    "duration": 24,
    "start_time": "2022-02-04T08:53:30.157Z"
   },
   {
    "duration": 23,
    "start_time": "2022-02-04T08:53:37.637Z"
   },
   {
    "duration": 22,
    "start_time": "2022-02-04T08:53:39.861Z"
   },
   {
    "duration": 7163,
    "start_time": "2022-02-04T08:53:56.932Z"
   },
   {
    "duration": 24,
    "start_time": "2022-02-04T08:54:10.717Z"
   },
   {
    "duration": 22,
    "start_time": "2022-02-04T08:54:11.860Z"
   },
   {
    "duration": 25,
    "start_time": "2022-02-04T08:54:15.881Z"
   },
   {
    "duration": 33,
    "start_time": "2022-02-04T08:54:51.709Z"
   },
   {
    "duration": 6,
    "start_time": "2022-02-04T08:54:52.273Z"
   },
   {
    "duration": 7,
    "start_time": "2022-02-04T08:57:20.509Z"
   },
   {
    "duration": 13,
    "start_time": "2022-02-04T08:57:27.564Z"
   },
   {
    "duration": 9,
    "start_time": "2022-02-04T08:58:06.476Z"
   },
   {
    "duration": 10,
    "start_time": "2022-02-04T08:58:11.567Z"
   },
   {
    "duration": 10,
    "start_time": "2022-02-04T08:58:31.360Z"
   },
   {
    "duration": 14,
    "start_time": "2022-02-04T09:06:34.320Z"
   },
   {
    "duration": 100,
    "start_time": "2022-02-04T09:06:49.449Z"
   },
   {
    "duration": 8,
    "start_time": "2022-02-04T09:06:53.546Z"
   },
   {
    "duration": 10,
    "start_time": "2022-02-04T09:07:40.949Z"
   },
   {
    "duration": 856,
    "start_time": "2022-02-04T09:19:04.307Z"
   },
   {
    "duration": 1061,
    "start_time": "2022-02-04T09:20:59.304Z"
   },
   {
    "duration": 2471,
    "start_time": "2022-02-04T09:21:22.081Z"
   },
   {
    "duration": 1420,
    "start_time": "2022-02-05T05:18:27.138Z"
   },
   {
    "duration": 60,
    "start_time": "2022-02-05T05:18:28.560Z"
   },
   {
    "duration": 15,
    "start_time": "2022-02-05T05:18:28.622Z"
   },
   {
    "duration": 52,
    "start_time": "2022-02-05T05:18:29.250Z"
   },
   {
    "duration": 20,
    "start_time": "2022-02-05T05:18:30.430Z"
   },
   {
    "duration": 37,
    "start_time": "2022-02-05T05:18:31.261Z"
   },
   {
    "duration": 35,
    "start_time": "2022-02-05T05:18:45.390Z"
   },
   {
    "duration": 6,
    "start_time": "2022-02-05T05:25:17.170Z"
   },
   {
    "duration": 19,
    "start_time": "2022-02-05T05:26:02.222Z"
   },
   {
    "duration": 7179,
    "start_time": "2022-02-05T05:27:49.441Z"
   },
   {
    "duration": 6971,
    "start_time": "2022-02-05T05:28:03.085Z"
   },
   {
    "duration": 35,
    "start_time": "2022-02-05T05:28:24.152Z"
   },
   {
    "duration": 10,
    "start_time": "2022-02-05T05:28:41.450Z"
   },
   {
    "duration": 9,
    "start_time": "2022-02-05T05:28:51.181Z"
   },
   {
    "duration": 106,
    "start_time": "2022-02-05T05:29:16.262Z"
   },
   {
    "duration": 10,
    "start_time": "2022-02-05T05:29:21.029Z"
   },
   {
    "duration": 10,
    "start_time": "2022-02-05T05:29:27.544Z"
   },
   {
    "duration": 36,
    "start_time": "2022-02-05T05:29:50.549Z"
   },
   {
    "duration": 10,
    "start_time": "2022-02-05T05:30:02.116Z"
   },
   {
    "duration": 90,
    "start_time": "2022-02-05T05:30:57.027Z"
   },
   {
    "duration": 132,
    "start_time": "2022-02-05T05:31:13.083Z"
   },
   {
    "duration": 102,
    "start_time": "2022-02-05T05:31:34.647Z"
   },
   {
    "duration": 11,
    "start_time": "2022-02-05T05:32:13.525Z"
   },
   {
    "duration": 33,
    "start_time": "2022-02-05T05:35:03.404Z"
   },
   {
    "duration": 21,
    "start_time": "2022-02-05T05:35:26.577Z"
   },
   {
    "duration": 28,
    "start_time": "2022-02-05T05:35:54.104Z"
   },
   {
    "duration": 3321,
    "start_time": "2022-02-05T05:37:05.826Z"
   },
   {
    "duration": 23,
    "start_time": "2022-02-05T05:37:11.845Z"
   },
   {
    "duration": 21,
    "start_time": "2022-02-05T05:37:12.831Z"
   },
   {
    "duration": 27,
    "start_time": "2022-02-05T05:37:13.305Z"
   },
   {
    "duration": 33,
    "start_time": "2022-02-05T05:37:32.125Z"
   },
   {
    "duration": 6,
    "start_time": "2022-02-05T05:37:32.856Z"
   },
   {
    "duration": 10,
    "start_time": "2022-02-05T05:37:44.620Z"
   },
   {
    "duration": 10,
    "start_time": "2022-02-05T05:37:46.963Z"
   },
   {
    "duration": 10,
    "start_time": "2022-02-05T05:37:47.630Z"
   },
   {
    "duration": 2584,
    "start_time": "2022-02-05T05:38:10.539Z"
   },
   {
    "duration": 850,
    "start_time": "2022-02-05T05:38:20.345Z"
   },
   {
    "duration": 2436,
    "start_time": "2022-02-05T05:38:53.563Z"
   },
   {
    "duration": 9,
    "start_time": "2022-02-05T05:40:01.676Z"
   },
   {
    "duration": 8,
    "start_time": "2022-02-05T05:40:15.743Z"
   },
   {
    "duration": 8,
    "start_time": "2022-02-05T05:40:19.745Z"
   },
   {
    "duration": 25,
    "start_time": "2022-02-05T05:43:02.638Z"
   },
   {
    "duration": 21,
    "start_time": "2022-02-05T05:43:21.776Z"
   },
   {
    "duration": 31,
    "start_time": "2022-02-05T05:44:24.418Z"
   },
   {
    "duration": 24,
    "start_time": "2022-02-05T05:44:33.197Z"
   },
   {
    "duration": 24,
    "start_time": "2022-02-05T05:45:30.349Z"
   },
   {
    "duration": 20,
    "start_time": "2022-02-05T05:47:24.923Z"
   },
   {
    "duration": 23,
    "start_time": "2022-02-05T05:48:16.872Z"
   },
   {
    "duration": 21,
    "start_time": "2022-02-05T05:48:22.921Z"
   },
   {
    "duration": 21,
    "start_time": "2022-02-05T05:48:29.136Z"
   },
   {
    "duration": 23,
    "start_time": "2022-02-05T05:49:27.311Z"
   },
   {
    "duration": 19,
    "start_time": "2022-02-05T05:49:43.335Z"
   },
   {
    "duration": 21,
    "start_time": "2022-02-05T05:51:43.760Z"
   },
   {
    "duration": 1122,
    "start_time": "2022-02-05T05:51:50.681Z"
   },
   {
    "duration": 302,
    "start_time": "2022-02-05T05:52:47.720Z"
   },
   {
    "duration": 290,
    "start_time": "2022-02-05T05:53:01.252Z"
   },
   {
    "duration": 311,
    "start_time": "2022-02-05T05:53:10.773Z"
   },
   {
    "duration": 10,
    "start_time": "2022-02-05T05:53:48.777Z"
   },
   {
    "duration": 10,
    "start_time": "2022-02-05T05:53:56.871Z"
   },
   {
    "duration": 11,
    "start_time": "2022-02-05T05:54:13.848Z"
   },
   {
    "duration": 6,
    "start_time": "2022-02-05T05:54:53.887Z"
   },
   {
    "duration": 9,
    "start_time": "2022-02-05T05:55:00.952Z"
   },
   {
    "duration": 12,
    "start_time": "2022-02-05T05:55:25.709Z"
   },
   {
    "duration": 413,
    "start_time": "2022-02-05T05:55:29.067Z"
   },
   {
    "duration": 11,
    "start_time": "2022-02-05T05:55:33.615Z"
   },
   {
    "duration": 9,
    "start_time": "2022-02-05T05:55:34.106Z"
   },
   {
    "duration": 19,
    "start_time": "2022-02-05T05:55:34.887Z"
   },
   {
    "duration": 11,
    "start_time": "2022-02-05T05:56:02.150Z"
   },
   {
    "duration": 9,
    "start_time": "2022-02-05T05:56:02.601Z"
   },
   {
    "duration": 308,
    "start_time": "2022-02-05T05:56:03.209Z"
   },
   {
    "duration": 313,
    "start_time": "2022-02-05T05:58:22.424Z"
   },
   {
    "duration": 308,
    "start_time": "2022-02-05T05:59:40.396Z"
   },
   {
    "duration": 348,
    "start_time": "2022-02-05T05:59:48.036Z"
   },
   {
    "duration": 679,
    "start_time": "2022-02-05T06:00:44.093Z"
   },
   {
    "duration": 298,
    "start_time": "2022-02-05T06:00:48.747Z"
   },
   {
    "duration": 771,
    "start_time": "2022-02-05T06:02:02.807Z"
   },
   {
    "duration": 307,
    "start_time": "2022-02-05T06:03:18.790Z"
   },
   {
    "duration": 323,
    "start_time": "2022-02-05T06:03:26.857Z"
   },
   {
    "duration": 361,
    "start_time": "2022-02-05T06:05:48.255Z"
   },
   {
    "duration": 9,
    "start_time": "2022-02-05T06:06:43.899Z"
   },
   {
    "duration": 98,
    "start_time": "2022-02-05T06:10:09.458Z"
   },
   {
    "duration": 92,
    "start_time": "2022-02-05T06:10:17.000Z"
   },
   {
    "duration": 149,
    "start_time": "2022-02-05T06:10:34.186Z"
   },
   {
    "duration": 14,
    "start_time": "2022-02-05T06:11:04.817Z"
   },
   {
    "duration": 9,
    "start_time": "2022-02-05T06:11:36.928Z"
   },
   {
    "duration": 757,
    "start_time": "2022-02-05T06:12:44.991Z"
   },
   {
    "duration": 8621,
    "start_time": "2022-02-05T06:13:42.890Z"
   },
   {
    "duration": 114,
    "start_time": "2022-02-05T06:21:03.731Z"
   },
   {
    "duration": 4,
    "start_time": "2022-02-05T06:21:19.912Z"
   },
   {
    "duration": 7780,
    "start_time": "2022-02-05T06:21:31.546Z"
   },
   {
    "duration": 308,
    "start_time": "2022-02-05T06:21:42.736Z"
   },
   {
    "duration": 656,
    "start_time": "2022-02-05T06:22:14.338Z"
   },
   {
    "duration": 5198,
    "start_time": "2022-02-05T06:22:29.373Z"
   },
   {
    "duration": 236,
    "start_time": "2022-02-05T06:26:07.186Z"
   },
   {
    "duration": 456,
    "start_time": "2022-02-05T06:26:17.835Z"
   },
   {
    "duration": 41,
    "start_time": "2022-02-05T06:26:27.546Z"
   },
   {
    "duration": 53,
    "start_time": "2022-02-05T06:26:59.718Z"
   },
   {
    "duration": 52,
    "start_time": "2022-02-05T06:27:11.379Z"
   },
   {
    "duration": 52,
    "start_time": "2022-02-05T06:27:22.027Z"
   },
   {
    "duration": 54,
    "start_time": "2022-02-05T06:27:42.750Z"
   },
   {
    "duration": 55,
    "start_time": "2022-02-05T06:28:10.141Z"
   },
   {
    "duration": 38,
    "start_time": "2022-02-05T06:28:33.847Z"
   },
   {
    "duration": 8,
    "start_time": "2022-02-05T06:29:10.874Z"
   },
   {
    "duration": 1469,
    "start_time": "2022-02-06T04:18:31.148Z"
   },
   {
    "duration": 64,
    "start_time": "2022-02-06T04:18:32.620Z"
   },
   {
    "duration": 15,
    "start_time": "2022-02-06T04:18:32.687Z"
   },
   {
    "duration": 57,
    "start_time": "2022-02-06T04:18:32.719Z"
   },
   {
    "duration": 21,
    "start_time": "2022-02-06T04:18:35.571Z"
   },
   {
    "duration": 35,
    "start_time": "2022-02-06T04:18:36.263Z"
   },
   {
    "duration": 6,
    "start_time": "2022-02-06T04:18:38.931Z"
   },
   {
    "duration": 22,
    "start_time": "2022-02-06T04:18:39.572Z"
   },
   {
    "duration": 9,
    "start_time": "2022-02-06T04:18:40.888Z"
   },
   {
    "duration": 23,
    "start_time": "2022-02-06T04:18:55.634Z"
   },
   {
    "duration": 23,
    "start_time": "2022-02-06T04:19:01.237Z"
   },
   {
    "duration": 32,
    "start_time": "2022-02-06T04:19:03.775Z"
   },
   {
    "duration": 32,
    "start_time": "2022-02-06T04:19:08.219Z"
   },
   {
    "duration": 7,
    "start_time": "2022-02-06T04:19:08.622Z"
   },
   {
    "duration": 10,
    "start_time": "2022-02-06T04:19:11.716Z"
   },
   {
    "duration": 9,
    "start_time": "2022-02-06T04:19:12.044Z"
   },
   {
    "duration": 10,
    "start_time": "2022-02-06T04:19:12.507Z"
   },
   {
    "duration": 2667,
    "start_time": "2022-02-06T04:19:45.754Z"
   },
   {
    "duration": 331085,
    "start_time": "2022-02-06T04:20:57.734Z"
   },
   {
    "duration": -65,
    "start_time": "2022-02-06T04:26:28.890Z"
   },
   {
    "duration": -66,
    "start_time": "2022-02-06T04:26:28.893Z"
   },
   {
    "duration": 4141,
    "start_time": "2022-02-06T04:26:36.722Z"
   },
   {
    "duration": 8,
    "start_time": "2022-02-06T04:26:46.834Z"
   },
   {
    "duration": 112257,
    "start_time": "2022-02-06T04:26:55.736Z"
   },
   {
    "duration": 2713,
    "start_time": "2022-02-06T04:28:47.996Z"
   },
   {
    "duration": 852,
    "start_time": "2022-02-06T04:28:50.712Z"
   },
   {
    "duration": 4,
    "start_time": "2022-02-06T04:28:59.479Z"
   },
   {
    "duration": 19775,
    "start_time": "2022-02-06T04:29:15.221Z"
   },
   {
    "duration": -56,
    "start_time": "2022-02-06T04:29:35.056Z"
   },
   {
    "duration": -59,
    "start_time": "2022-02-06T04:29:35.061Z"
   },
   {
    "duration": 2928,
    "start_time": "2022-02-06T04:29:38.212Z"
   },
   {
    "duration": 865,
    "start_time": "2022-02-06T04:29:41.143Z"
   },
   {
    "duration": 32084,
    "start_time": "2022-02-06T04:29:47.331Z"
   },
   {
    "duration": 2471,
    "start_time": "2022-02-06T04:30:26.162Z"
   },
   {
    "duration": 10,
    "start_time": "2022-02-06T04:30:33.119Z"
   },
   {
    "duration": 20,
    "start_time": "2022-02-06T04:30:33.665Z"
   },
   {
    "duration": 20,
    "start_time": "2022-02-06T04:30:38.221Z"
   },
   {
    "duration": 38,
    "start_time": "2022-02-06T04:30:41.719Z"
   },
   {
    "duration": 8,
    "start_time": "2022-02-06T04:30:42.458Z"
   },
   {
    "duration": 9,
    "start_time": "2022-02-06T04:30:50.104Z"
   },
   {
    "duration": 12,
    "start_time": "2022-02-06T04:31:26.506Z"
   },
   {
    "duration": 22,
    "start_time": "2022-02-06T04:34:31.953Z"
   },
   {
    "duration": 22,
    "start_time": "2022-02-06T04:34:41.141Z"
   },
   {
    "duration": 11,
    "start_time": "2022-02-06T04:36:30.159Z"
   },
   {
    "duration": 24,
    "start_time": "2022-02-06T04:39:16.196Z"
   },
   {
    "duration": 11,
    "start_time": "2022-02-06T04:40:58.531Z"
   },
   {
    "duration": 11,
    "start_time": "2022-02-06T04:42:01.809Z"
   },
   {
    "duration": 11,
    "start_time": "2022-02-06T04:42:23.539Z"
   },
   {
    "duration": 9,
    "start_time": "2022-02-06T04:42:37.605Z"
   },
   {
    "duration": 8,
    "start_time": "2022-02-06T04:42:37.996Z"
   },
   {
    "duration": 3,
    "start_time": "2022-02-06T04:42:48.290Z"
   },
   {
    "duration": 67,
    "start_time": "2022-02-06T04:42:48.460Z"
   },
   {
    "duration": 15,
    "start_time": "2022-02-06T04:42:48.629Z"
   },
   {
    "duration": 47,
    "start_time": "2022-02-06T04:42:48.944Z"
   },
   {
    "duration": 18,
    "start_time": "2022-02-06T04:42:49.328Z"
   },
   {
    "duration": 36,
    "start_time": "2022-02-06T04:42:49.675Z"
   },
   {
    "duration": 6,
    "start_time": "2022-02-06T04:42:50.542Z"
   },
   {
    "duration": 20,
    "start_time": "2022-02-06T04:42:50.728Z"
   },
   {
    "duration": 9,
    "start_time": "2022-02-06T04:42:51.104Z"
   },
   {
    "duration": 22,
    "start_time": "2022-02-06T04:42:51.856Z"
   },
   {
    "duration": 21,
    "start_time": "2022-02-06T04:42:52.298Z"
   },
   {
    "duration": 26,
    "start_time": "2022-02-06T04:42:52.476Z"
   },
   {
    "duration": 33,
    "start_time": "2022-02-06T04:42:52.948Z"
   },
   {
    "duration": 7,
    "start_time": "2022-02-06T04:42:53.213Z"
   },
   {
    "duration": 10,
    "start_time": "2022-02-06T04:42:53.902Z"
   },
   {
    "duration": 9,
    "start_time": "2022-02-06T04:42:54.122Z"
   },
   {
    "duration": 10,
    "start_time": "2022-02-06T04:42:54.365Z"
   },
   {
    "duration": 2686,
    "start_time": "2022-02-06T04:42:55.093Z"
   },
   {
    "duration": 877,
    "start_time": "2022-02-06T04:42:57.782Z"
   },
   {
    "duration": 2397,
    "start_time": "2022-02-06T04:42:58.662Z"
   },
   {
    "duration": 8,
    "start_time": "2022-02-06T04:43:01.062Z"
   },
   {
    "duration": 20,
    "start_time": "2022-02-06T04:43:01.073Z"
   },
   {
    "duration": 21,
    "start_time": "2022-02-06T04:43:01.096Z"
   },
   {
    "duration": 77,
    "start_time": "2022-02-06T04:43:01.119Z"
   },
   {
    "duration": 9,
    "start_time": "2022-02-06T04:43:01.198Z"
   },
   {
    "duration": 9,
    "start_time": "2022-02-06T04:43:01.784Z"
   },
   {
    "duration": 21,
    "start_time": "2022-02-06T04:43:02.368Z"
   },
   {
    "duration": 10,
    "start_time": "2022-02-06T04:43:06.304Z"
   },
   {
    "duration": 10,
    "start_time": "2022-02-06T04:43:07.462Z"
   },
   {
    "duration": 23,
    "start_time": "2022-02-06T04:43:07.848Z"
   },
   {
    "duration": 9,
    "start_time": "2022-02-06T04:43:10.913Z"
   },
   {
    "duration": 7,
    "start_time": "2022-02-06T04:43:11.406Z"
   },
   {
    "duration": 17,
    "start_time": "2022-02-06T04:44:06.257Z"
   },
   {
    "duration": 9,
    "start_time": "2022-02-06T04:44:20.210Z"
   },
   {
    "duration": 9,
    "start_time": "2022-02-06T04:45:49.960Z"
   },
   {
    "duration": 22,
    "start_time": "2022-02-06T04:45:50.438Z"
   },
   {
    "duration": 11,
    "start_time": "2022-02-06T04:45:52.989Z"
   },
   {
    "duration": 8,
    "start_time": "2022-02-06T04:45:54.751Z"
   },
   {
    "duration": 13,
    "start_time": "2022-02-06T04:45:56.196Z"
   },
   {
    "duration": 8,
    "start_time": "2022-02-06T04:46:02.317Z"
   },
   {
    "duration": 8,
    "start_time": "2022-02-06T04:46:02.576Z"
   },
   {
    "duration": 12981,
    "start_time": "2022-02-06T04:46:30.219Z"
   },
   {
    "duration": 388,
    "start_time": "2022-02-06T04:47:23.200Z"
   },
   {
    "duration": 35,
    "start_time": "2022-02-06T04:47:58.261Z"
   },
   {
    "duration": 342,
    "start_time": "2022-02-06T04:50:59.567Z"
   },
   {
    "duration": 453,
    "start_time": "2022-02-06T04:51:54.520Z"
   },
   {
    "duration": 350,
    "start_time": "2022-02-06T04:52:25.643Z"
   },
   {
    "duration": 967,
    "start_time": "2022-02-06T04:53:13.287Z"
   },
   {
    "duration": 940,
    "start_time": "2022-02-06T04:53:41.724Z"
   },
   {
    "duration": 365,
    "start_time": "2022-02-06T04:54:25.547Z"
   },
   {
    "duration": 944,
    "start_time": "2022-02-06T04:55:22.338Z"
   },
   {
    "duration": 936,
    "start_time": "2022-02-06T04:56:43.349Z"
   },
   {
    "duration": 12,
    "start_time": "2022-02-06T04:57:22.444Z"
   },
   {
    "duration": 28,
    "start_time": "2022-02-06T04:57:32.090Z"
   },
   {
    "duration": 12,
    "start_time": "2022-02-06T04:57:45.690Z"
   },
   {
    "duration": 378,
    "start_time": "2022-02-06T04:58:54.603Z"
   },
   {
    "duration": 618,
    "start_time": "2022-02-06T04:59:52.297Z"
   },
   {
    "duration": 1029,
    "start_time": "2022-02-06T05:01:06.092Z"
   },
   {
    "duration": 928,
    "start_time": "2022-02-06T05:02:23.843Z"
   },
   {
    "duration": 679,
    "start_time": "2022-02-06T05:02:50.478Z"
   },
   {
    "duration": 952,
    "start_time": "2022-02-06T05:03:04.932Z"
   },
   {
    "duration": 699,
    "start_time": "2022-02-06T05:03:09.174Z"
   },
   {
    "duration": 131,
    "start_time": "2022-02-06T05:05:05.907Z"
   },
   {
    "duration": 121,
    "start_time": "2022-02-06T05:06:02.207Z"
   },
   {
    "duration": 4,
    "start_time": "2022-02-06T05:06:13.452Z"
   },
   {
    "duration": 704,
    "start_time": "2022-02-06T05:06:43.586Z"
   },
   {
    "duration": 725,
    "start_time": "2022-02-06T05:06:57.287Z"
   },
   {
    "duration": 10,
    "start_time": "2022-02-06T05:09:45.760Z"
   },
   {
    "duration": 5,
    "start_time": "2022-02-06T05:10:15.712Z"
   },
   {
    "duration": 6,
    "start_time": "2022-02-06T05:10:27.225Z"
   },
   {
    "duration": 11,
    "start_time": "2022-02-06T05:12:41.433Z"
   },
   {
    "duration": 9,
    "start_time": "2022-02-06T05:13:27.842Z"
   },
   {
    "duration": 7,
    "start_time": "2022-02-06T05:13:36.991Z"
   },
   {
    "duration": 56,
    "start_time": "2022-02-06T05:16:21.144Z"
   },
   {
    "duration": 10,
    "start_time": "2022-02-06T05:17:06.647Z"
   },
   {
    "duration": 10,
    "start_time": "2022-02-06T05:17:11.766Z"
   },
   {
    "duration": 38,
    "start_time": "2022-02-06T05:17:16.777Z"
   },
   {
    "duration": 7,
    "start_time": "2022-02-06T05:17:36.535Z"
   },
   {
    "duration": 5,
    "start_time": "2022-02-06T05:17:49.746Z"
   },
   {
    "duration": 6,
    "start_time": "2022-02-06T05:18:08.203Z"
   },
   {
    "duration": 4,
    "start_time": "2022-02-06T05:18:23.015Z"
   },
   {
    "duration": 8,
    "start_time": "2022-02-06T05:18:55.598Z"
   },
   {
    "duration": 3,
    "start_time": "2022-02-06T05:19:30.224Z"
   },
   {
    "duration": 64,
    "start_time": "2022-02-06T05:19:30.424Z"
   },
   {
    "duration": 15,
    "start_time": "2022-02-06T05:19:30.600Z"
   },
   {
    "duration": 57,
    "start_time": "2022-02-06T05:19:30.952Z"
   },
   {
    "duration": 18,
    "start_time": "2022-02-06T05:19:31.279Z"
   },
   {
    "duration": 37,
    "start_time": "2022-02-06T05:19:31.625Z"
   },
   {
    "duration": 6,
    "start_time": "2022-02-06T05:19:32.332Z"
   },
   {
    "duration": 20,
    "start_time": "2022-02-06T05:19:32.508Z"
   },
   {
    "duration": 9,
    "start_time": "2022-02-06T05:19:32.901Z"
   },
   {
    "duration": 24,
    "start_time": "2022-02-06T05:19:33.644Z"
   },
   {
    "duration": 23,
    "start_time": "2022-02-06T05:19:34.022Z"
   },
   {
    "duration": 26,
    "start_time": "2022-02-06T05:19:34.205Z"
   },
   {
    "duration": 35,
    "start_time": "2022-02-06T05:19:34.570Z"
   },
   {
    "duration": 8,
    "start_time": "2022-02-06T05:19:34.768Z"
   },
   {
    "duration": 10,
    "start_time": "2022-02-06T05:19:35.495Z"
   },
   {
    "duration": 10,
    "start_time": "2022-02-06T05:19:35.677Z"
   },
   {
    "duration": 10,
    "start_time": "2022-02-06T05:19:35.979Z"
   },
   {
    "duration": 2724,
    "start_time": "2022-02-06T05:19:36.561Z"
   },
   {
    "duration": 866,
    "start_time": "2022-02-06T05:19:39.288Z"
   },
   {
    "duration": 2476,
    "start_time": "2022-02-06T05:19:40.160Z"
   },
   {
    "duration": 8,
    "start_time": "2022-02-06T05:19:47.313Z"
   },
   {
    "duration": 20,
    "start_time": "2022-02-06T05:19:48.005Z"
   },
   {
    "duration": 23,
    "start_time": "2022-02-06T05:19:50.657Z"
   },
   {
    "duration": 40,
    "start_time": "2022-02-06T05:19:52.884Z"
   },
   {
    "duration": 8,
    "start_time": "2022-02-06T05:19:53.192Z"
   },
   {
    "duration": 11,
    "start_time": "2022-02-06T05:19:56.169Z"
   },
   {
    "duration": 23,
    "start_time": "2022-02-06T05:19:56.699Z"
   },
   {
    "duration": 13,
    "start_time": "2022-02-06T05:20:02.766Z"
   },
   {
    "duration": 11,
    "start_time": "2022-02-06T05:20:08.898Z"
   },
   {
    "duration": 24,
    "start_time": "2022-02-06T05:20:09.180Z"
   },
   {
    "duration": 10,
    "start_time": "2022-02-06T05:21:17.326Z"
   },
   {
    "duration": 11,
    "start_time": "2022-02-06T05:21:35.782Z"
   },
   {
    "duration": 24,
    "start_time": "2022-02-06T05:21:36.385Z"
   },
   {
    "duration": 10,
    "start_time": "2022-02-06T05:21:37.213Z"
   },
   {
    "duration": 8,
    "start_time": "2022-02-06T05:21:37.611Z"
   },
   {
    "duration": 694,
    "start_time": "2022-02-06T05:21:39.819Z"
   },
   {
    "duration": 12,
    "start_time": "2022-02-06T05:21:43.633Z"
   },
   {
    "duration": 10,
    "start_time": "2022-02-06T05:21:45.746Z"
   },
   {
    "duration": 8,
    "start_time": "2022-02-06T05:21:46.866Z"
   },
   {
    "duration": 8,
    "start_time": "2022-02-06T05:21:53.708Z"
   },
   {
    "duration": 21,
    "start_time": "2022-02-06T05:22:31.272Z"
   },
   {
    "duration": 15,
    "start_time": "2022-02-06T05:27:18.081Z"
   },
   {
    "duration": 19,
    "start_time": "2022-02-06T05:28:08.089Z"
   },
   {
    "duration": 13,
    "start_time": "2022-02-06T05:32:11.148Z"
   },
   {
    "duration": 485,
    "start_time": "2022-02-06T05:36:57.077Z"
   },
   {
    "duration": 2686,
    "start_time": "2022-02-06T05:40:10.032Z"
   },
   {
    "duration": 10,
    "start_time": "2022-02-06T05:43:26.441Z"
   },
   {
    "duration": 20,
    "start_time": "2022-02-06T05:44:46.555Z"
   },
   {
    "duration": 8,
    "start_time": "2022-02-06T05:45:23.644Z"
   },
   {
    "duration": 8,
    "start_time": "2022-02-06T05:48:47.840Z"
   },
   {
    "duration": 19,
    "start_time": "2022-02-06T05:49:43.525Z"
   },
   {
    "duration": 21,
    "start_time": "2022-02-06T05:49:53.522Z"
   },
   {
    "duration": 10,
    "start_time": "2022-02-06T05:51:24.693Z"
   },
   {
    "duration": 11,
    "start_time": "2022-02-06T05:51:43.073Z"
   },
   {
    "duration": 11,
    "start_time": "2022-02-06T05:51:52.085Z"
   },
   {
    "duration": 15,
    "start_time": "2022-02-06T05:53:18.244Z"
   },
   {
    "duration": 11,
    "start_time": "2022-02-06T05:53:32.708Z"
   },
   {
    "duration": 10,
    "start_time": "2022-02-06T05:55:16.097Z"
   },
   {
    "duration": 21,
    "start_time": "2022-02-06T05:57:21.575Z"
   },
   {
    "duration": 12,
    "start_time": "2022-02-06T05:58:07.342Z"
   },
   {
    "duration": 9,
    "start_time": "2022-02-06T06:01:43.283Z"
   },
   {
    "duration": 9,
    "start_time": "2022-02-06T06:02:45.433Z"
   },
   {
    "duration": 13,
    "start_time": "2022-02-06T06:03:26.401Z"
   },
   {
    "duration": 8,
    "start_time": "2022-02-06T06:06:46.962Z"
   },
   {
    "duration": 14,
    "start_time": "2022-02-06T06:07:04.326Z"
   },
   {
    "duration": 5,
    "start_time": "2022-02-06T06:07:19.916Z"
   },
   {
    "duration": 15,
    "start_time": "2022-02-06T06:07:20.783Z"
   },
   {
    "duration": 23,
    "start_time": "2022-02-06T06:08:40.420Z"
   },
   {
    "duration": 363,
    "start_time": "2022-02-06T06:09:46.290Z"
   },
   {
    "duration": 19,
    "start_time": "2022-02-06T06:09:52.146Z"
   },
   {
    "duration": 21,
    "start_time": "2022-02-06T06:10:22.250Z"
   },
   {
    "duration": 35,
    "start_time": "2022-02-06T06:11:30.092Z"
   },
   {
    "duration": 36,
    "start_time": "2022-02-06T06:11:59.223Z"
   },
   {
    "duration": 38,
    "start_time": "2022-02-06T06:14:07.730Z"
   },
   {
    "duration": 54,
    "start_time": "2022-02-06T06:14:15.544Z"
   },
   {
    "duration": 45,
    "start_time": "2022-02-06T06:14:49.574Z"
   },
   {
    "duration": 69,
    "start_time": "2022-02-06T06:16:49.672Z"
   },
   {
    "duration": 24,
    "start_time": "2022-02-06T06:35:43.724Z"
   },
   {
    "duration": 15,
    "start_time": "2022-02-06T06:35:50.982Z"
   },
   {
    "duration": 1512,
    "start_time": "2022-02-07T05:10:23.137Z"
   },
   {
    "duration": 66,
    "start_time": "2022-02-07T05:10:24.652Z"
   },
   {
    "duration": 16,
    "start_time": "2022-02-07T05:10:24.721Z"
   },
   {
    "duration": 73,
    "start_time": "2022-02-07T05:10:24.739Z"
   },
   {
    "duration": 18,
    "start_time": "2022-02-07T05:10:24.958Z"
   },
   {
    "duration": 54,
    "start_time": "2022-02-07T05:10:25.684Z"
   },
   {
    "duration": 8,
    "start_time": "2022-02-07T05:10:33.617Z"
   },
   {
    "duration": 20,
    "start_time": "2022-02-07T05:10:34.217Z"
   },
   {
    "duration": 9,
    "start_time": "2022-02-07T05:10:43.374Z"
   },
   {
    "duration": 23,
    "start_time": "2022-02-07T05:10:47.390Z"
   },
   {
    "duration": 22,
    "start_time": "2022-02-07T05:10:48.209Z"
   },
   {
    "duration": 31,
    "start_time": "2022-02-07T05:10:48.574Z"
   },
   {
    "duration": 34,
    "start_time": "2022-02-07T05:10:52.368Z"
   },
   {
    "duration": 6,
    "start_time": "2022-02-07T05:10:52.721Z"
   },
   {
    "duration": 10,
    "start_time": "2022-02-07T05:10:54.084Z"
   },
   {
    "duration": 9,
    "start_time": "2022-02-07T05:10:54.598Z"
   },
   {
    "duration": 10,
    "start_time": "2022-02-07T05:10:55.058Z"
   },
   {
    "duration": 2686,
    "start_time": "2022-02-07T05:10:56.411Z"
   },
   {
    "duration": 1007,
    "start_time": "2022-02-07T05:10:59.100Z"
   },
   {
    "duration": 2511,
    "start_time": "2022-02-07T05:11:29.758Z"
   },
   {
    "duration": 9,
    "start_time": "2022-02-07T05:11:40.871Z"
   },
   {
    "duration": 20,
    "start_time": "2022-02-07T05:11:43.526Z"
   },
   {
    "duration": 21,
    "start_time": "2022-02-07T05:11:53.639Z"
   },
   {
    "duration": 40,
    "start_time": "2022-02-07T05:11:57.016Z"
   },
   {
    "duration": 8,
    "start_time": "2022-02-07T05:11:57.595Z"
   },
   {
    "duration": 9,
    "start_time": "2022-02-07T05:12:20.654Z"
   },
   {
    "duration": 22,
    "start_time": "2022-02-07T05:12:23.212Z"
   },
   {
    "duration": 11,
    "start_time": "2022-02-07T05:12:44.255Z"
   },
   {
    "duration": 11,
    "start_time": "2022-02-07T05:13:04.668Z"
   },
   {
    "duration": 22,
    "start_time": "2022-02-07T05:13:06.990Z"
   },
   {
    "duration": 11,
    "start_time": "2022-02-07T05:13:40.994Z"
   },
   {
    "duration": 10,
    "start_time": "2022-02-07T05:13:41.356Z"
   },
   {
    "duration": 1072,
    "start_time": "2022-02-07T05:13:45.048Z"
   },
   {
    "duration": 13,
    "start_time": "2022-02-07T05:14:01.994Z"
   },
   {
    "duration": 9,
    "start_time": "2022-02-07T05:14:14.867Z"
   },
   {
    "duration": 7,
    "start_time": "2022-02-07T05:14:16.848Z"
   },
   {
    "duration": 8,
    "start_time": "2022-02-07T05:14:25.769Z"
   },
   {
    "duration": 21,
    "start_time": "2022-02-07T05:14:33.098Z"
   },
   {
    "duration": 19,
    "start_time": "2022-02-07T05:14:46.315Z"
   },
   {
    "duration": 573,
    "start_time": "2022-02-07T05:15:23.874Z"
   },
   {
    "duration": 2661,
    "start_time": "2022-02-07T05:15:31.690Z"
   },
   {
    "duration": 12,
    "start_time": "2022-02-07T05:15:49.514Z"
   },
   {
    "duration": 21,
    "start_time": "2022-02-07T05:15:51.695Z"
   },
   {
    "duration": 8,
    "start_time": "2022-02-07T05:15:52.305Z"
   },
   {
    "duration": 8,
    "start_time": "2022-02-07T05:15:56.763Z"
   },
   {
    "duration": 23,
    "start_time": "2022-02-07T05:16:02.280Z"
   },
   {
    "duration": 10,
    "start_time": "2022-02-07T05:16:06.376Z"
   },
   {
    "duration": 7,
    "start_time": "2022-02-07T05:16:30.272Z"
   },
   {
    "duration": 21,
    "start_time": "2022-02-07T05:16:41.759Z"
   },
   {
    "duration": 11,
    "start_time": "2022-02-07T05:16:45.982Z"
   },
   {
    "duration": 8,
    "start_time": "2022-02-07T05:16:58.465Z"
   },
   {
    "duration": 9,
    "start_time": "2022-02-07T05:16:59.365Z"
   },
   {
    "duration": 12,
    "start_time": "2022-02-07T05:17:06.550Z"
   },
   {
    "duration": 5,
    "start_time": "2022-02-07T05:17:13.173Z"
   },
   {
    "duration": 15,
    "start_time": "2022-02-07T05:17:14.662Z"
   },
   {
    "duration": 24,
    "start_time": "2022-02-07T05:17:24.201Z"
   },
   {
    "duration": 74,
    "start_time": "2022-02-07T05:17:30.488Z"
   },
   {
    "duration": 24,
    "start_time": "2022-02-07T05:18:44.139Z"
   },
   {
    "duration": 15,
    "start_time": "2022-02-07T05:18:45.274Z"
   },
   {
    "duration": 11,
    "start_time": "2022-02-07T05:20:48.532Z"
   },
   {
    "duration": 6,
    "start_time": "2022-02-07T05:21:47.508Z"
   },
   {
    "duration": 24,
    "start_time": "2022-02-07T05:23:00.817Z"
   },
   {
    "duration": 24,
    "start_time": "2022-02-07T05:23:32.779Z"
   },
   {
    "duration": 8,
    "start_time": "2022-02-07T05:25:21.858Z"
   },
   {
    "duration": 32,
    "start_time": "2022-02-07T05:27:56.575Z"
   },
   {
    "duration": 17,
    "start_time": "2022-02-07T05:29:00.016Z"
   },
   {
    "duration": 15,
    "start_time": "2022-02-07T05:29:36.828Z"
   },
   {
    "duration": 18,
    "start_time": "2022-02-07T05:31:10.089Z"
   },
   {
    "duration": 5,
    "start_time": "2022-02-07T05:38:29.331Z"
   },
   {
    "duration": 4292,
    "start_time": "2022-02-07T05:40:02.805Z"
   },
   {
    "duration": 921,
    "start_time": "2022-02-07T05:40:28.601Z"
   },
   {
    "duration": 5,
    "start_time": "2022-02-07T05:40:57.996Z"
   },
   {
    "duration": 8,
    "start_time": "2022-02-07T05:41:20.333Z"
   },
   {
    "duration": 846,
    "start_time": "2022-02-07T05:41:23.253Z"
   },
   {
    "duration": 10,
    "start_time": "2022-02-07T05:42:29.264Z"
   },
   {
    "duration": 249,
    "start_time": "2022-02-07T05:42:42.963Z"
   },
   {
    "duration": 314,
    "start_time": "2022-02-07T05:43:05.305Z"
   },
   {
    "duration": 9,
    "start_time": "2022-02-07T05:43:18.830Z"
   },
   {
    "duration": 7,
    "start_time": "2022-02-07T05:45:12.862Z"
   },
   {
    "duration": 11,
    "start_time": "2022-02-07T05:50:30.546Z"
   },
   {
    "duration": 11,
    "start_time": "2022-02-07T05:51:02.591Z"
   },
   {
    "duration": 259,
    "start_time": "2022-02-07T05:58:50.662Z"
   },
   {
    "duration": 252,
    "start_time": "2022-02-07T05:58:55.761Z"
   },
   {
    "duration": 263,
    "start_time": "2022-02-07T05:59:02.540Z"
   },
   {
    "duration": 262,
    "start_time": "2022-02-07T05:59:19.085Z"
   },
   {
    "duration": 20,
    "start_time": "2022-02-07T05:59:23.661Z"
   },
   {
    "duration": 94,
    "start_time": "2022-02-07T06:01:20.346Z"
   },
   {
    "duration": 13,
    "start_time": "2022-02-07T06:02:26.135Z"
   },
   {
    "duration": 5,
    "start_time": "2022-02-07T06:04:57.807Z"
   },
   {
    "duration": 5,
    "start_time": "2022-02-07T06:05:16.660Z"
   },
   {
    "duration": 12,
    "start_time": "2022-02-07T06:06:13.313Z"
   },
   {
    "duration": 24,
    "start_time": "2022-02-07T06:06:48.177Z"
   },
   {
    "duration": 13,
    "start_time": "2022-02-07T06:08:30.589Z"
   },
   {
    "duration": 30,
    "start_time": "2022-02-07T06:09:13.330Z"
   },
   {
    "duration": 19,
    "start_time": "2022-02-07T06:09:46.946Z"
   },
   {
    "duration": 497,
    "start_time": "2022-02-07T06:10:22.756Z"
   },
   {
    "duration": 10,
    "start_time": "2022-02-07T06:13:50.276Z"
   },
   {
    "duration": 5,
    "start_time": "2022-02-07T06:17:34.414Z"
   },
   {
    "duration": 653,
    "start_time": "2022-02-07T06:18:14.223Z"
   },
   {
    "duration": 25,
    "start_time": "2022-02-07T06:22:09.403Z"
   },
   {
    "duration": 275,
    "start_time": "2022-02-07T06:22:27.503Z"
   },
   {
    "duration": 21,
    "start_time": "2022-02-07T06:22:38.434Z"
   },
   {
    "duration": 22,
    "start_time": "2022-02-07T06:22:43.089Z"
   },
   {
    "duration": 21,
    "start_time": "2022-02-07T06:22:47.979Z"
   },
   {
    "duration": 21,
    "start_time": "2022-02-07T06:22:55.003Z"
   },
   {
    "duration": 23,
    "start_time": "2022-02-07T06:22:59.176Z"
   },
   {
    "duration": 9,
    "start_time": "2022-02-07T06:23:34.206Z"
   },
   {
    "duration": 10,
    "start_time": "2022-02-07T06:23:39.938Z"
   },
   {
    "duration": 9,
    "start_time": "2022-02-07T06:23:45.474Z"
   },
   {
    "duration": 7,
    "start_time": "2022-02-07T06:24:10.638Z"
   },
   {
    "duration": 13,
    "start_time": "2022-02-07T06:24:38.827Z"
   },
   {
    "duration": 9,
    "start_time": "2022-02-07T06:25:08.872Z"
   },
   {
    "duration": 11,
    "start_time": "2022-02-07T06:25:18.133Z"
   },
   {
    "duration": 10,
    "start_time": "2022-02-07T06:25:25.605Z"
   },
   {
    "duration": 17,
    "start_time": "2022-02-07T06:26:19.827Z"
   },
   {
    "duration": 1540,
    "start_time": "2022-02-07T06:28:54.808Z"
   },
   {
    "duration": 840,
    "start_time": "2022-02-07T06:29:06.678Z"
   },
   {
    "duration": 3765,
    "start_time": "2022-02-07T06:29:41.219Z"
   },
   {
    "duration": 557,
    "start_time": "2022-02-07T06:30:02.543Z"
   },
   {
    "duration": 4322,
    "start_time": "2022-02-07T06:30:22.420Z"
   },
   {
    "duration": 1543,
    "start_time": "2022-02-07T06:30:43.384Z"
   },
   {
    "duration": 1610,
    "start_time": "2022-02-07T06:30:59.976Z"
   },
   {
    "duration": 963,
    "start_time": "2022-02-07T06:32:19.839Z"
   },
   {
    "duration": 1591,
    "start_time": "2022-02-07T06:32:25.562Z"
   },
   {
    "duration": 1419,
    "start_time": "2022-02-07T06:32:36.146Z"
   },
   {
    "duration": 20,
    "start_time": "2022-02-07T06:33:50.788Z"
   },
   {
    "duration": 20,
    "start_time": "2022-02-07T06:37:34.902Z"
   },
   {
    "duration": 20,
    "start_time": "2022-02-07T06:38:01.360Z"
   },
   {
    "duration": 19,
    "start_time": "2022-02-07T06:38:13.972Z"
   },
   {
    "duration": 1791,
    "start_time": "2022-02-07T06:38:50.267Z"
   },
   {
    "duration": 1417,
    "start_time": "2022-02-07T06:38:59.017Z"
   },
   {
    "duration": 17,
    "start_time": "2022-02-07T06:39:26.042Z"
   },
   {
    "duration": 289,
    "start_time": "2022-02-07T06:42:06.530Z"
   },
   {
    "duration": 14,
    "start_time": "2022-02-07T06:42:29.081Z"
   },
   {
    "duration": 10,
    "start_time": "2022-02-07T06:42:38.931Z"
   },
   {
    "duration": 12,
    "start_time": "2022-02-07T06:42:49.187Z"
   },
   {
    "duration": 10,
    "start_time": "2022-02-07T06:42:49.684Z"
   },
   {
    "duration": 14,
    "start_time": "2022-02-07T06:44:26.971Z"
   },
   {
    "duration": 11,
    "start_time": "2022-02-07T06:44:27.524Z"
   },
   {
    "duration": 521,
    "start_time": "2022-02-07T06:45:39.803Z"
   },
   {
    "duration": 13,
    "start_time": "2022-02-07T06:50:09.642Z"
   },
   {
    "duration": 10,
    "start_time": "2022-02-07T06:50:13.237Z"
   },
   {
    "duration": 15,
    "start_time": "2022-02-07T06:50:34.937Z"
   },
   {
    "duration": 13,
    "start_time": "2022-02-07T06:50:36.394Z"
   },
   {
    "duration": 18,
    "start_time": "2022-02-07T06:50:58.135Z"
   },
   {
    "duration": 9,
    "start_time": "2022-02-07T06:51:07.891Z"
   },
   {
    "duration": 281,
    "start_time": "2022-02-07T06:52:56.828Z"
   },
   {
    "duration": 506,
    "start_time": "2022-02-07T06:53:05.906Z"
   },
   {
    "duration": 15,
    "start_time": "2022-02-07T06:57:13.786Z"
   },
   {
    "duration": 11,
    "start_time": "2022-02-07T06:57:19.934Z"
   },
   {
    "duration": 494,
    "start_time": "2022-02-07T06:58:06.401Z"
   },
   {
    "duration": 1486,
    "start_time": "2022-02-07T07:14:55.672Z"
   },
   {
    "duration": 65,
    "start_time": "2022-02-07T07:14:57.160Z"
   },
   {
    "duration": 16,
    "start_time": "2022-02-07T07:14:57.228Z"
   },
   {
    "duration": 68,
    "start_time": "2022-02-07T07:14:57.246Z"
   },
   {
    "duration": 20,
    "start_time": "2022-02-07T07:14:57.316Z"
   },
   {
    "duration": 59,
    "start_time": "2022-02-07T07:14:57.338Z"
   },
   {
    "duration": 6,
    "start_time": "2022-02-07T07:14:57.400Z"
   },
   {
    "duration": 26,
    "start_time": "2022-02-07T07:14:57.410Z"
   },
   {
    "duration": 34,
    "start_time": "2022-02-07T07:14:57.439Z"
   },
   {
    "duration": 26,
    "start_time": "2022-02-07T07:14:57.476Z"
   },
   {
    "duration": 25,
    "start_time": "2022-02-07T07:14:57.504Z"
   },
   {
    "duration": 64,
    "start_time": "2022-02-07T07:14:57.531Z"
   },
   {
    "duration": 34,
    "start_time": "2022-02-07T07:14:57.598Z"
   },
   {
    "duration": 6,
    "start_time": "2022-02-07T07:14:57.634Z"
   },
   {
    "duration": 10,
    "start_time": "2022-02-07T07:14:57.670Z"
   },
   {
    "duration": 16,
    "start_time": "2022-02-07T07:14:57.682Z"
   },
   {
    "duration": 16,
    "start_time": "2022-02-07T07:14:57.700Z"
   },
   {
    "duration": 2767,
    "start_time": "2022-02-07T07:14:57.719Z"
   },
   {
    "duration": 906,
    "start_time": "2022-02-07T07:15:00.489Z"
   },
   {
    "duration": 2504,
    "start_time": "2022-02-07T07:15:01.397Z"
   },
   {
    "duration": 7,
    "start_time": "2022-02-07T07:15:03.904Z"
   },
   {
    "duration": 28,
    "start_time": "2022-02-07T07:15:03.913Z"
   },
   {
    "duration": 38,
    "start_time": "2022-02-07T07:15:03.947Z"
   },
   {
    "duration": 41,
    "start_time": "2022-02-07T07:15:03.989Z"
   },
   {
    "duration": 8,
    "start_time": "2022-02-07T07:15:04.032Z"
   },
   {
    "duration": 9,
    "start_time": "2022-02-07T07:15:04.069Z"
   },
   {
    "duration": 21,
    "start_time": "2022-02-07T07:15:04.081Z"
   },
   {
    "duration": 11,
    "start_time": "2022-02-07T07:15:04.105Z"
   },
   {
    "duration": 9,
    "start_time": "2022-02-07T07:15:04.118Z"
   },
   {
    "duration": 23,
    "start_time": "2022-02-07T07:15:04.170Z"
   },
   {
    "duration": 8,
    "start_time": "2022-02-07T07:15:04.195Z"
   },
   {
    "duration": 7,
    "start_time": "2022-02-07T07:15:04.206Z"
   },
   {
    "duration": 754,
    "start_time": "2022-02-07T07:15:04.215Z"
   },
   {
    "duration": 10,
    "start_time": "2022-02-07T07:15:04.971Z"
   },
   {
    "duration": 8,
    "start_time": "2022-02-07T07:15:04.983Z"
   },
   {
    "duration": 8,
    "start_time": "2022-02-07T07:15:04.994Z"
   },
   {
    "duration": 8,
    "start_time": "2022-02-07T07:15:05.004Z"
   },
   {
    "duration": 71,
    "start_time": "2022-02-07T07:15:05.015Z"
   },
   {
    "duration": 17,
    "start_time": "2022-02-07T07:15:05.088Z"
   },
   {
    "duration": 593,
    "start_time": "2022-02-07T07:15:05.108Z"
   },
   {
    "duration": 2703,
    "start_time": "2022-02-07T07:15:05.703Z"
   },
   {
    "duration": 11,
    "start_time": "2022-02-07T07:15:08.408Z"
   },
   {
    "duration": 21,
    "start_time": "2022-02-07T07:15:08.421Z"
   },
   {
    "duration": 8,
    "start_time": "2022-02-07T07:15:08.470Z"
   },
   {
    "duration": 12,
    "start_time": "2022-02-07T07:15:08.480Z"
   },
   {
    "duration": 22,
    "start_time": "2022-02-07T07:15:08.494Z"
   },
   {
    "duration": 13,
    "start_time": "2022-02-07T07:15:08.518Z"
   },
   {
    "duration": 41,
    "start_time": "2022-02-07T07:15:08.533Z"
   },
   {
    "duration": 26,
    "start_time": "2022-02-07T07:15:08.576Z"
   },
   {
    "duration": 11,
    "start_time": "2022-02-07T07:15:08.605Z"
   },
   {
    "duration": 9,
    "start_time": "2022-02-07T07:15:08.619Z"
   },
   {
    "duration": 44,
    "start_time": "2022-02-07T07:15:08.630Z"
   },
   {
    "duration": 11,
    "start_time": "2022-02-07T07:15:08.676Z"
   },
   {
    "duration": 8,
    "start_time": "2022-02-07T07:15:08.690Z"
   },
   {
    "duration": 20,
    "start_time": "2022-02-07T07:15:08.700Z"
   },
   {
    "duration": 52,
    "start_time": "2022-02-07T07:15:08.723Z"
   },
   {
    "duration": 73,
    "start_time": "2022-02-07T07:15:08.777Z"
   },
   {
    "duration": 41,
    "start_time": "2022-02-07T07:15:08.852Z"
   },
   {
    "duration": 15,
    "start_time": "2022-02-07T07:15:08.895Z"
   },
   {
    "duration": 11,
    "start_time": "2022-02-07T07:15:08.912Z"
   },
   {
    "duration": 60,
    "start_time": "2022-02-07T07:15:08.926Z"
   },
   {
    "duration": 8,
    "start_time": "2022-02-07T07:15:08.988Z"
   },
   {
    "duration": 21,
    "start_time": "2022-02-07T07:15:08.998Z"
   },
   {
    "duration": 15,
    "start_time": "2022-02-07T07:15:09.021Z"
   },
   {
    "duration": 47,
    "start_time": "2022-02-07T07:15:09.039Z"
   },
   {
    "duration": 5,
    "start_time": "2022-02-07T07:15:09.088Z"
   },
   {
    "duration": 886,
    "start_time": "2022-02-07T07:15:09.095Z"
   },
   {
    "duration": 8,
    "start_time": "2022-02-07T07:15:09.988Z"
   },
   {
    "duration": 7,
    "start_time": "2022-02-07T07:15:10.000Z"
   },
   {
    "duration": 14,
    "start_time": "2022-02-07T07:15:10.010Z"
   },
   {
    "duration": 44,
    "start_time": "2022-02-07T07:15:10.027Z"
   },
   {
    "duration": 5,
    "start_time": "2022-02-07T07:15:10.073Z"
   },
   {
    "duration": 703,
    "start_time": "2022-02-07T07:15:10.080Z"
   },
   {
    "duration": 22,
    "start_time": "2022-02-07T07:15:10.785Z"
   },
   {
    "duration": 1428,
    "start_time": "2022-02-07T07:15:10.810Z"
   },
   {
    "duration": 28,
    "start_time": "2022-02-07T07:15:12.240Z"
   },
   {
    "duration": 9,
    "start_time": "2022-02-07T07:15:12.271Z"
   },
   {
    "duration": 538,
    "start_time": "2022-02-07T07:15:12.283Z"
   },
   {
    "duration": 13,
    "start_time": "2022-02-07T07:15:12.823Z"
   },
   {
    "duration": 33,
    "start_time": "2022-02-07T07:15:12.838Z"
   },
   {
    "duration": 525,
    "start_time": "2022-02-07T07:15:12.874Z"
   },
   {
    "duration": 17,
    "start_time": "2022-02-07T07:15:13.402Z"
   },
   {
    "duration": 10,
    "start_time": "2022-02-07T07:15:13.422Z"
   },
   {
    "duration": 549,
    "start_time": "2022-02-07T07:15:13.435Z"
   },
   {
    "duration": 1147,
    "start_time": "2022-02-13T09:00:46.962Z"
   },
   {
    "duration": 52,
    "start_time": "2022-02-13T09:00:48.111Z"
   },
   {
    "duration": 11,
    "start_time": "2022-02-13T09:00:48.165Z"
   },
   {
    "duration": 56,
    "start_time": "2022-02-13T09:00:48.177Z"
   },
   {
    "duration": 12,
    "start_time": "2022-02-13T09:00:48.235Z"
   },
   {
    "duration": 31,
    "start_time": "2022-02-13T09:00:48.248Z"
   },
   {
    "duration": 20,
    "start_time": "2022-02-13T09:00:48.281Z"
   },
   {
    "duration": 16,
    "start_time": "2022-02-13T09:00:48.303Z"
   },
   {
    "duration": 6,
    "start_time": "2022-02-13T09:00:48.321Z"
   },
   {
    "duration": 23,
    "start_time": "2022-02-13T09:00:48.328Z"
   },
   {
    "duration": 16,
    "start_time": "2022-02-13T09:00:48.352Z"
   },
   {
    "duration": 45,
    "start_time": "2022-02-13T09:00:48.370Z"
   },
   {
    "duration": 22,
    "start_time": "2022-02-13T09:00:48.417Z"
   },
   {
    "duration": 4,
    "start_time": "2022-02-13T09:00:48.440Z"
   },
   {
    "duration": 12,
    "start_time": "2022-02-13T09:00:48.446Z"
   },
   {
    "duration": 12,
    "start_time": "2022-02-13T09:00:48.460Z"
   },
   {
    "duration": 30,
    "start_time": "2022-02-13T09:00:48.474Z"
   },
   {
    "duration": 2241,
    "start_time": "2022-02-13T09:00:48.506Z"
   },
   {
    "duration": 639,
    "start_time": "2022-02-13T09:00:50.749Z"
   },
   {
    "duration": 1758,
    "start_time": "2022-02-13T09:00:51.389Z"
   },
   {
    "duration": 6,
    "start_time": "2022-02-13T09:00:53.149Z"
   },
   {
    "duration": 31,
    "start_time": "2022-02-13T09:00:53.157Z"
   },
   {
    "duration": 16,
    "start_time": "2022-02-13T09:00:53.193Z"
   },
   {
    "duration": 29,
    "start_time": "2022-02-13T09:00:53.212Z"
   },
   {
    "duration": 6,
    "start_time": "2022-02-13T09:00:53.243Z"
   },
   {
    "duration": 10,
    "start_time": "2022-02-13T09:00:53.251Z"
   },
   {
    "duration": 46,
    "start_time": "2022-02-13T09:00:53.263Z"
   },
   {
    "duration": 10,
    "start_time": "2022-02-13T09:00:53.311Z"
   },
   {
    "duration": 8,
    "start_time": "2022-02-13T09:00:53.322Z"
   },
   {
    "duration": 17,
    "start_time": "2022-02-13T09:00:53.331Z"
   },
   {
    "duration": 6,
    "start_time": "2022-02-13T09:00:53.350Z"
   },
   {
    "duration": 44,
    "start_time": "2022-02-13T09:00:53.357Z"
   },
   {
    "duration": 525,
    "start_time": "2022-02-13T09:00:53.404Z"
   },
   {
    "duration": 7,
    "start_time": "2022-02-13T09:00:53.930Z"
   },
   {
    "duration": 7,
    "start_time": "2022-02-13T09:00:53.939Z"
   },
   {
    "duration": 7,
    "start_time": "2022-02-13T09:00:53.947Z"
   },
   {
    "duration": 9,
    "start_time": "2022-02-13T09:00:53.956Z"
   },
   {
    "duration": 38,
    "start_time": "2022-02-13T09:00:53.966Z"
   },
   {
    "duration": 12,
    "start_time": "2022-02-13T09:00:54.005Z"
   },
   {
    "duration": 404,
    "start_time": "2022-02-13T09:00:54.019Z"
   },
   {
    "duration": 2229,
    "start_time": "2022-02-13T09:00:54.425Z"
   },
   {
    "duration": 10,
    "start_time": "2022-02-13T09:00:56.656Z"
   },
   {
    "duration": 33,
    "start_time": "2022-02-13T09:00:56.668Z"
   },
   {
    "duration": 6,
    "start_time": "2022-02-13T09:00:56.703Z"
   },
   {
    "duration": 8,
    "start_time": "2022-02-13T09:00:56.711Z"
   },
   {
    "duration": 16,
    "start_time": "2022-02-13T09:00:56.721Z"
   },
   {
    "duration": 9,
    "start_time": "2022-02-13T09:00:56.739Z"
   },
   {
    "duration": 48,
    "start_time": "2022-02-13T09:00:56.750Z"
   },
   {
    "duration": 15,
    "start_time": "2022-02-13T09:00:56.800Z"
   },
   {
    "duration": 12,
    "start_time": "2022-02-13T09:00:56.817Z"
   },
   {
    "duration": 10,
    "start_time": "2022-02-13T09:00:56.831Z"
   },
   {
    "duration": 8,
    "start_time": "2022-02-13T09:00:56.842Z"
   },
   {
    "duration": 15,
    "start_time": "2022-02-13T09:00:56.852Z"
   },
   {
    "duration": 5,
    "start_time": "2022-02-13T09:00:56.868Z"
   },
   {
    "duration": 35,
    "start_time": "2022-02-13T09:00:56.874Z"
   },
   {
    "duration": 24,
    "start_time": "2022-02-13T09:00:56.911Z"
   },
   {
    "duration": 71,
    "start_time": "2022-02-13T09:00:56.937Z"
   },
   {
    "duration": 19,
    "start_time": "2022-02-13T09:00:57.010Z"
   },
   {
    "duration": 12,
    "start_time": "2022-02-13T09:00:57.030Z"
   },
   {
    "duration": 15,
    "start_time": "2022-02-13T09:00:57.044Z"
   },
   {
    "duration": 56,
    "start_time": "2022-02-13T09:00:57.061Z"
   },
   {
    "duration": 7,
    "start_time": "2022-02-13T09:00:57.119Z"
   },
   {
    "duration": 18,
    "start_time": "2022-02-13T09:00:57.128Z"
   },
   {
    "duration": 11,
    "start_time": "2022-02-13T09:00:57.148Z"
   },
   {
    "duration": 44,
    "start_time": "2022-02-13T09:00:57.161Z"
   },
   {
    "duration": 8,
    "start_time": "2022-02-13T09:00:57.206Z"
   },
   {
    "duration": 541,
    "start_time": "2022-02-13T09:00:57.216Z"
   },
   {
    "duration": 6,
    "start_time": "2022-02-13T09:00:57.762Z"
   },
   {
    "duration": 7,
    "start_time": "2022-02-13T09:00:57.770Z"
   },
   {
    "duration": 21,
    "start_time": "2022-02-13T09:00:57.778Z"
   },
   {
    "duration": 10,
    "start_time": "2022-02-13T09:00:57.801Z"
   },
   {
    "duration": 3,
    "start_time": "2022-02-13T09:00:57.813Z"
   },
   {
    "duration": 432,
    "start_time": "2022-02-13T09:00:57.818Z"
   },
   {
    "duration": 15,
    "start_time": "2022-02-13T09:00:58.251Z"
   },
   {
    "duration": 931,
    "start_time": "2022-02-13T09:00:58.268Z"
   },
   {
    "duration": 12,
    "start_time": "2022-02-13T09:00:59.201Z"
   },
   {
    "duration": 8,
    "start_time": "2022-02-13T09:00:59.215Z"
   },
   {
    "duration": 411,
    "start_time": "2022-02-13T09:00:59.225Z"
   },
   {
    "duration": 10,
    "start_time": "2022-02-13T09:00:59.638Z"
   },
   {
    "duration": 8,
    "start_time": "2022-02-13T09:00:59.650Z"
   },
   {
    "duration": 381,
    "start_time": "2022-02-13T09:00:59.660Z"
   },
   {
    "duration": 11,
    "start_time": "2022-02-13T09:01:00.043Z"
   },
   {
    "duration": 21,
    "start_time": "2022-02-13T09:01:00.056Z"
   },
   {
    "duration": 361,
    "start_time": "2022-02-13T09:01:00.079Z"
   },
   {
    "duration": 1227,
    "start_time": "2022-02-13T09:32:15.297Z"
   },
   {
    "duration": 53,
    "start_time": "2022-02-13T09:32:16.526Z"
   },
   {
    "duration": 11,
    "start_time": "2022-02-13T09:32:16.581Z"
   },
   {
    "duration": 39,
    "start_time": "2022-02-13T09:32:16.599Z"
   },
   {
    "duration": 14,
    "start_time": "2022-02-13T09:32:16.639Z"
   },
   {
    "duration": 52,
    "start_time": "2022-02-13T09:32:16.655Z"
   },
   {
    "duration": 5,
    "start_time": "2022-02-13T09:32:16.708Z"
   },
   {
    "duration": 22,
    "start_time": "2022-02-13T09:32:16.715Z"
   },
   {
    "duration": 26,
    "start_time": "2022-02-13T09:32:16.739Z"
   },
   {
    "duration": 17,
    "start_time": "2022-02-13T09:32:16.767Z"
   },
   {
    "duration": 21,
    "start_time": "2022-02-13T09:32:16.786Z"
   },
   {
    "duration": 18,
    "start_time": "2022-02-13T09:32:16.809Z"
   },
   {
    "duration": 21,
    "start_time": "2022-02-13T09:32:16.829Z"
   },
   {
    "duration": 4,
    "start_time": "2022-02-13T09:32:16.852Z"
   },
   {
    "duration": 10,
    "start_time": "2022-02-13T09:32:16.857Z"
   },
   {
    "duration": 6,
    "start_time": "2022-02-13T09:32:16.899Z"
   },
   {
    "duration": 12,
    "start_time": "2022-02-13T09:32:16.907Z"
   },
   {
    "duration": 2214,
    "start_time": "2022-02-13T09:32:16.920Z"
   },
   {
    "duration": 662,
    "start_time": "2022-02-13T09:32:19.136Z"
   },
   {
    "duration": 1810,
    "start_time": "2022-02-13T09:32:19.800Z"
   },
   {
    "duration": 6,
    "start_time": "2022-02-13T09:32:21.612Z"
   },
   {
    "duration": 21,
    "start_time": "2022-02-13T09:32:21.620Z"
   },
   {
    "duration": 25,
    "start_time": "2022-02-13T09:32:21.645Z"
   },
   {
    "duration": 47,
    "start_time": "2022-02-13T09:32:21.673Z"
   },
   {
    "duration": 6,
    "start_time": "2022-02-13T09:32:21.722Z"
   },
   {
    "duration": 17,
    "start_time": "2022-02-13T09:32:21.730Z"
   },
   {
    "duration": 20,
    "start_time": "2022-02-13T09:32:21.749Z"
   },
   {
    "duration": 29,
    "start_time": "2022-02-13T09:32:21.770Z"
   },
   {
    "duration": 7,
    "start_time": "2022-02-13T09:32:21.801Z"
   },
   {
    "duration": 28,
    "start_time": "2022-02-13T09:32:21.810Z"
   },
   {
    "duration": 7,
    "start_time": "2022-02-13T09:32:21.839Z"
   },
   {
    "duration": 14,
    "start_time": "2022-02-13T09:32:21.848Z"
   },
   {
    "duration": 545,
    "start_time": "2022-02-13T09:32:21.864Z"
   },
   {
    "duration": 8,
    "start_time": "2022-02-13T09:32:22.411Z"
   },
   {
    "duration": 18,
    "start_time": "2022-02-13T09:32:22.420Z"
   },
   {
    "duration": 12,
    "start_time": "2022-02-13T09:32:22.440Z"
   },
   {
    "duration": 19,
    "start_time": "2022-02-13T09:32:22.454Z"
   },
   {
    "duration": 24,
    "start_time": "2022-02-13T09:32:22.475Z"
   },
   {
    "duration": 13,
    "start_time": "2022-02-13T09:32:22.501Z"
   },
   {
    "duration": 446,
    "start_time": "2022-02-13T09:32:22.515Z"
   },
   {
    "duration": 2425,
    "start_time": "2022-02-13T09:32:22.963Z"
   },
   {
    "duration": 18,
    "start_time": "2022-02-13T09:32:25.390Z"
   },
   {
    "duration": 25,
    "start_time": "2022-02-13T09:32:25.411Z"
   },
   {
    "duration": 5,
    "start_time": "2022-02-13T09:32:25.438Z"
   },
   {
    "duration": 14,
    "start_time": "2022-02-13T09:32:25.444Z"
   },
   {
    "duration": 17,
    "start_time": "2022-02-13T09:32:25.460Z"
   },
   {
    "duration": 29,
    "start_time": "2022-02-13T09:32:25.479Z"
   },
   {
    "duration": 8,
    "start_time": "2022-02-13T09:32:25.510Z"
   },
   {
    "duration": 23,
    "start_time": "2022-02-13T09:32:25.519Z"
   },
   {
    "duration": 10,
    "start_time": "2022-02-13T09:32:25.544Z"
   },
   {
    "duration": 8,
    "start_time": "2022-02-13T09:32:25.556Z"
   },
   {
    "duration": 35,
    "start_time": "2022-02-13T09:32:25.565Z"
   },
   {
    "duration": 29,
    "start_time": "2022-02-13T09:32:25.602Z"
   },
   {
    "duration": 9,
    "start_time": "2022-02-13T09:32:25.633Z"
   },
   {
    "duration": 35,
    "start_time": "2022-02-13T09:32:25.644Z"
   },
   {
    "duration": 38,
    "start_time": "2022-02-13T09:32:25.681Z"
   },
   {
    "duration": 52,
    "start_time": "2022-02-13T09:32:25.721Z"
   },
   {
    "duration": 45,
    "start_time": "2022-02-13T09:32:25.775Z"
   },
   {
    "duration": 10,
    "start_time": "2022-02-13T09:32:25.822Z"
   },
   {
    "duration": 37,
    "start_time": "2022-02-13T09:32:25.834Z"
   },
   {
    "duration": 30,
    "start_time": "2022-02-13T09:32:25.873Z"
   },
   {
    "duration": 27,
    "start_time": "2022-02-13T09:32:25.905Z"
   },
   {
    "duration": 34,
    "start_time": "2022-02-13T09:32:25.933Z"
   },
   {
    "duration": 14,
    "start_time": "2022-02-13T09:32:25.969Z"
   },
   {
    "duration": 50,
    "start_time": "2022-02-13T09:32:25.985Z"
   },
   {
    "duration": 16,
    "start_time": "2022-02-13T09:32:26.037Z"
   },
   {
    "duration": 622,
    "start_time": "2022-02-13T09:32:26.055Z"
   },
   {
    "duration": 15,
    "start_time": "2022-02-13T09:32:26.683Z"
   },
   {
    "duration": 8,
    "start_time": "2022-02-13T09:32:26.701Z"
   },
   {
    "duration": 10,
    "start_time": "2022-02-13T09:32:26.711Z"
   },
   {
    "duration": 13,
    "start_time": "2022-02-13T09:32:26.723Z"
   },
   {
    "duration": 26,
    "start_time": "2022-02-13T09:32:26.739Z"
   },
   {
    "duration": 502,
    "start_time": "2022-02-13T09:32:26.768Z"
   },
   {
    "duration": 15,
    "start_time": "2022-02-13T09:32:27.272Z"
   },
   {
    "duration": 1028,
    "start_time": "2022-02-13T09:32:27.288Z"
   },
   {
    "duration": 12,
    "start_time": "2022-02-13T09:32:28.319Z"
   },
   {
    "duration": 19,
    "start_time": "2022-02-13T09:32:28.333Z"
   },
   {
    "duration": 390,
    "start_time": "2022-02-13T09:32:28.354Z"
   },
   {
    "duration": 12,
    "start_time": "2022-02-13T09:32:28.746Z"
   },
   {
    "duration": 10,
    "start_time": "2022-02-13T09:32:28.760Z"
   },
   {
    "duration": 389,
    "start_time": "2022-02-13T09:32:28.773Z"
   },
   {
    "duration": 10,
    "start_time": "2022-02-13T09:32:29.164Z"
   },
   {
    "duration": 13,
    "start_time": "2022-02-13T09:32:29.176Z"
   },
   {
    "duration": 408,
    "start_time": "2022-02-13T09:32:29.199Z"
   },
   {
    "duration": 1152,
    "start_time": "2022-02-13T13:56:11.090Z"
   },
   {
    "duration": 48,
    "start_time": "2022-02-13T13:56:13.632Z"
   },
   {
    "duration": 13,
    "start_time": "2022-02-13T13:56:13.954Z"
   },
   {
    "duration": 35,
    "start_time": "2022-02-13T13:56:15.267Z"
   },
   {
    "duration": 14,
    "start_time": "2022-02-13T13:56:16.513Z"
   },
   {
    "duration": 26,
    "start_time": "2022-02-13T13:56:18.531Z"
   },
   {
    "duration": 4,
    "start_time": "2022-02-13T13:56:20.348Z"
   },
   {
    "duration": 14,
    "start_time": "2022-02-13T13:56:20.526Z"
   },
   {
    "duration": 8,
    "start_time": "2022-02-13T13:56:20.963Z"
   },
   {
    "duration": 19,
    "start_time": "2022-02-13T13:56:22.623Z"
   },
   {
    "duration": 15,
    "start_time": "2022-02-13T13:56:23.442Z"
   },
   {
    "duration": 18,
    "start_time": "2022-02-13T13:56:23.799Z"
   },
   {
    "duration": 22,
    "start_time": "2022-02-13T13:56:24.771Z"
   },
   {
    "duration": 4,
    "start_time": "2022-02-13T13:56:25.583Z"
   },
   {
    "duration": 7,
    "start_time": "2022-02-13T13:56:29.057Z"
   },
   {
    "duration": 6,
    "start_time": "2022-02-13T13:56:29.248Z"
   },
   {
    "duration": 7,
    "start_time": "2022-02-13T13:56:29.480Z"
   },
   {
    "duration": 2099,
    "start_time": "2022-02-13T13:56:33.781Z"
   },
   {
    "duration": 594,
    "start_time": "2022-02-13T13:56:35.882Z"
   },
   {
    "duration": 8,
    "start_time": "2022-02-13T13:56:51.975Z"
   },
   {
    "duration": 15,
    "start_time": "2022-02-13T13:56:52.370Z"
   },
   {
    "duration": 1152,
    "start_time": "2022-02-13T13:57:07.290Z"
   },
   {
    "duration": 45,
    "start_time": "2022-02-13T13:57:08.444Z"
   },
   {
    "duration": 10,
    "start_time": "2022-02-13T13:57:08.491Z"
   },
   {
    "duration": 37,
    "start_time": "2022-02-13T13:57:09.035Z"
   },
   {
    "duration": 13,
    "start_time": "2022-02-13T13:57:09.617Z"
   },
   {
    "duration": 26,
    "start_time": "2022-02-13T13:57:10.205Z"
   },
   {
    "duration": 5,
    "start_time": "2022-02-13T13:57:11.356Z"
   },
   {
    "duration": 14,
    "start_time": "2022-02-13T13:57:11.560Z"
   },
   {
    "duration": 7,
    "start_time": "2022-02-13T13:57:12.890Z"
   },
   {
    "duration": 17,
    "start_time": "2022-02-13T13:57:17.144Z"
   },
   {
    "duration": 15,
    "start_time": "2022-02-13T13:57:20.863Z"
   },
   {
    "duration": 19,
    "start_time": "2022-02-13T13:57:23.777Z"
   },
   {
    "duration": 23,
    "start_time": "2022-02-13T13:57:33.497Z"
   },
   {
    "duration": 5,
    "start_time": "2022-02-13T13:57:34.323Z"
   },
   {
    "duration": 7,
    "start_time": "2022-02-13T13:57:37.976Z"
   },
   {
    "duration": 7,
    "start_time": "2022-02-13T13:57:38.229Z"
   },
   {
    "duration": 7,
    "start_time": "2022-02-13T13:57:38.806Z"
   },
   {
    "duration": 2104,
    "start_time": "2022-02-13T13:57:47.258Z"
   },
   {
    "duration": 573,
    "start_time": "2022-02-13T13:57:55.313Z"
   },
   {
    "duration": 1627,
    "start_time": "2022-02-13T13:58:04.724Z"
   },
   {
    "duration": 7,
    "start_time": "2022-02-13T13:58:09.876Z"
   },
   {
    "duration": 15,
    "start_time": "2022-02-13T13:58:09.885Z"
   },
   {
    "duration": 14,
    "start_time": "2022-02-13T13:58:10.450Z"
   },
   {
    "duration": 25,
    "start_time": "2022-02-13T13:58:10.960Z"
   },
   {
    "duration": 6,
    "start_time": "2022-02-13T13:58:13.157Z"
   },
   {
    "duration": 7,
    "start_time": "2022-02-13T13:58:13.985Z"
   },
   {
    "duration": 17,
    "start_time": "2022-02-13T13:58:14.385Z"
   },
   {
    "duration": 9,
    "start_time": "2022-02-13T13:58:17.037Z"
   },
   {
    "duration": 8,
    "start_time": "2022-02-13T13:58:18.493Z"
   },
   {
    "duration": 15,
    "start_time": "2022-02-13T13:58:21.391Z"
   },
   {
    "duration": 7,
    "start_time": "2022-02-13T13:58:24.426Z"
   },
   {
    "duration": 6,
    "start_time": "2022-02-13T13:58:25.100Z"
   },
   {
    "duration": 462,
    "start_time": "2022-02-13T13:58:28.785Z"
   },
   {
    "duration": 8,
    "start_time": "2022-02-13T13:58:33.885Z"
   },
   {
    "duration": 7,
    "start_time": "2022-02-13T13:58:35.537Z"
   },
   {
    "duration": 5,
    "start_time": "2022-02-13T13:58:37.990Z"
   },
   {
    "duration": 6,
    "start_time": "2022-02-13T13:58:38.416Z"
   },
   {
    "duration": 14,
    "start_time": "2022-02-13T13:58:38.882Z"
   },
   {
    "duration": 15,
    "start_time": "2022-02-13T13:58:41.408Z"
   },
   {
    "duration": 372,
    "start_time": "2022-02-13T13:58:49.382Z"
   },
   {
    "duration": 2020,
    "start_time": "2022-02-13T13:58:52.916Z"
   },
   {
    "duration": 8,
    "start_time": "2022-02-13T13:58:58.146Z"
   },
   {
    "duration": 17,
    "start_time": "2022-02-13T13:58:58.320Z"
   },
   {
    "duration": 6,
    "start_time": "2022-02-13T13:58:58.548Z"
   },
   {
    "duration": 7,
    "start_time": "2022-02-13T13:59:02.189Z"
   },
   {
    "duration": 14,
    "start_time": "2022-02-13T13:59:03.001Z"
   },
   {
    "duration": 8,
    "start_time": "2022-02-13T13:59:05.591Z"
   },
   {
    "duration": 6,
    "start_time": "2022-02-13T13:59:06.340Z"
   },
   {
    "duration": 15,
    "start_time": "2022-02-13T13:59:06.870Z"
   },
   {
    "duration": 9,
    "start_time": "2022-02-13T13:59:09.989Z"
   },
   {
    "duration": 6,
    "start_time": "2022-02-13T13:59:13.254Z"
   },
   {
    "duration": 8,
    "start_time": "2022-02-13T13:59:13.457Z"
   },
   {
    "duration": 9,
    "start_time": "2022-02-13T13:59:13.921Z"
   },
   {
    "duration": 4,
    "start_time": "2022-02-13T13:59:17.067Z"
   },
   {
    "duration": 11,
    "start_time": "2022-02-13T13:59:17.508Z"
   },
   {
    "duration": 21,
    "start_time": "2022-02-13T13:59:21.151Z"
   },
   {
    "duration": 47,
    "start_time": "2022-02-13T13:59:25.408Z"
   },
   {
    "duration": 19,
    "start_time": "2022-02-13T13:59:35.291Z"
   },
   {
    "duration": 17,
    "start_time": "2022-02-13T13:59:35.701Z"
   },
   {
    "duration": 10,
    "start_time": "2022-02-13T13:59:39.158Z"
   },
   {
    "duration": 21,
    "start_time": "2022-02-13T13:59:42.431Z"
   },
   {
    "duration": 6,
    "start_time": "2022-02-13T13:59:43.335Z"
   },
   {
    "duration": 14,
    "start_time": "2022-02-13T13:59:50.015Z"
   },
   {
    "duration": 11,
    "start_time": "2022-02-13T13:59:50.316Z"
   },
   {
    "duration": 12,
    "start_time": "2022-02-13T13:59:53.479Z"
   },
   {
    "duration": 4,
    "start_time": "2022-02-13T14:00:10.313Z"
   },
   {
    "duration": 516,
    "start_time": "2022-02-13T14:00:14.697Z"
   },
   {
    "duration": 7,
    "start_time": "2022-02-13T14:00:24.543Z"
   },
   {
    "duration": 6,
    "start_time": "2022-02-13T14:00:27.465Z"
   },
   {
    "duration": 8,
    "start_time": "2022-02-13T14:00:29.556Z"
   },
   {
    "duration": 8,
    "start_time": "2022-02-13T14:00:32.151Z"
   },
   {
    "duration": 4,
    "start_time": "2022-02-13T14:00:32.417Z"
   },
   {
    "duration": 397,
    "start_time": "2022-02-13T14:00:36.181Z"
   },
   {
    "duration": 16,
    "start_time": "2022-02-13T14:00:46.947Z"
   },
   {
    "duration": 848,
    "start_time": "2022-02-13T14:00:51.788Z"
   },
   {
    "duration": 15,
    "start_time": "2022-02-13T14:12:40.477Z"
   },
   {
    "duration": 10,
    "start_time": "2022-02-13T14:12:41.111Z"
   },
   {
    "duration": 325,
    "start_time": "2022-02-13T14:12:41.880Z"
   },
   {
    "duration": 9,
    "start_time": "2022-02-13T14:15:23.570Z"
   },
   {
    "duration": 8,
    "start_time": "2022-02-13T14:15:23.958Z"
   },
   {
    "duration": 321,
    "start_time": "2022-02-13T14:15:25.432Z"
   },
   {
    "duration": 280,
    "start_time": "2022-02-13T14:16:07.272Z"
   },
   {
    "duration": 11,
    "start_time": "2022-02-13T14:16:11.103Z"
   },
   {
    "duration": 8,
    "start_time": "2022-02-13T14:16:11.573Z"
   },
   {
    "duration": 329,
    "start_time": "2022-02-13T14:16:12.110Z"
   },
   {
    "duration": 20,
    "start_time": "2022-02-13T14:17:46.576Z"
   },
   {
    "duration": 23,
    "start_time": "2022-02-13T14:18:05.092Z"
   },
   {
    "duration": 19,
    "start_time": "2022-02-13T14:18:18.599Z"
   },
   {
    "duration": 24,
    "start_time": "2022-02-13T14:18:22.623Z"
   },
   {
    "duration": 20,
    "start_time": "2022-02-13T14:18:38.185Z"
   },
   {
    "duration": 20,
    "start_time": "2022-02-13T14:18:50.919Z"
   },
   {
    "duration": 203,
    "start_time": "2022-02-13T14:19:09.461Z"
   },
   {
    "duration": 21,
    "start_time": "2022-02-13T14:19:18.932Z"
   },
   {
    "duration": 19,
    "start_time": "2022-02-13T14:20:34.328Z"
   },
   {
    "duration": 25,
    "start_time": "2022-02-13T14:21:15.243Z"
   },
   {
    "duration": 20,
    "start_time": "2022-02-13T14:21:31.535Z"
   },
   {
    "duration": 31,
    "start_time": "2022-02-13T14:22:51.485Z"
   },
   {
    "duration": 226,
    "start_time": "2022-02-13T14:25:00.520Z"
   },
   {
    "duration": 30,
    "start_time": "2022-02-13T14:25:07.089Z"
   },
   {
    "duration": 216,
    "start_time": "2022-02-13T14:26:20.245Z"
   },
   {
    "duration": 214,
    "start_time": "2022-02-13T14:26:36.288Z"
   },
   {
    "duration": 195,
    "start_time": "2022-02-13T14:26:45.769Z"
   },
   {
    "duration": 1435,
    "start_time": "2022-02-13T18:11:56.094Z"
   },
   {
    "duration": 65,
    "start_time": "2022-02-13T18:11:57.532Z"
   },
   {
    "duration": 17,
    "start_time": "2022-02-13T18:11:57.600Z"
   },
   {
    "duration": 77,
    "start_time": "2022-02-13T18:12:01.081Z"
   },
   {
    "duration": 20,
    "start_time": "2022-02-13T18:12:05.060Z"
   },
   {
    "duration": 39,
    "start_time": "2022-02-13T18:12:08.965Z"
   },
   {
    "duration": 6,
    "start_time": "2022-02-13T18:12:14.609Z"
   },
   {
    "duration": 19,
    "start_time": "2022-02-13T18:12:17.958Z"
   },
   {
    "duration": 10,
    "start_time": "2022-02-13T18:12:22.079Z"
   },
   {
    "duration": 23,
    "start_time": "2022-02-13T18:12:23.658Z"
   },
   {
    "duration": 21,
    "start_time": "2022-02-13T18:12:27.107Z"
   },
   {
    "duration": 34,
    "start_time": "2022-02-13T18:12:30.412Z"
   },
   {
    "duration": 34,
    "start_time": "2022-02-13T18:12:37.338Z"
   },
   {
    "duration": 6,
    "start_time": "2022-02-13T18:12:37.583Z"
   },
   {
    "duration": 10,
    "start_time": "2022-02-13T18:12:41.238Z"
   },
   {
    "duration": 8,
    "start_time": "2022-02-13T18:12:42.353Z"
   },
   {
    "duration": 10,
    "start_time": "2022-02-13T18:12:42.898Z"
   },
   {
    "duration": 2818,
    "start_time": "2022-02-13T18:13:52.380Z"
   },
   {
    "duration": 887,
    "start_time": "2022-02-13T18:13:55.201Z"
   },
   {
    "duration": 2667,
    "start_time": "2022-02-13T18:14:05.016Z"
   },
   {
    "duration": 10,
    "start_time": "2022-02-13T18:14:07.686Z"
   },
   {
    "duration": 21,
    "start_time": "2022-02-13T18:14:09.675Z"
   },
   {
    "duration": 21,
    "start_time": "2022-02-13T18:14:10.092Z"
   },
   {
    "duration": 38,
    "start_time": "2022-02-13T18:14:10.598Z"
   },
   {
    "duration": 8,
    "start_time": "2022-02-13T18:14:13.194Z"
   },
   {
    "duration": 10,
    "start_time": "2022-02-13T18:14:17.456Z"
   },
   {
    "duration": 24,
    "start_time": "2022-02-13T18:14:17.924Z"
   },
   {
    "duration": 10,
    "start_time": "2022-02-13T18:14:22.642Z"
   },
   {
    "duration": 9,
    "start_time": "2022-02-13T18:14:24.419Z"
   },
   {
    "duration": 29,
    "start_time": "2022-02-13T18:14:26.519Z"
   },
   {
    "duration": 5,
    "start_time": "2022-02-13T18:15:13.662Z"
   },
   {
    "duration": 7,
    "start_time": "2022-02-13T18:15:18.219Z"
   },
   {
    "duration": 7,
    "start_time": "2022-02-13T18:16:40.650Z"
   },
   {
    "duration": 707,
    "start_time": "2022-02-13T18:16:41.822Z"
   },
   {
    "duration": 9,
    "start_time": "2022-02-13T18:16:45.383Z"
   },
   {
    "duration": 8,
    "start_time": "2022-02-13T18:16:48.540Z"
   },
   {
    "duration": 9,
    "start_time": "2022-02-13T18:16:48.889Z"
   },
   {
    "duration": 9,
    "start_time": "2022-02-13T18:16:49.964Z"
   },
   {
    "duration": 22,
    "start_time": "2022-02-13T18:16:50.916Z"
   },
   {
    "duration": 18,
    "start_time": "2022-02-13T18:16:53.822Z"
   },
   {
    "duration": 571,
    "start_time": "2022-02-13T18:16:58.444Z"
   },
   {
    "duration": 2736,
    "start_time": "2022-02-13T18:17:03.086Z"
   },
   {
    "duration": 11,
    "start_time": "2022-02-13T18:17:05.824Z"
   },
   {
    "duration": 37,
    "start_time": "2022-02-13T18:17:05.838Z"
   },
   {
    "duration": 6,
    "start_time": "2022-02-13T18:17:05.878Z"
   },
   {
    "duration": 9,
    "start_time": "2022-02-13T18:17:09.412Z"
   },
   {
    "duration": 21,
    "start_time": "2022-02-13T18:17:13.693Z"
   },
   {
    "duration": 12,
    "start_time": "2022-02-13T18:17:13.905Z"
   },
   {
    "duration": 8,
    "start_time": "2022-02-13T18:17:18.350Z"
   },
   {
    "duration": 22,
    "start_time": "2022-02-13T18:17:18.883Z"
   },
   {
    "duration": 11,
    "start_time": "2022-02-13T18:17:19.124Z"
   },
   {
    "duration": 8,
    "start_time": "2022-02-13T18:17:24.163Z"
   },
   {
    "duration": 10,
    "start_time": "2022-02-13T18:17:24.490Z"
   },
   {
    "duration": 14,
    "start_time": "2022-02-13T18:17:25.205Z"
   },
   {
    "duration": 5,
    "start_time": "2022-02-13T18:17:31.986Z"
   },
   {
    "duration": 15,
    "start_time": "2022-02-13T18:17:34.465Z"
   },
   {
    "duration": 22,
    "start_time": "2022-02-13T18:17:38.522Z"
   },
   {
    "duration": 73,
    "start_time": "2022-02-13T18:17:41.872Z"
   },
   {
    "duration": 39,
    "start_time": "2022-02-13T18:17:46.437Z"
   },
   {
    "duration": 15,
    "start_time": "2022-02-13T18:17:47.162Z"
   },
   {
    "duration": 11,
    "start_time": "2022-02-13T18:17:50.324Z"
   },
   {
    "duration": 23,
    "start_time": "2022-02-13T18:17:51.129Z"
   },
   {
    "duration": 8,
    "start_time": "2022-02-13T18:17:54.771Z"
   },
   {
    "duration": 18,
    "start_time": "2022-02-13T18:17:58.556Z"
   },
   {
    "duration": 16,
    "start_time": "2022-02-13T18:18:00.778Z"
   },
   {
    "duration": 19,
    "start_time": "2022-02-13T18:18:01.704Z"
   },
   {
    "duration": 5,
    "start_time": "2022-02-13T18:21:06.590Z"
   },
   {
    "duration": 860,
    "start_time": "2022-02-13T18:21:10.664Z"
   },
   {
    "duration": 847,
    "start_time": "2022-02-13T18:21:51.951Z"
   },
   {
    "duration": 12,
    "start_time": "2022-02-13T18:22:10.412Z"
   },
   {
    "duration": 10,
    "start_time": "2022-02-13T18:22:14.408Z"
   },
   {
    "duration": 16,
    "start_time": "2022-02-13T18:22:16.854Z"
   },
   {
    "duration": 11,
    "start_time": "2022-02-13T18:22:19.173Z"
   },
   {
    "duration": 5,
    "start_time": "2022-02-13T18:22:19.865Z"
   },
   {
    "duration": 843,
    "start_time": "2022-02-13T18:22:20.584Z"
   },
   {
    "duration": 524,
    "start_time": "2022-02-13T18:22:28.737Z"
   },
   {
    "duration": 400,
    "start_time": "2022-02-13T18:23:13.263Z"
   },
   {
    "duration": 404,
    "start_time": "2022-02-13T18:23:26.509Z"
   },
   {
    "duration": 45,
    "start_time": "2022-02-13T18:23:34.311Z"
   },
   {
    "duration": 47,
    "start_time": "2022-02-13T18:29:04.074Z"
   },
   {
    "duration": 46,
    "start_time": "2022-02-13T18:29:12.521Z"
   },
   {
    "duration": 40,
    "start_time": "2022-02-13T18:30:08.850Z"
   },
   {
    "duration": 5,
    "start_time": "2022-02-13T18:30:16.648Z"
   },
   {
    "duration": 46,
    "start_time": "2022-02-13T18:33:51.742Z"
   },
   {
    "duration": 47,
    "start_time": "2022-02-13T18:34:01.958Z"
   },
   {
    "duration": 45,
    "start_time": "2022-02-13T18:34:12.352Z"
   },
   {
    "duration": 33,
    "start_time": "2022-02-13T18:37:56.697Z"
   },
   {
    "duration": 34,
    "start_time": "2022-02-13T18:41:17.495Z"
   },
   {
    "duration": 578,
    "start_time": "2022-02-13T18:41:52.201Z"
   },
   {
    "duration": 737,
    "start_time": "2022-02-13T18:42:48.438Z"
   },
   {
    "duration": 373,
    "start_time": "2022-02-13T18:43:22.001Z"
   },
   {
    "duration": 642,
    "start_time": "2022-02-13T18:43:31.036Z"
   },
   {
    "duration": 606,
    "start_time": "2022-02-13T18:43:35.830Z"
   },
   {
    "duration": 1387,
    "start_time": "2022-02-13T18:43:45.042Z"
   },
   {
    "duration": 403,
    "start_time": "2022-02-13T18:49:44.741Z"
   },
   {
    "duration": 509,
    "start_time": "2022-02-13T18:50:15.155Z"
   },
   {
    "duration": 38,
    "start_time": "2022-02-13T18:50:20.992Z"
   },
   {
    "duration": 36,
    "start_time": "2022-02-13T18:50:36.362Z"
   },
   {
    "duration": 32,
    "start_time": "2022-02-13T18:50:48.357Z"
   },
   {
    "duration": 39,
    "start_time": "2022-02-13T18:53:04.436Z"
   },
   {
    "duration": 419,
    "start_time": "2022-02-13T18:53:33.474Z"
   },
   {
    "duration": 96,
    "start_time": "2022-02-13T18:54:02.644Z"
   },
   {
    "duration": 52,
    "start_time": "2022-02-13T18:54:11.946Z"
   },
   {
    "duration": 35,
    "start_time": "2022-02-13T18:54:56.924Z"
   },
   {
    "duration": 36,
    "start_time": "2022-02-13T18:55:58.606Z"
   },
   {
    "duration": 3,
    "start_time": "2022-02-13T18:56:27.694Z"
   },
   {
    "duration": 3,
    "start_time": "2022-02-13T18:56:28.066Z"
   },
   {
    "duration": 3,
    "start_time": "2022-02-13T18:56:34.595Z"
   },
   {
    "duration": 513,
    "start_time": "2022-02-13T18:57:15.257Z"
   },
   {
    "duration": 34,
    "start_time": "2022-02-13T18:59:19.976Z"
   },
   {
    "duration": 498,
    "start_time": "2022-02-13T19:00:06.446Z"
   },
   {
    "duration": 3,
    "start_time": "2022-02-13T19:01:07.918Z"
   },
   {
    "duration": 3,
    "start_time": "2022-02-13T19:01:08.223Z"
   },
   {
    "duration": 4,
    "start_time": "2022-02-13T19:01:08.641Z"
   },
   {
    "duration": 454,
    "start_time": "2022-02-13T19:02:29.059Z"
   },
   {
    "duration": 39,
    "start_time": "2022-02-13T19:03:01.624Z"
   },
   {
    "duration": 714,
    "start_time": "2022-02-13T19:03:51.624Z"
   },
   {
    "duration": 4,
    "start_time": "2022-02-13T19:03:57.483Z"
   },
   {
    "duration": 4,
    "start_time": "2022-02-13T19:03:57.785Z"
   },
   {
    "duration": 3,
    "start_time": "2022-02-13T19:03:58.024Z"
   },
   {
    "duration": 1798,
    "start_time": "2022-02-13T19:19:03.674Z"
   },
   {
    "duration": 90,
    "start_time": "2022-02-13T19:19:05.476Z"
   },
   {
    "duration": 20,
    "start_time": "2022-02-13T19:19:05.570Z"
   },
   {
    "duration": 77,
    "start_time": "2022-02-13T19:19:05.593Z"
   },
   {
    "duration": 22,
    "start_time": "2022-02-13T19:19:05.673Z"
   },
   {
    "duration": 61,
    "start_time": "2022-02-13T19:19:05.698Z"
   },
   {
    "duration": 8,
    "start_time": "2022-02-13T19:19:05.767Z"
   },
   {
    "duration": 21,
    "start_time": "2022-02-13T19:19:05.781Z"
   },
   {
    "duration": 13,
    "start_time": "2022-02-13T19:19:05.806Z"
   },
   {
    "duration": 64,
    "start_time": "2022-02-13T19:19:05.822Z"
   },
   {
    "duration": 22,
    "start_time": "2022-02-13T19:19:05.888Z"
   },
   {
    "duration": 68,
    "start_time": "2022-02-13T19:19:05.912Z"
   },
   {
    "duration": 45,
    "start_time": "2022-02-13T19:19:05.984Z"
   },
   {
    "duration": 7,
    "start_time": "2022-02-13T19:19:06.031Z"
   },
   {
    "duration": 15,
    "start_time": "2022-02-13T19:19:06.061Z"
   },
   {
    "duration": 22,
    "start_time": "2022-02-13T19:19:06.079Z"
   },
   {
    "duration": 13,
    "start_time": "2022-02-13T19:19:06.104Z"
   },
   {
    "duration": 2970,
    "start_time": "2022-02-13T19:19:06.119Z"
   },
   {
    "duration": 957,
    "start_time": "2022-02-13T19:19:09.092Z"
   },
   {
    "duration": 2648,
    "start_time": "2022-02-13T19:19:10.059Z"
   },
   {
    "duration": 10,
    "start_time": "2022-02-13T19:19:12.710Z"
   },
   {
    "duration": 48,
    "start_time": "2022-02-13T19:19:12.723Z"
   },
   {
    "duration": 26,
    "start_time": "2022-02-13T19:19:12.781Z"
   },
   {
    "duration": 77,
    "start_time": "2022-02-13T19:19:12.813Z"
   },
   {
    "duration": 9,
    "start_time": "2022-02-13T19:19:12.894Z"
   },
   {
    "duration": 19,
    "start_time": "2022-02-13T19:19:12.905Z"
   },
   {
    "duration": 54,
    "start_time": "2022-02-13T19:19:12.927Z"
   },
   {
    "duration": 16,
    "start_time": "2022-02-13T19:19:12.984Z"
   },
   {
    "duration": 19,
    "start_time": "2022-02-13T19:19:13.003Z"
   },
   {
    "duration": 56,
    "start_time": "2022-02-13T19:19:13.024Z"
   },
   {
    "duration": 6,
    "start_time": "2022-02-13T19:19:13.083Z"
   },
   {
    "duration": 11,
    "start_time": "2022-02-13T19:19:13.092Z"
   },
   {
    "duration": 806,
    "start_time": "2022-02-13T19:19:13.105Z"
   },
   {
    "duration": 10,
    "start_time": "2022-02-13T19:19:13.913Z"
   },
   {
    "duration": 9,
    "start_time": "2022-02-13T19:19:13.925Z"
   },
   {
    "duration": 26,
    "start_time": "2022-02-13T19:19:13.958Z"
   },
   {
    "duration": 9,
    "start_time": "2022-02-13T19:19:13.987Z"
   },
   {
    "duration": 22,
    "start_time": "2022-02-13T19:19:13.998Z"
   },
   {
    "duration": 48,
    "start_time": "2022-02-13T19:19:14.023Z"
   },
   {
    "duration": 619,
    "start_time": "2022-02-13T19:19:14.074Z"
   },
   {
    "duration": 3090,
    "start_time": "2022-02-13T19:19:14.697Z"
   },
   {
    "duration": 13,
    "start_time": "2022-02-13T19:19:17.790Z"
   },
   {
    "duration": 22,
    "start_time": "2022-02-13T19:19:17.806Z"
   },
   {
    "duration": 37,
    "start_time": "2022-02-13T19:19:17.831Z"
   },
   {
    "duration": 24,
    "start_time": "2022-02-13T19:19:17.871Z"
   },
   {
    "duration": 22,
    "start_time": "2022-02-13T19:19:17.898Z"
   },
   {
    "duration": 42,
    "start_time": "2022-02-13T19:19:17.923Z"
   },
   {
    "duration": 10,
    "start_time": "2022-02-13T19:19:17.968Z"
   },
   {
    "duration": 28,
    "start_time": "2022-02-13T19:19:17.981Z"
   },
   {
    "duration": 13,
    "start_time": "2022-02-13T19:19:18.011Z"
   },
   {
    "duration": 43,
    "start_time": "2022-02-13T19:19:18.027Z"
   },
   {
    "duration": 12,
    "start_time": "2022-02-13T19:19:18.073Z"
   },
   {
    "duration": 15,
    "start_time": "2022-02-13T19:19:18.088Z"
   },
   {
    "duration": 6,
    "start_time": "2022-02-13T19:19:18.105Z"
   },
   {
    "duration": 50,
    "start_time": "2022-02-13T19:19:18.113Z"
   },
   {
    "duration": 30,
    "start_time": "2022-02-13T19:19:18.167Z"
   },
   {
    "duration": 112,
    "start_time": "2022-02-13T19:19:18.199Z"
   },
   {
    "duration": 27,
    "start_time": "2022-02-13T19:19:18.313Z"
   },
   {
    "duration": 64,
    "start_time": "2022-02-13T19:19:18.342Z"
   },
   {
    "duration": 37,
    "start_time": "2022-02-13T19:19:18.409Z"
   },
   {
    "duration": 41,
    "start_time": "2022-02-13T19:19:18.449Z"
   },
   {
    "duration": 8,
    "start_time": "2022-02-13T19:19:18.493Z"
   },
   {
    "duration": 49,
    "start_time": "2022-02-13T19:19:18.504Z"
   },
   {
    "duration": 29,
    "start_time": "2022-02-13T19:19:18.556Z"
   },
   {
    "duration": 22,
    "start_time": "2022-02-13T19:19:18.588Z"
   },
   {
    "duration": 13,
    "start_time": "2022-02-13T19:19:18.613Z"
   },
   {
    "duration": 972,
    "start_time": "2022-02-13T19:19:18.629Z"
   },
   {
    "duration": 8,
    "start_time": "2022-02-13T19:19:19.610Z"
   },
   {
    "duration": 42,
    "start_time": "2022-02-13T19:19:19.621Z"
   },
   {
    "duration": 67,
    "start_time": "2022-02-13T19:19:19.667Z"
   },
   {
    "duration": 49,
    "start_time": "2022-02-13T19:19:19.737Z"
   },
   {
    "duration": 91,
    "start_time": "2022-02-13T19:19:19.789Z"
   },
   {
    "duration": 853,
    "start_time": "2022-02-13T19:19:19.882Z"
   },
   {
    "duration": 53,
    "start_time": "2022-02-13T19:19:20.737Z"
   },
   {
    "duration": 687,
    "start_time": "2022-02-13T19:19:20.792Z"
   },
   {
    "duration": 40,
    "start_time": "2022-02-13T19:19:21.483Z"
   },
   {
    "duration": 18,
    "start_time": "2022-02-13T19:19:21.525Z"
   },
   {
    "duration": 62,
    "start_time": "2022-02-13T19:19:21.545Z"
   },
   {
    "duration": 39,
    "start_time": "2022-02-13T19:19:21.610Z"
   },
   {
    "duration": 590,
    "start_time": "2022-02-13T19:19:21.651Z"
   },
   {
    "duration": 54,
    "start_time": "2022-02-13T19:19:22.244Z"
   },
   {
    "duration": 548,
    "start_time": "2022-02-13T19:19:22.301Z"
   },
   {
    "duration": 5,
    "start_time": "2022-02-13T19:19:22.860Z"
   },
   {
    "duration": 11,
    "start_time": "2022-02-13T19:19:22.868Z"
   },
   {
    "duration": 11,
    "start_time": "2022-02-13T19:19:22.882Z"
   },
   {
    "duration": 41,
    "start_time": "2022-02-13T19:19:22.895Z"
   },
   {
    "duration": 572,
    "start_time": "2022-02-13T19:19:22.939Z"
   },
   {
    "duration": 3,
    "start_time": "2022-02-13T19:19:23.513Z"
   },
   {
    "duration": 4,
    "start_time": "2022-02-13T19:19:23.519Z"
   },
   {
    "duration": 5,
    "start_time": "2022-02-13T19:19:23.525Z"
   },
   {
    "duration": 1079,
    "start_time": "2022-02-14T17:28:34.900Z"
   },
   {
    "duration": 57,
    "start_time": "2022-02-14T17:28:35.981Z"
   },
   {
    "duration": 10,
    "start_time": "2022-02-14T17:28:36.040Z"
   },
   {
    "duration": 30,
    "start_time": "2022-02-14T17:28:36.052Z"
   },
   {
    "duration": 10,
    "start_time": "2022-02-14T17:28:36.084Z"
   },
   {
    "duration": 24,
    "start_time": "2022-02-14T17:28:36.095Z"
   },
   {
    "duration": 4,
    "start_time": "2022-02-14T17:28:36.121Z"
   },
   {
    "duration": 11,
    "start_time": "2022-02-14T17:28:36.127Z"
   },
   {
    "duration": 32,
    "start_time": "2022-02-14T17:28:36.140Z"
   },
   {
    "duration": 14,
    "start_time": "2022-02-14T17:28:36.174Z"
   },
   {
    "duration": 13,
    "start_time": "2022-02-14T17:28:36.190Z"
   },
   {
    "duration": 19,
    "start_time": "2022-02-14T17:28:36.205Z"
   },
   {
    "duration": 49,
    "start_time": "2022-02-14T17:28:36.226Z"
   },
   {
    "duration": 4,
    "start_time": "2022-02-14T17:28:36.277Z"
   },
   {
    "duration": 8,
    "start_time": "2022-02-14T17:28:36.283Z"
   },
   {
    "duration": 7,
    "start_time": "2022-02-14T17:28:36.292Z"
   },
   {
    "duration": 7,
    "start_time": "2022-02-14T17:28:36.300Z"
   },
   {
    "duration": 1756,
    "start_time": "2022-02-14T17:28:36.309Z"
   },
   {
    "duration": 488,
    "start_time": "2022-02-14T17:28:38.066Z"
   },
   {
    "duration": 1305,
    "start_time": "2022-02-14T17:28:38.556Z"
   },
   {
    "duration": 12,
    "start_time": "2022-02-14T17:28:39.863Z"
   },
   {
    "duration": 13,
    "start_time": "2022-02-14T17:28:39.876Z"
   },
   {
    "duration": 12,
    "start_time": "2022-02-14T17:28:39.893Z"
   },
   {
    "duration": 22,
    "start_time": "2022-02-14T17:28:39.907Z"
   },
   {
    "duration": 5,
    "start_time": "2022-02-14T17:28:39.930Z"
   },
   {
    "duration": 38,
    "start_time": "2022-02-14T17:28:39.936Z"
   },
   {
    "duration": 12,
    "start_time": "2022-02-14T17:28:39.976Z"
   },
   {
    "duration": 6,
    "start_time": "2022-02-14T17:28:39.989Z"
   },
   {
    "duration": 5,
    "start_time": "2022-02-14T17:28:39.997Z"
   },
   {
    "duration": 15,
    "start_time": "2022-02-14T17:28:40.004Z"
   },
   {
    "duration": 3,
    "start_time": "2022-02-14T17:28:40.021Z"
   },
   {
    "duration": 9,
    "start_time": "2022-02-14T17:28:40.025Z"
   },
   {
    "duration": 415,
    "start_time": "2022-02-14T17:28:40.036Z"
   },
   {
    "duration": 7,
    "start_time": "2022-02-14T17:28:40.453Z"
   },
   {
    "duration": 18,
    "start_time": "2022-02-14T17:28:40.461Z"
   },
   {
    "duration": 20,
    "start_time": "2022-02-14T17:28:40.480Z"
   },
   {
    "duration": 7,
    "start_time": "2022-02-14T17:28:40.501Z"
   },
   {
    "duration": 26,
    "start_time": "2022-02-14T17:28:40.510Z"
   },
   {
    "duration": 14,
    "start_time": "2022-02-14T17:28:40.537Z"
   },
   {
    "duration": 340,
    "start_time": "2022-02-14T17:28:40.552Z"
   },
   {
    "duration": 1709,
    "start_time": "2022-02-14T17:28:40.894Z"
   },
   {
    "duration": 7,
    "start_time": "2022-02-14T17:28:42.604Z"
   },
   {
    "duration": 26,
    "start_time": "2022-02-14T17:28:42.613Z"
   },
   {
    "duration": 7,
    "start_time": "2022-02-14T17:28:42.641Z"
   },
   {
    "duration": 23,
    "start_time": "2022-02-14T17:28:42.649Z"
   },
   {
    "duration": 30,
    "start_time": "2022-02-14T17:28:42.674Z"
   },
   {
    "duration": 12,
    "start_time": "2022-02-14T17:28:42.706Z"
   },
   {
    "duration": 14,
    "start_time": "2022-02-14T17:28:42.720Z"
   },
   {
    "duration": 26,
    "start_time": "2022-02-14T17:28:42.735Z"
   },
   {
    "duration": 10,
    "start_time": "2022-02-14T17:28:42.762Z"
   },
   {
    "duration": 17,
    "start_time": "2022-02-14T17:28:42.774Z"
   },
   {
    "duration": 14,
    "start_time": "2022-02-14T17:28:42.793Z"
   },
   {
    "duration": 20,
    "start_time": "2022-02-14T17:28:42.808Z"
   },
   {
    "duration": 8,
    "start_time": "2022-02-14T17:28:42.830Z"
   },
   {
    "duration": 17,
    "start_time": "2022-02-14T17:28:42.840Z"
   },
   {
    "duration": 22,
    "start_time": "2022-02-14T17:28:42.859Z"
   },
   {
    "duration": 49,
    "start_time": "2022-02-14T17:28:42.883Z"
   },
   {
    "duration": 15,
    "start_time": "2022-02-14T17:28:42.934Z"
   },
   {
    "duration": 9,
    "start_time": "2022-02-14T17:28:42.951Z"
   },
   {
    "duration": 19,
    "start_time": "2022-02-14T17:28:42.961Z"
   },
   {
    "duration": 27,
    "start_time": "2022-02-14T17:28:42.981Z"
   },
   {
    "duration": 21,
    "start_time": "2022-02-14T17:28:43.010Z"
   },
   {
    "duration": 17,
    "start_time": "2022-02-14T17:28:43.033Z"
   },
   {
    "duration": 17,
    "start_time": "2022-02-14T17:28:43.051Z"
   },
   {
    "duration": 34,
    "start_time": "2022-02-14T17:28:43.070Z"
   },
   {
    "duration": 3,
    "start_time": "2022-02-14T17:28:43.106Z"
   },
   {
    "duration": 451,
    "start_time": "2022-02-14T17:28:43.110Z"
   },
   {
    "duration": 6,
    "start_time": "2022-02-14T17:28:43.566Z"
   },
   {
    "duration": 5,
    "start_time": "2022-02-14T17:28:43.574Z"
   },
   {
    "duration": 7,
    "start_time": "2022-02-14T17:28:43.580Z"
   },
   {
    "duration": 7,
    "start_time": "2022-02-14T17:28:43.588Z"
   },
   {
    "duration": 3,
    "start_time": "2022-02-14T17:28:43.596Z"
   },
   {
    "duration": 377,
    "start_time": "2022-02-14T17:28:43.600Z"
   },
   {
    "duration": 21,
    "start_time": "2022-02-14T17:28:43.979Z"
   },
   {
    "duration": 301,
    "start_time": "2022-02-14T17:28:44.001Z"
   },
   {
    "duration": 22,
    "start_time": "2022-02-14T17:28:44.304Z"
   },
   {
    "duration": 2,
    "start_time": "2022-02-14T17:28:44.328Z"
   },
   {
    "duration": 5,
    "start_time": "2022-02-14T17:28:44.332Z"
   },
   {
    "duration": 3,
    "start_time": "2022-02-14T17:28:44.339Z"
   },
   {
    "duration": 307,
    "start_time": "2022-02-14T17:28:44.344Z"
   },
   {
    "duration": 29,
    "start_time": "2022-02-14T17:28:44.653Z"
   },
   {
    "duration": 300,
    "start_time": "2022-02-14T17:28:44.684Z"
   },
   {
    "duration": 2,
    "start_time": "2022-02-14T17:28:44.986Z"
   },
   {
    "duration": 6,
    "start_time": "2022-02-14T17:28:44.990Z"
   },
   {
    "duration": 5,
    "start_time": "2022-02-14T17:28:44.997Z"
   },
   {
    "duration": 40,
    "start_time": "2022-02-14T17:28:45.003Z"
   },
   {
    "duration": 283,
    "start_time": "2022-02-14T17:28:45.045Z"
   },
   {
    "duration": 2,
    "start_time": "2022-02-14T17:28:45.329Z"
   },
   {
    "duration": 5,
    "start_time": "2022-02-14T17:28:45.332Z"
   },
   {
    "duration": 4,
    "start_time": "2022-02-14T17:28:45.338Z"
   }
  ],
  "kernelspec": {
   "display_name": "Python 3 (ipykernel)",
   "language": "python",
   "name": "python3"
  },
  "language_info": {
   "codemirror_mode": {
    "name": "ipython",
    "version": 3
   },
   "file_extension": ".py",
   "mimetype": "text/x-python",
   "name": "python",
   "nbconvert_exporter": "python",
   "pygments_lexer": "ipython3",
   "version": "3.9.12"
  },
  "toc": {
   "base_numbering": 1,
   "nav_menu": {},
   "number_sections": true,
   "sideBar": true,
   "skip_h1_title": true,
   "title_cell": "Содержание",
   "title_sidebar": "Содержание",
   "toc_cell": true,
   "toc_position": {
    "height": "calc(100% - 180px)",
    "left": "10px",
    "top": "150px",
    "width": "332.8px"
   },
   "toc_section_display": true,
   "toc_window_display": true
  }
 },
 "nbformat": 4,
 "nbformat_minor": 5
}
