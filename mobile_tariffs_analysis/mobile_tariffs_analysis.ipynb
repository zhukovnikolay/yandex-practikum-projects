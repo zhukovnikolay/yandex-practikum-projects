{
 "cells": [
  {
   "cell_type": "markdown",
   "metadata": {
    "toc": true
   },
   "source": [
    "<h1>Содержание<span class=\"tocSkip\"></span></h1>\n",
    "<div class=\"toc\"><ul class=\"toc-item\"><li><span><a href=\"#Изучение-данных\" data-toc-modified-id=\"Изучение-данных-1\"><span class=\"toc-item-num\">1&nbsp;&nbsp;</span>Изучение данных</a></span><ul class=\"toc-item\"><li><span><a href=\"#Описание-данных\" data-toc-modified-id=\"Описание-данных-1.1\"><span class=\"toc-item-num\">1.1&nbsp;&nbsp;</span>Описание данных</a></span></li><li><span><a href=\"#Изучение-данных-из-файла\" data-toc-modified-id=\"Изучение-данных-из-файла-1.2\"><span class=\"toc-item-num\">1.2&nbsp;&nbsp;</span>Изучение данных из файла</a></span><ul class=\"toc-item\"><li><span><a href=\"#Таблица-calls\" data-toc-modified-id=\"Таблица-calls-1.2.1\"><span class=\"toc-item-num\">1.2.1&nbsp;&nbsp;</span>Таблица calls</a></span></li><li><span><a href=\"#Таблица-internet\" data-toc-modified-id=\"Таблица-internet-1.2.2\"><span class=\"toc-item-num\">1.2.2&nbsp;&nbsp;</span>Таблица internet</a></span></li><li><span><a href=\"#Таблица-messages\" data-toc-modified-id=\"Таблица-messages-1.2.3\"><span class=\"toc-item-num\">1.2.3&nbsp;&nbsp;</span>Таблица messages</a></span></li><li><span><a href=\"#Таблица-tariffs\" data-toc-modified-id=\"Таблица-tariffs-1.2.4\"><span class=\"toc-item-num\">1.2.4&nbsp;&nbsp;</span>Таблица tariffs</a></span></li><li><span><a href=\"#Таблица-users\" data-toc-modified-id=\"Таблица-users-1.2.5\"><span class=\"toc-item-num\">1.2.5&nbsp;&nbsp;</span>Таблица users</a></span></li></ul></li><li><span><a href=\"#Вывод-по-разделу\" data-toc-modified-id=\"Вывод-по-разделу-1.3\"><span class=\"toc-item-num\">1.3&nbsp;&nbsp;</span>Вывод по разделу</a></span></li></ul></li><li><span><a href=\"#Предобработка-данных\" data-toc-modified-id=\"Предобработка-данных-2\"><span class=\"toc-item-num\">2&nbsp;&nbsp;</span>Предобработка данных</a></span><ul class=\"toc-item\"><li><span><a href=\"#Изменение-типов-данных\" data-toc-modified-id=\"Изменение-типов-данных-2.1\"><span class=\"toc-item-num\">2.1&nbsp;&nbsp;</span>Изменение типов данных</a></span></li><li><span><a href=\"#Поиск-дубликатов\" data-toc-modified-id=\"Поиск-дубликатов-2.2\"><span class=\"toc-item-num\">2.2&nbsp;&nbsp;</span>Поиск дубликатов</a></span></li><li><span><a href=\"#Заполнение-пропусков\" data-toc-modified-id=\"Заполнение-пропусков-2.3\"><span class=\"toc-item-num\">2.3&nbsp;&nbsp;</span>Заполнение пропусков</a></span></li><li><span><a href=\"#Исследование-аномалий-и-исправление-ошибок\" data-toc-modified-id=\"Исследование-аномалий-и-исправление-ошибок-2.4\"><span class=\"toc-item-num\">2.4&nbsp;&nbsp;</span>Исследование аномалий и исправление ошибок</a></span></li><li><span><a href=\"#Генерация-фичей\" data-toc-modified-id=\"Генерация-фичей-2.5\"><span class=\"toc-item-num\">2.5&nbsp;&nbsp;</span>Генерация фичей</a></span><ul class=\"toc-item\"><li><span><a href=\"#Данные-по-звонкам-(users_calls)\" data-toc-modified-id=\"Данные-по-звонкам-(users_calls)-2.5.1\"><span class=\"toc-item-num\">2.5.1&nbsp;&nbsp;</span>Данные по звонкам (users_calls)</a></span></li><li><span><a href=\"#Данные-по-сообщениям-(users_messages)\" data-toc-modified-id=\"Данные-по-сообщениям-(users_messages)-2.5.2\"><span class=\"toc-item-num\">2.5.2&nbsp;&nbsp;</span>Данные по сообщениям (users_messages)</a></span></li><li><span><a href=\"#Данные-по-интернет-сессиям-(users_internet)\" data-toc-modified-id=\"Данные-по-интернет-сессиям-(users_internet)-2.5.3\"><span class=\"toc-item-num\">2.5.3&nbsp;&nbsp;</span>Данные по интернет-сессиям (users_internet)</a></span></li><li><span><a href=\"#Расчет-выручки-с-пользователя\" data-toc-modified-id=\"Расчет-выручки-с-пользователя-2.5.4\"><span class=\"toc-item-num\">2.5.4&nbsp;&nbsp;</span>Расчет выручки с пользователя</a></span></li></ul></li><li><span><a href=\"#Вывод-по-разделу\" data-toc-modified-id=\"Вывод-по-разделу-2.6\"><span class=\"toc-item-num\">2.6&nbsp;&nbsp;</span>Вывод по разделу</a></span></li></ul></li><li><span><a href=\"#Анализ-данных\" data-toc-modified-id=\"Анализ-данных-3\"><span class=\"toc-item-num\">3&nbsp;&nbsp;</span>Анализ данных</a></span><ul class=\"toc-item\"><li><span><a href=\"#Общее-описание-данных\" data-toc-modified-id=\"Общее-описание-данных-3.1\"><span class=\"toc-item-num\">3.1&nbsp;&nbsp;</span>Общее описание данных</a></span></li><li><span><a href=\"#Анализ-кол-ва-использованных-минут-по-тарифам\" data-toc-modified-id=\"Анализ-кол-ва-использованных-минут-по-тарифам-3.2\"><span class=\"toc-item-num\">3.2&nbsp;&nbsp;</span>Анализ кол-ва использованных минут по тарифам</a></span></li><li><span><a href=\"#Анализ-кол-ва-использованных-сообщений-по-тарифам\" data-toc-modified-id=\"Анализ-кол-ва-использованных-сообщений-по-тарифам-3.3\"><span class=\"toc-item-num\">3.3&nbsp;&nbsp;</span>Анализ кол-ва использованных сообщений по тарифам</a></span></li><li><span><a href=\"#Анализ-кол-ва-использованного-трафика-по-тарифам\" data-toc-modified-id=\"Анализ-кол-ва-использованного-трафика-по-тарифам-3.4\"><span class=\"toc-item-num\">3.4&nbsp;&nbsp;</span>Анализ кол-ва использованного трафика по тарифам</a></span></li><li><span><a href=\"#Вывод-по-разделу\" data-toc-modified-id=\"Вывод-по-разделу-3.5\"><span class=\"toc-item-num\">3.5&nbsp;&nbsp;</span>Вывод по разделу</a></span></li></ul></li><li><span><a href=\"#Проверка-гипотез\" data-toc-modified-id=\"Проверка-гипотез-4\"><span class=\"toc-item-num\">4&nbsp;&nbsp;</span>Проверка гипотез</a></span><ul class=\"toc-item\"><li><span><a href=\"#Средняя-выручка-пользователей-тарифов-«Ультра»-и-«Смарт»-различаются\" data-toc-modified-id=\"Средняя-выручка-пользователей-тарифов-«Ультра»-и-«Смарт»-различаются-4.1\"><span class=\"toc-item-num\">4.1&nbsp;&nbsp;</span>Средняя выручка пользователей тарифов «Ультра» и «Смарт» различаются</a></span></li><li><span><a href=\"#Средняя-выручка-пользователей-из-Москвы-отличается-от-выручки-пользователей-из-других-регионов.\" data-toc-modified-id=\"Средняя-выручка-пользователей-из-Москвы-отличается-от-выручки-пользователей-из-других-регионов.-4.2\"><span class=\"toc-item-num\">4.2&nbsp;&nbsp;</span>Средняя выручка пользователей из Москвы отличается от выручки пользователей из других регионов.</a></span></li></ul></li><li><span><a href=\"#Общий-вывод\" data-toc-modified-id=\"Общий-вывод-5\"><span class=\"toc-item-num\">5&nbsp;&nbsp;</span>Общий вывод</a></span></li></ul></div>"
   ]
  },
  {
   "cell_type": "markdown",
   "metadata": {},
   "source": [
    "# Определение перспективного тарифа для телеком-компании"
   ]
  },
  {
   "cell_type": "markdown",
   "metadata": {},
   "source": [
    "## Изучение данных"
   ]
  },
  {
   "cell_type": "markdown",
   "metadata": {},
   "source": [
    "### Описание данных"
   ]
  },
  {
   "cell_type": "markdown",
   "metadata": {},
   "source": [
    "Таблица users (информация о пользователях):\n",
    "* user_id — уникальный идентификатор пользователя\n",
    "* first_name — имя пользователя\n",
    "* last_name — фамилия пользователя\n",
    "* age — возраст пользователя (годы)\n",
    "* reg_date — дата подключения тарифа (день, месяц, год)\n",
    "* churn_date — дата прекращения пользования тарифом (если значение пропущено, то тариф ещё действовал на момент выгрузки данных)\n",
    "* city — город проживания пользователя\n",
    "* tariff — название тарифного плана\n",
    "___\n",
    "Таблица calls (информация о звонках):\n",
    "* id — уникальный номер звонка\n",
    "* call_date — дата звонка\n",
    "* duration — длительность звонка в минутах\n",
    "* user_id — идентификатор пользователя, сделавшего звонок\n",
    "___\n",
    "Таблица messages (информация о сообщениях):\n",
    "* id — уникальный номер сообщения\n",
    "* message_date — дата сообщения\n",
    "* user_id — идентификатор пользователя, отправившего сообщение\n",
    "___\n",
    "Таблица internet (информация об интернет-сессиях):\n",
    "* id — уникальный номер сессии\n",
    "* mb_used — объём потраченного за сессию интернет-трафика (в мегабайтах)\n",
    "* session_date — дата интернет-сессии\n",
    "* user_id — идентификатор пользователя\n",
    "____\n",
    "Таблица tariffs (информация о тарифах):\n",
    "* tariff_name — название тарифа\n",
    "* rub_monthly_fee — ежемесячная абонентская плата в рублях\n",
    "* minutes_included — количество минут разговора в месяц, включённых в абонентскую плату\n",
    "* messages_included — количество сообщений в месяц, включённых в абонентскую плату\n",
    "* mb_per_month_included — объём интернет-трафика, включённого в абонентскую плату (в мегабайтах)\n",
    "* rub_per_minute — стоимость минуты разговора сверх тарифного пакета (например, если в тарифе 100 минут разговора в месяц, то со 101 минуты будет взиматься плата)\n",
    "* rub_per_message — стоимость отправки сообщения сверх тарифного пакета\n",
    "* rub_per_gb — стоимость дополнительного гигабайта интернет-трафика сверх тарифного пакета (1 гигабайт = 1024 мегабайта)"
   ]
  },
  {
   "cell_type": "markdown",
   "metadata": {},
   "source": [
    "### Изучение данных из файла"
   ]
  },
  {
   "cell_type": "code",
   "execution_count": 1,
   "metadata": {},
   "outputs": [],
   "source": [
    "# импортируем библиотеки\n",
    "import pandas as pd\n",
    "import numpy as np\n",
    "import seaborn as sns\n",
    "import matplotlib.pyplot as plt\n",
    "import scipy\n",
    "import warnings"
   ]
  },
  {
   "cell_type": "code",
   "execution_count": 2,
   "metadata": {},
   "outputs": [],
   "source": [
    "# убираем предупреждения\n",
    "warnings.filterwarnings(\"ignore\")"
   ]
  },
  {
   "cell_type": "code",
   "execution_count": 3,
   "metadata": {},
   "outputs": [],
   "source": [
    "# снимаем ограничение на вывод количества столбцов, чтобы видеть все данные\n",
    "pd.set_option('display.max_columns', None)"
   ]
  },
  {
   "cell_type": "code",
   "execution_count": 4,
   "metadata": {},
   "outputs": [],
   "source": [
    "# считываем данные\n",
    "calls = pd.read_csv('/datasets/calls.csv')\n",
    "internet = pd.read_csv('/datasets/internet.csv')\n",
    "messages = pd.read_csv('/datasets/messages.csv')\n",
    "tariffs = pd.read_csv('/datasets/tariffs.csv')\n",
    "users = pd.read_csv('/datasets/users.csv')"
   ]
  },
  {
   "cell_type": "markdown",
   "metadata": {},
   "source": [
    "Поскольку склеивание всех данных в одну таблицу не предполагается (предполагается расчет признаков из таблиц после попарного склеивания users-calls, users-internet и т.д.), проведем анализ данных во всех таблицах по отдельности."
   ]
  },
  {
   "cell_type": "markdown",
   "metadata": {},
   "source": [
    "#### Таблица calls"
   ]
  },
  {
   "cell_type": "code",
   "execution_count": 5,
   "metadata": {},
   "outputs": [],
   "source": [
    "# готовим функцию по быстрому анализу таблицы: \n",
    "# выводит info, describe, 5 случайных объектов (или всю таблицу если значений меньше)\n",
    "def check_table(data, info_flag=True, describe_flag=True, print_sample=True):\n",
    "    if info_flag:\n",
    "        display(data.info())\n",
    "        print(100 * '_')\n",
    "    if describe_flag:\n",
    "        print('Статистики числовых признаков')\n",
    "        display(data.describe(include=[np.number]).T)\n",
    "        print(100 * '_')\n",
    "        print('Статистики категориальных признаков')\n",
    "        display(data.describe(include=['O']).T)\n",
    "        print(100 * '_')\n",
    "    if print_sample:\n",
    "        if data.shape[0] >= 5:\n",
    "            print('Cлучайные объекты')\n",
    "            display(data.sample(5))  \n",
    "        else:\n",
    "            print('Вся таблица')\n",
    "            display(data)"
   ]
  },
  {
   "cell_type": "code",
   "execution_count": 6,
   "metadata": {},
   "outputs": [
    {
     "name": "stdout",
     "output_type": "stream",
     "text": [
      "<class 'pandas.core.frame.DataFrame'>\n",
      "RangeIndex: 202607 entries, 0 to 202606\n",
      "Data columns (total 4 columns):\n",
      " #   Column     Non-Null Count   Dtype  \n",
      "---  ------     --------------   -----  \n",
      " 0   id         202607 non-null  object \n",
      " 1   call_date  202607 non-null  object \n",
      " 2   duration   202607 non-null  float64\n",
      " 3   user_id    202607 non-null  int64  \n",
      "dtypes: float64(1), int64(1), object(2)\n",
      "memory usage: 6.2+ MB\n"
     ]
    },
    {
     "data": {
      "text/plain": [
       "None"
      ]
     },
     "metadata": {},
     "output_type": "display_data"
    },
    {
     "name": "stdout",
     "output_type": "stream",
     "text": [
      "____________________________________________________________________________________________________\n",
      "Статистики числовых признаков\n"
     ]
    },
    {
     "data": {
      "text/html": [
       "<div>\n",
       "<style scoped>\n",
       "    .dataframe tbody tr th:only-of-type {\n",
       "        vertical-align: middle;\n",
       "    }\n",
       "\n",
       "    .dataframe tbody tr th {\n",
       "        vertical-align: top;\n",
       "    }\n",
       "\n",
       "    .dataframe thead th {\n",
       "        text-align: right;\n",
       "    }\n",
       "</style>\n",
       "<table border=\"1\" class=\"dataframe\">\n",
       "  <thead>\n",
       "    <tr style=\"text-align: right;\">\n",
       "      <th></th>\n",
       "      <th>count</th>\n",
       "      <th>mean</th>\n",
       "      <th>std</th>\n",
       "      <th>min</th>\n",
       "      <th>25%</th>\n",
       "      <th>50%</th>\n",
       "      <th>75%</th>\n",
       "      <th>max</th>\n",
       "    </tr>\n",
       "  </thead>\n",
       "  <tbody>\n",
       "    <tr>\n",
       "      <th>duration</th>\n",
       "      <td>202607.0</td>\n",
       "      <td>6.755887</td>\n",
       "      <td>5.843365</td>\n",
       "      <td>0.0</td>\n",
       "      <td>1.3</td>\n",
       "      <td>6.0</td>\n",
       "      <td>10.7</td>\n",
       "      <td>38.0</td>\n",
       "    </tr>\n",
       "    <tr>\n",
       "      <th>user_id</th>\n",
       "      <td>202607.0</td>\n",
       "      <td>1253.940619</td>\n",
       "      <td>144.722751</td>\n",
       "      <td>1000.0</td>\n",
       "      <td>1126.0</td>\n",
       "      <td>1260.0</td>\n",
       "      <td>1379.0</td>\n",
       "      <td>1499.0</td>\n",
       "    </tr>\n",
       "  </tbody>\n",
       "</table>\n",
       "</div>"
      ],
      "text/plain": [
       "             count         mean         std     min     25%     50%     75%  \\\n",
       "duration  202607.0     6.755887    5.843365     0.0     1.3     6.0    10.7   \n",
       "user_id   202607.0  1253.940619  144.722751  1000.0  1126.0  1260.0  1379.0   \n",
       "\n",
       "             max  \n",
       "duration    38.0  \n",
       "user_id   1499.0  "
      ]
     },
     "metadata": {},
     "output_type": "display_data"
    },
    {
     "name": "stdout",
     "output_type": "stream",
     "text": [
      "____________________________________________________________________________________________________\n",
      "Статистики категориальных признаков\n"
     ]
    },
    {
     "data": {
      "text/html": [
       "<div>\n",
       "<style scoped>\n",
       "    .dataframe tbody tr th:only-of-type {\n",
       "        vertical-align: middle;\n",
       "    }\n",
       "\n",
       "    .dataframe tbody tr th {\n",
       "        vertical-align: top;\n",
       "    }\n",
       "\n",
       "    .dataframe thead th {\n",
       "        text-align: right;\n",
       "    }\n",
       "</style>\n",
       "<table border=\"1\" class=\"dataframe\">\n",
       "  <thead>\n",
       "    <tr style=\"text-align: right;\">\n",
       "      <th></th>\n",
       "      <th>count</th>\n",
       "      <th>unique</th>\n",
       "      <th>top</th>\n",
       "      <th>freq</th>\n",
       "    </tr>\n",
       "  </thead>\n",
       "  <tbody>\n",
       "    <tr>\n",
       "      <th>id</th>\n",
       "      <td>202607</td>\n",
       "      <td>202607</td>\n",
       "      <td>1189_647</td>\n",
       "      <td>1</td>\n",
       "    </tr>\n",
       "    <tr>\n",
       "      <th>call_date</th>\n",
       "      <td>202607</td>\n",
       "      <td>365</td>\n",
       "      <td>2018-12-31</td>\n",
       "      <td>1435</td>\n",
       "    </tr>\n",
       "  </tbody>\n",
       "</table>\n",
       "</div>"
      ],
      "text/plain": [
       "            count  unique         top  freq\n",
       "id         202607  202607    1189_647     1\n",
       "call_date  202607     365  2018-12-31  1435"
      ]
     },
     "metadata": {},
     "output_type": "display_data"
    },
    {
     "name": "stdout",
     "output_type": "stream",
     "text": [
      "____________________________________________________________________________________________________\n",
      "Cлучайные объекты\n"
     ]
    },
    {
     "data": {
      "text/html": [
       "<div>\n",
       "<style scoped>\n",
       "    .dataframe tbody tr th:only-of-type {\n",
       "        vertical-align: middle;\n",
       "    }\n",
       "\n",
       "    .dataframe tbody tr th {\n",
       "        vertical-align: top;\n",
       "    }\n",
       "\n",
       "    .dataframe thead th {\n",
       "        text-align: right;\n",
       "    }\n",
       "</style>\n",
       "<table border=\"1\" class=\"dataframe\">\n",
       "  <thead>\n",
       "    <tr style=\"text-align: right;\">\n",
       "      <th></th>\n",
       "      <th>id</th>\n",
       "      <th>call_date</th>\n",
       "      <th>duration</th>\n",
       "      <th>user_id</th>\n",
       "    </tr>\n",
       "  </thead>\n",
       "  <tbody>\n",
       "    <tr>\n",
       "      <th>168218</th>\n",
       "      <td>1414_338</td>\n",
       "      <td>2018-05-22</td>\n",
       "      <td>8.90</td>\n",
       "      <td>1414</td>\n",
       "    </tr>\n",
       "    <tr>\n",
       "      <th>96598</th>\n",
       "      <td>1246_85</td>\n",
       "      <td>2018-11-14</td>\n",
       "      <td>0.00</td>\n",
       "      <td>1246</td>\n",
       "    </tr>\n",
       "    <tr>\n",
       "      <th>325</th>\n",
       "      <td>1000_325</td>\n",
       "      <td>2018-09-17</td>\n",
       "      <td>9.39</td>\n",
       "      <td>1000</td>\n",
       "    </tr>\n",
       "    <tr>\n",
       "      <th>134544</th>\n",
       "      <td>1344_361</td>\n",
       "      <td>2018-10-20</td>\n",
       "      <td>0.00</td>\n",
       "      <td>1344</td>\n",
       "    </tr>\n",
       "    <tr>\n",
       "      <th>90076</th>\n",
       "      <td>1225_336</td>\n",
       "      <td>2018-07-10</td>\n",
       "      <td>5.48</td>\n",
       "      <td>1225</td>\n",
       "    </tr>\n",
       "  </tbody>\n",
       "</table>\n",
       "</div>"
      ],
      "text/plain": [
       "              id   call_date  duration  user_id\n",
       "168218  1414_338  2018-05-22      8.90     1414\n",
       "96598    1246_85  2018-11-14      0.00     1246\n",
       "325     1000_325  2018-09-17      9.39     1000\n",
       "134544  1344_361  2018-10-20      0.00     1344\n",
       "90076   1225_336  2018-07-10      5.48     1225"
      ]
     },
     "metadata": {},
     "output_type": "display_data"
    }
   ],
   "source": [
    "# смотрим общую информацию по таблице calls\n",
    "check_table(calls)"
   ]
  },
  {
   "cell_type": "markdown",
   "metadata": {},
   "source": [
    "В таблице calls 4 признака, 202607 записей, пропусков нет. \n",
    "\n",
    "Данные во всех признаках кажутся корректными:\n",
    "* id, user_id - уникальные коды звонка и пользователя.\n",
    "* сall_date - дата звонка (365 уникальных значений, по условию задачи данные за 2018 год, значение корректно).\n",
    "* duration - продолжительность звонка от 0 минут (пропущенные звонки) до 38 минут (значение даже кажется относительно небольшим, возможно выбросы уже обработаны - об этом свидетельствует и близость медианы со средним).\n",
    "\n",
    "В данной таблице необходимо поменять тип данных для call_date на datetime и округлить вверх (до минут) значения duration (изменив заодно тип данных на int). Сделаем это в разделе предобработки данных."
   ]
  },
  {
   "cell_type": "markdown",
   "metadata": {},
   "source": [
    "#### Таблица internet"
   ]
  },
  {
   "cell_type": "code",
   "execution_count": 7,
   "metadata": {},
   "outputs": [
    {
     "name": "stdout",
     "output_type": "stream",
     "text": [
      "<class 'pandas.core.frame.DataFrame'>\n",
      "RangeIndex: 149396 entries, 0 to 149395\n",
      "Data columns (total 5 columns):\n",
      " #   Column        Non-Null Count   Dtype  \n",
      "---  ------        --------------   -----  \n",
      " 0   Unnamed: 0    149396 non-null  int64  \n",
      " 1   id            149396 non-null  object \n",
      " 2   mb_used       149396 non-null  float64\n",
      " 3   session_date  149396 non-null  object \n",
      " 4   user_id       149396 non-null  int64  \n",
      "dtypes: float64(1), int64(2), object(2)\n",
      "memory usage: 5.7+ MB\n"
     ]
    },
    {
     "data": {
      "text/plain": [
       "None"
      ]
     },
     "metadata": {},
     "output_type": "display_data"
    },
    {
     "name": "stdout",
     "output_type": "stream",
     "text": [
      "____________________________________________________________________________________________________\n",
      "Статистики числовых признаков\n"
     ]
    },
    {
     "data": {
      "text/html": [
       "<div>\n",
       "<style scoped>\n",
       "    .dataframe tbody tr th:only-of-type {\n",
       "        vertical-align: middle;\n",
       "    }\n",
       "\n",
       "    .dataframe tbody tr th {\n",
       "        vertical-align: top;\n",
       "    }\n",
       "\n",
       "    .dataframe thead th {\n",
       "        text-align: right;\n",
       "    }\n",
       "</style>\n",
       "<table border=\"1\" class=\"dataframe\">\n",
       "  <thead>\n",
       "    <tr style=\"text-align: right;\">\n",
       "      <th></th>\n",
       "      <th>count</th>\n",
       "      <th>mean</th>\n",
       "      <th>std</th>\n",
       "      <th>min</th>\n",
       "      <th>25%</th>\n",
       "      <th>50%</th>\n",
       "      <th>75%</th>\n",
       "      <th>max</th>\n",
       "    </tr>\n",
       "  </thead>\n",
       "  <tbody>\n",
       "    <tr>\n",
       "      <th>Unnamed: 0</th>\n",
       "      <td>149396.0</td>\n",
       "      <td>74697.500000</td>\n",
       "      <td>43127.054745</td>\n",
       "      <td>0.0</td>\n",
       "      <td>37348.7500</td>\n",
       "      <td>74697.500</td>\n",
       "      <td>112046.2500</td>\n",
       "      <td>149395.00</td>\n",
       "    </tr>\n",
       "    <tr>\n",
       "      <th>mb_used</th>\n",
       "      <td>149396.0</td>\n",
       "      <td>370.192426</td>\n",
       "      <td>278.300951</td>\n",
       "      <td>0.0</td>\n",
       "      <td>138.1875</td>\n",
       "      <td>348.015</td>\n",
       "      <td>559.5525</td>\n",
       "      <td>1724.83</td>\n",
       "    </tr>\n",
       "    <tr>\n",
       "      <th>user_id</th>\n",
       "      <td>149396.0</td>\n",
       "      <td>1252.099842</td>\n",
       "      <td>144.050823</td>\n",
       "      <td>1000.0</td>\n",
       "      <td>1130.0000</td>\n",
       "      <td>1251.000</td>\n",
       "      <td>1380.0000</td>\n",
       "      <td>1499.00</td>\n",
       "    </tr>\n",
       "  </tbody>\n",
       "</table>\n",
       "</div>"
      ],
      "text/plain": [
       "               count          mean           std     min         25%  \\\n",
       "Unnamed: 0  149396.0  74697.500000  43127.054745     0.0  37348.7500   \n",
       "mb_used     149396.0    370.192426    278.300951     0.0    138.1875   \n",
       "user_id     149396.0   1252.099842    144.050823  1000.0   1130.0000   \n",
       "\n",
       "                  50%          75%        max  \n",
       "Unnamed: 0  74697.500  112046.2500  149395.00  \n",
       "mb_used       348.015     559.5525    1724.83  \n",
       "user_id      1251.000    1380.0000    1499.00  "
      ]
     },
     "metadata": {},
     "output_type": "display_data"
    },
    {
     "name": "stdout",
     "output_type": "stream",
     "text": [
      "____________________________________________________________________________________________________\n",
      "Статистики категориальных признаков\n"
     ]
    },
    {
     "data": {
      "text/html": [
       "<div>\n",
       "<style scoped>\n",
       "    .dataframe tbody tr th:only-of-type {\n",
       "        vertical-align: middle;\n",
       "    }\n",
       "\n",
       "    .dataframe tbody tr th {\n",
       "        vertical-align: top;\n",
       "    }\n",
       "\n",
       "    .dataframe thead th {\n",
       "        text-align: right;\n",
       "    }\n",
       "</style>\n",
       "<table border=\"1\" class=\"dataframe\">\n",
       "  <thead>\n",
       "    <tr style=\"text-align: right;\">\n",
       "      <th></th>\n",
       "      <th>count</th>\n",
       "      <th>unique</th>\n",
       "      <th>top</th>\n",
       "      <th>freq</th>\n",
       "    </tr>\n",
       "  </thead>\n",
       "  <tbody>\n",
       "    <tr>\n",
       "      <th>id</th>\n",
       "      <td>149396</td>\n",
       "      <td>149396</td>\n",
       "      <td>1436_125</td>\n",
       "      <td>1</td>\n",
       "    </tr>\n",
       "    <tr>\n",
       "      <th>session_date</th>\n",
       "      <td>149396</td>\n",
       "      <td>365</td>\n",
       "      <td>2018-12-31</td>\n",
       "      <td>1057</td>\n",
       "    </tr>\n",
       "  </tbody>\n",
       "</table>\n",
       "</div>"
      ],
      "text/plain": [
       "               count  unique         top  freq\n",
       "id            149396  149396    1436_125     1\n",
       "session_date  149396     365  2018-12-31  1057"
      ]
     },
     "metadata": {},
     "output_type": "display_data"
    },
    {
     "name": "stdout",
     "output_type": "stream",
     "text": [
      "____________________________________________________________________________________________________\n",
      "Cлучайные объекты\n"
     ]
    },
    {
     "data": {
      "text/html": [
       "<div>\n",
       "<style scoped>\n",
       "    .dataframe tbody tr th:only-of-type {\n",
       "        vertical-align: middle;\n",
       "    }\n",
       "\n",
       "    .dataframe tbody tr th {\n",
       "        vertical-align: top;\n",
       "    }\n",
       "\n",
       "    .dataframe thead th {\n",
       "        text-align: right;\n",
       "    }\n",
       "</style>\n",
       "<table border=\"1\" class=\"dataframe\">\n",
       "  <thead>\n",
       "    <tr style=\"text-align: right;\">\n",
       "      <th></th>\n",
       "      <th>Unnamed: 0</th>\n",
       "      <th>id</th>\n",
       "      <th>mb_used</th>\n",
       "      <th>session_date</th>\n",
       "      <th>user_id</th>\n",
       "    </tr>\n",
       "  </thead>\n",
       "  <tbody>\n",
       "    <tr>\n",
       "      <th>94448</th>\n",
       "      <td>94448</td>\n",
       "      <td>1319_148</td>\n",
       "      <td>245.90</td>\n",
       "      <td>2018-12-05</td>\n",
       "      <td>1319</td>\n",
       "    </tr>\n",
       "    <tr>\n",
       "      <th>84022</th>\n",
       "      <td>84022</td>\n",
       "      <td>1284_376</td>\n",
       "      <td>323.44</td>\n",
       "      <td>2018-04-29</td>\n",
       "      <td>1284</td>\n",
       "    </tr>\n",
       "    <tr>\n",
       "      <th>29806</th>\n",
       "      <td>29806</td>\n",
       "      <td>1104_223</td>\n",
       "      <td>0.00</td>\n",
       "      <td>2018-03-26</td>\n",
       "      <td>1104</td>\n",
       "    </tr>\n",
       "    <tr>\n",
       "      <th>96903</th>\n",
       "      <td>96903</td>\n",
       "      <td>1326_266</td>\n",
       "      <td>267.61</td>\n",
       "      <td>2018-12-17</td>\n",
       "      <td>1326</td>\n",
       "    </tr>\n",
       "    <tr>\n",
       "      <th>13223</th>\n",
       "      <td>13223</td>\n",
       "      <td>1045_399</td>\n",
       "      <td>453.75</td>\n",
       "      <td>2018-04-18</td>\n",
       "      <td>1045</td>\n",
       "    </tr>\n",
       "  </tbody>\n",
       "</table>\n",
       "</div>"
      ],
      "text/plain": [
       "       Unnamed: 0        id  mb_used session_date  user_id\n",
       "94448       94448  1319_148   245.90   2018-12-05     1319\n",
       "84022       84022  1284_376   323.44   2018-04-29     1284\n",
       "29806       29806  1104_223     0.00   2018-03-26     1104\n",
       "96903       96903  1326_266   267.61   2018-12-17     1326\n",
       "13223       13223  1045_399   453.75   2018-04-18     1045"
      ]
     },
     "metadata": {},
     "output_type": "display_data"
    }
   ],
   "source": [
    "check_table(internet)"
   ]
  },
  {
   "cell_type": "markdown",
   "metadata": {},
   "source": [
    "В таблице internet 4 признака (один - дубликат индекса, не считаем, его удалим), 149396 записей, пропусков нет.\n",
    "\n",
    "Данные во всех признаках кажутся корректными: \n",
    "* id, user_id - уникальные коды сессии и пользователя. \n",
    "* session_date - дата сессии (365 уникальных значений, по условию задачи данные за 2018 год, значение корректно). \n",
    "* mb_used - объем трафика со значениями от 0 до 1724 мегабайт. Возможно значение 0 может быть некорректным (если только сессии не округляются в меньшую сторону, т.к. любой выход в сеть ведет хотя бы к небольшим затратам трафика для установки соединения).\n",
    "\n",
    "На первый взгляд единственное, что требуется сделать в данной таблице - поменять тип данных для session_date на datetime. Сделаем это в разделе предобработки данных."
   ]
  },
  {
   "cell_type": "code",
   "execution_count": 8,
   "metadata": {},
   "outputs": [
    {
     "name": "stdout",
     "output_type": "stream",
     "text": [
      "<class 'pandas.core.frame.DataFrame'>\n",
      "RangeIndex: 149396 entries, 0 to 149395\n",
      "Data columns (total 4 columns):\n",
      " #   Column        Non-Null Count   Dtype  \n",
      "---  ------        --------------   -----  \n",
      " 0   id            149396 non-null  object \n",
      " 1   mb_used       149396 non-null  float64\n",
      " 2   session_date  149396 non-null  object \n",
      " 3   user_id       149396 non-null  int64  \n",
      "dtypes: float64(1), int64(1), object(2)\n",
      "memory usage: 4.6+ MB\n"
     ]
    }
   ],
   "source": [
    "# удаляем столбец Unnamed: 0\n",
    "internet.drop(columns=['Unnamed: 0'], inplace=True)\n",
    "internet.info()"
   ]
  },
  {
   "cell_type": "markdown",
   "metadata": {},
   "source": [
    "Столбец удален."
   ]
  },
  {
   "cell_type": "markdown",
   "metadata": {},
   "source": [
    "#### Таблица messages"
   ]
  },
  {
   "cell_type": "code",
   "execution_count": 9,
   "metadata": {},
   "outputs": [
    {
     "name": "stdout",
     "output_type": "stream",
     "text": [
      "<class 'pandas.core.frame.DataFrame'>\n",
      "RangeIndex: 123036 entries, 0 to 123035\n",
      "Data columns (total 3 columns):\n",
      " #   Column        Non-Null Count   Dtype \n",
      "---  ------        --------------   ----- \n",
      " 0   id            123036 non-null  object\n",
      " 1   message_date  123036 non-null  object\n",
      " 2   user_id       123036 non-null  int64 \n",
      "dtypes: int64(1), object(2)\n",
      "memory usage: 2.8+ MB\n"
     ]
    },
    {
     "data": {
      "text/plain": [
       "None"
      ]
     },
     "metadata": {},
     "output_type": "display_data"
    },
    {
     "name": "stdout",
     "output_type": "stream",
     "text": [
      "____________________________________________________________________________________________________\n",
      "Статистики числовых признаков\n"
     ]
    },
    {
     "data": {
      "text/html": [
       "<div>\n",
       "<style scoped>\n",
       "    .dataframe tbody tr th:only-of-type {\n",
       "        vertical-align: middle;\n",
       "    }\n",
       "\n",
       "    .dataframe tbody tr th {\n",
       "        vertical-align: top;\n",
       "    }\n",
       "\n",
       "    .dataframe thead th {\n",
       "        text-align: right;\n",
       "    }\n",
       "</style>\n",
       "<table border=\"1\" class=\"dataframe\">\n",
       "  <thead>\n",
       "    <tr style=\"text-align: right;\">\n",
       "      <th></th>\n",
       "      <th>count</th>\n",
       "      <th>mean</th>\n",
       "      <th>std</th>\n",
       "      <th>min</th>\n",
       "      <th>25%</th>\n",
       "      <th>50%</th>\n",
       "      <th>75%</th>\n",
       "      <th>max</th>\n",
       "    </tr>\n",
       "  </thead>\n",
       "  <tbody>\n",
       "    <tr>\n",
       "      <th>user_id</th>\n",
       "      <td>123036.0</td>\n",
       "      <td>1256.98941</td>\n",
       "      <td>143.523967</td>\n",
       "      <td>1000.0</td>\n",
       "      <td>1134.0</td>\n",
       "      <td>1271.0</td>\n",
       "      <td>1381.0</td>\n",
       "      <td>1499.0</td>\n",
       "    </tr>\n",
       "  </tbody>\n",
       "</table>\n",
       "</div>"
      ],
      "text/plain": [
       "            count        mean         std     min     25%     50%     75%  \\\n",
       "user_id  123036.0  1256.98941  143.523967  1000.0  1134.0  1271.0  1381.0   \n",
       "\n",
       "            max  \n",
       "user_id  1499.0  "
      ]
     },
     "metadata": {},
     "output_type": "display_data"
    },
    {
     "name": "stdout",
     "output_type": "stream",
     "text": [
      "____________________________________________________________________________________________________\n",
      "Статистики категориальных признаков\n"
     ]
    },
    {
     "data": {
      "text/html": [
       "<div>\n",
       "<style scoped>\n",
       "    .dataframe tbody tr th:only-of-type {\n",
       "        vertical-align: middle;\n",
       "    }\n",
       "\n",
       "    .dataframe tbody tr th {\n",
       "        vertical-align: top;\n",
       "    }\n",
       "\n",
       "    .dataframe thead th {\n",
       "        text-align: right;\n",
       "    }\n",
       "</style>\n",
       "<table border=\"1\" class=\"dataframe\">\n",
       "  <thead>\n",
       "    <tr style=\"text-align: right;\">\n",
       "      <th></th>\n",
       "      <th>count</th>\n",
       "      <th>unique</th>\n",
       "      <th>top</th>\n",
       "      <th>freq</th>\n",
       "    </tr>\n",
       "  </thead>\n",
       "  <tbody>\n",
       "    <tr>\n",
       "      <th>id</th>\n",
       "      <td>123036</td>\n",
       "      <td>123036</td>\n",
       "      <td>1436_125</td>\n",
       "      <td>1</td>\n",
       "    </tr>\n",
       "    <tr>\n",
       "      <th>message_date</th>\n",
       "      <td>123036</td>\n",
       "      <td>364</td>\n",
       "      <td>2018-12-31</td>\n",
       "      <td>859</td>\n",
       "    </tr>\n",
       "  </tbody>\n",
       "</table>\n",
       "</div>"
      ],
      "text/plain": [
       "               count  unique         top freq\n",
       "id            123036  123036    1436_125    1\n",
       "message_date  123036     364  2018-12-31  859"
      ]
     },
     "metadata": {},
     "output_type": "display_data"
    },
    {
     "name": "stdout",
     "output_type": "stream",
     "text": [
      "____________________________________________________________________________________________________\n",
      "Cлучайные объекты\n"
     ]
    },
    {
     "data": {
      "text/html": [
       "<div>\n",
       "<style scoped>\n",
       "    .dataframe tbody tr th:only-of-type {\n",
       "        vertical-align: middle;\n",
       "    }\n",
       "\n",
       "    .dataframe tbody tr th {\n",
       "        vertical-align: top;\n",
       "    }\n",
       "\n",
       "    .dataframe thead th {\n",
       "        text-align: right;\n",
       "    }\n",
       "</style>\n",
       "<table border=\"1\" class=\"dataframe\">\n",
       "  <thead>\n",
       "    <tr style=\"text-align: right;\">\n",
       "      <th></th>\n",
       "      <th>id</th>\n",
       "      <th>message_date</th>\n",
       "      <th>user_id</th>\n",
       "    </tr>\n",
       "  </thead>\n",
       "  <tbody>\n",
       "    <tr>\n",
       "      <th>93096</th>\n",
       "      <td>1382_557</td>\n",
       "      <td>2018-11-21</td>\n",
       "      <td>1382</td>\n",
       "    </tr>\n",
       "    <tr>\n",
       "      <th>67071</th>\n",
       "      <td>1285_259</td>\n",
       "      <td>2018-04-18</td>\n",
       "      <td>1285</td>\n",
       "    </tr>\n",
       "    <tr>\n",
       "      <th>47147</th>\n",
       "      <td>1209_81</td>\n",
       "      <td>2018-11-16</td>\n",
       "      <td>1209</td>\n",
       "    </tr>\n",
       "    <tr>\n",
       "      <th>33417</th>\n",
       "      <td>1146_215</td>\n",
       "      <td>2018-07-14</td>\n",
       "      <td>1146</td>\n",
       "    </tr>\n",
       "    <tr>\n",
       "      <th>114021</th>\n",
       "      <td>1464_155</td>\n",
       "      <td>2018-08-18</td>\n",
       "      <td>1464</td>\n",
       "    </tr>\n",
       "  </tbody>\n",
       "</table>\n",
       "</div>"
      ],
      "text/plain": [
       "              id message_date  user_id\n",
       "93096   1382_557   2018-11-21     1382\n",
       "67071   1285_259   2018-04-18     1285\n",
       "47147    1209_81   2018-11-16     1209\n",
       "33417   1146_215   2018-07-14     1146\n",
       "114021  1464_155   2018-08-18     1464"
      ]
     },
     "metadata": {},
     "output_type": "display_data"
    }
   ],
   "source": [
    "check_table(messages)"
   ]
  },
  {
   "cell_type": "markdown",
   "metadata": {},
   "source": [
    "В таблице messages 3 признака, 123036 записей, пропусков нет.\n",
    "\n",
    "Данные во всех признаках кажутся корректными:\n",
    "\n",
    "id, user_id - уникальные коды сессии и пользователя.\n",
    "message_date - дата отправки сообщения (интересно, что число значений тут всего 364 - в один из дней сообщения не отправлялись).\n",
    "\n",
    "На первый взгляд единственное, что требуется сделать в данной таблице - поменять тип данных для message_date на datetime. Сделаем это в разделе предобработки данных."
   ]
  },
  {
   "cell_type": "markdown",
   "metadata": {},
   "source": [
    "#### Таблица tariffs"
   ]
  },
  {
   "cell_type": "code",
   "execution_count": 10,
   "metadata": {},
   "outputs": [
    {
     "name": "stdout",
     "output_type": "stream",
     "text": [
      "<class 'pandas.core.frame.DataFrame'>\n",
      "RangeIndex: 2 entries, 0 to 1\n",
      "Data columns (total 8 columns):\n",
      " #   Column                 Non-Null Count  Dtype \n",
      "---  ------                 --------------  ----- \n",
      " 0   messages_included      2 non-null      int64 \n",
      " 1   mb_per_month_included  2 non-null      int64 \n",
      " 2   minutes_included       2 non-null      int64 \n",
      " 3   rub_monthly_fee        2 non-null      int64 \n",
      " 4   rub_per_gb             2 non-null      int64 \n",
      " 5   rub_per_message        2 non-null      int64 \n",
      " 6   rub_per_minute         2 non-null      int64 \n",
      " 7   tariff_name            2 non-null      object\n",
      "dtypes: int64(7), object(1)\n",
      "memory usage: 256.0+ bytes\n"
     ]
    },
    {
     "data": {
      "text/plain": [
       "None"
      ]
     },
     "metadata": {},
     "output_type": "display_data"
    },
    {
     "name": "stdout",
     "output_type": "stream",
     "text": [
      "____________________________________________________________________________________________________\n",
      "Вся таблица\n"
     ]
    },
    {
     "data": {
      "text/html": [
       "<div>\n",
       "<style scoped>\n",
       "    .dataframe tbody tr th:only-of-type {\n",
       "        vertical-align: middle;\n",
       "    }\n",
       "\n",
       "    .dataframe tbody tr th {\n",
       "        vertical-align: top;\n",
       "    }\n",
       "\n",
       "    .dataframe thead th {\n",
       "        text-align: right;\n",
       "    }\n",
       "</style>\n",
       "<table border=\"1\" class=\"dataframe\">\n",
       "  <thead>\n",
       "    <tr style=\"text-align: right;\">\n",
       "      <th></th>\n",
       "      <th>messages_included</th>\n",
       "      <th>mb_per_month_included</th>\n",
       "      <th>minutes_included</th>\n",
       "      <th>rub_monthly_fee</th>\n",
       "      <th>rub_per_gb</th>\n",
       "      <th>rub_per_message</th>\n",
       "      <th>rub_per_minute</th>\n",
       "      <th>tariff_name</th>\n",
       "    </tr>\n",
       "  </thead>\n",
       "  <tbody>\n",
       "    <tr>\n",
       "      <th>0</th>\n",
       "      <td>50</td>\n",
       "      <td>15360</td>\n",
       "      <td>500</td>\n",
       "      <td>550</td>\n",
       "      <td>200</td>\n",
       "      <td>3</td>\n",
       "      <td>3</td>\n",
       "      <td>smart</td>\n",
       "    </tr>\n",
       "    <tr>\n",
       "      <th>1</th>\n",
       "      <td>1000</td>\n",
       "      <td>30720</td>\n",
       "      <td>3000</td>\n",
       "      <td>1950</td>\n",
       "      <td>150</td>\n",
       "      <td>1</td>\n",
       "      <td>1</td>\n",
       "      <td>ultra</td>\n",
       "    </tr>\n",
       "  </tbody>\n",
       "</table>\n",
       "</div>"
      ],
      "text/plain": [
       "   messages_included  mb_per_month_included  minutes_included  \\\n",
       "0                 50                  15360               500   \n",
       "1               1000                  30720              3000   \n",
       "\n",
       "   rub_monthly_fee  rub_per_gb  rub_per_message  rub_per_minute tariff_name  \n",
       "0              550         200                3               3       smart  \n",
       "1             1950         150                1               1       ultra  "
      ]
     },
     "metadata": {},
     "output_type": "display_data"
    }
   ],
   "source": [
    "check_table(tariffs, describe_flag=False)"
   ]
  },
  {
   "cell_type": "markdown",
   "metadata": {},
   "source": [
    "В таблице tariffs 2 записи, 8 признаков, пропусков нет.\n",
    "\n",
    "Данные соответствуют условиям задания:\n",
    "___\n",
    "Тариф «Смарт»\n",
    "- Ежемесячная плата: 550 рублей\n",
    "- Включено 500 минут разговора, 50 сообщений и 15 Гб интернет-трафика\n",
    "- Стоимость услуг сверх тарифного пакета: минута разговора: 3 рубля, сообщение: 3 рубля, 1 Гб интернет-трафика: 200 рублей\n",
    "___\n",
    "Тариф «Ультра»\n",
    "- Ежемесячная плата: 1950 рублей\n",
    "- Включено 3000 минут разговора, 1000 сообщений и 30 Гб интернет-трафика\n",
    "- Стоимость услуг сверх тарифного пакета: минута разговора: 1 рубль, сообщение: 1 рубль, 1 Гб интернет-трафика: 150 рублей\n",
    "___\n",
    "Типы данных корректны, с данными ничего делать не нужно."
   ]
  },
  {
   "cell_type": "markdown",
   "metadata": {},
   "source": [
    "#### Таблица users"
   ]
  },
  {
   "cell_type": "code",
   "execution_count": 11,
   "metadata": {},
   "outputs": [
    {
     "name": "stdout",
     "output_type": "stream",
     "text": [
      "<class 'pandas.core.frame.DataFrame'>\n",
      "RangeIndex: 500 entries, 0 to 499\n",
      "Data columns (total 8 columns):\n",
      " #   Column      Non-Null Count  Dtype \n",
      "---  ------      --------------  ----- \n",
      " 0   user_id     500 non-null    int64 \n",
      " 1   age         500 non-null    int64 \n",
      " 2   churn_date  38 non-null     object\n",
      " 3   city        500 non-null    object\n",
      " 4   first_name  500 non-null    object\n",
      " 5   last_name   500 non-null    object\n",
      " 6   reg_date    500 non-null    object\n",
      " 7   tariff      500 non-null    object\n",
      "dtypes: int64(2), object(6)\n",
      "memory usage: 31.4+ KB\n"
     ]
    },
    {
     "data": {
      "text/plain": [
       "None"
      ]
     },
     "metadata": {},
     "output_type": "display_data"
    },
    {
     "name": "stdout",
     "output_type": "stream",
     "text": [
      "____________________________________________________________________________________________________\n",
      "Статистики числовых признаков\n"
     ]
    },
    {
     "data": {
      "text/html": [
       "<div>\n",
       "<style scoped>\n",
       "    .dataframe tbody tr th:only-of-type {\n",
       "        vertical-align: middle;\n",
       "    }\n",
       "\n",
       "    .dataframe tbody tr th {\n",
       "        vertical-align: top;\n",
       "    }\n",
       "\n",
       "    .dataframe thead th {\n",
       "        text-align: right;\n",
       "    }\n",
       "</style>\n",
       "<table border=\"1\" class=\"dataframe\">\n",
       "  <thead>\n",
       "    <tr style=\"text-align: right;\">\n",
       "      <th></th>\n",
       "      <th>count</th>\n",
       "      <th>mean</th>\n",
       "      <th>std</th>\n",
       "      <th>min</th>\n",
       "      <th>25%</th>\n",
       "      <th>50%</th>\n",
       "      <th>75%</th>\n",
       "      <th>max</th>\n",
       "    </tr>\n",
       "  </thead>\n",
       "  <tbody>\n",
       "    <tr>\n",
       "      <th>user_id</th>\n",
       "      <td>500.0</td>\n",
       "      <td>1249.500</td>\n",
       "      <td>144.481833</td>\n",
       "      <td>1000.0</td>\n",
       "      <td>1124.75</td>\n",
       "      <td>1249.5</td>\n",
       "      <td>1374.25</td>\n",
       "      <td>1499.0</td>\n",
       "    </tr>\n",
       "    <tr>\n",
       "      <th>age</th>\n",
       "      <td>500.0</td>\n",
       "      <td>46.588</td>\n",
       "      <td>16.667630</td>\n",
       "      <td>18.0</td>\n",
       "      <td>32.00</td>\n",
       "      <td>46.0</td>\n",
       "      <td>62.00</td>\n",
       "      <td>75.0</td>\n",
       "    </tr>\n",
       "  </tbody>\n",
       "</table>\n",
       "</div>"
      ],
      "text/plain": [
       "         count      mean         std     min      25%     50%      75%     max\n",
       "user_id  500.0  1249.500  144.481833  1000.0  1124.75  1249.5  1374.25  1499.0\n",
       "age      500.0    46.588   16.667630    18.0    32.00    46.0    62.00    75.0"
      ]
     },
     "metadata": {},
     "output_type": "display_data"
    },
    {
     "name": "stdout",
     "output_type": "stream",
     "text": [
      "____________________________________________________________________________________________________\n",
      "Статистики категориальных признаков\n"
     ]
    },
    {
     "data": {
      "text/html": [
       "<div>\n",
       "<style scoped>\n",
       "    .dataframe tbody tr th:only-of-type {\n",
       "        vertical-align: middle;\n",
       "    }\n",
       "\n",
       "    .dataframe tbody tr th {\n",
       "        vertical-align: top;\n",
       "    }\n",
       "\n",
       "    .dataframe thead th {\n",
       "        text-align: right;\n",
       "    }\n",
       "</style>\n",
       "<table border=\"1\" class=\"dataframe\">\n",
       "  <thead>\n",
       "    <tr style=\"text-align: right;\">\n",
       "      <th></th>\n",
       "      <th>count</th>\n",
       "      <th>unique</th>\n",
       "      <th>top</th>\n",
       "      <th>freq</th>\n",
       "    </tr>\n",
       "  </thead>\n",
       "  <tbody>\n",
       "    <tr>\n",
       "      <th>churn_date</th>\n",
       "      <td>38</td>\n",
       "      <td>33</td>\n",
       "      <td>2018-12-09</td>\n",
       "      <td>2</td>\n",
       "    </tr>\n",
       "    <tr>\n",
       "      <th>city</th>\n",
       "      <td>500</td>\n",
       "      <td>76</td>\n",
       "      <td>Москва</td>\n",
       "      <td>99</td>\n",
       "    </tr>\n",
       "    <tr>\n",
       "      <th>first_name</th>\n",
       "      <td>500</td>\n",
       "      <td>246</td>\n",
       "      <td>Радим</td>\n",
       "      <td>6</td>\n",
       "    </tr>\n",
       "    <tr>\n",
       "      <th>last_name</th>\n",
       "      <td>500</td>\n",
       "      <td>419</td>\n",
       "      <td>Андреенко</td>\n",
       "      <td>5</td>\n",
       "    </tr>\n",
       "    <tr>\n",
       "      <th>reg_date</th>\n",
       "      <td>500</td>\n",
       "      <td>270</td>\n",
       "      <td>2018-05-28</td>\n",
       "      <td>8</td>\n",
       "    </tr>\n",
       "    <tr>\n",
       "      <th>tariff</th>\n",
       "      <td>500</td>\n",
       "      <td>2</td>\n",
       "      <td>smart</td>\n",
       "      <td>351</td>\n",
       "    </tr>\n",
       "  </tbody>\n",
       "</table>\n",
       "</div>"
      ],
      "text/plain": [
       "           count unique         top freq\n",
       "churn_date    38     33  2018-12-09    2\n",
       "city         500     76      Москва   99\n",
       "first_name   500    246       Радим    6\n",
       "last_name    500    419   Андреенко    5\n",
       "reg_date     500    270  2018-05-28    8\n",
       "tariff       500      2       smart  351"
      ]
     },
     "metadata": {},
     "output_type": "display_data"
    },
    {
     "name": "stdout",
     "output_type": "stream",
     "text": [
      "____________________________________________________________________________________________________\n",
      "Cлучайные объекты\n"
     ]
    },
    {
     "data": {
      "text/html": [
       "<div>\n",
       "<style scoped>\n",
       "    .dataframe tbody tr th:only-of-type {\n",
       "        vertical-align: middle;\n",
       "    }\n",
       "\n",
       "    .dataframe tbody tr th {\n",
       "        vertical-align: top;\n",
       "    }\n",
       "\n",
       "    .dataframe thead th {\n",
       "        text-align: right;\n",
       "    }\n",
       "</style>\n",
       "<table border=\"1\" class=\"dataframe\">\n",
       "  <thead>\n",
       "    <tr style=\"text-align: right;\">\n",
       "      <th></th>\n",
       "      <th>user_id</th>\n",
       "      <th>age</th>\n",
       "      <th>churn_date</th>\n",
       "      <th>city</th>\n",
       "      <th>first_name</th>\n",
       "      <th>last_name</th>\n",
       "      <th>reg_date</th>\n",
       "      <th>tariff</th>\n",
       "    </tr>\n",
       "  </thead>\n",
       "  <tbody>\n",
       "    <tr>\n",
       "      <th>405</th>\n",
       "      <td>1405</td>\n",
       "      <td>54</td>\n",
       "      <td>NaN</td>\n",
       "      <td>Набережные Челны</td>\n",
       "      <td>Элина</td>\n",
       "      <td>Белова</td>\n",
       "      <td>2018-10-08</td>\n",
       "      <td>ultra</td>\n",
       "    </tr>\n",
       "    <tr>\n",
       "      <th>349</th>\n",
       "      <td>1349</td>\n",
       "      <td>67</td>\n",
       "      <td>NaN</td>\n",
       "      <td>Севастополь</td>\n",
       "      <td>Гайдар</td>\n",
       "      <td>Курочкин</td>\n",
       "      <td>2018-12-18</td>\n",
       "      <td>ultra</td>\n",
       "    </tr>\n",
       "    <tr>\n",
       "      <th>110</th>\n",
       "      <td>1110</td>\n",
       "      <td>26</td>\n",
       "      <td>NaN</td>\n",
       "      <td>Петрозаводск</td>\n",
       "      <td>Матвей</td>\n",
       "      <td>Александрович</td>\n",
       "      <td>2018-05-06</td>\n",
       "      <td>smart</td>\n",
       "    </tr>\n",
       "    <tr>\n",
       "      <th>333</th>\n",
       "      <td>1333</td>\n",
       "      <td>58</td>\n",
       "      <td>NaN</td>\n",
       "      <td>Москва</td>\n",
       "      <td>Вера</td>\n",
       "      <td>Антонова</td>\n",
       "      <td>2018-09-28</td>\n",
       "      <td>ultra</td>\n",
       "    </tr>\n",
       "    <tr>\n",
       "      <th>164</th>\n",
       "      <td>1164</td>\n",
       "      <td>49</td>\n",
       "      <td>NaN</td>\n",
       "      <td>Магнитогорск</td>\n",
       "      <td>Геральд</td>\n",
       "      <td>Лебедев</td>\n",
       "      <td>2018-04-03</td>\n",
       "      <td>smart</td>\n",
       "    </tr>\n",
       "  </tbody>\n",
       "</table>\n",
       "</div>"
      ],
      "text/plain": [
       "     user_id  age churn_date              city first_name      last_name  \\\n",
       "405     1405   54        NaN  Набережные Челны      Элина         Белова   \n",
       "349     1349   67        NaN       Севастополь     Гайдар       Курочкин   \n",
       "110     1110   26        NaN      Петрозаводск     Матвей  Александрович   \n",
       "333     1333   58        NaN            Москва       Вера       Антонова   \n",
       "164     1164   49        NaN      Магнитогорск    Геральд        Лебедев   \n",
       "\n",
       "       reg_date tariff  \n",
       "405  2018-10-08  ultra  \n",
       "349  2018-12-18  ultra  \n",
       "110  2018-05-06  smart  \n",
       "333  2018-09-28  ultra  \n",
       "164  2018-04-03  smart  "
      ]
     },
     "metadata": {},
     "output_type": "display_data"
    }
   ],
   "source": [
    "check_table(users)"
   ]
  },
  {
   "cell_type": "markdown",
   "metadata": {},
   "source": [
    "У нас 500 записей, 8 признаков, есть пропуски в признаке churn_date, кототрые свидетельствуют о том, что пользователь в настоящий момент всё еще является клиентом.\n",
    "\n",
    "Данные в признаках выглядят корректно (возраст реален, тарифы соответствуют существующим, даты в пределах исследуемого периода), за исключением типа данных у reg_date и churn_date - их нужно будет поменять на datetime."
   ]
  },
  {
   "cell_type": "markdown",
   "metadata": {},
   "source": [
    "В проекте необходимо будет проанализировать пользователей разныз тарифов и городов, поэтому оценим их количество и долю в выборке"
   ]
  },
  {
   "cell_type": "code",
   "execution_count": 12,
   "metadata": {},
   "outputs": [
    {
     "name": "stdout",
     "output_type": "stream",
     "text": [
      "Кол-во пользователей тарифа smart: 351 (70.20%), тарифа ultra: 149 (29.80%)\n"
     ]
    }
   ],
   "source": [
    "# сохраним число пользователей каждого тарифа в отдельных переменных\n",
    "smart_users_count = users.query('tariff == \"smart\"').shape[0]\n",
    "ultra_users_count = users.shape[0] - smart_users_count \n",
    "print(f'Кол-во пользователей тарифа smart: {smart_users_count} ({smart_users_count / users.shape[0]:.2%}), тарифа ultra: {ultra_users_count} ({ultra_users_count / users.shape[0]:.2%})')"
   ]
  },
  {
   "cell_type": "code",
   "execution_count": 13,
   "metadata": {},
   "outputs": [
    {
     "name": "stdout",
     "output_type": "stream",
     "text": [
      "Кол-во пользователей из Москвы: 99 (19.80%), из других городов: 401 (80.20%)\n"
     ]
    }
   ],
   "source": [
    "# сохраним число пользователей из Москвы и других городов в отдельных переменных\n",
    "moscow_users_count = users.query('city == \"Москва\"').shape[0]\n",
    "other_cities_users_count = users.query('city != \"Москва\"').shape[0]\n",
    "print(f'Кол-во пользователей из Москвы: {moscow_users_count} ({moscow_users_count / users.shape[0]:.2%}), из других городов: {other_cities_users_count} ({other_cities_users_count / users.shape[0]:.2%})')"
   ]
  },
  {
   "cell_type": "markdown",
   "metadata": {},
   "source": [
    "Для будущих выводов оценим, пользователи каких тарифов чаще уходят от оператора."
   ]
  },
  {
   "cell_type": "code",
   "execution_count": 14,
   "metadata": {},
   "outputs": [
    {
     "data": {
      "text/plain": [
       "smart    23\n",
       "ultra    15\n",
       "Name: tariff, dtype: int64"
      ]
     },
     "execution_count": 14,
     "metadata": {},
     "output_type": "execute_result"
    }
   ],
   "source": [
    "users[~users['churn_date'].isna()]['tariff'].value_counts()"
   ]
  },
  {
   "cell_type": "markdown",
   "metadata": {},
   "source": [
    "Уходили чаще пользователи тарифа Смарт, однако с учетом их в два раза большей доли, менее довольно услугами пользователи тарифа Ультра."
   ]
  },
  {
   "cell_type": "markdown",
   "metadata": {},
   "source": [
    "### Вывод по разделу\n",
    "Мы импортировали данные в 5 таблиц: \n",
    "1. calls, содержащую информацию о звонках пользователей.\n",
    "2. internet, содержащую информацию о сессиях пользователей (удалили столбец 'Unnamed: 0', дублирующий индекс).\n",
    "3. messages, содержащую информацию о сообщениях пользователей.\n",
    "4. tariffs, содержащую информацию о тарифах.\n",
    "5. users, содержащую информацию о пользователях.\n",
    "\n",
    "По результатам первичного анализа можно сделать следующие выводы:\n",
    "1. В данных нет пропусков (за исключением признака churn_date в таблице users, но они штатны (сигнализирует о том, что пользователь продолжает оставаться клиентом) - метод обработки определим ниже).\n",
    "2. Требуется изменение типа данных для признаков с датами (на datetime). \n",
    "3. Выбросов и аномалий, на первый взгляд, нет.\n",
    "4. Необходимо округлить вверх значения duration в таблице calls и привести его к типу int."
   ]
  },
  {
   "cell_type": "markdown",
   "metadata": {},
   "source": [
    "## Предобработка данных"
   ]
  },
  {
   "cell_type": "markdown",
   "metadata": {},
   "source": [
    "В разделе изменим тип данных для признаков с датами и более подробно изучим признаки на предмет корректности данных, отсутствия выбросов и отсутствия дубликатов."
   ]
  },
  {
   "cell_type": "markdown",
   "metadata": {},
   "source": [
    "### Изменение типов данных"
   ]
  },
  {
   "cell_type": "markdown",
   "metadata": {},
   "source": [
    "Изменим типы данных для признаков дат в таблицах"
   ]
  },
  {
   "cell_type": "code",
   "execution_count": 15,
   "metadata": {},
   "outputs": [],
   "source": [
    "# список фичей для изменения типа на datetime\n",
    "feats_change_type_list = ['call_date', 'session_date', 'message_date', 'churn_date', 'reg_date']"
   ]
  },
  {
   "cell_type": "code",
   "execution_count": 16,
   "metadata": {},
   "outputs": [],
   "source": [
    "# перебираем в цикле таблицы и признаки и меняем им типы\n",
    "for table in [calls, internet, messages, users]:\n",
    "    for feat in feats_change_type_list:\n",
    "        if feat in table.columns:\n",
    "            table[feat] = pd.to_datetime(table[feat], format=\"%Y-%m-%d\")"
   ]
  },
  {
   "cell_type": "code",
   "execution_count": 17,
   "metadata": {},
   "outputs": [
    {
     "name": "stdout",
     "output_type": "stream",
     "text": [
      "<class 'pandas.core.frame.DataFrame'>\n",
      "RangeIndex: 202607 entries, 0 to 202606\n",
      "Data columns (total 4 columns):\n",
      " #   Column     Non-Null Count   Dtype         \n",
      "---  ------     --------------   -----         \n",
      " 0   id         202607 non-null  object        \n",
      " 1   call_date  202607 non-null  datetime64[ns]\n",
      " 2   duration   202607 non-null  float64       \n",
      " 3   user_id    202607 non-null  int64         \n",
      "dtypes: datetime64[ns](1), float64(1), int64(1), object(1)\n",
      "memory usage: 6.2+ MB\n"
     ]
    },
    {
     "data": {
      "text/plain": [
       "None"
      ]
     },
     "metadata": {},
     "output_type": "display_data"
    },
    {
     "name": "stdout",
     "output_type": "stream",
     "text": [
      "____________________________________________________________________________________________________\n",
      "<class 'pandas.core.frame.DataFrame'>\n",
      "RangeIndex: 149396 entries, 0 to 149395\n",
      "Data columns (total 4 columns):\n",
      " #   Column        Non-Null Count   Dtype         \n",
      "---  ------        --------------   -----         \n",
      " 0   id            149396 non-null  object        \n",
      " 1   mb_used       149396 non-null  float64       \n",
      " 2   session_date  149396 non-null  datetime64[ns]\n",
      " 3   user_id       149396 non-null  int64         \n",
      "dtypes: datetime64[ns](1), float64(1), int64(1), object(1)\n",
      "memory usage: 4.6+ MB\n"
     ]
    },
    {
     "data": {
      "text/plain": [
       "None"
      ]
     },
     "metadata": {},
     "output_type": "display_data"
    },
    {
     "name": "stdout",
     "output_type": "stream",
     "text": [
      "____________________________________________________________________________________________________\n",
      "<class 'pandas.core.frame.DataFrame'>\n",
      "RangeIndex: 123036 entries, 0 to 123035\n",
      "Data columns (total 3 columns):\n",
      " #   Column        Non-Null Count   Dtype         \n",
      "---  ------        --------------   -----         \n",
      " 0   id            123036 non-null  object        \n",
      " 1   message_date  123036 non-null  datetime64[ns]\n",
      " 2   user_id       123036 non-null  int64         \n",
      "dtypes: datetime64[ns](1), int64(1), object(1)\n",
      "memory usage: 2.8+ MB\n"
     ]
    },
    {
     "data": {
      "text/plain": [
       "None"
      ]
     },
     "metadata": {},
     "output_type": "display_data"
    },
    {
     "name": "stdout",
     "output_type": "stream",
     "text": [
      "____________________________________________________________________________________________________\n",
      "<class 'pandas.core.frame.DataFrame'>\n",
      "RangeIndex: 500 entries, 0 to 499\n",
      "Data columns (total 8 columns):\n",
      " #   Column      Non-Null Count  Dtype         \n",
      "---  ------      --------------  -----         \n",
      " 0   user_id     500 non-null    int64         \n",
      " 1   age         500 non-null    int64         \n",
      " 2   churn_date  38 non-null     datetime64[ns]\n",
      " 3   city        500 non-null    object        \n",
      " 4   first_name  500 non-null    object        \n",
      " 5   last_name   500 non-null    object        \n",
      " 6   reg_date    500 non-null    datetime64[ns]\n",
      " 7   tariff      500 non-null    object        \n",
      "dtypes: datetime64[ns](2), int64(2), object(4)\n",
      "memory usage: 31.4+ KB\n"
     ]
    },
    {
     "data": {
      "text/plain": [
       "None"
      ]
     },
     "metadata": {},
     "output_type": "display_data"
    },
    {
     "name": "stdout",
     "output_type": "stream",
     "text": [
      "____________________________________________________________________________________________________\n"
     ]
    }
   ],
   "source": [
    "# проверяем\n",
    "for table in [calls, internet, messages, users]:\n",
    "    display(table.info())\n",
    "    print(100 * '_')"
   ]
  },
  {
   "cell_type": "markdown",
   "metadata": {},
   "source": [
    "Все типы для дат изменены корректно"
   ]
  },
  {
   "cell_type": "markdown",
   "metadata": {},
   "source": [
    "___\n",
    "Проведем округление вверх признака duration таблицы calls и изменим его тип на int"
   ]
  },
  {
   "cell_type": "code",
   "execution_count": 18,
   "metadata": {},
   "outputs": [],
   "source": [
    "calls['duration'] = np.ceil(calls['duration']).astype('int')"
   ]
  },
  {
   "cell_type": "code",
   "execution_count": 19,
   "metadata": {},
   "outputs": [
    {
     "name": "stdout",
     "output_type": "stream",
     "text": [
      "<class 'pandas.core.frame.DataFrame'>\n",
      "RangeIndex: 202607 entries, 0 to 202606\n",
      "Data columns (total 4 columns):\n",
      " #   Column     Non-Null Count   Dtype         \n",
      "---  ------     --------------   -----         \n",
      " 0   id         202607 non-null  object        \n",
      " 1   call_date  202607 non-null  datetime64[ns]\n",
      " 2   duration   202607 non-null  int64         \n",
      " 3   user_id    202607 non-null  int64         \n",
      "dtypes: datetime64[ns](1), int64(2), object(1)\n",
      "memory usage: 6.2+ MB\n"
     ]
    }
   ],
   "source": [
    "calls.info()"
   ]
  },
  {
   "cell_type": "code",
   "execution_count": 20,
   "metadata": {},
   "outputs": [
    {
     "data": {
      "text/html": [
       "<div>\n",
       "<style scoped>\n",
       "    .dataframe tbody tr th:only-of-type {\n",
       "        vertical-align: middle;\n",
       "    }\n",
       "\n",
       "    .dataframe tbody tr th {\n",
       "        vertical-align: top;\n",
       "    }\n",
       "\n",
       "    .dataframe thead th {\n",
       "        text-align: right;\n",
       "    }\n",
       "</style>\n",
       "<table border=\"1\" class=\"dataframe\">\n",
       "  <thead>\n",
       "    <tr style=\"text-align: right;\">\n",
       "      <th></th>\n",
       "      <th>id</th>\n",
       "      <th>call_date</th>\n",
       "      <th>duration</th>\n",
       "      <th>user_id</th>\n",
       "    </tr>\n",
       "  </thead>\n",
       "  <tbody>\n",
       "    <tr>\n",
       "      <th>163152</th>\n",
       "      <td>1401_587</td>\n",
       "      <td>2018-12-25</td>\n",
       "      <td>12</td>\n",
       "      <td>1401</td>\n",
       "    </tr>\n",
       "    <tr>\n",
       "      <th>50721</th>\n",
       "      <td>1126_284</td>\n",
       "      <td>2018-09-14</td>\n",
       "      <td>9</td>\n",
       "      <td>1126</td>\n",
       "    </tr>\n",
       "  </tbody>\n",
       "</table>\n",
       "</div>"
      ],
      "text/plain": [
       "              id  call_date  duration  user_id\n",
       "163152  1401_587 2018-12-25        12     1401\n",
       "50721   1126_284 2018-09-14         9     1126"
      ]
     },
     "execution_count": 20,
     "metadata": {},
     "output_type": "execute_result"
    }
   ],
   "source": [
    "calls.sample(2)"
   ]
  },
  {
   "cell_type": "markdown",
   "metadata": {},
   "source": [
    "Тип данных изменен, данные округлены."
   ]
  },
  {
   "cell_type": "markdown",
   "metadata": {},
   "source": [
    "### Поиск дубликатов"
   ]
  },
  {
   "cell_type": "code",
   "execution_count": 21,
   "metadata": {},
   "outputs": [
    {
     "name": "stdout",
     "output_type": "stream",
     "text": [
      "0\n",
      "0\n",
      "0\n",
      "0\n"
     ]
    }
   ],
   "source": [
    "for table in [calls, internet, messages, users]:\n",
    "    print(table.duplicated().sum())"
   ]
  },
  {
   "cell_type": "markdown",
   "metadata": {},
   "source": [
    "Явных дубликатов нет"
   ]
  },
  {
   "cell_type": "markdown",
   "metadata": {},
   "source": [
    "Проверим неявные - они могут быть в названии города таблицы users, в остальных данных каждый элемент имеет свой уникальный id, поэтому они не могут являться дубликатами, даже если остальные параметры схожи (одинаковые по продолжительности звонки и по объему трафика интернет-сессии - не дубликаты), тарифы также не имеют дубликатов - уникальное число значений 2."
   ]
  },
  {
   "cell_type": "code",
   "execution_count": 22,
   "metadata": {},
   "outputs": [
    {
     "data": {
      "text/plain": [
       "['Архангельск',\n",
       " 'Астрахань',\n",
       " 'Балашиха',\n",
       " 'Барнаул',\n",
       " 'Белгород',\n",
       " 'Брянск',\n",
       " 'Владивосток',\n",
       " 'Владикавказ',\n",
       " 'Владимир',\n",
       " 'Волгоград',\n",
       " 'Волжский',\n",
       " 'Вологда',\n",
       " 'Воронеж',\n",
       " 'Грозный',\n",
       " 'Екатеринбург',\n",
       " 'Иваново',\n",
       " 'Ижевск',\n",
       " 'Иркутск',\n",
       " 'Казань',\n",
       " 'Калининград',\n",
       " 'Калуга',\n",
       " 'Кемерово',\n",
       " 'Киров',\n",
       " 'Кострома',\n",
       " 'Краснодар',\n",
       " 'Красноярск',\n",
       " 'Курган',\n",
       " 'Курск',\n",
       " 'Липецк',\n",
       " 'Магнитогорск',\n",
       " 'Махачкала',\n",
       " 'Москва',\n",
       " 'Мурманск',\n",
       " 'Набережные Челны',\n",
       " 'Нижневартовск',\n",
       " 'Нижний Новгород',\n",
       " 'Нижний Тагил',\n",
       " 'Новокузнецк',\n",
       " 'Новороссийск',\n",
       " 'Новосибирск',\n",
       " 'Омск',\n",
       " 'Оренбург',\n",
       " 'Орёл',\n",
       " 'Пенза',\n",
       " 'Пермь',\n",
       " 'Петрозаводск',\n",
       " 'Подольск',\n",
       " 'Ростов-на-Дону',\n",
       " 'Рязань',\n",
       " 'Самара',\n",
       " 'Санкт-Петербург',\n",
       " 'Саранск',\n",
       " 'Саратов',\n",
       " 'Севастополь',\n",
       " 'Смоленск',\n",
       " 'Сочи',\n",
       " 'Ставрополь',\n",
       " 'Стерлитамак',\n",
       " 'Сургут',\n",
       " 'Тамбов',\n",
       " 'Тверь',\n",
       " 'Тольятти',\n",
       " 'Томск',\n",
       " 'Тула',\n",
       " 'Тюмень',\n",
       " 'Улан-Удэ',\n",
       " 'Ульяновск',\n",
       " 'Уфа',\n",
       " 'Хабаровск',\n",
       " 'Химки',\n",
       " 'Чебоксары',\n",
       " 'Челябинск',\n",
       " 'Череповец',\n",
       " 'Чита',\n",
       " 'Якутск',\n",
       " 'Ярославль']"
      ]
     },
     "execution_count": 22,
     "metadata": {},
     "output_type": "execute_result"
    }
   ],
   "source": [
    "# проверим неявные - они могут быть в названии города\n",
    "sorted(users['city'].unique())"
   ]
  },
  {
   "cell_type": "markdown",
   "metadata": {},
   "source": [
    "Все названия корректны, неявных дубликатов нет."
   ]
  },
  {
   "cell_type": "markdown",
   "metadata": {},
   "source": [
    "### Заполнение пропусков"
   ]
  },
  {
   "cell_type": "markdown",
   "metadata": {},
   "source": [
    "В данных есть пропуски в одном признаке - churn_date таблицы users. Пропуски свидетельствуют о том, что пользователь на конец 2018 года был активен.\n",
    "\n",
    "Признак churn_date потребуется нам для корректного расчета потраченных пользователем в последнем месяце активности минут, гигабайт и смс (использование этих данных без корректировки приведет к искажению общего результата). Исходя из этого можно было бы заполнить пропуски последней датой года, одновременно создав дополнительный признак is_active со статусом активности-неактивности пользователя, однако это исказит смысл признака churn_date, поэтому оставим пропуски в нем как есть."
   ]
  },
  {
   "cell_type": "markdown",
   "metadata": {},
   "source": [
    "### Исследование аномалий и исправление ошибок"
   ]
  },
  {
   "cell_type": "markdown",
   "metadata": {},
   "source": [
    "Создадим функцию для построения гистограмм (с отрисовкой на них медианы, среднего и моды)."
   ]
  },
  {
   "cell_type": "code",
   "execution_count": 23,
   "metadata": {},
   "outputs": [],
   "source": [
    "# функция построения гистограммы с медианой, средним и модой\n",
    "def my_hist(data, column, bins=10):\n",
    "    fig, ax = plt.subplots(figsize=(12, 6))\n",
    "    ax.hist(data[column], bins=bins, alpha=0.8)\n",
    "    ax.set_title(f'Гистограмма признака {column}')\n",
    "    if data[column].dtype in ['float', 'int']: \n",
    "        feat_median = data[column].median()\n",
    "        feat_mean = data[column].mean()\n",
    "        feat_mode = data[column].mode()[0]\n",
    "        ax.axvline(feat_median, color='g', linestyle='--', label='медиана')\n",
    "        ax.axvline(feat_mean, color='r', linestyle='--', label='среднее')\n",
    "        ax.axvline(feat_mode, color='y', linestyle='--', label='мода')\n",
    "        ax.legend()\n",
    "    plt.show()"
   ]
  },
  {
   "cell_type": "markdown",
   "metadata": {},
   "source": [
    "Построим гистограммы всех числовых признаков (за исключением user_id)"
   ]
  },
  {
   "cell_type": "code",
   "execution_count": 24,
   "metadata": {
    "scrolled": false
   },
   "outputs": [
    {
     "data": {
      "image/png": "[encoded data removed]",
      "text/plain": [
       "<Figure size 864x432 with 1 Axes>"
      ]
     },
     "metadata": {
      "needs_background": "light"
     },
     "output_type": "display_data"
    },
    {
     "data": {
      "image/png": "[encoded data removed]",
      "text/plain": [
       "<Figure size 864x432 with 1 Axes>"
      ]
     },
     "metadata": {
      "needs_background": "light"
     },
     "output_type": "display_data"
    },
    {
     "data": {
      "image/png": "[encoded data removed]",
      "text/plain": [
       "<Figure size 864x432 with 1 Axes>"
      ]
     },
     "metadata": {
      "needs_background": "light"
     },
     "output_type": "display_data"
    }
   ],
   "source": [
    "for table in [calls, internet, messages, users]:\n",
    "    for feat in table.columns:\n",
    "        if table[feat].dtype in ['int', 'float'] and feat != 'user_id':\n",
    "            my_hist(table, feat, bins=min(table[feat].nunique(), 80))"
   ]
  },
  {
   "cell_type": "markdown",
   "metadata": {},
   "source": [
    "Видим пики в значении 0 для признаков mb_used и duration - в случае с duration это свидетельствует о пропущенных звонках, для mb_used ситуация менее однозначна, т.к. если у оператора появилась информация о сессии, то какой-то объем трафика уже должен был пройти. Возможно, это ошибка выгрузки данных или особенности округления сессий с маленьким трафиком (нам эту информацию получить неоткуда). Альтернативно это может быть трафиф от сайтов, на которые в тарифах предусмотрен бесплатный неограниченный трафик (соцсети, музыка), хотя в описании данных об этом ничего не сказано). Нулевые сессии в любом случае невозможно корректно обработать и они не повлияют на дальнейшие расчеты (0 Мб = 0 руб.), так что ничего с нулевыми значениями мы делать не будем (исключать тоже, чтобы осталась возможность посмотреть статистику по общему числу звонков и т.д.).\n",
    "\n",
    "В признаке age видим приблизительное повторение возрастной структуры населения РФ, так что данные в нем можно считать корректными."
   ]
  },
  {
   "cell_type": "markdown",
   "metadata": {},
   "source": [
    "Посмотрим на данные duration и mb_used на гистограммах без учета нулевых значений."
   ]
  },
  {
   "cell_type": "code",
   "execution_count": 25,
   "metadata": {
    "scrolled": false
   },
   "outputs": [
    {
     "data": {
      "image/png": "[encoded data removed]",
      "text/plain": [
       "<Figure size 864x432 with 1 Axes>"
      ]
     },
     "metadata": {
      "needs_background": "light"
     },
     "output_type": "display_data"
    }
   ],
   "source": [
    "my_hist(calls[calls.duration != 0], 'duration', bins=(calls.duration.nunique()-1))"
   ]
  },
  {
   "cell_type": "code",
   "execution_count": 26,
   "metadata": {},
   "outputs": [
    {
     "data": {
      "image/png": "[encoded data removed]",
      "text/plain": [
       "<Figure size 864x432 with 1 Axes>"
      ]
     },
     "metadata": {
      "needs_background": "light"
     },
     "output_type": "display_data"
    }
   ],
   "source": [
    "my_hist(internet[internet.mb_used != 0], 'mb_used', bins=40)"
   ]
  },
  {
   "cell_type": "markdown",
   "metadata": {},
   "source": [
    "Распределение по форме похоже на распределение Пуассона, поэтому смотреть на диаграмму размаха и обрабатывать низкочастотные значения в хвосте \"справа\" мы не будем во избежание потери важной информации о поведении пользователей."
   ]
  },
  {
   "cell_type": "markdown",
   "metadata": {},
   "source": [
    "### Генерация фичей"
   ]
  },
  {
   "cell_type": "markdown",
   "metadata": {},
   "source": [
    "Нам нужно посчитать для каждого пользователя:\n",
    "- количество сделанных звонков и израсходованных минут разговора по месяцам;\n",
    "- количество отправленных сообщений по месяцам;\n",
    "- объем израсходованного интернет-трафика по месяцам;\n",
    "- помесячную выручку с каждого пользователя (вычтите бесплатный лимит из суммарного количества звонков, сообщений и интернет-трафика; остаток умножьте на значение из тарифного плана; прибавьте абонентскую плату, соответствующую тарифному плану).\n",
    "\n",
    "Сделаем это из сводных таблиц users-calls, users-internet, users-messages, users-tariffs, сведя результат в таблицу result.\n",
    "\n",
    "Мы не объединяем все таблицы в одну, т.к. это приведет к существенному увеличению объема используемой памяти."
   ]
  },
  {
   "cell_type": "code",
   "execution_count": 27,
   "metadata": {},
   "outputs": [],
   "source": [
    "# подготовим таблицу result со всеми пользователями, значения tariff и city добавим позже\n",
    "result = users[['user_id']].copy()"
   ]
  },
  {
   "cell_type": "markdown",
   "metadata": {},
   "source": [
    "#### Данные по звонкам (users_calls)"
   ]
  },
  {
   "cell_type": "code",
   "execution_count": 28,
   "metadata": {},
   "outputs": [],
   "source": [
    "# нас устраивает объединение по умолчанию - left join, т.к. в исходной таблице присутствуют все пользователи\n",
    "users_calls = users.merge(calls, on='user_id')"
   ]
  },
  {
   "cell_type": "code",
   "execution_count": 29,
   "metadata": {},
   "outputs": [
    {
     "name": "stdout",
     "output_type": "stream",
     "text": [
      "<class 'pandas.core.frame.DataFrame'>\n",
      "Int64Index: 202607 entries, 0 to 202606\n",
      "Data columns (total 11 columns):\n",
      " #   Column      Non-Null Count   Dtype         \n",
      "---  ------      --------------   -----         \n",
      " 0   user_id     202607 non-null  int64         \n",
      " 1   age         202607 non-null  int64         \n",
      " 2   churn_date  9919 non-null    datetime64[ns]\n",
      " 3   city        202607 non-null  object        \n",
      " 4   first_name  202607 non-null  object        \n",
      " 5   last_name   202607 non-null  object        \n",
      " 6   reg_date    202607 non-null  datetime64[ns]\n",
      " 7   tariff      202607 non-null  object        \n",
      " 8   id          202607 non-null  object        \n",
      " 9   call_date   202607 non-null  datetime64[ns]\n",
      " 10  duration    202607 non-null  int64         \n",
      "dtypes: datetime64[ns](3), int64(3), object(5)\n",
      "memory usage: 18.5+ MB\n"
     ]
    }
   ],
   "source": [
    "users_calls.info()"
   ]
  },
  {
   "cell_type": "code",
   "execution_count": 30,
   "metadata": {},
   "outputs": [],
   "source": [
    "# добавляем признак месяца\n",
    "users_calls['month'] = users_calls['call_date'].dt.month"
   ]
  },
  {
   "cell_type": "code",
   "execution_count": 31,
   "metadata": {},
   "outputs": [],
   "source": [
    "# создаем таблицу с агрегированными данными по user_id и month\n",
    "users_calls_stat = users_calls.pivot_table(index=['user_id', 'month'], values='duration', aggfunc=['count', 'sum'])"
   ]
  },
  {
   "cell_type": "code",
   "execution_count": 32,
   "metadata": {},
   "outputs": [],
   "source": [
    "# переименовываем столбцы\n",
    "users_calls_stat.columns = list(map(lambda x: 'calls_' + x[0] + '_' + str(x[1]), users_calls_stat.columns))"
   ]
  },
  {
   "cell_type": "code",
   "execution_count": 33,
   "metadata": {},
   "outputs": [],
   "source": [
    "users_calls_stat = users_calls_stat.reset_index()"
   ]
  },
  {
   "cell_type": "code",
   "execution_count": 34,
   "metadata": {},
   "outputs": [
    {
     "data": {
      "text/html": [
       "<div>\n",
       "<style scoped>\n",
       "    .dataframe tbody tr th:only-of-type {\n",
       "        vertical-align: middle;\n",
       "    }\n",
       "\n",
       "    .dataframe tbody tr th {\n",
       "        vertical-align: top;\n",
       "    }\n",
       "\n",
       "    .dataframe thead th {\n",
       "        text-align: right;\n",
       "    }\n",
       "</style>\n",
       "<table border=\"1\" class=\"dataframe\">\n",
       "  <thead>\n",
       "    <tr style=\"text-align: right;\">\n",
       "      <th></th>\n",
       "      <th>user_id</th>\n",
       "      <th>month</th>\n",
       "      <th>calls_count_duration</th>\n",
       "      <th>calls_sum_duration</th>\n",
       "    </tr>\n",
       "  </thead>\n",
       "  <tbody>\n",
       "    <tr>\n",
       "      <th>0</th>\n",
       "      <td>1000</td>\n",
       "      <td>5</td>\n",
       "      <td>22</td>\n",
       "      <td>159</td>\n",
       "    </tr>\n",
       "    <tr>\n",
       "      <th>1</th>\n",
       "      <td>1000</td>\n",
       "      <td>6</td>\n",
       "      <td>43</td>\n",
       "      <td>172</td>\n",
       "    </tr>\n",
       "    <tr>\n",
       "      <th>2</th>\n",
       "      <td>1000</td>\n",
       "      <td>7</td>\n",
       "      <td>47</td>\n",
       "      <td>340</td>\n",
       "    </tr>\n",
       "    <tr>\n",
       "      <th>3</th>\n",
       "      <td>1000</td>\n",
       "      <td>8</td>\n",
       "      <td>52</td>\n",
       "      <td>408</td>\n",
       "    </tr>\n",
       "    <tr>\n",
       "      <th>4</th>\n",
       "      <td>1000</td>\n",
       "      <td>9</td>\n",
       "      <td>58</td>\n",
       "      <td>466</td>\n",
       "    </tr>\n",
       "    <tr>\n",
       "      <th>...</th>\n",
       "      <td>...</td>\n",
       "      <td>...</td>\n",
       "      <td>...</td>\n",
       "      <td>...</td>\n",
       "    </tr>\n",
       "    <tr>\n",
       "      <th>3169</th>\n",
       "      <td>1498</td>\n",
       "      <td>10</td>\n",
       "      <td>41</td>\n",
       "      <td>247</td>\n",
       "    </tr>\n",
       "    <tr>\n",
       "      <th>3170</th>\n",
       "      <td>1499</td>\n",
       "      <td>9</td>\n",
       "      <td>9</td>\n",
       "      <td>70</td>\n",
       "    </tr>\n",
       "    <tr>\n",
       "      <th>3171</th>\n",
       "      <td>1499</td>\n",
       "      <td>10</td>\n",
       "      <td>68</td>\n",
       "      <td>449</td>\n",
       "    </tr>\n",
       "    <tr>\n",
       "      <th>3172</th>\n",
       "      <td>1499</td>\n",
       "      <td>11</td>\n",
       "      <td>74</td>\n",
       "      <td>612</td>\n",
       "    </tr>\n",
       "    <tr>\n",
       "      <th>3173</th>\n",
       "      <td>1499</td>\n",
       "      <td>12</td>\n",
       "      <td>69</td>\n",
       "      <td>492</td>\n",
       "    </tr>\n",
       "  </tbody>\n",
       "</table>\n",
       "<p>3174 rows × 4 columns</p>\n",
       "</div>"
      ],
      "text/plain": [
       "      user_id  month  calls_count_duration  calls_sum_duration\n",
       "0        1000      5                    22                 159\n",
       "1        1000      6                    43                 172\n",
       "2        1000      7                    47                 340\n",
       "3        1000      8                    52                 408\n",
       "4        1000      9                    58                 466\n",
       "...       ...    ...                   ...                 ...\n",
       "3169     1498     10                    41                 247\n",
       "3170     1499      9                     9                  70\n",
       "3171     1499     10                    68                 449\n",
       "3172     1499     11                    74                 612\n",
       "3173     1499     12                    69                 492\n",
       "\n",
       "[3174 rows x 4 columns]"
      ]
     },
     "execution_count": 34,
     "metadata": {},
     "output_type": "execute_result"
    }
   ],
   "source": [
    "# смотрим результат\n",
    "users_calls_stat"
   ]
  },
  {
   "cell_type": "code",
   "execution_count": 35,
   "metadata": {},
   "outputs": [],
   "source": [
    "# добавляем результат в сформированную изначально таблицу\n",
    "result = result.merge(users_calls_stat, on='user_id')"
   ]
  },
  {
   "cell_type": "code",
   "execution_count": 36,
   "metadata": {},
   "outputs": [
    {
     "data": {
      "text/html": [
       "<div>\n",
       "<style scoped>\n",
       "    .dataframe tbody tr th:only-of-type {\n",
       "        vertical-align: middle;\n",
       "    }\n",
       "\n",
       "    .dataframe tbody tr th {\n",
       "        vertical-align: top;\n",
       "    }\n",
       "\n",
       "    .dataframe thead th {\n",
       "        text-align: right;\n",
       "    }\n",
       "</style>\n",
       "<table border=\"1\" class=\"dataframe\">\n",
       "  <thead>\n",
       "    <tr style=\"text-align: right;\">\n",
       "      <th></th>\n",
       "      <th>user_id</th>\n",
       "      <th>month</th>\n",
       "      <th>calls_count_duration</th>\n",
       "      <th>calls_sum_duration</th>\n",
       "    </tr>\n",
       "  </thead>\n",
       "  <tbody>\n",
       "    <tr>\n",
       "      <th>0</th>\n",
       "      <td>1000</td>\n",
       "      <td>5</td>\n",
       "      <td>22</td>\n",
       "      <td>159</td>\n",
       "    </tr>\n",
       "    <tr>\n",
       "      <th>1</th>\n",
       "      <td>1000</td>\n",
       "      <td>6</td>\n",
       "      <td>43</td>\n",
       "      <td>172</td>\n",
       "    </tr>\n",
       "    <tr>\n",
       "      <th>2</th>\n",
       "      <td>1000</td>\n",
       "      <td>7</td>\n",
       "      <td>47</td>\n",
       "      <td>340</td>\n",
       "    </tr>\n",
       "    <tr>\n",
       "      <th>3</th>\n",
       "      <td>1000</td>\n",
       "      <td>8</td>\n",
       "      <td>52</td>\n",
       "      <td>408</td>\n",
       "    </tr>\n",
       "    <tr>\n",
       "      <th>4</th>\n",
       "      <td>1000</td>\n",
       "      <td>9</td>\n",
       "      <td>58</td>\n",
       "      <td>466</td>\n",
       "    </tr>\n",
       "    <tr>\n",
       "      <th>...</th>\n",
       "      <td>...</td>\n",
       "      <td>...</td>\n",
       "      <td>...</td>\n",
       "      <td>...</td>\n",
       "    </tr>\n",
       "    <tr>\n",
       "      <th>3169</th>\n",
       "      <td>1498</td>\n",
       "      <td>10</td>\n",
       "      <td>41</td>\n",
       "      <td>247</td>\n",
       "    </tr>\n",
       "    <tr>\n",
       "      <th>3170</th>\n",
       "      <td>1499</td>\n",
       "      <td>9</td>\n",
       "      <td>9</td>\n",
       "      <td>70</td>\n",
       "    </tr>\n",
       "    <tr>\n",
       "      <th>3171</th>\n",
       "      <td>1499</td>\n",
       "      <td>10</td>\n",
       "      <td>68</td>\n",
       "      <td>449</td>\n",
       "    </tr>\n",
       "    <tr>\n",
       "      <th>3172</th>\n",
       "      <td>1499</td>\n",
       "      <td>11</td>\n",
       "      <td>74</td>\n",
       "      <td>612</td>\n",
       "    </tr>\n",
       "    <tr>\n",
       "      <th>3173</th>\n",
       "      <td>1499</td>\n",
       "      <td>12</td>\n",
       "      <td>69</td>\n",
       "      <td>492</td>\n",
       "    </tr>\n",
       "  </tbody>\n",
       "</table>\n",
       "<p>3174 rows × 4 columns</p>\n",
       "</div>"
      ],
      "text/plain": [
       "      user_id  month  calls_count_duration  calls_sum_duration\n",
       "0        1000      5                    22                 159\n",
       "1        1000      6                    43                 172\n",
       "2        1000      7                    47                 340\n",
       "3        1000      8                    52                 408\n",
       "4        1000      9                    58                 466\n",
       "...       ...    ...                   ...                 ...\n",
       "3169     1498     10                    41                 247\n",
       "3170     1499      9                     9                  70\n",
       "3171     1499     10                    68                 449\n",
       "3172     1499     11                    74                 612\n",
       "3173     1499     12                    69                 492\n",
       "\n",
       "[3174 rows x 4 columns]"
      ]
     },
     "execution_count": 36,
     "metadata": {},
     "output_type": "execute_result"
    }
   ],
   "source": [
    "result"
   ]
  },
  {
   "cell_type": "markdown",
   "metadata": {},
   "source": [
    "#### Данные по сообщениям (users_messages)"
   ]
  },
  {
   "cell_type": "markdown",
   "metadata": {},
   "source": [
    "Первые действия аналогичны users_calls (функцию не делал поскольку в каждой паре таблиц есть особенности - округление трафика в users_internet, применение двух функций агрегирования в users_calls и т.д.)"
   ]
  },
  {
   "cell_type": "code",
   "execution_count": 37,
   "metadata": {},
   "outputs": [],
   "source": [
    "users_messages = users.merge(messages, on='user_id')"
   ]
  },
  {
   "cell_type": "code",
   "execution_count": 38,
   "metadata": {},
   "outputs": [
    {
     "name": "stdout",
     "output_type": "stream",
     "text": [
      "<class 'pandas.core.frame.DataFrame'>\n",
      "Int64Index: 123036 entries, 0 to 123035\n",
      "Data columns (total 10 columns):\n",
      " #   Column        Non-Null Count   Dtype         \n",
      "---  ------        --------------   -----         \n",
      " 0   user_id       123036 non-null  int64         \n",
      " 1   age           123036 non-null  int64         \n",
      " 2   churn_date    5339 non-null    datetime64[ns]\n",
      " 3   city          123036 non-null  object        \n",
      " 4   first_name    123036 non-null  object        \n",
      " 5   last_name     123036 non-null  object        \n",
      " 6   reg_date      123036 non-null  datetime64[ns]\n",
      " 7   tariff        123036 non-null  object        \n",
      " 8   id            123036 non-null  object        \n",
      " 9   message_date  123036 non-null  datetime64[ns]\n",
      "dtypes: datetime64[ns](3), int64(2), object(5)\n",
      "memory usage: 10.3+ MB\n"
     ]
    }
   ],
   "source": [
    "users_messages.info()"
   ]
  },
  {
   "cell_type": "code",
   "execution_count": 39,
   "metadata": {},
   "outputs": [],
   "source": [
    "users_messages['month'] = users_messages['message_date'].dt.month"
   ]
  },
  {
   "cell_type": "code",
   "execution_count": 40,
   "metadata": {},
   "outputs": [],
   "source": [
    "users_messages_stat = users_messages.pivot_table(index=['user_id', 'month'], values='id', aggfunc='count')"
   ]
  },
  {
   "cell_type": "code",
   "execution_count": 41,
   "metadata": {},
   "outputs": [],
   "source": [
    "users_messages_stat = users_messages_stat.rename(columns={'id': 'messages_count'})"
   ]
  },
  {
   "cell_type": "code",
   "execution_count": 42,
   "metadata": {},
   "outputs": [],
   "source": [
    "# используем outer join, т.к. в некоторые месяцы могли использоваться только сообщения, но не звонки и интернет\n",
    "result = result.merge(users_messages_stat, on=['user_id', 'month'], how='outer')"
   ]
  },
  {
   "cell_type": "code",
   "execution_count": 43,
   "metadata": {},
   "outputs": [
    {
     "data": {
      "text/html": [
       "<div>\n",
       "<style scoped>\n",
       "    .dataframe tbody tr th:only-of-type {\n",
       "        vertical-align: middle;\n",
       "    }\n",
       "\n",
       "    .dataframe tbody tr th {\n",
       "        vertical-align: top;\n",
       "    }\n",
       "\n",
       "    .dataframe thead th {\n",
       "        text-align: right;\n",
       "    }\n",
       "</style>\n",
       "<table border=\"1\" class=\"dataframe\">\n",
       "  <thead>\n",
       "    <tr style=\"text-align: right;\">\n",
       "      <th></th>\n",
       "      <th>user_id</th>\n",
       "      <th>month</th>\n",
       "      <th>calls_count_duration</th>\n",
       "      <th>calls_sum_duration</th>\n",
       "      <th>messages_count</th>\n",
       "    </tr>\n",
       "  </thead>\n",
       "  <tbody>\n",
       "    <tr>\n",
       "      <th>0</th>\n",
       "      <td>1000</td>\n",
       "      <td>5</td>\n",
       "      <td>22.0</td>\n",
       "      <td>159.0</td>\n",
       "      <td>22.0</td>\n",
       "    </tr>\n",
       "    <tr>\n",
       "      <th>1</th>\n",
       "      <td>1000</td>\n",
       "      <td>6</td>\n",
       "      <td>43.0</td>\n",
       "      <td>172.0</td>\n",
       "      <td>60.0</td>\n",
       "    </tr>\n",
       "    <tr>\n",
       "      <th>2</th>\n",
       "      <td>1000</td>\n",
       "      <td>7</td>\n",
       "      <td>47.0</td>\n",
       "      <td>340.0</td>\n",
       "      <td>75.0</td>\n",
       "    </tr>\n",
       "    <tr>\n",
       "      <th>3</th>\n",
       "      <td>1000</td>\n",
       "      <td>8</td>\n",
       "      <td>52.0</td>\n",
       "      <td>408.0</td>\n",
       "      <td>81.0</td>\n",
       "    </tr>\n",
       "    <tr>\n",
       "      <th>4</th>\n",
       "      <td>1000</td>\n",
       "      <td>9</td>\n",
       "      <td>58.0</td>\n",
       "      <td>466.0</td>\n",
       "      <td>57.0</td>\n",
       "    </tr>\n",
       "    <tr>\n",
       "      <th>...</th>\n",
       "      <td>...</td>\n",
       "      <td>...</td>\n",
       "      <td>...</td>\n",
       "      <td>...</td>\n",
       "      <td>...</td>\n",
       "    </tr>\n",
       "    <tr>\n",
       "      <th>3208</th>\n",
       "      <td>1489</td>\n",
       "      <td>8</td>\n",
       "      <td>NaN</td>\n",
       "      <td>NaN</td>\n",
       "      <td>17.0</td>\n",
       "    </tr>\n",
       "    <tr>\n",
       "      <th>3209</th>\n",
       "      <td>1489</td>\n",
       "      <td>9</td>\n",
       "      <td>NaN</td>\n",
       "      <td>NaN</td>\n",
       "      <td>32.0</td>\n",
       "    </tr>\n",
       "    <tr>\n",
       "      <th>3210</th>\n",
       "      <td>1489</td>\n",
       "      <td>10</td>\n",
       "      <td>NaN</td>\n",
       "      <td>NaN</td>\n",
       "      <td>21.0</td>\n",
       "    </tr>\n",
       "    <tr>\n",
       "      <th>3211</th>\n",
       "      <td>1489</td>\n",
       "      <td>11</td>\n",
       "      <td>NaN</td>\n",
       "      <td>NaN</td>\n",
       "      <td>20.0</td>\n",
       "    </tr>\n",
       "    <tr>\n",
       "      <th>3212</th>\n",
       "      <td>1489</td>\n",
       "      <td>12</td>\n",
       "      <td>NaN</td>\n",
       "      <td>NaN</td>\n",
       "      <td>35.0</td>\n",
       "    </tr>\n",
       "  </tbody>\n",
       "</table>\n",
       "<p>3213 rows × 5 columns</p>\n",
       "</div>"
      ],
      "text/plain": [
       "      user_id  month  calls_count_duration  calls_sum_duration  messages_count\n",
       "0        1000      5                  22.0               159.0            22.0\n",
       "1        1000      6                  43.0               172.0            60.0\n",
       "2        1000      7                  47.0               340.0            75.0\n",
       "3        1000      8                  52.0               408.0            81.0\n",
       "4        1000      9                  58.0               466.0            57.0\n",
       "...       ...    ...                   ...                 ...             ...\n",
       "3208     1489      8                   NaN                 NaN            17.0\n",
       "3209     1489      9                   NaN                 NaN            32.0\n",
       "3210     1489     10                   NaN                 NaN            21.0\n",
       "3211     1489     11                   NaN                 NaN            20.0\n",
       "3212     1489     12                   NaN                 NaN            35.0\n",
       "\n",
       "[3213 rows x 5 columns]"
      ]
     },
     "execution_count": 43,
     "metadata": {},
     "output_type": "execute_result"
    }
   ],
   "source": [
    "result"
   ]
  },
  {
   "cell_type": "markdown",
   "metadata": {},
   "source": [
    "#### Данные по интернет-сессиям (users_internet)"
   ]
  },
  {
   "cell_type": "markdown",
   "metadata": {},
   "source": [
    "Первые действия аналогичны users_calls (функцию не делал поскольку в каждой паре таблиц есть особенности - округление трафика в users_internet, применение двух функций агрегирования в users_calls и т.д.)"
   ]
  },
  {
   "cell_type": "code",
   "execution_count": 44,
   "metadata": {},
   "outputs": [],
   "source": [
    "users_internet = users.merge(internet, on='user_id')"
   ]
  },
  {
   "cell_type": "code",
   "execution_count": 45,
   "metadata": {},
   "outputs": [
    {
     "name": "stdout",
     "output_type": "stream",
     "text": [
      "<class 'pandas.core.frame.DataFrame'>\n",
      "Int64Index: 149396 entries, 0 to 149395\n",
      "Data columns (total 11 columns):\n",
      " #   Column        Non-Null Count   Dtype         \n",
      "---  ------        --------------   -----         \n",
      " 0   user_id       149396 non-null  int64         \n",
      " 1   age           149396 non-null  int64         \n",
      " 2   churn_date    7748 non-null    datetime64[ns]\n",
      " 3   city          149396 non-null  object        \n",
      " 4   first_name    149396 non-null  object        \n",
      " 5   last_name     149396 non-null  object        \n",
      " 6   reg_date      149396 non-null  datetime64[ns]\n",
      " 7   tariff        149396 non-null  object        \n",
      " 8   id            149396 non-null  object        \n",
      " 9   mb_used       149396 non-null  float64       \n",
      " 10  session_date  149396 non-null  datetime64[ns]\n",
      "dtypes: datetime64[ns](3), float64(1), int64(2), object(5)\n",
      "memory usage: 13.7+ MB\n"
     ]
    }
   ],
   "source": [
    "users_internet.info()"
   ]
  },
  {
   "cell_type": "code",
   "execution_count": 46,
   "metadata": {},
   "outputs": [],
   "source": [
    "users_internet['month'] = users_internet['session_date'].dt.month"
   ]
  },
  {
   "cell_type": "code",
   "execution_count": 47,
   "metadata": {},
   "outputs": [],
   "source": [
    "users_internet_stat = users_internet.pivot_table(index=['user_id', 'month'], values='mb_used', aggfunc='sum')"
   ]
  },
  {
   "cell_type": "code",
   "execution_count": 48,
   "metadata": {},
   "outputs": [],
   "source": [
    "# округлим значения трафика в большую сторону до гигабайта\n",
    "users_internet_stat = np.ceil(users_internet_stat / 1024) * 1024"
   ]
  },
  {
   "cell_type": "code",
   "execution_count": 49,
   "metadata": {},
   "outputs": [
    {
     "data": {
      "text/html": [
       "<div>\n",
       "<style scoped>\n",
       "    .dataframe tbody tr th:only-of-type {\n",
       "        vertical-align: middle;\n",
       "    }\n",
       "\n",
       "    .dataframe tbody tr th {\n",
       "        vertical-align: top;\n",
       "    }\n",
       "\n",
       "    .dataframe thead th {\n",
       "        text-align: right;\n",
       "    }\n",
       "</style>\n",
       "<table border=\"1\" class=\"dataframe\">\n",
       "  <thead>\n",
       "    <tr style=\"text-align: right;\">\n",
       "      <th></th>\n",
       "      <th></th>\n",
       "      <th>mb_used</th>\n",
       "    </tr>\n",
       "    <tr>\n",
       "      <th>user_id</th>\n",
       "      <th>month</th>\n",
       "      <th></th>\n",
       "    </tr>\n",
       "  </thead>\n",
       "  <tbody>\n",
       "    <tr>\n",
       "      <th rowspan=\"5\" valign=\"top\">1000</th>\n",
       "      <th>5</th>\n",
       "      <td>3072.0</td>\n",
       "    </tr>\n",
       "    <tr>\n",
       "      <th>6</th>\n",
       "      <td>23552.0</td>\n",
       "    </tr>\n",
       "    <tr>\n",
       "      <th>7</th>\n",
       "      <td>14336.0</td>\n",
       "    </tr>\n",
       "    <tr>\n",
       "      <th>8</th>\n",
       "      <td>14336.0</td>\n",
       "    </tr>\n",
       "    <tr>\n",
       "      <th>9</th>\n",
       "      <td>15360.0</td>\n",
       "    </tr>\n",
       "    <tr>\n",
       "      <th>...</th>\n",
       "      <th>...</th>\n",
       "      <td>...</td>\n",
       "    </tr>\n",
       "    <tr>\n",
       "      <th>1498</th>\n",
       "      <th>10</th>\n",
       "      <td>21504.0</td>\n",
       "    </tr>\n",
       "    <tr>\n",
       "      <th rowspan=\"4\" valign=\"top\">1499</th>\n",
       "      <th>9</th>\n",
       "      <td>2048.0</td>\n",
       "    </tr>\n",
       "    <tr>\n",
       "      <th>10</th>\n",
       "      <td>18432.0</td>\n",
       "    </tr>\n",
       "    <tr>\n",
       "      <th>11</th>\n",
       "      <td>18432.0</td>\n",
       "    </tr>\n",
       "    <tr>\n",
       "      <th>12</th>\n",
       "      <td>13312.0</td>\n",
       "    </tr>\n",
       "  </tbody>\n",
       "</table>\n",
       "<p>3203 rows × 1 columns</p>\n",
       "</div>"
      ],
      "text/plain": [
       "               mb_used\n",
       "user_id month         \n",
       "1000    5       3072.0\n",
       "        6      23552.0\n",
       "        7      14336.0\n",
       "        8      14336.0\n",
       "        9      15360.0\n",
       "...                ...\n",
       "1498    10     21504.0\n",
       "1499    9       2048.0\n",
       "        10     18432.0\n",
       "        11     18432.0\n",
       "        12     13312.0\n",
       "\n",
       "[3203 rows x 1 columns]"
      ]
     },
     "execution_count": 49,
     "metadata": {},
     "output_type": "execute_result"
    }
   ],
   "source": [
    "users_internet_stat"
   ]
  },
  {
   "cell_type": "code",
   "execution_count": 50,
   "metadata": {},
   "outputs": [],
   "source": [
    "# используем outer join, т.к. в некоторые месяцы мог использоваться только интернет, но не звонки и сообщения\n",
    "result = result.merge(users_internet_stat, on=['user_id', 'month'], how='outer')"
   ]
  },
  {
   "cell_type": "code",
   "execution_count": 51,
   "metadata": {
    "scrolled": false
   },
   "outputs": [
    {
     "data": {
      "text/html": [
       "<div>\n",
       "<style scoped>\n",
       "    .dataframe tbody tr th:only-of-type {\n",
       "        vertical-align: middle;\n",
       "    }\n",
       "\n",
       "    .dataframe tbody tr th {\n",
       "        vertical-align: top;\n",
       "    }\n",
       "\n",
       "    .dataframe thead th {\n",
       "        text-align: right;\n",
       "    }\n",
       "</style>\n",
       "<table border=\"1\" class=\"dataframe\">\n",
       "  <thead>\n",
       "    <tr style=\"text-align: right;\">\n",
       "      <th></th>\n",
       "      <th>user_id</th>\n",
       "      <th>month</th>\n",
       "      <th>calls_count_duration</th>\n",
       "      <th>calls_sum_duration</th>\n",
       "      <th>messages_count</th>\n",
       "      <th>mb_used</th>\n",
       "    </tr>\n",
       "  </thead>\n",
       "  <tbody>\n",
       "    <tr>\n",
       "      <th>0</th>\n",
       "      <td>1000</td>\n",
       "      <td>5</td>\n",
       "      <td>22.0</td>\n",
       "      <td>159.0</td>\n",
       "      <td>22.0</td>\n",
       "      <td>3072.0</td>\n",
       "    </tr>\n",
       "    <tr>\n",
       "      <th>1</th>\n",
       "      <td>1000</td>\n",
       "      <td>6</td>\n",
       "      <td>43.0</td>\n",
       "      <td>172.0</td>\n",
       "      <td>60.0</td>\n",
       "      <td>23552.0</td>\n",
       "    </tr>\n",
       "    <tr>\n",
       "      <th>2</th>\n",
       "      <td>1000</td>\n",
       "      <td>7</td>\n",
       "      <td>47.0</td>\n",
       "      <td>340.0</td>\n",
       "      <td>75.0</td>\n",
       "      <td>14336.0</td>\n",
       "    </tr>\n",
       "    <tr>\n",
       "      <th>3</th>\n",
       "      <td>1000</td>\n",
       "      <td>8</td>\n",
       "      <td>52.0</td>\n",
       "      <td>408.0</td>\n",
       "      <td>81.0</td>\n",
       "      <td>14336.0</td>\n",
       "    </tr>\n",
       "    <tr>\n",
       "      <th>4</th>\n",
       "      <td>1000</td>\n",
       "      <td>9</td>\n",
       "      <td>58.0</td>\n",
       "      <td>466.0</td>\n",
       "      <td>57.0</td>\n",
       "      <td>15360.0</td>\n",
       "    </tr>\n",
       "    <tr>\n",
       "      <th>...</th>\n",
       "      <td>...</td>\n",
       "      <td>...</td>\n",
       "      <td>...</td>\n",
       "      <td>...</td>\n",
       "      <td>...</td>\n",
       "      <td>...</td>\n",
       "    </tr>\n",
       "    <tr>\n",
       "      <th>3209</th>\n",
       "      <td>1489</td>\n",
       "      <td>9</td>\n",
       "      <td>NaN</td>\n",
       "      <td>NaN</td>\n",
       "      <td>32.0</td>\n",
       "      <td>17408.0</td>\n",
       "    </tr>\n",
       "    <tr>\n",
       "      <th>3210</th>\n",
       "      <td>1489</td>\n",
       "      <td>10</td>\n",
       "      <td>NaN</td>\n",
       "      <td>NaN</td>\n",
       "      <td>21.0</td>\n",
       "      <td>20480.0</td>\n",
       "    </tr>\n",
       "    <tr>\n",
       "      <th>3211</th>\n",
       "      <td>1489</td>\n",
       "      <td>11</td>\n",
       "      <td>NaN</td>\n",
       "      <td>NaN</td>\n",
       "      <td>20.0</td>\n",
       "      <td>18432.0</td>\n",
       "    </tr>\n",
       "    <tr>\n",
       "      <th>3212</th>\n",
       "      <td>1489</td>\n",
       "      <td>12</td>\n",
       "      <td>NaN</td>\n",
       "      <td>NaN</td>\n",
       "      <td>35.0</td>\n",
       "      <td>17408.0</td>\n",
       "    </tr>\n",
       "    <tr>\n",
       "      <th>3213</th>\n",
       "      <td>1476</td>\n",
       "      <td>4</td>\n",
       "      <td>NaN</td>\n",
       "      <td>NaN</td>\n",
       "      <td>NaN</td>\n",
       "      <td>1024.0</td>\n",
       "    </tr>\n",
       "  </tbody>\n",
       "</table>\n",
       "<p>3214 rows × 6 columns</p>\n",
       "</div>"
      ],
      "text/plain": [
       "      user_id  month  calls_count_duration  calls_sum_duration  \\\n",
       "0        1000      5                  22.0               159.0   \n",
       "1        1000      6                  43.0               172.0   \n",
       "2        1000      7                  47.0               340.0   \n",
       "3        1000      8                  52.0               408.0   \n",
       "4        1000      9                  58.0               466.0   \n",
       "...       ...    ...                   ...                 ...   \n",
       "3209     1489      9                   NaN                 NaN   \n",
       "3210     1489     10                   NaN                 NaN   \n",
       "3211     1489     11                   NaN                 NaN   \n",
       "3212     1489     12                   NaN                 NaN   \n",
       "3213     1476      4                   NaN                 NaN   \n",
       "\n",
       "      messages_count  mb_used  \n",
       "0               22.0   3072.0  \n",
       "1               60.0  23552.0  \n",
       "2               75.0  14336.0  \n",
       "3               81.0  14336.0  \n",
       "4               57.0  15360.0  \n",
       "...              ...      ...  \n",
       "3209            32.0  17408.0  \n",
       "3210            21.0  20480.0  \n",
       "3211            20.0  18432.0  \n",
       "3212            35.0  17408.0  \n",
       "3213             NaN   1024.0  \n",
       "\n",
       "[3214 rows x 6 columns]"
      ]
     },
     "execution_count": 51,
     "metadata": {},
     "output_type": "execute_result"
    }
   ],
   "source": [
    "result"
   ]
  },
  {
   "cell_type": "markdown",
   "metadata": {},
   "source": [
    "Видим наличие пропусков в данных (некоторые пользователи в отдельные месяцы пользовались только одной из услуг). Заполним пропуски нулями и приведем типы данных к int, т.к. вещественных значений в таблице нет."
   ]
  },
  {
   "cell_type": "code",
   "execution_count": 52,
   "metadata": {},
   "outputs": [],
   "source": [
    "result = result.fillna(0).astype('int')"
   ]
  },
  {
   "cell_type": "code",
   "execution_count": 53,
   "metadata": {},
   "outputs": [
    {
     "data": {
      "text/html": [
       "<div>\n",
       "<style scoped>\n",
       "    .dataframe tbody tr th:only-of-type {\n",
       "        vertical-align: middle;\n",
       "    }\n",
       "\n",
       "    .dataframe tbody tr th {\n",
       "        vertical-align: top;\n",
       "    }\n",
       "\n",
       "    .dataframe thead th {\n",
       "        text-align: right;\n",
       "    }\n",
       "</style>\n",
       "<table border=\"1\" class=\"dataframe\">\n",
       "  <thead>\n",
       "    <tr style=\"text-align: right;\">\n",
       "      <th></th>\n",
       "      <th>user_id</th>\n",
       "      <th>month</th>\n",
       "      <th>calls_count_duration</th>\n",
       "      <th>calls_sum_duration</th>\n",
       "      <th>messages_count</th>\n",
       "      <th>mb_used</th>\n",
       "    </tr>\n",
       "  </thead>\n",
       "  <tbody>\n",
       "    <tr>\n",
       "      <th>0</th>\n",
       "      <td>1000</td>\n",
       "      <td>5</td>\n",
       "      <td>22</td>\n",
       "      <td>159</td>\n",
       "      <td>22</td>\n",
       "      <td>3072</td>\n",
       "    </tr>\n",
       "    <tr>\n",
       "      <th>1</th>\n",
       "      <td>1000</td>\n",
       "      <td>6</td>\n",
       "      <td>43</td>\n",
       "      <td>172</td>\n",
       "      <td>60</td>\n",
       "      <td>23552</td>\n",
       "    </tr>\n",
       "    <tr>\n",
       "      <th>2</th>\n",
       "      <td>1000</td>\n",
       "      <td>7</td>\n",
       "      <td>47</td>\n",
       "      <td>340</td>\n",
       "      <td>75</td>\n",
       "      <td>14336</td>\n",
       "    </tr>\n",
       "    <tr>\n",
       "      <th>3</th>\n",
       "      <td>1000</td>\n",
       "      <td>8</td>\n",
       "      <td>52</td>\n",
       "      <td>408</td>\n",
       "      <td>81</td>\n",
       "      <td>14336</td>\n",
       "    </tr>\n",
       "    <tr>\n",
       "      <th>4</th>\n",
       "      <td>1000</td>\n",
       "      <td>9</td>\n",
       "      <td>58</td>\n",
       "      <td>466</td>\n",
       "      <td>57</td>\n",
       "      <td>15360</td>\n",
       "    </tr>\n",
       "    <tr>\n",
       "      <th>...</th>\n",
       "      <td>...</td>\n",
       "      <td>...</td>\n",
       "      <td>...</td>\n",
       "      <td>...</td>\n",
       "      <td>...</td>\n",
       "      <td>...</td>\n",
       "    </tr>\n",
       "    <tr>\n",
       "      <th>3209</th>\n",
       "      <td>1489</td>\n",
       "      <td>9</td>\n",
       "      <td>0</td>\n",
       "      <td>0</td>\n",
       "      <td>32</td>\n",
       "      <td>17408</td>\n",
       "    </tr>\n",
       "    <tr>\n",
       "      <th>3210</th>\n",
       "      <td>1489</td>\n",
       "      <td>10</td>\n",
       "      <td>0</td>\n",
       "      <td>0</td>\n",
       "      <td>21</td>\n",
       "      <td>20480</td>\n",
       "    </tr>\n",
       "    <tr>\n",
       "      <th>3211</th>\n",
       "      <td>1489</td>\n",
       "      <td>11</td>\n",
       "      <td>0</td>\n",
       "      <td>0</td>\n",
       "      <td>20</td>\n",
       "      <td>18432</td>\n",
       "    </tr>\n",
       "    <tr>\n",
       "      <th>3212</th>\n",
       "      <td>1489</td>\n",
       "      <td>12</td>\n",
       "      <td>0</td>\n",
       "      <td>0</td>\n",
       "      <td>35</td>\n",
       "      <td>17408</td>\n",
       "    </tr>\n",
       "    <tr>\n",
       "      <th>3213</th>\n",
       "      <td>1476</td>\n",
       "      <td>4</td>\n",
       "      <td>0</td>\n",
       "      <td>0</td>\n",
       "      <td>0</td>\n",
       "      <td>1024</td>\n",
       "    </tr>\n",
       "  </tbody>\n",
       "</table>\n",
       "<p>3214 rows × 6 columns</p>\n",
       "</div>"
      ],
      "text/plain": [
       "      user_id  month  calls_count_duration  calls_sum_duration  \\\n",
       "0        1000      5                    22                 159   \n",
       "1        1000      6                    43                 172   \n",
       "2        1000      7                    47                 340   \n",
       "3        1000      8                    52                 408   \n",
       "4        1000      9                    58                 466   \n",
       "...       ...    ...                   ...                 ...   \n",
       "3209     1489      9                     0                   0   \n",
       "3210     1489     10                     0                   0   \n",
       "3211     1489     11                     0                   0   \n",
       "3212     1489     12                     0                   0   \n",
       "3213     1476      4                     0                   0   \n",
       "\n",
       "      messages_count  mb_used  \n",
       "0                 22     3072  \n",
       "1                 60    23552  \n",
       "2                 75    14336  \n",
       "3                 81    14336  \n",
       "4                 57    15360  \n",
       "...              ...      ...  \n",
       "3209              32    17408  \n",
       "3210              21    20480  \n",
       "3211              20    18432  \n",
       "3212              35    17408  \n",
       "3213               0     1024  \n",
       "\n",
       "[3214 rows x 6 columns]"
      ]
     },
     "execution_count": 53,
     "metadata": {},
     "output_type": "execute_result"
    }
   ],
   "source": [
    "result"
   ]
  },
  {
   "cell_type": "markdown",
   "metadata": {},
   "source": [
    "Данные корректны."
   ]
  },
  {
   "cell_type": "markdown",
   "metadata": {},
   "source": [
    "#### Расчет выручки с пользователя"
   ]
  },
  {
   "cell_type": "markdown",
   "metadata": {},
   "source": [
    "Добавим в таблицу данные по тарифу, его параметрам и городу пользователей"
   ]
  },
  {
   "cell_type": "code",
   "execution_count": 54,
   "metadata": {},
   "outputs": [],
   "source": [
    "result = result.merge(users[['user_id', 'tariff', 'city']], on='user_id').rename(columns={'tariff': 'tariff_name'}).merge(tariffs, on='tariff_name')"
   ]
  },
  {
   "cell_type": "code",
   "execution_count": 55,
   "metadata": {},
   "outputs": [
    {
     "data": {
      "text/html": [
       "<div>\n",
       "<style scoped>\n",
       "    .dataframe tbody tr th:only-of-type {\n",
       "        vertical-align: middle;\n",
       "    }\n",
       "\n",
       "    .dataframe tbody tr th {\n",
       "        vertical-align: top;\n",
       "    }\n",
       "\n",
       "    .dataframe thead th {\n",
       "        text-align: right;\n",
       "    }\n",
       "</style>\n",
       "<table border=\"1\" class=\"dataframe\">\n",
       "  <thead>\n",
       "    <tr style=\"text-align: right;\">\n",
       "      <th></th>\n",
       "      <th>user_id</th>\n",
       "      <th>month</th>\n",
       "      <th>calls_count_duration</th>\n",
       "      <th>calls_sum_duration</th>\n",
       "      <th>messages_count</th>\n",
       "      <th>mb_used</th>\n",
       "      <th>tariff_name</th>\n",
       "      <th>city</th>\n",
       "      <th>messages_included</th>\n",
       "      <th>mb_per_month_included</th>\n",
       "      <th>minutes_included</th>\n",
       "      <th>rub_monthly_fee</th>\n",
       "      <th>rub_per_gb</th>\n",
       "      <th>rub_per_message</th>\n",
       "      <th>rub_per_minute</th>\n",
       "    </tr>\n",
       "  </thead>\n",
       "  <tbody>\n",
       "    <tr>\n",
       "      <th>1000</th>\n",
       "      <td>1005</td>\n",
       "      <td>7</td>\n",
       "      <td>77</td>\n",
       "      <td>569</td>\n",
       "      <td>56</td>\n",
       "      <td>8192</td>\n",
       "      <td>smart</td>\n",
       "      <td>Набережные Челны</td>\n",
       "      <td>50</td>\n",
       "      <td>15360</td>\n",
       "      <td>500</td>\n",
       "      <td>550</td>\n",
       "      <td>200</td>\n",
       "      <td>3</td>\n",
       "      <td>3</td>\n",
       "    </tr>\n",
       "    <tr>\n",
       "      <th>2752</th>\n",
       "      <td>1401</td>\n",
       "      <td>6</td>\n",
       "      <td>61</td>\n",
       "      <td>463</td>\n",
       "      <td>32</td>\n",
       "      <td>10240</td>\n",
       "      <td>smart</td>\n",
       "      <td>Москва</td>\n",
       "      <td>50</td>\n",
       "      <td>15360</td>\n",
       "      <td>500</td>\n",
       "      <td>550</td>\n",
       "      <td>200</td>\n",
       "      <td>3</td>\n",
       "      <td>3</td>\n",
       "    </tr>\n",
       "    <tr>\n",
       "      <th>2884</th>\n",
       "      <td>1427</td>\n",
       "      <td>12</td>\n",
       "      <td>82</td>\n",
       "      <td>608</td>\n",
       "      <td>9</td>\n",
       "      <td>12288</td>\n",
       "      <td>smart</td>\n",
       "      <td>Казань</td>\n",
       "      <td>50</td>\n",
       "      <td>15360</td>\n",
       "      <td>500</td>\n",
       "      <td>550</td>\n",
       "      <td>200</td>\n",
       "      <td>3</td>\n",
       "      <td>3</td>\n",
       "    </tr>\n",
       "  </tbody>\n",
       "</table>\n",
       "</div>"
      ],
      "text/plain": [
       "      user_id  month  calls_count_duration  calls_sum_duration  \\\n",
       "1000     1005      7                    77                 569   \n",
       "2752     1401      6                    61                 463   \n",
       "2884     1427     12                    82                 608   \n",
       "\n",
       "      messages_count  mb_used tariff_name              city  \\\n",
       "1000              56     8192       smart  Набережные Челны   \n",
       "2752              32    10240       smart            Москва   \n",
       "2884               9    12288       smart            Казань   \n",
       "\n",
       "      messages_included  mb_per_month_included  minutes_included  \\\n",
       "1000                 50                  15360               500   \n",
       "2752                 50                  15360               500   \n",
       "2884                 50                  15360               500   \n",
       "\n",
       "      rub_monthly_fee  rub_per_gb  rub_per_message  rub_per_minute  \n",
       "1000              550         200                3               3  \n",
       "2752              550         200                3               3  \n",
       "2884              550         200                3               3  "
      ]
     },
     "execution_count": 55,
     "metadata": {},
     "output_type": "execute_result"
    }
   ],
   "source": [
    "result.sample(3)"
   ]
  },
  {
   "cell_type": "markdown",
   "metadata": {},
   "source": [
    "Создадим функцию для расчета выручки с пользователя"
   ]
  },
  {
   "cell_type": "code",
   "execution_count": 56,
   "metadata": {},
   "outputs": [],
   "source": [
    "def calc_revenue(row):\n",
    "    # базовая выручка - стоимость тарифа\n",
    "    revenue = row['rub_monthly_fee']\n",
    "    # проверяем превышение включенного в тариф интернет-трафика\n",
    "    if row['mb_per_month_included'] < row['mb_used']:\n",
    "        # делим без округления, т.к. использованный трафик уже округлен\n",
    "        revenue += row['rub_per_gb'] * ((row['mb_used'] - row['mb_per_month_included']) / 1024)\n",
    "    if row['messages_included'] < row['messages_count']:\n",
    "        revenue += row['rub_per_message'] * (row['messages_count'] - row['messages_included'])  \n",
    "    if row['minutes_included'] < row['calls_sum_duration']:\n",
    "        revenue += row['rub_per_minute'] * (row['calls_sum_duration'] - row['minutes_included'])\n",
    "    return int(revenue)"
   ]
  },
  {
   "cell_type": "markdown",
   "metadata": {},
   "source": [
    "<div class=\"alert alert-success\">\n",
    "<h1> Комментарий ревьюера 👍</h1>\n",
    "\n",
    "Отличная функция!\n",
    "</div>"
   ]
  },
  {
   "cell_type": "code",
   "execution_count": 57,
   "metadata": {},
   "outputs": [
    {
     "data": {
      "text/html": [
       "<div>\n",
       "<style scoped>\n",
       "    .dataframe tbody tr th:only-of-type {\n",
       "        vertical-align: middle;\n",
       "    }\n",
       "\n",
       "    .dataframe tbody tr th {\n",
       "        vertical-align: top;\n",
       "    }\n",
       "\n",
       "    .dataframe thead th {\n",
       "        text-align: right;\n",
       "    }\n",
       "</style>\n",
       "<table border=\"1\" class=\"dataframe\">\n",
       "  <thead>\n",
       "    <tr style=\"text-align: right;\">\n",
       "      <th></th>\n",
       "      <th>rub_monthly_fee</th>\n",
       "      <th>mb_per_month_included</th>\n",
       "      <th>mb_used</th>\n",
       "      <th>rub_per_gb</th>\n",
       "      <th>messages_included</th>\n",
       "      <th>messages_count</th>\n",
       "      <th>rub_per_message</th>\n",
       "      <th>minutes_included</th>\n",
       "      <th>calls_sum_duration</th>\n",
       "      <th>rub_per_minute</th>\n",
       "      <th>revenue</th>\n",
       "    </tr>\n",
       "  </thead>\n",
       "  <tbody>\n",
       "    <tr>\n",
       "      <th>0</th>\n",
       "      <td>1950</td>\n",
       "      <td>30720</td>\n",
       "      <td>1024</td>\n",
       "      <td>150</td>\n",
       "      <td>100</td>\n",
       "      <td>100</td>\n",
       "      <td>1</td>\n",
       "      <td>3000</td>\n",
       "      <td>1000</td>\n",
       "      <td>1</td>\n",
       "      <td>1950</td>\n",
       "    </tr>\n",
       "    <tr>\n",
       "      <th>1</th>\n",
       "      <td>500</td>\n",
       "      <td>15360</td>\n",
       "      <td>16384</td>\n",
       "      <td>200</td>\n",
       "      <td>50</td>\n",
       "      <td>60</td>\n",
       "      <td>3</td>\n",
       "      <td>500</td>\n",
       "      <td>501</td>\n",
       "      <td>3</td>\n",
       "      <td>733</td>\n",
       "    </tr>\n",
       "  </tbody>\n",
       "</table>\n",
       "</div>"
      ],
      "text/plain": [
       "   rub_monthly_fee  mb_per_month_included  mb_used  rub_per_gb  \\\n",
       "0             1950                  30720     1024         150   \n",
       "1              500                  15360    16384         200   \n",
       "\n",
       "   messages_included  messages_count  rub_per_message  minutes_included  \\\n",
       "0                100             100                1              3000   \n",
       "1                 50              60                3               500   \n",
       "\n",
       "   calls_sum_duration  rub_per_minute  revenue  \n",
       "0                1000               1     1950  \n",
       "1                 501               3      733  "
      ]
     },
     "execution_count": 57,
     "metadata": {},
     "output_type": "execute_result"
    }
   ],
   "source": [
    "# проверяем, что функция корректна на двух примерах\n",
    "# (когда пользователь не потратил больше включенного в пакет и потратил больше по всем позициям)\n",
    "test_data = pd.DataFrame({'rub_monthly_fee': [1950, 500], \n",
    "                          'mb_per_month_included': [30720, 15360],\n",
    "                          'mb_used': [1024, 16384],\n",
    "                          'rub_per_gb': [150, 200],\n",
    "                          'messages_included': [100, 50],\n",
    "                          'messages_count': [100, 60],\n",
    "                          'rub_per_message': [1, 3],\n",
    "                          'minutes_included': [3000, 500],\n",
    "                          'calls_sum_duration': [1000, 501],\n",
    "                          'rub_per_minute': [1, 3],\n",
    "                          'revenue': [1950, 733]})\n",
    "test_data"
   ]
  },
  {
   "cell_type": "code",
   "execution_count": 58,
   "metadata": {},
   "outputs": [],
   "source": [
    "assert calc_revenue(test_data.loc[0]) == test_data.loc[0]['revenue'], 'Некорректная работа функции'\n",
    "assert calc_revenue(test_data.loc[1]) == test_data.loc[1]['revenue'], 'Некорректная работа функции'"
   ]
  },
  {
   "cell_type": "markdown",
   "metadata": {},
   "source": [
    "Функция работает корректно. Применим ее к нашей таблице"
   ]
  },
  {
   "cell_type": "code",
   "execution_count": 59,
   "metadata": {},
   "outputs": [],
   "source": [
    "result['revenue'] = result.apply(calc_revenue, axis=1)"
   ]
  },
  {
   "cell_type": "code",
   "execution_count": 60,
   "metadata": {},
   "outputs": [
    {
     "data": {
      "text/html": [
       "<div>\n",
       "<style scoped>\n",
       "    .dataframe tbody tr th:only-of-type {\n",
       "        vertical-align: middle;\n",
       "    }\n",
       "\n",
       "    .dataframe tbody tr th {\n",
       "        vertical-align: top;\n",
       "    }\n",
       "\n",
       "    .dataframe thead th {\n",
       "        text-align: right;\n",
       "    }\n",
       "</style>\n",
       "<table border=\"1\" class=\"dataframe\">\n",
       "  <thead>\n",
       "    <tr style=\"text-align: right;\">\n",
       "      <th></th>\n",
       "      <th>user_id</th>\n",
       "      <th>month</th>\n",
       "      <th>calls_count_duration</th>\n",
       "      <th>calls_sum_duration</th>\n",
       "      <th>messages_count</th>\n",
       "      <th>mb_used</th>\n",
       "      <th>tariff_name</th>\n",
       "      <th>city</th>\n",
       "      <th>messages_included</th>\n",
       "      <th>mb_per_month_included</th>\n",
       "      <th>minutes_included</th>\n",
       "      <th>rub_monthly_fee</th>\n",
       "      <th>rub_per_gb</th>\n",
       "      <th>rub_per_message</th>\n",
       "      <th>rub_per_minute</th>\n",
       "      <th>revenue</th>\n",
       "    </tr>\n",
       "  </thead>\n",
       "  <tbody>\n",
       "    <tr>\n",
       "      <th>0</th>\n",
       "      <td>1000</td>\n",
       "      <td>5</td>\n",
       "      <td>22</td>\n",
       "      <td>159</td>\n",
       "      <td>22</td>\n",
       "      <td>3072</td>\n",
       "      <td>ultra</td>\n",
       "      <td>Краснодар</td>\n",
       "      <td>1000</td>\n",
       "      <td>30720</td>\n",
       "      <td>3000</td>\n",
       "      <td>1950</td>\n",
       "      <td>150</td>\n",
       "      <td>1</td>\n",
       "      <td>1</td>\n",
       "      <td>1950</td>\n",
       "    </tr>\n",
       "    <tr>\n",
       "      <th>1</th>\n",
       "      <td>1000</td>\n",
       "      <td>6</td>\n",
       "      <td>43</td>\n",
       "      <td>172</td>\n",
       "      <td>60</td>\n",
       "      <td>23552</td>\n",
       "      <td>ultra</td>\n",
       "      <td>Краснодар</td>\n",
       "      <td>1000</td>\n",
       "      <td>30720</td>\n",
       "      <td>3000</td>\n",
       "      <td>1950</td>\n",
       "      <td>150</td>\n",
       "      <td>1</td>\n",
       "      <td>1</td>\n",
       "      <td>1950</td>\n",
       "    </tr>\n",
       "    <tr>\n",
       "      <th>2</th>\n",
       "      <td>1000</td>\n",
       "      <td>7</td>\n",
       "      <td>47</td>\n",
       "      <td>340</td>\n",
       "      <td>75</td>\n",
       "      <td>14336</td>\n",
       "      <td>ultra</td>\n",
       "      <td>Краснодар</td>\n",
       "      <td>1000</td>\n",
       "      <td>30720</td>\n",
       "      <td>3000</td>\n",
       "      <td>1950</td>\n",
       "      <td>150</td>\n",
       "      <td>1</td>\n",
       "      <td>1</td>\n",
       "      <td>1950</td>\n",
       "    </tr>\n",
       "    <tr>\n",
       "      <th>3</th>\n",
       "      <td>1000</td>\n",
       "      <td>8</td>\n",
       "      <td>52</td>\n",
       "      <td>408</td>\n",
       "      <td>81</td>\n",
       "      <td>14336</td>\n",
       "      <td>ultra</td>\n",
       "      <td>Краснодар</td>\n",
       "      <td>1000</td>\n",
       "      <td>30720</td>\n",
       "      <td>3000</td>\n",
       "      <td>1950</td>\n",
       "      <td>150</td>\n",
       "      <td>1</td>\n",
       "      <td>1</td>\n",
       "      <td>1950</td>\n",
       "    </tr>\n",
       "    <tr>\n",
       "      <th>4</th>\n",
       "      <td>1000</td>\n",
       "      <td>9</td>\n",
       "      <td>58</td>\n",
       "      <td>466</td>\n",
       "      <td>57</td>\n",
       "      <td>15360</td>\n",
       "      <td>ultra</td>\n",
       "      <td>Краснодар</td>\n",
       "      <td>1000</td>\n",
       "      <td>30720</td>\n",
       "      <td>3000</td>\n",
       "      <td>1950</td>\n",
       "      <td>150</td>\n",
       "      <td>1</td>\n",
       "      <td>1</td>\n",
       "      <td>1950</td>\n",
       "    </tr>\n",
       "    <tr>\n",
       "      <th>...</th>\n",
       "      <td>...</td>\n",
       "      <td>...</td>\n",
       "      <td>...</td>\n",
       "      <td>...</td>\n",
       "      <td>...</td>\n",
       "      <td>...</td>\n",
       "      <td>...</td>\n",
       "      <td>...</td>\n",
       "      <td>...</td>\n",
       "      <td>...</td>\n",
       "      <td>...</td>\n",
       "      <td>...</td>\n",
       "      <td>...</td>\n",
       "      <td>...</td>\n",
       "      <td>...</td>\n",
       "      <td>...</td>\n",
       "    </tr>\n",
       "    <tr>\n",
       "      <th>3209</th>\n",
       "      <td>1489</td>\n",
       "      <td>8</td>\n",
       "      <td>0</td>\n",
       "      <td>0</td>\n",
       "      <td>17</td>\n",
       "      <td>11264</td>\n",
       "      <td>smart</td>\n",
       "      <td>Санкт-Петербург</td>\n",
       "      <td>50</td>\n",
       "      <td>15360</td>\n",
       "      <td>500</td>\n",
       "      <td>550</td>\n",
       "      <td>200</td>\n",
       "      <td>3</td>\n",
       "      <td>3</td>\n",
       "      <td>550</td>\n",
       "    </tr>\n",
       "    <tr>\n",
       "      <th>3210</th>\n",
       "      <td>1489</td>\n",
       "      <td>9</td>\n",
       "      <td>0</td>\n",
       "      <td>0</td>\n",
       "      <td>32</td>\n",
       "      <td>17408</td>\n",
       "      <td>smart</td>\n",
       "      <td>Санкт-Петербург</td>\n",
       "      <td>50</td>\n",
       "      <td>15360</td>\n",
       "      <td>500</td>\n",
       "      <td>550</td>\n",
       "      <td>200</td>\n",
       "      <td>3</td>\n",
       "      <td>3</td>\n",
       "      <td>950</td>\n",
       "    </tr>\n",
       "    <tr>\n",
       "      <th>3211</th>\n",
       "      <td>1489</td>\n",
       "      <td>10</td>\n",
       "      <td>0</td>\n",
       "      <td>0</td>\n",
       "      <td>21</td>\n",
       "      <td>20480</td>\n",
       "      <td>smart</td>\n",
       "      <td>Санкт-Петербург</td>\n",
       "      <td>50</td>\n",
       "      <td>15360</td>\n",
       "      <td>500</td>\n",
       "      <td>550</td>\n",
       "      <td>200</td>\n",
       "      <td>3</td>\n",
       "      <td>3</td>\n",
       "      <td>1550</td>\n",
       "    </tr>\n",
       "    <tr>\n",
       "      <th>3212</th>\n",
       "      <td>1489</td>\n",
       "      <td>11</td>\n",
       "      <td>0</td>\n",
       "      <td>0</td>\n",
       "      <td>20</td>\n",
       "      <td>18432</td>\n",
       "      <td>smart</td>\n",
       "      <td>Санкт-Петербург</td>\n",
       "      <td>50</td>\n",
       "      <td>15360</td>\n",
       "      <td>500</td>\n",
       "      <td>550</td>\n",
       "      <td>200</td>\n",
       "      <td>3</td>\n",
       "      <td>3</td>\n",
       "      <td>1150</td>\n",
       "    </tr>\n",
       "    <tr>\n",
       "      <th>3213</th>\n",
       "      <td>1489</td>\n",
       "      <td>12</td>\n",
       "      <td>0</td>\n",
       "      <td>0</td>\n",
       "      <td>35</td>\n",
       "      <td>17408</td>\n",
       "      <td>smart</td>\n",
       "      <td>Санкт-Петербург</td>\n",
       "      <td>50</td>\n",
       "      <td>15360</td>\n",
       "      <td>500</td>\n",
       "      <td>550</td>\n",
       "      <td>200</td>\n",
       "      <td>3</td>\n",
       "      <td>3</td>\n",
       "      <td>950</td>\n",
       "    </tr>\n",
       "  </tbody>\n",
       "</table>\n",
       "<p>3214 rows × 16 columns</p>\n",
       "</div>"
      ],
      "text/plain": [
       "      user_id  month  calls_count_duration  calls_sum_duration  \\\n",
       "0        1000      5                    22                 159   \n",
       "1        1000      6                    43                 172   \n",
       "2        1000      7                    47                 340   \n",
       "3        1000      8                    52                 408   \n",
       "4        1000      9                    58                 466   \n",
       "...       ...    ...                   ...                 ...   \n",
       "3209     1489      8                     0                   0   \n",
       "3210     1489      9                     0                   0   \n",
       "3211     1489     10                     0                   0   \n",
       "3212     1489     11                     0                   0   \n",
       "3213     1489     12                     0                   0   \n",
       "\n",
       "      messages_count  mb_used tariff_name             city  messages_included  \\\n",
       "0                 22     3072       ultra        Краснодар               1000   \n",
       "1                 60    23552       ultra        Краснодар               1000   \n",
       "2                 75    14336       ultra        Краснодар               1000   \n",
       "3                 81    14336       ultra        Краснодар               1000   \n",
       "4                 57    15360       ultra        Краснодар               1000   \n",
       "...              ...      ...         ...              ...                ...   \n",
       "3209              17    11264       smart  Санкт-Петербург                 50   \n",
       "3210              32    17408       smart  Санкт-Петербург                 50   \n",
       "3211              21    20480       smart  Санкт-Петербург                 50   \n",
       "3212              20    18432       smart  Санкт-Петербург                 50   \n",
       "3213              35    17408       smart  Санкт-Петербург                 50   \n",
       "\n",
       "      mb_per_month_included  minutes_included  rub_monthly_fee  rub_per_gb  \\\n",
       "0                     30720              3000             1950         150   \n",
       "1                     30720              3000             1950         150   \n",
       "2                     30720              3000             1950         150   \n",
       "3                     30720              3000             1950         150   \n",
       "4                     30720              3000             1950         150   \n",
       "...                     ...               ...              ...         ...   \n",
       "3209                  15360               500              550         200   \n",
       "3210                  15360               500              550         200   \n",
       "3211                  15360               500              550         200   \n",
       "3212                  15360               500              550         200   \n",
       "3213                  15360               500              550         200   \n",
       "\n",
       "      rub_per_message  rub_per_minute  revenue  \n",
       "0                   1               1     1950  \n",
       "1                   1               1     1950  \n",
       "2                   1               1     1950  \n",
       "3                   1               1     1950  \n",
       "4                   1               1     1950  \n",
       "...               ...             ...      ...  \n",
       "3209                3               3      550  \n",
       "3210                3               3      950  \n",
       "3211                3               3     1550  \n",
       "3212                3               3     1150  \n",
       "3213                3               3      950  \n",
       "\n",
       "[3214 rows x 16 columns]"
      ]
     },
     "execution_count": 60,
     "metadata": {},
     "output_type": "execute_result"
    }
   ],
   "source": [
    "result"
   ]
  },
  {
   "cell_type": "markdown",
   "metadata": {},
   "source": [
    "Удалим столбцы, не используемые в дальнейшем анализе."
   ]
  },
  {
   "cell_type": "code",
   "execution_count": 61,
   "metadata": {},
   "outputs": [
    {
     "data": {
      "text/plain": [
       "['messages_included',\n",
       " 'mb_per_month_included',\n",
       " 'minutes_included',\n",
       " 'rub_monthly_fee',\n",
       " 'rub_per_gb',\n",
       " 'rub_per_message',\n",
       " 'rub_per_minute']"
      ]
     },
     "execution_count": 61,
     "metadata": {},
     "output_type": "execute_result"
    }
   ],
   "source": [
    "cols_to_drop = tariffs.columns.to_list()[:-1]\n",
    "cols_to_drop"
   ]
  },
  {
   "cell_type": "code",
   "execution_count": 62,
   "metadata": {},
   "outputs": [
    {
     "data": {
      "text/html": [
       "<div>\n",
       "<style scoped>\n",
       "    .dataframe tbody tr th:only-of-type {\n",
       "        vertical-align: middle;\n",
       "    }\n",
       "\n",
       "    .dataframe tbody tr th {\n",
       "        vertical-align: top;\n",
       "    }\n",
       "\n",
       "    .dataframe thead th {\n",
       "        text-align: right;\n",
       "    }\n",
       "</style>\n",
       "<table border=\"1\" class=\"dataframe\">\n",
       "  <thead>\n",
       "    <tr style=\"text-align: right;\">\n",
       "      <th></th>\n",
       "      <th>user_id</th>\n",
       "      <th>month</th>\n",
       "      <th>calls_count_duration</th>\n",
       "      <th>calls_sum_duration</th>\n",
       "      <th>messages_count</th>\n",
       "      <th>mb_used</th>\n",
       "      <th>tariff_name</th>\n",
       "      <th>city</th>\n",
       "      <th>revenue</th>\n",
       "    </tr>\n",
       "  </thead>\n",
       "  <tbody>\n",
       "    <tr>\n",
       "      <th>0</th>\n",
       "      <td>1000</td>\n",
       "      <td>5</td>\n",
       "      <td>22</td>\n",
       "      <td>159</td>\n",
       "      <td>22</td>\n",
       "      <td>3072</td>\n",
       "      <td>ultra</td>\n",
       "      <td>Краснодар</td>\n",
       "      <td>1950</td>\n",
       "    </tr>\n",
       "    <tr>\n",
       "      <th>1</th>\n",
       "      <td>1000</td>\n",
       "      <td>6</td>\n",
       "      <td>43</td>\n",
       "      <td>172</td>\n",
       "      <td>60</td>\n",
       "      <td>23552</td>\n",
       "      <td>ultra</td>\n",
       "      <td>Краснодар</td>\n",
       "      <td>1950</td>\n",
       "    </tr>\n",
       "    <tr>\n",
       "      <th>2</th>\n",
       "      <td>1000</td>\n",
       "      <td>7</td>\n",
       "      <td>47</td>\n",
       "      <td>340</td>\n",
       "      <td>75</td>\n",
       "      <td>14336</td>\n",
       "      <td>ultra</td>\n",
       "      <td>Краснодар</td>\n",
       "      <td>1950</td>\n",
       "    </tr>\n",
       "    <tr>\n",
       "      <th>3</th>\n",
       "      <td>1000</td>\n",
       "      <td>8</td>\n",
       "      <td>52</td>\n",
       "      <td>408</td>\n",
       "      <td>81</td>\n",
       "      <td>14336</td>\n",
       "      <td>ultra</td>\n",
       "      <td>Краснодар</td>\n",
       "      <td>1950</td>\n",
       "    </tr>\n",
       "    <tr>\n",
       "      <th>4</th>\n",
       "      <td>1000</td>\n",
       "      <td>9</td>\n",
       "      <td>58</td>\n",
       "      <td>466</td>\n",
       "      <td>57</td>\n",
       "      <td>15360</td>\n",
       "      <td>ultra</td>\n",
       "      <td>Краснодар</td>\n",
       "      <td>1950</td>\n",
       "    </tr>\n",
       "    <tr>\n",
       "      <th>...</th>\n",
       "      <td>...</td>\n",
       "      <td>...</td>\n",
       "      <td>...</td>\n",
       "      <td>...</td>\n",
       "      <td>...</td>\n",
       "      <td>...</td>\n",
       "      <td>...</td>\n",
       "      <td>...</td>\n",
       "      <td>...</td>\n",
       "    </tr>\n",
       "    <tr>\n",
       "      <th>3209</th>\n",
       "      <td>1489</td>\n",
       "      <td>8</td>\n",
       "      <td>0</td>\n",
       "      <td>0</td>\n",
       "      <td>17</td>\n",
       "      <td>11264</td>\n",
       "      <td>smart</td>\n",
       "      <td>Санкт-Петербург</td>\n",
       "      <td>550</td>\n",
       "    </tr>\n",
       "    <tr>\n",
       "      <th>3210</th>\n",
       "      <td>1489</td>\n",
       "      <td>9</td>\n",
       "      <td>0</td>\n",
       "      <td>0</td>\n",
       "      <td>32</td>\n",
       "      <td>17408</td>\n",
       "      <td>smart</td>\n",
       "      <td>Санкт-Петербург</td>\n",
       "      <td>950</td>\n",
       "    </tr>\n",
       "    <tr>\n",
       "      <th>3211</th>\n",
       "      <td>1489</td>\n",
       "      <td>10</td>\n",
       "      <td>0</td>\n",
       "      <td>0</td>\n",
       "      <td>21</td>\n",
       "      <td>20480</td>\n",
       "      <td>smart</td>\n",
       "      <td>Санкт-Петербург</td>\n",
       "      <td>1550</td>\n",
       "    </tr>\n",
       "    <tr>\n",
       "      <th>3212</th>\n",
       "      <td>1489</td>\n",
       "      <td>11</td>\n",
       "      <td>0</td>\n",
       "      <td>0</td>\n",
       "      <td>20</td>\n",
       "      <td>18432</td>\n",
       "      <td>smart</td>\n",
       "      <td>Санкт-Петербург</td>\n",
       "      <td>1150</td>\n",
       "    </tr>\n",
       "    <tr>\n",
       "      <th>3213</th>\n",
       "      <td>1489</td>\n",
       "      <td>12</td>\n",
       "      <td>0</td>\n",
       "      <td>0</td>\n",
       "      <td>35</td>\n",
       "      <td>17408</td>\n",
       "      <td>smart</td>\n",
       "      <td>Санкт-Петербург</td>\n",
       "      <td>950</td>\n",
       "    </tr>\n",
       "  </tbody>\n",
       "</table>\n",
       "<p>3214 rows × 9 columns</p>\n",
       "</div>"
      ],
      "text/plain": [
       "      user_id  month  calls_count_duration  calls_sum_duration  \\\n",
       "0        1000      5                    22                 159   \n",
       "1        1000      6                    43                 172   \n",
       "2        1000      7                    47                 340   \n",
       "3        1000      8                    52                 408   \n",
       "4        1000      9                    58                 466   \n",
       "...       ...    ...                   ...                 ...   \n",
       "3209     1489      8                     0                   0   \n",
       "3210     1489      9                     0                   0   \n",
       "3211     1489     10                     0                   0   \n",
       "3212     1489     11                     0                   0   \n",
       "3213     1489     12                     0                   0   \n",
       "\n",
       "      messages_count  mb_used tariff_name             city  revenue  \n",
       "0                 22     3072       ultra        Краснодар     1950  \n",
       "1                 60    23552       ultra        Краснодар     1950  \n",
       "2                 75    14336       ultra        Краснодар     1950  \n",
       "3                 81    14336       ultra        Краснодар     1950  \n",
       "4                 57    15360       ultra        Краснодар     1950  \n",
       "...              ...      ...         ...              ...      ...  \n",
       "3209              17    11264       smart  Санкт-Петербург      550  \n",
       "3210              32    17408       smart  Санкт-Петербург      950  \n",
       "3211              21    20480       smart  Санкт-Петербург     1550  \n",
       "3212              20    18432       smart  Санкт-Петербург     1150  \n",
       "3213              35    17408       smart  Санкт-Петербург      950  \n",
       "\n",
       "[3214 rows x 9 columns]"
      ]
     },
     "execution_count": 62,
     "metadata": {},
     "output_type": "execute_result"
    }
   ],
   "source": [
    "result = result.drop(columns=cols_to_drop)\n",
    "result"
   ]
  },
  {
   "cell_type": "markdown",
   "metadata": {},
   "source": [
    "Таблица готова для дальнейшего анализа."
   ]
  },
  {
   "cell_type": "markdown",
   "metadata": {},
   "source": [
    "### Вывод по разделу"
   ]
  },
  {
   "cell_type": "markdown",
   "metadata": {},
   "source": [
    "В рамках предобработки данных было сделано:\n",
    "1. Изменены типы данных для признаков с датами.\n",
    "2. Округлены до минуты значения продолжительности телефонных звонков (как это делает оператор), после этого тип данных был изменен на целочисленный.\n",
    "3. Произведен поиск дубликатов в исследуемых таблицах - явные и неявные дубликаты не обнаружены.\n",
    "4. Произведен поиск аномалий и ошибок - ошибки в данных не обнаружены, выбивающиеся значения признаны корректными и не подлежащими обработке.\n",
    "5. Произведена генерация фичей: определены кол-во и продолжительность звонков, кол-во отправленных сообщений и объем использованного трафика (округленного до гигабайт) по месяцам, произведен расчет выручки с каждого пользователя.\n",
    "\n",
    "Все полученные результаты сведены в таблицу result."
   ]
  },
  {
   "cell_type": "markdown",
   "metadata": {},
   "source": [
    "## Анализ данных"
   ]
  },
  {
   "cell_type": "markdown",
   "metadata": {},
   "source": [
    "Опишите поведение клиентов оператора, исходя из выборки. \n",
    "1. Сколько минут разговора, сколько сообщений и какой объём интернет-трафика требуется пользователям каждого тарифа в месяц? \n",
    "2. Посчитайте среднее количество, дисперсию и стандартное отклонение. \n",
    "3. Постройте гистограммы. \n",
    "4. Опишите распределения."
   ]
  },
  {
   "cell_type": "markdown",
   "metadata": {},
   "source": [
    "### Общее описание данных"
   ]
  },
  {
   "cell_type": "markdown",
   "metadata": {},
   "source": [
    "Сначала посмотрим на обобщенные табличные данные по тарифам."
   ]
  },
  {
   "cell_type": "code",
   "execution_count": 63,
   "metadata": {},
   "outputs": [],
   "source": [
    "# устанавливаем формат вывода чисел до 2 знака после запятой\n",
    "pd.options.display.float_format = '{:,.2f}'.format"
   ]
  },
  {
   "cell_type": "code",
   "execution_count": 64,
   "metadata": {},
   "outputs": [
    {
     "data": {
      "text/html": [
       "<div>\n",
       "<style scoped>\n",
       "    .dataframe tbody tr th:only-of-type {\n",
       "        vertical-align: middle;\n",
       "    }\n",
       "\n",
       "    .dataframe tbody tr th {\n",
       "        vertical-align: top;\n",
       "    }\n",
       "\n",
       "    .dataframe thead th {\n",
       "        text-align: right;\n",
       "    }\n",
       "</style>\n",
       "<table border=\"1\" class=\"dataframe\">\n",
       "  <thead>\n",
       "    <tr style=\"text-align: right;\">\n",
       "      <th></th>\n",
       "      <th>tariff_name</th>\n",
       "      <th>smart</th>\n",
       "      <th>ultra</th>\n",
       "    </tr>\n",
       "  </thead>\n",
       "  <tbody>\n",
       "    <tr>\n",
       "      <th rowspan=\"6\" valign=\"top\">Продолжительность звонков, мин.</th>\n",
       "      <th>mean</th>\n",
       "      <td>417.93</td>\n",
       "      <td>526.62</td>\n",
       "    </tr>\n",
       "    <tr>\n",
       "      <th>median</th>\n",
       "      <td>422.00</td>\n",
       "      <td>518.00</td>\n",
       "    </tr>\n",
       "    <tr>\n",
       "      <th>std</th>\n",
       "      <td>190.31</td>\n",
       "      <td>317.61</td>\n",
       "    </tr>\n",
       "    <tr>\n",
       "      <th>var</th>\n",
       "      <td>36,219.32</td>\n",
       "      <td>100,873.63</td>\n",
       "    </tr>\n",
       "    <tr>\n",
       "      <th>max</th>\n",
       "      <td>1,435.00</td>\n",
       "      <td>1,673.00</td>\n",
       "    </tr>\n",
       "    <tr>\n",
       "      <th>sum</th>\n",
       "      <td>931,577.00</td>\n",
       "      <td>518,724.00</td>\n",
       "    </tr>\n",
       "    <tr>\n",
       "      <th rowspan=\"6\" valign=\"top\">Кол-во сообщений, шт.</th>\n",
       "      <th>mean</th>\n",
       "      <td>33.38</td>\n",
       "      <td>49.36</td>\n",
       "    </tr>\n",
       "    <tr>\n",
       "      <th>median</th>\n",
       "      <td>28.00</td>\n",
       "      <td>38.00</td>\n",
       "    </tr>\n",
       "    <tr>\n",
       "      <th>std</th>\n",
       "      <td>28.23</td>\n",
       "      <td>47.80</td>\n",
       "    </tr>\n",
       "    <tr>\n",
       "      <th>var</th>\n",
       "      <td>796.81</td>\n",
       "      <td>2,285.27</td>\n",
       "    </tr>\n",
       "    <tr>\n",
       "      <th>max</th>\n",
       "      <td>143.00</td>\n",
       "      <td>224.00</td>\n",
       "    </tr>\n",
       "    <tr>\n",
       "      <th>sum</th>\n",
       "      <td>74,413.00</td>\n",
       "      <td>48,623.00</td>\n",
       "    </tr>\n",
       "    <tr>\n",
       "      <th rowspan=\"6\" valign=\"top\">Объем трафика, МБ</th>\n",
       "      <th>mean</th>\n",
       "      <td>16,720.74</td>\n",
       "      <td>19,962.28</td>\n",
       "    </tr>\n",
       "    <tr>\n",
       "      <th>median</th>\n",
       "      <td>17,408.00</td>\n",
       "      <td>19,456.00</td>\n",
       "    </tr>\n",
       "    <tr>\n",
       "      <th>std</th>\n",
       "      <td>5,884.99</td>\n",
       "      <td>10,090.00</td>\n",
       "    </tr>\n",
       "    <tr>\n",
       "      <th>var</th>\n",
       "      <td>34,633,107.56</td>\n",
       "      <td>101,808,012.02</td>\n",
       "    </tr>\n",
       "    <tr>\n",
       "      <th>max</th>\n",
       "      <td>38,912.00</td>\n",
       "      <td>50,176.00</td>\n",
       "    </tr>\n",
       "    <tr>\n",
       "      <th>sum</th>\n",
       "      <td>37,270,528.00</td>\n",
       "      <td>19,662,848.00</td>\n",
       "    </tr>\n",
       "    <tr>\n",
       "      <th rowspan=\"6\" valign=\"top\">Выручка, руб.</th>\n",
       "      <th>mean</th>\n",
       "      <td>1,289.97</td>\n",
       "      <td>2,070.15</td>\n",
       "    </tr>\n",
       "    <tr>\n",
       "      <th>median</th>\n",
       "      <td>1,023.00</td>\n",
       "      <td>1,950.00</td>\n",
       "    </tr>\n",
       "    <tr>\n",
       "      <th>std</th>\n",
       "      <td>818.40</td>\n",
       "      <td>376.19</td>\n",
       "    </tr>\n",
       "    <tr>\n",
       "      <th>var</th>\n",
       "      <td>669,785.71</td>\n",
       "      <td>141,516.75</td>\n",
       "    </tr>\n",
       "    <tr>\n",
       "      <th>max</th>\n",
       "      <td>6,770.00</td>\n",
       "      <td>4,800.00</td>\n",
       "    </tr>\n",
       "    <tr>\n",
       "      <th>sum</th>\n",
       "      <td>2,875,351.00</td>\n",
       "      <td>2,039,100.00</td>\n",
       "    </tr>\n",
       "  </tbody>\n",
       "</table>\n",
       "</div>"
      ],
      "text/plain": [
       "tariff_name                                    smart          ultra\n",
       "Продолжительность звонков, мин. mean          417.93         526.62\n",
       "                                median        422.00         518.00\n",
       "                                std           190.31         317.61\n",
       "                                var        36,219.32     100,873.63\n",
       "                                max         1,435.00       1,673.00\n",
       "                                sum       931,577.00     518,724.00\n",
       "Кол-во сообщений, шт.           mean           33.38          49.36\n",
       "                                median         28.00          38.00\n",
       "                                std            28.23          47.80\n",
       "                                var           796.81       2,285.27\n",
       "                                max           143.00         224.00\n",
       "                                sum        74,413.00      48,623.00\n",
       "Объем трафика, МБ               mean       16,720.74      19,962.28\n",
       "                                median     17,408.00      19,456.00\n",
       "                                std         5,884.99      10,090.00\n",
       "                                var    34,633,107.56 101,808,012.02\n",
       "                                max        38,912.00      50,176.00\n",
       "                                sum    37,270,528.00  19,662,848.00\n",
       "Выручка, руб.                   mean        1,289.97       2,070.15\n",
       "                                median      1,023.00       1,950.00\n",
       "                                std           818.40         376.19\n",
       "                                var       669,785.71     141,516.75\n",
       "                                max         6,770.00       4,800.00\n",
       "                                sum     2,875,351.00   2,039,100.00"
      ]
     },
     "execution_count": 64,
     "metadata": {},
     "output_type": "execute_result"
    }
   ],
   "source": [
    "result.groupby('tariff_name')[['calls_sum_duration', 'messages_count', 'mb_used', 'revenue']].agg(['mean', 'median', 'std', 'var', 'max', 'sum']).rename(columns={'calls_sum_duration': 'Продолжительность звонков, мин.', 'messages_count': 'Кол-во сообщений, шт.', 'mb_used': 'Объем трафика, МБ','revenue': 'Выручка, руб.'}).T"
   ]
  },
  {
   "cell_type": "markdown",
   "metadata": {},
   "source": [
    "Заметно, что пользователи тарифного плана 'ultra' в среднем используют большее число минут, сообщений и интернет-трафика (в среднем на 20-30 % больше, чем пользователи тарифа 'smart'), однако существенно меньше объемов, включенных в тариф (49 сообщений из 1000, 19.5 ГБ из 30 ГБ, 526 минут из 3000 минут). Пользователи тарифа 'smart' используют практически все ресурсы (а в случае с интернет-трафиком даже не хватает), включенные в тариф (33 сообщения из 50, 16.3 ГБ из 15 ГБ, 418 минут из 500 минут).\n",
    "\n",
    "При этом, пользователи тарифа 'ultra' более разнородны, о чем свидетельствуют высокие значения стандартного отклонения по сравнению с пользователями тарифа smart (практически двухкратно больший разброс значений).\n",
    "\n",
    "В случае с выручкой, средний пользователь тарифа 'ultra' приносит практически в два раза больше среднего пользователя тарифа 'smart' (2070 против 1290 рублей в месяц), при этом в выручке гораздо более неоднородны пользователи тарифа 'smart' - стандартное отклонение составляет 818 рублей, что говорит о существенной разнице по выручке между пользователя внутри тарифа."
   ]
  },
  {
   "cell_type": "code",
   "execution_count": 65,
   "metadata": {},
   "outputs": [],
   "source": [
    "# создаем подвыборки для тарифов\n",
    "smart_result = result[result.tariff_name == 'smart']\n",
    "ultra_result = result[result.tariff_name == 'ultra']"
   ]
  },
  {
   "cell_type": "markdown",
   "metadata": {},
   "source": [
    "### Анализ кол-ва использованных минут по тарифам"
   ]
  },
  {
   "cell_type": "code",
   "execution_count": 66,
   "metadata": {},
   "outputs": [],
   "source": [
    "sns.set(rc={'figure.figsize':(14,8)})"
   ]
  },
  {
   "cell_type": "code",
   "execution_count": 67,
   "metadata": {},
   "outputs": [
    {
     "data": {
      "image/png": "[encoded data removed]",
      "text/plain": [
       "<Figure size 1008x576 with 1 Axes>"
      ]
     },
     "metadata": {},
     "output_type": "display_data"
    }
   ],
   "source": [
    "sns.distplot(smart_result['calls_sum_duration'], label='Пользователи тарифа \"smart\"', bins=40).set_title('Распределение использованных минут для пользователей разных тарифов');\n",
    "sns.distplot(ultra_result['calls_sum_duration'], label='Пользователи тарифа \"ultra\"', bins=40);\n",
    "plt.axvline(500, color='b', linestyle='--', label='Включенное число минут в тарифе \"smart\"')\n",
    "plt.axvline(3000, color='r', linestyle='--', label='Включенное число минут в тарифе \"ultra\"')\n",
    "plt.legend();"
   ]
  },
  {
   "cell_type": "markdown",
   "metadata": {},
   "source": [
    "На гистограмме видны виды распределения - нормальные, при этом в тарифе 'smart' оно значительно уже и вытянуто вверх, что говорит о низком стандартном отклонении относительно тарифа 'ultra', в котором разброс данных значительно больше.\n",
    "\n",
    "Заметно, что существенной части пользователей тарифа 'smart' не хватает включенных в тариф минут, у пользователей тарифа 'ultra' наоборот остается много неиспользованных минут.\n",
    "\n",
    "Отдельно стоит отметить пик в районе 0 минут для пользователей тарифа 'ultra', который не проявляется в тарифе 'smart' - это свидетельствует о том, что пользователи данного тарифа используют его не для общения по телефону, а, вероятно, только для выхода в интернет (возможно, для планшетов или аналогичных устройств)."
   ]
  },
  {
   "cell_type": "code",
   "execution_count": 68,
   "metadata": {},
   "outputs": [
    {
     "name": "stdout",
     "output_type": "stream",
     "text": [
      "Доля пользователей тарифа smart, которым в среднем не хватает включенных в тариф минут: 29.06%\n"
     ]
    }
   ],
   "source": [
    "# Оценим долю пользователей тарифа smart, которым в среднем не хватает минут, включенных в тариф.\n",
    "print(f'Доля пользователей тарифа smart, которым в среднем не хватает включенных в тариф минут: {(smart_result.groupby(\"user_id\")[\"calls_sum_duration\"].mean() > 500).sum() / smart_users_count:.2%}')"
   ]
  },
  {
   "cell_type": "markdown",
   "metadata": {},
   "source": [
    "Посмотрим на столбчатую диаграмму для разных тарифов по месяцам."
   ]
  },
  {
   "cell_type": "code",
   "execution_count": 69,
   "metadata": {
    "scrolled": false
   },
   "outputs": [
    {
     "data": {
      "image/png": "[encoded data removed]",
      "text/plain": [
       "<Figure size 1008x576 with 1 Axes>"
      ]
     },
     "metadata": {},
     "output_type": "display_data"
    }
   ],
   "source": [
    "ax = sns.barplot(x=smart_result['month'], y=smart_result['calls_sum_duration']);\n",
    "ax.set(xlabel='Месяц', ylabel='Кол-во минут')\n",
    "ax.set_title('Количество использованных минут пользователями тарифа smart по месяцам')\n",
    "plt.show()"
   ]
  },
  {
   "cell_type": "code",
   "execution_count": 70,
   "metadata": {},
   "outputs": [
    {
     "data": {
      "image/png": "[encoded data removed]",
      "text/plain": [
       "<Figure size 1008x576 with 1 Axes>"
      ]
     },
     "metadata": {},
     "output_type": "display_data"
    }
   ],
   "source": [
    "ax = sns.barplot(x=ultra_result['month'], y=ultra_result['calls_sum_duration']);\n",
    "ax.set(xlabel='Месяц', ylabel='Кол-во минут')\n",
    "ax.set_title('Количество использованных минут пользователями тарифа ultra по месяцам')\n",
    "plt.show()"
   ]
  },
  {
   "cell_type": "markdown",
   "metadata": {},
   "source": [
    "Видим, что за исключением января и февраля пользователи более-менее равномерно использовали минуты в течение года.\n",
    "Некоторые перепады заметны в январе для тарифа smart и в феврале для тарифа ultra."
   ]
  },
  {
   "cell_type": "markdown",
   "metadata": {},
   "source": [
    "### Анализ кол-ва использованных сообщений по тарифам"
   ]
  },
  {
   "cell_type": "markdown",
   "metadata": {},
   "source": [
    "На гистограмме для сохранения масштаба не приведено кол-во включенных в тариф ultra сообщений (1000)."
   ]
  },
  {
   "cell_type": "code",
   "execution_count": 71,
   "metadata": {},
   "outputs": [
    {
     "data": {
      "image/png": "[encoded data removed]",
      "text/plain": [
       "<Figure size 1008x576 with 1 Axes>"
      ]
     },
     "metadata": {},
     "output_type": "display_data"
    }
   ],
   "source": [
    "sns.distplot(smart_result['messages_count'], label='Пользователи тарифа \"smart\"', bins=30).set_title('Распределение использованных сообщений для пользователей разных тарифов');\n",
    "sns.distplot(ultra_result['messages_count'], label='Пользователи тарифа \"ultra\"', bins=40);\n",
    "plt.axvline(50, color='b', linestyle='--', label='Включенное число сообщений в тарифе \"smart\"')\n",
    "plt.legend();"
   ]
  },
  {
   "cell_type": "markdown",
   "metadata": {},
   "source": [
    "Распределения похожи на распределения Пуассона.\n",
    "\n",
    "Можно отметить, что части (меньшей) пользователей тарифа smart не хватает включенных в тариф сообщений, пользователям тарифа ultra хватает с огромным запасом (включено 1000 сообщений при максимальном значении - 224).\n",
    "\n",
    "Разброс значений также выше у пользователей тарифа smart, что подтверждает их неоднородность."
   ]
  },
  {
   "cell_type": "code",
   "execution_count": 72,
   "metadata": {},
   "outputs": [
    {
     "name": "stdout",
     "output_type": "stream",
     "text": [
      "Доля пользователей тарифа smart, которым в среднем не хватает включенных в тариф сообщений: 22.79%\n"
     ]
    }
   ],
   "source": [
    "# Оценим долю пользователей тарифа smart, которым в среднем не хватает сообщений, включенных в тариф.\n",
    "print(f'Доля пользователей тарифа smart, которым в среднем не хватает включенных в тариф сообщений: {(smart_result.groupby(\"user_id\")[\"messages_count\"].mean() > 50).sum() / smart_users_count:.2%}')"
   ]
  },
  {
   "cell_type": "markdown",
   "metadata": {},
   "source": [
    "Посмотрим на столбчатые диаграммы для разных тарифов по месяцам."
   ]
  },
  {
   "cell_type": "code",
   "execution_count": 73,
   "metadata": {},
   "outputs": [
    {
     "data": {
      "image/png": "[encoded data removed]",
      "text/plain": [
       "<Figure size 1008x576 with 1 Axes>"
      ]
     },
     "metadata": {},
     "output_type": "display_data"
    }
   ],
   "source": [
    "ax = sns.barplot(x=smart_result['month'], y=smart_result['messages_count']);\n",
    "ax.set(xlabel='Месяц', ylabel='Кол-во сообщений')\n",
    "ax.set_title('Количество использованных сообщений пользователями тарифа smart по месяцам')\n",
    "plt.show()"
   ]
  },
  {
   "cell_type": "code",
   "execution_count": 74,
   "metadata": {},
   "outputs": [
    {
     "data": {
      "image/png": "[encoded data removed]",
      "text/plain": [
       "<Figure size 1008x576 with 1 Axes>"
      ]
     },
     "metadata": {},
     "output_type": "display_data"
    }
   ],
   "source": [
    "ax = sns.barplot(x=ultra_result['month'], y=ultra_result['messages_count']);\n",
    "ax.set(xlabel='Месяц', ylabel='Кол-во сообщений')\n",
    "ax.set_title('Количество использованных сообщений пользователями тарифа ultra по месяцам')\n",
    "plt.show()"
   ]
  },
  {
   "cell_type": "markdown",
   "metadata": {},
   "source": [
    "Как и в случае со звонками, видим некоторые перепады в январе и февраля для пользователей тарифов smart и ultra соответственно.\n",
    "\n",
    "При этом, начиная с мая кол-во отправленных пользователями тарифа smart сообщений становится постоянным, а у пользователей тарифа ultra, начиная с марта, наблюдается некоторый повышательный тренд (с в среднем 30 сообщений до 60 к декабрю). Это может быть связано с использованием данного тарифа для устройств 'умного дома', которые присылают сообщения в случае изменения какого-либо статуса (включение видеокамеры и т.д.)."
   ]
  },
  {
   "cell_type": "markdown",
   "metadata": {},
   "source": [
    "### Анализ кол-ва использованного трафика по тарифам"
   ]
  },
  {
   "cell_type": "code",
   "execution_count": 75,
   "metadata": {},
   "outputs": [
    {
     "data": {
      "image/png": "[encoded data removed]",
      "text/plain": [
       "<Figure size 1008x576 with 1 Axes>"
      ]
     },
     "metadata": {},
     "output_type": "display_data"
    }
   ],
   "source": [
    "sns.distplot(smart_result['mb_used'], label='Пользователи тарифа \"smart\"', bins=30).set_title('Распределение использованного трафика для пользователей разных тарифов');\n",
    "sns.distplot(ultra_result['mb_used'], label='Пользователи тарифа \"ultra\"', bins=40);\n",
    "plt.axvline(15360, color='b', linestyle='--', label='Включенное число мегабайт в тарифе \"smart\"')\n",
    "plt.axvline(30720, color='r', linestyle='--', label='Включенное число мегабайт в тарифе \"ultra\"')\n",
    "plt.legend();"
   ]
  },
  {
   "cell_type": "markdown",
   "metadata": {},
   "source": [
    "Данные распределены нормально.\n",
    "\n",
    "На гистограммах видно, что большей части пользователей тарифа smart не хватает включенного в тариф трафика, при этом его не хватает и для части пользователей тарифа ultra.\n",
    "\n",
    "Разброс данных, как и в случае со звонками и сообщениями, существенно выше у пользователей тарифа ultra."
   ]
  },
  {
   "cell_type": "code",
   "execution_count": 76,
   "metadata": {},
   "outputs": [
    {
     "name": "stdout",
     "output_type": "stream",
     "text": [
      "Доля пользователей тарифа smart, которым в среднем не хватает включенного в тариф трафика: 66.38%\n"
     ]
    }
   ],
   "source": [
    "# Оценим долю пользователей тарифа smart, которым в среднем не хватает трафика, включенного в тариф.\n",
    "print(f'Доля пользователей тарифа smart, которым в среднем не хватает включенного в тариф трафика: {(smart_result.groupby(\"user_id\")[\"mb_used\"].mean() > 15360).sum() / smart_users_count:.2%}')"
   ]
  },
  {
   "cell_type": "code",
   "execution_count": 77,
   "metadata": {},
   "outputs": [
    {
     "name": "stdout",
     "output_type": "stream",
     "text": [
      "Доля пользователей тарифа smart, которым в среднем не хватает включенного в тариф трафика: 12.75%\n"
     ]
    }
   ],
   "source": [
    "# Оценим долю пользователей тарифа ultra, которым в среднем не хватает трафика, включенного в тариф.\n",
    "print(f'Доля пользователей тарифа smart, которым в среднем не хватает включенного в тариф трафика: {(ultra_result.groupby(\"user_id\")[\"mb_used\"].mean() > 30720).sum() / ultra_users_count:.2%}')"
   ]
  },
  {
   "cell_type": "markdown",
   "metadata": {},
   "source": [
    "Посмотрим на столбчатые диаграммы для разных тарифов по месяцам."
   ]
  },
  {
   "cell_type": "code",
   "execution_count": 78,
   "metadata": {},
   "outputs": [
    {
     "data": {
      "image/png": "[encoded data removed]",
      "text/plain": [
       "<Figure size 1008x576 with 1 Axes>"
      ]
     },
     "metadata": {},
     "output_type": "display_data"
    }
   ],
   "source": [
    "ax = sns.barplot(x=smart_result['month'], y=smart_result['mb_used']);\n",
    "ax.set(xlabel='Месяц', ylabel='Объем трафика')\n",
    "ax.set_title('Количество использованного трафика пользователями тарифа smart по месяцам')\n",
    "plt.show()"
   ]
  },
  {
   "cell_type": "code",
   "execution_count": 79,
   "metadata": {},
   "outputs": [
    {
     "data": {
      "image/png": "[encoded data removed]",
      "text/plain": [
       "<Figure size 1008x576 with 1 Axes>"
      ]
     },
     "metadata": {},
     "output_type": "display_data"
    }
   ],
   "source": [
    "ax = sns.barplot(x=ultra_result['month'], y=ultra_result['mb_used']);\n",
    "ax.set(xlabel='Месяц', ylabel='Объем трафика')\n",
    "ax.set_title('Количество использованного трафика пользователями тарифа ultra по месяцам')\n",
    "plt.show()"
   ]
  },
  {
   "cell_type": "markdown",
   "metadata": {},
   "source": [
    "Снова видим перепады в январе и февраля для обоих тарифов, дальше наблюдается небольшой тренд на увеличение объема трафика с его стабилизацией в мае."
   ]
  },
  {
   "cell_type": "markdown",
   "metadata": {},
   "source": [
    "### Вывод по разделу"
   ]
  },
  {
   "cell_type": "markdown",
   "metadata": {},
   "source": [
    "В разделе были рассмотрены обобщенные табличные данные по тарифам и сделаны следующие выводы:\n",
    "1. Пользователи тарифного плана 'ultra' в среднем используют большее число минут, сообщений и интернет-трафика (в среднем на 20-30 % больше), чем пользователи тарифа 'smart'. \n",
    "2. Пользователи тарифного плана 'ultra' как правило не полностью используют включенные в тариф объемы минут и сообщений, большинству также достаточно включенного в тариф интернет-трафика, однако некоторым пользователям трафика не хватает (в среднем 12.75%).\n",
    "3. Пользователям тарифа 'smart' зачастую не хватает включенных в тариф минут, сообщений и особенно интернет-трафика (доли таких пользователей составляют 29%, 22.8% и 66.4% соответственно).\n",
    "3. Пользователи тарифа 'ultra' более разнородны (некоторые используют совсем немного ресурсов, а другим не хватает), о чем свидетельствуют высокие значения стандартного отклонения по сравнению с пользователями тарифа smart (практически двухкратная разница). Часть пользователей тарифа ultra использует его только для выхода в интернет.\n",
    "4. Cредний пользователь тарифа 'ultra' приносит практически в два раза больше выручки, чем средний пользователь тарифа 'smart' (2070 против 1290 рублей в месяц), при этом в выручке гораздо более неоднородны пользователи тарифа 'smart' - стандартное отклонение составляет 818 рублей, что говорит о существенной разнице по выручке между пользователя внутри тарифа (что напрямую зависит от того, что пользователям не хватает включенных в тариф объемов минут, сообщений и интернет-трафика)."
   ]
  },
  {
   "cell_type": "markdown",
   "metadata": {},
   "source": [
    "## Проверка гипотез"
   ]
  },
  {
   "cell_type": "markdown",
   "metadata": {},
   "source": [
    "Нам необходимо проверить две гипотезы:\n",
    "1. Средняя выручка пользователей тарифов «Ультра» и «Смарт» различаются.\n",
    "2. Средняя выручка пользователей из Москвы отличается от выручки пользователей из других регионов."
   ]
  },
  {
   "cell_type": "markdown",
   "metadata": {},
   "source": [
    "### Средняя выручка пользователей тарифов «Ультра» и «Смарт» различаются"
   ]
  },
  {
   "cell_type": "markdown",
   "metadata": {},
   "source": [
    "Сформулируем нулевую и альтернативную гипотезы:\n",
    "\n",
    "$H_0:$ Выручка пользователей тарифов \"Ультра\" и \"Смарт\" равны ($revenue_{smart} = revenue_{ultra}$).\n",
    "\n",
    "$H_1:$ Выручка пользователей тарифов \"Ультра\" и \"Смарт\" различаются ($revenue_{smart} \\neq revenue_{ultra}$)."
   ]
  },
  {
   "cell_type": "markdown",
   "metadata": {},
   "source": [
    "Используем ttest_ind, т.к. сравниваем средние двух независимых выборок, аргумент equal_var установим в False, т.к. наши выборки разного размера (пользователей тарифа \"Смарт\" практически вдвое больше).\n",
    "\n",
    "Проведем тест при уровне значимости 0.01."
   ]
  },
  {
   "cell_type": "code",
   "execution_count": 80,
   "metadata": {},
   "outputs": [
    {
     "name": "stdout",
     "output_type": "stream",
     "text": [
      "p-значение:  4.2606313931076085e-250\n",
      "Отвергаем нулевую гипотезу\n"
     ]
    }
   ],
   "source": [
    "alpha = 0.01\n",
    "\n",
    "smart_ultra_revenue_test_result = scipy.stats.ttest_ind(smart_result['revenue'], \n",
    "                                                        ultra_result['revenue'],\n",
    "                                                        equal_var=False)\n",
    "\n",
    "print('p-значение: ', smart_ultra_revenue_test_result.pvalue)\n",
    "\n",
    "if smart_ultra_revenue_test_result.pvalue < alpha:\n",
    "    print(\"Отвергаем нулевую гипотезу\")\n",
    "else:\n",
    "    print(\"Не получилось отвергнуть нулевую гипотезу\") "
   ]
  },
  {
   "cell_type": "markdown",
   "metadata": {},
   "source": [
    "Мы уже видели в сводной таблице, что средние значения выручки для пользователей двух тарифов различаются, тест подтвердил наше наблюдение.\n",
    "\n",
    "Выручки пользователей тарифов \"Смарт\" и \"Ультра\" различаются."
   ]
  },
  {
   "cell_type": "markdown",
   "metadata": {},
   "source": [
    "### Средняя выручка пользователей из Москвы отличается от выручки пользователей из других регионов."
   ]
  },
  {
   "cell_type": "markdown",
   "metadata": {},
   "source": [
    "Сформулируем нулевую и альтернативную гипотезы:\n",
    "\n",
    "$H_0:$ Средняя выручка пользователей из Москвы равна выручке от пользователей из других регионов ($revenue_{moscow} = revenue_{other cities}$).\n",
    "\n",
    "$H_1:$ Средняя выручка пользователей из Москвы отличается от выручки от пользователей из других регионов ($revenue_{moscow} \\neq revenue_{other cities}$)."
   ]
  },
  {
   "cell_type": "markdown",
   "metadata": {},
   "source": [
    "Аналогично используем ttest_ind, т.к. сравниваем средние двух независимых выборок, аргумент equal_var установим в False, т.к. наши выборки разного размера (пользователей из Москвы в четыре раза меньше остальных).\n",
    "\n",
    "Проведем тест при уровне значимости 0.01."
   ]
  },
  {
   "cell_type": "code",
   "execution_count": 81,
   "metadata": {},
   "outputs": [
    {
     "name": "stdout",
     "output_type": "stream",
     "text": [
      "p-значение:  0.5257376663729298\n",
      "Не получилось отвергнуть нулевую гипотезу\n"
     ]
    }
   ],
   "source": [
    "moscow_revenue_test_result = scipy.stats.ttest_ind(result.query('city==\"Москва\"')['revenue'], \n",
    "                                                   result.query('city!=\"Москва\"')['revenue'],\n",
    "                                                   equal_var=False)\n",
    "\n",
    "print('p-значение: ', moscow_revenue_test_result.pvalue)\n",
    "\n",
    "if moscow_revenue_test_result.pvalue < alpha:\n",
    "    print(\"Отвергаем нулевую гипотезу\")\n",
    "else:\n",
    "    print(\"Не получилось отвергнуть нулевую гипотезу\") "
   ]
  },
  {
   "cell_type": "markdown",
   "metadata": {},
   "source": [
    "В данном случае не получилось отвергнуть нулевую гипотезу: выручка пользователей из Москвы не отличается от выручки пользователей из других городов."
   ]
  },
  {
   "cell_type": "markdown",
   "metadata": {},
   "source": [
    "## Общий вывод"
   ]
  },
  {
   "cell_type": "markdown",
   "metadata": {},
   "source": [
    "Мы провели исследование поведения пользователей двух тарифов оператора \"Мегалайн\". \n",
    "Исследование проводилось с целью определения наиболее перспективного тарифа для оператора.\n",
    "\n",
    "В процессе исследования нами были сделаны следующие промежуточные выводы:\n",
    "1. Пользователи тарифного плана 'ultra' в среднем используют большее число минут, сообщений и интернет-трафика (в среднем на 20-30 % больше), чем пользователи тарифа 'smart'.\n",
    "2. Пользователи тарифного плана 'ultra' как правило не полностью используют включенные в тариф объемы минут и сообщений, большинству также достаточно включенного в тариф интернет-трафика, однако некоторым пользователям трафика не хватает (в среднем 12.75%).\n",
    "3. Пользователям тарифа 'smart' зачастую не хватает включенных в тариф минут, сообщений и особенно интернет-трафика (доли таких пользователей составляют 29%, 22.8% и 66.4% соответственно).\n",
    "4. Пользователи тарифа 'ultra' более разнородны (некоторые используют совсем немного ресурсов, а другим не хватает), о чем свидетельствуют высокие значения стандартного отклонения по сравнению с пользователями тарифа smart (практически двухкратная разница). Часть пользователей тарифа ultra использует его только для выхода в интернет.\n",
    "5. Cредний пользователь тарифа 'ultra' приносит практически в два раза больше выручки, чем средний пользователь тарифа 'smart' (2070 против 1290 рублей в месяц), при этом в выручке гораздо более неоднородны пользователи тарифа 'smart' - стандартное отклонение составляет 818 рублей, что говорит о существенной разнице по выручке между пользователя внутри тарифа (что напрямую зависит от того, что пользователям не хватает включенных в тариф объемов минут, сообщений и интернет-трафика).\n",
    "6. С помощью t-теста мы подтвердили, что средняя выручка пользователей тарифов \"Смарт\" и \"Ультра\" различаются, а пользователей из Москвы и других регионов - нет.\n",
    "___\n",
    "С одной стороны кажется, что оператору более выгоден тариф \"Ультра\": средний пользователь тарифа приносит гораздо больше выручки (2070 против 1290 рублей) и эта выручка лучше прогнозируема (пользователи тарифа \"Ультра\" редко превышают лимиты тарифа), поэтому денежные потоки более предсказуемы. \n",
    "\n",
    "С другой стороны, более дешевый тариф \"Смарт\" явно более популярен у пользователей (его выбирает 70% клиентов), которые готовы переплачивать за некоторое превышение лимитов в случае необходимости. Судя по статистике оттока пользователей (за исследуемый период от оператора ушли 23 пользователя (6.5 %) тарифа \"Смарт\" и 15 пользователей (10 %) тарифа \"Ультра\"), менее довольны тарифами пользователи тарифа \"Ультра\".\n",
    "___\n",
    "На основе этих данных можно заключить, что наиболее оптимальным (особенно после дополнительного исследования пользовательского опыта) является один из следующих путей:\n",
    "1. Формирование нового тарифа, объединяющего лучшие черты обоих тарифов. Такой тариф мог бы включать чуть больший объем минут и сообщений относительно тарифа \"Смарт\" (чтобы снизить долю пользователей, выходящих за лимиты) и объем трафика равный или немного превышающий лимиты тарифа \"Ультра\". При таком подходе стоимость тарифа следовало бы установить на уровне, близком к средней выручке в тарифе \"Ультра\". Такой подход позволит обеспечить лучшее прогнозирование денежных потоков (из-за снижения превышения лимитов) и скорее всего будет хорошо воспринят пользователями, особенно переходящими с тарифа \"Ультра\" (более низкая стоимость тарифа без лишнего объема минут и сообщений). Пользователи тарифа \"Смарт\", особенно не очень подробно учитывающие траты на связь, скорее всего отреагируют более негативно, т.к. базовая стоимость тарифа для них существенно возрастет.\n",
    "2. Изменение лимитов для каждого из тарифов: повышение лимитов минут, сообщений и особенно интернет-трафика для пользователей тарифа \"Смарт\" с некоторым увеличением цены, и снижение лимитов минут и сообщений для пользователей тарифа \"Ультра\" с некоторым снижением цены. Такой подход, с одной стороны, приведет к снижению неопределенности по выручке со стороны пользователей тарифа \"Смарт\", с другой - скорее всего повысит лояльность и, соответственно, сократит отток пользователей тарифа \"Ультра\", для которых стоимость услуг снизится без особенной потери в их качестве."
   ]
  },
  {
   "cell_type": "markdown",
   "metadata": {},
   "source": [
    "___\n",
    "Ниже приведена сводная таблица по параметрам тарифов"
   ]
  },
  {
   "cell_type": "code",
   "execution_count": 82,
   "metadata": {},
   "outputs": [
    {
     "data": {
      "text/html": [
       "<div>\n",
       "<style scoped>\n",
       "    .dataframe tbody tr th:only-of-type {\n",
       "        vertical-align: middle;\n",
       "    }\n",
       "\n",
       "    .dataframe tbody tr th {\n",
       "        vertical-align: top;\n",
       "    }\n",
       "\n",
       "    .dataframe thead th {\n",
       "        text-align: right;\n",
       "    }\n",
       "</style>\n",
       "<table border=\"1\" class=\"dataframe\">\n",
       "  <thead>\n",
       "    <tr style=\"text-align: right;\">\n",
       "      <th></th>\n",
       "      <th>Тариф \"Смарт\"</th>\n",
       "      <th>Тариф \"Ультра\"</th>\n",
       "    </tr>\n",
       "  </thead>\n",
       "  <tbody>\n",
       "    <tr>\n",
       "      <th>Доля пользователей тарифа</th>\n",
       "      <td>70%</td>\n",
       "      <td>30%</td>\n",
       "    </tr>\n",
       "    <tr>\n",
       "      <th>Средняя продолжительность разговоров в месяц (включено в тариф), мин.</th>\n",
       "      <td>418 (500)</td>\n",
       "      <td>527 (3000)</td>\n",
       "    </tr>\n",
       "    <tr>\n",
       "      <th>Средняя число отправленных сообщений в месяц (включено в тариф), шт.</th>\n",
       "      <td>33 (50)</td>\n",
       "      <td>49 (1000)</td>\n",
       "    </tr>\n",
       "    <tr>\n",
       "      <th>Среднее число использованного интернет-трафика в месяц (включено в тариф), МБ</th>\n",
       "      <td>16720 (15360)</td>\n",
       "      <td>19962 (30720)</td>\n",
       "    </tr>\n",
       "    <tr>\n",
       "      <th>Доля пользователей, которым не хватает лимита минут</th>\n",
       "      <td>29%</td>\n",
       "      <td>0%</td>\n",
       "    </tr>\n",
       "    <tr>\n",
       "      <th>Доля пользователей, которым не хватает лимита сообщений</th>\n",
       "      <td>22.8%</td>\n",
       "      <td>0%</td>\n",
       "    </tr>\n",
       "    <tr>\n",
       "      <th>Доля пользователей, которым не хватает лимита интернет-трафика</th>\n",
       "      <td>66.4%</td>\n",
       "      <td>12.75%</td>\n",
       "    </tr>\n",
       "    <tr>\n",
       "      <th>Средняя выручка с пользователя в месяц (базовая цена тарифа), руб.</th>\n",
       "      <td>1290 (550)</td>\n",
       "      <td>2070 (1950)</td>\n",
       "    </tr>\n",
       "    <tr>\n",
       "      <th>Общая выручка за год со всех пользователей, руб.</th>\n",
       "      <td>2 875 351</td>\n",
       "      <td>2 039 100</td>\n",
       "    </tr>\n",
       "  </tbody>\n",
       "</table>\n",
       "</div>"
      ],
      "text/plain": [
       "                                                    Тариф \"Смарт\"  \\\n",
       "Доля пользователей тарифа                                     70%   \n",
       "Средняя продолжительность разговоров в месяц (в...      418 (500)   \n",
       "Средняя число отправленных сообщений в месяц (в...        33 (50)   \n",
       "Среднее число использованного интернет-трафика ...  16720 (15360)   \n",
       "Доля пользователей, которым не хватает лимита м...            29%   \n",
       "Доля пользователей, которым не хватает лимита с...          22.8%   \n",
       "Доля пользователей, которым не хватает лимита и...          66.4%   \n",
       "Средняя выручка с пользователя в месяц (базовая...     1290 (550)   \n",
       "Общая выручка за год со всех пользователей, руб.        2 875 351   \n",
       "\n",
       "                                                   Тариф \"Ультра\"  \n",
       "Доля пользователей тарифа                                     30%  \n",
       "Средняя продолжительность разговоров в месяц (в...     527 (3000)  \n",
       "Средняя число отправленных сообщений в месяц (в...      49 (1000)  \n",
       "Среднее число использованного интернет-трафика ...  19962 (30720)  \n",
       "Доля пользователей, которым не хватает лимита м...             0%  \n",
       "Доля пользователей, которым не хватает лимита с...             0%  \n",
       "Доля пользователей, которым не хватает лимита и...         12.75%  \n",
       "Средняя выручка с пользователя в месяц (базовая...    2070 (1950)  \n",
       "Общая выручка за год со всех пользователей, руб.        2 039 100  "
      ]
     },
     "execution_count": 82,
     "metadata": {},
     "output_type": "execute_result"
    }
   ],
   "source": [
    "fin_res = pd.DataFrame([['70%', '30%'], \n",
    "                       ['418 (500)', '527 (3000)'], \n",
    "                       ['33 (50)', '49 (1000)'],\n",
    "                       ['16720 (15360)', '19962 (30720)'],\n",
    "                       ['29%', '0%'],\n",
    "                       ['22.8%', '0%'],\n",
    "                       ['66.4%', '12.75%'],\n",
    "                       ['1290 (550)', '2070 (1950)'],\n",
    "                       ['2 875 351', '2 039 100']], \n",
    "                      columns=['Тариф \"Смарт\"', 'Тариф \"Ультра\"'],\n",
    "                      index=['Доля пользователей тарифа', \n",
    "                             'Средняя продолжительность разговоров в месяц (включено в тариф), мин.', \n",
    "                             'Средняя число отправленных сообщений в месяц (включено в тариф), шт.', \n",
    "                             'Среднее число использованного интернет-трафика в месяц (включено в тариф), МБ',\n",
    "                             'Доля пользователей, которым не хватает лимита минут',\n",
    "                             'Доля пользователей, которым не хватает лимита сообщений',\n",
    "                             'Доля пользователей, которым не хватает лимита интернет-трафика',\n",
    "                             'Средняя выручка с пользователя в месяц (базовая цена тарифа), руб.',\n",
    "                             'Общая выручка за год со всех пользователей, руб.',])\n",
    "fin_res"
   ]
  }
 ],
 "metadata": {
  "ExecuteTimeLog": [
   {
    "duration": 97,
    "start_time": "2022-03-04T07:11:14.268Z"
   },
   {
    "duration": 2534,
    "start_time": "2022-03-04T07:18:38.001Z"
   },
   {
    "duration": 1071,
    "start_time": "2022-03-04T07:23:05.320Z"
   },
   {
    "duration": 2,
    "start_time": "2022-03-04T07:23:12.553Z"
   },
   {
    "duration": 3,
    "start_time": "2022-03-04T07:23:32.969Z"
   },
   {
    "duration": 402,
    "start_time": "2022-03-04T07:25:14.426Z"
   },
   {
    "duration": 21,
    "start_time": "2022-03-04T07:25:22.060Z"
   },
   {
    "duration": 17,
    "start_time": "2022-03-04T07:25:49.907Z"
   },
   {
    "duration": 14,
    "start_time": "2022-03-04T07:25:54.330Z"
   },
   {
    "duration": 7,
    "start_time": "2022-03-04T07:25:57.898Z"
   },
   {
    "duration": 7,
    "start_time": "2022-03-04T07:26:02.403Z"
   },
   {
    "duration": 1148,
    "start_time": "2022-03-04T07:49:10.342Z"
   },
   {
    "duration": 2,
    "start_time": "2022-03-04T07:49:15.472Z"
   },
   {
    "duration": 3,
    "start_time": "2022-03-04T07:49:15.784Z"
   },
   {
    "duration": 393,
    "start_time": "2022-03-04T07:49:16.120Z"
   },
   {
    "duration": 235,
    "start_time": "2022-03-04T07:51:45.730Z"
   },
   {
    "duration": 1108,
    "start_time": "2022-03-04T07:51:49.785Z"
   },
   {
    "duration": 3,
    "start_time": "2022-03-04T07:51:50.895Z"
   },
   {
    "duration": 9,
    "start_time": "2022-03-04T07:51:50.900Z"
   },
   {
    "duration": 368,
    "start_time": "2022-03-04T07:51:50.911Z"
   },
   {
    "duration": 300,
    "start_time": "2022-03-04T07:51:51.833Z"
   },
   {
    "duration": 1137,
    "start_time": "2022-03-04T07:52:37.361Z"
   },
   {
    "duration": 3,
    "start_time": "2022-03-04T07:52:38.499Z"
   },
   {
    "duration": 3,
    "start_time": "2022-03-04T07:52:39.153Z"
   },
   {
    "duration": 361,
    "start_time": "2022-03-04T07:52:39.810Z"
   },
   {
    "duration": 355,
    "start_time": "2022-03-04T07:59:41.540Z"
   },
   {
    "duration": 12,
    "start_time": "2022-03-04T08:00:12.374Z"
   },
   {
    "duration": 14,
    "start_time": "2022-03-04T08:00:26.669Z"
   },
   {
    "duration": 371,
    "start_time": "2022-03-04T08:00:49.478Z"
   },
   {
    "duration": 265,
    "start_time": "2022-03-04T08:00:50.926Z"
   },
   {
    "duration": 250,
    "start_time": "2022-03-04T08:00:57.591Z"
   },
   {
    "duration": 21,
    "start_time": "2022-03-04T08:01:24.551Z"
   },
   {
    "duration": 18,
    "start_time": "2022-03-04T08:01:37.696Z"
   },
   {
    "duration": 15,
    "start_time": "2022-03-04T08:01:43.450Z"
   },
   {
    "duration": 8,
    "start_time": "2022-03-04T08:01:49.022Z"
   },
   {
    "duration": 9,
    "start_time": "2022-03-04T08:01:57.526Z"
   },
   {
    "duration": 23,
    "start_time": "2022-03-04T08:02:44.688Z"
   },
   {
    "duration": 38,
    "start_time": "2022-03-04T08:02:52.832Z"
   },
   {
    "duration": 7,
    "start_time": "2022-03-04T08:03:07.944Z"
   },
   {
    "duration": 369,
    "start_time": "2022-03-04T08:03:29.611Z"
   },
   {
    "duration": 37,
    "start_time": "2022-03-04T08:03:40.777Z"
   },
   {
    "duration": 195,
    "start_time": "2022-03-04T08:03:48.018Z"
   },
   {
    "duration": 28,
    "start_time": "2022-03-04T08:03:53.184Z"
   },
   {
    "duration": 4,
    "start_time": "2022-03-04T08:13:49.191Z"
   },
   {
    "duration": 584,
    "start_time": "2022-03-04T08:14:03.190Z"
   },
   {
    "duration": 3,
    "start_time": "2022-03-04T08:16:04.233Z"
   },
   {
    "duration": 4,
    "start_time": "2022-03-04T08:16:23.336Z"
   },
   {
    "duration": 357,
    "start_time": "2022-03-04T08:16:24.855Z"
   },
   {
    "duration": 24,
    "start_time": "2022-03-04T08:16:35.160Z"
   },
   {
    "duration": 21,
    "start_time": "2022-03-04T08:16:40.448Z"
   },
   {
    "duration": 333,
    "start_time": "2022-03-04T08:16:46.778Z"
   },
   {
    "duration": 4,
    "start_time": "2022-03-04T08:17:16.841Z"
   },
   {
    "duration": 328,
    "start_time": "2022-03-04T08:17:17.162Z"
   },
   {
    "duration": 4,
    "start_time": "2022-03-04T08:17:40.657Z"
   },
   {
    "duration": 646,
    "start_time": "2022-03-04T08:17:40.826Z"
   },
   {
    "duration": 4,
    "start_time": "2022-03-04T08:18:14.073Z"
   },
   {
    "duration": 365,
    "start_time": "2022-03-04T08:18:14.297Z"
   },
   {
    "duration": 4,
    "start_time": "2022-03-04T08:19:12.011Z"
   },
   {
    "duration": 355,
    "start_time": "2022-03-04T08:19:12.553Z"
   },
   {
    "duration": 4,
    "start_time": "2022-03-04T08:19:16.578Z"
   },
   {
    "duration": 342,
    "start_time": "2022-03-04T08:19:16.818Z"
   },
   {
    "duration": 4,
    "start_time": "2022-03-04T08:19:42.770Z"
   },
   {
    "duration": 371,
    "start_time": "2022-03-04T08:19:43.154Z"
   },
   {
    "duration": 4,
    "start_time": "2022-03-04T08:19:47.066Z"
   },
   {
    "duration": 397,
    "start_time": "2022-03-04T08:19:48.410Z"
   },
   {
    "duration": 3,
    "start_time": "2022-03-04T08:20:10.987Z"
   },
   {
    "duration": 4,
    "start_time": "2022-03-04T08:20:14.450Z"
   },
   {
    "duration": 369,
    "start_time": "2022-03-04T08:20:14.714Z"
   },
   {
    "duration": 4,
    "start_time": "2022-03-04T08:22:17.739Z"
   },
   {
    "duration": 330,
    "start_time": "2022-03-04T08:22:17.987Z"
   },
   {
    "duration": 4,
    "start_time": "2022-03-04T08:23:15.653Z"
   },
   {
    "duration": 331,
    "start_time": "2022-03-04T08:23:16.005Z"
   },
   {
    "duration": 341,
    "start_time": "2022-03-04T08:23:29.589Z"
   },
   {
    "duration": 187,
    "start_time": "2022-03-04T08:30:57.473Z"
   },
   {
    "duration": 23,
    "start_time": "2022-03-04T08:38:47.269Z"
   },
   {
    "duration": 21,
    "start_time": "2022-03-04T08:39:00.550Z"
   },
   {
    "duration": 151,
    "start_time": "2022-03-04T08:41:54.599Z"
   },
   {
    "duration": 1050,
    "start_time": "2022-03-04T09:11:07.257Z"
   },
   {
    "duration": 57,
    "start_time": "2022-03-04T09:12:14.354Z"
   },
   {
    "duration": 6,
    "start_time": "2022-03-04T09:13:08.906Z"
   },
   {
    "duration": 53,
    "start_time": "2022-03-04T09:13:14.746Z"
   },
   {
    "duration": 5,
    "start_time": "2022-03-04T09:14:45.043Z"
   },
   {
    "duration": 14,
    "start_time": "2022-03-04T09:14:54.835Z"
   },
   {
    "duration": 7,
    "start_time": "2022-03-04T09:15:25.732Z"
   },
   {
    "duration": 17,
    "start_time": "2022-03-04T09:15:30.356Z"
   },
   {
    "duration": 54,
    "start_time": "2022-03-04T09:19:46.302Z"
   },
   {
    "duration": 1125,
    "start_time": "2022-03-05T06:01:08.663Z"
   },
   {
    "duration": 3,
    "start_time": "2022-03-05T06:01:10.312Z"
   },
   {
    "duration": 2,
    "start_time": "2022-03-05T06:01:10.693Z"
   },
   {
    "duration": 354,
    "start_time": "2022-03-05T06:01:11.054Z"
   },
   {
    "duration": 5,
    "start_time": "2022-03-05T06:01:12.493Z"
   },
   {
    "duration": 383,
    "start_time": "2022-03-05T06:01:13.164Z"
   },
   {
    "duration": 199,
    "start_time": "2022-03-05T06:01:15.629Z"
   },
   {
    "duration": 23,
    "start_time": "2022-03-05T06:01:19.805Z"
   },
   {
    "duration": 156,
    "start_time": "2022-03-05T06:01:27.326Z"
   },
   {
    "duration": 13,
    "start_time": "2022-03-05T06:01:44.373Z"
   },
   {
    "duration": 49,
    "start_time": "2022-03-05T06:01:54.606Z"
   },
   {
    "duration": 5366,
    "start_time": "2022-03-05T07:13:40.264Z"
   },
   {
    "duration": 3,
    "start_time": "2022-03-05T07:15:43.060Z"
   },
   {
    "duration": 3,
    "start_time": "2022-03-05T07:15:44.579Z"
   },
   {
    "duration": 3,
    "start_time": "2022-03-05T07:15:44.848Z"
   },
   {
    "duration": 349,
    "start_time": "2022-03-05T07:15:45.312Z"
   },
   {
    "duration": 5,
    "start_time": "2022-03-05T07:15:46.497Z"
   },
   {
    "duration": 352,
    "start_time": "2022-03-05T07:15:47.015Z"
   },
   {
    "duration": 179,
    "start_time": "2022-03-05T07:15:47.833Z"
   },
   {
    "duration": 21,
    "start_time": "2022-03-05T07:15:48.488Z"
   },
   {
    "duration": 150,
    "start_time": "2022-03-05T07:15:49.425Z"
   },
   {
    "duration": 13,
    "start_time": "2022-03-05T07:15:50.457Z"
   },
   {
    "duration": 47,
    "start_time": "2022-03-05T07:15:51.615Z"
   },
   {
    "duration": 5455,
    "start_time": "2022-03-05T07:15:54.416Z"
   },
   {
    "duration": 28,
    "start_time": "2022-03-05T07:16:21.017Z"
   },
   {
    "duration": 18,
    "start_time": "2022-03-05T07:16:43.204Z"
   },
   {
    "duration": 15,
    "start_time": "2022-03-05T07:16:50.529Z"
   },
   {
    "duration": 5,
    "start_time": "2022-03-05T07:20:42.531Z"
   },
   {
    "duration": 7,
    "start_time": "2022-03-05T07:20:50.611Z"
   },
   {
    "duration": 204,
    "start_time": "2022-03-05T07:23:12.260Z"
   },
   {
    "duration": 248,
    "start_time": "2022-03-05T07:23:20.340Z"
   },
   {
    "duration": 217,
    "start_time": "2022-03-05T07:23:29.261Z"
   },
   {
    "duration": 214,
    "start_time": "2022-03-05T07:23:36.149Z"
   },
   {
    "duration": 222,
    "start_time": "2022-03-05T07:23:44.021Z"
   },
   {
    "duration": 209,
    "start_time": "2022-03-05T07:23:52.933Z"
   },
   {
    "duration": 213,
    "start_time": "2022-03-05T07:24:03.190Z"
   },
   {
    "duration": 215,
    "start_time": "2022-03-05T07:24:12.413Z"
   },
   {
    "duration": 3,
    "start_time": "2022-03-05T07:24:27.230Z"
   },
   {
    "duration": 208,
    "start_time": "2022-03-05T07:24:37.246Z"
   },
   {
    "duration": 282,
    "start_time": "2022-03-05T07:25:32.198Z"
   },
   {
    "duration": 3,
    "start_time": "2022-03-05T08:45:35.611Z"
   },
   {
    "duration": 42,
    "start_time": "2022-03-05T08:45:49.860Z"
   },
   {
    "duration": 40,
    "start_time": "2022-03-05T08:46:22.589Z"
   },
   {
    "duration": 42,
    "start_time": "2022-03-05T08:46:31.150Z"
   },
   {
    "duration": 20,
    "start_time": "2022-03-05T08:48:17.638Z"
   },
   {
    "duration": 205,
    "start_time": "2022-03-05T08:48:22.550Z"
   },
   {
    "duration": 19,
    "start_time": "2022-03-05T08:48:29.726Z"
   },
   {
    "duration": 10,
    "start_time": "2022-03-05T08:49:43.447Z"
   },
   {
    "duration": 6,
    "start_time": "2022-03-05T08:49:55.519Z"
   },
   {
    "duration": 6,
    "start_time": "2022-03-05T08:50:00.223Z"
   },
   {
    "duration": 142,
    "start_time": "2022-03-05T08:50:23.456Z"
   },
   {
    "duration": 2,
    "start_time": "2022-03-05T08:51:47.272Z"
   },
   {
    "duration": 5,
    "start_time": "2022-03-05T08:52:09.880Z"
   },
   {
    "duration": 4,
    "start_time": "2022-03-05T08:52:13.392Z"
   },
   {
    "duration": 4,
    "start_time": "2022-03-05T08:52:18.041Z"
   },
   {
    "duration": 207,
    "start_time": "2022-03-05T08:52:28.745Z"
   },
   {
    "duration": 206,
    "start_time": "2022-03-05T08:52:35.528Z"
   },
   {
    "duration": 230,
    "start_time": "2022-03-05T08:52:41.995Z"
   },
   {
    "duration": 204,
    "start_time": "2022-03-05T08:52:48.912Z"
   },
   {
    "duration": 6,
    "start_time": "2022-03-05T08:52:52.136Z"
   },
   {
    "duration": 3,
    "start_time": "2022-03-07T14:35:27.996Z"
   },
   {
    "duration": 3,
    "start_time": "2022-03-07T14:35:28.204Z"
   },
   {
    "duration": 3,
    "start_time": "2022-03-07T14:35:28.398Z"
   },
   {
    "duration": 344,
    "start_time": "2022-03-07T14:35:28.611Z"
   },
   {
    "duration": 5,
    "start_time": "2022-03-07T14:35:29.240Z"
   },
   {
    "duration": 403,
    "start_time": "2022-03-07T14:35:29.671Z"
   },
   {
    "duration": 324,
    "start_time": "2022-03-07T14:35:38.146Z"
   },
   {
    "duration": 36,
    "start_time": "2022-03-07T14:35:40.740Z"
   },
   {
    "duration": 263,
    "start_time": "2022-03-07T14:35:41.279Z"
   },
   {
    "duration": 13,
    "start_time": "2022-03-07T14:35:41.817Z"
   },
   {
    "duration": 49,
    "start_time": "2022-03-07T14:35:42.336Z"
   },
   {
    "duration": 3,
    "start_time": "2022-03-07T14:35:44.156Z"
   },
   {
    "duration": 69,
    "start_time": "2022-03-07T14:35:46.187Z"
   },
   {
    "duration": 48,
    "start_time": "2022-03-07T14:35:52.442Z"
   },
   {
    "duration": 245,
    "start_time": "2022-03-07T14:36:16.765Z"
   },
   {
    "duration": 38,
    "start_time": "2022-03-07T14:36:26.252Z"
   },
   {
    "duration": 223,
    "start_time": "2022-03-07T14:36:51.515Z"
   },
   {
    "duration": 218,
    "start_time": "2022-03-07T14:36:58.213Z"
   },
   {
    "duration": 234,
    "start_time": "2022-03-07T14:38:18.469Z"
   },
   {
    "duration": 4,
    "start_time": "2022-03-07T14:39:02.563Z"
   },
   {
    "duration": 4,
    "start_time": "2022-03-07T14:39:10.970Z"
   },
   {
    "duration": 61,
    "start_time": "2022-03-07T14:39:39.883Z"
   },
   {
    "duration": 6,
    "start_time": "2022-03-07T14:40:51.177Z"
   },
   {
    "duration": 15,
    "start_time": "2022-03-07T14:47:57.075Z"
   },
   {
    "duration": 6,
    "start_time": "2022-03-07T14:48:12.416Z"
   },
   {
    "duration": 6,
    "start_time": "2022-03-07T14:53:03.866Z"
   },
   {
    "duration": 6,
    "start_time": "2022-03-07T14:53:14.232Z"
   },
   {
    "duration": 5,
    "start_time": "2022-03-07T14:53:19.323Z"
   },
   {
    "duration": 5,
    "start_time": "2022-03-07T14:57:10.905Z"
   },
   {
    "duration": 8,
    "start_time": "2022-03-07T14:57:11.419Z"
   },
   {
    "duration": 249,
    "start_time": "2022-03-07T14:59:26.538Z"
   },
   {
    "duration": 205,
    "start_time": "2022-03-07T14:59:43.507Z"
   },
   {
    "duration": 5,
    "start_time": "2022-03-07T15:00:02.213Z"
   },
   {
    "duration": 223,
    "start_time": "2022-03-07T15:00:11.731Z"
   },
   {
    "duration": 222,
    "start_time": "2022-03-07T15:00:19.481Z"
   },
   {
    "duration": 5841,
    "start_time": "2022-03-07T15:00:23.497Z"
   },
   {
    "duration": 1235,
    "start_time": "2022-03-07T15:02:22.338Z"
   },
   {
    "duration": 427,
    "start_time": "2022-03-07T15:04:09.574Z"
   },
   {
    "duration": 232,
    "start_time": "2022-03-07T15:04:48.389Z"
   },
   {
    "duration": 183,
    "start_time": "2022-03-07T15:04:52.671Z"
   },
   {
    "duration": 214,
    "start_time": "2022-03-07T15:06:26.580Z"
   },
   {
    "duration": 1286,
    "start_time": "2022-03-07T15:07:05.098Z"
   },
   {
    "duration": 444,
    "start_time": "2022-03-07T15:08:26.023Z"
   },
   {
    "duration": 5,
    "start_time": "2022-03-07T15:09:33.291Z"
   },
   {
    "duration": 753,
    "start_time": "2022-03-07T15:09:38.317Z"
   },
   {
    "duration": 6,
    "start_time": "2022-03-07T15:10:11.196Z"
   },
   {
    "duration": 2853,
    "start_time": "2022-03-07T15:10:14.495Z"
   },
   {
    "duration": 6,
    "start_time": "2022-03-07T15:10:26.302Z"
   },
   {
    "duration": 3026,
    "start_time": "2022-03-07T15:10:30.349Z"
   },
   {
    "duration": 6,
    "start_time": "2022-03-07T15:11:58.744Z"
   },
   {
    "duration": 6,
    "start_time": "2022-03-07T15:12:07.410Z"
   },
   {
    "duration": 194,
    "start_time": "2022-03-07T15:12:40.610Z"
   },
   {
    "duration": 2863,
    "start_time": "2022-03-07T15:12:55.010Z"
   },
   {
    "duration": 2309,
    "start_time": "2022-03-07T15:13:05.291Z"
   },
   {
    "duration": 195,
    "start_time": "2022-03-07T15:13:21.177Z"
   },
   {
    "duration": 2749,
    "start_time": "2022-03-07T15:14:51.888Z"
   },
   {
    "duration": 232,
    "start_time": "2022-03-07T15:25:08.895Z"
   },
   {
    "duration": 132,
    "start_time": "2022-03-07T15:25:15.600Z"
   },
   {
    "duration": 124,
    "start_time": "2022-03-07T15:25:21.118Z"
   },
   {
    "duration": 16,
    "start_time": "2022-03-07T15:26:40.871Z"
   },
   {
    "duration": 227,
    "start_time": "2022-03-07T15:27:06.164Z"
   },
   {
    "duration": 11,
    "start_time": "2022-03-07T15:27:29.463Z"
   },
   {
    "duration": 188,
    "start_time": "2022-03-07T15:27:46.404Z"
   },
   {
    "duration": 11,
    "start_time": "2022-03-07T15:28:15.604Z"
   },
   {
    "duration": 16,
    "start_time": "2022-03-07T15:28:29.461Z"
   },
   {
    "duration": 12,
    "start_time": "2022-03-07T15:28:41.022Z"
   },
   {
    "duration": 53,
    "start_time": "2022-03-07T15:29:41.537Z"
   },
   {
    "duration": 20,
    "start_time": "2022-03-07T15:29:46.509Z"
   },
   {
    "duration": 57,
    "start_time": "2022-03-07T15:30:18.062Z"
   },
   {
    "duration": 225,
    "start_time": "2022-03-07T15:30:41.227Z"
   },
   {
    "duration": 228,
    "start_time": "2022-03-07T15:30:47.164Z"
   },
   {
    "duration": 15,
    "start_time": "2022-03-07T15:31:05.171Z"
   },
   {
    "duration": 27,
    "start_time": "2022-03-07T15:31:08.961Z"
   },
   {
    "duration": 3,
    "start_time": "2022-03-09T05:58:54.607Z"
   },
   {
    "duration": 3,
    "start_time": "2022-03-09T05:58:55.164Z"
   },
   {
    "duration": 3,
    "start_time": "2022-03-09T05:58:55.376Z"
   },
   {
    "duration": 323,
    "start_time": "2022-03-09T05:58:55.585Z"
   },
   {
    "duration": 5,
    "start_time": "2022-03-09T05:58:56.529Z"
   },
   {
    "duration": 368,
    "start_time": "2022-03-09T05:58:56.754Z"
   },
   {
    "duration": 195,
    "start_time": "2022-03-09T05:58:57.946Z"
   },
   {
    "duration": 25,
    "start_time": "2022-03-09T05:58:58.473Z"
   },
   {
    "duration": 151,
    "start_time": "2022-03-09T05:58:59.298Z"
   },
   {
    "duration": 13,
    "start_time": "2022-03-09T05:59:00.106Z"
   },
   {
    "duration": 53,
    "start_time": "2022-03-09T05:59:00.850Z"
   },
   {
    "duration": 3,
    "start_time": "2022-03-09T05:59:03.049Z"
   },
   {
    "duration": 64,
    "start_time": "2022-03-09T05:59:03.865Z"
   },
   {
    "duration": 44,
    "start_time": "2022-03-09T05:59:05.633Z"
   },
   {
    "duration": 133,
    "start_time": "2022-03-09T05:59:09.305Z"
   },
   {
    "duration": 6,
    "start_time": "2022-03-09T05:59:24.313Z"
   },
   {
    "duration": 5,
    "start_time": "2022-03-09T06:00:16.013Z"
   },
   {
    "duration": 7,
    "start_time": "2022-03-09T06:00:16.538Z"
   },
   {
    "duration": 2513,
    "start_time": "2022-03-09T06:00:21.003Z"
   },
   {
    "duration": 1204,
    "start_time": "2022-03-09T06:01:48.563Z"
   },
   {
    "duration": 1120,
    "start_time": "2022-03-09T06:09:09.807Z"
   },
   {
    "duration": 1525,
    "start_time": "2022-03-09T06:09:16.568Z"
   },
   {
    "duration": 399,
    "start_time": "2022-03-09T06:15:55.691Z"
   },
   {
    "duration": 428,
    "start_time": "2022-03-09T06:18:42.404Z"
   },
   {
    "duration": 156,
    "start_time": "2022-03-09T06:20:00.111Z"
   },
   {
    "duration": 147,
    "start_time": "2022-03-09T06:36:00.791Z"
   },
   {
    "duration": 56,
    "start_time": "2022-03-09T07:14:31.965Z"
   },
   {
    "duration": 76,
    "start_time": "2022-03-09T07:14:37.821Z"
   },
   {
    "duration": 9,
    "start_time": "2022-03-09T07:25:51.844Z"
   },
   {
    "duration": 14,
    "start_time": "2022-03-09T07:26:01.042Z"
   },
   {
    "duration": 221,
    "start_time": "2022-03-09T07:27:29.049Z"
   },
   {
    "duration": 217,
    "start_time": "2022-03-09T07:27:42.774Z"
   },
   {
    "duration": 217,
    "start_time": "2022-03-09T07:27:54.501Z"
   },
   {
    "duration": 74,
    "start_time": "2022-03-09T07:29:05.293Z"
   },
   {
    "duration": 23,
    "start_time": "2022-03-09T07:30:19.806Z"
   },
   {
    "duration": 58,
    "start_time": "2022-03-09T07:30:33.071Z"
   },
   {
    "duration": 71,
    "start_time": "2022-03-09T07:31:25.009Z"
   },
   {
    "duration": 32,
    "start_time": "2022-03-09T07:45:56.921Z"
   },
   {
    "duration": 42,
    "start_time": "2022-03-09T07:46:18.783Z"
   },
   {
    "duration": 5730,
    "start_time": "2022-03-09T07:46:30.919Z"
   },
   {
    "duration": 15,
    "start_time": "2022-03-09T07:46:41.494Z"
   },
   {
    "duration": 44,
    "start_time": "2022-03-09T07:47:21.233Z"
   },
   {
    "duration": 4,
    "start_time": "2022-03-09T07:49:21.489Z"
   },
   {
    "duration": 39,
    "start_time": "2022-03-09T07:50:40.675Z"
   },
   {
    "duration": 57,
    "start_time": "2022-03-09T07:50:45.938Z"
   },
   {
    "duration": 9,
    "start_time": "2022-03-09T07:52:12.243Z"
   },
   {
    "duration": 229,
    "start_time": "2022-03-09T07:53:08.572Z"
   },
   {
    "duration": 18,
    "start_time": "2022-03-09T07:53:19.637Z"
   },
   {
    "duration": 37,
    "start_time": "2022-03-09T07:53:19.980Z"
   },
   {
    "duration": 5,
    "start_time": "2022-03-09T07:55:23.141Z"
   },
   {
    "duration": 10,
    "start_time": "2022-03-09T07:55:27.037Z"
   },
   {
    "duration": 5,
    "start_time": "2022-03-09T08:05:45.497Z"
   },
   {
    "duration": 1251,
    "start_time": "2022-03-09T08:05:47.515Z"
   },
   {
    "duration": 226,
    "start_time": "2022-03-09T08:10:52.557Z"
   },
   {
    "duration": 5,
    "start_time": "2022-03-09T08:11:41.638Z"
   },
   {
    "duration": 17,
    "start_time": "2022-03-09T08:11:54.023Z"
   },
   {
    "duration": 14,
    "start_time": "2022-03-09T08:12:02.678Z"
   },
   {
    "duration": 5,
    "start_time": "2022-03-09T08:12:27.174Z"
   },
   {
    "duration": 1229,
    "start_time": "2022-03-09T08:12:27.847Z"
   },
   {
    "duration": 1443,
    "start_time": "2022-03-09T08:12:47.766Z"
   },
   {
    "duration": 1130,
    "start_time": "2022-03-09T08:12:54.807Z"
   },
   {
    "duration": 1355,
    "start_time": "2022-03-09T08:13:00.673Z"
   },
   {
    "duration": 1227,
    "start_time": "2022-03-09T08:13:19.816Z"
   },
   {
    "duration": 1194,
    "start_time": "2022-03-09T08:13:29.465Z"
   },
   {
    "duration": 1692,
    "start_time": "2022-03-09T08:13:59.832Z"
   },
   {
    "duration": 1234,
    "start_time": "2022-03-09T08:14:07.032Z"
   },
   {
    "duration": 1275,
    "start_time": "2022-03-09T08:14:11.848Z"
   },
   {
    "duration": 423,
    "start_time": "2022-03-09T08:14:29.832Z"
   },
   {
    "duration": 413,
    "start_time": "2022-03-09T08:14:30.791Z"
   },
   {
    "duration": 421,
    "start_time": "2022-03-09T08:14:34.384Z"
   },
   {
    "duration": 574,
    "start_time": "2022-03-09T08:14:39.031Z"
   },
   {
    "duration": 5,
    "start_time": "2022-03-09T08:14:48.272Z"
   },
   {
    "duration": 60,
    "start_time": "2022-03-09T08:14:48.761Z"
   },
   {
    "duration": 77,
    "start_time": "2022-03-09T08:14:50.585Z"
   },
   {
    "duration": 23,
    "start_time": "2022-03-09T08:14:52.775Z"
   },
   {
    "duration": 69,
    "start_time": "2022-03-09T08:14:58.857Z"
   },
   {
    "duration": 22,
    "start_time": "2022-03-09T08:19:11.931Z"
   },
   {
    "duration": 220,
    "start_time": "2022-03-09T08:19:28.157Z"
   },
   {
    "duration": 226,
    "start_time": "2022-03-09T08:19:35.059Z"
   },
   {
    "duration": 4,
    "start_time": "2022-03-09T08:19:47.099Z"
   },
   {
    "duration": 3,
    "start_time": "2022-03-09T08:20:54.412Z"
   },
   {
    "duration": 16,
    "start_time": "2022-03-09T08:20:59.595Z"
   },
   {
    "duration": 23,
    "start_time": "2022-03-09T08:21:27.844Z"
   },
   {
    "duration": 5,
    "start_time": "2022-03-09T08:21:30.084Z"
   },
   {
    "duration": 3,
    "start_time": "2022-03-09T08:22:23.428Z"
   },
   {
    "duration": 17,
    "start_time": "2022-03-09T08:22:23.892Z"
   },
   {
    "duration": 20,
    "start_time": "2022-03-09T08:22:42.564Z"
   },
   {
    "duration": 4,
    "start_time": "2022-03-09T08:22:42.876Z"
   },
   {
    "duration": 4,
    "start_time": "2022-03-09T08:22:43.332Z"
   },
   {
    "duration": 18,
    "start_time": "2022-03-09T08:22:45.516Z"
   },
   {
    "duration": 7,
    "start_time": "2022-03-09T08:23:46.484Z"
   },
   {
    "duration": 17,
    "start_time": "2022-03-09T08:23:50.205Z"
   },
   {
    "duration": 7,
    "start_time": "2022-03-09T08:24:25.973Z"
   },
   {
    "duration": 6,
    "start_time": "2022-03-09T08:24:35.317Z"
   },
   {
    "duration": 27,
    "start_time": "2022-03-09T08:24:35.774Z"
   },
   {
    "duration": 5,
    "start_time": "2022-03-09T08:24:56.310Z"
   },
   {
    "duration": 6,
    "start_time": "2022-03-09T08:24:59.982Z"
   },
   {
    "duration": 19,
    "start_time": "2022-03-09T08:25:00.254Z"
   },
   {
    "duration": 245,
    "start_time": "2022-03-09T08:27:00.103Z"
   },
   {
    "duration": 30,
    "start_time": "2022-03-09T08:27:05.479Z"
   },
   {
    "duration": 4,
    "start_time": "2022-03-09T08:27:06.535Z"
   },
   {
    "duration": 43,
    "start_time": "2022-03-09T08:27:39.592Z"
   },
   {
    "duration": 6,
    "start_time": "2022-03-09T08:28:14.240Z"
   },
   {
    "duration": 227,
    "start_time": "2022-03-09T08:29:23.441Z"
   },
   {
    "duration": 916,
    "start_time": "2022-03-09T08:30:18.162Z"
   },
   {
    "duration": 4,
    "start_time": "2022-03-09T08:30:48.706Z"
   },
   {
    "duration": 371,
    "start_time": "2022-03-09T08:31:11.857Z"
   },
   {
    "duration": 4,
    "start_time": "2022-03-09T08:31:17.753Z"
   },
   {
    "duration": 5,
    "start_time": "2022-03-09T08:31:21.001Z"
   },
   {
    "duration": 4,
    "start_time": "2022-03-09T08:33:00.667Z"
   },
   {
    "duration": 25,
    "start_time": "2022-03-09T08:33:05.722Z"
   },
   {
    "duration": 4,
    "start_time": "2022-03-09T08:33:20.680Z"
   },
   {
    "duration": 27,
    "start_time": "2022-03-09T08:33:21.363Z"
   },
   {
    "duration": 39,
    "start_time": "2022-03-09T08:33:25.875Z"
   },
   {
    "duration": 6,
    "start_time": "2022-03-09T08:33:26.538Z"
   },
   {
    "duration": 5,
    "start_time": "2022-03-09T08:33:27.026Z"
   },
   {
    "duration": 4,
    "start_time": "2022-03-09T08:33:30.570Z"
   },
   {
    "duration": 27,
    "start_time": "2022-03-09T08:33:30.986Z"
   },
   {
    "duration": 41,
    "start_time": "2022-03-09T08:33:50.412Z"
   },
   {
    "duration": 4,
    "start_time": "2022-03-09T08:33:50.876Z"
   },
   {
    "duration": 27,
    "start_time": "2022-03-09T08:33:51.403Z"
   },
   {
    "duration": 8,
    "start_time": "2022-03-09T08:34:36.948Z"
   },
   {
    "duration": 8,
    "start_time": "2022-03-09T08:34:51.468Z"
   },
   {
    "duration": 47,
    "start_time": "2022-03-09T08:34:55.420Z"
   },
   {
    "duration": 5,
    "start_time": "2022-03-09T08:36:27.389Z"
   },
   {
    "duration": 235,
    "start_time": "2022-03-09T08:36:29.508Z"
   },
   {
    "duration": 5,
    "start_time": "2022-03-09T08:36:48.605Z"
   },
   {
    "duration": 7,
    "start_time": "2022-03-09T08:36:54.245Z"
   },
   {
    "duration": 44,
    "start_time": "2022-03-09T08:36:58.085Z"
   },
   {
    "duration": 4,
    "start_time": "2022-03-09T08:39:19.174Z"
   },
   {
    "duration": 16,
    "start_time": "2022-03-09T08:39:21.399Z"
   },
   {
    "duration": 4,
    "start_time": "2022-03-09T08:40:33.895Z"
   },
   {
    "duration": 55,
    "start_time": "2022-03-09T08:40:36.631Z"
   },
   {
    "duration": 76,
    "start_time": "2022-03-09T08:40:36.775Z"
   },
   {
    "duration": 23,
    "start_time": "2022-03-09T08:40:36.934Z"
   },
   {
    "duration": 42,
    "start_time": "2022-03-09T08:40:37.119Z"
   },
   {
    "duration": 4,
    "start_time": "2022-03-09T08:40:37.319Z"
   },
   {
    "duration": 27,
    "start_time": "2022-03-09T08:40:37.496Z"
   },
   {
    "duration": 7,
    "start_time": "2022-03-09T08:40:37.663Z"
   },
   {
    "duration": 34,
    "start_time": "2022-03-09T08:40:38.007Z"
   },
   {
    "duration": 39,
    "start_time": "2022-03-09T08:40:38.167Z"
   },
   {
    "duration": 15,
    "start_time": "2022-03-09T08:40:38.335Z"
   },
   {
    "duration": 29,
    "start_time": "2022-03-09T08:40:38.503Z"
   },
   {
    "duration": 3,
    "start_time": "2022-03-09T08:40:38.670Z"
   },
   {
    "duration": 6,
    "start_time": "2022-03-09T08:40:38.839Z"
   },
   {
    "duration": 44,
    "start_time": "2022-03-09T08:40:39.183Z"
   },
   {
    "duration": 48,
    "start_time": "2022-03-09T08:40:39.351Z"
   },
   {
    "duration": 19,
    "start_time": "2022-03-09T08:40:39.527Z"
   },
   {
    "duration": 23,
    "start_time": "2022-03-09T08:40:39.694Z"
   },
   {
    "duration": 3,
    "start_time": "2022-03-09T08:40:39.879Z"
   },
   {
    "duration": 3,
    "start_time": "2022-03-09T08:40:40.055Z"
   },
   {
    "duration": 16,
    "start_time": "2022-03-09T08:40:40.231Z"
   },
   {
    "duration": 6,
    "start_time": "2022-03-09T08:40:40.399Z"
   },
   {
    "duration": 45,
    "start_time": "2022-03-09T08:40:40.584Z"
   },
   {
    "duration": 5,
    "start_time": "2022-03-09T08:40:40.950Z"
   },
   {
    "duration": 6,
    "start_time": "2022-03-09T08:40:41.136Z"
   },
   {
    "duration": 47,
    "start_time": "2022-03-09T08:40:41.336Z"
   },
   {
    "duration": 82,
    "start_time": "2022-03-09T08:40:41.751Z"
   },
   {
    "duration": 5,
    "start_time": "2022-03-09T08:50:48.598Z"
   },
   {
    "duration": 5,
    "start_time": "2022-03-09T08:51:04.054Z"
   },
   {
    "duration": 234,
    "start_time": "2022-03-09T08:53:49.271Z"
   },
   {
    "duration": 256,
    "start_time": "2022-03-09T08:54:00.072Z"
   },
   {
    "duration": 234,
    "start_time": "2022-03-09T08:54:07.663Z"
   },
   {
    "duration": 424,
    "start_time": "2022-03-09T08:57:45.578Z"
   },
   {
    "duration": 61,
    "start_time": "2022-03-09T08:57:49.842Z"
   },
   {
    "duration": 5,
    "start_time": "2022-03-09T09:43:04.794Z"
   },
   {
    "duration": 4,
    "start_time": "2022-03-09T09:43:11.291Z"
   },
   {
    "duration": 56,
    "start_time": "2022-03-09T09:43:11.452Z"
   },
   {
    "duration": 80,
    "start_time": "2022-03-09T09:43:11.611Z"
   },
   {
    "duration": 24,
    "start_time": "2022-03-09T09:43:11.766Z"
   },
   {
    "duration": 46,
    "start_time": "2022-03-09T09:43:11.924Z"
   },
   {
    "duration": 4,
    "start_time": "2022-03-09T09:43:12.075Z"
   },
   {
    "duration": 27,
    "start_time": "2022-03-09T09:43:12.243Z"
   },
   {
    "duration": 6,
    "start_time": "2022-03-09T09:43:12.396Z"
   },
   {
    "duration": 34,
    "start_time": "2022-03-09T09:43:12.709Z"
   },
   {
    "duration": 40,
    "start_time": "2022-03-09T09:43:12.870Z"
   },
   {
    "duration": 15,
    "start_time": "2022-03-09T09:43:13.035Z"
   },
   {
    "duration": 28,
    "start_time": "2022-03-09T09:43:13.203Z"
   },
   {
    "duration": 4,
    "start_time": "2022-03-09T09:43:13.363Z"
   },
   {
    "duration": 6,
    "start_time": "2022-03-09T09:43:13.531Z"
   },
   {
    "duration": 42,
    "start_time": "2022-03-09T09:43:13.859Z"
   },
   {
    "duration": 48,
    "start_time": "2022-03-09T09:43:14.027Z"
   },
   {
    "duration": 20,
    "start_time": "2022-03-09T09:43:14.178Z"
   },
   {
    "duration": 24,
    "start_time": "2022-03-09T09:43:14.355Z"
   },
   {
    "duration": 3,
    "start_time": "2022-03-09T09:43:14.523Z"
   },
   {
    "duration": 3,
    "start_time": "2022-03-09T09:43:14.699Z"
   },
   {
    "duration": 18,
    "start_time": "2022-03-09T09:43:14.875Z"
   },
   {
    "duration": 7,
    "start_time": "2022-03-09T09:43:15.043Z"
   },
   {
    "duration": 45,
    "start_time": "2022-03-09T09:43:15.221Z"
   },
   {
    "duration": 5,
    "start_time": "2022-03-09T09:43:15.571Z"
   },
   {
    "duration": 7,
    "start_time": "2022-03-09T09:43:15.763Z"
   },
   {
    "duration": 51,
    "start_time": "2022-03-09T09:43:15.964Z"
   },
   {
    "duration": 5,
    "start_time": "2022-03-09T09:43:16.155Z"
   },
   {
    "duration": 371,
    "start_time": "2022-03-09T09:43:16.371Z"
   },
   {
    "duration": 58,
    "start_time": "2022-03-09T09:43:16.744Z"
   },
   {
    "duration": 4,
    "start_time": "2022-03-09T09:44:32.517Z"
   },
   {
    "duration": 61,
    "start_time": "2022-03-09T09:44:32.750Z"
   },
   {
    "duration": 81,
    "start_time": "2022-03-09T09:44:32.903Z"
   },
   {
    "duration": 24,
    "start_time": "2022-03-09T09:44:33.061Z"
   },
   {
    "duration": 46,
    "start_time": "2022-03-09T09:44:33.229Z"
   },
   {
    "duration": 5,
    "start_time": "2022-03-09T09:44:33.404Z"
   },
   {
    "duration": 27,
    "start_time": "2022-03-09T09:44:33.765Z"
   },
   {
    "duration": 7,
    "start_time": "2022-03-09T09:44:34.187Z"
   },
   {
    "duration": 34,
    "start_time": "2022-03-09T09:44:34.772Z"
   },
   {
    "duration": 41,
    "start_time": "2022-03-09T09:44:34.979Z"
   },
   {
    "duration": 16,
    "start_time": "2022-03-09T09:44:35.228Z"
   },
   {
    "duration": 29,
    "start_time": "2022-03-09T09:44:35.532Z"
   },
   {
    "duration": 3,
    "start_time": "2022-03-09T09:44:35.988Z"
   },
   {
    "duration": 6,
    "start_time": "2022-03-09T09:44:36.364Z"
   },
   {
    "duration": 42,
    "start_time": "2022-03-09T09:44:37.515Z"
   },
   {
    "duration": 48,
    "start_time": "2022-03-09T09:44:37.691Z"
   },
   {
    "duration": 17,
    "start_time": "2022-03-09T09:44:37.852Z"
   },
   {
    "duration": 24,
    "start_time": "2022-03-09T09:44:38.020Z"
   },
   {
    "duration": 3,
    "start_time": "2022-03-09T09:44:38.180Z"
   },
   {
    "duration": 3,
    "start_time": "2022-03-09T09:44:38.348Z"
   },
   {
    "duration": 17,
    "start_time": "2022-03-09T09:44:38.508Z"
   },
   {
    "duration": 7,
    "start_time": "2022-03-09T09:44:38.668Z"
   },
   {
    "duration": 45,
    "start_time": "2022-03-09T09:44:38.861Z"
   },
   {
    "duration": 5,
    "start_time": "2022-03-09T09:44:39.475Z"
   },
   {
    "duration": 7,
    "start_time": "2022-03-09T09:44:39.803Z"
   },
   {
    "duration": 54,
    "start_time": "2022-03-09T09:44:40.005Z"
   },
   {
    "duration": 78,
    "start_time": "2022-03-09T09:44:40.532Z"
   },
   {
    "duration": 395,
    "start_time": "2022-03-09T09:44:41.164Z"
   },
   {
    "duration": 57,
    "start_time": "2022-03-09T09:44:41.561Z"
   },
   {
    "duration": 4,
    "start_time": "2022-03-09T09:45:39.141Z"
   },
   {
    "duration": 4,
    "start_time": "2022-03-09T09:46:19.629Z"
   },
   {
    "duration": 51,
    "start_time": "2022-03-09T09:46:19.933Z"
   },
   {
    "duration": 67,
    "start_time": "2022-03-09T09:46:20.141Z"
   },
   {
    "duration": 24,
    "start_time": "2022-03-09T09:46:20.372Z"
   },
   {
    "duration": 42,
    "start_time": "2022-03-09T09:46:20.733Z"
   },
   {
    "duration": 5,
    "start_time": "2022-03-09T09:46:20.948Z"
   },
   {
    "duration": 26,
    "start_time": "2022-03-09T09:46:21.142Z"
   },
   {
    "duration": 7,
    "start_time": "2022-03-09T09:46:21.341Z"
   },
   {
    "duration": 32,
    "start_time": "2022-03-09T09:46:21.797Z"
   },
   {
    "duration": 40,
    "start_time": "2022-03-09T09:46:22.037Z"
   },
   {
    "duration": 15,
    "start_time": "2022-03-09T09:46:22.309Z"
   },
   {
    "duration": 29,
    "start_time": "2022-03-09T09:46:22.701Z"
   },
   {
    "duration": 3,
    "start_time": "2022-03-09T09:46:23.013Z"
   },
   {
    "duration": 6,
    "start_time": "2022-03-09T09:46:23.389Z"
   },
   {
    "duration": 47,
    "start_time": "2022-03-09T09:46:23.966Z"
   },
   {
    "duration": 48,
    "start_time": "2022-03-09T09:46:24.181Z"
   },
   {
    "duration": 18,
    "start_time": "2022-03-09T09:46:24.365Z"
   },
   {
    "duration": 23,
    "start_time": "2022-03-09T09:46:24.589Z"
   },
   {
    "duration": 4,
    "start_time": "2022-03-09T09:46:24.812Z"
   },
   {
    "duration": 3,
    "start_time": "2022-03-09T09:46:25.013Z"
   },
   {
    "duration": 16,
    "start_time": "2022-03-09T09:46:25.222Z"
   },
   {
    "duration": 7,
    "start_time": "2022-03-09T09:46:25.477Z"
   },
   {
    "duration": 46,
    "start_time": "2022-03-09T09:46:25.862Z"
   },
   {
    "duration": 5,
    "start_time": "2022-03-09T09:46:26.485Z"
   },
   {
    "duration": 7,
    "start_time": "2022-03-09T09:46:26.758Z"
   },
   {
    "duration": 51,
    "start_time": "2022-03-09T09:46:27.030Z"
   },
   {
    "duration": 5,
    "start_time": "2022-03-09T09:46:27.293Z"
   },
   {
    "duration": 626,
    "start_time": "2022-03-09T09:46:27.812Z"
   },
   {
    "duration": 1,
    "start_time": "2022-03-09T09:46:28.439Z"
   },
   {
    "duration": 47,
    "start_time": "2022-03-09T09:46:55.729Z"
   },
   {
    "duration": 11,
    "start_time": "2022-03-09T09:49:49.722Z"
   },
   {
    "duration": 7,
    "start_time": "2022-03-09T10:03:48.472Z"
   },
   {
    "duration": 283,
    "start_time": "2022-03-09T10:03:49.352Z"
   },
   {
    "duration": 62,
    "start_time": "2022-03-09T10:03:56.888Z"
   },
   {
    "duration": 5,
    "start_time": "2022-03-09T10:04:50.338Z"
   },
   {
    "duration": 4,
    "start_time": "2022-03-09T10:04:54.608Z"
   },
   {
    "duration": 69,
    "start_time": "2022-03-09T10:04:54.784Z"
   },
   {
    "duration": 126,
    "start_time": "2022-03-09T10:04:54.952Z"
   },
   {
    "duration": 28,
    "start_time": "2022-03-09T10:04:55.110Z"
   },
   {
    "duration": 64,
    "start_time": "2022-03-09T10:04:55.264Z"
   },
   {
    "duration": 6,
    "start_time": "2022-03-09T10:04:55.423Z"
   },
   {
    "duration": 43,
    "start_time": "2022-03-09T10:04:55.586Z"
   },
   {
    "duration": 8,
    "start_time": "2022-03-09T10:04:55.746Z"
   },
   {
    "duration": 35,
    "start_time": "2022-03-09T10:04:56.071Z"
   },
   {
    "duration": 40,
    "start_time": "2022-03-09T10:04:56.255Z"
   },
   {
    "duration": 16,
    "start_time": "2022-03-09T10:04:56.421Z"
   },
   {
    "duration": 29,
    "start_time": "2022-03-09T10:04:56.577Z"
   },
   {
    "duration": 3,
    "start_time": "2022-03-09T10:04:56.744Z"
   },
   {
    "duration": 8,
    "start_time": "2022-03-09T10:04:56.911Z"
   },
   {
    "duration": 45,
    "start_time": "2022-03-09T10:04:57.239Z"
   },
   {
    "duration": 49,
    "start_time": "2022-03-09T10:04:57.423Z"
   },
   {
    "duration": 18,
    "start_time": "2022-03-09T10:04:57.597Z"
   },
   {
    "duration": 23,
    "start_time": "2022-03-09T10:04:57.743Z"
   },
   {
    "duration": 4,
    "start_time": "2022-03-09T10:04:57.919Z"
   },
   {
    "duration": 3,
    "start_time": "2022-03-09T10:04:58.095Z"
   },
   {
    "duration": 16,
    "start_time": "2022-03-09T10:04:58.264Z"
   },
   {
    "duration": 7,
    "start_time": "2022-03-09T10:04:58.439Z"
   },
   {
    "duration": 51,
    "start_time": "2022-03-09T10:04:58.625Z"
   },
   {
    "duration": 5,
    "start_time": "2022-03-09T10:04:58.968Z"
   },
   {
    "duration": 7,
    "start_time": "2022-03-09T10:04:59.143Z"
   },
   {
    "duration": 50,
    "start_time": "2022-03-09T10:04:59.337Z"
   },
   {
    "duration": 5,
    "start_time": "2022-03-09T10:04:59.505Z"
   },
   {
    "duration": 314,
    "start_time": "2022-03-09T10:04:59.704Z"
   },
   {
    "duration": 60,
    "start_time": "2022-03-09T10:05:00.161Z"
   },
   {
    "duration": 1108,
    "start_time": "2022-03-09T16:44:38.381Z"
   },
   {
    "duration": 2,
    "start_time": "2022-03-09T16:44:39.491Z"
   },
   {
    "duration": 5,
    "start_time": "2022-03-09T16:44:39.495Z"
   },
   {
    "duration": 368,
    "start_time": "2022-03-09T16:44:39.501Z"
   },
   {
    "duration": 5,
    "start_time": "2022-03-09T16:44:39.871Z"
   },
   {
    "duration": 403,
    "start_time": "2022-03-09T16:44:39.877Z"
   },
   {
    "duration": 209,
    "start_time": "2022-03-09T16:44:40.303Z"
   },
   {
    "duration": 23,
    "start_time": "2022-03-09T16:44:40.664Z"
   },
   {
    "duration": 170,
    "start_time": "2022-03-09T16:44:41.259Z"
   },
   {
    "duration": 17,
    "start_time": "2022-03-09T16:44:41.770Z"
   },
   {
    "duration": 50,
    "start_time": "2022-03-09T16:44:42.380Z"
   },
   {
    "duration": 3,
    "start_time": "2022-03-09T16:44:43.752Z"
   },
   {
    "duration": 64,
    "start_time": "2022-03-09T16:44:43.953Z"
   },
   {
    "duration": 39,
    "start_time": "2022-03-09T16:44:44.138Z"
   },
   {
    "duration": 5,
    "start_time": "2022-03-09T16:44:45.168Z"
   },
   {
    "duration": 18,
    "start_time": "2022-03-09T16:44:45.494Z"
   },
   {
    "duration": 15,
    "start_time": "2022-03-09T16:44:45.935Z"
   },
   {
    "duration": 154,
    "start_time": "2022-03-09T16:44:46.554Z"
   },
   {
    "duration": 6,
    "start_time": "2022-03-09T16:44:47.112Z"
   },
   {
    "duration": 5,
    "start_time": "2022-03-09T16:44:48.414Z"
   },
   {
    "duration": 1245,
    "start_time": "2022-03-09T16:44:52.026Z"
   },
   {
    "duration": 431,
    "start_time": "2022-03-09T16:46:18.845Z"
   },
   {
    "duration": 431,
    "start_time": "2022-03-09T16:46:19.685Z"
   },
   {
    "duration": 13,
    "start_time": "2022-03-09T16:47:23.238Z"
   },
   {
    "duration": 14,
    "start_time": "2022-03-09T16:47:30.779Z"
   },
   {
    "duration": 15,
    "start_time": "2022-03-09T16:47:35.037Z"
   },
   {
    "duration": 394,
    "start_time": "2022-03-09T16:47:47.648Z"
   },
   {
    "duration": 1161,
    "start_time": "2022-03-09T16:48:00.138Z"
   },
   {
    "duration": 816,
    "start_time": "2022-03-09T16:48:09.932Z"
   },
   {
    "duration": 445,
    "start_time": "2022-03-09T16:48:13.951Z"
   },
   {
    "duration": 5,
    "start_time": "2022-03-09T16:48:25.949Z"
   },
   {
    "duration": 13,
    "start_time": "2022-03-09T16:48:35.074Z"
   },
   {
    "duration": 14,
    "start_time": "2022-03-09T16:48:41.034Z"
   },
   {
    "duration": 13,
    "start_time": "2022-03-09T16:48:44.978Z"
   },
   {
    "duration": 76,
    "start_time": "2022-03-09T16:48:56.254Z"
   },
   {
    "duration": 410,
    "start_time": "2022-03-09T16:49:02.468Z"
   },
   {
    "duration": 5,
    "start_time": "2022-03-09T16:51:08.695Z"
   },
   {
    "duration": 1342,
    "start_time": "2022-03-09T16:51:12.071Z"
   },
   {
    "duration": 431,
    "start_time": "2022-03-09T16:51:19.574Z"
   },
   {
    "duration": 425,
    "start_time": "2022-03-09T16:51:21.266Z"
   },
   {
    "duration": 217,
    "start_time": "2022-03-09T16:55:04.424Z"
   },
   {
    "duration": 24,
    "start_time": "2022-03-09T16:55:35.762Z"
   },
   {
    "duration": 4,
    "start_time": "2022-03-09T16:55:48.370Z"
   },
   {
    "duration": 248,
    "start_time": "2022-03-09T16:56:03.434Z"
   },
   {
    "duration": 4,
    "start_time": "2022-03-09T16:56:09.874Z"
   },
   {
    "duration": 237,
    "start_time": "2022-03-09T16:57:36.325Z"
   },
   {
    "duration": 241,
    "start_time": "2022-03-09T16:57:43.177Z"
   },
   {
    "duration": 235,
    "start_time": "2022-03-09T16:58:17.354Z"
   },
   {
    "duration": 306,
    "start_time": "2022-03-09T16:58:26.678Z"
   },
   {
    "duration": 450,
    "start_time": "2022-03-09T16:59:00.647Z"
   },
   {
    "duration": 311,
    "start_time": "2022-03-09T16:59:19.326Z"
   },
   {
    "duration": 336,
    "start_time": "2022-03-09T17:01:05.127Z"
   },
   {
    "duration": 281,
    "start_time": "2022-03-09T17:01:31.742Z"
   },
   {
    "duration": 293,
    "start_time": "2022-03-09T17:01:38.788Z"
   },
   {
    "duration": 263,
    "start_time": "2022-03-09T17:01:57.530Z"
   },
   {
    "duration": 232,
    "start_time": "2022-03-09T17:02:43.131Z"
   },
   {
    "duration": 371,
    "start_time": "2022-03-09T17:02:49.217Z"
   },
   {
    "duration": 309,
    "start_time": "2022-03-09T17:02:54.257Z"
   },
   {
    "duration": 5,
    "start_time": "2022-03-09T17:03:35.643Z"
   },
   {
    "duration": 52,
    "start_time": "2022-03-09T17:03:36.135Z"
   },
   {
    "duration": 81,
    "start_time": "2022-03-09T17:03:38.050Z"
   },
   {
    "duration": 22,
    "start_time": "2022-03-09T17:03:42.201Z"
   },
   {
    "duration": 44,
    "start_time": "2022-03-09T17:04:26.689Z"
   },
   {
    "duration": 38,
    "start_time": "2022-03-09T17:05:01.369Z"
   },
   {
    "duration": 4,
    "start_time": "2022-03-09T17:05:11.503Z"
   },
   {
    "duration": 4,
    "start_time": "2022-03-09T17:06:01.491Z"
   },
   {
    "duration": 14,
    "start_time": "2022-03-09T17:06:02.116Z"
   },
   {
    "duration": 6,
    "start_time": "2022-03-09T17:06:19.136Z"
   },
   {
    "duration": 14,
    "start_time": "2022-03-09T17:06:29.341Z"
   },
   {
    "duration": 32,
    "start_time": "2022-03-09T17:07:18.467Z"
   },
   {
    "duration": 44,
    "start_time": "2022-03-09T17:07:42.147Z"
   },
   {
    "duration": 15,
    "start_time": "2022-03-09T17:07:46.641Z"
   },
   {
    "duration": 24,
    "start_time": "2022-03-09T17:08:22.975Z"
   },
   {
    "duration": 3,
    "start_time": "2022-03-09T17:08:43.924Z"
   },
   {
    "duration": 8,
    "start_time": "2022-03-09T17:08:49.480Z"
   },
   {
    "duration": 18,
    "start_time": "2022-03-09T17:08:53.611Z"
   },
   {
    "duration": 5,
    "start_time": "2022-03-09T17:16:32.598Z"
   },
   {
    "duration": 4,
    "start_time": "2022-03-09T17:16:36.692Z"
   },
   {
    "duration": 59,
    "start_time": "2022-03-09T17:16:36.698Z"
   },
   {
    "duration": 80,
    "start_time": "2022-03-09T17:16:36.901Z"
   },
   {
    "duration": 23,
    "start_time": "2022-03-09T17:16:40.090Z"
   },
   {
    "duration": 36,
    "start_time": "2022-03-09T17:16:40.511Z"
   },
   {
    "duration": 5,
    "start_time": "2022-03-09T17:16:40.935Z"
   },
   {
    "duration": 4,
    "start_time": "2022-03-09T17:16:42.262Z"
   },
   {
    "duration": 6,
    "start_time": "2022-03-09T17:16:44.603Z"
   },
   {
    "duration": 11,
    "start_time": "2022-03-09T17:16:44.983Z"
   },
   {
    "duration": 7,
    "start_time": "2022-03-09T17:16:51.647Z"
   },
   {
    "duration": 30,
    "start_time": "2022-03-09T17:16:55.059Z"
   },
   {
    "duration": 37,
    "start_time": "2022-03-09T17:16:57.140Z"
   },
   {
    "duration": 15,
    "start_time": "2022-03-09T17:16:58.064Z"
   },
   {
    "duration": 26,
    "start_time": "2022-03-09T17:17:01.189Z"
   },
   {
    "duration": 4,
    "start_time": "2022-03-09T17:17:26.457Z"
   },
   {
    "duration": 4,
    "start_time": "2022-03-09T17:18:06.654Z"
   },
   {
    "duration": 5,
    "start_time": "2022-03-09T17:18:46.901Z"
   },
   {
    "duration": 52,
    "start_time": "2022-03-09T17:18:47.073Z"
   },
   {
    "duration": 66,
    "start_time": "2022-03-09T17:18:47.246Z"
   },
   {
    "duration": 22,
    "start_time": "2022-03-09T17:18:47.423Z"
   },
   {
    "duration": 36,
    "start_time": "2022-03-09T17:18:47.748Z"
   },
   {
    "duration": 4,
    "start_time": "2022-03-09T17:18:48.259Z"
   },
   {
    "duration": 3,
    "start_time": "2022-03-09T17:18:48.950Z"
   },
   {
    "duration": 6,
    "start_time": "2022-03-09T17:18:49.681Z"
   },
   {
    "duration": 11,
    "start_time": "2022-03-09T17:18:50.451Z"
   },
   {
    "duration": 8,
    "start_time": "2022-03-09T17:18:54.052Z"
   },
   {
    "duration": 31,
    "start_time": "2022-03-09T17:18:54.818Z"
   },
   {
    "duration": 37,
    "start_time": "2022-03-09T17:18:55.234Z"
   },
   {
    "duration": 16,
    "start_time": "2022-03-09T17:19:01.908Z"
   },
   {
    "duration": 245,
    "start_time": "2022-03-09T17:19:02.390Z"
   },
   {
    "duration": 24,
    "start_time": "2022-03-09T17:19:08.375Z"
   },
   {
    "duration": 4,
    "start_time": "2022-03-09T17:19:11.882Z"
   },
   {
    "duration": 10,
    "start_time": "2022-03-09T17:19:17.385Z"
   },
   {
    "duration": 14,
    "start_time": "2022-03-09T17:19:17.953Z"
   },
   {
    "duration": 45,
    "start_time": "2022-03-09T17:19:33.350Z"
   },
   {
    "duration": 45,
    "start_time": "2022-03-09T17:19:34.492Z"
   },
   {
    "duration": 16,
    "start_time": "2022-03-09T17:19:40.397Z"
   },
   {
    "duration": 20,
    "start_time": "2022-03-09T17:19:59.953Z"
   },
   {
    "duration": 3,
    "start_time": "2022-03-09T17:20:05.465Z"
   },
   {
    "duration": 14,
    "start_time": "2022-03-09T17:20:45.745Z"
   },
   {
    "duration": 8,
    "start_time": "2022-03-09T17:20:55.745Z"
   },
   {
    "duration": 15,
    "start_time": "2022-03-09T17:20:56.222Z"
   },
   {
    "duration": 5,
    "start_time": "2022-03-09T17:21:48.874Z"
   },
   {
    "duration": 53,
    "start_time": "2022-03-09T17:21:49.075Z"
   },
   {
    "duration": 73,
    "start_time": "2022-03-09T17:21:49.352Z"
   },
   {
    "duration": 24,
    "start_time": "2022-03-09T17:21:49.854Z"
   },
   {
    "duration": 38,
    "start_time": "2022-03-09T17:21:50.257Z"
   },
   {
    "duration": 5,
    "start_time": "2022-03-09T17:21:50.827Z"
   },
   {
    "duration": 4,
    "start_time": "2022-03-09T17:21:51.408Z"
   },
   {
    "duration": 5,
    "start_time": "2022-03-09T17:21:52.278Z"
   },
   {
    "duration": 10,
    "start_time": "2022-03-09T17:21:52.784Z"
   },
   {
    "duration": 8,
    "start_time": "2022-03-09T17:21:56.612Z"
   },
   {
    "duration": 32,
    "start_time": "2022-03-09T17:21:59.044Z"
   },
   {
    "duration": 39,
    "start_time": "2022-03-09T17:22:00.965Z"
   },
   {
    "duration": 19,
    "start_time": "2022-03-09T17:22:05.198Z"
   },
   {
    "duration": 25,
    "start_time": "2022-03-09T17:22:05.526Z"
   },
   {
    "duration": 5,
    "start_time": "2022-03-09T17:22:06.035Z"
   },
   {
    "duration": 9,
    "start_time": "2022-03-09T17:22:06.524Z"
   },
   {
    "duration": 15,
    "start_time": "2022-03-09T17:22:07.387Z"
   },
   {
    "duration": 41,
    "start_time": "2022-03-09T17:22:13.967Z"
   },
   {
    "duration": 46,
    "start_time": "2022-03-09T17:22:14.211Z"
   },
   {
    "duration": 18,
    "start_time": "2022-03-09T17:22:14.609Z"
   },
   {
    "duration": 18,
    "start_time": "2022-03-09T17:22:15.158Z"
   },
   {
    "duration": 4,
    "start_time": "2022-03-09T17:22:15.740Z"
   },
   {
    "duration": 14,
    "start_time": "2022-03-09T17:22:16.847Z"
   },
   {
    "duration": 9,
    "start_time": "2022-03-09T17:22:19.566Z"
   },
   {
    "duration": 16,
    "start_time": "2022-03-09T17:22:19.994Z"
   },
   {
    "duration": 4,
    "start_time": "2022-03-09T17:22:51.963Z"
   },
   {
    "duration": 51,
    "start_time": "2022-03-09T17:22:52.157Z"
   },
   {
    "duration": 61,
    "start_time": "2022-03-09T17:22:52.343Z"
   },
   {
    "duration": 23,
    "start_time": "2022-03-09T17:22:52.691Z"
   },
   {
    "duration": 35,
    "start_time": "2022-03-09T17:22:53.357Z"
   },
   {
    "duration": 4,
    "start_time": "2022-03-09T17:22:53.583Z"
   },
   {
    "duration": 4,
    "start_time": "2022-03-09T17:22:53.756Z"
   },
   {
    "duration": 5,
    "start_time": "2022-03-09T17:22:53.934Z"
   },
   {
    "duration": 13,
    "start_time": "2022-03-09T17:22:54.123Z"
   },
   {
    "duration": 7,
    "start_time": "2022-03-09T17:22:54.350Z"
   },
   {
    "duration": 35,
    "start_time": "2022-03-09T17:22:54.997Z"
   },
   {
    "duration": 38,
    "start_time": "2022-03-09T17:22:56.855Z"
   },
   {
    "duration": 16,
    "start_time": "2022-03-09T17:23:03.044Z"
   },
   {
    "duration": 26,
    "start_time": "2022-03-09T17:23:03.204Z"
   },
   {
    "duration": 4,
    "start_time": "2022-03-09T17:23:03.491Z"
   },
   {
    "duration": 9,
    "start_time": "2022-03-09T17:23:07.959Z"
   },
   {
    "duration": 14,
    "start_time": "2022-03-09T17:23:08.346Z"
   },
   {
    "duration": 41,
    "start_time": "2022-03-09T17:23:13.822Z"
   },
   {
    "duration": 44,
    "start_time": "2022-03-09T17:23:14.479Z"
   },
   {
    "duration": 18,
    "start_time": "2022-03-09T17:23:14.876Z"
   },
   {
    "duration": 20,
    "start_time": "2022-03-09T17:23:16.850Z"
   },
   {
    "duration": 3,
    "start_time": "2022-03-09T17:23:19.391Z"
   },
   {
    "duration": 14,
    "start_time": "2022-03-09T17:23:19.947Z"
   },
   {
    "duration": 9,
    "start_time": "2022-03-09T17:23:25.269Z"
   },
   {
    "duration": 14,
    "start_time": "2022-03-09T17:23:25.591Z"
   },
   {
    "duration": 12,
    "start_time": "2022-03-09T17:24:15.654Z"
   },
   {
    "duration": 11,
    "start_time": "2022-03-09T17:24:49.356Z"
   },
   {
    "duration": 8,
    "start_time": "2022-03-09T17:25:38.811Z"
   },
   {
    "duration": 1462,
    "start_time": "2022-03-10T16:31:46.500Z"
   },
   {
    "duration": 4,
    "start_time": "2022-03-10T16:31:47.964Z"
   },
   {
    "duration": 12,
    "start_time": "2022-03-10T16:31:47.971Z"
   },
   {
    "duration": 511,
    "start_time": "2022-03-10T16:31:47.986Z"
   },
   {
    "duration": 7,
    "start_time": "2022-03-10T16:31:48.500Z"
   },
   {
    "duration": 468,
    "start_time": "2022-03-10T16:31:51.960Z"
   },
   {
    "duration": 236,
    "start_time": "2022-03-10T16:31:55.813Z"
   },
   {
    "duration": 30,
    "start_time": "2022-03-10T16:31:56.255Z"
   },
   {
    "duration": 216,
    "start_time": "2022-03-10T16:31:57.143Z"
   },
   {
    "duration": 20,
    "start_time": "2022-03-10T16:31:57.908Z"
   },
   {
    "duration": 78,
    "start_time": "2022-03-10T16:31:59.069Z"
   },
   {
    "duration": 4,
    "start_time": "2022-03-10T16:32:16.037Z"
   },
   {
    "duration": 91,
    "start_time": "2022-03-10T16:32:16.514Z"
   },
   {
    "duration": 65,
    "start_time": "2022-03-10T16:32:17.109Z"
   },
   {
    "duration": 4,
    "start_time": "2022-03-10T16:33:46.780Z"
   },
   {
    "duration": 21,
    "start_time": "2022-03-10T16:33:47.444Z"
   },
   {
    "duration": 51,
    "start_time": "2022-03-10T16:33:47.926Z"
   },
   {
    "duration": 6,
    "start_time": "2022-03-10T16:33:52.464Z"
   },
   {
    "duration": 23,
    "start_time": "2022-03-10T16:33:53.312Z"
   },
   {
    "duration": 17,
    "start_time": "2022-03-10T16:33:54.229Z"
   },
   {
    "duration": 196,
    "start_time": "2022-03-10T16:33:59.642Z"
   },
   {
    "duration": 8,
    "start_time": "2022-03-10T16:34:20.444Z"
   },
   {
    "duration": 9,
    "start_time": "2022-03-10T16:34:32.155Z"
   },
   {
    "duration": 2369,
    "start_time": "2022-03-10T16:34:35.453Z"
   },
   {
    "duration": 658,
    "start_time": "2022-03-10T16:35:27.960Z"
   },
   {
    "duration": 1122,
    "start_time": "2022-03-10T16:35:36.128Z"
   },
   {
    "duration": 4310,
    "start_time": "2022-03-10T16:36:56.252Z"
   },
   {
    "duration": 854,
    "start_time": "2022-03-10T16:37:28.371Z"
   },
   {
    "duration": 84,
    "start_time": "2022-03-10T16:37:48.366Z"
   },
   {
    "duration": 1779,
    "start_time": "2022-03-10T16:37:55.579Z"
   },
   {
    "duration": 2217,
    "start_time": "2022-03-10T16:38:12.238Z"
   },
   {
    "duration": 5,
    "start_time": "2022-03-10T16:41:19.187Z"
   },
   {
    "duration": 95,
    "start_time": "2022-03-10T16:42:43.633Z"
   },
   {
    "duration": 118,
    "start_time": "2022-03-10T16:42:46.483Z"
   },
   {
    "duration": 32,
    "start_time": "2022-03-10T16:43:01.451Z"
   },
   {
    "duration": 55,
    "start_time": "2022-03-10T16:43:28.966Z"
   },
   {
    "duration": 5,
    "start_time": "2022-03-10T16:43:51.650Z"
   },
   {
    "duration": 9,
    "start_time": "2022-03-10T16:43:53.368Z"
   },
   {
    "duration": 17,
    "start_time": "2022-03-10T16:44:04.965Z"
   },
   {
    "duration": 13,
    "start_time": "2022-03-10T16:45:07.012Z"
   },
   {
    "duration": 21,
    "start_time": "2022-03-10T16:45:11.572Z"
   },
   {
    "duration": 58,
    "start_time": "2022-03-10T16:48:56.028Z"
   },
   {
    "duration": 77,
    "start_time": "2022-03-10T16:48:57.311Z"
   },
   {
    "duration": 24,
    "start_time": "2022-03-10T16:48:59.849Z"
   },
   {
    "duration": 26,
    "start_time": "2022-03-10T16:49:02.188Z"
   },
   {
    "duration": 5,
    "start_time": "2022-03-10T16:49:03.474Z"
   },
   {
    "duration": 19,
    "start_time": "2022-03-10T16:49:06.916Z"
   },
   {
    "duration": 13,
    "start_time": "2022-03-10T16:50:13.561Z"
   },
   {
    "duration": 21,
    "start_time": "2022-03-10T16:50:14.556Z"
   },
   {
    "duration": 44,
    "start_time": "2022-03-10T16:51:37.434Z"
   },
   {
    "duration": 54,
    "start_time": "2022-03-10T16:51:37.896Z"
   },
   {
    "duration": 22,
    "start_time": "2022-03-10T16:51:44.857Z"
   },
   {
    "duration": 31,
    "start_time": "2022-03-10T16:51:49.172Z"
   },
   {
    "duration": 7,
    "start_time": "2022-03-10T16:52:01.317Z"
   },
   {
    "duration": 10,
    "start_time": "2022-03-10T16:52:34.836Z"
   },
   {
    "duration": 23,
    "start_time": "2022-03-10T16:52:35.554Z"
   },
   {
    "duration": 28,
    "start_time": "2022-03-10T16:52:57.451Z"
   },
   {
    "duration": 12,
    "start_time": "2022-03-10T16:53:25.739Z"
   },
   {
    "duration": 6,
    "start_time": "2022-03-10T16:59:06.824Z"
   },
   {
    "duration": 94,
    "start_time": "2022-03-10T16:59:07.327Z"
   },
   {
    "duration": 96,
    "start_time": "2022-03-10T16:59:07.497Z"
   },
   {
    "duration": 31,
    "start_time": "2022-03-10T16:59:07.715Z"
   },
   {
    "duration": 57,
    "start_time": "2022-03-10T16:59:07.930Z"
   },
   {
    "duration": 5,
    "start_time": "2022-03-10T16:59:08.191Z"
   },
   {
    "duration": 7,
    "start_time": "2022-03-10T16:59:08.470Z"
   },
   {
    "duration": 15,
    "start_time": "2022-03-10T16:59:08.779Z"
   },
   {
    "duration": 9,
    "start_time": "2022-03-10T16:59:09.180Z"
   },
   {
    "duration": 15,
    "start_time": "2022-03-10T16:59:09.663Z"
   },
   {
    "duration": 49,
    "start_time": "2022-03-10T16:59:11.315Z"
   },
   {
    "duration": 49,
    "start_time": "2022-03-10T16:59:11.661Z"
   },
   {
    "duration": 21,
    "start_time": "2022-03-10T16:59:12.026Z"
   },
   {
    "duration": 32,
    "start_time": "2022-03-10T16:59:12.366Z"
   },
   {
    "duration": 5,
    "start_time": "2022-03-10T16:59:12.712Z"
   },
   {
    "duration": 11,
    "start_time": "2022-03-10T16:59:13.129Z"
   },
   {
    "duration": 21,
    "start_time": "2022-03-10T16:59:13.532Z"
   },
   {
    "duration": 61,
    "start_time": "2022-03-10T16:59:14.691Z"
   },
   {
    "duration": 60,
    "start_time": "2022-03-10T16:59:15.085Z"
   },
   {
    "duration": 25,
    "start_time": "2022-03-10T16:59:15.933Z"
   },
   {
    "duration": 38,
    "start_time": "2022-03-10T16:59:16.474Z"
   },
   {
    "duration": 15,
    "start_time": "2022-03-10T16:59:16.992Z"
   },
   {
    "duration": 25,
    "start_time": "2022-03-10T16:59:20.486Z"
   },
   {
    "duration": 12,
    "start_time": "2022-03-10T16:59:34.680Z"
   },
   {
    "duration": 25,
    "start_time": "2022-03-10T16:59:35.152Z"
   },
   {
    "duration": 8,
    "start_time": "2022-03-10T17:00:38.361Z"
   },
   {
    "duration": 14,
    "start_time": "2022-03-10T17:00:44.136Z"
   },
   {
    "duration": 333,
    "start_time": "2022-03-10T17:05:24.637Z"
   },
   {
    "duration": 274,
    "start_time": "2022-03-10T17:05:38.940Z"
   },
   {
    "duration": 16,
    "start_time": "2022-03-10T17:05:51.692Z"
   },
   {
    "duration": 16,
    "start_time": "2022-03-10T17:05:58.366Z"
   },
   {
    "duration": 30,
    "start_time": "2022-03-10T17:06:45.164Z"
   },
   {
    "duration": 17,
    "start_time": "2022-03-10T17:07:02.817Z"
   },
   {
    "duration": 6,
    "start_time": "2022-03-10T17:13:11.984Z"
   },
   {
    "duration": 20,
    "start_time": "2022-03-10T17:16:36.824Z"
   },
   {
    "duration": 20,
    "start_time": "2022-03-10T17:16:45.032Z"
   },
   {
    "duration": 17,
    "start_time": "2022-03-10T17:21:57.168Z"
   },
   {
    "duration": 6132,
    "start_time": "2022-03-10T17:22:23.600Z"
   },
   {
    "duration": 12,
    "start_time": "2022-03-10T17:22:29.865Z"
   },
   {
    "duration": 17,
    "start_time": "2022-03-10T17:22:37.358Z"
   },
   {
    "duration": 6,
    "start_time": "2022-03-10T17:23:06.955Z"
   },
   {
    "duration": 5,
    "start_time": "2022-03-10T17:23:18.312Z"
   },
   {
    "duration": 315,
    "start_time": "2022-03-10T17:24:37.811Z"
   },
   {
    "duration": 311,
    "start_time": "2022-03-10T17:24:50.720Z"
   },
   {
    "duration": 382,
    "start_time": "2022-03-10T17:24:58.715Z"
   },
   {
    "duration": 559,
    "start_time": "2022-03-10T17:25:08.323Z"
   },
   {
    "duration": 254,
    "start_time": "2022-03-10T17:25:16.152Z"
   },
   {
    "duration": 6,
    "start_time": "2022-03-10T17:25:26.442Z"
   },
   {
    "duration": 8,
    "start_time": "2022-03-10T17:25:31.442Z"
   },
   {
    "duration": 249,
    "start_time": "2022-03-10T17:25:49.530Z"
   },
   {
    "duration": 6,
    "start_time": "2022-03-10T17:25:58.204Z"
   },
   {
    "duration": 331,
    "start_time": "2022-03-10T17:28:54.466Z"
   },
   {
    "duration": 27,
    "start_time": "2022-03-10T17:28:57.151Z"
   },
   {
    "duration": 475,
    "start_time": "2022-03-10T17:31:10.883Z"
   },
   {
    "duration": 7,
    "start_time": "2022-03-10T17:31:22.618Z"
   },
   {
    "duration": 6,
    "start_time": "2022-03-10T17:31:28.442Z"
   },
   {
    "duration": 786,
    "start_time": "2022-03-10T17:31:39.371Z"
   },
   {
    "duration": 6,
    "start_time": "2022-03-10T17:31:47.808Z"
   },
   {
    "duration": 6,
    "start_time": "2022-03-10T17:31:56.892Z"
   },
   {
    "duration": 22,
    "start_time": "2022-03-10T17:32:24.782Z"
   },
   {
    "duration": 6,
    "start_time": "2022-03-10T17:33:05.097Z"
   },
   {
    "duration": 94,
    "start_time": "2022-03-10T17:33:05.724Z"
   },
   {
    "duration": 130,
    "start_time": "2022-03-10T17:33:05.908Z"
   },
   {
    "duration": 38,
    "start_time": "2022-03-10T17:33:06.061Z"
   },
   {
    "duration": 49,
    "start_time": "2022-03-10T17:33:06.228Z"
   },
   {
    "duration": 5,
    "start_time": "2022-03-10T17:33:06.388Z"
   },
   {
    "duration": 9,
    "start_time": "2022-03-10T17:33:06.568Z"
   },
   {
    "duration": 16,
    "start_time": "2022-03-10T17:33:06.733Z"
   },
   {
    "duration": 10,
    "start_time": "2022-03-10T17:33:06.896Z"
   },
   {
    "duration": 15,
    "start_time": "2022-03-10T17:33:07.084Z"
   },
   {
    "duration": 60,
    "start_time": "2022-03-10T17:33:07.792Z"
   },
   {
    "duration": 76,
    "start_time": "2022-03-10T17:33:07.943Z"
   },
   {
    "duration": 26,
    "start_time": "2022-03-10T17:33:08.120Z"
   },
   {
    "duration": 47,
    "start_time": "2022-03-10T17:33:08.316Z"
   },
   {
    "duration": 7,
    "start_time": "2022-03-10T17:33:08.485Z"
   },
   {
    "duration": 12,
    "start_time": "2022-03-10T17:33:08.667Z"
   },
   {
    "duration": 19,
    "start_time": "2022-03-10T17:33:08.847Z"
   },
   {
    "duration": 74,
    "start_time": "2022-03-10T17:33:09.419Z"
   },
   {
    "duration": 93,
    "start_time": "2022-03-10T17:33:09.562Z"
   },
   {
    "duration": 31,
    "start_time": "2022-03-10T17:33:09.761Z"
   },
   {
    "duration": 25,
    "start_time": "2022-03-10T17:33:09.947Z"
   },
   {
    "duration": 7,
    "start_time": "2022-03-10T17:33:10.146Z"
   },
   {
    "duration": 24,
    "start_time": "2022-03-10T17:33:10.336Z"
   },
   {
    "duration": 14,
    "start_time": "2022-03-10T17:33:10.518Z"
   },
   {
    "duration": 20,
    "start_time": "2022-03-10T17:33:10.710Z"
   },
   {
    "duration": 8,
    "start_time": "2022-03-10T17:33:11.169Z"
   },
   {
    "duration": 15,
    "start_time": "2022-03-10T17:33:11.411Z"
   },
   {
    "duration": 20,
    "start_time": "2022-03-10T17:33:12.128Z"
   },
   {
    "duration": 18,
    "start_time": "2022-03-10T17:33:12.332Z"
   },
   {
    "duration": 6,
    "start_time": "2022-03-10T17:33:12.686Z"
   },
   {
    "duration": 20,
    "start_time": "2022-03-10T17:33:12.895Z"
   },
   {
    "duration": 6,
    "start_time": "2022-03-10T17:33:13.083Z"
   },
   {
    "duration": 329,
    "start_time": "2022-03-10T17:33:21.937Z"
   },
   {
    "duration": 29,
    "start_time": "2022-03-10T17:33:22.402Z"
   },
   {
    "duration": 6,
    "start_time": "2022-03-10T17:33:27.216Z"
   },
   {
    "duration": 22,
    "start_time": "2022-03-10T17:33:28.199Z"
   },
   {
    "duration": 1229,
    "start_time": "2022-03-11T06:00:39.426Z"
   },
   {
    "duration": 3,
    "start_time": "2022-03-11T06:00:40.657Z"
   },
   {
    "duration": 7,
    "start_time": "2022-03-11T06:00:40.662Z"
   },
   {
    "duration": 443,
    "start_time": "2022-03-11T06:00:40.670Z"
   },
   {
    "duration": 4,
    "start_time": "2022-03-11T06:00:41.115Z"
   },
   {
    "duration": 435,
    "start_time": "2022-03-11T06:00:41.121Z"
   },
   {
    "duration": 276,
    "start_time": "2022-03-11T06:00:41.558Z"
   },
   {
    "duration": 26,
    "start_time": "2022-03-11T06:00:41.836Z"
   },
   {
    "duration": 203,
    "start_time": "2022-03-11T06:00:41.878Z"
   },
   {
    "duration": 16,
    "start_time": "2022-03-11T06:00:42.300Z"
   },
   {
    "duration": 60,
    "start_time": "2022-03-11T06:00:42.789Z"
   },
   {
    "duration": 3,
    "start_time": "2022-03-11T06:00:43.924Z"
   },
   {
    "duration": 74,
    "start_time": "2022-03-11T06:00:44.128Z"
   },
   {
    "duration": 51,
    "start_time": "2022-03-11T06:00:44.308Z"
   },
   {
    "duration": 6,
    "start_time": "2022-03-11T06:00:44.903Z"
   },
   {
    "duration": 22,
    "start_time": "2022-03-11T06:00:45.014Z"
   },
   {
    "duration": 14,
    "start_time": "2022-03-11T06:00:45.196Z"
   },
   {
    "duration": 167,
    "start_time": "2022-03-11T06:00:45.821Z"
   },
   {
    "duration": 6,
    "start_time": "2022-03-11T06:00:46.509Z"
   },
   {
    "duration": 5,
    "start_time": "2022-03-11T06:00:47.589Z"
   },
   {
    "duration": 1608,
    "start_time": "2022-03-11T06:00:47.948Z"
   },
   {
    "duration": 498,
    "start_time": "2022-03-11T06:00:49.558Z"
   },
   {
    "duration": 605,
    "start_time": "2022-03-11T06:00:50.059Z"
   },
   {
    "duration": 10,
    "start_time": "2022-03-11T06:00:50.667Z"
   },
   {
    "duration": 74,
    "start_time": "2022-03-11T06:00:50.679Z"
   },
   {
    "duration": 107,
    "start_time": "2022-03-11T06:00:50.755Z"
   },
   {
    "duration": 32,
    "start_time": "2022-03-11T06:00:50.863Z"
   },
   {
    "duration": 41,
    "start_time": "2022-03-11T06:00:50.897Z"
   },
   {
    "duration": 4,
    "start_time": "2022-03-11T06:00:50.941Z"
   },
   {
    "duration": 5,
    "start_time": "2022-03-11T06:00:51.029Z"
   },
   {
    "duration": 12,
    "start_time": "2022-03-11T06:00:51.204Z"
   },
   {
    "duration": 7,
    "start_time": "2022-03-11T06:00:51.381Z"
   },
   {
    "duration": 10,
    "start_time": "2022-03-11T06:00:51.573Z"
   },
   {
    "duration": 31,
    "start_time": "2022-03-11T06:00:52.125Z"
   },
   {
    "duration": 48,
    "start_time": "2022-03-11T06:00:52.302Z"
   },
   {
    "duration": 16,
    "start_time": "2022-03-11T06:00:52.506Z"
   },
   {
    "duration": 27,
    "start_time": "2022-03-11T06:00:52.676Z"
   },
   {
    "duration": 4,
    "start_time": "2022-03-11T06:00:52.860Z"
   },
   {
    "duration": 10,
    "start_time": "2022-03-11T06:00:53.052Z"
   },
   {
    "duration": 15,
    "start_time": "2022-03-11T06:00:53.245Z"
   },
   {
    "duration": 46,
    "start_time": "2022-03-11T06:00:53.806Z"
   },
   {
    "duration": 67,
    "start_time": "2022-03-11T06:00:53.996Z"
   },
   {
    "duration": 19,
    "start_time": "2022-03-11T06:00:54.188Z"
   },
   {
    "duration": 21,
    "start_time": "2022-03-11T06:00:54.364Z"
   },
   {
    "duration": 6,
    "start_time": "2022-03-11T06:00:54.534Z"
   },
   {
    "duration": 14,
    "start_time": "2022-03-11T06:00:54.724Z"
   },
   {
    "duration": 9,
    "start_time": "2022-03-11T06:00:54.925Z"
   },
   {
    "duration": 15,
    "start_time": "2022-03-11T06:00:55.102Z"
   },
   {
    "duration": 5,
    "start_time": "2022-03-11T06:00:55.501Z"
   },
   {
    "duration": 10,
    "start_time": "2022-03-11T06:00:55.693Z"
   },
   {
    "duration": 12,
    "start_time": "2022-03-11T06:00:56.476Z"
   },
   {
    "duration": 13,
    "start_time": "2022-03-11T06:00:56.661Z"
   },
   {
    "duration": 4,
    "start_time": "2022-03-11T06:00:57.023Z"
   },
   {
    "duration": 13,
    "start_time": "2022-03-11T06:00:57.467Z"
   },
   {
    "duration": 13,
    "start_time": "2022-03-11T06:00:57.482Z"
   },
   {
    "duration": 201,
    "start_time": "2022-03-11T06:00:57.797Z"
   },
   {
    "duration": 17,
    "start_time": "2022-03-11T06:00:58.000Z"
   },
   {
    "duration": 5,
    "start_time": "2022-03-11T06:00:58.374Z"
   },
   {
    "duration": 15,
    "start_time": "2022-03-11T06:00:58.565Z"
   },
   {
    "duration": 350,
    "start_time": "2022-03-11T06:04:22.935Z"
   },
   {
    "duration": 272,
    "start_time": "2022-03-11T06:04:38.997Z"
   },
   {
    "duration": 31,
    "start_time": "2022-03-11T06:04:52.616Z"
   },
   {
    "duration": 26,
    "start_time": "2022-03-11T06:05:03.927Z"
   },
   {
    "duration": 43,
    "start_time": "2022-03-11T06:06:21.288Z"
   },
   {
    "duration": 38,
    "start_time": "2022-03-11T06:06:28.424Z"
   },
   {
    "duration": 26,
    "start_time": "2022-03-11T06:07:06.209Z"
   },
   {
    "duration": 3,
    "start_time": "2022-03-11T06:09:50.666Z"
   },
   {
    "duration": 25,
    "start_time": "2022-03-11T06:09:51.186Z"
   },
   {
    "duration": 3,
    "start_time": "2022-03-11T06:09:58.378Z"
   },
   {
    "duration": 24,
    "start_time": "2022-03-11T06:09:59.954Z"
   },
   {
    "duration": 3,
    "start_time": "2022-03-11T06:11:40.387Z"
   },
   {
    "duration": 25,
    "start_time": "2022-03-11T06:11:40.595Z"
   },
   {
    "duration": 30,
    "start_time": "2022-03-11T06:13:56.903Z"
   },
   {
    "duration": 6,
    "start_time": "2022-03-11T06:32:13.766Z"
   },
   {
    "duration": 339,
    "start_time": "2022-03-11T06:33:00.200Z"
   },
   {
    "duration": 4,
    "start_time": "2022-03-11T06:33:32.423Z"
   },
   {
    "duration": 575,
    "start_time": "2022-03-11T06:33:32.926Z"
   },
   {
    "duration": 532,
    "start_time": "2022-03-11T06:34:15.087Z"
   },
   {
    "duration": 550,
    "start_time": "2022-03-11T06:35:02.367Z"
   },
   {
    "duration": 562,
    "start_time": "2022-03-11T06:35:49.903Z"
   },
   {
    "duration": 622,
    "start_time": "2022-03-11T06:35:57.392Z"
   },
   {
    "duration": 753,
    "start_time": "2022-03-11T06:36:10.056Z"
   },
   {
    "duration": 623,
    "start_time": "2022-03-11T06:36:20.144Z"
   },
   {
    "duration": 838,
    "start_time": "2022-03-11T06:39:23.529Z"
   },
   {
    "duration": 859,
    "start_time": "2022-03-11T06:39:44.982Z"
   },
   {
    "duration": 9,
    "start_time": "2022-03-11T06:40:00.113Z"
   },
   {
    "duration": 7,
    "start_time": "2022-03-11T06:40:10.065Z"
   },
   {
    "duration": 7995,
    "start_time": "2022-03-11T06:40:23.962Z"
   },
   {
    "duration": 7,
    "start_time": "2022-03-11T06:40:41.658Z"
   },
   {
    "duration": 6087,
    "start_time": "2022-03-11T06:40:46.706Z"
   },
   {
    "duration": 7,
    "start_time": "2022-03-11T06:40:55.738Z"
   },
   {
    "duration": 7,
    "start_time": "2022-03-11T06:41:03.458Z"
   },
   {
    "duration": 806,
    "start_time": "2022-03-11T06:41:24.515Z"
   },
   {
    "duration": 280,
    "start_time": "2022-03-11T06:41:41.667Z"
   },
   {
    "duration": 800,
    "start_time": "2022-03-11T06:41:47.395Z"
   },
   {
    "duration": 33,
    "start_time": "2022-03-11T06:54:23.602Z"
   },
   {
    "duration": 682,
    "start_time": "2022-03-11T07:03:45.128Z"
   },
   {
    "duration": 662,
    "start_time": "2022-03-11T07:03:49.875Z"
   },
   {
    "duration": 931,
    "start_time": "2022-03-11T07:04:11.160Z"
   },
   {
    "duration": 1013,
    "start_time": "2022-03-11T07:05:28.433Z"
   },
   {
    "duration": 938,
    "start_time": "2022-03-11T07:05:51.088Z"
   },
   {
    "duration": 697,
    "start_time": "2022-03-11T07:05:59.970Z"
   },
   {
    "duration": 912,
    "start_time": "2022-03-11T07:06:22.498Z"
   },
   {
    "duration": 782,
    "start_time": "2022-03-11T07:07:37.122Z"
   },
   {
    "duration": 664,
    "start_time": "2022-03-11T07:07:57.955Z"
   },
   {
    "duration": 1087,
    "start_time": "2022-03-11T07:11:56.165Z"
   },
   {
    "duration": 4,
    "start_time": "2022-03-11T07:13:14.975Z"
   },
   {
    "duration": 116,
    "start_time": "2022-03-11T07:14:08.734Z"
   },
   {
    "duration": 108,
    "start_time": "2022-03-11T07:14:30.310Z"
   },
   {
    "duration": 85,
    "start_time": "2022-03-11T07:14:43.494Z"
   },
   {
    "duration": 4,
    "start_time": "2022-03-11T07:14:55.319Z"
   },
   {
    "duration": 82,
    "start_time": "2022-03-11T07:15:01.039Z"
   },
   {
    "duration": 117,
    "start_time": "2022-03-11T07:15:23.680Z"
   },
   {
    "duration": 102,
    "start_time": "2022-03-11T07:16:38.079Z"
   },
   {
    "duration": 758,
    "start_time": "2022-03-11T07:19:49.946Z"
   },
   {
    "duration": 643,
    "start_time": "2022-03-11T07:21:02.618Z"
   },
   {
    "duration": 756,
    "start_time": "2022-03-11T07:21:21.163Z"
   },
   {
    "duration": 746,
    "start_time": "2022-03-11T07:21:33.851Z"
   },
   {
    "duration": 916,
    "start_time": "2022-03-11T07:22:08.843Z"
   },
   {
    "duration": 436,
    "start_time": "2022-03-11T07:27:48.102Z"
   },
   {
    "duration": 630,
    "start_time": "2022-03-11T07:28:12.622Z"
   },
   {
    "duration": 631,
    "start_time": "2022-03-11T07:28:22.191Z"
   },
   {
    "duration": 643,
    "start_time": "2022-03-11T07:28:28.678Z"
   },
   {
    "duration": 672,
    "start_time": "2022-03-11T07:28:45.607Z"
   },
   {
    "duration": 649,
    "start_time": "2022-03-11T07:29:01.446Z"
   },
   {
    "duration": 826,
    "start_time": "2022-03-11T07:29:12.550Z"
   },
   {
    "duration": 724,
    "start_time": "2022-03-11T07:29:22.343Z"
   },
   {
    "duration": 489,
    "start_time": "2022-03-11T07:31:48.417Z"
   },
   {
    "duration": 544,
    "start_time": "2022-03-11T07:31:58.745Z"
   },
   {
    "duration": 536,
    "start_time": "2022-03-11T07:32:09.752Z"
   },
   {
    "duration": 550,
    "start_time": "2022-03-11T07:32:19.961Z"
   },
   {
    "duration": 592,
    "start_time": "2022-03-11T07:32:49.241Z"
   },
   {
    "duration": 41,
    "start_time": "2022-03-11T07:35:42.226Z"
   },
   {
    "duration": 707,
    "start_time": "2022-03-11T07:38:16.763Z"
   },
   {
    "duration": 680,
    "start_time": "2022-03-11T07:38:46.060Z"
   },
   {
    "duration": 853,
    "start_time": "2022-03-11T07:45:41.256Z"
   },
   {
    "duration": 779,
    "start_time": "2022-03-11T07:46:30.297Z"
   },
   {
    "duration": 762,
    "start_time": "2022-03-11T07:46:35.313Z"
   },
   {
    "duration": 39,
    "start_time": "2022-03-11T07:49:08.674Z"
   },
   {
    "duration": 669,
    "start_time": "2022-03-11T07:50:24.763Z"
   },
   {
    "duration": 37,
    "start_time": "2022-03-11T07:50:30.267Z"
   },
   {
    "duration": 298,
    "start_time": "2022-03-11T07:50:48.603Z"
   },
   {
    "duration": 37,
    "start_time": "2022-03-11T07:50:53.412Z"
   },
   {
    "duration": 42,
    "start_time": "2022-03-11T07:51:15.795Z"
   },
   {
    "duration": 68,
    "start_time": "2022-03-11T07:53:05.852Z"
   },
   {
    "duration": 315,
    "start_time": "2022-03-11T07:54:38.502Z"
   },
   {
    "duration": 114,
    "start_time": "2022-03-11T07:54:48.023Z"
   },
   {
    "duration": 42,
    "start_time": "2022-03-11T07:55:01.934Z"
   },
   {
    "duration": 745,
    "start_time": "2022-03-11T07:56:29.582Z"
   },
   {
    "duration": 718,
    "start_time": "2022-03-11T07:56:41.215Z"
   },
   {
    "duration": 680,
    "start_time": "2022-03-11T07:56:53.158Z"
   },
   {
    "duration": 666,
    "start_time": "2022-03-11T07:59:29.448Z"
   },
   {
    "duration": 312,
    "start_time": "2022-03-11T08:08:40.279Z"
   },
   {
    "duration": 3,
    "start_time": "2022-03-11T08:08:55.575Z"
   },
   {
    "duration": 450,
    "start_time": "2022-03-11T08:08:59.511Z"
   },
   {
    "duration": 7,
    "start_time": "2022-03-11T08:09:15.767Z"
   },
   {
    "duration": 12,
    "start_time": "2022-03-11T08:10:27.713Z"
   },
   {
    "duration": 1483,
    "start_time": "2022-03-12T07:44:25.468Z"
   },
   {
    "duration": 3,
    "start_time": "2022-03-12T07:44:26.955Z"
   },
   {
    "duration": 24,
    "start_time": "2022-03-12T07:44:26.963Z"
   },
   {
    "duration": 490,
    "start_time": "2022-03-12T07:44:26.990Z"
   },
   {
    "duration": 8,
    "start_time": "2022-03-12T07:44:27.482Z"
   },
   {
    "duration": 496,
    "start_time": "2022-03-12T07:44:27.492Z"
   },
   {
    "duration": 312,
    "start_time": "2022-03-12T07:44:27.991Z"
   },
   {
    "duration": 31,
    "start_time": "2022-03-12T07:44:28.305Z"
   },
   {
    "duration": 266,
    "start_time": "2022-03-12T07:44:28.340Z"
   },
   {
    "duration": 19,
    "start_time": "2022-03-12T07:44:28.609Z"
   },
   {
    "duration": 118,
    "start_time": "2022-03-12T07:44:28.630Z"
   },
   {
    "duration": 4,
    "start_time": "2022-03-12T07:44:28.750Z"
   },
   {
    "duration": 117,
    "start_time": "2022-03-12T07:44:28.756Z"
   },
   {
    "duration": 65,
    "start_time": "2022-03-12T07:44:28.875Z"
   },
   {
    "duration": 6,
    "start_time": "2022-03-12T07:44:28.942Z"
   },
   {
    "duration": 54,
    "start_time": "2022-03-12T07:44:28.950Z"
   },
   {
    "duration": 16,
    "start_time": "2022-03-12T07:44:29.007Z"
   },
   {
    "duration": 253,
    "start_time": "2022-03-12T07:44:29.025Z"
   },
   {
    "duration": 11,
    "start_time": "2022-03-12T07:44:29.281Z"
   },
   {
    "duration": 15,
    "start_time": "2022-03-12T07:44:29.294Z"
   },
   {
    "duration": 2330,
    "start_time": "2022-03-12T07:44:29.312Z"
   },
   {
    "duration": 655,
    "start_time": "2022-03-12T07:44:31.644Z"
   },
   {
    "duration": 748,
    "start_time": "2022-03-12T07:44:32.302Z"
   },
   {
    "duration": 6,
    "start_time": "2022-03-12T07:44:33.052Z"
   },
   {
    "duration": 106,
    "start_time": "2022-03-12T07:44:33.061Z"
   },
   {
    "duration": 120,
    "start_time": "2022-03-12T07:44:33.169Z"
   },
   {
    "duration": 30,
    "start_time": "2022-03-12T07:44:33.295Z"
   },
   {
    "duration": 72,
    "start_time": "2022-03-12T07:44:33.328Z"
   },
   {
    "duration": 4,
    "start_time": "2022-03-12T07:44:33.402Z"
   },
   {
    "duration": 8,
    "start_time": "2022-03-12T07:44:33.409Z"
   },
   {
    "duration": 15,
    "start_time": "2022-03-12T07:44:33.419Z"
   },
   {
    "duration": 10,
    "start_time": "2022-03-12T07:44:33.437Z"
   },
   {
    "duration": 47,
    "start_time": "2022-03-12T07:44:33.449Z"
   },
   {
    "duration": 48,
    "start_time": "2022-03-12T07:44:33.499Z"
   },
   {
    "duration": 82,
    "start_time": "2022-03-12T07:44:33.549Z"
   },
   {
    "duration": 24,
    "start_time": "2022-03-12T07:44:33.634Z"
   },
   {
    "duration": 65,
    "start_time": "2022-03-12T07:44:33.661Z"
   },
   {
    "duration": 6,
    "start_time": "2022-03-12T07:44:33.729Z"
   },
   {
    "duration": 19,
    "start_time": "2022-03-12T07:44:33.737Z"
   },
   {
    "duration": 34,
    "start_time": "2022-03-12T07:44:33.759Z"
   },
   {
    "duration": 63,
    "start_time": "2022-03-12T07:44:33.795Z"
   },
   {
    "duration": 91,
    "start_time": "2022-03-12T07:44:33.860Z"
   },
   {
    "duration": 37,
    "start_time": "2022-03-12T07:44:33.953Z"
   },
   {
    "duration": 24,
    "start_time": "2022-03-12T07:44:33.992Z"
   },
   {
    "duration": 10,
    "start_time": "2022-03-12T07:44:34.018Z"
   },
   {
    "duration": 18,
    "start_time": "2022-03-12T07:44:34.030Z"
   },
   {
    "duration": 38,
    "start_time": "2022-03-12T07:44:34.050Z"
   },
   {
    "duration": 20,
    "start_time": "2022-03-12T07:44:34.091Z"
   },
   {
    "duration": 5,
    "start_time": "2022-03-12T07:44:34.113Z"
   },
   {
    "duration": 15,
    "start_time": "2022-03-12T07:44:34.120Z"
   },
   {
    "duration": 58,
    "start_time": "2022-03-12T07:44:34.138Z"
   },
   {
    "duration": 15,
    "start_time": "2022-03-12T07:44:34.199Z"
   },
   {
    "duration": 7,
    "start_time": "2022-03-12T07:44:34.217Z"
   },
   {
    "duration": 17,
    "start_time": "2022-03-12T07:44:34.227Z"
   },
   {
    "duration": 13,
    "start_time": "2022-03-12T07:44:34.247Z"
   },
   {
    "duration": 344,
    "start_time": "2022-03-12T07:44:34.288Z"
   },
   {
    "duration": 27,
    "start_time": "2022-03-12T07:44:34.634Z"
   },
   {
    "duration": 8,
    "start_time": "2022-03-12T07:44:34.663Z"
   },
   {
    "duration": 20,
    "start_time": "2022-03-12T07:44:34.687Z"
   },
   {
    "duration": 3,
    "start_time": "2022-03-12T07:44:34.710Z"
   },
   {
    "duration": 80,
    "start_time": "2022-03-12T07:44:34.715Z"
   },
   {
    "duration": 7,
    "start_time": "2022-03-12T07:44:34.797Z"
   },
   {
    "duration": 8,
    "start_time": "2022-03-12T07:44:34.806Z"
   },
   {
    "duration": 1194,
    "start_time": "2022-03-12T07:44:34.817Z"
   },
   {
    "duration": 1294,
    "start_time": "2022-03-12T07:44:36.013Z"
   },
   {
    "duration": 1166,
    "start_time": "2022-03-12T07:44:37.309Z"
   },
   {
    "duration": 1038,
    "start_time": "2022-03-12T07:44:38.477Z"
   },
   {
    "duration": 1123,
    "start_time": "2022-03-12T07:44:39.517Z"
   },
   {
    "duration": 1083,
    "start_time": "2022-03-12T07:44:40.642Z"
   },
   {
    "duration": 1034,
    "start_time": "2022-03-12T07:44:41.728Z"
   },
   {
    "duration": 1279,
    "start_time": "2022-03-12T07:44:42.764Z"
   },
   {
    "duration": 1247,
    "start_time": "2022-03-12T07:44:44.045Z"
   },
   {
    "duration": 7,
    "start_time": "2022-03-12T07:44:45.294Z"
   },
   {
    "duration": 16,
    "start_time": "2022-03-12T07:44:45.303Z"
   },
   {
    "duration": 288,
    "start_time": "2022-03-12T07:54:38.360Z"
   },
   {
    "duration": 485,
    "start_time": "2022-03-12T07:54:43.688Z"
   },
   {
    "duration": 9,
    "start_time": "2022-03-12T08:03:10.849Z"
   },
   {
    "duration": 11,
    "start_time": "2022-03-12T08:06:08.770Z"
   },
   {
    "duration": 86,
    "start_time": "2022-03-12T08:08:50.126Z"
   },
   {
    "duration": 13,
    "start_time": "2022-03-12T08:09:04.570Z"
   },
   {
    "duration": 11,
    "start_time": "2022-03-12T08:09:13.110Z"
   },
   {
    "duration": 89,
    "start_time": "2022-03-12T08:10:03.285Z"
   },
   {
    "duration": 255,
    "start_time": "2022-03-12T08:10:15.499Z"
   },
   {
    "duration": 266,
    "start_time": "2022-03-12T08:10:27.702Z"
   },
   {
    "duration": 421,
    "start_time": "2022-03-12T08:10:39.182Z"
   },
   {
    "duration": 300,
    "start_time": "2022-03-12T08:10:45.475Z"
   },
   {
    "duration": 9,
    "start_time": "2022-03-12T08:11:44.844Z"
   },
   {
    "duration": 11,
    "start_time": "2022-03-12T08:12:03.630Z"
   },
   {
    "duration": 9,
    "start_time": "2022-03-12T08:12:38.614Z"
   },
   {
    "duration": 9,
    "start_time": "2022-03-12T08:13:00.261Z"
   },
   {
    "duration": 175,
    "start_time": "2022-03-12T08:13:36.681Z"
   },
   {
    "duration": 7,
    "start_time": "2022-03-12T08:14:22.721Z"
   },
   {
    "duration": 8,
    "start_time": "2022-03-12T08:15:24.599Z"
   },
   {
    "duration": 8,
    "start_time": "2022-03-12T08:17:26.945Z"
   },
   {
    "duration": 8,
    "start_time": "2022-03-12T08:17:30.331Z"
   },
   {
    "duration": 8,
    "start_time": "2022-03-12T08:38:34.279Z"
   },
   {
    "duration": 13,
    "start_time": "2022-03-12T08:44:34.668Z"
   },
   {
    "duration": 58,
    "start_time": "2022-03-12T08:53:31.253Z"
   },
   {
    "duration": 10,
    "start_time": "2022-03-12T09:00:30.369Z"
   },
   {
    "duration": 5,
    "start_time": "2022-03-12T09:02:59.250Z"
   },
   {
    "duration": 6,
    "start_time": "2022-03-12T09:03:03.509Z"
   },
   {
    "duration": 5,
    "start_time": "2022-03-12T09:03:11.298Z"
   },
   {
    "duration": 88,
    "start_time": "2022-03-12T09:30:29.246Z"
   },
   {
    "duration": 86,
    "start_time": "2022-03-12T09:30:52.682Z"
   },
   {
    "duration": 129,
    "start_time": "2022-03-12T09:31:00.135Z"
   },
   {
    "duration": 323,
    "start_time": "2022-03-12T09:31:39.828Z"
   },
   {
    "duration": 316,
    "start_time": "2022-03-12T09:32:00.814Z"
   },
   {
    "duration": 15,
    "start_time": "2022-03-12T09:33:04.199Z"
   },
   {
    "duration": 14,
    "start_time": "2022-03-12T09:33:20.424Z"
   },
   {
    "duration": 14,
    "start_time": "2022-03-12T09:33:56.416Z"
   },
   {
    "duration": 95,
    "start_time": "2022-03-12T09:34:10.202Z"
   },
   {
    "duration": 14,
    "start_time": "2022-03-12T09:34:39.740Z"
   },
   {
    "duration": 14,
    "start_time": "2022-03-12T09:35:13.148Z"
   },
   {
    "duration": 15,
    "start_time": "2022-03-12T09:35:20.152Z"
   },
   {
    "duration": 14,
    "start_time": "2022-03-12T09:35:34.979Z"
   },
   {
    "duration": 1303,
    "start_time": "2022-03-21T15:36:07.382Z"
   },
   {
    "duration": 2,
    "start_time": "2022-03-21T15:36:08.689Z"
   },
   {
    "duration": 9,
    "start_time": "2022-03-21T15:36:08.693Z"
   },
   {
    "duration": 393,
    "start_time": "2022-03-21T15:36:08.704Z"
   },
   {
    "duration": 5,
    "start_time": "2022-03-21T15:36:09.099Z"
   },
   {
    "duration": 384,
    "start_time": "2022-03-21T15:36:09.106Z"
   },
   {
    "duration": 244,
    "start_time": "2022-03-21T15:36:09.492Z"
   },
   {
    "duration": 30,
    "start_time": "2022-03-21T15:36:09.738Z"
   },
   {
    "duration": 225,
    "start_time": "2022-03-21T15:36:09.770Z"
   },
   {
    "duration": 41,
    "start_time": "2022-03-21T15:36:09.998Z"
   },
   {
    "duration": 53,
    "start_time": "2022-03-21T15:36:10.041Z"
   },
   {
    "duration": 41,
    "start_time": "2022-03-21T15:36:10.096Z"
   },
   {
    "duration": 13,
    "start_time": "2022-03-21T15:36:10.140Z"
   },
   {
    "duration": 12,
    "start_time": "2022-03-21T15:36:10.155Z"
   },
   {
    "duration": 5,
    "start_time": "2022-03-21T15:36:10.170Z"
   },
   {
    "duration": 128,
    "start_time": "2022-03-21T15:36:10.178Z"
   },
   {
    "duration": 71,
    "start_time": "2022-03-21T15:36:10.309Z"
   },
   {
    "duration": 5,
    "start_time": "2022-03-21T15:36:10.381Z"
   },
   {
    "duration": 54,
    "start_time": "2022-03-21T15:36:10.388Z"
   },
   {
    "duration": 17,
    "start_time": "2022-03-21T15:36:10.444Z"
   },
   {
    "duration": 198,
    "start_time": "2022-03-21T15:36:10.463Z"
   },
   {
    "duration": 5,
    "start_time": "2022-03-21T15:36:10.664Z"
   },
   {
    "duration": 14,
    "start_time": "2022-03-21T15:36:10.671Z"
   },
   {
    "duration": 1180,
    "start_time": "2022-03-21T15:36:10.687Z"
   },
   {
    "duration": 386,
    "start_time": "2022-03-21T15:36:11.870Z"
   },
   {
    "duration": 534,
    "start_time": "2022-03-21T15:36:12.258Z"
   },
   {
    "duration": 5,
    "start_time": "2022-03-21T15:36:12.793Z"
   },
   {
    "duration": 191,
    "start_time": "2022-03-21T15:36:12.805Z"
   },
   {
    "duration": 60,
    "start_time": "2022-03-21T15:36:12.998Z"
   },
   {
    "duration": 22,
    "start_time": "2022-03-21T15:36:13.060Z"
   },
   {
    "duration": 96,
    "start_time": "2022-03-21T15:36:13.084Z"
   },
   {
    "duration": 4,
    "start_time": "2022-03-21T15:36:13.182Z"
   },
   {
    "duration": 10,
    "start_time": "2022-03-21T15:36:13.187Z"
   },
   {
    "duration": 12,
    "start_time": "2022-03-21T15:36:13.199Z"
   },
   {
    "duration": 22,
    "start_time": "2022-03-21T15:36:13.213Z"
   },
   {
    "duration": 12,
    "start_time": "2022-03-21T15:36:13.237Z"
   },
   {
    "duration": 40,
    "start_time": "2022-03-21T15:36:13.252Z"
   },
   {
    "duration": 55,
    "start_time": "2022-03-21T15:36:13.294Z"
   },
   {
    "duration": 17,
    "start_time": "2022-03-21T15:36:13.350Z"
   },
   {
    "duration": 42,
    "start_time": "2022-03-21T15:36:13.369Z"
   },
   {
    "duration": 20,
    "start_time": "2022-03-21T15:36:13.413Z"
   },
   {
    "duration": 8,
    "start_time": "2022-03-21T15:36:13.435Z"
   },
   {
    "duration": 13,
    "start_time": "2022-03-21T15:36:13.445Z"
   },
   {
    "duration": 42,
    "start_time": "2022-03-21T15:36:13.460Z"
   },
   {
    "duration": 42,
    "start_time": "2022-03-21T15:36:13.533Z"
   },
   {
    "duration": 17,
    "start_time": "2022-03-21T15:36:13.577Z"
   },
   {
    "duration": 64,
    "start_time": "2022-03-21T15:36:13.596Z"
   },
   {
    "duration": 3,
    "start_time": "2022-03-21T15:36:13.662Z"
   },
   {
    "duration": 15,
    "start_time": "2022-03-21T15:36:13.667Z"
   },
   {
    "duration": 10,
    "start_time": "2022-03-21T15:36:13.684Z"
   },
   {
    "duration": 17,
    "start_time": "2022-03-21T15:36:13.696Z"
   },
   {
    "duration": 5,
    "start_time": "2022-03-21T15:36:13.733Z"
   },
   {
    "duration": 14,
    "start_time": "2022-03-21T15:36:13.739Z"
   },
   {
    "duration": 16,
    "start_time": "2022-03-21T15:36:13.755Z"
   },
   {
    "duration": 11,
    "start_time": "2022-03-21T15:36:13.774Z"
   },
   {
    "duration": 7,
    "start_time": "2022-03-21T15:36:13.787Z"
   },
   {
    "duration": 41,
    "start_time": "2022-03-21T15:36:13.796Z"
   },
   {
    "duration": 9,
    "start_time": "2022-03-21T15:36:13.839Z"
   },
   {
    "duration": 165,
    "start_time": "2022-03-21T15:36:13.850Z"
   },
   {
    "duration": 26,
    "start_time": "2022-03-21T15:36:14.018Z"
   },
   {
    "duration": 13,
    "start_time": "2022-03-21T15:36:14.047Z"
   },
   {
    "duration": 22,
    "start_time": "2022-03-21T15:36:14.062Z"
   },
   {
    "duration": 5,
    "start_time": "2022-03-21T15:36:14.085Z"
   },
   {
    "duration": 54,
    "start_time": "2022-03-21T15:36:14.091Z"
   },
   {
    "duration": 7,
    "start_time": "2022-03-21T15:36:14.146Z"
   },
   {
    "duration": 24,
    "start_time": "2022-03-21T15:36:14.154Z"
   },
   {
    "duration": 529,
    "start_time": "2022-03-21T15:36:14.182Z"
   },
   {
    "duration": 7,
    "start_time": "2022-03-21T15:36:14.714Z"
   },
   {
    "duration": 653,
    "start_time": "2022-03-21T15:36:14.734Z"
   },
   {
    "duration": 472,
    "start_time": "2022-03-21T15:36:15.389Z"
   },
   {
    "duration": 487,
    "start_time": "2022-03-21T15:36:15.862Z"
   },
   {
    "duration": 6,
    "start_time": "2022-03-21T15:36:16.350Z"
   },
   {
    "duration": 494,
    "start_time": "2022-03-21T15:36:16.358Z"
   },
   {
    "duration": 479,
    "start_time": "2022-03-21T15:36:16.854Z"
   },
   {
    "duration": 518,
    "start_time": "2022-03-21T15:36:17.335Z"
   },
   {
    "duration": 6,
    "start_time": "2022-03-21T15:36:17.855Z"
   },
   {
    "duration": 8,
    "start_time": "2022-03-21T15:36:17.862Z"
   },
   {
    "duration": 532,
    "start_time": "2022-03-21T15:36:17.872Z"
   },
   {
    "duration": 587,
    "start_time": "2022-03-21T15:36:18.406Z"
   },
   {
    "duration": 6,
    "start_time": "2022-03-21T15:36:18.995Z"
   },
   {
    "duration": 12,
    "start_time": "2022-03-21T15:36:19.002Z"
   },
   {
    "duration": 12,
    "start_time": "2022-03-21T15:36:19.035Z"
   }
  ],
  "kernelspec": {
   "display_name": "Python 3 (ipykernel)",
   "language": "python",
   "name": "python3"
  },
  "language_info": {
   "codemirror_mode": {
    "name": "ipython",
    "version": 3
   },
   "file_extension": ".py",
   "mimetype": "text/x-python",
   "name": "python",
   "nbconvert_exporter": "python",
   "pygments_lexer": "ipython3",
   "version": "3.9.12"
  },
  "toc": {
   "base_numbering": "1",
   "nav_menu": {},
   "number_sections": true,
   "sideBar": true,
   "skip_h1_title": true,
   "title_cell": "Содержание",
   "title_sidebar": "Содержание",
   "toc_cell": true,
   "toc_position": {
    "height": "calc(100% - 180px)",
    "left": "10px",
    "top": "150px",
    "width": "286.6px"
   },
   "toc_section_display": true,
   "toc_window_display": true
  }
 },
 "nbformat": 4,
 "nbformat_minor": 2
}
