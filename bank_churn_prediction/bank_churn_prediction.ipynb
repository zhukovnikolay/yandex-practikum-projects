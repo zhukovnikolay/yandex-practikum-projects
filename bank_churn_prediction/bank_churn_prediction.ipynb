{
 "cells": [
  {
   "cell_type": "markdown",
   "metadata": {
    "toc": true
   },
   "source": [
    "<h1>Содержание<span class=\"tocSkip\"></span></h1>\n",
    "<div class=\"toc\"><ul class=\"toc-item\"><li><span><a href=\"#Подготовка-данных\" data-toc-modified-id=\"Подготовка-данных-1\"><span class=\"toc-item-num\">1&nbsp;&nbsp;</span>Подготовка данных</a></span><ul class=\"toc-item\"><li><span><a href=\"#Загрузка-и-обзор-данных\" data-toc-modified-id=\"Загрузка-и-обзор-данных-1.1\"><span class=\"toc-item-num\">1.1&nbsp;&nbsp;</span>Загрузка и обзор данных</a></span></li><li><span><a href=\"#Предобработка-данных\" data-toc-modified-id=\"Предобработка-данных-1.2\"><span class=\"toc-item-num\">1.2&nbsp;&nbsp;</span>Предобработка данных</a></span><ul class=\"toc-item\"><li><span><a href=\"#Переименование-признаков\" data-toc-modified-id=\"Переименование-признаков-1.2.1\"><span class=\"toc-item-num\">1.2.1&nbsp;&nbsp;</span>Переименование признаков</a></span></li><li><span><a href=\"#Удаление-признаков-row_number,----customer_id,-surname\" data-toc-modified-id=\"Удаление-признаков-row_number,----customer_id,-surname-1.2.2\"><span class=\"toc-item-num\">1.2.2&nbsp;&nbsp;</span>Удаление признаков row_number,    customer_id, surname</a></span></li><li><span><a href=\"#Обработка-пропусков\" data-toc-modified-id=\"Обработка-пропусков-1.2.3\"><span class=\"toc-item-num\">1.2.3&nbsp;&nbsp;</span>Обработка пропусков</a></span></li><li><span><a href=\"#Исследование-выбросов\" data-toc-modified-id=\"Исследование-выбросов-1.2.4\"><span class=\"toc-item-num\">1.2.4&nbsp;&nbsp;</span>Исследование выбросов</a></span><ul class=\"toc-item\"><li><span><a href=\"#Признак-age\" data-toc-modified-id=\"Признак-age-1.2.4.1\"><span class=\"toc-item-num\">1.2.4.1&nbsp;&nbsp;</span>Признак age</a></span></li><li><span><a href=\"#Признак-estimated_salary\" data-toc-modified-id=\"Признак-estimated_salary-1.2.4.2\"><span class=\"toc-item-num\">1.2.4.2&nbsp;&nbsp;</span>Признак estimated_salary</a></span></li></ul></li><li><span><a href=\"#Изменение-типов-данных\" data-toc-modified-id=\"Изменение-типов-данных-1.2.5\"><span class=\"toc-item-num\">1.2.5&nbsp;&nbsp;</span>Изменение типов данных</a></span></li><li><span><a href=\"#Подготовка-данных\" data-toc-modified-id=\"Подготовка-данных-1.2.6\"><span class=\"toc-item-num\">1.2.6&nbsp;&nbsp;</span>Подготовка данных</a></span></li></ul></li><li><span><a href=\"#Вывод-по-разделу\" data-toc-modified-id=\"Вывод-по-разделу-1.3\"><span class=\"toc-item-num\">1.3&nbsp;&nbsp;</span>Вывод по разделу</a></span></li></ul></li><li><span><a href=\"#Исследование-задачи\" data-toc-modified-id=\"Исследование-задачи-2\"><span class=\"toc-item-num\">2&nbsp;&nbsp;</span>Исследование задачи</a></span><ul class=\"toc-item\"><li><span><a href=\"#Логистическая-регрессия\" data-toc-modified-id=\"Логистическая-регрессия-2.1\"><span class=\"toc-item-num\">2.1&nbsp;&nbsp;</span>Логистическая регрессия</a></span></li><li><span><a href=\"#Случайный-лес\" data-toc-modified-id=\"Случайный-лес-2.2\"><span class=\"toc-item-num\">2.2&nbsp;&nbsp;</span>Случайный лес</a></span></li><li><span><a href=\"#Бустинг\" data-toc-modified-id=\"Бустинг-2.3\"><span class=\"toc-item-num\">2.3&nbsp;&nbsp;</span>Бустинг</a></span></li><li><span><a href=\"#Вывод-по-разделу\" data-toc-modified-id=\"Вывод-по-разделу-2.4\"><span class=\"toc-item-num\">2.4&nbsp;&nbsp;</span>Вывод по разделу</a></span></li></ul></li><li><span><a href=\"#Борьба-с-дисбалансом\" data-toc-modified-id=\"Борьба-с-дисбалансом-3\"><span class=\"toc-item-num\">3&nbsp;&nbsp;</span>Борьба с дисбалансом</a></span><ul class=\"toc-item\"><li><span><a href=\"#Upsampling\" data-toc-modified-id=\"Upsampling-3.1\"><span class=\"toc-item-num\">3.1&nbsp;&nbsp;</span>Upsampling</a></span><ul class=\"toc-item\"><li><span><a href=\"#Upsampling.-Случайный-лес\" data-toc-modified-id=\"Upsampling.-Случайный-лес-3.1.1\"><span class=\"toc-item-num\">3.1.1&nbsp;&nbsp;</span>Upsampling. Случайный лес</a></span></li><li><span><a href=\"#Upsampling.-Бустинг\" data-toc-modified-id=\"Upsampling.-Бустинг-3.1.2\"><span class=\"toc-item-num\">3.1.2&nbsp;&nbsp;</span>Upsampling. Бустинг</a></span></li><li><span><a href=\"#Вывод-по-методу\" data-toc-modified-id=\"Вывод-по-методу-3.1.3\"><span class=\"toc-item-num\">3.1.3&nbsp;&nbsp;</span>Вывод по методу</a></span></li></ul></li><li><span><a href=\"#Downsampling\" data-toc-modified-id=\"Downsampling-3.2\"><span class=\"toc-item-num\">3.2&nbsp;&nbsp;</span>Downsampling</a></span><ul class=\"toc-item\"><li><span><a href=\"#Downsampling.-Случайный-лес\" data-toc-modified-id=\"Downsampling.-Случайный-лес-3.2.1\"><span class=\"toc-item-num\">3.2.1&nbsp;&nbsp;</span>Downsampling. Случайный лес</a></span></li><li><span><a href=\"#Downsampling.-Бустинг\" data-toc-modified-id=\"Downsampling.-Бустинг-3.2.2\"><span class=\"toc-item-num\">3.2.2&nbsp;&nbsp;</span>Downsampling. Бустинг</a></span></li><li><span><a href=\"#Вывод-по-методу\" data-toc-modified-id=\"Вывод-по-методу-3.2.3\"><span class=\"toc-item-num\">3.2.3&nbsp;&nbsp;</span>Вывод по методу</a></span></li></ul></li><li><span><a href=\"#Установка-весов-классов-при-обучении-модели\" data-toc-modified-id=\"Установка-весов-классов-при-обучении-модели-3.3\"><span class=\"toc-item-num\">3.3&nbsp;&nbsp;</span>Установка весов классов при обучении модели</a></span><ul class=\"toc-item\"><li><span><a href=\"#Установка-весов-классов-при-обучении-модели.-Случайный-лес\" data-toc-modified-id=\"Установка-весов-классов-при-обучении-модели.-Случайный-лес-3.3.1\"><span class=\"toc-item-num\">3.3.1&nbsp;&nbsp;</span>Установка весов классов при обучении модели. Случайный лес</a></span></li><li><span><a href=\"#Установка-весов-классов-при-обучении-модели.-Бустинг\" data-toc-modified-id=\"Установка-весов-классов-при-обучении-модели.-Бустинг-3.3.2\"><span class=\"toc-item-num\">3.3.2&nbsp;&nbsp;</span>Установка весов классов при обучении модели. Бустинг</a></span></li><li><span><a href=\"#Вывод-по-методу\" data-toc-modified-id=\"Вывод-по-методу-3.3.3\"><span class=\"toc-item-num\">3.3.3&nbsp;&nbsp;</span>Вывод по методу</a></span></li></ul></li><li><span><a href=\"#Вывод-по-всем-методам\" data-toc-modified-id=\"Вывод-по-всем-методам-3.4\"><span class=\"toc-item-num\">3.4&nbsp;&nbsp;</span>Вывод по всем методам</a></span></li><li><span><a href=\"#Подбор-гиперпараметров\" data-toc-modified-id=\"Подбор-гиперпараметров-3.5\"><span class=\"toc-item-num\">3.5&nbsp;&nbsp;</span>Подбор гиперпараметров</a></span></li><li><span><a href=\"#Вывод-по-разделу\" data-toc-modified-id=\"Вывод-по-разделу-3.6\"><span class=\"toc-item-num\">3.6&nbsp;&nbsp;</span>Вывод по разделу</a></span></li></ul></li><li><span><a href=\"#Тестирование-модели\" data-toc-modified-id=\"Тестирование-модели-4\"><span class=\"toc-item-num\">4&nbsp;&nbsp;</span>Тестирование модели</a></span></li><li><span><a href=\"#Чек-лист-готовности-проекта\" data-toc-modified-id=\"Чек-лист-готовности-проекта-5\"><span class=\"toc-item-num\">5&nbsp;&nbsp;</span>Чек-лист готовности проекта</a></span></li></ul></div>"
   ]
  },
  {
   "cell_type": "markdown",
   "metadata": {},
   "source": [
    "# Отток клиентов"
   ]
  },
  {
   "cell_type": "markdown",
   "metadata": {},
   "source": [
    "Из «Бета-Банка» стали уходить клиенты. Каждый месяц. Немного, но заметно. Банковские маркетологи посчитали: сохранять текущих клиентов дешевле, чем привлекать новых.\n",
    "\n",
    "Нужно спрогнозировать, уйдёт клиент из банка в ближайшее время или нет. Вам предоставлены исторические данные о поведении клиентов и расторжении договоров с банком. \n",
    "\n",
    "Постройте модель с предельно большим значением *F1*-меры. Чтобы сдать проект успешно, нужно довести метрику до 0.59. Проверьте *F1*-меру на тестовой выборке самостоятельно.\n",
    "\n",
    "Дополнительно измеряйте *AUC-ROC*, сравнивайте её значение с *F1*-мерой.\n",
    "\n",
    "Источник данных: [https://www.kaggle.com/barelydedicated/bank-customer-churn-modeling](https://www.kaggle.com/barelydedicated/bank-customer-churn-modeling)"
   ]
  },
  {
   "cell_type": "markdown",
   "metadata": {},
   "source": [
    "# Описание данных"
   ]
  },
  {
   "cell_type": "markdown",
   "metadata": {},
   "source": [
    "Признаки:\n",
    "- RowNumber — индекс строки в данных\n",
    "- CustomerId — уникальный идентификатор клиента\n",
    "- Surname — фамилия\n",
    "- CreditScore — кредитный рейтинг\n",
    "- Geography — страна проживания\n",
    "- Gender — пол\n",
    "- Age — возраст\n",
    "- Tenure — сколько лет человек является клиентом банка\n",
    "- Balance — баланс на счёте\n",
    "- NumOfProducts — количество продуктов банка, используемых клиентом\n",
    "- HasCrCard — наличие кредитной карты\n",
    "- IsActiveMember — активность клиента\n",
    "- EstimatedSalary — предполагаемая зарплата\n",
    "\n",
    "Целевой признак:\n",
    "- Exited — факт ухода клиента"
   ]
  },
  {
   "cell_type": "markdown",
   "metadata": {},
   "source": [
    "## Подготовка данных"
   ]
  },
  {
   "cell_type": "markdown",
   "metadata": {},
   "source": [
    "Импортируем библиотеки"
   ]
  },
  {
   "cell_type": "code",
   "execution_count": 1,
   "metadata": {},
   "outputs": [],
   "source": [
    "import pandas as pd\n",
    "import numpy as np\n",
    "import seaborn as sns\n",
    "import matplotlib.pyplot as plt\n",
    "import re\n",
    "import warnings\n",
    "from sklearn.model_selection import train_test_split, GridSearchCV\n",
    "from sklearn.ensemble import RandomForestClassifier\n",
    "from sklearn.linear_model import LogisticRegression\n",
    "from sklearn.metrics import f1_score, confusion_matrix, roc_auc_score, plot_roc_curve, classification_report\n",
    "from sklearn.utils import shuffle\n",
    "from sklearn.preprocessing import MinMaxScaler, StandardScaler\n",
    "from catboost import CatBoostClassifier"
   ]
  },
  {
   "cell_type": "code",
   "execution_count": 2,
   "metadata": {},
   "outputs": [],
   "source": [
    "warnings.filterwarnings(\"ignore\") "
   ]
  },
  {
   "cell_type": "markdown",
   "metadata": {},
   "source": [
    "### Загрузка и обзор данных"
   ]
  },
  {
   "cell_type": "markdown",
   "metadata": {},
   "source": [
    "Загрузим данные"
   ]
  },
  {
   "cell_type": "code",
   "execution_count": 3,
   "metadata": {},
   "outputs": [],
   "source": [
    "data = pd.read_csv('/datasets/Churn.csv')"
   ]
  },
  {
   "cell_type": "markdown",
   "metadata": {},
   "source": [
    "Посмотрим общую информацию о данных"
   ]
  },
  {
   "cell_type": "code",
   "execution_count": 4,
   "metadata": {},
   "outputs": [
    {
     "data": {
      "text/plain": [
       "(10000, 14)"
      ]
     },
     "execution_count": 4,
     "metadata": {},
     "output_type": "execute_result"
    }
   ],
   "source": [
    "data.shape"
   ]
  },
  {
   "cell_type": "markdown",
   "metadata": {},
   "source": [
    "В данных 10000 объектов и 14 признаков, включая целевую переменную, что соответствует описанию"
   ]
  },
  {
   "cell_type": "code",
   "execution_count": 5,
   "metadata": {},
   "outputs": [
    {
     "name": "stdout",
     "output_type": "stream",
     "text": [
      "<class 'pandas.core.frame.DataFrame'>\n",
      "RangeIndex: 10000 entries, 0 to 9999\n",
      "Data columns (total 14 columns):\n",
      " #   Column           Non-Null Count  Dtype  \n",
      "---  ------           --------------  -----  \n",
      " 0   RowNumber        10000 non-null  int64  \n",
      " 1   CustomerId       10000 non-null  int64  \n",
      " 2   Surname          10000 non-null  object \n",
      " 3   CreditScore      10000 non-null  int64  \n",
      " 4   Geography        10000 non-null  object \n",
      " 5   Gender           10000 non-null  object \n",
      " 6   Age              10000 non-null  int64  \n",
      " 7   Tenure           9091 non-null   float64\n",
      " 8   Balance          10000 non-null  float64\n",
      " 9   NumOfProducts    10000 non-null  int64  \n",
      " 10  HasCrCard        10000 non-null  int64  \n",
      " 11  IsActiveMember   10000 non-null  int64  \n",
      " 12  EstimatedSalary  10000 non-null  float64\n",
      " 13  Exited           10000 non-null  int64  \n",
      "dtypes: float64(3), int64(8), object(3)\n",
      "memory usage: 1.1+ MB\n"
     ]
    }
   ],
   "source": [
    "data.info()"
   ]
  },
  {
   "cell_type": "markdown",
   "metadata": {},
   "source": [
    "Можно заметить следующие особенности:\n",
    "- требуется приведение наименований признаков к snake_case;\n",
    "- в признаке Tenure порядка 10 % пропусков;\n",
    "- признак Tenure имеет некорректный тип данных: согласно описанию, содержит число полных лет -  требуется изменение типа на int (тип float установлен в связи с наличием в данных пропусков, которые относятся к упомянутому типу).\n",
    "\n",
    "Остальные типы данных, на первый взгляд, кажутся корректными.\n",
    "____\n",
    "Посмотрим на статистику признаков"
   ]
  },
  {
   "cell_type": "code",
   "execution_count": 6,
   "metadata": {},
   "outputs": [
    {
     "data": {
      "text/html": [
       "<div>\n",
       "<style scoped>\n",
       "    .dataframe tbody tr th:only-of-type {\n",
       "        vertical-align: middle;\n",
       "    }\n",
       "\n",
       "    .dataframe tbody tr th {\n",
       "        vertical-align: top;\n",
       "    }\n",
       "\n",
       "    .dataframe thead th {\n",
       "        text-align: right;\n",
       "    }\n",
       "</style>\n",
       "<table border=\"1\" class=\"dataframe\">\n",
       "  <thead>\n",
       "    <tr style=\"text-align: right;\">\n",
       "      <th></th>\n",
       "      <th>count</th>\n",
       "      <th>mean</th>\n",
       "      <th>std</th>\n",
       "      <th>min</th>\n",
       "      <th>25%</th>\n",
       "      <th>50%</th>\n",
       "      <th>75%</th>\n",
       "      <th>max</th>\n",
       "    </tr>\n",
       "  </thead>\n",
       "  <tbody>\n",
       "    <tr>\n",
       "      <th>RowNumber</th>\n",
       "      <td>10000.0</td>\n",
       "      <td>5.000500e+03</td>\n",
       "      <td>2886.895680</td>\n",
       "      <td>1.00</td>\n",
       "      <td>2500.75</td>\n",
       "      <td>5.000500e+03</td>\n",
       "      <td>7.500250e+03</td>\n",
       "      <td>10000.00</td>\n",
       "    </tr>\n",
       "    <tr>\n",
       "      <th>CustomerId</th>\n",
       "      <td>10000.0</td>\n",
       "      <td>1.569094e+07</td>\n",
       "      <td>71936.186123</td>\n",
       "      <td>15565701.00</td>\n",
       "      <td>15628528.25</td>\n",
       "      <td>1.569074e+07</td>\n",
       "      <td>1.575323e+07</td>\n",
       "      <td>15815690.00</td>\n",
       "    </tr>\n",
       "    <tr>\n",
       "      <th>CreditScore</th>\n",
       "      <td>10000.0</td>\n",
       "      <td>6.505288e+02</td>\n",
       "      <td>96.653299</td>\n",
       "      <td>350.00</td>\n",
       "      <td>584.00</td>\n",
       "      <td>6.520000e+02</td>\n",
       "      <td>7.180000e+02</td>\n",
       "      <td>850.00</td>\n",
       "    </tr>\n",
       "    <tr>\n",
       "      <th>Age</th>\n",
       "      <td>10000.0</td>\n",
       "      <td>3.892180e+01</td>\n",
       "      <td>10.487806</td>\n",
       "      <td>18.00</td>\n",
       "      <td>32.00</td>\n",
       "      <td>3.700000e+01</td>\n",
       "      <td>4.400000e+01</td>\n",
       "      <td>92.00</td>\n",
       "    </tr>\n",
       "    <tr>\n",
       "      <th>Tenure</th>\n",
       "      <td>9091.0</td>\n",
       "      <td>4.997690e+00</td>\n",
       "      <td>2.894723</td>\n",
       "      <td>0.00</td>\n",
       "      <td>2.00</td>\n",
       "      <td>5.000000e+00</td>\n",
       "      <td>7.000000e+00</td>\n",
       "      <td>10.00</td>\n",
       "    </tr>\n",
       "    <tr>\n",
       "      <th>Balance</th>\n",
       "      <td>10000.0</td>\n",
       "      <td>7.648589e+04</td>\n",
       "      <td>62397.405202</td>\n",
       "      <td>0.00</td>\n",
       "      <td>0.00</td>\n",
       "      <td>9.719854e+04</td>\n",
       "      <td>1.276442e+05</td>\n",
       "      <td>250898.09</td>\n",
       "    </tr>\n",
       "    <tr>\n",
       "      <th>NumOfProducts</th>\n",
       "      <td>10000.0</td>\n",
       "      <td>1.530200e+00</td>\n",
       "      <td>0.581654</td>\n",
       "      <td>1.00</td>\n",
       "      <td>1.00</td>\n",
       "      <td>1.000000e+00</td>\n",
       "      <td>2.000000e+00</td>\n",
       "      <td>4.00</td>\n",
       "    </tr>\n",
       "    <tr>\n",
       "      <th>HasCrCard</th>\n",
       "      <td>10000.0</td>\n",
       "      <td>7.055000e-01</td>\n",
       "      <td>0.455840</td>\n",
       "      <td>0.00</td>\n",
       "      <td>0.00</td>\n",
       "      <td>1.000000e+00</td>\n",
       "      <td>1.000000e+00</td>\n",
       "      <td>1.00</td>\n",
       "    </tr>\n",
       "    <tr>\n",
       "      <th>IsActiveMember</th>\n",
       "      <td>10000.0</td>\n",
       "      <td>5.151000e-01</td>\n",
       "      <td>0.499797</td>\n",
       "      <td>0.00</td>\n",
       "      <td>0.00</td>\n",
       "      <td>1.000000e+00</td>\n",
       "      <td>1.000000e+00</td>\n",
       "      <td>1.00</td>\n",
       "    </tr>\n",
       "    <tr>\n",
       "      <th>EstimatedSalary</th>\n",
       "      <td>10000.0</td>\n",
       "      <td>1.000902e+05</td>\n",
       "      <td>57510.492818</td>\n",
       "      <td>11.58</td>\n",
       "      <td>51002.11</td>\n",
       "      <td>1.001939e+05</td>\n",
       "      <td>1.493882e+05</td>\n",
       "      <td>199992.48</td>\n",
       "    </tr>\n",
       "    <tr>\n",
       "      <th>Exited</th>\n",
       "      <td>10000.0</td>\n",
       "      <td>2.037000e-01</td>\n",
       "      <td>0.402769</td>\n",
       "      <td>0.00</td>\n",
       "      <td>0.00</td>\n",
       "      <td>0.000000e+00</td>\n",
       "      <td>0.000000e+00</td>\n",
       "      <td>1.00</td>\n",
       "    </tr>\n",
       "  </tbody>\n",
       "</table>\n",
       "</div>"
      ],
      "text/plain": [
       "                   count          mean           std          min  \\\n",
       "RowNumber        10000.0  5.000500e+03   2886.895680         1.00   \n",
       "CustomerId       10000.0  1.569094e+07  71936.186123  15565701.00   \n",
       "CreditScore      10000.0  6.505288e+02     96.653299       350.00   \n",
       "Age              10000.0  3.892180e+01     10.487806        18.00   \n",
       "Tenure            9091.0  4.997690e+00      2.894723         0.00   \n",
       "Balance          10000.0  7.648589e+04  62397.405202         0.00   \n",
       "NumOfProducts    10000.0  1.530200e+00      0.581654         1.00   \n",
       "HasCrCard        10000.0  7.055000e-01      0.455840         0.00   \n",
       "IsActiveMember   10000.0  5.151000e-01      0.499797         0.00   \n",
       "EstimatedSalary  10000.0  1.000902e+05  57510.492818        11.58   \n",
       "Exited           10000.0  2.037000e-01      0.402769         0.00   \n",
       "\n",
       "                         25%           50%           75%          max  \n",
       "RowNumber            2500.75  5.000500e+03  7.500250e+03     10000.00  \n",
       "CustomerId       15628528.25  1.569074e+07  1.575323e+07  15815690.00  \n",
       "CreditScore           584.00  6.520000e+02  7.180000e+02       850.00  \n",
       "Age                    32.00  3.700000e+01  4.400000e+01        92.00  \n",
       "Tenure                  2.00  5.000000e+00  7.000000e+00        10.00  \n",
       "Balance                 0.00  9.719854e+04  1.276442e+05    250898.09  \n",
       "NumOfProducts           1.00  1.000000e+00  2.000000e+00         4.00  \n",
       "HasCrCard               0.00  1.000000e+00  1.000000e+00         1.00  \n",
       "IsActiveMember          0.00  1.000000e+00  1.000000e+00         1.00  \n",
       "EstimatedSalary     51002.11  1.001939e+05  1.493882e+05    199992.48  \n",
       "Exited                  0.00  0.000000e+00  0.000000e+00         1.00  "
      ]
     },
     "execution_count": 6,
     "metadata": {},
     "output_type": "execute_result"
    }
   ],
   "source": [
    "data.describe().T"
   ]
  },
  {
   "cell_type": "markdown",
   "metadata": {},
   "source": [
    "Признаки RowNumber и CustomerId бесполезны для построения модели (RowNumber можно было использовать как индекс), так как не содержат информации о клиенте банка, удалим их.\n",
    "\n",
    "В остальных признаках можно выделить следующие особенности:\n",
    "- в признаке EstimatedSalary достаточно низкое минимальное значение (11.58 единиц - требуется дополнительное исследование на выбросы);\n",
    "- в признаке Age максимальный возраст выглядит корректным (92 года), но достаточно удален от 75% квантиля (44 года), поэтому скорее всего также потребует обработки.\n",
    "\n",
    "Признаки HasCrCard и IsActiveMember являются категориальными (бинарными), как и таргет.\n",
    "\n",
    "Значения остальных числовых признаков выглядят корректными. Посмотрим на статистики категориальных признаков."
   ]
  },
  {
   "cell_type": "code",
   "execution_count": 7,
   "metadata": {},
   "outputs": [
    {
     "data": {
      "text/html": [
       "<div>\n",
       "<style scoped>\n",
       "    .dataframe tbody tr th:only-of-type {\n",
       "        vertical-align: middle;\n",
       "    }\n",
       "\n",
       "    .dataframe tbody tr th {\n",
       "        vertical-align: top;\n",
       "    }\n",
       "\n",
       "    .dataframe thead th {\n",
       "        text-align: right;\n",
       "    }\n",
       "</style>\n",
       "<table border=\"1\" class=\"dataframe\">\n",
       "  <thead>\n",
       "    <tr style=\"text-align: right;\">\n",
       "      <th></th>\n",
       "      <th>count</th>\n",
       "      <th>unique</th>\n",
       "      <th>top</th>\n",
       "      <th>freq</th>\n",
       "    </tr>\n",
       "  </thead>\n",
       "  <tbody>\n",
       "    <tr>\n",
       "      <th>Surname</th>\n",
       "      <td>10000</td>\n",
       "      <td>2932</td>\n",
       "      <td>Smith</td>\n",
       "      <td>32</td>\n",
       "    </tr>\n",
       "    <tr>\n",
       "      <th>Geography</th>\n",
       "      <td>10000</td>\n",
       "      <td>3</td>\n",
       "      <td>France</td>\n",
       "      <td>5014</td>\n",
       "    </tr>\n",
       "    <tr>\n",
       "      <th>Gender</th>\n",
       "      <td>10000</td>\n",
       "      <td>2</td>\n",
       "      <td>Male</td>\n",
       "      <td>5457</td>\n",
       "    </tr>\n",
       "  </tbody>\n",
       "</table>\n",
       "</div>"
      ],
      "text/plain": [
       "           count unique     top  freq\n",
       "Surname    10000   2932   Smith    32\n",
       "Geography  10000      3  France  5014\n",
       "Gender     10000      2    Male  5457"
      ]
     },
     "execution_count": 7,
     "metadata": {},
     "output_type": "execute_result"
    }
   ],
   "source": [
    "data.describe(include='O').T"
   ]
  },
  {
   "cell_type": "markdown",
   "metadata": {},
   "source": [
    "Признак с фамилией клиента не будет полезен для модели: маловероятно, что фамилия влияет на отток (в отдельных случаях такая зависимость могла бы прослеживаться опосредованно, например, через национальности и какие-либо особенные банки, например, мусульманские, однако для текущего исследования это бесполезно), также в признаке достаточно много уникальных значений, поэтому модель не смогла бы корректно обучиться на данном признаке. Удалим данный признак позже.\n",
    "\n",
    "По остальным признакам никаких особенностей не выявлено (кроме того, что они потребуют применения OHE). Можно заметить, что мы исследуем данные из трех стран, по большей части о французских клиентах, а также, что в данных небольшой дисбаланс в пользу клиентов мужского пола.\n",
    "\n",
    "Посмотрим на доли значений для категориальных признаков, включая HasCrCard, IsActiveMember и таргет Exited."
   ]
  },
  {
   "cell_type": "code",
   "execution_count": 8,
   "metadata": {},
   "outputs": [
    {
     "name": "stdout",
     "output_type": "stream",
     "text": [
      "Частотность значений для признака Geography:\n",
      "France     0.5014\n",
      "Germany    0.2509\n",
      "Spain      0.2477\n",
      "Name: Geography, dtype: float64\n",
      "__________________________________________________\n",
      "Частотность значений для признака Gender:\n",
      "Male      0.5457\n",
      "Female    0.4543\n",
      "Name: Gender, dtype: float64\n",
      "__________________________________________________\n",
      "Частотность значений для признака HasCrCard:\n",
      "1    0.7055\n",
      "0    0.2945\n",
      "Name: HasCrCard, dtype: float64\n",
      "__________________________________________________\n",
      "Частотность значений для признака IsActiveMember:\n",
      "1    0.5151\n",
      "0    0.4849\n",
      "Name: IsActiveMember, dtype: float64\n",
      "__________________________________________________\n",
      "Частотность значений для признака Exited:\n",
      "0    0.7963\n",
      "1    0.2037\n",
      "Name: Exited, dtype: float64\n",
      "__________________________________________________\n"
     ]
    }
   ],
   "source": [
    "for column in ['Geography', 'Gender', 'HasCrCard', 'IsActiveMember', 'Exited']:\n",
    "    print(f'Частотность значений для признака {column}:\\n{data[column].value_counts(normalize=True)}\\n' + 50 * '_')"
   ]
  },
  {
   "cell_type": "markdown",
   "metadata": {},
   "source": [
    "Видим некоторый дисбаланс в данных по признакам Geography, HasCrCard и, самое главное, для целевой переменной Exited. Это потребует от нас корректно разделить выборку на обучающую и тестовую, а также учитывать данную информацию при обучении модели."
   ]
  },
  {
   "cell_type": "markdown",
   "metadata": {},
   "source": [
    "___\n",
    "Посмотрим на данные глазами"
   ]
  },
  {
   "cell_type": "code",
   "execution_count": 9,
   "metadata": {},
   "outputs": [
    {
     "data": {
      "text/html": [
       "<div>\n",
       "<style scoped>\n",
       "    .dataframe tbody tr th:only-of-type {\n",
       "        vertical-align: middle;\n",
       "    }\n",
       "\n",
       "    .dataframe tbody tr th {\n",
       "        vertical-align: top;\n",
       "    }\n",
       "\n",
       "    .dataframe thead th {\n",
       "        text-align: right;\n",
       "    }\n",
       "</style>\n",
       "<table border=\"1\" class=\"dataframe\">\n",
       "  <thead>\n",
       "    <tr style=\"text-align: right;\">\n",
       "      <th></th>\n",
       "      <th>RowNumber</th>\n",
       "      <th>CustomerId</th>\n",
       "      <th>Surname</th>\n",
       "      <th>CreditScore</th>\n",
       "      <th>Geography</th>\n",
       "      <th>Gender</th>\n",
       "      <th>Age</th>\n",
       "      <th>Tenure</th>\n",
       "      <th>Balance</th>\n",
       "      <th>NumOfProducts</th>\n",
       "      <th>HasCrCard</th>\n",
       "      <th>IsActiveMember</th>\n",
       "      <th>EstimatedSalary</th>\n",
       "      <th>Exited</th>\n",
       "    </tr>\n",
       "  </thead>\n",
       "  <tbody>\n",
       "    <tr>\n",
       "      <th>3126</th>\n",
       "      <td>3127</td>\n",
       "      <td>15691808</td>\n",
       "      <td>King</td>\n",
       "      <td>656</td>\n",
       "      <td>France</td>\n",
       "      <td>Male</td>\n",
       "      <td>43</td>\n",
       "      <td>7.0</td>\n",
       "      <td>134919.85</td>\n",
       "      <td>1</td>\n",
       "      <td>1</td>\n",
       "      <td>0</td>\n",
       "      <td>194691.95</td>\n",
       "      <td>0</td>\n",
       "    </tr>\n",
       "    <tr>\n",
       "      <th>9111</th>\n",
       "      <td>9112</td>\n",
       "      <td>15711062</td>\n",
       "      <td>Thomas</td>\n",
       "      <td>633</td>\n",
       "      <td>Germany</td>\n",
       "      <td>Male</td>\n",
       "      <td>40</td>\n",
       "      <td>5.0</td>\n",
       "      <td>86172.81</td>\n",
       "      <td>2</td>\n",
       "      <td>1</td>\n",
       "      <td>1</td>\n",
       "      <td>117279.49</td>\n",
       "      <td>0</td>\n",
       "    </tr>\n",
       "    <tr>\n",
       "      <th>2975</th>\n",
       "      <td>2976</td>\n",
       "      <td>15774179</td>\n",
       "      <td>Sutherland</td>\n",
       "      <td>487</td>\n",
       "      <td>France</td>\n",
       "      <td>Male</td>\n",
       "      <td>37</td>\n",
       "      <td>6.0</td>\n",
       "      <td>0.00</td>\n",
       "      <td>2</td>\n",
       "      <td>1</td>\n",
       "      <td>1</td>\n",
       "      <td>126477.41</td>\n",
       "      <td>0</td>\n",
       "    </tr>\n",
       "    <tr>\n",
       "      <th>1015</th>\n",
       "      <td>1016</td>\n",
       "      <td>15686936</td>\n",
       "      <td>McGregor</td>\n",
       "      <td>676</td>\n",
       "      <td>France</td>\n",
       "      <td>Female</td>\n",
       "      <td>37</td>\n",
       "      <td>5.0</td>\n",
       "      <td>89634.69</td>\n",
       "      <td>1</td>\n",
       "      <td>1</td>\n",
       "      <td>1</td>\n",
       "      <td>169583.18</td>\n",
       "      <td>1</td>\n",
       "    </tr>\n",
       "    <tr>\n",
       "      <th>5667</th>\n",
       "      <td>5668</td>\n",
       "      <td>15719017</td>\n",
       "      <td>Donaldson</td>\n",
       "      <td>672</td>\n",
       "      <td>France</td>\n",
       "      <td>Female</td>\n",
       "      <td>34</td>\n",
       "      <td>8.0</td>\n",
       "      <td>0.00</td>\n",
       "      <td>2</td>\n",
       "      <td>1</td>\n",
       "      <td>1</td>\n",
       "      <td>16245.25</td>\n",
       "      <td>0</td>\n",
       "    </tr>\n",
       "  </tbody>\n",
       "</table>\n",
       "</div>"
      ],
      "text/plain": [
       "      RowNumber  CustomerId     Surname  CreditScore Geography  Gender  Age  \\\n",
       "3126       3127    15691808        King          656    France    Male   43   \n",
       "9111       9112    15711062      Thomas          633   Germany    Male   40   \n",
       "2975       2976    15774179  Sutherland          487    France    Male   37   \n",
       "1015       1016    15686936    McGregor          676    France  Female   37   \n",
       "5667       5668    15719017   Donaldson          672    France  Female   34   \n",
       "\n",
       "      Tenure    Balance  NumOfProducts  HasCrCard  IsActiveMember  \\\n",
       "3126     7.0  134919.85              1          1               0   \n",
       "9111     5.0   86172.81              2          1               1   \n",
       "2975     6.0       0.00              2          1               1   \n",
       "1015     5.0   89634.69              1          1               1   \n",
       "5667     8.0       0.00              2          1               1   \n",
       "\n",
       "      EstimatedSalary  Exited  \n",
       "3126        194691.95       0  \n",
       "9111        117279.49       0  \n",
       "2975        126477.41       0  \n",
       "1015        169583.18       1  \n",
       "5667         16245.25       0  "
      ]
     },
     "execution_count": 9,
     "metadata": {},
     "output_type": "execute_result"
    }
   ],
   "source": [
    "data.sample(5)"
   ]
  },
  {
   "cell_type": "markdown",
   "metadata": {},
   "source": [
    "Дополнительно можно убедиться в необходимости исключения признаков RowNumber, CustomerId и Surname, а также приведения признака Tenure к типу int."
   ]
  },
  {
   "cell_type": "markdown",
   "metadata": {},
   "source": [
    "### Предобработка данных"
   ]
  },
  {
   "cell_type": "markdown",
   "metadata": {},
   "source": [
    "#### Переименование признаков"
   ]
  },
  {
   "cell_type": "markdown",
   "metadata": {},
   "source": [
    "Приведем наименования признаков к snake_case."
   ]
  },
  {
   "cell_type": "code",
   "execution_count": 10,
   "metadata": {},
   "outputs": [],
   "source": [
    "# функция для переименования признаков\n",
    "def column_rename_to_snake_case(columns):\n",
    "    new_columns_list = []\n",
    "    for column in columns:\n",
    "        # находим заглавные буквы, добавляем перед ними пробел и создаем список, разделенный по словам\n",
    "        new_column = re.sub(r'([A-Z])', r' \\1', column).split()\n",
    "        # добавляем в список новое наименование, преобразованное в строку с разделителем '_'\n",
    "        new_columns_list.append('_'.join(new_column).lower())\n",
    "    return new_columns_list"
   ]
  },
  {
   "cell_type": "code",
   "execution_count": 11,
   "metadata": {},
   "outputs": [],
   "source": [
    "data.columns = column_rename_to_snake_case(data.columns)"
   ]
  },
  {
   "cell_type": "code",
   "execution_count": 12,
   "metadata": {},
   "outputs": [
    {
     "data": {
      "text/html": [
       "<div>\n",
       "<style scoped>\n",
       "    .dataframe tbody tr th:only-of-type {\n",
       "        vertical-align: middle;\n",
       "    }\n",
       "\n",
       "    .dataframe tbody tr th {\n",
       "        vertical-align: top;\n",
       "    }\n",
       "\n",
       "    .dataframe thead th {\n",
       "        text-align: right;\n",
       "    }\n",
       "</style>\n",
       "<table border=\"1\" class=\"dataframe\">\n",
       "  <thead>\n",
       "    <tr style=\"text-align: right;\">\n",
       "      <th></th>\n",
       "      <th>row_number</th>\n",
       "      <th>customer_id</th>\n",
       "      <th>surname</th>\n",
       "      <th>credit_score</th>\n",
       "      <th>geography</th>\n",
       "      <th>gender</th>\n",
       "      <th>age</th>\n",
       "      <th>tenure</th>\n",
       "      <th>balance</th>\n",
       "      <th>num_of_products</th>\n",
       "      <th>has_cr_card</th>\n",
       "      <th>is_active_member</th>\n",
       "      <th>estimated_salary</th>\n",
       "      <th>exited</th>\n",
       "    </tr>\n",
       "  </thead>\n",
       "  <tbody>\n",
       "    <tr>\n",
       "      <th>0</th>\n",
       "      <td>1</td>\n",
       "      <td>15634602</td>\n",
       "      <td>Hargrave</td>\n",
       "      <td>619</td>\n",
       "      <td>France</td>\n",
       "      <td>Female</td>\n",
       "      <td>42</td>\n",
       "      <td>2.0</td>\n",
       "      <td>0.00</td>\n",
       "      <td>1</td>\n",
       "      <td>1</td>\n",
       "      <td>1</td>\n",
       "      <td>101348.88</td>\n",
       "      <td>1</td>\n",
       "    </tr>\n",
       "    <tr>\n",
       "      <th>1</th>\n",
       "      <td>2</td>\n",
       "      <td>15647311</td>\n",
       "      <td>Hill</td>\n",
       "      <td>608</td>\n",
       "      <td>Spain</td>\n",
       "      <td>Female</td>\n",
       "      <td>41</td>\n",
       "      <td>1.0</td>\n",
       "      <td>83807.86</td>\n",
       "      <td>1</td>\n",
       "      <td>0</td>\n",
       "      <td>1</td>\n",
       "      <td>112542.58</td>\n",
       "      <td>0</td>\n",
       "    </tr>\n",
       "  </tbody>\n",
       "</table>\n",
       "</div>"
      ],
      "text/plain": [
       "   row_number  customer_id   surname  credit_score geography  gender  age  \\\n",
       "0           1     15634602  Hargrave           619    France  Female   42   \n",
       "1           2     15647311      Hill           608     Spain  Female   41   \n",
       "\n",
       "   tenure   balance  num_of_products  has_cr_card  is_active_member  \\\n",
       "0     2.0      0.00                1            1                 1   \n",
       "1     1.0  83807.86                1            0                 1   \n",
       "\n",
       "   estimated_salary  exited  \n",
       "0         101348.88       1  \n",
       "1         112542.58       0  "
      ]
     },
     "execution_count": 12,
     "metadata": {},
     "output_type": "execute_result"
    }
   ],
   "source": [
    "# проверяем\n",
    "data.head(2)"
   ]
  },
  {
   "cell_type": "markdown",
   "metadata": {},
   "source": [
    "Все корректно"
   ]
  },
  {
   "cell_type": "markdown",
   "metadata": {},
   "source": [
    "#### Удаление признаков row_number,\tcustomer_id, surname"
   ]
  },
  {
   "cell_type": "code",
   "execution_count": 13,
   "metadata": {},
   "outputs": [],
   "source": [
    "data = data.drop(columns=['row_number', 'customer_id', 'surname'])"
   ]
  },
  {
   "cell_type": "code",
   "execution_count": 14,
   "metadata": {},
   "outputs": [
    {
     "name": "stdout",
     "output_type": "stream",
     "text": [
      "<class 'pandas.core.frame.DataFrame'>\n",
      "RangeIndex: 10000 entries, 0 to 9999\n",
      "Data columns (total 11 columns):\n",
      " #   Column            Non-Null Count  Dtype  \n",
      "---  ------            --------------  -----  \n",
      " 0   credit_score      10000 non-null  int64  \n",
      " 1   geography         10000 non-null  object \n",
      " 2   gender            10000 non-null  object \n",
      " 3   age               10000 non-null  int64  \n",
      " 4   tenure            9091 non-null   float64\n",
      " 5   balance           10000 non-null  float64\n",
      " 6   num_of_products   10000 non-null  int64  \n",
      " 7   has_cr_card       10000 non-null  int64  \n",
      " 8   is_active_member  10000 non-null  int64  \n",
      " 9   estimated_salary  10000 non-null  float64\n",
      " 10  exited            10000 non-null  int64  \n",
      "dtypes: float64(3), int64(6), object(2)\n",
      "memory usage: 859.5+ KB\n"
     ]
    }
   ],
   "source": [
    "# проверяем\n",
    "data.info()"
   ]
  },
  {
   "cell_type": "markdown",
   "metadata": {},
   "source": [
    "Все корректно"
   ]
  },
  {
   "cell_type": "markdown",
   "metadata": {},
   "source": [
    "#### Обработка пропусков"
   ]
  },
  {
   "cell_type": "markdown",
   "metadata": {},
   "source": [
    "В признаке tenure содержатся пропуски. Для их корректной обработки необходимо дополнительно исследовать данный признак для определения наиболее подходящей тактики. На первый взгляд можно выделить несколько подходов:\n",
    "1. Заполнение медианой по всем данным.\n",
    "2. Заполнение медианой по сгруппированным данным (например, по стране или полу).\n",
    "3. Определение наличия линейной корреляции признака tenure с каким-либо другим и заполнение на основании данной связи.\n",
    "4. Удалить объекты с пропусками, чтобы они не повлияли негативно на работу модели.\n",
    "5. Удалить признак tenure, если его влияние на целевую переменную невелико.\n",
    "\n",
    "Посмотрим на корреляцию всех признаков друг с другом."
   ]
  },
  {
   "cell_type": "code",
   "execution_count": 15,
   "metadata": {},
   "outputs": [
    {
     "data": {
      "text/html": [
       "<div>\n",
       "<style scoped>\n",
       "    .dataframe tbody tr th:only-of-type {\n",
       "        vertical-align: middle;\n",
       "    }\n",
       "\n",
       "    .dataframe tbody tr th {\n",
       "        vertical-align: top;\n",
       "    }\n",
       "\n",
       "    .dataframe thead th {\n",
       "        text-align: right;\n",
       "    }\n",
       "</style>\n",
       "<table border=\"1\" class=\"dataframe\">\n",
       "  <thead>\n",
       "    <tr style=\"text-align: right;\">\n",
       "      <th></th>\n",
       "      <th>credit_score</th>\n",
       "      <th>age</th>\n",
       "      <th>tenure</th>\n",
       "      <th>balance</th>\n",
       "      <th>num_of_products</th>\n",
       "      <th>has_cr_card</th>\n",
       "      <th>is_active_member</th>\n",
       "      <th>estimated_salary</th>\n",
       "      <th>exited</th>\n",
       "    </tr>\n",
       "  </thead>\n",
       "  <tbody>\n",
       "    <tr>\n",
       "      <th>credit_score</th>\n",
       "      <td>1.000000</td>\n",
       "      <td>-0.003965</td>\n",
       "      <td>-0.000062</td>\n",
       "      <td>0.006268</td>\n",
       "      <td>0.012238</td>\n",
       "      <td>-0.005458</td>\n",
       "      <td>0.025651</td>\n",
       "      <td>-0.001384</td>\n",
       "      <td>-0.027094</td>\n",
       "    </tr>\n",
       "    <tr>\n",
       "      <th>age</th>\n",
       "      <td>-0.003965</td>\n",
       "      <td>1.000000</td>\n",
       "      <td>-0.013134</td>\n",
       "      <td>0.028308</td>\n",
       "      <td>-0.030680</td>\n",
       "      <td>-0.011721</td>\n",
       "      <td>0.085472</td>\n",
       "      <td>-0.007201</td>\n",
       "      <td>0.285323</td>\n",
       "    </tr>\n",
       "    <tr>\n",
       "      <th>tenure</th>\n",
       "      <td>-0.000062</td>\n",
       "      <td>-0.013134</td>\n",
       "      <td>1.000000</td>\n",
       "      <td>-0.007911</td>\n",
       "      <td>0.011979</td>\n",
       "      <td>0.027232</td>\n",
       "      <td>-0.032178</td>\n",
       "      <td>0.010520</td>\n",
       "      <td>-0.016761</td>\n",
       "    </tr>\n",
       "    <tr>\n",
       "      <th>balance</th>\n",
       "      <td>0.006268</td>\n",
       "      <td>0.028308</td>\n",
       "      <td>-0.007911</td>\n",
       "      <td>1.000000</td>\n",
       "      <td>-0.304180</td>\n",
       "      <td>-0.014858</td>\n",
       "      <td>-0.010084</td>\n",
       "      <td>0.012797</td>\n",
       "      <td>0.118533</td>\n",
       "    </tr>\n",
       "    <tr>\n",
       "      <th>num_of_products</th>\n",
       "      <td>0.012238</td>\n",
       "      <td>-0.030680</td>\n",
       "      <td>0.011979</td>\n",
       "      <td>-0.304180</td>\n",
       "      <td>1.000000</td>\n",
       "      <td>0.003183</td>\n",
       "      <td>0.009612</td>\n",
       "      <td>0.014204</td>\n",
       "      <td>-0.047820</td>\n",
       "    </tr>\n",
       "    <tr>\n",
       "      <th>has_cr_card</th>\n",
       "      <td>-0.005458</td>\n",
       "      <td>-0.011721</td>\n",
       "      <td>0.027232</td>\n",
       "      <td>-0.014858</td>\n",
       "      <td>0.003183</td>\n",
       "      <td>1.000000</td>\n",
       "      <td>-0.011866</td>\n",
       "      <td>-0.009933</td>\n",
       "      <td>-0.007138</td>\n",
       "    </tr>\n",
       "    <tr>\n",
       "      <th>is_active_member</th>\n",
       "      <td>0.025651</td>\n",
       "      <td>0.085472</td>\n",
       "      <td>-0.032178</td>\n",
       "      <td>-0.010084</td>\n",
       "      <td>0.009612</td>\n",
       "      <td>-0.011866</td>\n",
       "      <td>1.000000</td>\n",
       "      <td>-0.011421</td>\n",
       "      <td>-0.156128</td>\n",
       "    </tr>\n",
       "    <tr>\n",
       "      <th>estimated_salary</th>\n",
       "      <td>-0.001384</td>\n",
       "      <td>-0.007201</td>\n",
       "      <td>0.010520</td>\n",
       "      <td>0.012797</td>\n",
       "      <td>0.014204</td>\n",
       "      <td>-0.009933</td>\n",
       "      <td>-0.011421</td>\n",
       "      <td>1.000000</td>\n",
       "      <td>0.012097</td>\n",
       "    </tr>\n",
       "    <tr>\n",
       "      <th>exited</th>\n",
       "      <td>-0.027094</td>\n",
       "      <td>0.285323</td>\n",
       "      <td>-0.016761</td>\n",
       "      <td>0.118533</td>\n",
       "      <td>-0.047820</td>\n",
       "      <td>-0.007138</td>\n",
       "      <td>-0.156128</td>\n",
       "      <td>0.012097</td>\n",
       "      <td>1.000000</td>\n",
       "    </tr>\n",
       "  </tbody>\n",
       "</table>\n",
       "</div>"
      ],
      "text/plain": [
       "                  credit_score       age    tenure   balance  num_of_products  \\\n",
       "credit_score          1.000000 -0.003965 -0.000062  0.006268         0.012238   \n",
       "age                  -0.003965  1.000000 -0.013134  0.028308        -0.030680   \n",
       "tenure               -0.000062 -0.013134  1.000000 -0.007911         0.011979   \n",
       "balance               0.006268  0.028308 -0.007911  1.000000        -0.304180   \n",
       "num_of_products       0.012238 -0.030680  0.011979 -0.304180         1.000000   \n",
       "has_cr_card          -0.005458 -0.011721  0.027232 -0.014858         0.003183   \n",
       "is_active_member      0.025651  0.085472 -0.032178 -0.010084         0.009612   \n",
       "estimated_salary     -0.001384 -0.007201  0.010520  0.012797         0.014204   \n",
       "exited               -0.027094  0.285323 -0.016761  0.118533        -0.047820   \n",
       "\n",
       "                  has_cr_card  is_active_member  estimated_salary    exited  \n",
       "credit_score        -0.005458          0.025651         -0.001384 -0.027094  \n",
       "age                 -0.011721          0.085472         -0.007201  0.285323  \n",
       "tenure               0.027232         -0.032178          0.010520 -0.016761  \n",
       "balance             -0.014858         -0.010084          0.012797  0.118533  \n",
       "num_of_products      0.003183          0.009612          0.014204 -0.047820  \n",
       "has_cr_card          1.000000         -0.011866         -0.009933 -0.007138  \n",
       "is_active_member    -0.011866          1.000000         -0.011421 -0.156128  \n",
       "estimated_salary    -0.009933         -0.011421          1.000000  0.012097  \n",
       "exited              -0.007138         -0.156128          0.012097  1.000000  "
      ]
     },
     "execution_count": 15,
     "metadata": {},
     "output_type": "execute_result"
    }
   ],
   "source": [
    "data.corr()"
   ]
  },
  {
   "cell_type": "markdown",
   "metadata": {},
   "source": [
    "Видим, что признак tenure не коррелирует ни с одним из исследуемых. Можно заметить небольшую положительную линейную корреляцию целевого признака с признаком age и отрицательную у признака balance и num_of_products.\n",
    "___\n",
    "Отдельно попробуем оценить связь признака tenure с полом и страной (проверка предположения о возможности группировки по данным признакам)."
   ]
  },
  {
   "cell_type": "code",
   "execution_count": 16,
   "metadata": {},
   "outputs": [
    {
     "data": {
      "image/png": "[encoded data removed]",
      "text/plain": [
       "<Figure size 432x288 with 1 Axes>"
      ]
     },
     "metadata": {
      "needs_background": "light"
     },
     "output_type": "display_data"
    }
   ],
   "source": [
    "sns.boxplot(x='geography', y='tenure', data=data).set_title('Диаграмма размаха для признаков geography и tenure');"
   ]
  },
  {
   "cell_type": "code",
   "execution_count": 17,
   "metadata": {},
   "outputs": [
    {
     "data": {
      "image/png": "[encoded data removed]",
      "text/plain": [
       "<Figure size 432x288 with 1 Axes>"
      ]
     },
     "metadata": {
      "needs_background": "light"
     },
     "output_type": "display_data"
    }
   ],
   "source": [
    "sns.boxplot(x='gender', y='tenure', data=data).set_title('Диаграмма размаха для признаков gender и tenure');"
   ]
  },
  {
   "cell_type": "markdown",
   "metadata": {},
   "source": [
    "Видим, что 25- и 75-квантили для разных стран и пола клиентов отличаются, однако медиана практически одинакова во всех случаях, поэтому заполнение пропусков с группировкой по категориальным признакам не имеет смысла.\n",
    "___\n",
    "Посмотрим на гистограмму признака tenure. Для этого создадим отдельную функцию, позволяющую строить гистограмму с линиями медианы, моды и среднего, а также функцию для исследования отдельного признака."
   ]
  },
  {
   "cell_type": "code",
   "execution_count": 18,
   "metadata": {},
   "outputs": [],
   "source": [
    "# функция построения гистограммы с медианой, средним и модой\n",
    "def my_hist(data, column, bins=10):\n",
    "    fig, ax = plt.subplots(figsize=(10, 5))\n",
    "    ax.hist(data[column], bins=bins, alpha=0.8)\n",
    "    ax.set_title(f'Гистограмма признака {column}')\n",
    "    if data[column].dtype in ['float', 'int']: \n",
    "        feat_median = data[column].median()\n",
    "        feat_mean = data[column].mean()\n",
    "        feat_mode = data[column].mode()[0]\n",
    "        ax.axvline(feat_median, color='g', linestyle='--', label='медиана')\n",
    "        ax.axvline(feat_mean, color='r', linestyle='--', label='среднее')\n",
    "        ax.axvline(feat_mode, color='y', linestyle='--', label='мода')\n",
    "        ax.legend()\n",
    "    plt.show()"
   ]
  },
  {
   "cell_type": "code",
   "execution_count": 19,
   "metadata": {},
   "outputs": [],
   "source": [
    "# функция, позволяющая исследовать признак\n",
    "def feature_stat(data, column, need_hist=False, hist_bins=10, print_nan=False):\n",
    "    missed_count = data[column].isna().sum()\n",
    "    feat_mode = data[column].mode()[0]\n",
    "    feat_stats = data[column].describe()\n",
    "    if data[column].dtype not in ['object', 'bool']:\n",
    "        print(f'Признак {column}\\n{50 * \"_\"}\\n'\n",
    "              f'Кол-во пропусков (доля): {missed_count} ({missed_count / data.shape[0]:.2%})\\n'\n",
    "              f'Кол-во уникальных значений: {data[column].nunique()}\\n'\n",
    "              f'Минимальное значение: {feat_stats[\"min\"]}\\n'\n",
    "              f'Максимальное значение: {feat_stats[\"max\"]}\\n'\n",
    "              f'Медиана: {feat_stats[\"50%\"]}\\n'\n",
    "              f'Среднее: {feat_stats[\"mean\"]}\\n'\n",
    "              f'Мода: {feat_mode}\\n'\n",
    "              f'Тип данных: {data[column].dtype}\\n' + 50 * '_')\n",
    "    else:\n",
    "        print(f'Признак {column}\\n{50 * \"_\"}\\n'\n",
    "              f'Кол-во пропусков (доля): {missed_count} ({missed_count / data.shape[0]:.2%})\\n'\n",
    "              f'Кол-во уникальных значений: {data[column].nunique()}\\n'\n",
    "              f'Мода: {feat_mode}\\n'\n",
    "              f'Частотность моды: {feat_stats[\"freq\"]}\\n'\n",
    "              f'Тип данных: {data[column].dtype}\\n' + 50 * '_')\n",
    "    if need_hist:\n",
    "        try:\n",
    "            print('Гистограмма')\n",
    "            my_hist(data, column, bins=hist_bins)\n",
    "            print(50 * '_')\n",
    "        except:\n",
    "            print('Не удалось построить гистограмму')\n",
    "    if print_nan:\n",
    "        print(f'Случайные объекты с пропусками')\n",
    "        try:\n",
    "            display(data[data[column].isna()].sample(min(5, data[column].isna().sum())))\n",
    "        except:\n",
    "            print('При выполнении произошла ошибка. Возможно, в данных нет пропусков')\n",
    "        print(50 * '_')"
   ]
  },
  {
   "cell_type": "code",
   "execution_count": 20,
   "metadata": {},
   "outputs": [
    {
     "data": {
      "image/png": "[encoded data removed]",
      "text/plain": [
       "<Figure size 720x360 with 1 Axes>"
      ]
     },
     "metadata": {
      "needs_background": "light"
     },
     "output_type": "display_data"
    }
   ],
   "source": [
    "my_hist(data, 'tenure', bins=data['tenure'].nunique())"
   ]
  },
  {
   "cell_type": "markdown",
   "metadata": {},
   "source": [
    "Распределение практически равномерное (небольшие отклонения в значениях 0 и 10). Медиана совпадает со средним (значение 5). Заполнение пропусков приведет к существенному перекосу данных в медианном значении (сейчас таких значений менее тысячи, а станет почти 2000).\n",
    "\n",
    "Рассмотрим вариант исключения объектов с пропусками. Ввиду малого числа объектов первого класса, попробуем определить как много таких объектов в данных с пропусками."
   ]
  },
  {
   "cell_type": "code",
   "execution_count": 21,
   "metadata": {},
   "outputs": [
    {
     "data": {
      "text/plain": [
       "0    0.79868\n",
       "1    0.20132\n",
       "Name: exited, dtype: float64"
      ]
     },
     "execution_count": 21,
     "metadata": {},
     "output_type": "execute_result"
    }
   ],
   "source": [
    "data[data['tenure'].isna()]['exited'].value_counts(normalize=True)"
   ]
  },
  {
   "cell_type": "markdown",
   "metadata": {},
   "source": [
    "Оценим взаимосвязь целевой переменной с признаком tenure."
   ]
  },
  {
   "cell_type": "code",
   "execution_count": 22,
   "metadata": {},
   "outputs": [
    {
     "data": {
      "image/png": "[encoded data removed]",
      "text/plain": [
       "<Figure size 432x288 with 1 Axes>"
      ]
     },
     "metadata": {
      "needs_background": "light"
     },
     "output_type": "display_data"
    }
   ],
   "source": [
    "sns.boxplot(x='exited', y='tenure', data=data).set_title('Диаграмма размаха для признаков exited и tenure');"
   ]
  },
  {
   "cell_type": "markdown",
   "metadata": {},
   "source": [
    "Исключение объектов с пропусками в признаке tenure приведет к потере части данных для малочисленного первого класса, поэтому от данного подхода разумно отказаться.\n",
    "\n",
    "Сам признак tenure отчасти может быть полезен для задачи классификации, несмотря на существенное пересечение данных для нулевого и первого классов (на диаграмме размаха заметно, что 25-квантиль для ушедших клиентов немного ниже, чем для оставшихся), поэтому сам признак тоже пока не будем исключать.\n",
    "___\n",
    "Единственным оставшимся является вариант с заполнением пропусков медианным значением. Так и поступим (отдельно добавим признак-флаг о том, что в данных были пропуски)."
   ]
  },
  {
   "cell_type": "code",
   "execution_count": 23,
   "metadata": {},
   "outputs": [],
   "source": [
    "data['tenure_nan_flag'] = 0\n",
    "data.loc[data['tenure'].isna(), 'tenure_nan_flag'] = 1\n",
    "data.loc[data['tenure'].isna(), 'tenure'] = data['tenure'].median()"
   ]
  },
  {
   "cell_type": "code",
   "execution_count": 24,
   "metadata": {},
   "outputs": [
    {
     "data": {
      "text/plain": [
       "0"
      ]
     },
     "execution_count": 24,
     "metadata": {},
     "output_type": "execute_result"
    }
   ],
   "source": [
    "# проверяем\n",
    "data.isna().sum().sum()"
   ]
  },
  {
   "cell_type": "code",
   "execution_count": 25,
   "metadata": {},
   "outputs": [
    {
     "data": {
      "text/html": [
       "<div>\n",
       "<style scoped>\n",
       "    .dataframe tbody tr th:only-of-type {\n",
       "        vertical-align: middle;\n",
       "    }\n",
       "\n",
       "    .dataframe tbody tr th {\n",
       "        vertical-align: top;\n",
       "    }\n",
       "\n",
       "    .dataframe thead th {\n",
       "        text-align: right;\n",
       "    }\n",
       "</style>\n",
       "<table border=\"1\" class=\"dataframe\">\n",
       "  <thead>\n",
       "    <tr style=\"text-align: right;\">\n",
       "      <th></th>\n",
       "      <th>credit_score</th>\n",
       "      <th>geography</th>\n",
       "      <th>gender</th>\n",
       "      <th>age</th>\n",
       "      <th>tenure</th>\n",
       "      <th>balance</th>\n",
       "      <th>num_of_products</th>\n",
       "      <th>has_cr_card</th>\n",
       "      <th>is_active_member</th>\n",
       "      <th>estimated_salary</th>\n",
       "      <th>exited</th>\n",
       "      <th>tenure_nan_flag</th>\n",
       "    </tr>\n",
       "  </thead>\n",
       "  <tbody>\n",
       "    <tr>\n",
       "      <th>9463</th>\n",
       "      <td>664</td>\n",
       "      <td>France</td>\n",
       "      <td>Male</td>\n",
       "      <td>24</td>\n",
       "      <td>7.0</td>\n",
       "      <td>0.00</td>\n",
       "      <td>1</td>\n",
       "      <td>0</td>\n",
       "      <td>1</td>\n",
       "      <td>35611.35</td>\n",
       "      <td>0</td>\n",
       "      <td>0</td>\n",
       "    </tr>\n",
       "    <tr>\n",
       "      <th>9257</th>\n",
       "      <td>678</td>\n",
       "      <td>Germany</td>\n",
       "      <td>Female</td>\n",
       "      <td>37</td>\n",
       "      <td>8.0</td>\n",
       "      <td>149000.91</td>\n",
       "      <td>2</td>\n",
       "      <td>1</td>\n",
       "      <td>1</td>\n",
       "      <td>21472.42</td>\n",
       "      <td>0</td>\n",
       "      <td>0</td>\n",
       "    </tr>\n",
       "    <tr>\n",
       "      <th>9443</th>\n",
       "      <td>596</td>\n",
       "      <td>Germany</td>\n",
       "      <td>Male</td>\n",
       "      <td>54</td>\n",
       "      <td>1.0</td>\n",
       "      <td>123544.00</td>\n",
       "      <td>1</td>\n",
       "      <td>1</td>\n",
       "      <td>1</td>\n",
       "      <td>120314.75</td>\n",
       "      <td>1</td>\n",
       "      <td>0</td>\n",
       "    </tr>\n",
       "  </tbody>\n",
       "</table>\n",
       "</div>"
      ],
      "text/plain": [
       "      credit_score geography  gender  age  tenure    balance  num_of_products  \\\n",
       "9463           664    France    Male   24     7.0       0.00                1   \n",
       "9257           678   Germany  Female   37     8.0  149000.91                2   \n",
       "9443           596   Germany    Male   54     1.0  123544.00                1   \n",
       "\n",
       "      has_cr_card  is_active_member  estimated_salary  exited  tenure_nan_flag  \n",
       "9463            0                 1          35611.35       0                0  \n",
       "9257            1                 1          21472.42       0                0  \n",
       "9443            1                 1         120314.75       1                0  "
      ]
     },
     "execution_count": 25,
     "metadata": {},
     "output_type": "execute_result"
    }
   ],
   "source": [
    "data.sample(3)"
   ]
  },
  {
   "cell_type": "markdown",
   "metadata": {},
   "source": [
    "Пропуски заполнены корректно"
   ]
  },
  {
   "cell_type": "markdown",
   "metadata": {},
   "source": [
    "#### Исследование выбросов"
   ]
  },
  {
   "cell_type": "markdown",
   "metadata": {},
   "source": [
    "В обзоре данных мы обнаружили потенциальные выбросы в признаках age и estimated_salary. Изучим эти признаки подробнее."
   ]
  },
  {
   "cell_type": "markdown",
   "metadata": {},
   "source": [
    "##### Признак age"
   ]
  },
  {
   "cell_type": "code",
   "execution_count": 26,
   "metadata": {
    "scrolled": false
   },
   "outputs": [
    {
     "name": "stdout",
     "output_type": "stream",
     "text": [
      "Признак age\n",
      "__________________________________________________\n",
      "Кол-во пропусков (доля): 0 (0.00%)\n",
      "Кол-во уникальных значений: 70\n",
      "Минимальное значение: 18.0\n",
      "Максимальное значение: 92.0\n",
      "Медиана: 37.0\n",
      "Среднее: 38.9218\n",
      "Мода: 37\n",
      "Тип данных: int64\n",
      "__________________________________________________\n",
      "Гистограмма\n"
     ]
    },
    {
     "data": {
      "image/png": "[encoded data removed]",
      "text/plain": [
       "<Figure size 720x360 with 1 Axes>"
      ]
     },
     "metadata": {
      "needs_background": "light"
     },
     "output_type": "display_data"
    },
    {
     "name": "stdout",
     "output_type": "stream",
     "text": [
      "__________________________________________________\n"
     ]
    }
   ],
   "source": [
    "# исследуем признак\n",
    "feature_stat(data, 'age', need_hist=True, hist_bins=data['age'].nunique())"
   ]
  },
  {
   "cell_type": "markdown",
   "metadata": {},
   "source": [
    "Видим нормальное распределение с некоторым странным пиком на значении 37 лет (кол-во таких значений практически вдвое больше иных), а также скошенность гистограммы вправо (визуально + среднее превышает медиану). Оценим потенциальные выбросы на диаграмме размаха."
   ]
  },
  {
   "cell_type": "code",
   "execution_count": 27,
   "metadata": {},
   "outputs": [
    {
     "data": {
      "image/png": "[encoded data removed]",
      "text/plain": [
       "<Figure size 432x288 with 1 Axes>"
      ]
     },
     "metadata": {
      "needs_background": "light"
     },
     "output_type": "display_data"
    }
   ],
   "source": [
    "sns.boxplot(x='age', data=data).set_title('Диаграмма размаха для признака age');"
   ]
  },
  {
   "cell_type": "markdown",
   "metadata": {},
   "source": [
    "Видим потенциальные выбросы на отметке более 62 лет. Посмотрим на эти значения более подробно."
   ]
  },
  {
   "cell_type": "code",
   "execution_count": 28,
   "metadata": {},
   "outputs": [
    {
     "data": {
      "text/plain": [
       "62.0"
      ]
     },
     "execution_count": 28,
     "metadata": {},
     "output_type": "execute_result"
    }
   ],
   "source": [
    "# вычисляем границу отсечения (Q3 + 1.5 * IQR)\n",
    "data['age'].quantile(0.75) + 1.5 * (data['age'].quantile(0.75) - data['age'].quantile(0.25))"
   ]
  },
  {
   "cell_type": "markdown",
   "metadata": {},
   "source": [
    "Посмотрим сколько в данных объектов с возрастом более 62 лет."
   ]
  },
  {
   "cell_type": "code",
   "execution_count": 29,
   "metadata": {},
   "outputs": [
    {
     "data": {
      "text/plain": [
       "0.0359"
      ]
     },
     "execution_count": 29,
     "metadata": {},
     "output_type": "execute_result"
    }
   ],
   "source": [
    "data.query('age > 62')['age'].count() / data.shape[0]"
   ]
  },
  {
   "cell_type": "markdown",
   "metadata": {},
   "source": [
    "Менее 4 процентов. \n",
    "\n",
    "В рамках данного проекта мы не будем исключать возрастных клиентов только из-за их малочисленности, поскольку в целом данные являются корректными."
   ]
  },
  {
   "cell_type": "markdown",
   "metadata": {},
   "source": [
    "Выбросы обработаны."
   ]
  },
  {
   "cell_type": "markdown",
   "metadata": {},
   "source": [
    "##### Признак estimated_salary"
   ]
  },
  {
   "cell_type": "markdown",
   "metadata": {},
   "source": [
    "Изучим подробнее признак estimated_salary."
   ]
  },
  {
   "cell_type": "code",
   "execution_count": 30,
   "metadata": {},
   "outputs": [
    {
     "name": "stdout",
     "output_type": "stream",
     "text": [
      "Признак estimated_salary\n",
      "__________________________________________________\n",
      "Кол-во пропусков (доля): 0 (0.00%)\n",
      "Кол-во уникальных значений: 9999\n",
      "Минимальное значение: 11.58\n",
      "Максимальное значение: 199992.48\n",
      "Медиана: 100193.915\n",
      "Среднее: 100090.239881\n",
      "Мода: 24924.92\n",
      "Тип данных: float64\n",
      "__________________________________________________\n",
      "Гистограмма\n"
     ]
    },
    {
     "data": {
      "image/png": "[encoded data removed]",
      "text/plain": [
       "<Figure size 720x360 with 1 Axes>"
      ]
     },
     "metadata": {
      "needs_background": "light"
     },
     "output_type": "display_data"
    },
    {
     "name": "stdout",
     "output_type": "stream",
     "text": [
      "__________________________________________________\n"
     ]
    }
   ],
   "source": [
    "feature_stat(data, 'estimated_salary', need_hist=True, hist_bins=data['age'].nunique())"
   ]
  },
  {
   "cell_type": "markdown",
   "metadata": {},
   "source": [
    "Видим практически равномерное распределение с довольно странными значениями зарплат (судя по описанию, эти данные получены в результате работы какой-то модели). Странность зарплат в их величинах (они явно ограничены сверху значением в 200000, также в данных присутствуют клиенты с зарплатами менее 100 евро). Из описания непонятно за какой период начисляется зарплата, но можно предположить, что за год (в европейских странах, а также в США, как правило, указывается такой период, чтобы можно было включить все предполагаемые бонусы, за исключением низкооплачиваемых и сдельных работ, зарплата за которую указывается по ставке за час). Минимальные значения в признаке как раз похожи на зарплату за час.\n",
    "\n",
    "В исследуемых странах показатели минимальных зарплат в 2022 году (у нас нет информации за какой период данные, поэтому будем считать текущий год) следующие:\n",
    "- в Испании: минимальная в час: 6.4 евро, в месяц: 1108.3 евро.\n",
    "- во Франции: минимальная в час: 11 евро, в месяц: 1621 евро.\n",
    "- в Германии: минимальная в час: 9.8 евро, в месяц: 1571.2 евро.\n",
    "\n",
    "Исследуем явные выбросы даже с допущением, что в данные могли попасть зарплаты за месяц."
   ]
  },
  {
   "cell_type": "code",
   "execution_count": 31,
   "metadata": {
    "scrolled": false
   },
   "outputs": [
    {
     "data": {
      "text/html": [
       "<div>\n",
       "<style scoped>\n",
       "    .dataframe tbody tr th:only-of-type {\n",
       "        vertical-align: middle;\n",
       "    }\n",
       "\n",
       "    .dataframe tbody tr th {\n",
       "        vertical-align: top;\n",
       "    }\n",
       "\n",
       "    .dataframe thead th {\n",
       "        text-align: right;\n",
       "    }\n",
       "</style>\n",
       "<table border=\"1\" class=\"dataframe\">\n",
       "  <thead>\n",
       "    <tr style=\"text-align: right;\">\n",
       "      <th></th>\n",
       "      <th>credit_score</th>\n",
       "      <th>geography</th>\n",
       "      <th>gender</th>\n",
       "      <th>age</th>\n",
       "      <th>tenure</th>\n",
       "      <th>balance</th>\n",
       "      <th>num_of_products</th>\n",
       "      <th>has_cr_card</th>\n",
       "      <th>is_active_member</th>\n",
       "      <th>estimated_salary</th>\n",
       "      <th>exited</th>\n",
       "      <th>tenure_nan_flag</th>\n",
       "    </tr>\n",
       "  </thead>\n",
       "  <tbody>\n",
       "    <tr>\n",
       "      <th>149</th>\n",
       "      <td>416</td>\n",
       "      <td>France</td>\n",
       "      <td>Male</td>\n",
       "      <td>32</td>\n",
       "      <td>0.0</td>\n",
       "      <td>0.00</td>\n",
       "      <td>2</td>\n",
       "      <td>0</td>\n",
       "      <td>1</td>\n",
       "      <td>878.87</td>\n",
       "      <td>0</td>\n",
       "      <td>0</td>\n",
       "    </tr>\n",
       "    <tr>\n",
       "      <th>195</th>\n",
       "      <td>807</td>\n",
       "      <td>France</td>\n",
       "      <td>Male</td>\n",
       "      <td>35</td>\n",
       "      <td>3.0</td>\n",
       "      <td>174790.15</td>\n",
       "      <td>1</td>\n",
       "      <td>1</td>\n",
       "      <td>1</td>\n",
       "      <td>600.36</td>\n",
       "      <td>0</td>\n",
       "      <td>0</td>\n",
       "    </tr>\n",
       "    <tr>\n",
       "      <th>393</th>\n",
       "      <td>556</td>\n",
       "      <td>Spain</td>\n",
       "      <td>Male</td>\n",
       "      <td>38</td>\n",
       "      <td>8.0</td>\n",
       "      <td>0.00</td>\n",
       "      <td>2</td>\n",
       "      <td>0</td>\n",
       "      <td>0</td>\n",
       "      <td>417.41</td>\n",
       "      <td>1</td>\n",
       "      <td>0</td>\n",
       "    </tr>\n",
       "    <tr>\n",
       "      <th>396</th>\n",
       "      <td>557</td>\n",
       "      <td>France</td>\n",
       "      <td>Male</td>\n",
       "      <td>33</td>\n",
       "      <td>3.0</td>\n",
       "      <td>54503.55</td>\n",
       "      <td>1</td>\n",
       "      <td>1</td>\n",
       "      <td>1</td>\n",
       "      <td>371.05</td>\n",
       "      <td>0</td>\n",
       "      <td>0</td>\n",
       "    </tr>\n",
       "    <tr>\n",
       "      <th>559</th>\n",
       "      <td>850</td>\n",
       "      <td>Spain</td>\n",
       "      <td>Female</td>\n",
       "      <td>70</td>\n",
       "      <td>5.0</td>\n",
       "      <td>0.00</td>\n",
       "      <td>1</td>\n",
       "      <td>1</td>\n",
       "      <td>1</td>\n",
       "      <td>705.18</td>\n",
       "      <td>0</td>\n",
       "      <td>1</td>\n",
       "    </tr>\n",
       "    <tr>\n",
       "      <th>...</th>\n",
       "      <td>...</td>\n",
       "      <td>...</td>\n",
       "      <td>...</td>\n",
       "      <td>...</td>\n",
       "      <td>...</td>\n",
       "      <td>...</td>\n",
       "      <td>...</td>\n",
       "      <td>...</td>\n",
       "      <td>...</td>\n",
       "      <td>...</td>\n",
       "      <td>...</td>\n",
       "      <td>...</td>\n",
       "    </tr>\n",
       "    <tr>\n",
       "      <th>9636</th>\n",
       "      <td>648</td>\n",
       "      <td>Germany</td>\n",
       "      <td>Female</td>\n",
       "      <td>40</td>\n",
       "      <td>5.0</td>\n",
       "      <td>139973.65</td>\n",
       "      <td>1</td>\n",
       "      <td>1</td>\n",
       "      <td>1</td>\n",
       "      <td>667.66</td>\n",
       "      <td>1</td>\n",
       "      <td>0</td>\n",
       "    </tr>\n",
       "    <tr>\n",
       "      <th>9647</th>\n",
       "      <td>625</td>\n",
       "      <td>France</td>\n",
       "      <td>Male</td>\n",
       "      <td>31</td>\n",
       "      <td>5.0</td>\n",
       "      <td>0.00</td>\n",
       "      <td>2</td>\n",
       "      <td>0</td>\n",
       "      <td>1</td>\n",
       "      <td>90.07</td>\n",
       "      <td>0</td>\n",
       "      <td>0</td>\n",
       "    </tr>\n",
       "    <tr>\n",
       "      <th>9649</th>\n",
       "      <td>715</td>\n",
       "      <td>France</td>\n",
       "      <td>Female</td>\n",
       "      <td>38</td>\n",
       "      <td>0.0</td>\n",
       "      <td>0.00</td>\n",
       "      <td>2</td>\n",
       "      <td>1</td>\n",
       "      <td>1</td>\n",
       "      <td>332.81</td>\n",
       "      <td>0</td>\n",
       "      <td>0</td>\n",
       "    </tr>\n",
       "    <tr>\n",
       "      <th>9875</th>\n",
       "      <td>521</td>\n",
       "      <td>France</td>\n",
       "      <td>Male</td>\n",
       "      <td>39</td>\n",
       "      <td>7.0</td>\n",
       "      <td>0.00</td>\n",
       "      <td>2</td>\n",
       "      <td>0</td>\n",
       "      <td>1</td>\n",
       "      <td>653.58</td>\n",
       "      <td>0</td>\n",
       "      <td>0</td>\n",
       "    </tr>\n",
       "    <tr>\n",
       "      <th>9920</th>\n",
       "      <td>678</td>\n",
       "      <td>France</td>\n",
       "      <td>Female</td>\n",
       "      <td>49</td>\n",
       "      <td>3.0</td>\n",
       "      <td>204510.94</td>\n",
       "      <td>1</td>\n",
       "      <td>0</td>\n",
       "      <td>1</td>\n",
       "      <td>738.88</td>\n",
       "      <td>1</td>\n",
       "      <td>0</td>\n",
       "    </tr>\n",
       "  </tbody>\n",
       "</table>\n",
       "<p>63 rows × 12 columns</p>\n",
       "</div>"
      ],
      "text/plain": [
       "      credit_score geography  gender  age  tenure    balance  num_of_products  \\\n",
       "149            416    France    Male   32     0.0       0.00                2   \n",
       "195            807    France    Male   35     3.0  174790.15                1   \n",
       "393            556     Spain    Male   38     8.0       0.00                2   \n",
       "396            557    France    Male   33     3.0   54503.55                1   \n",
       "559            850     Spain  Female   70     5.0       0.00                1   \n",
       "...            ...       ...     ...  ...     ...        ...              ...   \n",
       "9636           648   Germany  Female   40     5.0  139973.65                1   \n",
       "9647           625    France    Male   31     5.0       0.00                2   \n",
       "9649           715    France  Female   38     0.0       0.00                2   \n",
       "9875           521    France    Male   39     7.0       0.00                2   \n",
       "9920           678    France  Female   49     3.0  204510.94                1   \n",
       "\n",
       "      has_cr_card  is_active_member  estimated_salary  exited  tenure_nan_flag  \n",
       "149             0                 1            878.87       0                0  \n",
       "195             1                 1            600.36       0                0  \n",
       "393             0                 0            417.41       1                0  \n",
       "396             1                 1            371.05       0                0  \n",
       "559             1                 1            705.18       0                1  \n",
       "...           ...               ...               ...     ...              ...  \n",
       "9636            1                 1            667.66       1                0  \n",
       "9647            0                 1             90.07       0                0  \n",
       "9649            1                 1            332.81       0                0  \n",
       "9875            0                 1            653.58       0                0  \n",
       "9920            0                 1            738.88       1                0  \n",
       "\n",
       "[63 rows x 12 columns]"
      ]
     },
     "metadata": {},
     "output_type": "display_data"
    },
    {
     "name": "stdout",
     "output_type": "stream",
     "text": [
      "63\n"
     ]
    }
   ],
   "source": [
    "# в качестве ограничителя введем минимальную зарплату за месяц в Испании (как самую низкую из исследуемых стран)\n",
    "display(data[data.estimated_salary < 1108.3]), print(data[data.estimated_salary < 1108.3]['estimated_salary'].count());"
   ]
  },
  {
   "cell_type": "markdown",
   "metadata": {},
   "source": [
    "Таких значений всего 63, при этом они достаточно необычные (если считать их часовой ставкой, получатся слишком высокие месячные зарплаты, но при этом эти зарплаты меньше минимально допустимых). Данные зарплаты плохо коррелируют с балансом большинства клиентов - при зарплате менее 1000 евро, у некоторых баланс составляет более 100000 к 30-40 годам, что выглядит некорректным. \n",
    "\n",
    "Можно предложить следующий алгоритм обработки выбросов в исследуемом признаке: удаление всех объектов с зарплатами менее месячной минимальной зарплаты для всех трех стран (в нашем случае это 1108.3 - таким образом мы сделаем некий допуск того, что представлены данные не за 2022 год и сможем более-менее корректно обработать клиентов из Франции и Германии (у которых в предыдущие годы минимальная зарплата была близка к этим уровням)), значения более минимальной месячной зарплаты, но менее минимальной годовой, мы умножим на 12 (приведем к годовой).\n",
    "Реализуем этот подход, создав дополнительный признак-флаг, что в данные вносились изменения."
   ]
  },
  {
   "cell_type": "code",
   "execution_count": 32,
   "metadata": {},
   "outputs": [],
   "source": [
    "data = data.query('estimated_salary >= 1108.3')\n",
    "data['estimated_salary_corr_flag'] = 0\n",
    "data.loc[data['estimated_salary'] < 1108.3 * 12, 'estimated_salary_corr_flag'] = 1\n",
    "data.loc[data['estimated_salary'] < 1108.3 * 12, 'estimated_salary'] *= 12"
   ]
  },
  {
   "cell_type": "code",
   "execution_count": 33,
   "metadata": {},
   "outputs": [
    {
     "data": {
      "text/plain": [
       "0"
      ]
     },
     "execution_count": 33,
     "metadata": {},
     "output_type": "execute_result"
    }
   ],
   "source": [
    "# проверяем\n",
    "data[data['estimated_salary'] < 1108.3 * 12]['estimated_salary'].count()"
   ]
  },
  {
   "cell_type": "code",
   "execution_count": 34,
   "metadata": {},
   "outputs": [
    {
     "data": {
      "text/plain": [
       "0.06118546845124283"
      ]
     },
     "execution_count": 34,
     "metadata": {},
     "output_type": "execute_result"
    }
   ],
   "source": [
    "data[data['estimated_salary_corr_flag'] == 1].shape[0] / data.shape[0]"
   ]
  },
  {
   "cell_type": "markdown",
   "metadata": {},
   "source": [
    "Данные откорректированы"
   ]
  },
  {
   "cell_type": "markdown",
   "metadata": {},
   "source": [
    "#### Изменение типов данных"
   ]
  },
  {
   "cell_type": "markdown",
   "metadata": {},
   "source": [
    "Необходимо изменить тип для признака tenure на int."
   ]
  },
  {
   "cell_type": "code",
   "execution_count": 35,
   "metadata": {},
   "outputs": [],
   "source": [
    "data['tenure'] = data['tenure'].astype('int')"
   ]
  },
  {
   "cell_type": "code",
   "execution_count": 36,
   "metadata": {},
   "outputs": [
    {
     "data": {
      "text/plain": [
       "credit_score                    int64\n",
       "geography                      object\n",
       "gender                         object\n",
       "age                             int64\n",
       "tenure                          int64\n",
       "balance                       float64\n",
       "num_of_products                 int64\n",
       "has_cr_card                     int64\n",
       "is_active_member                int64\n",
       "estimated_salary              float64\n",
       "exited                          int64\n",
       "tenure_nan_flag                 int64\n",
       "estimated_salary_corr_flag      int64\n",
       "dtype: object"
      ]
     },
     "execution_count": 36,
     "metadata": {},
     "output_type": "execute_result"
    }
   ],
   "source": [
    "data.dtypes"
   ]
  },
  {
   "cell_type": "markdown",
   "metadata": {},
   "source": [
    "Все корректно"
   ]
  },
  {
   "cell_type": "markdown",
   "metadata": {},
   "source": [
    "#### Подготовка данных"
   ]
  },
  {
   "cell_type": "markdown",
   "metadata": {},
   "source": [
    "При подготовке данных необходимо:\n",
    "- применить OHE для признаков gender и geography;\n",
    "- разделить выборку на тренировочную, валидационную и тестовую (с учетом кросс-валидации при обучении модели валидационную выборку можно было бы и не создавать, но условию задачи мы доожны проводить выбор модели на отдельной выборке, а тестирование на другой);\n",
    "- нормализовать значения для числовых признаков."
   ]
  },
  {
   "cell_type": "code",
   "execution_count": 37,
   "metadata": {},
   "outputs": [],
   "source": [
    "# применим OHE к данным\n",
    "data = pd.get_dummies(data, drop_first=True)"
   ]
  },
  {
   "cell_type": "code",
   "execution_count": 38,
   "metadata": {},
   "outputs": [
    {
     "data": {
      "text/html": [
       "<div>\n",
       "<style scoped>\n",
       "    .dataframe tbody tr th:only-of-type {\n",
       "        vertical-align: middle;\n",
       "    }\n",
       "\n",
       "    .dataframe tbody tr th {\n",
       "        vertical-align: top;\n",
       "    }\n",
       "\n",
       "    .dataframe thead th {\n",
       "        text-align: right;\n",
       "    }\n",
       "</style>\n",
       "<table border=\"1\" class=\"dataframe\">\n",
       "  <thead>\n",
       "    <tr style=\"text-align: right;\">\n",
       "      <th></th>\n",
       "      <th>credit_score</th>\n",
       "      <th>age</th>\n",
       "      <th>tenure</th>\n",
       "      <th>balance</th>\n",
       "      <th>num_of_products</th>\n",
       "      <th>has_cr_card</th>\n",
       "      <th>is_active_member</th>\n",
       "      <th>estimated_salary</th>\n",
       "      <th>exited</th>\n",
       "      <th>tenure_nan_flag</th>\n",
       "      <th>estimated_salary_corr_flag</th>\n",
       "      <th>geography_Germany</th>\n",
       "      <th>geography_Spain</th>\n",
       "      <th>gender_Male</th>\n",
       "    </tr>\n",
       "  </thead>\n",
       "  <tbody>\n",
       "    <tr>\n",
       "      <th>0</th>\n",
       "      <td>619</td>\n",
       "      <td>42</td>\n",
       "      <td>2</td>\n",
       "      <td>0.00</td>\n",
       "      <td>1</td>\n",
       "      <td>1</td>\n",
       "      <td>1</td>\n",
       "      <td>101348.88</td>\n",
       "      <td>1</td>\n",
       "      <td>0</td>\n",
       "      <td>0</td>\n",
       "      <td>0</td>\n",
       "      <td>0</td>\n",
       "      <td>0</td>\n",
       "    </tr>\n",
       "    <tr>\n",
       "      <th>1</th>\n",
       "      <td>608</td>\n",
       "      <td>41</td>\n",
       "      <td>1</td>\n",
       "      <td>83807.86</td>\n",
       "      <td>1</td>\n",
       "      <td>0</td>\n",
       "      <td>1</td>\n",
       "      <td>112542.58</td>\n",
       "      <td>0</td>\n",
       "      <td>0</td>\n",
       "      <td>0</td>\n",
       "      <td>0</td>\n",
       "      <td>1</td>\n",
       "      <td>0</td>\n",
       "    </tr>\n",
       "  </tbody>\n",
       "</table>\n",
       "</div>"
      ],
      "text/plain": [
       "   credit_score  age  tenure   balance  num_of_products  has_cr_card  \\\n",
       "0           619   42       2      0.00                1            1   \n",
       "1           608   41       1  83807.86                1            0   \n",
       "\n",
       "   is_active_member  estimated_salary  exited  tenure_nan_flag  \\\n",
       "0                 1         101348.88       1                0   \n",
       "1                 1         112542.58       0                0   \n",
       "\n",
       "   estimated_salary_corr_flag  geography_Germany  geography_Spain  gender_Male  \n",
       "0                           0                  0                0            0  \n",
       "1                           0                  0                1            0  "
      ]
     },
     "execution_count": 38,
     "metadata": {},
     "output_type": "execute_result"
    }
   ],
   "source": [
    "data.head(2)"
   ]
  },
  {
   "cell_type": "code",
   "execution_count": 39,
   "metadata": {},
   "outputs": [
    {
     "name": "stdout",
     "output_type": "stream",
     "text": [
      "<class 'pandas.core.frame.DataFrame'>\n",
      "Int64Index: 9937 entries, 0 to 9999\n",
      "Data columns (total 14 columns):\n",
      " #   Column                      Non-Null Count  Dtype  \n",
      "---  ------                      --------------  -----  \n",
      " 0   credit_score                9937 non-null   int64  \n",
      " 1   age                         9937 non-null   int64  \n",
      " 2   tenure                      9937 non-null   int64  \n",
      " 3   balance                     9937 non-null   float64\n",
      " 4   num_of_products             9937 non-null   int64  \n",
      " 5   has_cr_card                 9937 non-null   int64  \n",
      " 6   is_active_member            9937 non-null   int64  \n",
      " 7   estimated_salary            9937 non-null   float64\n",
      " 8   exited                      9937 non-null   int64  \n",
      " 9   tenure_nan_flag             9937 non-null   int64  \n",
      " 10  estimated_salary_corr_flag  9937 non-null   int64  \n",
      " 11  geography_Germany           9937 non-null   uint8  \n",
      " 12  geography_Spain             9937 non-null   uint8  \n",
      " 13  gender_Male                 9937 non-null   uint8  \n",
      "dtypes: float64(2), int64(9), uint8(3)\n",
      "memory usage: 960.7 KB\n"
     ]
    }
   ],
   "source": [
    "data.info()"
   ]
  },
  {
   "cell_type": "markdown",
   "metadata": {},
   "source": [
    "Данные закодированы корректно.\n",
    "____\n",
    "Посмотрим на дисбаланс классов и разделим выборку на тренировочную и тестовую."
   ]
  },
  {
   "cell_type": "code",
   "execution_count": 40,
   "metadata": {},
   "outputs": [
    {
     "data": {
      "image/png": "[encoded data removed]",
      "text/plain": [
       "<Figure size 720x432 with 1 Axes>"
      ]
     },
     "metadata": {
      "needs_background": "light"
     },
     "output_type": "display_data"
    }
   ],
   "source": [
    "data['exited'].value_counts(normalize=True).plot(kind='bar', \n",
    "                                                 figsize=(10, 6)).set_title('Дисбаланс классов целевой переменной');"
   ]
  },
  {
   "cell_type": "markdown",
   "metadata": {},
   "source": [
    "В данных порядка 80% значений нулевого класса и около 20% первого, что потребует применения стратификации при разделении выборок."
   ]
  },
  {
   "cell_type": "code",
   "execution_count": 41,
   "metadata": {},
   "outputs": [],
   "source": [
    "# формируем выборку со стратификацией\n",
    "X = data.drop(columns=['exited'])\n",
    "y = data['exited']\n",
    "X_train, X_test_valid, y_train, y_test_valid = train_test_split(X, \n",
    "                                                                y, \n",
    "                                                                test_size=0.4, \n",
    "                                                                random_state=22, \n",
    "                                                                stratify=y)\n",
    "X_valid, X_test, y_valid, y_test = train_test_split(X_test_valid, \n",
    "                                                    y_test_valid, \n",
    "                                                    test_size=0.5, \n",
    "                                                    random_state=22, \n",
    "                                                    stratify=y_test_valid)"
   ]
  },
  {
   "cell_type": "code",
   "execution_count": 42,
   "metadata": {},
   "outputs": [
    {
     "data": {
      "text/plain": [
       "0    0.796377\n",
       "1    0.203623\n",
       "Name: exited, dtype: float64"
      ]
     },
     "execution_count": 42,
     "metadata": {},
     "output_type": "execute_result"
    }
   ],
   "source": [
    "# проверяем баланс классов в тренировочной и тестовой выборках\n",
    "y_train.value_counts(normalize=True)"
   ]
  },
  {
   "cell_type": "code",
   "execution_count": 43,
   "metadata": {},
   "outputs": [
    {
     "data": {
      "text/plain": [
       "0    0.796175\n",
       "1    0.203825\n",
       "Name: exited, dtype: float64"
      ]
     },
     "execution_count": 43,
     "metadata": {},
     "output_type": "execute_result"
    }
   ],
   "source": [
    "y_valid.value_counts(normalize=True)"
   ]
  },
  {
   "cell_type": "code",
   "execution_count": 44,
   "metadata": {},
   "outputs": [
    {
     "data": {
      "text/plain": [
       "0    0.796278\n",
       "1    0.203722\n",
       "Name: exited, dtype: float64"
      ]
     },
     "execution_count": 44,
     "metadata": {},
     "output_type": "execute_result"
    }
   ],
   "source": [
    "y_test.value_counts(normalize=True)"
   ]
  },
  {
   "cell_type": "markdown",
   "metadata": {},
   "source": [
    "Данные разделены корректно.\n",
    "___\n",
    "Нормалируем данные с помощью MinMaxScaler"
   ]
  },
  {
   "cell_type": "code",
   "execution_count": 45,
   "metadata": {},
   "outputs": [],
   "source": [
    "scaler = MinMaxScaler()"
   ]
  },
  {
   "cell_type": "code",
   "execution_count": 46,
   "metadata": {},
   "outputs": [],
   "source": [
    "num_cols = ['credit_score', 'balance', 'age', 'tenure', 'num_of_products', 'estimated_salary']\n",
    "X_train[num_cols] = scaler.fit_transform(X_train[num_cols])\n",
    "X_valid[num_cols] = scaler.transform(X_valid[num_cols])\n",
    "X_test[num_cols] = scaler.transform(X_test[num_cols])"
   ]
  },
  {
   "cell_type": "code",
   "execution_count": 47,
   "metadata": {},
   "outputs": [
    {
     "data": {
      "text/html": [
       "<div>\n",
       "<style scoped>\n",
       "    .dataframe tbody tr th:only-of-type {\n",
       "        vertical-align: middle;\n",
       "    }\n",
       "\n",
       "    .dataframe tbody tr th {\n",
       "        vertical-align: top;\n",
       "    }\n",
       "\n",
       "    .dataframe thead th {\n",
       "        text-align: right;\n",
       "    }\n",
       "</style>\n",
       "<table border=\"1\" class=\"dataframe\">\n",
       "  <thead>\n",
       "    <tr style=\"text-align: right;\">\n",
       "      <th></th>\n",
       "      <th>credit_score</th>\n",
       "      <th>age</th>\n",
       "      <th>tenure</th>\n",
       "      <th>balance</th>\n",
       "      <th>num_of_products</th>\n",
       "      <th>has_cr_card</th>\n",
       "      <th>is_active_member</th>\n",
       "      <th>estimated_salary</th>\n",
       "      <th>tenure_nan_flag</th>\n",
       "      <th>estimated_salary_corr_flag</th>\n",
       "      <th>geography_Germany</th>\n",
       "      <th>geography_Spain</th>\n",
       "      <th>gender_Male</th>\n",
       "    </tr>\n",
       "  </thead>\n",
       "  <tbody>\n",
       "    <tr>\n",
       "      <th>3600</th>\n",
       "      <td>0.312</td>\n",
       "      <td>0.527027</td>\n",
       "      <td>0.6</td>\n",
       "      <td>0.000000</td>\n",
       "      <td>0.333333</td>\n",
       "      <td>0</td>\n",
       "      <td>1</td>\n",
       "      <td>0.970156</td>\n",
       "      <td>0</td>\n",
       "      <td>0</td>\n",
       "      <td>0</td>\n",
       "      <td>0</td>\n",
       "      <td>0</td>\n",
       "    </tr>\n",
       "    <tr>\n",
       "      <th>9926</th>\n",
       "      <td>0.906</td>\n",
       "      <td>0.243243</td>\n",
       "      <td>0.1</td>\n",
       "      <td>0.000000</td>\n",
       "      <td>0.333333</td>\n",
       "      <td>1</td>\n",
       "      <td>1</td>\n",
       "      <td>0.728839</td>\n",
       "      <td>0</td>\n",
       "      <td>0</td>\n",
       "      <td>0</td>\n",
       "      <td>0</td>\n",
       "      <td>1</td>\n",
       "    </tr>\n",
       "    <tr>\n",
       "      <th>7504</th>\n",
       "      <td>0.608</td>\n",
       "      <td>0.189189</td>\n",
       "      <td>0.2</td>\n",
       "      <td>0.000000</td>\n",
       "      <td>0.000000</td>\n",
       "      <td>1</td>\n",
       "      <td>1</td>\n",
       "      <td>0.207113</td>\n",
       "      <td>0</td>\n",
       "      <td>0</td>\n",
       "      <td>0</td>\n",
       "      <td>1</td>\n",
       "      <td>0</td>\n",
       "    </tr>\n",
       "    <tr>\n",
       "      <th>7169</th>\n",
       "      <td>0.280</td>\n",
       "      <td>0.216216</td>\n",
       "      <td>0.5</td>\n",
       "      <td>0.515769</td>\n",
       "      <td>0.333333</td>\n",
       "      <td>0</td>\n",
       "      <td>0</td>\n",
       "      <td>0.755569</td>\n",
       "      <td>0</td>\n",
       "      <td>0</td>\n",
       "      <td>0</td>\n",
       "      <td>0</td>\n",
       "      <td>1</td>\n",
       "    </tr>\n",
       "    <tr>\n",
       "      <th>8196</th>\n",
       "      <td>0.476</td>\n",
       "      <td>0.162162</td>\n",
       "      <td>0.3</td>\n",
       "      <td>0.482437</td>\n",
       "      <td>0.000000</td>\n",
       "      <td>0</td>\n",
       "      <td>0</td>\n",
       "      <td>0.876080</td>\n",
       "      <td>0</td>\n",
       "      <td>0</td>\n",
       "      <td>0</td>\n",
       "      <td>0</td>\n",
       "      <td>1</td>\n",
       "    </tr>\n",
       "    <tr>\n",
       "      <th>...</th>\n",
       "      <td>...</td>\n",
       "      <td>...</td>\n",
       "      <td>...</td>\n",
       "      <td>...</td>\n",
       "      <td>...</td>\n",
       "      <td>...</td>\n",
       "      <td>...</td>\n",
       "      <td>...</td>\n",
       "      <td>...</td>\n",
       "      <td>...</td>\n",
       "      <td>...</td>\n",
       "      <td>...</td>\n",
       "      <td>...</td>\n",
       "    </tr>\n",
       "    <tr>\n",
       "      <th>414</th>\n",
       "      <td>0.890</td>\n",
       "      <td>0.229730</td>\n",
       "      <td>0.5</td>\n",
       "      <td>0.000000</td>\n",
       "      <td>0.333333</td>\n",
       "      <td>1</td>\n",
       "      <td>0</td>\n",
       "      <td>0.824103</td>\n",
       "      <td>1</td>\n",
       "      <td>0</td>\n",
       "      <td>0</td>\n",
       "      <td>1</td>\n",
       "      <td>1</td>\n",
       "    </tr>\n",
       "    <tr>\n",
       "      <th>3915</th>\n",
       "      <td>0.672</td>\n",
       "      <td>0.337838</td>\n",
       "      <td>0.2</td>\n",
       "      <td>0.565869</td>\n",
       "      <td>0.000000</td>\n",
       "      <td>1</td>\n",
       "      <td>1</td>\n",
       "      <td>0.452844</td>\n",
       "      <td>0</td>\n",
       "      <td>0</td>\n",
       "      <td>1</td>\n",
       "      <td>0</td>\n",
       "      <td>1</td>\n",
       "    </tr>\n",
       "    <tr>\n",
       "      <th>9466</th>\n",
       "      <td>0.418</td>\n",
       "      <td>0.459459</td>\n",
       "      <td>0.5</td>\n",
       "      <td>0.000000</td>\n",
       "      <td>0.000000</td>\n",
       "      <td>1</td>\n",
       "      <td>0</td>\n",
       "      <td>0.619792</td>\n",
       "      <td>1</td>\n",
       "      <td>0</td>\n",
       "      <td>0</td>\n",
       "      <td>0</td>\n",
       "      <td>1</td>\n",
       "    </tr>\n",
       "    <tr>\n",
       "      <th>5541</th>\n",
       "      <td>0.474</td>\n",
       "      <td>0.445946</td>\n",
       "      <td>0.3</td>\n",
       "      <td>0.351274</td>\n",
       "      <td>0.000000</td>\n",
       "      <td>0</td>\n",
       "      <td>1</td>\n",
       "      <td>0.725772</td>\n",
       "      <td>0</td>\n",
       "      <td>0</td>\n",
       "      <td>0</td>\n",
       "      <td>1</td>\n",
       "      <td>1</td>\n",
       "    </tr>\n",
       "    <tr>\n",
       "      <th>7301</th>\n",
       "      <td>0.834</td>\n",
       "      <td>0.202703</td>\n",
       "      <td>0.1</td>\n",
       "      <td>0.607218</td>\n",
       "      <td>0.000000</td>\n",
       "      <td>1</td>\n",
       "      <td>1</td>\n",
       "      <td>0.638364</td>\n",
       "      <td>0</td>\n",
       "      <td>0</td>\n",
       "      <td>1</td>\n",
       "      <td>0</td>\n",
       "      <td>0</td>\n",
       "    </tr>\n",
       "  </tbody>\n",
       "</table>\n",
       "<p>5962 rows × 13 columns</p>\n",
       "</div>"
      ],
      "text/plain": [
       "      credit_score       age  tenure   balance  num_of_products  has_cr_card  \\\n",
       "3600         0.312  0.527027     0.6  0.000000         0.333333            0   \n",
       "9926         0.906  0.243243     0.1  0.000000         0.333333            1   \n",
       "7504         0.608  0.189189     0.2  0.000000         0.000000            1   \n",
       "7169         0.280  0.216216     0.5  0.515769         0.333333            0   \n",
       "8196         0.476  0.162162     0.3  0.482437         0.000000            0   \n",
       "...            ...       ...     ...       ...              ...          ...   \n",
       "414          0.890  0.229730     0.5  0.000000         0.333333            1   \n",
       "3915         0.672  0.337838     0.2  0.565869         0.000000            1   \n",
       "9466         0.418  0.459459     0.5  0.000000         0.000000            1   \n",
       "5541         0.474  0.445946     0.3  0.351274         0.000000            0   \n",
       "7301         0.834  0.202703     0.1  0.607218         0.000000            1   \n",
       "\n",
       "      is_active_member  estimated_salary  tenure_nan_flag  \\\n",
       "3600                 1          0.970156                0   \n",
       "9926                 1          0.728839                0   \n",
       "7504                 1          0.207113                0   \n",
       "7169                 0          0.755569                0   \n",
       "8196                 0          0.876080                0   \n",
       "...                ...               ...              ...   \n",
       "414                  0          0.824103                1   \n",
       "3915                 1          0.452844                0   \n",
       "9466                 0          0.619792                1   \n",
       "5541                 1          0.725772                0   \n",
       "7301                 1          0.638364                0   \n",
       "\n",
       "      estimated_salary_corr_flag  geography_Germany  geography_Spain  \\\n",
       "3600                           0                  0                0   \n",
       "9926                           0                  0                0   \n",
       "7504                           0                  0                1   \n",
       "7169                           0                  0                0   \n",
       "8196                           0                  0                0   \n",
       "...                          ...                ...              ...   \n",
       "414                            0                  0                1   \n",
       "3915                           0                  1                0   \n",
       "9466                           0                  0                0   \n",
       "5541                           0                  0                1   \n",
       "7301                           0                  1                0   \n",
       "\n",
       "      gender_Male  \n",
       "3600            0  \n",
       "9926            1  \n",
       "7504            0  \n",
       "7169            1  \n",
       "8196            1  \n",
       "...           ...  \n",
       "414             1  \n",
       "3915            1  \n",
       "9466            1  \n",
       "5541            1  \n",
       "7301            0  \n",
       "\n",
       "[5962 rows x 13 columns]"
      ]
     },
     "execution_count": 47,
     "metadata": {},
     "output_type": "execute_result"
    }
   ],
   "source": [
    "X_train"
   ]
  },
  {
   "cell_type": "code",
   "execution_count": 48,
   "metadata": {},
   "outputs": [
    {
     "data": {
      "text/html": [
       "<div>\n",
       "<style scoped>\n",
       "    .dataframe tbody tr th:only-of-type {\n",
       "        vertical-align: middle;\n",
       "    }\n",
       "\n",
       "    .dataframe tbody tr th {\n",
       "        vertical-align: top;\n",
       "    }\n",
       "\n",
       "    .dataframe thead th {\n",
       "        text-align: right;\n",
       "    }\n",
       "</style>\n",
       "<table border=\"1\" class=\"dataframe\">\n",
       "  <thead>\n",
       "    <tr style=\"text-align: right;\">\n",
       "      <th></th>\n",
       "      <th>credit_score</th>\n",
       "      <th>age</th>\n",
       "      <th>tenure</th>\n",
       "      <th>balance</th>\n",
       "      <th>num_of_products</th>\n",
       "      <th>has_cr_card</th>\n",
       "      <th>is_active_member</th>\n",
       "      <th>estimated_salary</th>\n",
       "      <th>tenure_nan_flag</th>\n",
       "      <th>estimated_salary_corr_flag</th>\n",
       "      <th>geography_Germany</th>\n",
       "      <th>geography_Spain</th>\n",
       "      <th>gender_Male</th>\n",
       "    </tr>\n",
       "  </thead>\n",
       "  <tbody>\n",
       "    <tr>\n",
       "      <th>8659</th>\n",
       "      <td>0.760</td>\n",
       "      <td>0.094595</td>\n",
       "      <td>0.5</td>\n",
       "      <td>0.702158</td>\n",
       "      <td>0.000000</td>\n",
       "      <td>1</td>\n",
       "      <td>1</td>\n",
       "      <td>0.230332</td>\n",
       "      <td>0</td>\n",
       "      <td>0</td>\n",
       "      <td>0</td>\n",
       "      <td>1</td>\n",
       "      <td>1</td>\n",
       "    </tr>\n",
       "    <tr>\n",
       "      <th>909</th>\n",
       "      <td>0.912</td>\n",
       "      <td>0.094595</td>\n",
       "      <td>0.7</td>\n",
       "      <td>0.000000</td>\n",
       "      <td>0.333333</td>\n",
       "      <td>1</td>\n",
       "      <td>0</td>\n",
       "      <td>0.027607</td>\n",
       "      <td>0</td>\n",
       "      <td>0</td>\n",
       "      <td>0</td>\n",
       "      <td>1</td>\n",
       "      <td>1</td>\n",
       "    </tr>\n",
       "    <tr>\n",
       "      <th>113</th>\n",
       "      <td>0.650</td>\n",
       "      <td>0.243243</td>\n",
       "      <td>0.9</td>\n",
       "      <td>0.445453</td>\n",
       "      <td>0.000000</td>\n",
       "      <td>0</td>\n",
       "      <td>1</td>\n",
       "      <td>0.051885</td>\n",
       "      <td>0</td>\n",
       "      <td>0</td>\n",
       "      <td>0</td>\n",
       "      <td>1</td>\n",
       "      <td>1</td>\n",
       "    </tr>\n",
       "    <tr>\n",
       "      <th>3569</th>\n",
       "      <td>0.690</td>\n",
       "      <td>0.432432</td>\n",
       "      <td>0.8</td>\n",
       "      <td>0.000000</td>\n",
       "      <td>0.000000</td>\n",
       "      <td>1</td>\n",
       "      <td>0</td>\n",
       "      <td>0.605693</td>\n",
       "      <td>0</td>\n",
       "      <td>0</td>\n",
       "      <td>0</td>\n",
       "      <td>0</td>\n",
       "      <td>0</td>\n",
       "    </tr>\n",
       "    <tr>\n",
       "      <th>3481</th>\n",
       "      <td>0.758</td>\n",
       "      <td>0.216216</td>\n",
       "      <td>0.9</td>\n",
       "      <td>0.223585</td>\n",
       "      <td>0.333333</td>\n",
       "      <td>1</td>\n",
       "      <td>1</td>\n",
       "      <td>0.158277</td>\n",
       "      <td>0</td>\n",
       "      <td>0</td>\n",
       "      <td>0</td>\n",
       "      <td>1</td>\n",
       "      <td>0</td>\n",
       "    </tr>\n",
       "    <tr>\n",
       "      <th>...</th>\n",
       "      <td>...</td>\n",
       "      <td>...</td>\n",
       "      <td>...</td>\n",
       "      <td>...</td>\n",
       "      <td>...</td>\n",
       "      <td>...</td>\n",
       "      <td>...</td>\n",
       "      <td>...</td>\n",
       "      <td>...</td>\n",
       "      <td>...</td>\n",
       "      <td>...</td>\n",
       "      <td>...</td>\n",
       "      <td>...</td>\n",
       "    </tr>\n",
       "    <tr>\n",
       "      <th>7539</th>\n",
       "      <td>0.810</td>\n",
       "      <td>0.324324</td>\n",
       "      <td>0.2</td>\n",
       "      <td>0.503043</td>\n",
       "      <td>0.000000</td>\n",
       "      <td>1</td>\n",
       "      <td>0</td>\n",
       "      <td>0.768999</td>\n",
       "      <td>0</td>\n",
       "      <td>0</td>\n",
       "      <td>0</td>\n",
       "      <td>0</td>\n",
       "      <td>1</td>\n",
       "    </tr>\n",
       "    <tr>\n",
       "      <th>5169</th>\n",
       "      <td>0.602</td>\n",
       "      <td>0.175676</td>\n",
       "      <td>0.7</td>\n",
       "      <td>0.578923</td>\n",
       "      <td>0.333333</td>\n",
       "      <td>1</td>\n",
       "      <td>0</td>\n",
       "      <td>0.624608</td>\n",
       "      <td>0</td>\n",
       "      <td>0</td>\n",
       "      <td>1</td>\n",
       "      <td>0</td>\n",
       "      <td>1</td>\n",
       "    </tr>\n",
       "    <tr>\n",
       "      <th>4208</th>\n",
       "      <td>0.194</td>\n",
       "      <td>0.351351</td>\n",
       "      <td>0.5</td>\n",
       "      <td>0.374134</td>\n",
       "      <td>0.000000</td>\n",
       "      <td>1</td>\n",
       "      <td>1</td>\n",
       "      <td>0.332647</td>\n",
       "      <td>0</td>\n",
       "      <td>0</td>\n",
       "      <td>0</td>\n",
       "      <td>0</td>\n",
       "      <td>0</td>\n",
       "    </tr>\n",
       "    <tr>\n",
       "      <th>9061</th>\n",
       "      <td>0.434</td>\n",
       "      <td>0.270270</td>\n",
       "      <td>0.1</td>\n",
       "      <td>0.528038</td>\n",
       "      <td>0.333333</td>\n",
       "      <td>1</td>\n",
       "      <td>1</td>\n",
       "      <td>0.506382</td>\n",
       "      <td>0</td>\n",
       "      <td>0</td>\n",
       "      <td>0</td>\n",
       "      <td>0</td>\n",
       "      <td>0</td>\n",
       "    </tr>\n",
       "    <tr>\n",
       "      <th>6719</th>\n",
       "      <td>0.600</td>\n",
       "      <td>0.283784</td>\n",
       "      <td>0.5</td>\n",
       "      <td>0.000000</td>\n",
       "      <td>0.333333</td>\n",
       "      <td>0</td>\n",
       "      <td>0</td>\n",
       "      <td>0.926524</td>\n",
       "      <td>1</td>\n",
       "      <td>0</td>\n",
       "      <td>0</td>\n",
       "      <td>0</td>\n",
       "      <td>0</td>\n",
       "    </tr>\n",
       "  </tbody>\n",
       "</table>\n",
       "<p>1987 rows × 13 columns</p>\n",
       "</div>"
      ],
      "text/plain": [
       "      credit_score       age  tenure   balance  num_of_products  has_cr_card  \\\n",
       "8659         0.760  0.094595     0.5  0.702158         0.000000            1   \n",
       "909          0.912  0.094595     0.7  0.000000         0.333333            1   \n",
       "113          0.650  0.243243     0.9  0.445453         0.000000            0   \n",
       "3569         0.690  0.432432     0.8  0.000000         0.000000            1   \n",
       "3481         0.758  0.216216     0.9  0.223585         0.333333            1   \n",
       "...            ...       ...     ...       ...              ...          ...   \n",
       "7539         0.810  0.324324     0.2  0.503043         0.000000            1   \n",
       "5169         0.602  0.175676     0.7  0.578923         0.333333            1   \n",
       "4208         0.194  0.351351     0.5  0.374134         0.000000            1   \n",
       "9061         0.434  0.270270     0.1  0.528038         0.333333            1   \n",
       "6719         0.600  0.283784     0.5  0.000000         0.333333            0   \n",
       "\n",
       "      is_active_member  estimated_salary  tenure_nan_flag  \\\n",
       "8659                 1          0.230332                0   \n",
       "909                  0          0.027607                0   \n",
       "113                  1          0.051885                0   \n",
       "3569                 0          0.605693                0   \n",
       "3481                 1          0.158277                0   \n",
       "...                ...               ...              ...   \n",
       "7539                 0          0.768999                0   \n",
       "5169                 0          0.624608                0   \n",
       "4208                 1          0.332647                0   \n",
       "9061                 1          0.506382                0   \n",
       "6719                 0          0.926524                1   \n",
       "\n",
       "      estimated_salary_corr_flag  geography_Germany  geography_Spain  \\\n",
       "8659                           0                  0                1   \n",
       "909                            0                  0                1   \n",
       "113                            0                  0                1   \n",
       "3569                           0                  0                0   \n",
       "3481                           0                  0                1   \n",
       "...                          ...                ...              ...   \n",
       "7539                           0                  0                0   \n",
       "5169                           0                  1                0   \n",
       "4208                           0                  0                0   \n",
       "9061                           0                  0                0   \n",
       "6719                           0                  0                0   \n",
       "\n",
       "      gender_Male  \n",
       "8659            1  \n",
       "909             1  \n",
       "113             1  \n",
       "3569            0  \n",
       "3481            0  \n",
       "...           ...  \n",
       "7539            1  \n",
       "5169            1  \n",
       "4208            0  \n",
       "9061            0  \n",
       "6719            0  \n",
       "\n",
       "[1987 rows x 13 columns]"
      ]
     },
     "execution_count": 48,
     "metadata": {},
     "output_type": "execute_result"
    }
   ],
   "source": [
    "X_valid"
   ]
  },
  {
   "cell_type": "markdown",
   "metadata": {},
   "source": [
    "Данные нормализованы корректно"
   ]
  },
  {
   "cell_type": "markdown",
   "metadata": {},
   "source": [
    "### Вывод по разделу"
   ]
  },
  {
   "cell_type": "markdown",
   "metadata": {},
   "source": [
    "Мы провели первичный обзор, исследование и предобработку данных:\n",
    "1. Привели название признаков к snake_case.\n",
    "2. Удалили признаки, не способные повлиять на результат работы модели.\n",
    "3. Обработали пропуски в данных.\n",
    "4. Исследовали и обработали выбросы в признаках age и estimated_salary.\n",
    "5. Изменили типы данных на корректные.\n",
    "6. Провели OHE для категориальных признаков и нормализацию данных для числовых.\n",
    "7. Разделили выборку на тренировочную, валидационную и тестовую."
   ]
  },
  {
   "cell_type": "markdown",
   "metadata": {},
   "source": [
    "## Исследование задачи"
   ]
  },
  {
   "cell_type": "markdown",
   "metadata": {},
   "source": [
    "Мы исследовали дисбаланс в предыдущем разделе, поэтому сразу попробуем построить модели без учета его наличия.\n",
    "\n",
    "Оценим результат для трех моделей без подбора параметров:\n",
    "1. Логистическая регрессия.\n",
    "2. Случайный лес.\n",
    "3. Бустинг (на базе CatBoostClassifier)."
   ]
  },
  {
   "cell_type": "markdown",
   "metadata": {},
   "source": [
    "### Логистическая регрессия"
   ]
  },
  {
   "cell_type": "code",
   "execution_count": 49,
   "metadata": {},
   "outputs": [],
   "source": [
    "# создадим функцию для оценки моделей на валидационной выборке\n",
    "def model_evaluate(model, X_train, y_train, print_results=True):\n",
    "    model.fit(X_train, y_train)\n",
    "    model_train_predictions_for_f1 = model.predict(X_train)\n",
    "    model_train_predictions = model.predict_proba(X_train)[:, 1]\n",
    "    model_valid_predictions_for_f1 = model.predict(X_valid)\n",
    "    model_valid_predictions = model.predict_proba(X_valid)[:, 1]\n",
    "    f1_train_score = f1_score(y_train, model_train_predictions_for_f1)\n",
    "    f1_valid_score = f1_score(y_valid, model_valid_predictions_for_f1)\n",
    "    auc_roc_train_score = roc_auc_score(y_train, model_train_predictions)\n",
    "    auc_roc_valid_score = roc_auc_score(y_valid, model_valid_predictions)\n",
    "    if print_results:\n",
    "        print(f'Результаты (f1-score) модели на трейне: {f1_train_score:.3f}, на валидационной: {f1_valid_score:.3f}')\n",
    "        print(f'Результаты (AUC ROC) модели на трейне: {auc_roc_train_score:.3f}, на валидационной: {auc_roc_valid_score:.3f}')\n",
    "        print(60 * '_')\n",
    "        print(classification_report(y_valid, model_valid_predictions_for_f1))\n",
    "    return f1_train_score, f1_valid_score, auc_roc_train_score, auc_roc_valid_score"
   ]
  },
  {
   "cell_type": "code",
   "execution_count": 50,
   "metadata": {},
   "outputs": [
    {
     "name": "stdout",
     "output_type": "stream",
     "text": [
      "Результаты (f1-score) модели на трейне: 0.299, на валидационной: 0.287\n",
      "Результаты (AUC ROC) модели на трейне: 0.762, на валидационной: 0.766\n",
      "____________________________________________________________\n",
      "              precision    recall  f1-score   support\n",
      "\n",
      "           0       0.82      0.97      0.89      1582\n",
      "           1       0.64      0.19      0.29       405\n",
      "\n",
      "    accuracy                           0.81      1987\n",
      "   macro avg       0.73      0.58      0.59      1987\n",
      "weighted avg       0.79      0.81      0.77      1987\n",
      "\n"
     ]
    }
   ],
   "source": [
    "(lr_disbalance_f1_train_score, \n",
    " lr_disbalance_f1_test_score, \n",
    " lr_disbalance_auc_roc_train, \n",
    " lr_disbalance_auc_roc_test) = model_evaluate(LogisticRegression(random_state=22), X_train, y_train)"
   ]
  },
  {
   "cell_type": "markdown",
   "metadata": {},
   "source": [
    "Достаточно низкие результаты F1 и на тесте и на трейне, при этом алгоритм вменяем (значение AUC ROC больше 0.5)."
   ]
  },
  {
   "cell_type": "markdown",
   "metadata": {},
   "source": [
    "Низкий результат получается за счет метрики recall, то есть высоких значений FN (ошибка второго рода). Можно было бы подобрать значения threshold для улучшения качества модели, но это не относится к вопросу первичного исследования."
   ]
  },
  {
   "cell_type": "markdown",
   "metadata": {},
   "source": [
    "### Случайный лес"
   ]
  },
  {
   "cell_type": "code",
   "execution_count": 51,
   "metadata": {},
   "outputs": [
    {
     "name": "stdout",
     "output_type": "stream",
     "text": [
      "Результаты (f1-score) модели на трейне: 1.000, на валидационной: 0.571\n",
      "Результаты (AUC ROC) модели на трейне: 1.000, на валидационной: 0.865\n",
      "____________________________________________________________\n",
      "              precision    recall  f1-score   support\n",
      "\n",
      "           0       0.87      0.96      0.92      1582\n",
      "           1       0.76      0.46      0.57       405\n",
      "\n",
      "    accuracy                           0.86      1987\n",
      "   macro avg       0.82      0.71      0.74      1987\n",
      "weighted avg       0.85      0.86      0.85      1987\n",
      "\n"
     ]
    }
   ],
   "source": [
    "(rfc_disbalance_f1_train_score, \n",
    " rfc_disbalance_f1_test_score, \n",
    " rfc_disbalance_auc_roc_train, \n",
    " rfc_disbalance_auc_roc_test) = model_evaluate(RandomForestClassifier(random_state=22), X_train, y_train)"
   ]
  },
  {
   "cell_type": "markdown",
   "metadata": {},
   "source": [
    "Модель переобучилась (большой разрыв метрик для трейна и теста), скорее всего из-за отсутствия ограничения глубины или большого числа деревьев, при этом результат на трейне выше, чем у логистической регрессии. Модель также показала свою адекватность на метрике AUC ROC, при этом показав относительную уверенность в результатах предсказаний."
   ]
  },
  {
   "cell_type": "markdown",
   "metadata": {},
   "source": [
    "### Бустинг"
   ]
  },
  {
   "cell_type": "code",
   "execution_count": 52,
   "metadata": {},
   "outputs": [
    {
     "name": "stdout",
     "output_type": "stream",
     "text": [
      "Результаты (f1-score) модели на трейне: 0.757, на валидационной: 0.593\n",
      "Результаты (AUC ROC) модели на трейне: 0.955, на валидационной: 0.880\n",
      "____________________________________________________________\n",
      "              precision    recall  f1-score   support\n",
      "\n",
      "           0       0.88      0.95      0.92      1582\n",
      "           1       0.73      0.50      0.59       405\n",
      "\n",
      "    accuracy                           0.86      1987\n",
      "   macro avg       0.81      0.73      0.75      1987\n",
      "weighted avg       0.85      0.86      0.85      1987\n",
      "\n"
     ]
    }
   ],
   "source": [
    "(catboost_disbalance_f1_train_score, \n",
    " catboost_disbalance_f1_test_score, \n",
    " catboost_disbalance_auc_roc_train, \n",
    " catboost_disbalance_auc_roc_test) = model_evaluate(CatBoostClassifier(silent=True, random_state=22), \n",
    "                                                    X_train, \n",
    "                                                    y_train)"
   ]
  },
  {
   "cell_type": "markdown",
   "metadata": {},
   "source": [
    "Модель показала лучшие результаты как на метрике f1-score (0.593), так и на AUC ROC (0.88). Модель достигла показателя 0.59, который определен заданием как минимальная граница качественной модели. Вероятно, это произошло из-за проведенной предобработки данных."
   ]
  },
  {
   "cell_type": "markdown",
   "metadata": {},
   "source": [
    "### Вывод по разделу"
   ]
  },
  {
   "cell_type": "markdown",
   "metadata": {},
   "source": [
    "Мы рассмотрели три основные модели классификации:\n",
    "- логистическую регрессию;\n",
    "- случайный лес;\n",
    "- бустинг.\n",
    "Мы не рассматривали дерево решений как упрощенную версию случайного леса.\n",
    "\n",
    "По указанным моделям мы проверили метрики F1-score и AUC ROC и сделали предварительные выводы о качестве предварительных моделей."
   ]
  },
  {
   "cell_type": "markdown",
   "metadata": {},
   "source": [
    "Сведем все полученные значения в обобщенную таблицу."
   ]
  },
  {
   "cell_type": "code",
   "execution_count": 53,
   "metadata": {},
   "outputs": [
    {
     "data": {
      "text/html": [
       "<div>\n",
       "<style scoped>\n",
       "    .dataframe tbody tr th:only-of-type {\n",
       "        vertical-align: middle;\n",
       "    }\n",
       "\n",
       "    .dataframe tbody tr th {\n",
       "        vertical-align: top;\n",
       "    }\n",
       "\n",
       "    .dataframe thead th {\n",
       "        text-align: right;\n",
       "    }\n",
       "</style>\n",
       "<table border=\"1\" class=\"dataframe\">\n",
       "  <thead>\n",
       "    <tr style=\"text-align: right;\">\n",
       "      <th></th>\n",
       "      <th>Модель</th>\n",
       "      <th>F1 на трейне</th>\n",
       "      <th>F1 на valid</th>\n",
       "      <th>AUC ROC на трейне</th>\n",
       "      <th>AUC ROC на valid</th>\n",
       "      <th>Переобучение</th>\n",
       "    </tr>\n",
       "  </thead>\n",
       "  <tbody>\n",
       "    <tr>\n",
       "      <th>0</th>\n",
       "      <td>Логистическая регрессия</td>\n",
       "      <td>0.298750</td>\n",
       "      <td>0.287356</td>\n",
       "      <td>0.762158</td>\n",
       "      <td>0.766390</td>\n",
       "      <td>Нет</td>\n",
       "    </tr>\n",
       "    <tr>\n",
       "      <th>1</th>\n",
       "      <td>Случайный лес</td>\n",
       "      <td>1.000000</td>\n",
       "      <td>0.570988</td>\n",
       "      <td>1.000000</td>\n",
       "      <td>0.865117</td>\n",
       "      <td>Существенное</td>\n",
       "    </tr>\n",
       "    <tr>\n",
       "      <th>2</th>\n",
       "      <td>Бустинг</td>\n",
       "      <td>0.756783</td>\n",
       "      <td>0.593245</td>\n",
       "      <td>0.955440</td>\n",
       "      <td>0.880433</td>\n",
       "      <td>Незначительно</td>\n",
       "    </tr>\n",
       "  </tbody>\n",
       "</table>\n",
       "</div>"
      ],
      "text/plain": [
       "                    Модель  F1 на трейне  F1 на valid  AUC ROC на трейне  \\\n",
       "0  Логистическая регрессия      0.298750     0.287356           0.762158   \n",
       "1            Случайный лес      1.000000     0.570988           1.000000   \n",
       "2                  Бустинг      0.756783     0.593245           0.955440   \n",
       "\n",
       "   AUC ROC на valid   Переобучение  \n",
       "0          0.766390            Нет  \n",
       "1          0.865117   Существенное  \n",
       "2          0.880433  Незначительно  "
      ]
     },
     "execution_count": 53,
     "metadata": {},
     "output_type": "execute_result"
    }
   ],
   "source": [
    "pd.DataFrame([['Логистическая регрессия', \n",
    "               lr_disbalance_f1_train_score,\n",
    "               lr_disbalance_f1_test_score, \n",
    "               lr_disbalance_auc_roc_train, \n",
    "               lr_disbalance_auc_roc_test,\n",
    "               'Нет'],\n",
    "              ['Случайный лес',\n",
    "               rfc_disbalance_f1_train_score, \n",
    "               rfc_disbalance_f1_test_score, \n",
    "               rfc_disbalance_auc_roc_train, \n",
    "               rfc_disbalance_auc_roc_test,\n",
    "               'Существенное'],\n",
    "              ['Бустинг',\n",
    "               catboost_disbalance_f1_train_score, \n",
    "               catboost_disbalance_f1_test_score, \n",
    "               catboost_disbalance_auc_roc_train, \n",
    "               catboost_disbalance_auc_roc_test,\n",
    "               'Незначительно']],\n",
    "             columns=['Модель', 'F1 на трейне', 'F1 на valid', \n",
    "                      'AUC ROC на трейне', 'AUC ROC на valid', 'Переобучение'])"
   ]
  },
  {
   "cell_type": "markdown",
   "metadata": {},
   "source": [
    "Из исследуемых моделей наибольший потенциал виден у CatBoostClassifier (модель показала наилучшие результаты при незначительном переобучении), а также у случайного леса (переобучение которого можно снизить при подборе гиперпараметров), в следующих разделах рассмотрим обе эти модели."
   ]
  },
  {
   "cell_type": "markdown",
   "metadata": {},
   "source": [
    "## Борьба с дисбалансом"
   ]
  },
  {
   "cell_type": "markdown",
   "metadata": {},
   "source": [
    "Воспользуемся тремя методами борьбы с дисбалансом по отдельности: \n",
    "- upsampling; \n",
    "- downsampling; \n",
    "- установка весов модели.\n",
    "\n",
    "После определения потенциально наилучшего метода, произведем подбор гиперпараметров модели и оптимальный порог."
   ]
  },
  {
   "cell_type": "markdown",
   "metadata": {},
   "source": [
    "### Upsampling"
   ]
  },
  {
   "cell_type": "markdown",
   "metadata": {},
   "source": [
    "Используем функцию собственной разработки (альтернативно можно было бы применить SMOTE, но мы не будем подключать дополнительные библиотеки)."
   ]
  },
  {
   "cell_type": "code",
   "execution_count": 54,
   "metadata": {},
   "outputs": [],
   "source": [
    "def upsample(features, target, repeat):\n",
    "    features_zeros = features[target == 0]\n",
    "    features_ones = features[target == 1]\n",
    "    target_zeros = target[target == 0]\n",
    "    target_ones = target[target == 1]\n",
    "\n",
    "    features_upsampled = pd.concat([features_zeros] + [features_ones] * repeat)\n",
    "    target_upsampled = pd.concat([target_zeros] + [target_ones] * repeat)\n",
    "    \n",
    "    features_upsampled, target_upsampled = shuffle(\n",
    "        features_upsampled, target_upsampled, random_state=22)\n",
    "    \n",
    "    return features_upsampled, target_upsampled"
   ]
  },
  {
   "cell_type": "code",
   "execution_count": 55,
   "metadata": {},
   "outputs": [],
   "source": [
    "# для уравнивания размера выборок нам нужно применить четырехкратное увеличение числа примеров для первого класса\n",
    "X_upsampled, y_upsampled = upsample(X_train, y_train, 4)"
   ]
  },
  {
   "cell_type": "code",
   "execution_count": 56,
   "metadata": {},
   "outputs": [
    {
     "data": {
      "text/plain": [
       "1    4856\n",
       "0    4748\n",
       "Name: exited, dtype: int64"
      ]
     },
     "execution_count": 56,
     "metadata": {},
     "output_type": "execute_result"
    }
   ],
   "source": [
    "y_upsampled.value_counts()"
   ]
  },
  {
   "cell_type": "markdown",
   "metadata": {},
   "source": [
    "Размеры классов практически сравнялись. Обучим модель случайного леса и бустинга по очереди."
   ]
  },
  {
   "cell_type": "markdown",
   "metadata": {},
   "source": [
    "#### Upsampling. Случайный лес"
   ]
  },
  {
   "cell_type": "code",
   "execution_count": 57,
   "metadata": {},
   "outputs": [
    {
     "name": "stdout",
     "output_type": "stream",
     "text": [
      "Результаты (f1-score) модели на трейне: 1.000, на валидационной: 0.617\n",
      "Результаты (AUC ROC) модели на трейне: 1.000, на валидационной: 0.865\n",
      "____________________________________________________________\n",
      "              precision    recall  f1-score   support\n",
      "\n",
      "           0       0.89      0.94      0.91      1582\n",
      "           1       0.69      0.56      0.62       405\n",
      "\n",
      "    accuracy                           0.86      1987\n",
      "   macro avg       0.79      0.75      0.77      1987\n",
      "weighted avg       0.85      0.86      0.85      1987\n",
      "\n"
     ]
    }
   ],
   "source": [
    "(rfc_upsample_balance_f1_train_score, \n",
    " rfc_upsample_balance_f1_test_score, \n",
    " rfc_upsample_balance_auc_roc_train, \n",
    " rfc_upsample_balance_auc_roc_test) = model_evaluate(RandomForestClassifier(random_state=22), \n",
    "                                                     X_upsampled, \n",
    "                                                     y_upsampled)"
   ]
  },
  {
   "cell_type": "markdown",
   "metadata": {},
   "source": [
    "#### Upsampling. Бустинг"
   ]
  },
  {
   "cell_type": "code",
   "execution_count": 58,
   "metadata": {},
   "outputs": [
    {
     "name": "stdout",
     "output_type": "stream",
     "text": [
      "Результаты (f1-score) модели на трейне: 0.932, на валидационной: 0.630\n",
      "Результаты (AUC ROC) модели на трейне: 0.980, на валидационной: 0.870\n",
      "____________________________________________________________\n",
      "              precision    recall  f1-score   support\n",
      "\n",
      "           0       0.92      0.86      0.89      1582\n",
      "           1       0.56      0.72      0.63       405\n",
      "\n",
      "    accuracy                           0.83      1987\n",
      "   macro avg       0.74      0.79      0.76      1987\n",
      "weighted avg       0.85      0.83      0.84      1987\n",
      "\n"
     ]
    }
   ],
   "source": [
    "(catboost_upsample_balance_f1_train_score, \n",
    " catboost_upsample_balance_f1_test_score, \n",
    " catboost_upsample_balance_auc_roc_train, \n",
    " catboost_upsample_balance_auc_roc_test) = model_evaluate(CatBoostClassifier(silent=True, random_state=22), \n",
    "                                                          X_upsampled, \n",
    "                                                          y_upsampled)"
   ]
  },
  {
   "cell_type": "markdown",
   "metadata": {},
   "source": [
    "#### Вывод по методу"
   ]
  },
  {
   "cell_type": "markdown",
   "metadata": {},
   "source": [
    "Метрики f1 на валидационной выборке улучшились относительно несбалансированной выборки для обеих моделей (несколько лучше для бустинга), при этом обе модели переобучились. Метрика AUC ROC немного ухудшилась для бустинга, что может свидетельствовать о снижении качества модели по всем порогам отсечения, и осталать на том же уровне для случайного леса."
   ]
  },
  {
   "cell_type": "markdown",
   "metadata": {},
   "source": [
    "### Downsampling"
   ]
  },
  {
   "cell_type": "markdown",
   "metadata": {},
   "source": [
    "Подготовким функцию по аналогии с предыдущим разделом (альтернативно можно было бы использовать, например, TomekLinks)."
   ]
  },
  {
   "cell_type": "code",
   "execution_count": 59,
   "metadata": {},
   "outputs": [],
   "source": [
    "def downsample(features, target, fraction):\n",
    "    features_zeros = features[target == 0]\n",
    "    features_ones = features[target == 1]\n",
    "    target_zeros = target[target == 0]\n",
    "    target_ones = target[target == 1]\n",
    "\n",
    "    features_downsampled = pd.concat(\n",
    "        [features_zeros.sample(frac=fraction, random_state=22)] + [features_ones])\n",
    "    target_downsampled = pd.concat(\n",
    "        [target_zeros.sample(frac=fraction, random_state=22)] + [target_ones])\n",
    "    \n",
    "    features_downsampled, target_downsampled = shuffle(\n",
    "        features_downsampled, target_downsampled, random_state=22)\n",
    "    \n",
    "    return features_downsampled, target_downsampled"
   ]
  },
  {
   "cell_type": "code",
   "execution_count": 60,
   "metadata": {},
   "outputs": [],
   "source": [
    "# для балансировки нам необходимо уменьшить размер выборки с мажоритарным классов на 75%.\n",
    "X_downsampled, y_downsampled = downsample(X_train, y_train, 0.25)"
   ]
  },
  {
   "cell_type": "code",
   "execution_count": 61,
   "metadata": {},
   "outputs": [
    {
     "data": {
      "text/plain": [
       "1    1214\n",
       "0    1187\n",
       "Name: exited, dtype: int64"
      ]
     },
     "execution_count": 61,
     "metadata": {},
     "output_type": "execute_result"
    }
   ],
   "source": [
    "y_downsampled.value_counts()"
   ]
  },
  {
   "cell_type": "markdown",
   "metadata": {},
   "source": [
    "Размеры классов практически сравнялись, обучим модели."
   ]
  },
  {
   "cell_type": "markdown",
   "metadata": {},
   "source": [
    "#### Downsampling. Случайный лес"
   ]
  },
  {
   "cell_type": "code",
   "execution_count": 62,
   "metadata": {},
   "outputs": [
    {
     "name": "stdout",
     "output_type": "stream",
     "text": [
      "Результаты (f1-score) модели на трейне: 1.000, на валидационной: 0.607\n",
      "Результаты (AUC ROC) модели на трейне: 1.000, на валидационной: 0.857\n",
      "____________________________________________________________\n",
      "              precision    recall  f1-score   support\n",
      "\n",
      "           0       0.93      0.82      0.87      1582\n",
      "           1       0.51      0.75      0.61       405\n",
      "\n",
      "    accuracy                           0.80      1987\n",
      "   macro avg       0.72      0.78      0.74      1987\n",
      "weighted avg       0.84      0.80      0.82      1987\n",
      "\n"
     ]
    }
   ],
   "source": [
    "(rfc_downsample_balance_f1_train_score, \n",
    " rfc_downsample_balance_f1_test_score, \n",
    " rfc_downsample_balance_auc_roc_train, \n",
    " rfc_downsample_balance_auc_roc_test) = model_evaluate(RandomForestClassifier(random_state=22), \n",
    "                                                       X_downsampled, \n",
    "                                                       y_downsampled)"
   ]
  },
  {
   "cell_type": "markdown",
   "metadata": {},
   "source": [
    "#### Downsampling. Бустинг"
   ]
  },
  {
   "cell_type": "code",
   "execution_count": 63,
   "metadata": {},
   "outputs": [
    {
     "name": "stdout",
     "output_type": "stream",
     "text": [
      "Результаты (f1-score) модели на трейне: 0.893, на валидационной: 0.625\n",
      "Результаты (AUC ROC) модели на трейне: 0.968, на валидационной: 0.874\n",
      "____________________________________________________________\n",
      "              precision    recall  f1-score   support\n",
      "\n",
      "           0       0.94      0.81      0.87      1582\n",
      "           1       0.52      0.78      0.62       405\n",
      "\n",
      "    accuracy                           0.81      1987\n",
      "   macro avg       0.73      0.80      0.75      1987\n",
      "weighted avg       0.85      0.81      0.82      1987\n",
      "\n"
     ]
    }
   ],
   "source": [
    "(catboost_downsample_balance_f1_train_score, \n",
    " catboost_downsample_balance_f1_test_score, \n",
    " catboost_downsample_balance_auc_roc_train, \n",
    " catboost_downsample_balance_auc_roc_test) = model_evaluate(CatBoostClassifier(silent=True, random_state=22),\n",
    "                                                            X_downsampled, \n",
    "                                                            y_downsampled)"
   ]
  },
  {
   "cell_type": "markdown",
   "metadata": {},
   "source": [
    "#### Вывод по методу"
   ]
  },
  {
   "cell_type": "markdown",
   "metadata": {},
   "source": [
    "Метрики f1 на валидационной выборке выросли для обеих моделей примерно на 0.03 относительно несбалансированной выборки, модели также переобучились. Метрика AUC ROC немного снизилась для обеих моделей. В целом, без подбора гиперпараметров чуть лучше с задачей справляется модель бустинга."
   ]
  },
  {
   "cell_type": "markdown",
   "metadata": {},
   "source": [
    "### Установка весов классов при обучении модели"
   ]
  },
  {
   "cell_type": "markdown",
   "metadata": {},
   "source": [
    "Установим веса классов при обучении модели."
   ]
  },
  {
   "cell_type": "markdown",
   "metadata": {},
   "source": [
    "#### Установка весов классов при обучении модели. Случайный лес"
   ]
  },
  {
   "cell_type": "markdown",
   "metadata": {},
   "source": [
    "Воспользуемся автоустановкой весом с помощью параметра class_weight."
   ]
  },
  {
   "cell_type": "code",
   "execution_count": 64,
   "metadata": {
    "scrolled": true
   },
   "outputs": [
    {
     "name": "stdout",
     "output_type": "stream",
     "text": [
      "Результаты (f1-score) модели на трейне: 1.000, на валидационной: 0.569\n",
      "Результаты (AUC ROC) модели на трейне: 1.000, на валидационной: 0.869\n",
      "____________________________________________________________\n",
      "              precision    recall  f1-score   support\n",
      "\n",
      "           0       0.87      0.97      0.92      1582\n",
      "           1       0.77      0.45      0.57       405\n",
      "\n",
      "    accuracy                           0.86      1987\n",
      "   macro avg       0.82      0.71      0.74      1987\n",
      "weighted avg       0.85      0.86      0.85      1987\n",
      "\n"
     ]
    }
   ],
   "source": [
    "(rfc_class_weight_balance_f1_train_score, \n",
    " rfc_class_weight_balance_f1_test_score, \n",
    " rfc_class_weight_balance_auc_roc_train, \n",
    " rfc_class_weight_balance_auc_roc_test) = model_evaluate(RandomForestClassifier(random_state=22, \n",
    "                                                                                class_weight=\"balanced\"), \n",
    "                                                         X_train, \n",
    "                                                         y_train)"
   ]
  },
  {
   "cell_type": "markdown",
   "metadata": {},
   "source": [
    "#### Установка весов классов при обучении модели. Бустинг"
   ]
  },
  {
   "cell_type": "markdown",
   "metadata": {},
   "source": [
    "Воспользуемся автоустановкой весов с помощью параметра auto_class_weights."
   ]
  },
  {
   "cell_type": "code",
   "execution_count": 65,
   "metadata": {},
   "outputs": [
    {
     "name": "stdout",
     "output_type": "stream",
     "text": [
      "Результаты (f1-score) модели на трейне: 0.797, на валидационной: 0.638\n",
      "Результаты (AUC ROC) модели на трейне: 0.964, на валидационной: 0.876\n",
      "____________________________________________________________\n",
      "              precision    recall  f1-score   support\n",
      "\n",
      "           0       0.90      0.92      0.91      1582\n",
      "           1       0.66      0.61      0.64       405\n",
      "\n",
      "    accuracy                           0.86      1987\n",
      "   macro avg       0.78      0.77      0.77      1987\n",
      "weighted avg       0.85      0.86      0.86      1987\n",
      "\n"
     ]
    }
   ],
   "source": [
    "(catboost_class_weight_balance_f1_train_score, \n",
    " catboost_class_weight_balance_f1_test_score, \n",
    " catboost_class_weight_balance_auc_roc_train, \n",
    " catboost_class_weight_balance_auc_roc_test) = model_evaluate(CatBoostClassifier(silent=True, \n",
    "                                                                                 random_state=22, \n",
    "                                                                                 auto_class_weights=\"SqrtBalanced\"), \n",
    "                                                              X_train, \n",
    "                                                              y_train)"
   ]
  },
  {
   "cell_type": "markdown",
   "metadata": {},
   "source": [
    "#### Вывод по методу"
   ]
  },
  {
   "cell_type": "markdown",
   "metadata": {},
   "source": [
    "Метод достаточно плохо отработал для случайного леса, ухудшив результат даже относительно несбалансированной выборки.\n",
    "\n",
    "Для бустинга метод наоборот дал самый лучший результат по метрике f1-score (0.638), при достаточно высоком показателе AUC ROC. На основе данной модели произведем подбор гиперпараметров."
   ]
  },
  {
   "cell_type": "markdown",
   "metadata": {},
   "source": [
    "### Вывод по всем методам"
   ]
  },
  {
   "cell_type": "markdown",
   "metadata": {},
   "source": [
    "Сведем результаты в обобщенную таблицу"
   ]
  },
  {
   "cell_type": "code",
   "execution_count": 66,
   "metadata": {},
   "outputs": [],
   "source": [
    "result = pd.DataFrame([['Случайный лес. Дисбаланс', \n",
    "                        rfc_disbalance_f1_train_score, \n",
    "                        rfc_disbalance_f1_test_score, \n",
    "                        rfc_disbalance_auc_roc_train, \n",
    "                        rfc_disbalance_auc_roc_test],\n",
    "                       ['Случайный лес. Upsampling', \n",
    "                        rfc_upsample_balance_f1_train_score,\n",
    "                        rfc_upsample_balance_f1_test_score, \n",
    "                        rfc_upsample_balance_auc_roc_train, \n",
    "                        rfc_upsample_balance_auc_roc_test],\n",
    "                       ['Случайный лес. Downsampling',\n",
    "                        rfc_downsample_balance_f1_train_score, \n",
    "                        rfc_downsample_balance_f1_test_score, \n",
    "                        rfc_downsample_balance_auc_roc_train, \n",
    "                        rfc_downsample_balance_auc_roc_test],\n",
    "                       ['Случайный лес. Веса при обучении',\n",
    "                        rfc_class_weight_balance_f1_train_score, \n",
    "                        rfc_class_weight_balance_f1_test_score, \n",
    "                        rfc_class_weight_balance_auc_roc_train, \n",
    "                        rfc_class_weight_balance_auc_roc_test],\n",
    "                       ['Бустинг. Дисбаланс', \n",
    "                        catboost_disbalance_f1_train_score, \n",
    "                        catboost_disbalance_f1_test_score, \n",
    "                        catboost_disbalance_auc_roc_train, \n",
    "                        catboost_disbalance_auc_roc_test],\n",
    "                       ['Бустинг. Upsampling', \n",
    "                        catboost_upsample_balance_f1_train_score,\n",
    "                        catboost_upsample_balance_f1_test_score, \n",
    "                        catboost_upsample_balance_auc_roc_train, \n",
    "                        catboost_upsample_balance_auc_roc_test],\n",
    "                       ['Бустинг. Downsampling',\n",
    "                        catboost_downsample_balance_f1_train_score, \n",
    "                        catboost_downsample_balance_f1_test_score, \n",
    "                        catboost_downsample_balance_auc_roc_train, \n",
    "                        catboost_downsample_balance_auc_roc_test],\n",
    "                       ['Бустинг. Веса при обучении',\n",
    "                        catboost_class_weight_balance_f1_train_score, \n",
    "                        catboost_class_weight_balance_f1_test_score, \n",
    "                        catboost_class_weight_balance_auc_roc_train, \n",
    "                        catboost_class_weight_balance_auc_roc_test],],\n",
    "                      columns=['Модель', 'F1 на трейне', 'F1 на valid', \n",
    "                               'AUC ROC на трейне', 'AUC ROC на valid'])"
   ]
  },
  {
   "cell_type": "code",
   "execution_count": 67,
   "metadata": {},
   "outputs": [
    {
     "data": {
      "text/html": [
       "<div>\n",
       "<style scoped>\n",
       "    .dataframe tbody tr th:only-of-type {\n",
       "        vertical-align: middle;\n",
       "    }\n",
       "\n",
       "    .dataframe tbody tr th {\n",
       "        vertical-align: top;\n",
       "    }\n",
       "\n",
       "    .dataframe thead th {\n",
       "        text-align: right;\n",
       "    }\n",
       "</style>\n",
       "<table border=\"1\" class=\"dataframe\">\n",
       "  <thead>\n",
       "    <tr style=\"text-align: right;\">\n",
       "      <th></th>\n",
       "      <th>F1 на трейне</th>\n",
       "      <th>F1 на valid</th>\n",
       "      <th>AUC ROC на трейне</th>\n",
       "      <th>AUC ROC на valid</th>\n",
       "    </tr>\n",
       "    <tr>\n",
       "      <th>Модель</th>\n",
       "      <th></th>\n",
       "      <th></th>\n",
       "      <th></th>\n",
       "      <th></th>\n",
       "    </tr>\n",
       "  </thead>\n",
       "  <tbody>\n",
       "    <tr>\n",
       "      <th>Бустинг. Веса при обучении</th>\n",
       "      <td>0.796961</td>\n",
       "      <td>0.637644</td>\n",
       "      <td>0.963730</td>\n",
       "      <td>0.876206</td>\n",
       "    </tr>\n",
       "    <tr>\n",
       "      <th>Бустинг. Upsampling</th>\n",
       "      <td>0.932141</td>\n",
       "      <td>0.630435</td>\n",
       "      <td>0.979754</td>\n",
       "      <td>0.869891</td>\n",
       "    </tr>\n",
       "    <tr>\n",
       "      <th>Бустинг. Downsampling</th>\n",
       "      <td>0.892902</td>\n",
       "      <td>0.624631</td>\n",
       "      <td>0.967549</td>\n",
       "      <td>0.873871</td>\n",
       "    </tr>\n",
       "    <tr>\n",
       "      <th>Случайный лес. Upsampling</th>\n",
       "      <td>1.000000</td>\n",
       "      <td>0.617284</td>\n",
       "      <td>1.000000</td>\n",
       "      <td>0.864648</td>\n",
       "    </tr>\n",
       "    <tr>\n",
       "      <th>Случайный лес. Downsampling</th>\n",
       "      <td>1.000000</td>\n",
       "      <td>0.607214</td>\n",
       "      <td>1.000000</td>\n",
       "      <td>0.857499</td>\n",
       "    </tr>\n",
       "    <tr>\n",
       "      <th>Бустинг. Дисбаланс</th>\n",
       "      <td>0.756783</td>\n",
       "      <td>0.593245</td>\n",
       "      <td>0.955440</td>\n",
       "      <td>0.880433</td>\n",
       "    </tr>\n",
       "    <tr>\n",
       "      <th>Случайный лес. Дисбаланс</th>\n",
       "      <td>1.000000</td>\n",
       "      <td>0.570988</td>\n",
       "      <td>1.000000</td>\n",
       "      <td>0.865117</td>\n",
       "    </tr>\n",
       "    <tr>\n",
       "      <th>Случайный лес. Веса при обучении</th>\n",
       "      <td>1.000000</td>\n",
       "      <td>0.568750</td>\n",
       "      <td>1.000000</td>\n",
       "      <td>0.869155</td>\n",
       "    </tr>\n",
       "  </tbody>\n",
       "</table>\n",
       "</div>"
      ],
      "text/plain": [
       "                                  F1 на трейне  F1 на valid  \\\n",
       "Модель                                                        \n",
       "Бустинг. Веса при обучении            0.796961     0.637644   \n",
       "Бустинг. Upsampling                   0.932141     0.630435   \n",
       "Бустинг. Downsampling                 0.892902     0.624631   \n",
       "Случайный лес. Upsampling             1.000000     0.617284   \n",
       "Случайный лес. Downsampling           1.000000     0.607214   \n",
       "Бустинг. Дисбаланс                    0.756783     0.593245   \n",
       "Случайный лес. Дисбаланс              1.000000     0.570988   \n",
       "Случайный лес. Веса при обучении      1.000000     0.568750   \n",
       "\n",
       "                                  AUC ROC на трейне  AUC ROC на valid  \n",
       "Модель                                                                 \n",
       "Бустинг. Веса при обучении                 0.963730          0.876206  \n",
       "Бустинг. Upsampling                        0.979754          0.869891  \n",
       "Бустинг. Downsampling                      0.967549          0.873871  \n",
       "Случайный лес. Upsampling                  1.000000          0.864648  \n",
       "Случайный лес. Downsampling                1.000000          0.857499  \n",
       "Бустинг. Дисбаланс                         0.955440          0.880433  \n",
       "Случайный лес. Дисбаланс                   1.000000          0.865117  \n",
       "Случайный лес. Веса при обучении           1.000000          0.869155  "
      ]
     },
     "execution_count": 67,
     "metadata": {},
     "output_type": "execute_result"
    }
   ],
   "source": [
    "result = result.set_index('Модель')\n",
    "result.sort_values('F1 на valid', ascending=False)"
   ]
  },
  {
   "cell_type": "markdown",
   "metadata": {},
   "source": [
    "В таблице отсортированные по метрике F1 на валидационной выборке результаты работы моделей. Мы видим, что три лучшие модели являются бустингами (отрыв между лучшей моделью бустинга и лучшей случайного леса составляет 0.02), при это практически все методы борьбы с дисбалансом, за исключением установки весов при обучении для случайного леса, позволили улучшить метрики на валидационной выборке.\n",
    "\n",
    "Стоит отметить, что метрика AUC ROC для бустинга незначительно снижена при применении всех методах борьбы с дисбалансом относительно базовой модели.\n",
    "\n",
    "С учетом существенно лучших результатов для моделей бустинга подбор гиперпараметров будем проводить для нее."
   ]
  },
  {
   "cell_type": "markdown",
   "metadata": {},
   "source": [
    "### Подбор гиперпараметров"
   ]
  },
  {
   "cell_type": "markdown",
   "metadata": {},
   "source": [
    "Произведем подбор гиперпараметров с помощью встроенного метода grid_search."
   ]
  },
  {
   "cell_type": "code",
   "execution_count": 68,
   "metadata": {},
   "outputs": [],
   "source": [
    "model_selection = CatBoostClassifier(silent=True, random_state=22, auto_class_weights=\"SqrtBalanced\")"
   ]
  },
  {
   "cell_type": "code",
   "execution_count": 69,
   "metadata": {},
   "outputs": [],
   "source": [
    "parameters = {'iterations': [200, 300, 600],\n",
    "              'learning_rate': [0.02, 0.03, 0.05],\n",
    "              'depth': [4, 6, 8],\n",
    "              'l2_leaf_reg': [1, 2, 3]}"
   ]
  },
  {
   "cell_type": "code",
   "execution_count": 70,
   "metadata": {},
   "outputs": [],
   "source": [
    "# объединим выборки для подбора гиперпараметров\n",
    "X_train_valid = pd.concat([X_train, X_valid], ignore_index=True)\n",
    "y_train_valid = pd.concat([y_train, y_valid], ignore_index=True)"
   ]
  },
  {
   "cell_type": "code",
   "execution_count": 71,
   "metadata": {},
   "outputs": [
    {
     "data": {
      "text/plain": [
       "(7949, 7949)"
      ]
     },
     "execution_count": 71,
     "metadata": {},
     "output_type": "execute_result"
    }
   ],
   "source": [
    "X_train_valid.shape[0], y_train_valid.shape[0]"
   ]
  },
  {
   "cell_type": "code",
   "execution_count": 72,
   "metadata": {
    "scrolled": true
   },
   "outputs": [
    {
     "name": "stdout",
     "output_type": "stream",
     "text": [
      "\n",
      "bestTest = 0.4199433318\n",
      "bestIteration = 199\n",
      "\n",
      "0:\tloss: 0.4199433\tbest: 0.4199433 (0)\ttotal: 1.53s\tremaining: 2m 2s\n",
      "\n",
      "bestTest = 0.4113060256\n",
      "bestIteration = 199\n",
      "\n",
      "1:\tloss: 0.4113060\tbest: 0.4113060 (1)\ttotal: 2.08s\tremaining: 1m 22s\n",
      "\n",
      "bestTest = 0.4036958467\n",
      "bestIteration = 196\n",
      "\n",
      "2:\tloss: 0.4036958\tbest: 0.4036958 (2)\ttotal: 2.6s\tremaining: 1m 7s\n",
      "\n",
      "bestTest = 0.4197399332\n",
      "bestIteration = 199\n",
      "\n",
      "3:\tloss: 0.4197399\tbest: 0.4036958 (2)\ttotal: 3.13s\tremaining: 1m\n",
      "\n",
      "bestTest = 0.4115891557\n",
      "bestIteration = 199\n",
      "\n",
      "4:\tloss: 0.4115892\tbest: 0.4036958 (2)\ttotal: 3.65s\tremaining: 55.5s\n",
      "\n",
      "bestTest = 0.4061690471\n",
      "bestIteration = 199\n",
      "\n",
      "5:\tloss: 0.4061690\tbest: 0.4036958 (2)\ttotal: 4.2s\tremaining: 52.5s\n",
      "\n",
      "bestTest = 0.4200346622\n",
      "bestIteration = 199\n",
      "\n",
      "6:\tloss: 0.4200347\tbest: 0.4036958 (2)\ttotal: 4.75s\tremaining: 50.2s\n",
      "\n",
      "bestTest = 0.4119036366\n",
      "bestIteration = 199\n",
      "\n",
      "7:\tloss: 0.4119036\tbest: 0.4036958 (2)\ttotal: 5.29s\tremaining: 48.3s\n",
      "\n",
      "bestTest = 0.4059463225\n",
      "bestIteration = 198\n",
      "\n",
      "8:\tloss: 0.4059463\tbest: 0.4036958 (2)\ttotal: 5.81s\tremaining: 46.5s\n",
      "\n",
      "bestTest = 0.4122656342\n",
      "bestIteration = 299\n",
      "\n",
      "9:\tloss: 0.4122656\tbest: 0.4036958 (2)\ttotal: 6.58s\tremaining: 46.7s\n",
      "\n",
      "bestTest = 0.4061409516\n",
      "bestIteration = 298\n",
      "\n",
      "10:\tloss: 0.4061410\tbest: 0.4036958 (2)\ttotal: 7.34s\tremaining: 46.7s\n",
      "\n",
      "bestTest = 0.4029088296\n",
      "bestIteration = 262\n",
      "\n",
      "11:\tloss: 0.4029088\tbest: 0.4029088 (11)\ttotal: 8.11s\tremaining: 46.6s\n",
      "\n",
      "bestTest = 0.4115116871\n",
      "bestIteration = 298\n",
      "\n",
      "12:\tloss: 0.4115117\tbest: 0.4029088 (11)\ttotal: 8.88s\tremaining: 46.4s\n",
      "\n",
      "bestTest = 0.4069124562\n",
      "bestIteration = 299\n",
      "\n",
      "13:\tloss: 0.4069125\tbest: 0.4029088 (11)\ttotal: 9.65s\tremaining: 46.2s\n",
      "\n",
      "bestTest = 0.4044653353\n",
      "bestIteration = 298\n",
      "\n",
      "14:\tloss: 0.4044653\tbest: 0.4029088 (11)\ttotal: 10.5s\tremaining: 46s\n",
      "\n",
      "bestTest = 0.4119406794\n",
      "bestIteration = 299\n",
      "\n",
      "15:\tloss: 0.4119407\tbest: 0.4029088 (11)\ttotal: 11.2s\tremaining: 45.6s\n",
      "\n",
      "bestTest = 0.4066199549\n",
      "bestIteration = 299\n",
      "\n",
      "16:\tloss: 0.4066200\tbest: 0.4029088 (11)\ttotal: 12s\tremaining: 45.1s\n",
      "\n",
      "bestTest = 0.4042226592\n",
      "bestIteration = 294\n",
      "\n",
      "17:\tloss: 0.4042227\tbest: 0.4029088 (11)\ttotal: 12.8s\tremaining: 44.7s\n",
      "\n",
      "bestTest = 0.4050633711\n",
      "bestIteration = 548\n",
      "\n",
      "18:\tloss: 0.4050634\tbest: 0.4029088 (11)\ttotal: 14.3s\tremaining: 46.6s\n",
      "\n",
      "bestTest = 0.4036653927\n",
      "bestIteration = 527\n",
      "\n",
      "19:\tloss: 0.4036654\tbest: 0.4029088 (11)\ttotal: 15.8s\tremaining: 48.2s\n",
      "\n",
      "bestTest = 0.4029088296\n",
      "bestIteration = 262\n",
      "\n",
      "20:\tloss: 0.4029088\tbest: 0.4029088 (11)\ttotal: 17.3s\tremaining: 49.5s\n",
      "\n",
      "bestTest = 0.405088084\n",
      "bestIteration = 599\n",
      "\n",
      "21:\tloss: 0.4050881\tbest: 0.4029088 (11)\ttotal: 18.9s\tremaining: 50.6s\n",
      "\n",
      "bestTest = 0.4037829855\n",
      "bestIteration = 547\n",
      "\n",
      "22:\tloss: 0.4037830\tbest: 0.4029088 (11)\ttotal: 20.4s\tremaining: 51.5s\n",
      "\n",
      "bestTest = 0.4044061541\n",
      "bestIteration = 310\n",
      "\n",
      "23:\tloss: 0.4044062\tbest: 0.4029088 (11)\ttotal: 22s\tremaining: 52.3s\n",
      "\n",
      "bestTest = 0.4053613271\n",
      "bestIteration = 584\n",
      "\n",
      "24:\tloss: 0.4053613\tbest: 0.4029088 (11)\ttotal: 23.5s\tremaining: 52.7s\n",
      "\n",
      "bestTest = 0.403604502\n",
      "bestIteration = 547\n",
      "\n",
      "25:\tloss: 0.4036045\tbest: 0.4029088 (11)\ttotal: 25.1s\tremaining: 53.1s\n",
      "\n",
      "bestTest = 0.4032972828\n",
      "bestIteration = 360\n",
      "\n",
      "26:\tloss: 0.4032973\tbest: 0.4029088 (11)\ttotal: 26.6s\tremaining: 53.3s\n",
      "\n",
      "bestTest = 0.412005993\n",
      "bestIteration = 199\n",
      "\n",
      "27:\tloss: 0.4120060\tbest: 0.4029088 (11)\ttotal: 27.4s\tremaining: 51.9s\n",
      "\n",
      "bestTest = 0.4081253331\n",
      "bestIteration = 188\n",
      "\n",
      "28:\tloss: 0.4081253\tbest: 0.4029088 (11)\ttotal: 28.2s\tremaining: 50.5s\n",
      "\n",
      "bestTest = 0.4050943343\n",
      "bestIteration = 153\n",
      "\n",
      "29:\tloss: 0.4050943\tbest: 0.4029088 (11)\ttotal: 28.9s\tremaining: 49.2s\n",
      "\n",
      "bestTest = 0.4120631244\n",
      "bestIteration = 199\n",
      "\n",
      "30:\tloss: 0.4120631\tbest: 0.4029088 (11)\ttotal: 29.7s\tremaining: 47.9s\n",
      "\n",
      "bestTest = 0.4078764337\n",
      "bestIteration = 197\n",
      "\n",
      "31:\tloss: 0.4078764\tbest: 0.4029088 (11)\ttotal: 30.4s\tremaining: 46.6s\n",
      "\n",
      "bestTest = 0.4051771716\n",
      "bestIteration = 156\n",
      "\n",
      "32:\tloss: 0.4051772\tbest: 0.4029088 (11)\ttotal: 31.2s\tremaining: 45.4s\n",
      "\n",
      "bestTest = 0.4127766453\n",
      "bestIteration = 199\n",
      "\n",
      "33:\tloss: 0.4127766\tbest: 0.4029088 (11)\ttotal: 31.9s\tremaining: 44.1s\n",
      "\n",
      "bestTest = 0.4091907788\n",
      "bestIteration = 199\n",
      "\n",
      "34:\tloss: 0.4091908\tbest: 0.4029088 (11)\ttotal: 32.6s\tremaining: 42.9s\n",
      "\n",
      "bestTest = 0.4048696479\n",
      "bestIteration = 183\n",
      "\n",
      "35:\tloss: 0.4048696\tbest: 0.4029088 (11)\ttotal: 33.3s\tremaining: 41.7s\n",
      "\n",
      "bestTest = 0.4065355037\n",
      "bestIteration = 296\n",
      "\n",
      "36:\tloss: 0.4065355\tbest: 0.4029088 (11)\ttotal: 34.4s\tremaining: 40.9s\n",
      "\n",
      "bestTest = 0.4075575623\n",
      "bestIteration = 264\n",
      "\n",
      "37:\tloss: 0.4075576\tbest: 0.4029088 (11)\ttotal: 35.5s\tremaining: 40.2s\n",
      "\n",
      "bestTest = 0.4050943343\n",
      "bestIteration = 153\n",
      "\n",
      "38:\tloss: 0.4050943\tbest: 0.4029088 (11)\ttotal: 36.7s\tremaining: 39.5s\n",
      "\n",
      "bestTest = 0.4086524769\n",
      "bestIteration = 299\n",
      "\n",
      "39:\tloss: 0.4086525\tbest: 0.4029088 (11)\ttotal: 37.8s\tremaining: 38.8s\n",
      "\n",
      "bestTest = 0.4064519941\n",
      "bestIteration = 277\n",
      "\n",
      "40:\tloss: 0.4064520\tbest: 0.4029088 (11)\ttotal: 39.2s\tremaining: 38.2s\n",
      "\n",
      "bestTest = 0.4051771716\n",
      "bestIteration = 156\n",
      "\n",
      "41:\tloss: 0.4051772\tbest: 0.4029088 (11)\ttotal: 40.3s\tremaining: 37.4s\n",
      "\n",
      "bestTest = 0.40869686\n",
      "bestIteration = 298\n",
      "\n",
      "42:\tloss: 0.4086969\tbest: 0.4029088 (11)\ttotal: 41.4s\tremaining: 36.6s\n",
      "\n",
      "bestTest = 0.4055595247\n",
      "bestIteration = 288\n",
      "\n",
      "43:\tloss: 0.4055595\tbest: 0.4029088 (11)\ttotal: 42.5s\tremaining: 35.8s\n",
      "\n",
      "bestTest = 0.4048696479\n",
      "bestIteration = 183\n",
      "\n",
      "44:\tloss: 0.4048696\tbest: 0.4029088 (11)\ttotal: 43.7s\tremaining: 34.9s\n",
      "\n",
      "bestTest = 0.4050373919\n",
      "bestIteration = 482\n",
      "\n",
      "45:\tloss: 0.4050374\tbest: 0.4029088 (11)\ttotal: 45.8s\tremaining: 34.9s\n",
      "\n",
      "bestTest = 0.4073716262\n",
      "bestIteration = 309\n",
      "\n",
      "46:\tloss: 0.4073716\tbest: 0.4029088 (11)\ttotal: 48s\tremaining: 34.8s\n",
      "\n",
      "bestTest = 0.4050943343\n",
      "bestIteration = 153\n",
      "\n",
      "47:\tloss: 0.4050943\tbest: 0.4029088 (11)\ttotal: 50.4s\tremaining: 34.6s\n",
      "\n",
      "bestTest = 0.4072653918\n",
      "bestIteration = 417\n",
      "\n",
      "48:\tloss: 0.4072654\tbest: 0.4029088 (11)\ttotal: 52.5s\tremaining: 34.3s\n",
      "\n",
      "bestTest = 0.4059435318\n",
      "bestIteration = 354\n",
      "\n",
      "49:\tloss: 0.4059435\tbest: 0.4029088 (11)\ttotal: 54.8s\tremaining: 34s\n",
      "\n",
      "bestTest = 0.4051771716\n",
      "bestIteration = 156\n",
      "\n",
      "50:\tloss: 0.4051772\tbest: 0.4029088 (11)\ttotal: 56.9s\tremaining: 33.5s\n",
      "\n",
      "bestTest = 0.4066128216\n",
      "bestIteration = 432\n",
      "\n",
      "51:\tloss: 0.4066128\tbest: 0.4029088 (11)\ttotal: 59.1s\tremaining: 33s\n",
      "\n",
      "bestTest = 0.4050146337\n",
      "bestIteration = 433\n",
      "\n",
      "52:\tloss: 0.4050146\tbest: 0.4029088 (11)\ttotal: 1m 1s\tremaining: 32.4s\n",
      "\n",
      "bestTest = 0.4048696479\n",
      "bestIteration = 183\n",
      "\n",
      "53:\tloss: 0.4048696\tbest: 0.4029088 (11)\ttotal: 1m 3s\tremaining: 31.7s\n",
      "\n",
      "bestTest = 0.4098518078\n",
      "bestIteration = 199\n",
      "\n",
      "54:\tloss: 0.4098518\tbest: 0.4029088 (11)\ttotal: 1m 4s\tremaining: 30.6s\n",
      "\n",
      "bestTest = 0.411630693\n",
      "bestIteration = 135\n",
      "\n",
      "55:\tloss: 0.4116307\tbest: 0.4029088 (11)\ttotal: 1m 6s\tremaining: 29.5s\n",
      "\n",
      "bestTest = 0.4069529202\n",
      "bestIteration = 109\n",
      "\n",
      "56:\tloss: 0.4069529\tbest: 0.4029088 (11)\ttotal: 1m 7s\tremaining: 28.3s\n",
      "\n",
      "bestTest = 0.4111791968\n",
      "bestIteration = 199\n",
      "\n",
      "57:\tloss: 0.4111792\tbest: 0.4029088 (11)\ttotal: 1m 8s\tremaining: 27.2s\n",
      "\n",
      "bestTest = 0.4096222161\n",
      "bestIteration = 186\n",
      "\n",
      "58:\tloss: 0.4096222\tbest: 0.4029088 (11)\ttotal: 1m 10s\tremaining: 26.1s\n",
      "\n",
      "bestTest = 0.4100961936\n",
      "bestIteration = 112\n",
      "\n",
      "59:\tloss: 0.4100962\tbest: 0.4029088 (11)\ttotal: 1m 11s\tremaining: 25s\n",
      "\n",
      "bestTest = 0.4122696742\n",
      "bestIteration = 199\n",
      "\n",
      "60:\tloss: 0.4122697\tbest: 0.4029088 (11)\ttotal: 1m 12s\tremaining: 23.8s\n",
      "\n",
      "bestTest = 0.4088863191\n",
      "bestIteration = 155\n",
      "\n",
      "61:\tloss: 0.4088863\tbest: 0.4029088 (11)\ttotal: 1m 13s\tremaining: 22.6s\n",
      "\n",
      "bestTest = 0.40823846\n",
      "bestIteration = 124\n",
      "\n",
      "62:\tloss: 0.4082385\tbest: 0.4029088 (11)\ttotal: 1m 15s\tremaining: 21.5s\n",
      "\n",
      "bestTest = 0.4096894065\n",
      "bestIteration = 201\n",
      "\n",
      "63:\tloss: 0.4096894\tbest: 0.4029088 (11)\ttotal: 1m 17s\tremaining: 20.5s\n",
      "\n",
      "bestTest = 0.411630693\n",
      "bestIteration = 135\n",
      "\n",
      "64:\tloss: 0.4116307\tbest: 0.4029088 (11)\ttotal: 1m 20s\tremaining: 19.9s\n",
      "\n",
      "bestTest = 0.4069529202\n",
      "bestIteration = 109\n",
      "\n",
      "65:\tloss: 0.4069529\tbest: 0.4029088 (11)\ttotal: 1m 22s\tremaining: 18.8s\n",
      "\n",
      "bestTest = 0.4094305716\n",
      "bestIteration = 264\n",
      "\n",
      "66:\tloss: 0.4094306\tbest: 0.4029088 (11)\ttotal: 1m 24s\tremaining: 17.7s\n",
      "\n",
      "bestTest = 0.4096222161\n",
      "bestIteration = 186\n",
      "\n",
      "67:\tloss: 0.4096222\tbest: 0.4029088 (11)\ttotal: 1m 26s\tremaining: 16.6s\n",
      "\n",
      "bestTest = 0.4100961936\n",
      "bestIteration = 112\n",
      "\n",
      "68:\tloss: 0.4100962\tbest: 0.4029088 (11)\ttotal: 1m 28s\tremaining: 15.4s\n",
      "\n",
      "bestTest = 0.4113931099\n",
      "bestIteration = 266\n",
      "\n",
      "69:\tloss: 0.4113931\tbest: 0.4029088 (11)\ttotal: 1m 30s\tremaining: 14.3s\n",
      "\n",
      "bestTest = 0.4088863191\n",
      "bestIteration = 155\n",
      "\n",
      "70:\tloss: 0.4088863\tbest: 0.4029088 (11)\ttotal: 1m 32s\tremaining: 13.1s\n",
      "\n",
      "bestTest = 0.40823846\n",
      "bestIteration = 124\n",
      "\n",
      "71:\tloss: 0.4082385\tbest: 0.4029088 (11)\ttotal: 1m 34s\tremaining: 11.8s\n",
      "\n",
      "bestTest = 0.4096894065\n",
      "bestIteration = 201\n",
      "\n",
      "72:\tloss: 0.4096894\tbest: 0.4029088 (11)\ttotal: 1m 39s\tremaining: 10.9s\n",
      "\n",
      "bestTest = 0.411630693\n",
      "bestIteration = 135\n",
      "\n",
      "73:\tloss: 0.4116307\tbest: 0.4029088 (11)\ttotal: 1m 43s\tremaining: 9.76s\n",
      "\n",
      "bestTest = 0.4069529202\n",
      "bestIteration = 109\n",
      "\n",
      "74:\tloss: 0.4069529\tbest: 0.4029088 (11)\ttotal: 1m 47s\tremaining: 8.61s\n",
      "\n",
      "bestTest = 0.4088892182\n",
      "bestIteration = 326\n",
      "\n",
      "75:\tloss: 0.4088892\tbest: 0.4029088 (11)\ttotal: 1m 51s\tremaining: 7.37s\n",
      "\n",
      "bestTest = 0.4096222161\n",
      "bestIteration = 186\n",
      "\n",
      "76:\tloss: 0.4096222\tbest: 0.4029088 (11)\ttotal: 1m 57s\tremaining: 6.08s\n",
      "\n",
      "bestTest = 0.4100961936\n",
      "bestIteration = 112\n",
      "\n",
      "77:\tloss: 0.4100962\tbest: 0.4029088 (11)\ttotal: 2m 1s\tremaining: 4.66s\n",
      "\n",
      "bestTest = 0.4113931099\n",
      "bestIteration = 266\n",
      "\n",
      "78:\tloss: 0.4113931\tbest: 0.4029088 (11)\ttotal: 2m 5s\tremaining: 3.17s\n",
      "\n",
      "bestTest = 0.4088863191\n",
      "bestIteration = 155\n",
      "\n",
      "79:\tloss: 0.4088863\tbest: 0.4029088 (11)\ttotal: 2m 8s\tremaining: 1.61s\n",
      "\n",
      "bestTest = 0.40823846\n",
      "bestIteration = 124\n",
      "\n",
      "80:\tloss: 0.4082385\tbest: 0.4029088 (11)\ttotal: 2m 12s\tremaining: 0us\n",
      "Estimating final quality...\n",
      "Training on fold [0/3]\n",
      "\n",
      "bestTest = 0.4267143973\n",
      "bestIteration = 224\n",
      "\n",
      "Training on fold [1/3]\n",
      "\n",
      "bestTest = 0.403874773\n",
      "bestIteration = 205\n",
      "\n",
      "Training on fold [2/3]\n",
      "\n",
      "bestTest = 0.4107055813\n",
      "bestIteration = 225\n",
      "\n"
     ]
    },
    {
     "data": {
      "text/plain": [
       "{'params': {'depth': 4,\n",
       "  'l2_leaf_reg': 1,\n",
       "  'iterations': 300,\n",
       "  'learning_rate': 0.05},\n",
       " 'cv_results': defaultdict(list,\n",
       "             {'iterations': [0,\n",
       "               1,\n",
       "               2,\n",
       "               3,\n",
       "               4,\n",
       "               5,\n",
       "               6,\n",
       "               7,\n",
       "               8,\n",
       "               9,\n",
       "               10,\n",
       "               11,\n",
       "               12,\n",
       "               13,\n",
       "               14,\n",
       "               15,\n",
       "               16,\n",
       "               17,\n",
       "               18,\n",
       "               19,\n",
       "               20,\n",
       "               21,\n",
       "               22,\n",
       "               23,\n",
       "               24,\n",
       "               25,\n",
       "               26,\n",
       "               27,\n",
       "               28,\n",
       "               29,\n",
       "               30,\n",
       "               31,\n",
       "               32,\n",
       "               33,\n",
       "               34,\n",
       "               35,\n",
       "               36,\n",
       "               37,\n",
       "               38,\n",
       "               39,\n",
       "               40,\n",
       "               41,\n",
       "               42,\n",
       "               43,\n",
       "               44,\n",
       "               45,\n",
       "               46,\n",
       "               47,\n",
       "               48,\n",
       "               49,\n",
       "               50,\n",
       "               51,\n",
       "               52,\n",
       "               53,\n",
       "               54,\n",
       "               55,\n",
       "               56,\n",
       "               57,\n",
       "               58,\n",
       "               59,\n",
       "               60,\n",
       "               61,\n",
       "               62,\n",
       "               63,\n",
       "               64,\n",
       "               65,\n",
       "               66,\n",
       "               67,\n",
       "               68,\n",
       "               69,\n",
       "               70,\n",
       "               71,\n",
       "               72,\n",
       "               73,\n",
       "               74,\n",
       "               75,\n",
       "               76,\n",
       "               77,\n",
       "               78,\n",
       "               79,\n",
       "               80,\n",
       "               81,\n",
       "               82,\n",
       "               83,\n",
       "               84,\n",
       "               85,\n",
       "               86,\n",
       "               87,\n",
       "               88,\n",
       "               89,\n",
       "               90,\n",
       "               91,\n",
       "               92,\n",
       "               93,\n",
       "               94,\n",
       "               95,\n",
       "               96,\n",
       "               97,\n",
       "               98,\n",
       "               99,\n",
       "               100,\n",
       "               101,\n",
       "               102,\n",
       "               103,\n",
       "               104,\n",
       "               105,\n",
       "               106,\n",
       "               107,\n",
       "               108,\n",
       "               109,\n",
       "               110,\n",
       "               111,\n",
       "               112,\n",
       "               113,\n",
       "               114,\n",
       "               115,\n",
       "               116,\n",
       "               117,\n",
       "               118,\n",
       "               119,\n",
       "               120,\n",
       "               121,\n",
       "               122,\n",
       "               123,\n",
       "               124,\n",
       "               125,\n",
       "               126,\n",
       "               127,\n",
       "               128,\n",
       "               129,\n",
       "               130,\n",
       "               131,\n",
       "               132,\n",
       "               133,\n",
       "               134,\n",
       "               135,\n",
       "               136,\n",
       "               137,\n",
       "               138,\n",
       "               139,\n",
       "               140,\n",
       "               141,\n",
       "               142,\n",
       "               143,\n",
       "               144,\n",
       "               145,\n",
       "               146,\n",
       "               147,\n",
       "               148,\n",
       "               149,\n",
       "               150,\n",
       "               151,\n",
       "               152,\n",
       "               153,\n",
       "               154,\n",
       "               155,\n",
       "               156,\n",
       "               157,\n",
       "               158,\n",
       "               159,\n",
       "               160,\n",
       "               161,\n",
       "               162,\n",
       "               163,\n",
       "               164,\n",
       "               165,\n",
       "               166,\n",
       "               167,\n",
       "               168,\n",
       "               169,\n",
       "               170,\n",
       "               171,\n",
       "               172,\n",
       "               173,\n",
       "               174,\n",
       "               175,\n",
       "               176,\n",
       "               177,\n",
       "               178,\n",
       "               179,\n",
       "               180,\n",
       "               181,\n",
       "               182,\n",
       "               183,\n",
       "               184,\n",
       "               185,\n",
       "               186,\n",
       "               187,\n",
       "               188,\n",
       "               189,\n",
       "               190,\n",
       "               191,\n",
       "               192,\n",
       "               193,\n",
       "               194,\n",
       "               195,\n",
       "               196,\n",
       "               197,\n",
       "               198,\n",
       "               199,\n",
       "               200,\n",
       "               201,\n",
       "               202,\n",
       "               203,\n",
       "               204,\n",
       "               205,\n",
       "               206,\n",
       "               207,\n",
       "               208,\n",
       "               209,\n",
       "               210,\n",
       "               211,\n",
       "               212,\n",
       "               213,\n",
       "               214,\n",
       "               215,\n",
       "               216,\n",
       "               217,\n",
       "               218,\n",
       "               219,\n",
       "               220,\n",
       "               221,\n",
       "               222,\n",
       "               223,\n",
       "               224,\n",
       "               225,\n",
       "               226,\n",
       "               227,\n",
       "               228,\n",
       "               229,\n",
       "               230,\n",
       "               231,\n",
       "               232,\n",
       "               233,\n",
       "               234,\n",
       "               235,\n",
       "               236,\n",
       "               237,\n",
       "               238,\n",
       "               239,\n",
       "               240,\n",
       "               241,\n",
       "               242,\n",
       "               243,\n",
       "               244,\n",
       "               245,\n",
       "               246,\n",
       "               247,\n",
       "               248,\n",
       "               249,\n",
       "               250,\n",
       "               251,\n",
       "               252,\n",
       "               253,\n",
       "               254,\n",
       "               255,\n",
       "               256,\n",
       "               257,\n",
       "               258,\n",
       "               259,\n",
       "               260,\n",
       "               261,\n",
       "               262,\n",
       "               263,\n",
       "               264,\n",
       "               265,\n",
       "               266,\n",
       "               267,\n",
       "               268,\n",
       "               269,\n",
       "               270,\n",
       "               271,\n",
       "               272,\n",
       "               273,\n",
       "               274,\n",
       "               275,\n",
       "               276,\n",
       "               277,\n",
       "               278,\n",
       "               279,\n",
       "               280,\n",
       "               281,\n",
       "               282,\n",
       "               283,\n",
       "               284,\n",
       "               285,\n",
       "               286,\n",
       "               287,\n",
       "               288,\n",
       "               289,\n",
       "               290,\n",
       "               291,\n",
       "               292,\n",
       "               293,\n",
       "               294,\n",
       "               295,\n",
       "               296,\n",
       "               297,\n",
       "               298,\n",
       "               299],\n",
       "              'test-Logloss-mean': [0.6691410435569304,\n",
       "               0.6500797219385922,\n",
       "               0.6293342780745773,\n",
       "               0.6120992234722656,\n",
       "               0.5958881759907069,\n",
       "               0.5843212434653383,\n",
       "               0.5733520794392017,\n",
       "               0.5634929084420492,\n",
       "               0.5541033484269345,\n",
       "               0.5456918522412971,\n",
       "               0.5396464851607758,\n",
       "               0.5329022710473886,\n",
       "               0.5252590419479554,\n",
       "               0.5196669166869184,\n",
       "               0.5143835617608855,\n",
       "               0.5088546958046667,\n",
       "               0.5039798359033464,\n",
       "               0.4989944609014009,\n",
       "               0.49439463168874803,\n",
       "               0.49040842529400136,\n",
       "               0.48609927215692056,\n",
       "               0.4831801621859156,\n",
       "               0.4810871475712855,\n",
       "               0.4784644649911309,\n",
       "               0.47554720220307384,\n",
       "               0.47317411914166335,\n",
       "               0.47095783163105526,\n",
       "               0.4685216385050616,\n",
       "               0.46679537200671334,\n",
       "               0.4648352921623877,\n",
       "               0.46270419800854073,\n",
       "               0.4605723795884575,\n",
       "               0.4582507967941698,\n",
       "               0.45701881621393686,\n",
       "               0.4549777286710059,\n",
       "               0.4536479938883375,\n",
       "               0.4522070800285322,\n",
       "               0.45074987633989627,\n",
       "               0.4500555602911885,\n",
       "               0.44929501855218973,\n",
       "               0.4481973975667797,\n",
       "               0.446885210815388,\n",
       "               0.4456697897595759,\n",
       "               0.44463901456943883,\n",
       "               0.4438661758417661,\n",
       "               0.4429018663013688,\n",
       "               0.4421720457229907,\n",
       "               0.44160635251736463,\n",
       "               0.441009660215002,\n",
       "               0.4403363885900637,\n",
       "               0.4395639076085481,\n",
       "               0.43866683564183884,\n",
       "               0.43790635904590064,\n",
       "               0.43694259663578444,\n",
       "               0.4362529331680534,\n",
       "               0.4358804986317249,\n",
       "               0.4354536683201305,\n",
       "               0.43520206193925604,\n",
       "               0.4349277140481993,\n",
       "               0.4344895141123469,\n",
       "               0.43394025931905755,\n",
       "               0.43346878076790635,\n",
       "               0.4330813017126016,\n",
       "               0.4325804115614668,\n",
       "               0.432236669014842,\n",
       "               0.4314766105084135,\n",
       "               0.43101157100048776,\n",
       "               0.43065251748492916,\n",
       "               0.43046708366673525,\n",
       "               0.42989319980449586,\n",
       "               0.4294826842998794,\n",
       "               0.42905410118193704,\n",
       "               0.42875417372929614,\n",
       "               0.42846922402030674,\n",
       "               0.4280940462196126,\n",
       "               0.42758892166550694,\n",
       "               0.42732193562789195,\n",
       "               0.42702733670347987,\n",
       "               0.4267953870316849,\n",
       "               0.4266796525922001,\n",
       "               0.42640050373036215,\n",
       "               0.42610987793634925,\n",
       "               0.42587555323963705,\n",
       "               0.4256420347519165,\n",
       "               0.4253104593049218,\n",
       "               0.42509447710715387,\n",
       "               0.42488859597116196,\n",
       "               0.4246365497010524,\n",
       "               0.424575522120465,\n",
       "               0.42418555982052736,\n",
       "               0.423891550540364,\n",
       "               0.42383515008592276,\n",
       "               0.42359801156265325,\n",
       "               0.42348076999198475,\n",
       "               0.4232481699933018,\n",
       "               0.42319914408678905,\n",
       "               0.4229263036142605,\n",
       "               0.4226205048571969,\n",
       "               0.4223808668776135,\n",
       "               0.42214361128868666,\n",
       "               0.4219461033785816,\n",
       "               0.4216583197124058,\n",
       "               0.42150028209265794,\n",
       "               0.42131433188752293,\n",
       "               0.4210049371830598,\n",
       "               0.42080912778409846,\n",
       "               0.42048722256752624,\n",
       "               0.4203071389464321,\n",
       "               0.4202210162628129,\n",
       "               0.42015913119854503,\n",
       "               0.4201215672512728,\n",
       "               0.4200380335703339,\n",
       "               0.41997411248102723,\n",
       "               0.41988321328322104,\n",
       "               0.41979420542207196,\n",
       "               0.4196314191027007,\n",
       "               0.41930999508643835,\n",
       "               0.4192734028412146,\n",
       "               0.41903619413925397,\n",
       "               0.41884460293182285,\n",
       "               0.41864773272176575,\n",
       "               0.41846508850716563,\n",
       "               0.41844759819672467,\n",
       "               0.41838543293953506,\n",
       "               0.4181340621288552,\n",
       "               0.4179604940409039,\n",
       "               0.41799293233917884,\n",
       "               0.41801750234232965,\n",
       "               0.4179120404723536,\n",
       "               0.4178540227951757,\n",
       "               0.41773632295465574,\n",
       "               0.41770779154541765,\n",
       "               0.4177495179549002,\n",
       "               0.4175953415818534,\n",
       "               0.4175168684123372,\n",
       "               0.4174561905543017,\n",
       "               0.41746217258320056,\n",
       "               0.4171954827599995,\n",
       "               0.4170905187704044,\n",
       "               0.41708462930671586,\n",
       "               0.4170385907099927,\n",
       "               0.41698400607947966,\n",
       "               0.41682380211749076,\n",
       "               0.41692400027639803,\n",
       "               0.4168681567355313,\n",
       "               0.4166805561599322,\n",
       "               0.4165548430586208,\n",
       "               0.41662624507051443,\n",
       "               0.41664639950627036,\n",
       "               0.4165764019809961,\n",
       "               0.41658045212508954,\n",
       "               0.41658772181699283,\n",
       "               0.41636496976497267,\n",
       "               0.41644706563275097,\n",
       "               0.4162519477296765,\n",
       "               0.4162485099130346,\n",
       "               0.41621828233126373,\n",
       "               0.4161677854410641,\n",
       "               0.41601778021651215,\n",
       "               0.4159927896767612,\n",
       "               0.4158790892473539,\n",
       "               0.4158200438895608,\n",
       "               0.4159527458898642,\n",
       "               0.4157889715475103,\n",
       "               0.41576973509743415,\n",
       "               0.4157273964092547,\n",
       "               0.41564485301394694,\n",
       "               0.41554940283574066,\n",
       "               0.41559205244207104,\n",
       "               0.41551143790311856,\n",
       "               0.41539855514053275,\n",
       "               0.4153436055651036,\n",
       "               0.4153344667426661,\n",
       "               0.4152834486358273,\n",
       "               0.4151562442247474,\n",
       "               0.4151868697897571,\n",
       "               0.41515244110083294,\n",
       "               0.41522169602991976,\n",
       "               0.4152155848201751,\n",
       "               0.41515315496956856,\n",
       "               0.41515008108694645,\n",
       "               0.41516279491417296,\n",
       "               0.4151066342655028,\n",
       "               0.4149385916409311,\n",
       "               0.4149074718703884,\n",
       "               0.414940032561395,\n",
       "               0.4149300247797277,\n",
       "               0.414898952370982,\n",
       "               0.41496414156269235,\n",
       "               0.4148532869563392,\n",
       "               0.41485963438074197,\n",
       "               0.4147517232119176,\n",
       "               0.4147860494996391,\n",
       "               0.414693981001606,\n",
       "               0.4147753509690078,\n",
       "               0.41478112582198046,\n",
       "               0.4146977553272086,\n",
       "               0.41477510713800125,\n",
       "               0.4146472452480819,\n",
       "               0.41465346250347634,\n",
       "               0.4147140906849431,\n",
       "               0.41469358183557065,\n",
       "               0.41463841804413165,\n",
       "               0.4144521628207438,\n",
       "               0.4143289880427145,\n",
       "               0.4142783948884106,\n",
       "               0.41433472126155474,\n",
       "               0.4144551468216607,\n",
       "               0.414440969146741,\n",
       "               0.41442346909904854,\n",
       "               0.4143940286183028,\n",
       "               0.4144562087703237,\n",
       "               0.4143463036915021,\n",
       "               0.414357019921246,\n",
       "               0.4144441171660635,\n",
       "               0.4144067201219437,\n",
       "               0.4143855362277611,\n",
       "               0.41444264216264,\n",
       "               0.41447713816049286,\n",
       "               0.4144502689128003,\n",
       "               0.41431488854538073,\n",
       "               0.41429267442032325,\n",
       "               0.41429533271418345,\n",
       "               0.41422335784063535,\n",
       "               0.4141293239524894,\n",
       "               0.4141442576415309,\n",
       "               0.41417797117080873,\n",
       "               0.41422871861546445,\n",
       "               0.4142685968607471,\n",
       "               0.4143316047481995,\n",
       "               0.4143200196183665,\n",
       "               0.41431857723014526,\n",
       "               0.4144220037728465,\n",
       "               0.41435569986915083,\n",
       "               0.41450846480114123,\n",
       "               0.4144239298648731,\n",
       "               0.41435780344117973,\n",
       "               0.4144600851656719,\n",
       "               0.4144937308512144,\n",
       "               0.41453109396272864,\n",
       "               0.41445979455148435,\n",
       "               0.41447533476494147,\n",
       "               0.4145357057272598,\n",
       "               0.41458318982459436,\n",
       "               0.41458253762270286,\n",
       "               0.4145343150227028,\n",
       "               0.4144649520811687,\n",
       "               0.4145876054524593,\n",
       "               0.414677512925491,\n",
       "               0.41477526799286357,\n",
       "               0.4147018781452096,\n",
       "               0.4147442643520816,\n",
       "               0.4147979097165339,\n",
       "               0.4147302414141461,\n",
       "               0.4147482947542493,\n",
       "               0.4146823324150406,\n",
       "               0.4147152951161928,\n",
       "               0.41475710260473625,\n",
       "               0.4147604300108969,\n",
       "               0.41472913607411743,\n",
       "               0.4147352675677542,\n",
       "               0.4147489992594034,\n",
       "               0.4147829642005922,\n",
       "               0.4148993904802203,\n",
       "               0.41483737059104486,\n",
       "               0.41487049408060234,\n",
       "               0.41492877182995863,\n",
       "               0.4149155892470943,\n",
       "               0.4149366729044231,\n",
       "               0.4149450012010236,\n",
       "               0.41496251842596193,\n",
       "               0.4149104892808775,\n",
       "               0.414962605475014,\n",
       "               0.41496305741607076,\n",
       "               0.41513119868689263,\n",
       "               0.4151395551836568,\n",
       "               0.4151855008623116,\n",
       "               0.41518960416131795,\n",
       "               0.41523140996508895,\n",
       "               0.41520922469390364,\n",
       "               0.4152165014881107,\n",
       "               0.41524779474357915,\n",
       "               0.41518572445354573,\n",
       "               0.4151934112479496,\n",
       "               0.41511817514367766,\n",
       "               0.41531459993288866,\n",
       "               0.4153551465354309,\n",
       "               0.415466807220677,\n",
       "               0.41556514492298224,\n",
       "               0.41565806720087756,\n",
       "               0.41569197147918957,\n",
       "               0.4156002585996353,\n",
       "               0.4156482170792914,\n",
       "               0.4157151613740129,\n",
       "               0.4156951070059607,\n",
       "               0.41577683634109525,\n",
       "               0.4158254974379189,\n",
       "               0.4158785069743946,\n",
       "               0.41589799573363245,\n",
       "               0.41595987770613435],\n",
       "              'test-Logloss-std': [0.00035669612502469604,\n",
       "               0.0018886291565596346,\n",
       "               0.0021439799623548562,\n",
       "               0.002477744417441928,\n",
       "               0.0025214525208612578,\n",
       "               0.002881453080193995,\n",
       "               0.004621662366581494,\n",
       "               0.003549518898054347,\n",
       "               0.003235483207906519,\n",
       "               0.003765354140846458,\n",
       "               0.0034930824297768476,\n",
       "               0.0035006200356004534,\n",
       "               0.00435356578065817,\n",
       "               0.005926467607929619,\n",
       "               0.005773320279167818,\n",
       "               0.006559885606833043,\n",
       "               0.007423627435024271,\n",
       "               0.008281919547451694,\n",
       "               0.009146612764099742,\n",
       "               0.00819704884450119,\n",
       "               0.007319123887065557,\n",
       "               0.007125909018457523,\n",
       "               0.0077991774431636855,\n",
       "               0.008359391618214553,\n",
       "               0.007527124802987625,\n",
       "               0.007648643847323262,\n",
       "               0.008445106385839717,\n",
       "               0.008818051229568843,\n",
       "               0.008364466594426079,\n",
       "               0.007913173050606195,\n",
       "               0.007571114006929733,\n",
       "               0.00796090597615941,\n",
       "               0.007677905342937718,\n",
       "               0.008027051547738142,\n",
       "               0.008241998120805016,\n",
       "               0.008285135868432394,\n",
       "               0.008455569843367887,\n",
       "               0.008331832226568983,\n",
       "               0.008582332575010876,\n",
       "               0.008444970283040174,\n",
       "               0.00843802511480992,\n",
       "               0.00834104142249592,\n",
       "               0.007897638354650521,\n",
       "               0.007729556097684978,\n",
       "               0.007272179446197327,\n",
       "               0.0077192879495446304,\n",
       "               0.007943743439008078,\n",
       "               0.008349849644975411,\n",
       "               0.007999418646061731,\n",
       "               0.008283915034210608,\n",
       "               0.008504475046134751,\n",
       "               0.00908031918246237,\n",
       "               0.009498643704491435,\n",
       "               0.009933770682751586,\n",
       "               0.010198818860066215,\n",
       "               0.010182193875934253,\n",
       "               0.010054922569918804,\n",
       "               0.010113613405975315,\n",
       "               0.009885189131395297,\n",
       "               0.009834292947663109,\n",
       "               0.010097559980444462,\n",
       "               0.01013319114551599,\n",
       "               0.010144216611121588,\n",
       "               0.009819026561204926,\n",
       "               0.010237257560587352,\n",
       "               0.010682815952480594,\n",
       "               0.010553578805572561,\n",
       "               0.010618421262926675,\n",
       "               0.010642836402408654,\n",
       "               0.010764125983307482,\n",
       "               0.010563637228225353,\n",
       "               0.010965585810010219,\n",
       "               0.010994863136024526,\n",
       "               0.011072396150721307,\n",
       "               0.011182651450430459,\n",
       "               0.010811597699199023,\n",
       "               0.010816420790825811,\n",
       "               0.011015394608634151,\n",
       "               0.011129633723001521,\n",
       "               0.011220739588057586,\n",
       "               0.011112220933470819,\n",
       "               0.011050144152555036,\n",
       "               0.011019751102537279,\n",
       "               0.010858592708748938,\n",
       "               0.010974926131724102,\n",
       "               0.011152091521130881,\n",
       "               0.011022474071559216,\n",
       "               0.011150987568934139,\n",
       "               0.011207535711479255,\n",
       "               0.011551498084000035,\n",
       "               0.011509104379008551,\n",
       "               0.011506906799085868,\n",
       "               0.011446864626196733,\n",
       "               0.011573491786638851,\n",
       "               0.01133215427770943,\n",
       "               0.011345500866860836,\n",
       "               0.011356246193132878,\n",
       "               0.010965922973333863,\n",
       "               0.010798182707735684,\n",
       "               0.010831916013923217,\n",
       "               0.010696085437216037,\n",
       "               0.01066829468302402,\n",
       "               0.01074933911536282,\n",
       "               0.010772540533914516,\n",
       "               0.01066812862252422,\n",
       "               0.010751900567477268,\n",
       "               0.010827630663285001,\n",
       "               0.011090508263572002,\n",
       "               0.011211803882519971,\n",
       "               0.01114413819053451,\n",
       "               0.01118433327884302,\n",
       "               0.011239760047349412,\n",
       "               0.011253715290790608,\n",
       "               0.011240904070144699,\n",
       "               0.011215799218081399,\n",
       "               0.011276525597717949,\n",
       "               0.011510272037742651,\n",
       "               0.011551661525849488,\n",
       "               0.011491654256432279,\n",
       "               0.011464184435588602,\n",
       "               0.011739594252114563,\n",
       "               0.011582370650131638,\n",
       "               0.011616905011668456,\n",
       "               0.01185187969009568,\n",
       "               0.011891259766063512,\n",
       "               0.012119522741442987,\n",
       "               0.012198702330873949,\n",
       "               0.01227670688677984,\n",
       "               0.012170455554207654,\n",
       "               0.01202376151250743,\n",
       "               0.012085140263042162,\n",
       "               0.011931756599802282,\n",
       "               0.012039628010557746,\n",
       "               0.012121464456302893,\n",
       "               0.012245911788723255,\n",
       "               0.01226861508007661,\n",
       "               0.01225769052968724,\n",
       "               0.012157161136383494,\n",
       "               0.012205020504155405,\n",
       "               0.012207366001583805,\n",
       "               0.012094047354145585,\n",
       "               0.01205634305690604,\n",
       "               0.011914485372897963,\n",
       "               0.01199441051137033,\n",
       "               0.011916284775276835,\n",
       "               0.012043878677547899,\n",
       "               0.011989848195609666,\n",
       "               0.012204244654959407,\n",
       "               0.012359123064767063,\n",
       "               0.012288516322553617,\n",
       "               0.012308856518701535,\n",
       "               0.01222629712113875,\n",
       "               0.01208468678038205,\n",
       "               0.012169065772964987,\n",
       "               0.012259152493946513,\n",
       "               0.01220252359434023,\n",
       "               0.012165711378726858,\n",
       "               0.012208525143031022,\n",
       "               0.012304377876266571,\n",
       "               0.012167922399152079,\n",
       "               0.012085587969691919,\n",
       "               0.01194773703149117,\n",
       "               0.012092375940557053,\n",
       "               0.012255012636332635,\n",
       "               0.012324061290574147,\n",
       "               0.012315025137879486,\n",
       "               0.012500414093290732,\n",
       "               0.012780975414712445,\n",
       "               0.012701975237796776,\n",
       "               0.012582764318349034,\n",
       "               0.012565572531986011,\n",
       "               0.012499846345612792,\n",
       "               0.012386844698385717,\n",
       "               0.012382637559819047,\n",
       "               0.012097626005974187,\n",
       "               0.012044289814476708,\n",
       "               0.012062936913084996,\n",
       "               0.012001117785080256,\n",
       "               0.011938370038897046,\n",
       "               0.011860907276739786,\n",
       "               0.011812013379336123,\n",
       "               0.011853431574268915,\n",
       "               0.011867401983562701,\n",
       "               0.011695693249270767,\n",
       "               0.011674237249104673,\n",
       "               0.011707083063028043,\n",
       "               0.011666803228408311,\n",
       "               0.011672239313893792,\n",
       "               0.011476409206769612,\n",
       "               0.01159374900328776,\n",
       "               0.011607217251767233,\n",
       "               0.011789743990740599,\n",
       "               0.011773903996471059,\n",
       "               0.011782250934641638,\n",
       "               0.011853439299668428,\n",
       "               0.011926625442029706,\n",
       "               0.011822133860851283,\n",
       "               0.01193881134294743,\n",
       "               0.011924486797011418,\n",
       "               0.01207418956653137,\n",
       "               0.012150081417748487,\n",
       "               0.012119489689363598,\n",
       "               0.011937226301603978,\n",
       "               0.011827232295744176,\n",
       "               0.011905207822251447,\n",
       "               0.012130560594401244,\n",
       "               0.012093951268288997,\n",
       "               0.012022913368515407,\n",
       "               0.012081232370282545,\n",
       "               0.012069281543933774,\n",
       "               0.012182173212229176,\n",
       "               0.0121843590791285,\n",
       "               0.011896775865449327,\n",
       "               0.01187795072650138,\n",
       "               0.01199082420985463,\n",
       "               0.011844310914789104,\n",
       "               0.011779438472160009,\n",
       "               0.011786044044455296,\n",
       "               0.011786811330256705,\n",
       "               0.011709311748207845,\n",
       "               0.011587570346369019,\n",
       "               0.011618914932585444,\n",
       "               0.011536218910529382,\n",
       "               0.01139759449917643,\n",
       "               0.011295344170481636,\n",
       "               0.011361337440112808,\n",
       "               0.011296719482025415,\n",
       "               0.011374311607868108,\n",
       "               0.011315290986076141,\n",
       "               0.01133766451859745,\n",
       "               0.011367533348496182,\n",
       "               0.011406556530204441,\n",
       "               0.011489168173339781,\n",
       "               0.011668288593140192,\n",
       "               0.011834374591566943,\n",
       "               0.011733274091231528,\n",
       "               0.01172169109002875,\n",
       "               0.0116126054491306,\n",
       "               0.011572125533850085,\n",
       "               0.011605253935371823,\n",
       "               0.011502326009657674,\n",
       "               0.011516908617078372,\n",
       "               0.011539193267628301,\n",
       "               0.011807255277931862,\n",
       "               0.011884934938564209,\n",
       "               0.011946716266267303,\n",
       "               0.011849504569077246,\n",
       "               0.011817124949897501,\n",
       "               0.011888070293078654,\n",
       "               0.011873833206142381,\n",
       "               0.011776257616182761,\n",
       "               0.011822961922123218,\n",
       "               0.011874908221402938,\n",
       "               0.011945194515777146,\n",
       "               0.011892711191306088,\n",
       "               0.011784104573553575,\n",
       "               0.011727569078708611,\n",
       "               0.011674415091264196,\n",
       "               0.011625518298084432,\n",
       "               0.011500076496592399,\n",
       "               0.011540625852813643,\n",
       "               0.011366153696943769,\n",
       "               0.011426564418869661,\n",
       "               0.011448125729147487,\n",
       "               0.01135260302751503,\n",
       "               0.01132901841605061,\n",
       "               0.01142665904187614,\n",
       "               0.011379882833195793,\n",
       "               0.011433340466138166,\n",
       "               0.011439424562319713,\n",
       "               0.011435188102136912,\n",
       "               0.01141170063877967,\n",
       "               0.011464730248054989,\n",
       "               0.011411689583245068,\n",
       "               0.011544855545509373,\n",
       "               0.011572993271694953,\n",
       "               0.01167411701656127,\n",
       "               0.011692937771940205,\n",
       "               0.011756706252929704,\n",
       "               0.011647889380119847,\n",
       "               0.011631852974038969,\n",
       "               0.01169590054191352,\n",
       "               0.011756149188702615,\n",
       "               0.011696484018893777,\n",
       "               0.011858402932070172,\n",
       "               0.012018086926758213,\n",
       "               0.012039238974506004,\n",
       "               0.011994909314057257,\n",
       "               0.011918944384634506,\n",
       "               0.012102816370008368,\n",
       "               0.012137860540069722,\n",
       "               0.012093370365918234,\n",
       "               0.0121109773419692,\n",
       "               0.012188384540740529,\n",
       "               0.012198312748046553,\n",
       "               0.012192649331657132,\n",
       "               0.012144550958860457,\n",
       "               0.012196793683724625,\n",
       "               0.012289178202989486,\n",
       "               0.01240322084349057],\n",
       "              'train-Logloss-mean': [0.669032210715951,\n",
       "               0.6495253186140606,\n",
       "               0.6285270488251017,\n",
       "               0.6108495668272559,\n",
       "               0.594546247733367,\n",
       "               0.5828934698760435,\n",
       "               0.5714839675247396,\n",
       "               0.5611400087905326,\n",
       "               0.5516825661992935,\n",
       "               0.5432469305037867,\n",
       "               0.536960948920162,\n",
       "               0.5300388307013177,\n",
       "               0.5223453055360373,\n",
       "               0.5167271472330407,\n",
       "               0.511254591350161,\n",
       "               0.5055674831393002,\n",
       "               0.5004162139565864,\n",
       "               0.4952613723927517,\n",
       "               0.49070102600058013,\n",
       "               0.4864264846370289,\n",
       "               0.4818978842628814,\n",
       "               0.47872265015031995,\n",
       "               0.47614343454027536,\n",
       "               0.47331522504753504,\n",
       "               0.47015897498796955,\n",
       "               0.4673125647033145,\n",
       "               0.46477366844814627,\n",
       "               0.4624271801181754,\n",
       "               0.4605291904417932,\n",
       "               0.4582097077566605,\n",
       "               0.45589819204163207,\n",
       "               0.4535954530110969,\n",
       "               0.4512682961161169,\n",
       "               0.44998689988530405,\n",
       "               0.44781080979973065,\n",
       "               0.44654018002775836,\n",
       "               0.4449768605199433,\n",
       "               0.4432249897603844,\n",
       "               0.44222857434601437,\n",
       "               0.44125690983074467,\n",
       "               0.44012322689118016,\n",
       "               0.43878062085925634,\n",
       "               0.4373999340356723,\n",
       "               0.436178904259563,\n",
       "               0.43519389922872803,\n",
       "               0.43387125274567967,\n",
       "               0.4330389872516654,\n",
       "               0.43225487842030885,\n",
       "               0.4315162418975305,\n",
       "               0.4306652785854039,\n",
       "               0.4297863714390744,\n",
       "               0.42872154185536376,\n",
       "               0.427884015680058,\n",
       "               0.4268434724976738,\n",
       "               0.42604592747716735,\n",
       "               0.4255506023434405,\n",
       "               0.42493907301044925,\n",
       "               0.424358689400218,\n",
       "               0.42381758684181386,\n",
       "               0.4231615941503895,\n",
       "               0.4224113041245276,\n",
       "               0.42182950272131103,\n",
       "               0.4212160360248652,\n",
       "               0.42055609692681556,\n",
       "               0.4200335007147234,\n",
       "               0.4192654809020115,\n",
       "               0.4186057111089357,\n",
       "               0.4180314064094839,\n",
       "               0.4175178814416422,\n",
       "               0.416733578954009,\n",
       "               0.41616515072742355,\n",
       "               0.4156793919525357,\n",
       "               0.41529319776052304,\n",
       "               0.4149564616389187,\n",
       "               0.4144875568077719,\n",
       "               0.41392631260634277,\n",
       "               0.4135551294442437,\n",
       "               0.41301970191296294,\n",
       "               0.41251181519770946,\n",
       "               0.4121953378101182,\n",
       "               0.41179751090405503,\n",
       "               0.41124135284871843,\n",
       "               0.41083962335802765,\n",
       "               0.4103380508742602,\n",
       "               0.40990104315623704,\n",
       "               0.4095764769465324,\n",
       "               0.4092632309904765,\n",
       "               0.4088894988719631,\n",
       "               0.40862263254463566,\n",
       "               0.40812346268678557,\n",
       "               0.4076995989519394,\n",
       "               0.40744213684191893,\n",
       "               0.4070508148991379,\n",
       "               0.4067607166247793,\n",
       "               0.4063472301081487,\n",
       "               0.4061225053114759,\n",
       "               0.40561771173303823,\n",
       "               0.40515603629035013,\n",
       "               0.40481641876187213,\n",
       "               0.40451488818412984,\n",
       "               0.40407794093008187,\n",
       "               0.40356336654100744,\n",
       "               0.4033441265532443,\n",
       "               0.4029402339106336,\n",
       "               0.4025356735916977,\n",
       "               0.40221872648377177,\n",
       "               0.40181421033116044,\n",
       "               0.4014419802277154,\n",
       "               0.4011158798958583,\n",
       "               0.40090395440236737,\n",
       "               0.4007266468461932,\n",
       "               0.4004358397910645,\n",
       "               0.4002429974938888,\n",
       "               0.3999561665275611,\n",
       "               0.3996402655581151,\n",
       "               0.399359182952893,\n",
       "               0.3989090923260119,\n",
       "               0.3986916008399592,\n",
       "               0.39837982391833693,\n",
       "               0.39801640683257644,\n",
       "               0.3976666229858093,\n",
       "               0.39728935312303243,\n",
       "               0.3971049633210491,\n",
       "               0.39677104024190396,\n",
       "               0.3964565409284713,\n",
       "               0.3961720696932067,\n",
       "               0.3959603549925894,\n",
       "               0.3956111983034753,\n",
       "               0.39534754879249845,\n",
       "               0.3950968914775969,\n",
       "               0.3948320312404226,\n",
       "               0.3944508989437032,\n",
       "               0.3941783459681103,\n",
       "               0.39387812528141136,\n",
       "               0.39356768589492774,\n",
       "               0.3933649451519698,\n",
       "               0.3931203548415782,\n",
       "               0.39281439275281854,\n",
       "               0.39252943249766686,\n",
       "               0.3922946260356299,\n",
       "               0.3921012739023502,\n",
       "               0.3919203754583127,\n",
       "               0.3916020492251638,\n",
       "               0.39143112517254514,\n",
       "               0.39122530815792483,\n",
       "               0.3909241525503584,\n",
       "               0.39072024165408265,\n",
       "               0.39047463822394546,\n",
       "               0.39015263681061013,\n",
       "               0.3898929353273423,\n",
       "               0.3895819637985876,\n",
       "               0.38932584110710394,\n",
       "               0.38907945155478707,\n",
       "               0.3888774089680984,\n",
       "               0.3885901747917824,\n",
       "               0.38841040161701385,\n",
       "               0.3881818742825165,\n",
       "               0.3879940034579954,\n",
       "               0.3876950569276619,\n",
       "               0.3874119061558996,\n",
       "               0.3872400447015949,\n",
       "               0.3869886131192007,\n",
       "               0.3866757693854072,\n",
       "               0.38635419211874744,\n",
       "               0.38614395230362647,\n",
       "               0.3859223533079214,\n",
       "               0.38560080029848726,\n",
       "               0.385201943168662,\n",
       "               0.38494722417201194,\n",
       "               0.384682304992638,\n",
       "               0.38449824185222853,\n",
       "               0.38433901877581444,\n",
       "               0.3841001950623227,\n",
       "               0.3838242063129503,\n",
       "               0.3835512667694128,\n",
       "               0.383272751231444,\n",
       "               0.38299994819297617,\n",
       "               0.38272909334020494,\n",
       "               0.38252379459077296,\n",
       "               0.38226599476041256,\n",
       "               0.3819923142705994,\n",
       "               0.38174682753479544,\n",
       "               0.38147719943541464,\n",
       "               0.3812180463656804,\n",
       "               0.3809739562148926,\n",
       "               0.3807801963970623,\n",
       "               0.3805697351455026,\n",
       "               0.38032816150422977,\n",
       "               0.3800205365270717,\n",
       "               0.3797328296693301,\n",
       "               0.3795585212114639,\n",
       "               0.37931736698991925,\n",
       "               0.3790463360021392,\n",
       "               0.3788191259926121,\n",
       "               0.3785816011323678,\n",
       "               0.37835645588806704,\n",
       "               0.3780512759748588,\n",
       "               0.37776653291471063,\n",
       "               0.37744337423792773,\n",
       "               0.37716309129489445,\n",
       "               0.3769105793061888,\n",
       "               0.3765870905114191,\n",
       "               0.37628449157170324,\n",
       "               0.3758809367570877,\n",
       "               0.3755923030445852,\n",
       "               0.37531134365912805,\n",
       "               0.37502246032985503,\n",
       "               0.3746807369529581,\n",
       "               0.37446460290756917,\n",
       "               0.37422506777902004,\n",
       "               0.374013517443349,\n",
       "               0.37379219065946456,\n",
       "               0.3735314038607392,\n",
       "               0.37330680734797045,\n",
       "               0.37308220875800746,\n",
       "               0.37282292481655843,\n",
       "               0.3726034247946403,\n",
       "               0.37237329112242085,\n",
       "               0.37209873795759796,\n",
       "               0.37189032103978414,\n",
       "               0.3715016359664565,\n",
       "               0.37129300830037665,\n",
       "               0.37108941378116933,\n",
       "               0.3707452916813319,\n",
       "               0.3705079371311217,\n",
       "               0.3703290862944821,\n",
       "               0.37013308447630133,\n",
       "               0.36987364854077986,\n",
       "               0.36969587670806253,\n",
       "               0.3694181423642082,\n",
       "               0.3691886287631036,\n",
       "               0.36891504614213,\n",
       "               0.36863554726042197,\n",
       "               0.368430451679514,\n",
       "               0.3682048235689821,\n",
       "               0.36794596208790553,\n",
       "               0.36765946072532013,\n",
       "               0.36745572951601835,\n",
       "               0.3671907815049826,\n",
       "               0.3669196300955546,\n",
       "               0.36675653353750887,\n",
       "               0.36651864597478107,\n",
       "               0.3662961839375856,\n",
       "               0.3660269393026887,\n",
       "               0.36576082692975675,\n",
       "               0.3654927111302486,\n",
       "               0.3651874078597582,\n",
       "               0.3648575727960987,\n",
       "               0.3646478974814742,\n",
       "               0.36439219691237873,\n",
       "               0.36418044278279904,\n",
       "               0.3639691097207766,\n",
       "               0.3637605629430472,\n",
       "               0.36348775694314983,\n",
       "               0.36332243745966614,\n",
       "               0.3630757758220464,\n",
       "               0.36283929199347703,\n",
       "               0.36260265391362334,\n",
       "               0.362395084171788,\n",
       "               0.3621479854679448,\n",
       "               0.3619713558562254,\n",
       "               0.3617494691167271,\n",
       "               0.36150383150651666,\n",
       "               0.3612907547175766,\n",
       "               0.36108389972566085,\n",
       "               0.3608740794584251,\n",
       "               0.36054459876060596,\n",
       "               0.36022842533847516,\n",
       "               0.3599817802404099,\n",
       "               0.35973047447616907,\n",
       "               0.3594732166296006,\n",
       "               0.35924527466232664,\n",
       "               0.3590295641587821,\n",
       "               0.3588536562797615,\n",
       "               0.35860643503090506,\n",
       "               0.3583917884507198,\n",
       "               0.35819846143336664,\n",
       "               0.3579753763374824,\n",
       "               0.35775321507484703,\n",
       "               0.35751705581963616,\n",
       "               0.3572416773206693,\n",
       "               0.3570024040429551,\n",
       "               0.35676600034227696,\n",
       "               0.3565579920106428,\n",
       "               0.3563666040083375,\n",
       "               0.3561628720066003,\n",
       "               0.3559797966917986,\n",
       "               0.35572374377686405,\n",
       "               0.35548291014457817,\n",
       "               0.35527710110275584,\n",
       "               0.3551088659223969,\n",
       "               0.35487261545788745,\n",
       "               0.3546693704404061,\n",
       "               0.35445173347713127,\n",
       "               0.3542621059498227,\n",
       "               0.3540410193207735,\n",
       "               0.35382440259789577,\n",
       "               0.35365026533215094,\n",
       "               0.3533922720126024,\n",
       "               0.35318536052582705],\n",
       "              'train-Logloss-std': [0.0008598373201550556,\n",
       "               0.000649956523280156,\n",
       "               0.0004948243380292387,\n",
       "               0.0017366418698193497,\n",
       "               0.0021827118196141608,\n",
       "               0.0025938862452214643,\n",
       "               0.003205991397661703,\n",
       "               0.0023132604149446513,\n",
       "               0.003056636519722665,\n",
       "               0.0030570447500689207,\n",
       "               0.0037896850827285854,\n",
       "               0.004023406385820999,\n",
       "               0.003918451696489349,\n",
       "               0.003761300417188738,\n",
       "               0.00387237058491244,\n",
       "               0.0032234171264686586,\n",
       "               0.0027601820157758658,\n",
       "               0.0026893413380993025,\n",
       "               0.002211152842180668,\n",
       "               0.0027679016066748385,\n",
       "               0.003738738902278413,\n",
       "               0.004219105737226663,\n",
       "               0.0036426475895925577,\n",
       "               0.003396689523490947,\n",
       "               0.00444123887808422,\n",
       "               0.004322919264376645,\n",
       "               0.004008885858929461,\n",
       "               0.003844069453612085,\n",
       "               0.0040123288778298885,\n",
       "               0.00471116171089974,\n",
       "               0.005299817996120515,\n",
       "               0.005349130743304878,\n",
       "               0.005540552810142482,\n",
       "               0.005312337392297966,\n",
       "               0.005314559295854702,\n",
       "               0.005327225485847007,\n",
       "               0.005354060053340867,\n",
       "               0.0057827050890475636,\n",
       "               0.00562556185810345,\n",
       "               0.005929975703054479,\n",
       "               0.006044061631730671,\n",
       "               0.00589121773864904,\n",
       "               0.006232648372103488,\n",
       "               0.0064044247023162006,\n",
       "               0.006670102817336018,\n",
       "               0.00668245503423476,\n",
       "               0.006673484140352829,\n",
       "               0.0066066801869040445,\n",
       "               0.006731978286714814,\n",
       "               0.006516957510441322,\n",
       "               0.006217751703974802,\n",
       "               0.005900704538395834,\n",
       "               0.00562649602054997,\n",
       "               0.005363455064227994,\n",
       "               0.0052134595852652305,\n",
       "               0.00522816290056084,\n",
       "               0.005538888493682126,\n",
       "               0.005611300906791239,\n",
       "               0.005771691528360205,\n",
       "               0.0059300040147355106,\n",
       "               0.005719799366958446,\n",
       "               0.005635734306829157,\n",
       "               0.005448929794098831,\n",
       "               0.005629473088466172,\n",
       "               0.005486778502717631,\n",
       "               0.005224480776669517,\n",
       "               0.005219734600109509,\n",
       "               0.005347500847027314,\n",
       "               0.005364113484759508,\n",
       "               0.005234357905375167,\n",
       "               0.00542632244106624,\n",
       "               0.005187707231377834,\n",
       "               0.005186720374960421,\n",
       "               0.005169619675090452,\n",
       "               0.005148896500146398,\n",
       "               0.0055931335513948865,\n",
       "               0.005660709078622996,\n",
       "               0.00570803159637939,\n",
       "               0.0057145656867487815,\n",
       "               0.005613072206044371,\n",
       "               0.0056834616600733865,\n",
       "               0.0059827811083943624,\n",
       "               0.006084934715774292,\n",
       "               0.006300507470349627,\n",
       "               0.006297496318168347,\n",
       "               0.006130359589197803,\n",
       "               0.0062627564462780375,\n",
       "               0.006153376435589832,\n",
       "               0.006246851236724747,\n",
       "               0.00595400687656037,\n",
       "               0.006019069977103353,\n",
       "               0.006009780403498018,\n",
       "               0.006027583935287007,\n",
       "               0.006007051505227111,\n",
       "               0.006244477021824735,\n",
       "               0.006181879398719134,\n",
       "               0.00635965877583319,\n",
       "               0.006375824366812538,\n",
       "               0.006506132744923765,\n",
       "               0.006488877314676074,\n",
       "               0.006517011094279999,\n",
       "               0.006563044842090383,\n",
       "               0.006471673124880069,\n",
       "               0.006379602292308109,\n",
       "               0.0064747778147200945,\n",
       "               0.006301932352122632,\n",
       "               0.006325963844296833,\n",
       "               0.006289472012478928,\n",
       "               0.00616731955285188,\n",
       "               0.006146277195549515,\n",
       "               0.0061634571463874,\n",
       "               0.006037637728920038,\n",
       "               0.006026549162830065,\n",
       "               0.006077899296255321,\n",
       "               0.006206982756544733,\n",
       "               0.006163750738099807,\n",
       "               0.006052408257713993,\n",
       "               0.006067503932830088,\n",
       "               0.006125601088196839,\n",
       "               0.006072308083353695,\n",
       "               0.005948850955543662,\n",
       "               0.006126106775143047,\n",
       "               0.006100143661101815,\n",
       "               0.0060869046682062635,\n",
       "               0.006158108876541215,\n",
       "               0.006093099276376165,\n",
       "               0.006130143967533188,\n",
       "               0.006226933546508512,\n",
       "               0.006213910873796048,\n",
       "               0.006272274882095742,\n",
       "               0.006207730442982551,\n",
       "               0.006167736541737756,\n",
       "               0.006204237039944988,\n",
       "               0.006123433921551521,\n",
       "               0.0061563698508366686,\n",
       "               0.006168234414250162,\n",
       "               0.006177188135280103,\n",
       "               0.006190652539400312,\n",
       "               0.006224779981972602,\n",
       "               0.0061638515264067,\n",
       "               0.006177653931036922,\n",
       "               0.006179081760497157,\n",
       "               0.006346844107818924,\n",
       "               0.006479269927146777,\n",
       "               0.006461740279059441,\n",
       "               0.006348484472489621,\n",
       "               0.006364925605997715,\n",
       "               0.006442990558888574,\n",
       "               0.0065696788650325974,\n",
       "               0.006663153111321839,\n",
       "               0.006620633694672555,\n",
       "               0.00648499953438153,\n",
       "               0.006495722629807755,\n",
       "               0.006541393599594838,\n",
       "               0.006428576096522462,\n",
       "               0.006458186479371524,\n",
       "               0.006502418063717081,\n",
       "               0.006499359066584262,\n",
       "               0.006463751148338933,\n",
       "               0.006296624238435489,\n",
       "               0.0063374834596223485,\n",
       "               0.006387342329829822,\n",
       "               0.006409878973228596,\n",
       "               0.006407152341308317,\n",
       "               0.006392974776848259,\n",
       "               0.006335162469903481,\n",
       "               0.006272353397767525,\n",
       "               0.006257766679354036,\n",
       "               0.006276368880161663,\n",
       "               0.006362783726973922,\n",
       "               0.0062674355047285055,\n",
       "               0.006269286641761735,\n",
       "               0.006289880914458544,\n",
       "               0.006379487390834449,\n",
       "               0.0064661697201347105,\n",
       "               0.006444875176910473,\n",
       "               0.00643314618025741,\n",
       "               0.00643077447553558,\n",
       "               0.00642867092789202,\n",
       "               0.0063693920661615664,\n",
       "               0.006410863871868001,\n",
       "               0.006310783687614992,\n",
       "               0.006212698662944121,\n",
       "               0.006297863705918302,\n",
       "               0.0062664559050894355,\n",
       "               0.006270343075339435,\n",
       "               0.006268400372793048,\n",
       "               0.0062175868456448066,\n",
       "               0.006251243090115346,\n",
       "               0.006156130546019673,\n",
       "               0.006118564290319488,\n",
       "               0.0060875232388152645,\n",
       "               0.006033477200212695,\n",
       "               0.0059769708422694,\n",
       "               0.006003668715768923,\n",
       "               0.00596382784855965,\n",
       "               0.005895121497698469,\n",
       "               0.005926454190040805,\n",
       "               0.00596469866378351,\n",
       "               0.006001168269943232,\n",
       "               0.006076501526309675,\n",
       "               0.006090772270119198,\n",
       "               0.0060979605247942804,\n",
       "               0.006310024321338927,\n",
       "               0.006276102015803963,\n",
       "               0.006271177983324245,\n",
       "               0.006257675650593553,\n",
       "               0.0061394398009728,\n",
       "               0.006168313730653061,\n",
       "               0.006222839248212343,\n",
       "               0.0061628633343533135,\n",
       "               0.006214645156982747,\n",
       "               0.006151571215116033,\n",
       "               0.0061792265448727445,\n",
       "               0.006203615842164511,\n",
       "               0.0061568019274846125,\n",
       "               0.006156118983681354,\n",
       "               0.006153593282158824,\n",
       "               0.006108811187178648,\n",
       "               0.00606399671367443,\n",
       "               0.006251395570879648,\n",
       "               0.0062035684491121915,\n",
       "               0.006191981172846826,\n",
       "               0.00628070883294616,\n",
       "               0.006271793209798082,\n",
       "               0.006248515326164966,\n",
       "               0.006252223534672112,\n",
       "               0.006215269268104677,\n",
       "               0.006205297538575287,\n",
       "               0.006232996862946176,\n",
       "               0.006140720981518331,\n",
       "               0.0061371888925641225,\n",
       "               0.006095108909327754,\n",
       "               0.006065424084220242,\n",
       "               0.00610844186651016,\n",
       "               0.006077358630490565,\n",
       "               0.006062230646783128,\n",
       "               0.006044991334224103,\n",
       "               0.006022225571142577,\n",
       "               0.00605671377605131,\n",
       "               0.006064855893488761,\n",
       "               0.006154060398495952,\n",
       "               0.006136413748815401,\n",
       "               0.0060799511016776985,\n",
       "               0.006061824067954507,\n",
       "               0.006110819568032609,\n",
       "               0.006181124322263962,\n",
       "               0.00612255495284827,\n",
       "               0.006158288109610529,\n",
       "               0.0061668540754731506,\n",
       "               0.006118828894731062,\n",
       "               0.006079440435111413,\n",
       "               0.006029187008064139,\n",
       "               0.0059821550025534655,\n",
       "               0.005973310074336418,\n",
       "               0.005962170582709267,\n",
       "               0.005929827014137274,\n",
       "               0.0058372295476447405,\n",
       "               0.005812512750853589,\n",
       "               0.005954136130248775,\n",
       "               0.005959714170260829,\n",
       "               0.006024869525994487,\n",
       "               0.006026144731087104,\n",
       "               0.006016346468611746,\n",
       "               0.005988088383222878,\n",
       "               0.005959353714563556,\n",
       "               0.00602972912021138,\n",
       "               0.006074870253750654,\n",
       "               0.006121364134192912,\n",
       "               0.006110128696548226,\n",
       "               0.006083556666256849,\n",
       "               0.006107018779373336,\n",
       "               0.006166913611664717,\n",
       "               0.0061348704628490765,\n",
       "               0.00612351835231794,\n",
       "               0.006128893881764198,\n",
       "               0.006139767277328216,\n",
       "               0.006163788254659564,\n",
       "               0.006111349079924886,\n",
       "               0.0061978220827043715,\n",
       "               0.006142334938891685,\n",
       "               0.006088038640474297,\n",
       "               0.006034624295971122,\n",
       "               0.005988359072064306,\n",
       "               0.005939201433818141,\n",
       "               0.005952988029279159,\n",
       "               0.005953764335223603,\n",
       "               0.005987033125902646,\n",
       "               0.006022390401603473,\n",
       "               0.005989519520252239,\n",
       "               0.005979117988437419,\n",
       "               0.006077539998966184,\n",
       "               0.006139862724932255,\n",
       "               0.006189986390969871,\n",
       "               0.006140274496881455,\n",
       "               0.006087544282065619,\n",
       "               0.006063648814944706,\n",
       "               0.006071075362391854,\n",
       "               0.006134504370609514,\n",
       "               0.006215784785884385]})}"
      ]
     },
     "execution_count": 72,
     "metadata": {},
     "output_type": "execute_result"
    }
   ],
   "source": [
    "model_selection.grid_search(parameters, X=X_train_valid, y=y_train_valid, partition_random_seed=22)"
   ]
  },
  {
   "cell_type": "code",
   "execution_count": 73,
   "metadata": {
    "scrolled": true
   },
   "outputs": [
    {
     "data": {
      "text/plain": [
       "{'silent': True,\n",
       " 'auto_class_weights': 'SqrtBalanced',\n",
       " 'random_state': 22,\n",
       " 'depth': 4,\n",
       " 'l2_leaf_reg': 1,\n",
       " 'iterations': 300,\n",
       " 'learning_rate': 0.05}"
      ]
     },
     "execution_count": 73,
     "metadata": {},
     "output_type": "execute_result"
    }
   ],
   "source": [
    "model_selection.get_params()"
   ]
  },
  {
   "cell_type": "markdown",
   "metadata": {},
   "source": [
    "Лучшие параметры модели depth = 4, l2_leaf_reg = 1, iterations = 300, learning_rate = 0.05.\n",
    "\n",
    "Cоздадим модель с подобранными параметрами вручную и проверим ее качество."
   ]
  },
  {
   "cell_type": "code",
   "execution_count": 74,
   "metadata": {},
   "outputs": [],
   "source": [
    "final_model = CatBoostClassifier(depth=4,\n",
    "                                 l2_leaf_reg=1,\n",
    "                                 iterations=300,\n",
    "                                 learning_rate=0.05,\n",
    "                                 silent=True, \n",
    "                                 random_state=22, \n",
    "                                 auto_class_weights=\"SqrtBalanced\")"
   ]
  },
  {
   "cell_type": "code",
   "execution_count": 75,
   "metadata": {},
   "outputs": [
    {
     "data": {
      "text/plain": [
       "<catboost.core.CatBoostClassifier at 0x7fd72205b910>"
      ]
     },
     "execution_count": 75,
     "metadata": {},
     "output_type": "execute_result"
    }
   ],
   "source": [
    "final_model.fit(X_train_valid, y_train_valid)"
   ]
  },
  {
   "cell_type": "code",
   "execution_count": 76,
   "metadata": {},
   "outputs": [
    {
     "name": "stdout",
     "output_type": "stream",
     "text": [
      "Результаты (f1-score) модели на трейне: 0.675\n",
      "Результаты (AUC ROC) модели на трейне: 0.902\n",
      "____________________________________________________________\n",
      "              precision    recall  f1-score   support\n",
      "\n",
      "           0       0.91      0.93      0.92      6330\n",
      "           1       0.70      0.66      0.68      1619\n",
      "\n",
      "    accuracy                           0.87      7949\n",
      "   macro avg       0.80      0.79      0.80      7949\n",
      "weighted avg       0.87      0.87      0.87      7949\n",
      "\n"
     ]
    }
   ],
   "source": [
    "final_model_valid_predictions_for_f1 = final_model.predict(X_train_valid)\n",
    "final_model_valid_predictions = final_model.predict_proba(X_train_valid)[:, 1]\n",
    "f1 = f1_score(y_train_valid, final_model_valid_predictions_for_f1)\n",
    "auc_roc_score = roc_auc_score(y_train_valid, final_model_valid_predictions)\n",
    "print(f'Результаты (f1-score) модели на трейне: {f1:.3f}')\n",
    "print(f'Результаты (AUC ROC) модели на трейне: {auc_roc_score:.3f}')\n",
    "print(60 * '_')\n",
    "print(classification_report(y_train_valid, final_model_valid_predictions_for_f1))"
   ]
  },
  {
   "cell_type": "markdown",
   "metadata": {},
   "source": [
    "Построим ROC-кривую для финальной модели"
   ]
  },
  {
   "cell_type": "code",
   "execution_count": 77,
   "metadata": {},
   "outputs": [
    {
     "data": {
      "image/png": "[encoded data removed]",
      "text/plain": [
       "<Figure size 432x288 with 1 Axes>"
      ]
     },
     "metadata": {
      "needs_background": "light"
     },
     "output_type": "display_data"
    }
   ],
   "source": [
    "plot_roc_curve(final_model, X_train_valid, y_train_valid, name='ROC-кривая для финальной модели');"
   ]
  },
  {
   "cell_type": "markdown",
   "metadata": {},
   "source": [
    "Модель с подобранными гиперпараметрами на объединенной тренировочной и валидационной выборке дала высокий результат по F1-score, с достаточно высокой метрикой AUC ROC (0.675 и 0.902 соответственно).\n",
    "\n",
    "Проведем финальное тестирование модели. Подбор порога производить не будем из-за устранения дисбаланса классов (он должен быть близок к 0.5)."
   ]
  },
  {
   "cell_type": "markdown",
   "metadata": {},
   "source": [
    "### Вывод по разделу"
   ]
  },
  {
   "cell_type": "markdown",
   "metadata": {},
   "source": [
    "Мы рассмотрели три варианта работы с дисбалансом классов: \n",
    "- oversampling;\n",
    "- undersampling;\n",
    "- установку весов классов в качестве гиперпараметра модели.\n",
    "\n",
    "Для каждого из методов мы оценили метрики F1-score и AUC ROC для валидационной выборки и пришли к выводу, что оптимальной является подход борьбы с дисбалансом с помощью установки весов классов в качестве гиперпараметра модели. После сделанного вывода мы провели подбор гиперпараметров модели на объединенной (тренировочной и валидационной выборках)."
   ]
  },
  {
   "cell_type": "markdown",
   "metadata": {},
   "source": [
    "## Тестирование модели"
   ]
  },
  {
   "cell_type": "markdown",
   "metadata": {},
   "source": [
    "В предыдущих разделах мы подобрали оптимальную модель и ее гиперпараметры, что позволило получить 0.675 F1-score на объединенной тренировочной и валидационной выборках. Проверим результаты на тестовой выборке. "
   ]
  },
  {
   "cell_type": "code",
   "execution_count": 78,
   "metadata": {},
   "outputs": [
    {
     "name": "stdout",
     "output_type": "stream",
     "text": [
      "Результат на тестовой выборке (F1-score): 0.651, AUC-ROC: 0.870\n"
     ]
    }
   ],
   "source": [
    "# оставляем порог в 0.5, поскольку его подбор не потребовался\n",
    "threshold = 0.5\n",
    "probabilities_predict = final_model.predict_proba(X_test)\n",
    "probabilities_predict_one = probabilities_predict[:, 1]\n",
    "predicted_test = (probabilities_predict_one > threshold) * 1\n",
    "f1 = f1_score(y_test, predicted_test)\n",
    "auc_roc = roc_auc_score(y_test, probabilities_predict_one)\n",
    "print(f'Результат на тестовой выборке (F1-score): {f1:.3f}, AUC-ROC: {auc_roc:.3f}')"
   ]
  },
  {
   "cell_type": "markdown",
   "metadata": {},
   "source": [
    "___\n",
    "На тестовой выборке благодаря подбору гиперпараметров и обучению модели на объединенной тренировочной и валидационной выборках нам удалось получить самый высокий результат, который, в том числе, существенно выше границы, установленной заданием.\n",
    "\n",
    "Финальные метрики:\n",
    "1. F1-score: 0.651\n",
    "2. AUC ROC: 0.87."
   ]
  }
 ],
 "metadata": {
  "ExecuteTimeLog": [
   {
    "duration": 415,
    "start_time": "2022-04-12T06:59:02.705Z"
   },
   {
    "duration": 27,
    "start_time": "2022-04-12T06:59:47.718Z"
   },
   {
    "duration": 30,
    "start_time": "2022-04-12T06:59:52.590Z"
   },
   {
    "duration": 121,
    "start_time": "2022-04-12T07:00:04.663Z"
   },
   {
    "duration": 26,
    "start_time": "2022-04-12T07:00:08.717Z"
   },
   {
    "duration": 26,
    "start_time": "2022-04-12T07:00:10.428Z"
   },
   {
    "duration": 26,
    "start_time": "2022-04-12T07:00:57.901Z"
   },
   {
    "duration": 20,
    "start_time": "2022-04-12T07:00:58.309Z"
   },
   {
    "duration": 26,
    "start_time": "2022-04-12T07:00:59.254Z"
   },
   {
    "duration": 4,
    "start_time": "2022-04-12T07:01:03.517Z"
   },
   {
    "duration": 6,
    "start_time": "2022-04-12T07:01:13.655Z"
   },
   {
    "duration": 5,
    "start_time": "2022-04-12T07:01:16.021Z"
   },
   {
    "duration": 5,
    "start_time": "2022-04-12T07:01:22.356Z"
   },
   {
    "duration": 24,
    "start_time": "2022-04-12T07:02:38.221Z"
   },
   {
    "duration": 22,
    "start_time": "2022-04-12T07:02:38.636Z"
   },
   {
    "duration": 31,
    "start_time": "2022-04-12T07:02:39.773Z"
   },
   {
    "duration": 14,
    "start_time": "2022-04-12T07:03:21.188Z"
   },
   {
    "duration": 1592,
    "start_time": "2022-04-13T16:26:59.450Z"
   },
   {
    "duration": 39,
    "start_time": "2022-04-13T16:27:01.074Z"
   },
   {
    "duration": 13,
    "start_time": "2022-04-13T16:27:03.004Z"
   },
   {
    "duration": 44,
    "start_time": "2022-04-13T16:31:36.012Z"
   },
   {
    "duration": 33,
    "start_time": "2022-04-13T16:38:13.762Z"
   },
   {
    "duration": 13,
    "start_time": "2022-04-13T16:48:48.317Z"
   },
   {
    "duration": 12,
    "start_time": "2022-04-13T16:50:21.302Z"
   },
   {
    "duration": 11,
    "start_time": "2022-04-13T16:50:27.213Z"
   },
   {
    "duration": 177,
    "start_time": "2022-04-13T16:53:46.277Z"
   },
   {
    "duration": 140,
    "start_time": "2022-04-13T16:54:01.153Z"
   },
   {
    "duration": 78,
    "start_time": "2022-04-13T16:54:15.332Z"
   },
   {
    "duration": 96,
    "start_time": "2022-04-13T16:54:20.527Z"
   },
   {
    "duration": 163,
    "start_time": "2022-04-13T16:54:44.024Z"
   },
   {
    "duration": 147,
    "start_time": "2022-04-13T16:55:19.731Z"
   },
   {
    "duration": 147,
    "start_time": "2022-04-13T16:55:29.108Z"
   },
   {
    "duration": 93,
    "start_time": "2022-04-13T16:55:33.400Z"
   },
   {
    "duration": 163,
    "start_time": "2022-04-13T16:56:58.795Z"
   },
   {
    "duration": 88,
    "start_time": "2022-04-13T16:57:04.207Z"
   },
   {
    "duration": 17,
    "start_time": "2022-04-13T16:57:19.191Z"
   },
   {
    "duration": 85,
    "start_time": "2022-04-13T16:57:25.381Z"
   },
   {
    "duration": 16,
    "start_time": "2022-04-13T16:57:49.073Z"
   },
   {
    "duration": 195,
    "start_time": "2022-04-13T16:57:55.627Z"
   },
   {
    "duration": 81,
    "start_time": "2022-04-13T16:57:58.802Z"
   },
   {
    "duration": 82,
    "start_time": "2022-04-13T16:58:02.674Z"
   },
   {
    "duration": 120,
    "start_time": "2022-04-13T16:59:02.513Z"
   },
   {
    "duration": 116,
    "start_time": "2022-04-13T16:59:12.215Z"
   },
   {
    "duration": 127,
    "start_time": "2022-04-13T16:59:17.310Z"
   },
   {
    "duration": 141,
    "start_time": "2022-04-13T16:59:22.332Z"
   },
   {
    "duration": 121,
    "start_time": "2022-04-13T16:59:27.560Z"
   },
   {
    "duration": 175,
    "start_time": "2022-04-13T17:00:55.293Z"
   },
   {
    "duration": 106,
    "start_time": "2022-04-13T17:01:34.325Z"
   },
   {
    "duration": 95,
    "start_time": "2022-04-13T17:01:39.349Z"
   },
   {
    "duration": 94,
    "start_time": "2022-04-13T17:02:08.243Z"
   },
   {
    "duration": 125,
    "start_time": "2022-04-13T17:02:32.970Z"
   },
   {
    "duration": 117,
    "start_time": "2022-04-13T17:02:39.410Z"
   },
   {
    "duration": 116,
    "start_time": "2022-04-13T17:02:42.905Z"
   },
   {
    "duration": 169,
    "start_time": "2022-04-13T17:02:46.508Z"
   },
   {
    "duration": 18,
    "start_time": "2022-04-13T17:04:01.432Z"
   },
   {
    "duration": 6,
    "start_time": "2022-04-13T17:05:57.718Z"
   },
   {
    "duration": 115,
    "start_time": "2022-04-13T17:09:37.345Z"
   },
   {
    "duration": 4,
    "start_time": "2022-04-13T17:18:51.126Z"
   },
   {
    "duration": 4,
    "start_time": "2022-04-13T17:18:57.291Z"
   },
   {
    "duration": 188,
    "start_time": "2022-04-13T17:19:12.393Z"
   },
   {
    "duration": 5,
    "start_time": "2022-04-13T17:19:38.110Z"
   },
   {
    "duration": 5,
    "start_time": "2022-04-13T17:20:20.500Z"
   },
   {
    "duration": 4,
    "start_time": "2022-04-13T17:24:55.015Z"
   },
   {
    "duration": 4,
    "start_time": "2022-04-13T17:25:38.972Z"
   },
   {
    "duration": 13,
    "start_time": "2022-04-13T17:25:45.304Z"
   },
   {
    "duration": 4,
    "start_time": "2022-04-13T17:26:50.699Z"
   },
   {
    "duration": 11,
    "start_time": "2022-04-13T17:26:51.334Z"
   },
   {
    "duration": 4,
    "start_time": "2022-04-13T17:28:57.081Z"
   },
   {
    "duration": 3,
    "start_time": "2022-04-13T17:28:57.610Z"
   },
   {
    "duration": 3,
    "start_time": "2022-04-13T17:30:48.478Z"
   },
   {
    "duration": 5,
    "start_time": "2022-04-13T17:32:20.289Z"
   },
   {
    "duration": 4,
    "start_time": "2022-04-13T17:33:21.156Z"
   },
   {
    "duration": 3,
    "start_time": "2022-04-13T17:34:01.840Z"
   },
   {
    "duration": 4,
    "start_time": "2022-04-13T17:34:10.856Z"
   },
   {
    "duration": 3,
    "start_time": "2022-04-13T17:34:18.281Z"
   },
   {
    "duration": 4,
    "start_time": "2022-04-13T17:34:19.453Z"
   },
   {
    "duration": 4,
    "start_time": "2022-04-13T17:35:49.650Z"
   },
   {
    "duration": 3,
    "start_time": "2022-04-13T17:36:01.129Z"
   },
   {
    "duration": 3,
    "start_time": "2022-04-13T17:36:12.509Z"
   },
   {
    "duration": 11,
    "start_time": "2022-04-13T17:36:30.657Z"
   },
   {
    "duration": 4,
    "start_time": "2022-04-13T17:38:01.567Z"
   },
   {
    "duration": 5,
    "start_time": "2022-04-13T17:38:14.206Z"
   },
   {
    "duration": 11,
    "start_time": "2022-04-13T17:38:45.115Z"
   },
   {
    "duration": 758,
    "start_time": "2022-04-14T05:24:42.108Z"
   },
   {
    "duration": 27,
    "start_time": "2022-04-14T05:24:46.156Z"
   },
   {
    "duration": 4,
    "start_time": "2022-04-14T05:24:46.988Z"
   },
   {
    "duration": 12,
    "start_time": "2022-04-14T05:24:51.940Z"
   },
   {
    "duration": 38,
    "start_time": "2022-04-14T05:25:17.515Z"
   },
   {
    "duration": 19,
    "start_time": "2022-04-14T05:25:53.900Z"
   },
   {
    "duration": 11,
    "start_time": "2022-04-14T05:27:11.434Z"
   },
   {
    "duration": 12,
    "start_time": "2022-04-14T05:27:21.409Z"
   },
   {
    "duration": 12,
    "start_time": "2022-04-14T05:27:42.207Z"
   },
   {
    "duration": 3,
    "start_time": "2022-04-14T05:28:31.386Z"
   },
   {
    "duration": 3,
    "start_time": "2022-04-14T05:28:44.473Z"
   },
   {
    "duration": 10,
    "start_time": "2022-04-14T05:28:45.202Z"
   },
   {
    "duration": 4,
    "start_time": "2022-04-14T05:30:07.656Z"
   },
   {
    "duration": 4,
    "start_time": "2022-04-14T05:30:15.114Z"
   },
   {
    "duration": 4,
    "start_time": "2022-04-14T05:30:57.695Z"
   },
   {
    "duration": 11,
    "start_time": "2022-04-14T05:30:59.039Z"
   },
   {
    "duration": 409,
    "start_time": "2022-04-14T05:39:10.985Z"
   },
   {
    "duration": 16,
    "start_time": "2022-04-14T05:39:33.641Z"
   },
   {
    "duration": 10939,
    "start_time": "2022-04-14T05:39:51.322Z"
   },
   {
    "duration": 364,
    "start_time": "2022-04-14T06:13:35.375Z"
   },
   {
    "duration": 419,
    "start_time": "2022-04-14T06:13:50.223Z"
   },
   {
    "duration": 148,
    "start_time": "2022-04-14T06:14:05.984Z"
   },
   {
    "duration": 15,
    "start_time": "2022-04-14T06:14:16.321Z"
   },
   {
    "duration": 299,
    "start_time": "2022-04-14T06:14:23.264Z"
   },
   {
    "duration": 335,
    "start_time": "2022-04-14T06:14:25.632Z"
   },
   {
    "duration": 5,
    "start_time": "2022-04-14T06:14:44.936Z"
   },
   {
    "duration": 15,
    "start_time": "2022-04-14T06:14:47.015Z"
   },
   {
    "duration": 182,
    "start_time": "2022-04-14T06:33:41.990Z"
   },
   {
    "duration": 180,
    "start_time": "2022-04-14T06:33:56.413Z"
   },
   {
    "duration": 151,
    "start_time": "2022-04-14T06:34:01.589Z"
   },
   {
    "duration": 97,
    "start_time": "2022-04-14T06:34:06.421Z"
   },
   {
    "duration": 112,
    "start_time": "2022-04-14T06:38:43.339Z"
   },
   {
    "duration": 108,
    "start_time": "2022-04-14T06:38:49.490Z"
   },
   {
    "duration": 5,
    "start_time": "2022-04-14T06:41:57.177Z"
   },
   {
    "duration": 102,
    "start_time": "2022-04-14T06:42:23.161Z"
   },
   {
    "duration": 15,
    "start_time": "2022-04-14T06:42:26.431Z"
   },
   {
    "duration": 3,
    "start_time": "2022-04-14T06:42:49.081Z"
   },
   {
    "duration": 284,
    "start_time": "2022-04-14T06:42:56.625Z"
   },
   {
    "duration": 300,
    "start_time": "2022-04-14T06:43:24.808Z"
   },
   {
    "duration": 289,
    "start_time": "2022-04-14T06:43:28.896Z"
   },
   {
    "duration": 4,
    "start_time": "2022-04-14T06:43:52.984Z"
   },
   {
    "duration": 342,
    "start_time": "2022-04-14T06:43:54.320Z"
   },
   {
    "duration": 10,
    "start_time": "2022-04-14T06:51:42.604Z"
   },
   {
    "duration": 7,
    "start_time": "2022-04-14T06:51:52.725Z"
   },
   {
    "duration": 7,
    "start_time": "2022-04-14T06:52:03.189Z"
   },
   {
    "duration": 97,
    "start_time": "2022-04-14T06:52:51.180Z"
   },
   {
    "duration": 96,
    "start_time": "2022-04-14T07:11:10.601Z"
   },
   {
    "duration": 197,
    "start_time": "2022-04-14T07:11:30.131Z"
   },
   {
    "duration": 94,
    "start_time": "2022-04-14T07:11:35.067Z"
   },
   {
    "duration": 16,
    "start_time": "2022-04-14T07:17:28.217Z"
   },
   {
    "duration": 6,
    "start_time": "2022-04-14T07:19:53.703Z"
   },
   {
    "duration": 3,
    "start_time": "2022-04-14T07:47:46.587Z"
   },
   {
    "duration": 27,
    "start_time": "2022-04-14T07:47:46.592Z"
   },
   {
    "duration": 4,
    "start_time": "2022-04-14T07:47:46.620Z"
   },
   {
    "duration": 15,
    "start_time": "2022-04-14T07:47:46.625Z"
   },
   {
    "duration": 34,
    "start_time": "2022-04-14T07:47:46.641Z"
   },
   {
    "duration": 16,
    "start_time": "2022-04-14T07:47:46.677Z"
   },
   {
    "duration": 35,
    "start_time": "2022-04-14T07:47:46.695Z"
   },
   {
    "duration": 12,
    "start_time": "2022-04-14T07:47:46.732Z"
   },
   {
    "duration": 4,
    "start_time": "2022-04-14T07:47:46.745Z"
   },
   {
    "duration": 8,
    "start_time": "2022-04-14T07:47:46.752Z"
   },
   {
    "duration": 27,
    "start_time": "2022-04-14T07:47:46.761Z"
   },
   {
    "duration": 16,
    "start_time": "2022-04-14T07:47:46.789Z"
   },
   {
    "duration": 17,
    "start_time": "2022-04-14T07:47:46.807Z"
   },
   {
    "duration": 13,
    "start_time": "2022-04-14T07:47:46.826Z"
   },
   {
    "duration": 122,
    "start_time": "2022-04-14T07:47:46.840Z"
   },
   {
    "duration": 105,
    "start_time": "2022-04-14T07:47:46.964Z"
   },
   {
    "duration": 4,
    "start_time": "2022-04-14T07:47:47.071Z"
   },
   {
    "duration": 271,
    "start_time": "2022-04-14T07:47:47.076Z"
   },
   {
    "duration": 6,
    "start_time": "2022-04-14T07:47:47.349Z"
   },
   {
    "duration": 119,
    "start_time": "2022-04-14T07:47:47.357Z"
   },
   {
    "duration": 6,
    "start_time": "2022-04-14T07:48:26.824Z"
   },
   {
    "duration": 7,
    "start_time": "2022-04-14T07:48:46.791Z"
   },
   {
    "duration": 7,
    "start_time": "2022-04-14T07:48:50.769Z"
   },
   {
    "duration": 11,
    "start_time": "2022-04-14T07:48:55.880Z"
   },
   {
    "duration": 13,
    "start_time": "2022-04-14T07:49:02.152Z"
   },
   {
    "duration": 11,
    "start_time": "2022-04-14T07:49:05.960Z"
   },
   {
    "duration": 11,
    "start_time": "2022-04-14T07:49:09.272Z"
   },
   {
    "duration": 24,
    "start_time": "2022-04-14T07:50:55.063Z"
   },
   {
    "duration": 18,
    "start_time": "2022-04-14T07:51:31.742Z"
   },
   {
    "duration": 10,
    "start_time": "2022-04-14T07:55:58.083Z"
   },
   {
    "duration": 12,
    "start_time": "2022-04-14T07:56:06.020Z"
   },
   {
    "duration": 4,
    "start_time": "2022-04-14T08:00:30.764Z"
   },
   {
    "duration": 5,
    "start_time": "2022-04-14T08:00:41.393Z"
   },
   {
    "duration": 9,
    "start_time": "2022-04-14T08:00:41.738Z"
   },
   {
    "duration": 5,
    "start_time": "2022-04-14T08:00:43.505Z"
   },
   {
    "duration": 6,
    "start_time": "2022-04-14T08:37:24.738Z"
   },
   {
    "duration": 7,
    "start_time": "2022-04-14T08:37:54.400Z"
   },
   {
    "duration": 6,
    "start_time": "2022-04-14T08:38:25.737Z"
   },
   {
    "duration": 6,
    "start_time": "2022-04-14T08:38:28.409Z"
   },
   {
    "duration": 326,
    "start_time": "2022-04-14T08:38:45.047Z"
   },
   {
    "duration": 110,
    "start_time": "2022-04-14T08:39:03.200Z"
   },
   {
    "duration": 634,
    "start_time": "2022-04-14T08:39:07.975Z"
   },
   {
    "duration": 402,
    "start_time": "2022-04-14T08:39:56.280Z"
   },
   {
    "duration": 7,
    "start_time": "2022-04-14T08:40:54.534Z"
   },
   {
    "duration": 7,
    "start_time": "2022-04-14T08:41:01.351Z"
   },
   {
    "duration": 89,
    "start_time": "2022-04-14T09:04:31.770Z"
   },
   {
    "duration": 82,
    "start_time": "2022-04-14T09:04:36.786Z"
   },
   {
    "duration": 133,
    "start_time": "2022-04-14T09:04:47.746Z"
   },
   {
    "duration": 118,
    "start_time": "2022-04-14T09:04:56.099Z"
   },
   {
    "duration": 12,
    "start_time": "2022-04-14T10:54:47.311Z"
   },
   {
    "duration": 14,
    "start_time": "2022-04-14T10:54:54.450Z"
   },
   {
    "duration": 25,
    "start_time": "2022-04-14T10:55:13.043Z"
   },
   {
    "duration": 1100,
    "start_time": "2022-04-14T10:55:53.951Z"
   },
   {
    "duration": 118,
    "start_time": "2022-04-14T10:56:34.662Z"
   },
   {
    "duration": 107,
    "start_time": "2022-04-14T10:57:16.078Z"
   },
   {
    "duration": 104,
    "start_time": "2022-04-14T10:57:29.174Z"
   },
   {
    "duration": 110,
    "start_time": "2022-04-14T10:57:35.286Z"
   },
   {
    "duration": 109,
    "start_time": "2022-04-14T10:57:49.446Z"
   },
   {
    "duration": 109,
    "start_time": "2022-04-14T10:58:03.542Z"
   },
   {
    "duration": 110,
    "start_time": "2022-04-14T10:58:16.846Z"
   },
   {
    "duration": 104,
    "start_time": "2022-04-14T10:58:34.182Z"
   },
   {
    "duration": 7,
    "start_time": "2022-04-14T10:59:27.062Z"
   },
   {
    "duration": 8,
    "start_time": "2022-04-14T10:59:30.137Z"
   },
   {
    "duration": 7,
    "start_time": "2022-04-14T10:59:32.245Z"
   },
   {
    "duration": 15,
    "start_time": "2022-04-14T10:59:35.517Z"
   },
   {
    "duration": 9,
    "start_time": "2022-04-14T10:59:40.221Z"
   },
   {
    "duration": 8,
    "start_time": "2022-04-14T10:59:42.937Z"
   },
   {
    "duration": 20,
    "start_time": "2022-04-14T11:00:01.165Z"
   },
   {
    "duration": 9,
    "start_time": "2022-04-14T11:00:55.870Z"
   },
   {
    "duration": 9,
    "start_time": "2022-04-14T11:00:59.246Z"
   },
   {
    "duration": 22,
    "start_time": "2022-04-14T11:01:01.501Z"
   },
   {
    "duration": 22,
    "start_time": "2022-04-14T11:01:18.440Z"
   },
   {
    "duration": 16,
    "start_time": "2022-04-14T11:04:08.077Z"
   },
   {
    "duration": 9,
    "start_time": "2022-04-14T11:04:27.431Z"
   },
   {
    "duration": 487,
    "start_time": "2022-04-14T11:04:42.510Z"
   },
   {
    "duration": 8,
    "start_time": "2022-04-14T11:05:06.675Z"
   },
   {
    "duration": 354,
    "start_time": "2022-04-14T11:05:07.675Z"
   },
   {
    "duration": 31,
    "start_time": "2022-04-14T11:05:28.551Z"
   },
   {
    "duration": 527,
    "start_time": "2022-04-14T11:05:40.394Z"
   },
   {
    "duration": 51,
    "start_time": "2022-04-14T11:05:41.787Z"
   },
   {
    "duration": 771,
    "start_time": "2022-04-14T11:05:45.956Z"
   },
   {
    "duration": 78,
    "start_time": "2022-04-14T11:05:47.410Z"
   },
   {
    "duration": 873,
    "start_time": "2022-04-14T11:05:51.210Z"
   },
   {
    "duration": 59,
    "start_time": "2022-04-14T11:05:53.245Z"
   },
   {
    "duration": 804,
    "start_time": "2022-04-14T11:06:18.267Z"
   },
   {
    "duration": 72,
    "start_time": "2022-04-14T11:06:19.994Z"
   },
   {
    "duration": 842,
    "start_time": "2022-04-14T11:06:32.047Z"
   },
   {
    "duration": 13,
    "start_time": "2022-04-14T11:07:10.559Z"
   },
   {
    "duration": 13,
    "start_time": "2022-04-14T11:07:15.765Z"
   },
   {
    "duration": 60,
    "start_time": "2022-04-14T11:07:30.057Z"
   },
   {
    "duration": 14,
    "start_time": "2022-04-14T11:07:31.945Z"
   },
   {
    "duration": 7,
    "start_time": "2022-04-14T11:08:18.848Z"
   },
   {
    "duration": 4,
    "start_time": "2022-04-14T11:09:29.070Z"
   },
   {
    "duration": 204,
    "start_time": "2022-04-14T11:09:50.335Z"
   },
   {
    "duration": 209,
    "start_time": "2022-04-14T11:10:29.840Z"
   },
   {
    "duration": 24,
    "start_time": "2022-04-14T11:25:47.416Z"
   },
   {
    "duration": 33,
    "start_time": "2022-04-14T11:26:22.743Z"
   },
   {
    "duration": 20,
    "start_time": "2022-04-14T11:26:31.245Z"
   },
   {
    "duration": 5,
    "start_time": "2022-04-14T11:27:27.299Z"
   },
   {
    "duration": 33,
    "start_time": "2022-04-14T11:27:29.586Z"
   },
   {
    "duration": 408,
    "start_time": "2022-04-14T11:27:53.346Z"
   },
   {
    "duration": 10,
    "start_time": "2022-04-14T11:28:16.436Z"
   },
   {
    "duration": 774,
    "start_time": "2022-04-14T11:28:18.036Z"
   },
   {
    "duration": 54,
    "start_time": "2022-04-14T11:28:19.954Z"
   },
   {
    "duration": 17,
    "start_time": "2022-04-14T11:28:22.246Z"
   },
   {
    "duration": 11,
    "start_time": "2022-04-14T11:28:30.114Z"
   },
   {
    "duration": 181,
    "start_time": "2022-04-14T11:28:36.842Z"
   },
   {
    "duration": 12,
    "start_time": "2022-04-14T11:30:32.889Z"
   },
   {
    "duration": 24,
    "start_time": "2022-04-14T11:30:39.249Z"
   },
   {
    "duration": 17,
    "start_time": "2022-04-14T11:30:50.418Z"
   },
   {
    "duration": 8,
    "start_time": "2022-04-14T11:30:53.545Z"
   },
   {
    "duration": 7,
    "start_time": "2022-04-14T11:30:56.249Z"
   },
   {
    "duration": 18,
    "start_time": "2022-04-14T11:30:57.480Z"
   },
   {
    "duration": 22,
    "start_time": "2022-04-14T11:31:07.905Z"
   },
   {
    "duration": 532,
    "start_time": "2022-04-14T11:31:15.341Z"
   },
   {
    "duration": 5,
    "start_time": "2022-04-14T11:31:22.449Z"
   },
   {
    "duration": 32,
    "start_time": "2022-04-14T11:31:22.456Z"
   },
   {
    "duration": 4,
    "start_time": "2022-04-14T11:31:22.491Z"
   },
   {
    "duration": 41,
    "start_time": "2022-04-14T11:31:22.498Z"
   },
   {
    "duration": 383,
    "start_time": "2022-04-14T11:31:22.542Z"
   },
   {
    "duration": 25,
    "start_time": "2022-04-14T11:31:22.927Z"
   },
   {
    "duration": 20,
    "start_time": "2022-04-14T11:31:22.955Z"
   },
   {
    "duration": 22,
    "start_time": "2022-04-14T11:31:22.977Z"
   },
   {
    "duration": 32,
    "start_time": "2022-04-14T11:31:23.000Z"
   },
   {
    "duration": 9,
    "start_time": "2022-04-14T11:31:23.035Z"
   },
   {
    "duration": 22,
    "start_time": "2022-04-14T11:31:23.048Z"
   },
   {
    "duration": 5,
    "start_time": "2022-04-14T11:31:23.071Z"
   },
   {
    "duration": 13,
    "start_time": "2022-04-14T11:31:23.078Z"
   },
   {
    "duration": 52,
    "start_time": "2022-04-14T11:31:23.093Z"
   },
   {
    "duration": 189,
    "start_time": "2022-04-14T11:31:23.147Z"
   },
   {
    "duration": 175,
    "start_time": "2022-04-14T11:31:23.339Z"
   },
   {
    "duration": 7,
    "start_time": "2022-04-14T11:31:23.523Z"
   },
   {
    "duration": 35,
    "start_time": "2022-04-14T11:31:23.532Z"
   },
   {
    "duration": 358,
    "start_time": "2022-04-14T11:31:23.569Z"
   },
   {
    "duration": 9,
    "start_time": "2022-04-14T11:31:23.930Z"
   },
   {
    "duration": 181,
    "start_time": "2022-04-14T11:31:23.941Z"
   },
   {
    "duration": 7,
    "start_time": "2022-04-14T11:31:24.125Z"
   },
   {
    "duration": 21,
    "start_time": "2022-04-14T11:31:24.134Z"
   },
   {
    "duration": 21,
    "start_time": "2022-04-14T11:31:24.157Z"
   },
   {
    "duration": 496,
    "start_time": "2022-04-14T11:31:24.180Z"
   },
   {
    "duration": 154,
    "start_time": "2022-04-14T11:31:24.679Z"
   },
   {
    "duration": 595,
    "start_time": "2022-04-14T11:31:24.835Z"
   },
   {
    "duration": 29,
    "start_time": "2022-04-14T11:31:25.435Z"
   },
   {
    "duration": 4,
    "start_time": "2022-04-14T11:31:25.468Z"
   },
   {
    "duration": 11,
    "start_time": "2022-04-14T11:31:25.474Z"
   },
   {
    "duration": 46,
    "start_time": "2022-04-14T11:31:25.486Z"
   },
   {
    "duration": 15,
    "start_time": "2022-04-14T11:31:25.534Z"
   },
   {
    "duration": 1985,
    "start_time": "2022-04-14T11:31:25.551Z"
   },
   {
    "duration": 171,
    "start_time": "2022-04-14T11:31:40.857Z"
   },
   {
    "duration": 11,
    "start_time": "2022-04-14T11:32:05.194Z"
   },
   {
    "duration": 8,
    "start_time": "2022-04-14T11:32:07.097Z"
   },
   {
    "duration": 27,
    "start_time": "2022-04-14T11:32:07.610Z"
   },
   {
    "duration": 8,
    "start_time": "2022-04-14T11:32:11.049Z"
   },
   {
    "duration": 783,
    "start_time": "2022-04-14T11:32:12.821Z"
   },
   {
    "duration": 84,
    "start_time": "2022-04-14T11:32:15.507Z"
   },
   {
    "duration": 33,
    "start_time": "2022-04-14T11:32:20.458Z"
   },
   {
    "duration": 14,
    "start_time": "2022-04-14T11:32:26.568Z"
   },
   {
    "duration": 250,
    "start_time": "2022-04-14T11:32:35.416Z"
   },
   {
    "duration": 5,
    "start_time": "2022-04-14T11:34:35.831Z"
   },
   {
    "duration": 19,
    "start_time": "2022-04-14T11:35:25.543Z"
   },
   {
    "duration": 4,
    "start_time": "2022-04-14T11:35:40.822Z"
   },
   {
    "duration": 12,
    "start_time": "2022-04-14T11:35:48.261Z"
   },
   {
    "duration": 9,
    "start_time": "2022-04-14T11:36:08.661Z"
   },
   {
    "duration": 14,
    "start_time": "2022-04-14T11:36:15.525Z"
   },
   {
    "duration": 799,
    "start_time": "2022-04-14T11:36:17.286Z"
   },
   {
    "duration": 69,
    "start_time": "2022-04-14T11:36:18.805Z"
   },
   {
    "duration": 1034,
    "start_time": "2022-04-14T11:36:27.421Z"
   },
   {
    "duration": 63,
    "start_time": "2022-04-14T11:36:29.430Z"
   },
   {
    "duration": 4,
    "start_time": "2022-04-14T11:36:53.942Z"
   },
   {
    "duration": 21,
    "start_time": "2022-04-14T11:37:40.253Z"
   },
   {
    "duration": 19,
    "start_time": "2022-04-14T11:37:48.133Z"
   },
   {
    "duration": 8,
    "start_time": "2022-04-14T11:38:00.604Z"
   },
   {
    "duration": 19,
    "start_time": "2022-04-14T11:38:08.532Z"
   },
   {
    "duration": 6,
    "start_time": "2022-04-14T11:38:10.500Z"
   },
   {
    "duration": 20,
    "start_time": "2022-04-14T11:38:15.096Z"
   },
   {
    "duration": 9,
    "start_time": "2022-04-14T11:38:17.292Z"
   },
   {
    "duration": 17,
    "start_time": "2022-04-14T11:38:18.956Z"
   },
   {
    "duration": 8,
    "start_time": "2022-04-14T11:38:19.523Z"
   },
   {
    "duration": 20,
    "start_time": "2022-04-14T11:38:23.044Z"
   },
   {
    "duration": 7,
    "start_time": "2022-04-14T11:38:24.500Z"
   },
   {
    "duration": 9,
    "start_time": "2022-04-14T11:38:30.541Z"
   },
   {
    "duration": 21,
    "start_time": "2022-04-14T11:38:31.748Z"
   },
   {
    "duration": 7,
    "start_time": "2022-04-14T11:38:32.476Z"
   },
   {
    "duration": 1066,
    "start_time": "2022-04-14T11:38:39.364Z"
   },
   {
    "duration": 64,
    "start_time": "2022-04-14T11:38:42.068Z"
   },
   {
    "duration": 33,
    "start_time": "2022-04-14T11:38:44.932Z"
   },
   {
    "duration": 12,
    "start_time": "2022-04-14T11:38:48.997Z"
   },
   {
    "duration": 210,
    "start_time": "2022-04-14T11:40:05.763Z"
   },
   {
    "duration": 11,
    "start_time": "2022-04-14T11:41:45.074Z"
   },
   {
    "duration": 33,
    "start_time": "2022-04-14T11:41:52.564Z"
   },
   {
    "duration": 13,
    "start_time": "2022-04-14T11:42:03.401Z"
   },
   {
    "duration": 22,
    "start_time": "2022-04-14T11:43:07.209Z"
   },
   {
    "duration": 3,
    "start_time": "2022-04-14T11:43:19.480Z"
   },
   {
    "duration": 14,
    "start_time": "2022-04-14T11:43:20.568Z"
   },
   {
    "duration": 11,
    "start_time": "2022-04-14T11:43:29.960Z"
   },
   {
    "duration": 8,
    "start_time": "2022-04-14T11:43:49.363Z"
   },
   {
    "duration": 14,
    "start_time": "2022-04-14T11:44:05.651Z"
   },
   {
    "duration": 5,
    "start_time": "2022-04-14T11:44:13.451Z"
   },
   {
    "duration": 35,
    "start_time": "2022-04-14T11:44:18.131Z"
   },
   {
    "duration": 50,
    "start_time": "2022-04-14T11:44:24.271Z"
   },
   {
    "duration": 83,
    "start_time": "2022-04-14T11:44:36.487Z"
   },
   {
    "duration": 85,
    "start_time": "2022-04-14T11:44:49.287Z"
   },
   {
    "duration": 5,
    "start_time": "2022-04-14T12:24:05.716Z"
   },
   {
    "duration": 14,
    "start_time": "2022-04-14T12:25:06.228Z"
   },
   {
    "duration": 17,
    "start_time": "2022-04-14T12:25:12.251Z"
   },
   {
    "duration": 14,
    "start_time": "2022-04-14T12:26:10.716Z"
   },
   {
    "duration": 25,
    "start_time": "2022-04-14T12:26:14.145Z"
   },
   {
    "duration": 21,
    "start_time": "2022-04-14T12:26:24.603Z"
   },
   {
    "duration": 4,
    "start_time": "2022-04-14T12:26:29.624Z"
   },
   {
    "duration": 50,
    "start_time": "2022-04-14T12:26:29.630Z"
   },
   {
    "duration": 4,
    "start_time": "2022-04-14T12:26:29.683Z"
   },
   {
    "duration": 19,
    "start_time": "2022-04-14T12:26:29.689Z"
   },
   {
    "duration": 47,
    "start_time": "2022-04-14T12:26:29.710Z"
   },
   {
    "duration": 17,
    "start_time": "2022-04-14T12:26:29.759Z"
   },
   {
    "duration": 18,
    "start_time": "2022-04-14T12:26:29.777Z"
   },
   {
    "duration": 34,
    "start_time": "2022-04-14T12:26:29.797Z"
   },
   {
    "duration": 21,
    "start_time": "2022-04-14T12:26:29.832Z"
   },
   {
    "duration": 10,
    "start_time": "2022-04-14T12:26:29.856Z"
   },
   {
    "duration": 29,
    "start_time": "2022-04-14T12:26:29.868Z"
   },
   {
    "duration": 18,
    "start_time": "2022-04-14T12:26:29.899Z"
   },
   {
    "duration": 13,
    "start_time": "2022-04-14T12:26:29.918Z"
   },
   {
    "duration": 17,
    "start_time": "2022-04-14T12:26:29.933Z"
   },
   {
    "duration": 138,
    "start_time": "2022-04-14T12:26:29.952Z"
   },
   {
    "duration": 121,
    "start_time": "2022-04-14T12:26:30.092Z"
   },
   {
    "duration": 10,
    "start_time": "2022-04-14T12:26:30.214Z"
   },
   {
    "duration": 9,
    "start_time": "2022-04-14T12:26:30.227Z"
   },
   {
    "duration": 298,
    "start_time": "2022-04-14T12:26:30.238Z"
   },
   {
    "duration": 8,
    "start_time": "2022-04-14T12:26:30.539Z"
   },
   {
    "duration": 126,
    "start_time": "2022-04-14T12:26:30.548Z"
   },
   {
    "duration": 7,
    "start_time": "2022-04-14T12:26:30.676Z"
   },
   {
    "duration": 14,
    "start_time": "2022-04-14T12:26:30.684Z"
   },
   {
    "duration": 31,
    "start_time": "2022-04-14T12:26:30.700Z"
   },
   {
    "duration": 345,
    "start_time": "2022-04-14T12:26:30.732Z"
   },
   {
    "duration": 105,
    "start_time": "2022-04-14T12:26:31.078Z"
   },
   {
    "duration": 407,
    "start_time": "2022-04-14T12:26:31.185Z"
   },
   {
    "duration": 33,
    "start_time": "2022-04-14T12:26:31.595Z"
   },
   {
    "duration": 10,
    "start_time": "2022-04-14T12:26:31.630Z"
   },
   {
    "duration": 10,
    "start_time": "2022-04-14T12:26:31.642Z"
   },
   {
    "duration": 19,
    "start_time": "2022-04-14T12:26:31.654Z"
   },
   {
    "duration": 12,
    "start_time": "2022-04-14T12:26:31.675Z"
   },
   {
    "duration": 31,
    "start_time": "2022-04-14T12:26:34.852Z"
   },
   {
    "duration": 49,
    "start_time": "2022-04-14T12:26:46.484Z"
   },
   {
    "duration": 5,
    "start_time": "2022-04-14T12:26:54.294Z"
   },
   {
    "duration": 6,
    "start_time": "2022-04-14T12:26:54.771Z"
   },
   {
    "duration": 9,
    "start_time": "2022-04-14T12:26:55.811Z"
   },
   {
    "duration": 21,
    "start_time": "2022-04-14T12:26:58.763Z"
   },
   {
    "duration": 5,
    "start_time": "2022-04-14T12:26:59.371Z"
   },
   {
    "duration": 19,
    "start_time": "2022-04-14T12:27:16.529Z"
   },
   {
    "duration": 6,
    "start_time": "2022-04-14T12:27:18.458Z"
   },
   {
    "duration": 22,
    "start_time": "2022-04-14T12:27:21.435Z"
   },
   {
    "duration": 6,
    "start_time": "2022-04-14T12:27:22.474Z"
   },
   {
    "duration": 7,
    "start_time": "2022-04-14T12:29:00.359Z"
   },
   {
    "duration": 9,
    "start_time": "2022-04-14T12:30:58.119Z"
   },
   {
    "duration": 25,
    "start_time": "2022-04-14T12:30:59.828Z"
   },
   {
    "duration": 6,
    "start_time": "2022-04-14T12:31:01.564Z"
   },
   {
    "duration": 31,
    "start_time": "2022-04-14T12:31:07.212Z"
   },
   {
    "duration": 7,
    "start_time": "2022-04-14T12:31:08.235Z"
   },
   {
    "duration": 7,
    "start_time": "2022-04-14T12:31:15.005Z"
   },
   {
    "duration": 5,
    "start_time": "2022-04-14T12:31:16.365Z"
   },
   {
    "duration": 21,
    "start_time": "2022-04-14T12:31:23.224Z"
   },
   {
    "duration": 5,
    "start_time": "2022-04-14T12:31:24.483Z"
   },
   {
    "duration": 22,
    "start_time": "2022-04-14T12:31:30.372Z"
   },
   {
    "duration": 7,
    "start_time": "2022-04-14T12:31:31.884Z"
   },
   {
    "duration": 22,
    "start_time": "2022-04-14T12:31:39.355Z"
   },
   {
    "duration": 7,
    "start_time": "2022-04-14T12:31:40.507Z"
   },
   {
    "duration": 1350,
    "start_time": "2022-04-14T12:31:42.948Z"
   },
   {
    "duration": 62,
    "start_time": "2022-04-14T12:31:45.260Z"
   },
   {
    "duration": 5,
    "start_time": "2022-04-14T12:32:17.306Z"
   },
   {
    "duration": 36,
    "start_time": "2022-04-14T12:32:17.313Z"
   },
   {
    "duration": 4,
    "start_time": "2022-04-14T12:32:17.351Z"
   },
   {
    "duration": 18,
    "start_time": "2022-04-14T12:32:17.357Z"
   },
   {
    "duration": 88,
    "start_time": "2022-04-14T12:32:17.377Z"
   },
   {
    "duration": 19,
    "start_time": "2022-04-14T12:32:17.467Z"
   },
   {
    "duration": 11,
    "start_time": "2022-04-14T12:32:17.489Z"
   },
   {
    "duration": 31,
    "start_time": "2022-04-14T12:32:17.502Z"
   },
   {
    "duration": 4,
    "start_time": "2022-04-14T12:32:17.535Z"
   },
   {
    "duration": 13,
    "start_time": "2022-04-14T12:32:17.542Z"
   },
   {
    "duration": 17,
    "start_time": "2022-04-14T12:32:17.557Z"
   },
   {
    "duration": 7,
    "start_time": "2022-04-14T12:32:17.576Z"
   },
   {
    "duration": 40,
    "start_time": "2022-04-14T12:32:17.585Z"
   },
   {
    "duration": 24,
    "start_time": "2022-04-14T12:32:17.626Z"
   },
   {
    "duration": 185,
    "start_time": "2022-04-14T12:32:17.652Z"
   },
   {
    "duration": 153,
    "start_time": "2022-04-14T12:32:17.839Z"
   },
   {
    "duration": 6,
    "start_time": "2022-04-14T12:32:17.994Z"
   },
   {
    "duration": 30,
    "start_time": "2022-04-14T12:32:18.002Z"
   },
   {
    "duration": 300,
    "start_time": "2022-04-14T12:32:18.034Z"
   },
   {
    "duration": 12,
    "start_time": "2022-04-14T12:32:18.336Z"
   },
   {
    "duration": 182,
    "start_time": "2022-04-14T12:32:18.350Z"
   },
   {
    "duration": 8,
    "start_time": "2022-04-14T12:32:18.534Z"
   },
   {
    "duration": 15,
    "start_time": "2022-04-14T12:32:18.544Z"
   },
   {
    "duration": 13,
    "start_time": "2022-04-14T12:32:18.562Z"
   },
   {
    "duration": 453,
    "start_time": "2022-04-14T12:32:18.577Z"
   },
   {
    "duration": 131,
    "start_time": "2022-04-14T12:32:19.032Z"
   },
   {
    "duration": 593,
    "start_time": "2022-04-14T12:32:19.165Z"
   },
   {
    "duration": 27,
    "start_time": "2022-04-14T12:32:19.763Z"
   },
   {
    "duration": 6,
    "start_time": "2022-04-14T12:32:19.792Z"
   },
   {
    "duration": 25,
    "start_time": "2022-04-14T12:32:19.800Z"
   },
   {
    "duration": 17,
    "start_time": "2022-04-14T12:32:19.827Z"
   },
   {
    "duration": 5,
    "start_time": "2022-04-14T12:32:24.411Z"
   },
   {
    "duration": 7,
    "start_time": "2022-04-14T12:32:25.203Z"
   },
   {
    "duration": 9,
    "start_time": "2022-04-14T12:32:26.691Z"
   },
   {
    "duration": 21,
    "start_time": "2022-04-14T12:32:28.435Z"
   },
   {
    "duration": 6,
    "start_time": "2022-04-14T12:32:29.515Z"
   },
   {
    "duration": 1088,
    "start_time": "2022-04-14T12:32:30.723Z"
   },
   {
    "duration": 96,
    "start_time": "2022-04-14T12:32:32.780Z"
   },
   {
    "duration": 23,
    "start_time": "2022-04-14T12:32:37.636Z"
   },
   {
    "duration": 11,
    "start_time": "2022-04-14T12:32:39.740Z"
   },
   {
    "duration": 20,
    "start_time": "2022-04-14T12:32:46.748Z"
   },
   {
    "duration": 8,
    "start_time": "2022-04-14T12:32:47.972Z"
   },
   {
    "duration": 983,
    "start_time": "2022-04-14T12:32:50.776Z"
   },
   {
    "duration": 71,
    "start_time": "2022-04-14T12:32:52.691Z"
   },
   {
    "duration": 22,
    "start_time": "2022-04-14T12:32:57.887Z"
   },
   {
    "duration": 210,
    "start_time": "2022-04-14T12:32:59.764Z"
   },
   {
    "duration": 122,
    "start_time": "2022-04-14T12:33:01.893Z"
   },
   {
    "duration": 9,
    "start_time": "2022-04-14T12:33:12.283Z"
   },
   {
    "duration": 19,
    "start_time": "2022-04-14T12:33:21.843Z"
   },
   {
    "duration": 5,
    "start_time": "2022-04-14T12:33:23.387Z"
   },
   {
    "duration": 1149,
    "start_time": "2022-04-14T12:33:25.844Z"
   },
   {
    "duration": 71,
    "start_time": "2022-04-14T12:33:29.971Z"
   },
   {
    "duration": 67,
    "start_time": "2022-04-14T12:33:33.419Z"
   },
   {
    "duration": 19,
    "start_time": "2022-04-14T12:33:39.475Z"
   },
   {
    "duration": 6,
    "start_time": "2022-04-14T12:33:41.403Z"
   },
   {
    "duration": 21,
    "start_time": "2022-04-14T12:33:46.995Z"
   },
   {
    "duration": 6,
    "start_time": "2022-04-14T12:33:48.267Z"
   },
   {
    "duration": 1024,
    "start_time": "2022-04-14T12:33:49.827Z"
   },
   {
    "duration": 76,
    "start_time": "2022-04-14T12:33:51.675Z"
   },
   {
    "duration": 5,
    "start_time": "2022-04-14T12:34:10.987Z"
   },
   {
    "duration": 8,
    "start_time": "2022-04-14T12:34:12.010Z"
   },
   {
    "duration": 4,
    "start_time": "2022-04-14T12:34:13.986Z"
   },
   {
    "duration": 21,
    "start_time": "2022-04-14T12:34:21.267Z"
   },
   {
    "duration": 5,
    "start_time": "2022-04-14T12:34:22.968Z"
   },
   {
    "duration": 931,
    "start_time": "2022-04-14T12:34:32.002Z"
   },
   {
    "duration": 92,
    "start_time": "2022-04-14T12:34:34.059Z"
   },
   {
    "duration": 19,
    "start_time": "2022-04-14T12:34:43.954Z"
   },
   {
    "duration": 21,
    "start_time": "2022-04-14T12:34:50.979Z"
   },
   {
    "duration": 7,
    "start_time": "2022-04-14T12:34:52.354Z"
   },
   {
    "duration": 20,
    "start_time": "2022-04-14T12:34:57.506Z"
   },
   {
    "duration": 6,
    "start_time": "2022-04-14T12:34:58.714Z"
   },
   {
    "duration": 702,
    "start_time": "2022-04-14T12:35:00.051Z"
   },
   {
    "duration": 73,
    "start_time": "2022-04-14T12:35:02.674Z"
   },
   {
    "duration": 19,
    "start_time": "2022-04-14T12:35:04.762Z"
   },
   {
    "duration": 22,
    "start_time": "2022-04-14T12:35:22.451Z"
   },
   {
    "duration": 6,
    "start_time": "2022-04-14T12:35:23.762Z"
   },
   {
    "duration": 690,
    "start_time": "2022-04-14T12:35:25.986Z"
   },
   {
    "duration": 68,
    "start_time": "2022-04-14T12:35:27.882Z"
   },
   {
    "duration": 25,
    "start_time": "2022-04-14T12:35:42.707Z"
   },
   {
    "duration": 1296,
    "start_time": "2022-04-14T12:35:47.642Z"
   },
   {
    "duration": 74,
    "start_time": "2022-04-14T12:35:50.187Z"
   },
   {
    "duration": 69,
    "start_time": "2022-04-14T12:35:55.714Z"
   },
   {
    "duration": 36,
    "start_time": "2022-04-14T12:36:00.009Z"
   },
   {
    "duration": 8,
    "start_time": "2022-04-14T12:36:01.202Z"
   },
   {
    "duration": 1406,
    "start_time": "2022-04-14T12:36:04.746Z"
   },
   {
    "duration": 89,
    "start_time": "2022-04-14T12:36:06.505Z"
   },
   {
    "duration": 8,
    "start_time": "2022-04-14T12:36:21.562Z"
   },
   {
    "duration": 1024,
    "start_time": "2022-04-14T12:36:33.850Z"
   },
   {
    "duration": 81,
    "start_time": "2022-04-14T12:36:35.882Z"
   },
   {
    "duration": 31,
    "start_time": "2022-04-14T12:36:37.817Z"
   },
   {
    "duration": 9,
    "start_time": "2022-04-14T12:36:40.842Z"
   },
   {
    "duration": 18,
    "start_time": "2022-04-14T12:36:51.549Z"
   },
   {
    "duration": 20,
    "start_time": "2022-04-14T12:36:59.449Z"
   },
   {
    "duration": 5,
    "start_time": "2022-04-14T12:37:00.562Z"
   },
   {
    "duration": 822,
    "start_time": "2022-04-14T12:37:04.481Z"
   },
   {
    "duration": 61,
    "start_time": "2022-04-14T12:37:07.938Z"
   },
   {
    "duration": 815,
    "start_time": "2022-04-14T12:37:20.028Z"
   },
   {
    "duration": 88,
    "start_time": "2022-04-14T12:37:21.809Z"
   },
   {
    "duration": 17,
    "start_time": "2022-04-14T12:37:23.874Z"
   },
   {
    "duration": 12,
    "start_time": "2022-04-14T12:37:27.281Z"
   },
   {
    "duration": 24,
    "start_time": "2022-04-14T12:37:38.873Z"
   },
   {
    "duration": 7,
    "start_time": "2022-04-14T12:37:39.921Z"
   },
   {
    "duration": 27,
    "start_time": "2022-04-14T12:37:44.224Z"
   },
   {
    "duration": 6,
    "start_time": "2022-04-14T12:37:45.545Z"
   },
   {
    "duration": 19,
    "start_time": "2022-04-14T12:37:49.105Z"
   },
   {
    "duration": 8,
    "start_time": "2022-04-14T12:37:50.045Z"
   },
   {
    "duration": 1273,
    "start_time": "2022-04-14T12:37:51.609Z"
   },
   {
    "duration": 59,
    "start_time": "2022-04-14T12:37:53.649Z"
   },
   {
    "duration": 18,
    "start_time": "2022-04-14T12:37:55.041Z"
   },
   {
    "duration": 11,
    "start_time": "2022-04-14T12:37:57.763Z"
   },
   {
    "duration": 13,
    "start_time": "2022-04-14T12:38:32.372Z"
   },
   {
    "duration": 729,
    "start_time": "2022-04-14T12:38:41.329Z"
   },
   {
    "duration": 87,
    "start_time": "2022-04-14T12:38:43.617Z"
   },
   {
    "duration": 245,
    "start_time": "2022-04-14T12:38:54.961Z"
   },
   {
    "duration": 35,
    "start_time": "2022-04-14T12:38:56.546Z"
   },
   {
    "duration": 16,
    "start_time": "2022-04-14T12:38:59.177Z"
   },
   {
    "duration": 10,
    "start_time": "2022-04-14T12:39:00.769Z"
   },
   {
    "duration": 8,
    "start_time": "2022-04-14T12:40:20.760Z"
   },
   {
    "duration": 5,
    "start_time": "2022-04-14T12:40:32.063Z"
   },
   {
    "duration": 5,
    "start_time": "2022-04-14T12:40:41.043Z"
   },
   {
    "duration": 26,
    "start_time": "2022-04-14T12:40:41.051Z"
   },
   {
    "duration": 3,
    "start_time": "2022-04-14T12:40:41.079Z"
   },
   {
    "duration": 16,
    "start_time": "2022-04-14T12:40:41.085Z"
   },
   {
    "duration": 71,
    "start_time": "2022-04-14T12:40:41.102Z"
   },
   {
    "duration": 17,
    "start_time": "2022-04-14T12:40:41.175Z"
   },
   {
    "duration": 40,
    "start_time": "2022-04-14T12:40:41.194Z"
   },
   {
    "duration": 23,
    "start_time": "2022-04-14T12:40:41.236Z"
   },
   {
    "duration": 9,
    "start_time": "2022-04-14T12:40:41.262Z"
   },
   {
    "duration": 12,
    "start_time": "2022-04-14T12:40:41.275Z"
   },
   {
    "duration": 28,
    "start_time": "2022-04-14T12:40:41.289Z"
   },
   {
    "duration": 31,
    "start_time": "2022-04-14T12:40:41.319Z"
   },
   {
    "duration": 25,
    "start_time": "2022-04-14T12:40:41.352Z"
   },
   {
    "duration": 26,
    "start_time": "2022-04-14T12:40:41.379Z"
   },
   {
    "duration": 182,
    "start_time": "2022-04-14T12:40:41.407Z"
   },
   {
    "duration": 119,
    "start_time": "2022-04-14T12:40:41.591Z"
   },
   {
    "duration": 6,
    "start_time": "2022-04-14T12:40:41.711Z"
   },
   {
    "duration": 29,
    "start_time": "2022-04-14T12:40:41.718Z"
   },
   {
    "duration": 310,
    "start_time": "2022-04-14T12:40:41.749Z"
   },
   {
    "duration": 7,
    "start_time": "2022-04-14T12:40:42.062Z"
   },
   {
    "duration": 135,
    "start_time": "2022-04-14T12:40:42.071Z"
   },
   {
    "duration": 9,
    "start_time": "2022-04-14T12:40:42.208Z"
   },
   {
    "duration": 14,
    "start_time": "2022-04-14T12:40:42.218Z"
   },
   {
    "duration": 23,
    "start_time": "2022-04-14T12:40:42.234Z"
   },
   {
    "duration": 444,
    "start_time": "2022-04-14T12:40:42.258Z"
   },
   {
    "duration": 128,
    "start_time": "2022-04-14T12:40:42.704Z"
   },
   {
    "duration": 934,
    "start_time": "2022-04-14T12:40:42.840Z"
   },
   {
    "duration": 18,
    "start_time": "2022-04-14T12:40:43.778Z"
   },
   {
    "duration": 5,
    "start_time": "2022-04-14T12:40:43.798Z"
   },
   {
    "duration": 5,
    "start_time": "2022-04-14T12:40:43.832Z"
   },
   {
    "duration": 14,
    "start_time": "2022-04-14T12:40:43.839Z"
   },
   {
    "duration": 13,
    "start_time": "2022-04-14T12:40:43.855Z"
   },
   {
    "duration": 11,
    "start_time": "2022-04-14T12:40:43.869Z"
   },
   {
    "duration": 63,
    "start_time": "2022-04-14T12:40:43.882Z"
   },
   {
    "duration": 155,
    "start_time": "2022-04-14T12:40:43.947Z"
   },
   {
    "duration": 3,
    "start_time": "2022-04-14T12:40:44.104Z"
   },
   {
    "duration": 18,
    "start_time": "2022-04-14T12:40:44.109Z"
   },
   {
    "duration": 25,
    "start_time": "2022-04-14T12:40:44.130Z"
   },
   {
    "duration": 10,
    "start_time": "2022-04-14T12:40:44.158Z"
   },
   {
    "duration": 20,
    "start_time": "2022-04-14T12:40:44.170Z"
   },
   {
    "duration": 5,
    "start_time": "2022-04-14T12:40:44.192Z"
   },
   {
    "duration": 273,
    "start_time": "2022-04-14T12:40:44.199Z"
   },
   {
    "duration": 29,
    "start_time": "2022-04-14T12:40:44.474Z"
   },
   {
    "duration": 30,
    "start_time": "2022-04-14T12:40:44.504Z"
   },
   {
    "duration": 16,
    "start_time": "2022-04-14T12:40:44.536Z"
   },
   {
    "duration": 177,
    "start_time": "2022-04-14T12:40:44.554Z"
   },
   {
    "duration": 7,
    "start_time": "2022-04-14T12:40:44.733Z"
   },
   {
    "duration": 103,
    "start_time": "2022-04-14T12:40:44.741Z"
   },
   {
    "duration": 197,
    "start_time": "2022-04-14T12:40:44.846Z"
   },
   {
    "duration": 6,
    "start_time": "2022-04-14T12:41:03.351Z"
   },
   {
    "duration": 17,
    "start_time": "2022-04-14T12:41:12.655Z"
   },
   {
    "duration": 6,
    "start_time": "2022-04-14T12:41:14.271Z"
   },
   {
    "duration": 205,
    "start_time": "2022-04-14T12:41:18.758Z"
   },
   {
    "duration": 30,
    "start_time": "2022-04-14T12:41:20.144Z"
   },
   {
    "duration": 13,
    "start_time": "2022-04-14T12:41:33.805Z"
   },
   {
    "duration": 13,
    "start_time": "2022-04-14T12:41:35.703Z"
   },
   {
    "duration": 8,
    "start_time": "2022-04-14T12:41:47.151Z"
   },
   {
    "duration": 12,
    "start_time": "2022-04-14T12:41:48.279Z"
   },
   {
    "duration": 6,
    "start_time": "2022-04-14T12:41:49.337Z"
   },
   {
    "duration": 198,
    "start_time": "2022-04-14T12:41:52.455Z"
   },
   {
    "duration": 25,
    "start_time": "2022-04-14T12:41:53.871Z"
   },
   {
    "duration": 10,
    "start_time": "2022-04-14T12:41:55.887Z"
   },
   {
    "duration": 19,
    "start_time": "2022-04-14T12:41:59.687Z"
   },
   {
    "duration": 7,
    "start_time": "2022-04-14T12:42:00.841Z"
   },
   {
    "duration": 242,
    "start_time": "2022-04-14T12:42:02.599Z"
   },
   {
    "duration": 24,
    "start_time": "2022-04-14T12:42:03.841Z"
   },
   {
    "duration": 11,
    "start_time": "2022-04-14T12:42:12.096Z"
   },
   {
    "duration": 13,
    "start_time": "2022-04-14T12:42:25.847Z"
   },
   {
    "duration": 17,
    "start_time": "2022-04-14T12:42:59.761Z"
   },
   {
    "duration": 201,
    "start_time": "2022-04-14T12:43:01.832Z"
   },
   {
    "duration": 91,
    "start_time": "2022-04-14T12:43:04.018Z"
   },
   {
    "duration": 449,
    "start_time": "2022-04-14T12:44:06.966Z"
   },
   {
    "duration": 48,
    "start_time": "2022-04-14T12:44:09.319Z"
   },
   {
    "duration": 20,
    "start_time": "2022-04-14T12:44:11.950Z"
   },
   {
    "duration": 11,
    "start_time": "2022-04-14T12:44:14.902Z"
   },
   {
    "duration": 17,
    "start_time": "2022-04-14T12:44:49.678Z"
   },
   {
    "duration": 5,
    "start_time": "2022-04-14T12:44:50.878Z"
   },
   {
    "duration": 492,
    "start_time": "2022-04-14T12:44:53.653Z"
   },
   {
    "duration": 48,
    "start_time": "2022-04-14T12:44:55.604Z"
   },
   {
    "duration": 732,
    "start_time": "2022-04-14T12:45:04.981Z"
   },
   {
    "duration": 52,
    "start_time": "2022-04-14T12:45:06.476Z"
   },
   {
    "duration": 31,
    "start_time": "2022-04-14T12:45:09.318Z"
   },
   {
    "duration": 15,
    "start_time": "2022-04-14T12:45:11.221Z"
   },
   {
    "duration": 157,
    "start_time": "2022-04-14T12:45:15.745Z"
   },
   {
    "duration": 3,
    "start_time": "2022-04-14T12:45:32.381Z"
   },
   {
    "duration": 103,
    "start_time": "2022-04-14T12:45:33.471Z"
   },
   {
    "duration": 4,
    "start_time": "2022-04-14T12:46:13.675Z"
   },
   {
    "duration": 23,
    "start_time": "2022-04-14T12:46:13.681Z"
   },
   {
    "duration": 3,
    "start_time": "2022-04-14T12:46:13.706Z"
   },
   {
    "duration": 20,
    "start_time": "2022-04-14T12:46:13.711Z"
   },
   {
    "duration": 41,
    "start_time": "2022-04-14T12:46:13.733Z"
   },
   {
    "duration": 19,
    "start_time": "2022-04-14T12:46:13.776Z"
   },
   {
    "duration": 30,
    "start_time": "2022-04-14T12:46:13.797Z"
   },
   {
    "duration": 17,
    "start_time": "2022-04-14T12:46:13.829Z"
   },
   {
    "duration": 4,
    "start_time": "2022-04-14T12:46:13.848Z"
   },
   {
    "duration": 7,
    "start_time": "2022-04-14T12:46:13.855Z"
   },
   {
    "duration": 16,
    "start_time": "2022-04-14T12:46:13.864Z"
   },
   {
    "duration": 5,
    "start_time": "2022-04-14T12:46:13.881Z"
   },
   {
    "duration": 53,
    "start_time": "2022-04-14T12:46:13.888Z"
   },
   {
    "duration": 15,
    "start_time": "2022-04-14T12:46:13.943Z"
   },
   {
    "duration": 152,
    "start_time": "2022-04-14T12:46:13.960Z"
   },
   {
    "duration": 119,
    "start_time": "2022-04-14T12:46:14.113Z"
   },
   {
    "duration": 7,
    "start_time": "2022-04-14T12:46:14.234Z"
   },
   {
    "duration": 12,
    "start_time": "2022-04-14T12:46:14.243Z"
   },
   {
    "duration": 275,
    "start_time": "2022-04-14T12:46:14.256Z"
   },
   {
    "duration": 8,
    "start_time": "2022-04-14T12:46:14.534Z"
   },
   {
    "duration": 128,
    "start_time": "2022-04-14T12:46:14.544Z"
   },
   {
    "duration": 7,
    "start_time": "2022-04-14T12:46:14.674Z"
   },
   {
    "duration": 13,
    "start_time": "2022-04-14T12:46:14.683Z"
   },
   {
    "duration": 47,
    "start_time": "2022-04-14T12:46:14.698Z"
   },
   {
    "duration": 405,
    "start_time": "2022-04-14T12:46:14.746Z"
   },
   {
    "duration": 135,
    "start_time": "2022-04-14T12:46:15.153Z"
   },
   {
    "duration": 430,
    "start_time": "2022-04-14T12:46:15.290Z"
   },
   {
    "duration": 25,
    "start_time": "2022-04-14T12:46:15.724Z"
   },
   {
    "duration": 34,
    "start_time": "2022-04-14T12:46:15.751Z"
   },
   {
    "duration": 4,
    "start_time": "2022-04-14T12:46:18.980Z"
   },
   {
    "duration": 6,
    "start_time": "2022-04-14T12:46:20.004Z"
   },
   {
    "duration": 12,
    "start_time": "2022-04-14T12:46:21.741Z"
   },
   {
    "duration": 11,
    "start_time": "2022-04-14T12:46:22.877Z"
   },
   {
    "duration": 13,
    "start_time": "2022-04-14T12:46:24.404Z"
   },
   {
    "duration": 134,
    "start_time": "2022-04-14T12:46:28.597Z"
   },
   {
    "duration": 4,
    "start_time": "2022-04-14T12:46:30.516Z"
   },
   {
    "duration": 4,
    "start_time": "2022-04-14T12:46:31.997Z"
   },
   {
    "duration": 9,
    "start_time": "2022-04-14T12:46:34.060Z"
   },
   {
    "duration": 18,
    "start_time": "2022-04-14T12:46:37.652Z"
   },
   {
    "duration": 6,
    "start_time": "2022-04-14T12:46:38.852Z"
   },
   {
    "duration": 1028,
    "start_time": "2022-04-14T12:46:40.359Z"
   },
   {
    "duration": 76,
    "start_time": "2022-04-14T12:46:42.989Z"
   },
   {
    "duration": 950,
    "start_time": "2022-04-14T12:47:48.637Z"
   },
   {
    "duration": 65,
    "start_time": "2022-04-14T12:47:50.700Z"
   },
   {
    "duration": 829,
    "start_time": "2022-04-14T12:49:21.197Z"
   },
   {
    "duration": 66,
    "start_time": "2022-04-14T12:49:22.795Z"
   },
   {
    "duration": 23,
    "start_time": "2022-04-14T12:49:27.804Z"
   },
   {
    "duration": 6,
    "start_time": "2022-04-14T12:49:28.915Z"
   },
   {
    "duration": 881,
    "start_time": "2022-04-14T12:49:30.252Z"
   },
   {
    "duration": 63,
    "start_time": "2022-04-14T12:49:32.083Z"
   },
   {
    "duration": 778,
    "start_time": "2022-04-14T12:49:47.443Z"
   },
   {
    "duration": 54,
    "start_time": "2022-04-14T12:49:49.147Z"
   },
   {
    "duration": 39,
    "start_time": "2022-04-14T12:50:01.804Z"
   },
   {
    "duration": 9,
    "start_time": "2022-04-14T12:50:09.531Z"
   },
   {
    "duration": 23,
    "start_time": "2022-04-14T12:50:11.842Z"
   },
   {
    "duration": 796,
    "start_time": "2022-04-14T12:50:13.610Z"
   },
   {
    "duration": 61,
    "start_time": "2022-04-14T12:50:15.986Z"
   },
   {
    "duration": 8,
    "start_time": "2022-04-14T12:51:08.237Z"
   },
   {
    "duration": 32,
    "start_time": "2022-04-14T12:51:09.639Z"
   },
   {
    "duration": 6,
    "start_time": "2022-04-14T12:51:10.973Z"
   },
   {
    "duration": 1085,
    "start_time": "2022-04-14T12:51:13.090Z"
   },
   {
    "duration": 63,
    "start_time": "2022-04-14T12:51:15.194Z"
   },
   {
    "duration": 68,
    "start_time": "2022-04-14T12:51:21.289Z"
   },
   {
    "duration": 19,
    "start_time": "2022-04-14T12:51:23.355Z"
   },
   {
    "duration": 10,
    "start_time": "2022-04-14T12:51:28.010Z"
   },
   {
    "duration": 8,
    "start_time": "2022-04-14T12:51:37.090Z"
   },
   {
    "duration": 29,
    "start_time": "2022-04-14T12:51:40.450Z"
   },
   {
    "duration": 6,
    "start_time": "2022-04-14T12:51:42.458Z"
   },
   {
    "duration": 905,
    "start_time": "2022-04-14T12:51:47.154Z"
   },
   {
    "duration": 66,
    "start_time": "2022-04-14T12:51:49.082Z"
   },
   {
    "duration": 145,
    "start_time": "2022-04-14T12:52:03.654Z"
   },
   {
    "duration": 448,
    "start_time": "2022-04-14T12:52:12.346Z"
   },
   {
    "duration": 57,
    "start_time": "2022-04-14T12:52:13.837Z"
   },
   {
    "duration": 29,
    "start_time": "2022-04-14T12:52:15.138Z"
   },
   {
    "duration": 257,
    "start_time": "2022-04-14T12:52:21.738Z"
   },
   {
    "duration": 43,
    "start_time": "2022-04-14T12:52:23.010Z"
   },
   {
    "duration": 26,
    "start_time": "2022-04-14T12:52:24.106Z"
   },
   {
    "duration": 11,
    "start_time": "2022-04-14T12:52:29.954Z"
   },
   {
    "duration": 142,
    "start_time": "2022-04-14T12:52:37.091Z"
   },
   {
    "duration": 39,
    "start_time": "2022-04-14T12:52:38.338Z"
   },
   {
    "duration": 20,
    "start_time": "2022-04-14T12:52:39.498Z"
   },
   {
    "duration": 130,
    "start_time": "2022-04-14T12:52:46.970Z"
   },
   {
    "duration": 50,
    "start_time": "2022-04-14T12:52:48.321Z"
   },
   {
    "duration": 21,
    "start_time": "2022-04-14T12:52:49.362Z"
   },
   {
    "duration": 316,
    "start_time": "2022-04-14T12:53:02.273Z"
   },
   {
    "duration": 50,
    "start_time": "2022-04-14T12:53:03.538Z"
   },
   {
    "duration": 24,
    "start_time": "2022-04-14T12:53:04.817Z"
   },
   {
    "duration": 6,
    "start_time": "2022-04-14T12:53:09.953Z"
   },
   {
    "duration": 239,
    "start_time": "2022-04-14T12:53:15.553Z"
   },
   {
    "duration": 60,
    "start_time": "2022-04-14T12:53:16.809Z"
   },
   {
    "duration": 25,
    "start_time": "2022-04-14T12:53:17.833Z"
   },
   {
    "duration": 131,
    "start_time": "2022-04-14T12:53:55.841Z"
   },
   {
    "duration": 3,
    "start_time": "2022-04-14T12:54:03.257Z"
   },
   {
    "duration": 92,
    "start_time": "2022-04-14T12:54:04.273Z"
   },
   {
    "duration": 4,
    "start_time": "2022-04-14T12:55:20.385Z"
   },
   {
    "duration": 5,
    "start_time": "2022-04-14T12:55:21.377Z"
   },
   {
    "duration": 9,
    "start_time": "2022-04-14T12:55:23.032Z"
   },
   {
    "duration": 16,
    "start_time": "2022-04-14T12:55:25.201Z"
   },
   {
    "duration": 9,
    "start_time": "2022-04-14T12:55:25.633Z"
   },
   {
    "duration": 244,
    "start_time": "2022-04-14T12:55:28.225Z"
   },
   {
    "duration": 40,
    "start_time": "2022-04-14T12:55:28.977Z"
   },
   {
    "duration": 23,
    "start_time": "2022-04-14T12:55:29.637Z"
   },
   {
    "duration": 20,
    "start_time": "2022-04-14T12:55:33.521Z"
   },
   {
    "duration": 5,
    "start_time": "2022-04-14T12:55:45.281Z"
   },
   {
    "duration": 4,
    "start_time": "2022-04-14T12:55:45.609Z"
   },
   {
    "duration": 8,
    "start_time": "2022-04-14T12:55:50.185Z"
   },
   {
    "duration": 20,
    "start_time": "2022-04-14T12:55:53.480Z"
   },
   {
    "duration": 19,
    "start_time": "2022-04-14T12:56:09.273Z"
   },
   {
    "duration": 7,
    "start_time": "2022-04-14T12:56:09.721Z"
   },
   {
    "duration": 244,
    "start_time": "2022-04-14T12:56:10.545Z"
   },
   {
    "duration": 42,
    "start_time": "2022-04-14T12:56:13.384Z"
   },
   {
    "duration": 22,
    "start_time": "2022-04-14T12:56:14.216Z"
   },
   {
    "duration": 19,
    "start_time": "2022-04-14T12:56:24.824Z"
   },
   {
    "duration": 7,
    "start_time": "2022-04-14T12:56:25.241Z"
   },
   {
    "duration": 193,
    "start_time": "2022-04-14T12:56:25.873Z"
   },
   {
    "duration": 51,
    "start_time": "2022-04-14T12:56:26.313Z"
   },
   {
    "duration": 24,
    "start_time": "2022-04-14T12:56:26.729Z"
   },
   {
    "duration": 17,
    "start_time": "2022-04-14T12:56:33.681Z"
   },
   {
    "duration": 6,
    "start_time": "2022-04-14T12:56:33.953Z"
   },
   {
    "duration": 186,
    "start_time": "2022-04-14T12:56:34.889Z"
   },
   {
    "duration": 40,
    "start_time": "2022-04-14T12:56:35.289Z"
   },
   {
    "duration": 22,
    "start_time": "2022-04-14T12:56:35.776Z"
   },
   {
    "duration": 17,
    "start_time": "2022-04-14T12:56:42.984Z"
   },
   {
    "duration": 5,
    "start_time": "2022-04-14T12:56:43.297Z"
   },
   {
    "duration": 190,
    "start_time": "2022-04-14T12:56:43.585Z"
   },
   {
    "duration": 40,
    "start_time": "2022-04-14T12:56:43.968Z"
   },
   {
    "duration": 27,
    "start_time": "2022-04-14T12:56:46.417Z"
   },
   {
    "duration": 27,
    "start_time": "2022-04-14T12:56:52.608Z"
   },
   {
    "duration": 10,
    "start_time": "2022-04-14T12:56:52.937Z"
   },
   {
    "duration": 197,
    "start_time": "2022-04-14T12:56:53.457Z"
   },
   {
    "duration": 40,
    "start_time": "2022-04-14T12:56:53.752Z"
   },
   {
    "duration": 34,
    "start_time": "2022-04-14T12:56:54.201Z"
   },
   {
    "duration": 19,
    "start_time": "2022-04-14T12:56:58.096Z"
   },
   {
    "duration": 6,
    "start_time": "2022-04-14T12:56:58.369Z"
   },
   {
    "duration": 271,
    "start_time": "2022-04-14T12:56:59.024Z"
   },
   {
    "duration": 47,
    "start_time": "2022-04-14T12:56:59.401Z"
   },
   {
    "duration": 21,
    "start_time": "2022-04-14T12:56:59.841Z"
   },
   {
    "duration": 17,
    "start_time": "2022-04-14T12:57:05.072Z"
   },
   {
    "duration": 22,
    "start_time": "2022-04-14T12:57:14.921Z"
   },
   {
    "duration": 6,
    "start_time": "2022-04-14T12:57:15.637Z"
   },
   {
    "duration": 247,
    "start_time": "2022-04-14T12:57:16.657Z"
   },
   {
    "duration": 40,
    "start_time": "2022-04-14T12:57:17.144Z"
   },
   {
    "duration": 22,
    "start_time": "2022-04-14T12:57:18.248Z"
   },
   {
    "duration": 17,
    "start_time": "2022-04-14T12:57:24.304Z"
   },
   {
    "duration": 6,
    "start_time": "2022-04-14T12:57:24.576Z"
   },
   {
    "duration": 218,
    "start_time": "2022-04-14T12:57:24.984Z"
   },
   {
    "duration": 37,
    "start_time": "2022-04-14T12:57:27.537Z"
   },
   {
    "duration": 22,
    "start_time": "2022-04-14T12:57:28.237Z"
   },
   {
    "duration": 19,
    "start_time": "2022-04-14T12:57:32.421Z"
   },
   {
    "duration": 9,
    "start_time": "2022-04-14T12:57:32.465Z"
   },
   {
    "duration": 136,
    "start_time": "2022-04-14T12:57:32.704Z"
   },
   {
    "duration": 3,
    "start_time": "2022-04-14T12:57:33.343Z"
   },
   {
    "duration": 87,
    "start_time": "2022-04-14T12:57:34.208Z"
   },
   {
    "duration": 480,
    "start_time": "2022-04-14T12:57:50.057Z"
   },
   {
    "duration": 67,
    "start_time": "2022-04-14T12:57:50.984Z"
   },
   {
    "duration": 32,
    "start_time": "2022-04-14T12:57:51.489Z"
   },
   {
    "duration": 225,
    "start_time": "2022-04-14T12:57:57.680Z"
   },
   {
    "duration": 48,
    "start_time": "2022-04-14T12:57:58.000Z"
   },
   {
    "duration": 27,
    "start_time": "2022-04-14T12:57:58.511Z"
   },
   {
    "duration": 142,
    "start_time": "2022-04-14T12:58:02.584Z"
   },
   {
    "duration": 29,
    "start_time": "2022-04-14T12:58:02.880Z"
   },
   {
    "duration": 21,
    "start_time": "2022-04-14T12:58:03.313Z"
   },
   {
    "duration": 228,
    "start_time": "2022-04-14T12:58:09.432Z"
   },
   {
    "duration": 43,
    "start_time": "2022-04-14T12:58:09.662Z"
   },
   {
    "duration": 25,
    "start_time": "2022-04-14T12:58:09.977Z"
   },
   {
    "duration": 248,
    "start_time": "2022-04-14T12:58:22.912Z"
   },
   {
    "duration": 46,
    "start_time": "2022-04-14T12:58:23.162Z"
   },
   {
    "duration": 29,
    "start_time": "2022-04-14T12:58:23.328Z"
   },
   {
    "duration": 10,
    "start_time": "2022-04-14T12:58:23.984Z"
   },
   {
    "duration": 188,
    "start_time": "2022-04-14T12:58:27.008Z"
   },
   {
    "duration": 51,
    "start_time": "2022-04-14T12:58:27.199Z"
   },
   {
    "duration": 20,
    "start_time": "2022-04-14T12:58:27.384Z"
   },
   {
    "duration": 334,
    "start_time": "2022-04-14T12:58:31.041Z"
   },
   {
    "duration": 74,
    "start_time": "2022-04-14T12:58:31.377Z"
   },
   {
    "duration": 38,
    "start_time": "2022-04-14T12:58:31.512Z"
   },
   {
    "duration": 15,
    "start_time": "2022-04-14T12:58:32.037Z"
   },
   {
    "duration": 315,
    "start_time": "2022-04-14T12:58:35.135Z"
   },
   {
    "duration": 56,
    "start_time": "2022-04-14T12:58:35.452Z"
   },
   {
    "duration": 48,
    "start_time": "2022-04-14T12:58:35.509Z"
   },
   {
    "duration": 372,
    "start_time": "2022-04-14T12:58:39.383Z"
   },
   {
    "duration": 94,
    "start_time": "2022-04-14T12:58:39.757Z"
   },
   {
    "duration": 39,
    "start_time": "2022-04-14T12:58:39.853Z"
   },
   {
    "duration": 349,
    "start_time": "2022-04-14T12:58:44.888Z"
   },
   {
    "duration": 55,
    "start_time": "2022-04-14T12:58:45.239Z"
   },
   {
    "duration": 28,
    "start_time": "2022-04-14T12:58:45.351Z"
   },
   {
    "duration": 13,
    "start_time": "2022-04-14T12:58:45.784Z"
   },
   {
    "duration": 4,
    "start_time": "2022-04-14T13:00:30.871Z"
   },
   {
    "duration": 15,
    "start_time": "2022-04-14T13:00:53.245Z"
   },
   {
    "duration": 4,
    "start_time": "2022-04-14T13:01:01.190Z"
   },
   {
    "duration": 13,
    "start_time": "2022-04-14T13:01:03.255Z"
   },
   {
    "duration": 3,
    "start_time": "2022-04-14T13:01:39.567Z"
   },
   {
    "duration": 12,
    "start_time": "2022-04-14T13:01:40.790Z"
   },
   {
    "duration": 3,
    "start_time": "2022-04-14T13:02:27.053Z"
   },
   {
    "duration": 18,
    "start_time": "2022-04-14T13:02:28.511Z"
   },
   {
    "duration": 3,
    "start_time": "2022-04-14T13:02:36.669Z"
   },
   {
    "duration": 33547,
    "start_time": "2022-04-14T13:02:37.694Z"
   },
   {
    "duration": 4,
    "start_time": "2022-04-14T13:03:13.779Z"
   },
   {
    "duration": 723,
    "start_time": "2022-04-14T13:03:30.058Z"
   },
   {
    "duration": 95,
    "start_time": "2022-04-14T13:03:31.853Z"
   },
   {
    "duration": 42,
    "start_time": "2022-04-14T13:03:33.075Z"
   },
   {
    "duration": 18,
    "start_time": "2022-04-14T13:03:39.525Z"
   },
   {
    "duration": 10,
    "start_time": "2022-04-14T13:03:41.404Z"
   },
   {
    "duration": 179,
    "start_time": "2022-04-14T13:03:43.373Z"
   },
   {
    "duration": 6,
    "start_time": "2022-04-14T13:03:45.422Z"
   },
   {
    "duration": 128,
    "start_time": "2022-04-14T13:03:47.349Z"
   },
   {
    "duration": 215,
    "start_time": "2022-04-14T13:05:26.004Z"
   },
   {
    "duration": 45,
    "start_time": "2022-04-14T13:05:27.060Z"
   },
   {
    "duration": 34,
    "start_time": "2022-04-14T13:05:28.012Z"
   },
   {
    "duration": 285,
    "start_time": "2022-04-14T13:05:31.020Z"
   },
   {
    "duration": 52,
    "start_time": "2022-04-14T13:05:32.243Z"
   },
   {
    "duration": 32,
    "start_time": "2022-04-14T13:05:33.315Z"
   },
   {
    "duration": 401,
    "start_time": "2022-04-14T13:05:36.139Z"
   },
   {
    "duration": 71,
    "start_time": "2022-04-14T13:05:37.355Z"
   },
   {
    "duration": 47,
    "start_time": "2022-04-14T13:05:38.323Z"
   },
   {
    "duration": 4,
    "start_time": "2022-04-14T13:07:27.044Z"
   },
   {
    "duration": 88576,
    "start_time": "2022-04-14T13:07:27.630Z"
   },
   {
    "duration": 3,
    "start_time": "2022-04-14T13:09:09.403Z"
   },
   {
    "duration": 457,
    "start_time": "2022-04-14T13:09:18.786Z"
   },
   {
    "duration": 88,
    "start_time": "2022-04-14T13:09:20.297Z"
   },
   {
    "duration": 46,
    "start_time": "2022-04-14T13:09:21.737Z"
   },
   {
    "duration": 8,
    "start_time": "2022-04-14T13:10:54.922Z"
   },
   {
    "duration": 28,
    "start_time": "2022-04-14T13:11:02.242Z"
   },
   {
    "duration": 7,
    "start_time": "2022-04-14T13:11:02.657Z"
   },
   {
    "duration": 4,
    "start_time": "2022-04-14T13:11:03.642Z"
   },
   {
    "duration": 6998,
    "start_time": "2022-04-14T13:11:04.473Z"
   },
   {
    "duration": 4,
    "start_time": "2022-04-14T13:11:17.242Z"
   },
   {
    "duration": 53051,
    "start_time": "2022-04-14T13:11:17.686Z"
   },
   {
    "duration": 5,
    "start_time": "2022-04-14T13:12:12.752Z"
   },
   {
    "duration": 183,
    "start_time": "2022-04-14T13:12:17.434Z"
   },
   {
    "duration": 188,
    "start_time": "2022-04-14T13:12:18.672Z"
   },
   {
    "duration": 38,
    "start_time": "2022-04-14T13:12:19.931Z"
   },
   {
    "duration": 21,
    "start_time": "2022-04-14T13:12:21.243Z"
   },
   {
    "duration": 4194,
    "start_time": "2022-04-14T13:13:03.703Z"
   },
   {
    "duration": 4271,
    "start_time": "2022-04-14T13:13:11.526Z"
   },
   {
    "duration": 10,
    "start_time": "2022-04-14T13:13:26.688Z"
   },
   {
    "duration": 4708,
    "start_time": "2022-04-14T13:13:38.976Z"
   },
   {
    "duration": 11,
    "start_time": "2022-04-14T13:13:44.608Z"
   },
   {
    "duration": 7922,
    "start_time": "2022-04-14T13:14:57.767Z"
   },
   {
    "duration": 15,
    "start_time": "2022-04-14T13:15:13.207Z"
   },
   {
    "duration": 3515,
    "start_time": "2022-04-14T13:15:16.790Z"
   },
   {
    "duration": 10,
    "start_time": "2022-04-14T13:15:22.014Z"
   },
   {
    "duration": 2826,
    "start_time": "2022-04-14T13:15:24.574Z"
   },
   {
    "duration": 8,
    "start_time": "2022-04-14T13:15:28.111Z"
   },
   {
    "duration": 10,
    "start_time": "2022-04-14T13:16:21.451Z"
   },
   {
    "duration": 21,
    "start_time": "2022-04-14T13:16:32.318Z"
   },
   {
    "duration": 2,
    "start_time": "2022-04-14T13:16:47.143Z"
   },
   {
    "duration": 241173,
    "start_time": "2022-04-14T13:16:48.511Z"
   },
   {
    "duration": 30,
    "start_time": "2022-04-14T13:20:49.693Z"
   },
   {
    "duration": 5,
    "start_time": "2022-04-14T13:21:34.772Z"
   },
   {
    "duration": 49758,
    "start_time": "2022-04-14T13:21:35.260Z"
   },
   {
    "duration": 31,
    "start_time": "2022-04-14T13:22:35.040Z"
   },
   {
    "duration": 3,
    "start_time": "2022-04-14T13:22:45.341Z"
   },
   {
    "duration": 3714,
    "start_time": "2022-04-14T13:22:46.418Z"
   },
   {
    "duration": 10,
    "start_time": "2022-04-14T13:22:51.610Z"
   },
   {
    "duration": 12,
    "start_time": "2022-04-14T13:23:24.602Z"
   },
   {
    "duration": 11,
    "start_time": "2022-04-14T13:23:28.378Z"
   },
   {
    "duration": 21,
    "start_time": "2022-04-14T13:23:31.842Z"
   },
   {
    "duration": 6,
    "start_time": "2022-04-14T13:23:33.483Z"
   },
   {
    "duration": 4,
    "start_time": "2022-04-14T13:23:35.706Z"
   },
   {
    "duration": 167,
    "start_time": "2022-04-14T13:23:41.626Z"
   },
   {
    "duration": 36,
    "start_time": "2022-04-14T13:23:43.162Z"
   },
   {
    "duration": 25,
    "start_time": "2022-04-14T13:23:44.362Z"
   },
   {
    "duration": 3,
    "start_time": "2022-04-14T13:25:22.898Z"
   },
   {
    "duration": 1142,
    "start_time": "2022-04-14T13:25:30.291Z"
   },
   {
    "duration": 3,
    "start_time": "2022-04-14T13:26:21.889Z"
   },
   {
    "duration": 1173,
    "start_time": "2022-04-14T13:26:22.481Z"
   },
   {
    "duration": 3,
    "start_time": "2022-04-14T13:27:35.321Z"
   },
   {
    "duration": 3545,
    "start_time": "2022-04-14T13:27:36.930Z"
   },
   {
    "duration": 5,
    "start_time": "2022-04-14T13:29:03.928Z"
   },
   {
    "duration": 47,
    "start_time": "2022-04-14T13:29:16.792Z"
   },
   {
    "duration": 15,
    "start_time": "2022-04-14T13:29:22.376Z"
   },
   {
    "duration": 27,
    "start_time": "2022-04-14T13:29:24.807Z"
   },
   {
    "duration": 7,
    "start_time": "2022-04-14T13:29:26.158Z"
   },
   {
    "duration": 4,
    "start_time": "2022-04-14T13:29:27.815Z"
   },
   {
    "duration": 245,
    "start_time": "2022-04-14T13:29:30.543Z"
   },
   {
    "duration": 36,
    "start_time": "2022-04-14T13:29:31.646Z"
   },
   {
    "duration": 21,
    "start_time": "2022-04-14T13:29:32.702Z"
   },
   {
    "duration": 55,
    "start_time": "2022-04-16T16:31:53.408Z"
   },
   {
    "duration": 1597,
    "start_time": "2022-04-16T16:32:04.702Z"
   },
   {
    "duration": 22,
    "start_time": "2022-04-16T16:32:06.301Z"
   },
   {
    "duration": 4,
    "start_time": "2022-04-16T16:32:06.325Z"
   },
   {
    "duration": 14,
    "start_time": "2022-04-16T16:32:06.331Z"
   },
   {
    "duration": 37,
    "start_time": "2022-04-16T16:32:06.346Z"
   },
   {
    "duration": 40,
    "start_time": "2022-04-16T16:32:06.384Z"
   },
   {
    "duration": 11,
    "start_time": "2022-04-16T16:32:06.426Z"
   },
   {
    "duration": 12,
    "start_time": "2022-04-16T16:32:06.438Z"
   },
   {
    "duration": 4,
    "start_time": "2022-04-16T16:32:06.451Z"
   },
   {
    "duration": 4,
    "start_time": "2022-04-16T16:32:06.457Z"
   },
   {
    "duration": 12,
    "start_time": "2022-04-16T16:32:06.463Z"
   },
   {
    "duration": 5,
    "start_time": "2022-04-16T16:32:06.476Z"
   },
   {
    "duration": 42,
    "start_time": "2022-04-16T16:32:06.482Z"
   },
   {
    "duration": 16,
    "start_time": "2022-04-16T16:32:06.525Z"
   },
   {
    "duration": 135,
    "start_time": "2022-04-16T16:32:06.542Z"
   },
   {
    "duration": 108,
    "start_time": "2022-04-16T16:32:06.678Z"
   },
   {
    "duration": 5,
    "start_time": "2022-04-16T16:32:06.787Z"
   },
   {
    "duration": 7,
    "start_time": "2022-04-16T16:32:06.793Z"
   },
   {
    "duration": 339,
    "start_time": "2022-04-16T16:32:06.801Z"
   },
   {
    "duration": 7,
    "start_time": "2022-04-16T16:32:07.142Z"
   },
   {
    "duration": 102,
    "start_time": "2022-04-16T16:32:07.151Z"
   },
   {
    "duration": 7,
    "start_time": "2022-04-16T16:32:07.255Z"
   },
   {
    "duration": 6,
    "start_time": "2022-04-16T16:32:07.264Z"
   },
   {
    "duration": 11,
    "start_time": "2022-04-16T16:32:09.328Z"
   },
   {
    "duration": 383,
    "start_time": "2022-04-16T16:34:41.783Z"
   },
   {
    "duration": 170,
    "start_time": "2022-04-16T16:38:03.884Z"
   },
   {
    "duration": 87,
    "start_time": "2022-04-16T16:38:07.637Z"
   },
   {
    "duration": 11,
    "start_time": "2022-04-16T16:40:16.067Z"
   },
   {
    "duration": 11,
    "start_time": "2022-04-16T16:40:36.819Z"
   },
   {
    "duration": 13,
    "start_time": "2022-04-16T16:42:14.324Z"
   },
   {
    "duration": 10,
    "start_time": "2022-04-16T16:42:25.398Z"
   },
   {
    "duration": 10,
    "start_time": "2022-04-16T16:43:15.392Z"
   },
   {
    "duration": 7,
    "start_time": "2022-04-16T16:43:23.651Z"
   },
   {
    "duration": 7,
    "start_time": "2022-04-16T16:44:37.918Z"
   },
   {
    "duration": 11,
    "start_time": "2022-04-16T16:44:43.818Z"
   },
   {
    "duration": 326,
    "start_time": "2022-04-16T16:45:41.575Z"
   },
   {
    "duration": 25,
    "start_time": "2022-04-16T17:04:09.360Z"
   },
   {
    "duration": 17,
    "start_time": "2022-04-16T17:05:18.392Z"
   },
   {
    "duration": 24,
    "start_time": "2022-04-16T17:06:39.551Z"
   },
   {
    "duration": 7,
    "start_time": "2022-04-16T17:07:56.476Z"
   },
   {
    "duration": 25,
    "start_time": "2022-04-16T17:07:59.663Z"
   },
   {
    "duration": 15,
    "start_time": "2022-04-16T17:08:14.168Z"
   },
   {
    "duration": 18,
    "start_time": "2022-04-16T17:08:31.025Z"
   },
   {
    "duration": 42,
    "start_time": "2022-04-16T17:08:38.497Z"
   },
   {
    "duration": 32,
    "start_time": "2022-04-16T17:08:51.465Z"
   },
   {
    "duration": 28,
    "start_time": "2022-04-16T17:09:08.849Z"
   },
   {
    "duration": 37,
    "start_time": "2022-04-16T17:09:22.714Z"
   },
   {
    "duration": 9,
    "start_time": "2022-04-16T17:19:51.429Z"
   },
   {
    "duration": 8,
    "start_time": "2022-04-16T17:20:16.188Z"
   },
   {
    "duration": 6,
    "start_time": "2022-04-16T17:20:21.837Z"
   },
   {
    "duration": 6,
    "start_time": "2022-04-16T17:20:31.052Z"
   },
   {
    "duration": 4,
    "start_time": "2022-04-16T17:20:44.692Z"
   },
   {
    "duration": 5,
    "start_time": "2022-04-16T17:20:45.124Z"
   },
   {
    "duration": 10,
    "start_time": "2022-04-16T17:21:27.883Z"
   },
   {
    "duration": 9,
    "start_time": "2022-04-16T17:21:28.628Z"
   },
   {
    "duration": 10,
    "start_time": "2022-04-16T17:21:38.788Z"
   },
   {
    "duration": 9,
    "start_time": "2022-04-16T17:23:40.186Z"
   },
   {
    "duration": 10,
    "start_time": "2022-04-16T17:24:18.790Z"
   },
   {
    "duration": 6,
    "start_time": "2022-04-16T17:24:23.392Z"
   },
   {
    "duration": 7,
    "start_time": "2022-04-16T17:24:33.727Z"
   },
   {
    "duration": 2,
    "start_time": "2022-04-16T17:25:31.563Z"
   },
   {
    "duration": 9,
    "start_time": "2022-04-16T17:26:40.246Z"
   },
   {
    "duration": 35,
    "start_time": "2022-04-16T17:26:56.277Z"
   },
   {
    "duration": 10,
    "start_time": "2022-04-16T17:27:37.009Z"
   },
   {
    "duration": 6,
    "start_time": "2022-04-16T17:27:37.259Z"
   },
   {
    "duration": 6,
    "start_time": "2022-04-16T17:27:37.502Z"
   },
   {
    "duration": 2,
    "start_time": "2022-04-16T17:27:39.550Z"
   },
   {
    "duration": 33,
    "start_time": "2022-04-16T17:27:44.301Z"
   },
   {
    "duration": 20,
    "start_time": "2022-04-16T17:28:13.849Z"
   },
   {
    "duration": 2,
    "start_time": "2022-04-16T17:28:22.634Z"
   },
   {
    "duration": 20,
    "start_time": "2022-04-16T17:28:23.088Z"
   },
   {
    "duration": 2,
    "start_time": "2022-04-16T17:28:26.940Z"
   },
   {
    "duration": 20,
    "start_time": "2022-04-16T17:28:27.352Z"
   },
   {
    "duration": 16,
    "start_time": "2022-04-16T17:29:19.357Z"
   },
   {
    "duration": 18,
    "start_time": "2022-04-16T17:29:29.372Z"
   },
   {
    "duration": 23,
    "start_time": "2022-04-16T17:29:48.268Z"
   },
   {
    "duration": 18,
    "start_time": "2022-04-16T17:29:50.730Z"
   },
   {
    "duration": 27,
    "start_time": "2022-04-16T17:29:53.413Z"
   },
   {
    "duration": 38,
    "start_time": "2022-04-16T17:32:09.186Z"
   },
   {
    "duration": 27,
    "start_time": "2022-04-16T17:32:11.671Z"
   },
   {
    "duration": 27,
    "start_time": "2022-04-16T17:32:12.285Z"
   },
   {
    "duration": 18,
    "start_time": "2022-04-16T17:32:54.777Z"
   },
   {
    "duration": 6,
    "start_time": "2022-04-16T17:33:04.403Z"
   },
   {
    "duration": 3,
    "start_time": "2022-04-16T17:33:15.792Z"
   },
   {
    "duration": 31,
    "start_time": "2022-04-16T17:33:16.412Z"
   },
   {
    "duration": 6,
    "start_time": "2022-04-16T17:33:18.712Z"
   },
   {
    "duration": 16,
    "start_time": "2022-04-16T17:33:19.620Z"
   },
   {
    "duration": 16,
    "start_time": "2022-04-16T17:33:20.549Z"
   },
   {
    "duration": 3,
    "start_time": "2022-04-16T17:33:52.688Z"
   },
   {
    "duration": 3,
    "start_time": "2022-04-16T17:34:04.220Z"
   },
   {
    "duration": 21,
    "start_time": "2022-04-16T17:34:04.788Z"
   },
   {
    "duration": 5,
    "start_time": "2022-04-16T17:34:07.152Z"
   },
   {
    "duration": 16,
    "start_time": "2022-04-16T17:34:09.879Z"
   },
   {
    "duration": 17,
    "start_time": "2022-04-16T17:34:12.088Z"
   },
   {
    "duration": 2,
    "start_time": "2022-04-16T17:34:38.514Z"
   },
   {
    "duration": 21,
    "start_time": "2022-04-16T17:34:39.547Z"
   },
   {
    "duration": 6,
    "start_time": "2022-04-16T17:34:41.888Z"
   },
   {
    "duration": 23,
    "start_time": "2022-04-16T17:34:43.447Z"
   },
   {
    "duration": 17,
    "start_time": "2022-04-16T17:34:45.229Z"
   },
   {
    "duration": 11,
    "start_time": "2022-04-16T17:34:52.447Z"
   },
   {
    "duration": 7,
    "start_time": "2022-04-16T17:34:52.927Z"
   },
   {
    "duration": 5,
    "start_time": "2022-04-16T17:34:53.355Z"
   },
   {
    "duration": 2,
    "start_time": "2022-04-16T17:34:57.000Z"
   },
   {
    "duration": 31,
    "start_time": "2022-04-16T17:35:02.048Z"
   },
   {
    "duration": 23,
    "start_time": "2022-04-16T17:35:07.887Z"
   },
   {
    "duration": 4,
    "start_time": "2022-04-16T17:35:10.858Z"
   },
   {
    "duration": 17,
    "start_time": "2022-04-16T17:35:13.731Z"
   },
   {
    "duration": 19,
    "start_time": "2022-04-16T17:35:15.990Z"
   },
   {
    "duration": 21,
    "start_time": "2022-04-16T17:36:38.729Z"
   },
   {
    "duration": 5,
    "start_time": "2022-04-16T17:36:41.198Z"
   },
   {
    "duration": 16,
    "start_time": "2022-04-16T17:36:41.867Z"
   },
   {
    "duration": 17,
    "start_time": "2022-04-16T17:36:43.846Z"
   },
   {
    "duration": 9,
    "start_time": "2022-04-16T17:36:49.053Z"
   },
   {
    "duration": 6,
    "start_time": "2022-04-16T17:36:49.366Z"
   },
   {
    "duration": 7,
    "start_time": "2022-04-16T17:36:49.749Z"
   },
   {
    "duration": 3,
    "start_time": "2022-04-16T17:36:50.626Z"
   },
   {
    "duration": 24,
    "start_time": "2022-04-16T17:36:51.728Z"
   },
   {
    "duration": 5,
    "start_time": "2022-04-16T17:36:53.976Z"
   },
   {
    "duration": 17,
    "start_time": "2022-04-16T17:36:55.519Z"
   },
   {
    "duration": 17,
    "start_time": "2022-04-16T17:36:56.829Z"
   },
   {
    "duration": 333,
    "start_time": "2022-04-16T17:38:01.099Z"
   },
   {
    "duration": 109,
    "start_time": "2022-04-16T17:38:22.653Z"
   },
   {
    "duration": 4,
    "start_time": "2022-04-16T17:38:25.311Z"
   },
   {
    "duration": 4,
    "start_time": "2022-04-16T17:38:25.636Z"
   },
   {
    "duration": 11,
    "start_time": "2022-04-16T17:38:26.335Z"
   },
   {
    "duration": 10,
    "start_time": "2022-04-16T17:38:26.948Z"
   },
   {
    "duration": 5,
    "start_time": "2022-04-16T17:38:27.744Z"
   },
   {
    "duration": 18,
    "start_time": "2022-04-16T17:38:28.901Z"
   },
   {
    "duration": 5,
    "start_time": "2022-04-16T17:38:29.499Z"
   },
   {
    "duration": 5,
    "start_time": "2022-04-16T17:38:30.086Z"
   },
   {
    "duration": 13713,
    "start_time": "2022-04-16T17:38:30.688Z"
   },
   {
    "duration": 0,
    "start_time": "2022-04-16T17:38:44.404Z"
   },
   {
    "duration": 227,
    "start_time": "2022-04-16T17:38:48.126Z"
   },
   {
    "duration": 44,
    "start_time": "2022-04-16T17:38:49.519Z"
   },
   {
    "duration": 25,
    "start_time": "2022-04-16T17:38:53.080Z"
   },
   {
    "duration": 4,
    "start_time": "2022-04-16T17:38:56.351Z"
   },
   {
    "duration": 3574,
    "start_time": "2022-04-16T17:38:56.993Z"
   },
   {
    "duration": 14,
    "start_time": "2022-04-16T17:39:01.760Z"
   },
   {
    "duration": 11,
    "start_time": "2022-04-16T17:39:12.967Z"
   },
   {
    "duration": 12,
    "start_time": "2022-04-16T17:39:25.241Z"
   },
   {
    "duration": 174,
    "start_time": "2022-04-16T17:39:38.880Z"
   },
   {
    "duration": 3,
    "start_time": "2022-04-16T17:39:47.339Z"
   },
   {
    "duration": 122,
    "start_time": "2022-04-16T17:39:47.933Z"
   },
   {
    "duration": 604,
    "start_time": "2022-04-16T17:40:17.391Z"
   },
   {
    "duration": 1931,
    "start_time": "2022-04-18T06:23:53.084Z"
   },
   {
    "duration": 3,
    "start_time": "2022-04-18T06:23:58.429Z"
   },
   {
    "duration": 3,
    "start_time": "2022-04-18T06:24:05.300Z"
   },
   {
    "duration": 3,
    "start_time": "2022-04-18T06:24:26.741Z"
   },
   {
    "duration": 6,
    "start_time": "2022-04-18T06:24:26.746Z"
   },
   {
    "duration": 25,
    "start_time": "2022-04-18T06:24:26.753Z"
   },
   {
    "duration": 5,
    "start_time": "2022-04-18T06:24:26.779Z"
   },
   {
    "duration": 13,
    "start_time": "2022-04-18T06:24:26.785Z"
   },
   {
    "duration": 66,
    "start_time": "2022-04-18T06:24:26.800Z"
   },
   {
    "duration": 21,
    "start_time": "2022-04-18T06:24:26.867Z"
   },
   {
    "duration": 10,
    "start_time": "2022-04-18T06:24:26.890Z"
   },
   {
    "duration": 12,
    "start_time": "2022-04-18T06:24:26.903Z"
   },
   {
    "duration": 5,
    "start_time": "2022-04-18T06:24:26.916Z"
   },
   {
    "duration": 34,
    "start_time": "2022-04-18T06:24:26.922Z"
   },
   {
    "duration": 14,
    "start_time": "2022-04-18T06:24:26.957Z"
   },
   {
    "duration": 5,
    "start_time": "2022-04-18T06:24:26.972Z"
   },
   {
    "duration": 19,
    "start_time": "2022-04-18T06:24:26.979Z"
   },
   {
    "duration": 14,
    "start_time": "2022-04-18T06:24:27.000Z"
   },
   {
    "duration": 148,
    "start_time": "2022-04-18T06:24:27.016Z"
   },
   {
    "duration": 109,
    "start_time": "2022-04-18T06:24:27.166Z"
   },
   {
    "duration": 5,
    "start_time": "2022-04-18T06:24:27.276Z"
   },
   {
    "duration": 6,
    "start_time": "2022-04-18T06:24:27.282Z"
   },
   {
    "duration": 287,
    "start_time": "2022-04-18T06:24:27.290Z"
   },
   {
    "duration": 6,
    "start_time": "2022-04-18T06:24:27.579Z"
   },
   {
    "duration": 107,
    "start_time": "2022-04-18T06:24:27.587Z"
   },
   {
    "duration": 6,
    "start_time": "2022-04-18T06:24:27.695Z"
   },
   {
    "duration": 10,
    "start_time": "2022-04-18T06:24:27.704Z"
   },
   {
    "duration": 13,
    "start_time": "2022-04-18T06:24:27.715Z"
   },
   {
    "duration": 450,
    "start_time": "2022-04-18T06:24:27.729Z"
   },
   {
    "duration": 102,
    "start_time": "2022-04-18T06:24:28.180Z"
   },
   {
    "duration": 8,
    "start_time": "2022-04-18T06:24:28.285Z"
   },
   {
    "duration": 8,
    "start_time": "2022-04-18T06:24:28.295Z"
   },
   {
    "duration": 7,
    "start_time": "2022-04-18T06:24:28.305Z"
   },
   {
    "duration": 45,
    "start_time": "2022-04-18T06:24:28.313Z"
   },
   {
    "duration": 347,
    "start_time": "2022-04-18T06:24:28.360Z"
   },
   {
    "duration": 29,
    "start_time": "2022-04-18T06:24:28.709Z"
   },
   {
    "duration": 22,
    "start_time": "2022-04-18T06:24:28.739Z"
   },
   {
    "duration": 15,
    "start_time": "2022-04-18T06:24:28.762Z"
   },
   {
    "duration": 5,
    "start_time": "2022-04-18T06:24:28.778Z"
   },
   {
    "duration": 10,
    "start_time": "2022-04-18T06:24:28.785Z"
   },
   {
    "duration": 17,
    "start_time": "2022-04-18T06:24:28.797Z"
   },
   {
    "duration": 10,
    "start_time": "2022-04-18T06:24:28.816Z"
   },
   {
    "duration": 36,
    "start_time": "2022-04-18T06:24:28.827Z"
   },
   {
    "duration": 121,
    "start_time": "2022-04-18T06:24:28.864Z"
   },
   {
    "duration": 11,
    "start_time": "2022-04-18T06:24:28.987Z"
   },
   {
    "duration": 7,
    "start_time": "2022-04-18T06:24:29.000Z"
   },
   {
    "duration": 7,
    "start_time": "2022-04-18T06:24:29.009Z"
   },
   {
    "duration": 3,
    "start_time": "2022-04-18T06:24:29.018Z"
   },
   {
    "duration": 23,
    "start_time": "2022-04-18T06:24:31.501Z"
   },
   {
    "duration": 3,
    "start_time": "2022-04-18T06:25:03.412Z"
   },
   {
    "duration": 20,
    "start_time": "2022-04-18T06:25:13.124Z"
   },
   {
    "duration": 16,
    "start_time": "2022-04-18T06:25:16.564Z"
   },
   {
    "duration": 16,
    "start_time": "2022-04-18T06:25:18.700Z"
   },
   {
    "duration": 2,
    "start_time": "2022-04-18T06:28:37.884Z"
   },
   {
    "duration": 213,
    "start_time": "2022-04-18T06:29:06.643Z"
   },
   {
    "duration": 10,
    "start_time": "2022-04-18T06:29:42.763Z"
   },
   {
    "duration": 6,
    "start_time": "2022-04-18T06:30:08.282Z"
   },
   {
    "duration": 6,
    "start_time": "2022-04-18T06:30:16.473Z"
   },
   {
    "duration": 10,
    "start_time": "2022-04-18T06:30:58.241Z"
   },
   {
    "duration": 7,
    "start_time": "2022-04-18T06:31:50.897Z"
   },
   {
    "duration": 11,
    "start_time": "2022-04-18T06:34:09.383Z"
   },
   {
    "duration": 9,
    "start_time": "2022-04-18T06:35:16.271Z"
   },
   {
    "duration": 6,
    "start_time": "2022-04-18T06:43:08.324Z"
   },
   {
    "duration": 6,
    "start_time": "2022-04-18T06:43:16.657Z"
   },
   {
    "duration": 10,
    "start_time": "2022-04-18T06:44:08.307Z"
   },
   {
    "duration": 11,
    "start_time": "2022-04-18T06:44:12.788Z"
   },
   {
    "duration": 13,
    "start_time": "2022-04-18T06:44:20.922Z"
   },
   {
    "duration": 3,
    "start_time": "2022-04-18T06:45:36.188Z"
   },
   {
    "duration": 119,
    "start_time": "2022-04-18T06:45:37.019Z"
   },
   {
    "duration": 668,
    "start_time": "2022-04-18T06:45:40.749Z"
   },
   {
    "duration": 3,
    "start_time": "2022-04-18T06:46:04.692Z"
   },
   {
    "duration": 996,
    "start_time": "2022-04-18T06:46:05.186Z"
   },
   {
    "duration": 224,
    "start_time": "2022-04-18T06:46:06.185Z"
   },
   {
    "duration": 5,
    "start_time": "2022-04-18T06:50:09.678Z"
   },
   {
    "duration": 306,
    "start_time": "2022-04-18T06:50:59.856Z"
   },
   {
    "duration": 5,
    "start_time": "2022-04-18T06:51:17.439Z"
   },
   {
    "duration": 383,
    "start_time": "2022-04-18T06:51:19.472Z"
   },
   {
    "duration": 5,
    "start_time": "2022-04-18T06:51:27.049Z"
   },
   {
    "duration": 669,
    "start_time": "2022-04-18T06:51:27.896Z"
   },
   {
    "duration": 7,
    "start_time": "2022-04-18T06:51:35.081Z"
   },
   {
    "duration": 410,
    "start_time": "2022-04-18T06:51:35.545Z"
   },
   {
    "duration": 844,
    "start_time": "2022-04-18T07:37:23.407Z"
   },
   {
    "duration": 4,
    "start_time": "2022-04-18T07:38:11.465Z"
   },
   {
    "duration": 333,
    "start_time": "2022-04-18T07:38:12.928Z"
   },
   {
    "duration": 333,
    "start_time": "2022-04-18T07:38:25.825Z"
   },
   {
    "duration": 4,
    "start_time": "2022-04-18T07:38:32.936Z"
   },
   {
    "duration": 828,
    "start_time": "2022-04-18T07:38:48.657Z"
   },
   {
    "duration": 4,
    "start_time": "2022-04-18T07:39:16.350Z"
   },
   {
    "duration": 598,
    "start_time": "2022-04-18T07:39:18.263Z"
   },
   {
    "duration": 800,
    "start_time": "2022-04-18T07:39:26.831Z"
   },
   {
    "duration": 4306,
    "start_time": "2022-04-18T07:42:36.680Z"
   },
   {
    "duration": 5,
    "start_time": "2022-04-18T07:44:50.538Z"
   },
   {
    "duration": 219,
    "start_time": "2022-04-18T07:44:51.942Z"
   },
   {
    "duration": 839,
    "start_time": "2022-04-18T07:44:54.021Z"
   },
   {
    "duration": 4497,
    "start_time": "2022-04-18T07:44:56.574Z"
   },
   {
    "duration": 4,
    "start_time": "2022-04-18T07:45:34.006Z"
   },
   {
    "duration": 3994,
    "start_time": "2022-04-18T07:45:37.150Z"
   },
   {
    "duration": 17,
    "start_time": "2022-04-18T07:53:20.885Z"
   },
   {
    "duration": 12,
    "start_time": "2022-04-18T07:55:20.705Z"
   },
   {
    "duration": 135,
    "start_time": "2022-04-18T07:55:52.737Z"
   },
   {
    "duration": 2456,
    "start_time": "2022-04-19T14:05:24.611Z"
   },
   {
    "duration": 4,
    "start_time": "2022-04-19T14:05:27.070Z"
   },
   {
    "duration": 92,
    "start_time": "2022-04-19T14:05:27.076Z"
   },
   {
    "duration": 8,
    "start_time": "2022-04-19T14:05:27.171Z"
   },
   {
    "duration": 25,
    "start_time": "2022-04-19T14:05:27.183Z"
   },
   {
    "duration": 5,
    "start_time": "2022-04-19T14:05:37.711Z"
   },
   {
    "duration": 8,
    "start_time": "2022-04-19T14:05:37.719Z"
   },
   {
    "duration": 34,
    "start_time": "2022-04-19T14:05:37.730Z"
   },
   {
    "duration": 5,
    "start_time": "2022-04-19T14:05:37.767Z"
   },
   {
    "duration": 20,
    "start_time": "2022-04-19T14:05:37.774Z"
   },
   {
    "duration": 114,
    "start_time": "2022-04-19T14:05:37.796Z"
   },
   {
    "duration": 66,
    "start_time": "2022-04-19T14:05:37.912Z"
   },
   {
    "duration": 17,
    "start_time": "2022-04-19T14:05:37.982Z"
   },
   {
    "duration": 61,
    "start_time": "2022-04-19T14:05:38.001Z"
   },
   {
    "duration": 5,
    "start_time": "2022-04-19T14:05:38.065Z"
   },
   {
    "duration": 10,
    "start_time": "2022-04-19T14:05:38.072Z"
   },
   {
    "duration": 21,
    "start_time": "2022-04-19T14:05:38.085Z"
   },
   {
    "duration": 6,
    "start_time": "2022-04-19T14:05:38.152Z"
   },
   {
    "duration": 19,
    "start_time": "2022-04-19T14:05:38.160Z"
   },
   {
    "duration": 75,
    "start_time": "2022-04-19T14:05:38.182Z"
   },
   {
    "duration": 249,
    "start_time": "2022-04-19T14:05:38.259Z"
   },
   {
    "duration": 203,
    "start_time": "2022-04-19T14:05:38.511Z"
   },
   {
    "duration": 8,
    "start_time": "2022-04-19T14:05:38.716Z"
   },
   {
    "duration": 31,
    "start_time": "2022-04-19T14:05:38.727Z"
   },
   {
    "duration": 497,
    "start_time": "2022-04-19T14:05:38.764Z"
   },
   {
    "duration": 11,
    "start_time": "2022-04-19T14:05:39.263Z"
   },
   {
    "duration": 207,
    "start_time": "2022-04-19T14:05:39.277Z"
   },
   {
    "duration": 12,
    "start_time": "2022-04-19T14:05:39.487Z"
   },
   {
    "duration": 13,
    "start_time": "2022-04-19T14:05:39.502Z"
   },
   {
    "duration": 49,
    "start_time": "2022-04-19T14:05:39.518Z"
   },
   {
    "duration": 664,
    "start_time": "2022-04-19T14:05:39.569Z"
   },
   {
    "duration": 265,
    "start_time": "2022-04-19T14:05:40.237Z"
   },
   {
    "duration": 15,
    "start_time": "2022-04-19T14:05:40.505Z"
   },
   {
    "duration": 39,
    "start_time": "2022-04-19T14:05:40.523Z"
   },
   {
    "duration": 11,
    "start_time": "2022-04-19T14:05:40.565Z"
   },
   {
    "duration": 19,
    "start_time": "2022-04-19T14:05:40.578Z"
   },
   {
    "duration": 846,
    "start_time": "2022-04-19T14:05:40.600Z"
   },
   {
    "duration": 100,
    "start_time": "2022-04-19T14:05:41.453Z"
   },
   {
    "duration": 17,
    "start_time": "2022-04-19T14:05:41.556Z"
   },
   {
    "duration": 7,
    "start_time": "2022-04-19T14:05:41.577Z"
   },
   {
    "duration": 5,
    "start_time": "2022-04-19T14:05:41.586Z"
   },
   {
    "duration": 10,
    "start_time": "2022-04-19T14:05:41.593Z"
   },
   {
    "duration": 21,
    "start_time": "2022-04-19T14:05:41.654Z"
   },
   {
    "duration": 24,
    "start_time": "2022-04-19T14:05:41.678Z"
   },
   {
    "duration": 18,
    "start_time": "2022-04-19T14:05:41.751Z"
   },
   {
    "duration": 347,
    "start_time": "2022-04-19T14:05:41.773Z"
   },
   {
    "duration": 34,
    "start_time": "2022-04-19T14:05:42.123Z"
   },
   {
    "duration": 11,
    "start_time": "2022-04-19T14:05:42.160Z"
   },
   {
    "duration": 19,
    "start_time": "2022-04-19T14:05:42.175Z"
   },
   {
    "duration": 10,
    "start_time": "2022-04-19T14:05:42.197Z"
   },
   {
    "duration": 84,
    "start_time": "2022-04-19T14:05:42.210Z"
   },
   {
    "duration": 56,
    "start_time": "2022-04-19T14:05:42.297Z"
   },
   {
    "duration": 29,
    "start_time": "2022-04-19T14:05:42.356Z"
   },
   {
    "duration": 7,
    "start_time": "2022-04-19T14:05:42.388Z"
   },
   {
    "duration": 464,
    "start_time": "2022-04-19T14:05:42.400Z"
   },
   {
    "duration": 1990,
    "start_time": "2022-04-19T14:05:42.868Z"
   },
   {
    "duration": 5678,
    "start_time": "2022-04-19T14:05:44.861Z"
   },
   {
    "duration": 28,
    "start_time": "2022-04-19T14:05:52.567Z"
   },
   {
    "duration": 27,
    "start_time": "2022-04-19T14:06:44.183Z"
   },
   {
    "duration": 1655,
    "start_time": "2022-04-19T17:12:08.807Z"
   },
   {
    "duration": 3,
    "start_time": "2022-04-19T17:12:10.464Z"
   },
   {
    "duration": 44,
    "start_time": "2022-04-19T17:12:10.468Z"
   },
   {
    "duration": 5,
    "start_time": "2022-04-19T17:12:10.514Z"
   },
   {
    "duration": 14,
    "start_time": "2022-04-19T17:12:10.520Z"
   },
   {
    "duration": 37,
    "start_time": "2022-04-19T17:12:10.535Z"
   },
   {
    "duration": 30,
    "start_time": "2022-04-19T17:12:10.573Z"
   },
   {
    "duration": 10,
    "start_time": "2022-04-19T17:12:10.605Z"
   },
   {
    "duration": 11,
    "start_time": "2022-04-19T17:12:10.616Z"
   },
   {
    "duration": 5,
    "start_time": "2022-04-19T17:12:10.629Z"
   },
   {
    "duration": 7,
    "start_time": "2022-04-19T17:12:10.636Z"
   },
   {
    "duration": 16,
    "start_time": "2022-04-19T17:12:10.644Z"
   },
   {
    "duration": 6,
    "start_time": "2022-04-19T17:12:10.661Z"
   },
   {
    "duration": 32,
    "start_time": "2022-04-19T17:12:10.668Z"
   },
   {
    "duration": 13,
    "start_time": "2022-04-19T17:12:10.701Z"
   },
   {
    "duration": 128,
    "start_time": "2022-04-19T17:12:10.716Z"
   },
   {
    "duration": 104,
    "start_time": "2022-04-19T17:12:10.846Z"
   },
   {
    "duration": 4,
    "start_time": "2022-04-19T17:12:10.952Z"
   },
   {
    "duration": 10,
    "start_time": "2022-04-19T17:12:10.957Z"
   },
   {
    "duration": 345,
    "start_time": "2022-04-19T17:12:10.968Z"
   },
   {
    "duration": 7,
    "start_time": "2022-04-19T17:12:11.314Z"
   },
   {
    "duration": 100,
    "start_time": "2022-04-19T17:12:11.322Z"
   },
   {
    "duration": 7,
    "start_time": "2022-04-19T17:12:11.424Z"
   },
   {
    "duration": 7,
    "start_time": "2022-04-19T17:12:11.432Z"
   },
   {
    "duration": 25,
    "start_time": "2022-04-19T17:12:11.440Z"
   },
   {
    "duration": 411,
    "start_time": "2022-04-19T17:12:11.467Z"
   },
   {
    "duration": 98,
    "start_time": "2022-04-19T17:12:11.880Z"
   },
   {
    "duration": 6,
    "start_time": "2022-04-19T17:12:11.983Z"
   },
   {
    "duration": 15,
    "start_time": "2022-04-19T17:12:12.000Z"
   },
   {
    "duration": 25,
    "start_time": "2022-04-19T17:12:12.017Z"
   },
   {
    "duration": 10,
    "start_time": "2022-04-19T17:12:12.043Z"
   },
   {
    "duration": 375,
    "start_time": "2022-04-19T17:12:12.055Z"
   },
   {
    "duration": 30,
    "start_time": "2022-04-19T17:12:12.432Z"
   },
   {
    "duration": 8,
    "start_time": "2022-04-19T17:12:12.463Z"
   },
   {
    "duration": 5,
    "start_time": "2022-04-19T17:12:12.473Z"
   },
   {
    "duration": 4,
    "start_time": "2022-04-19T17:12:12.500Z"
   },
   {
    "duration": 7,
    "start_time": "2022-04-19T17:12:12.506Z"
   },
   {
    "duration": 12,
    "start_time": "2022-04-19T17:12:12.514Z"
   },
   {
    "duration": 10,
    "start_time": "2022-04-19T17:12:12.527Z"
   },
   {
    "duration": 12,
    "start_time": "2022-04-19T17:12:12.538Z"
   },
   {
    "duration": 142,
    "start_time": "2022-04-19T17:12:12.552Z"
   },
   {
    "duration": 12,
    "start_time": "2022-04-19T17:12:12.696Z"
   },
   {
    "duration": 6,
    "start_time": "2022-04-19T17:12:12.710Z"
   },
   {
    "duration": 6,
    "start_time": "2022-04-19T17:12:12.718Z"
   },
   {
    "duration": 4,
    "start_time": "2022-04-19T17:12:12.726Z"
   },
   {
    "duration": 25,
    "start_time": "2022-04-19T17:12:12.731Z"
   },
   {
    "duration": 45,
    "start_time": "2022-04-19T17:12:12.758Z"
   },
   {
    "duration": 17,
    "start_time": "2022-04-19T17:12:12.804Z"
   },
   {
    "duration": 4,
    "start_time": "2022-04-19T17:12:12.823Z"
   },
   {
    "duration": 375,
    "start_time": "2022-04-19T17:12:12.829Z"
   },
   {
    "duration": 918,
    "start_time": "2022-04-19T17:12:13.206Z"
   },
   {
    "duration": 4223,
    "start_time": "2022-04-19T17:12:14.126Z"
   },
   {
    "duration": 9,
    "start_time": "2022-04-19T17:12:18.351Z"
   },
   {
    "duration": 118,
    "start_time": "2022-04-19T17:27:03.141Z"
   },
   {
    "duration": 3,
    "start_time": "2022-04-19T17:28:07.599Z"
   },
   {
    "duration": 10,
    "start_time": "2022-04-19T17:29:19.612Z"
   },
   {
    "duration": 5,
    "start_time": "2022-04-19T17:29:34.180Z"
   },
   {
    "duration": 4463,
    "start_time": "2022-04-19T17:30:49.580Z"
   },
   {
    "duration": 5,
    "start_time": "2022-04-19T17:31:32.747Z"
   },
   {
    "duration": 180,
    "start_time": "2022-04-19T17:31:44.427Z"
   },
   {
    "duration": 806,
    "start_time": "2022-04-19T17:31:59.704Z"
   },
   {
    "duration": 4094,
    "start_time": "2022-04-19T17:32:09.467Z"
   },
   {
    "duration": 10,
    "start_time": "2022-04-19T17:32:16.657Z"
   },
   {
    "duration": 5512,
    "start_time": "2022-04-19T17:32:34.230Z"
   },
   {
    "duration": 3,
    "start_time": "2022-04-19T17:42:26.521Z"
   },
   {
    "duration": 9,
    "start_time": "2022-04-19T17:43:28.807Z"
   },
   {
    "duration": 5,
    "start_time": "2022-04-19T17:43:29.566Z"
   },
   {
    "duration": 9,
    "start_time": "2022-04-19T17:43:33.455Z"
   },
   {
    "duration": 5,
    "start_time": "2022-04-19T17:43:33.900Z"
   },
   {
    "duration": 10,
    "start_time": "2022-04-19T17:43:39.159Z"
   },
   {
    "duration": 5,
    "start_time": "2022-04-19T17:43:39.904Z"
   },
   {
    "duration": 6406,
    "start_time": "2022-04-19T17:44:35.164Z"
   },
   {
    "duration": 3468,
    "start_time": "2022-04-19T17:45:11.421Z"
   },
   {
    "duration": 4396,
    "start_time": "2022-04-19T17:50:26.838Z"
   },
   {
    "duration": 4231,
    "start_time": "2022-04-19T17:51:33.278Z"
   },
   {
    "duration": 3309,
    "start_time": "2022-04-19T17:52:41.580Z"
   },
   {
    "duration": 4068,
    "start_time": "2022-04-19T17:52:47.262Z"
   },
   {
    "duration": 3,
    "start_time": "2022-04-19T17:58:56.056Z"
   },
   {
    "duration": 3,
    "start_time": "2022-04-19T18:03:35.236Z"
   },
   {
    "duration": 3,
    "start_time": "2022-04-19T18:06:28.046Z"
   },
   {
    "duration": 10,
    "start_time": "2022-04-19T18:07:01.472Z"
   },
   {
    "duration": 27716,
    "start_time": "2022-04-19T18:07:57.201Z"
   },
   {
    "duration": 3,
    "start_time": "2022-04-19T18:10:37.556Z"
   },
   {
    "duration": 11,
    "start_time": "2022-04-19T18:10:38.450Z"
   },
   {
    "duration": 3,
    "start_time": "2022-04-19T18:10:45.903Z"
   },
   {
    "duration": 2,
    "start_time": "2022-04-19T18:10:46.413Z"
   },
   {
    "duration": 75271,
    "start_time": "2022-04-19T18:10:46.900Z"
   },
   {
    "duration": 3,
    "start_time": "2022-04-19T18:13:14.184Z"
   },
   {
    "duration": 4,
    "start_time": "2022-04-19T18:13:17.593Z"
   },
   {
    "duration": 8,
    "start_time": "2022-04-19T18:13:24.475Z"
   },
   {
    "duration": 3,
    "start_time": "2022-04-19T18:17:07.752Z"
   },
   {
    "duration": 2046,
    "start_time": "2022-04-19T18:17:38.384Z"
   },
   {
    "duration": 5,
    "start_time": "2022-04-19T18:18:31.329Z"
   },
   {
    "duration": 3,
    "start_time": "2022-04-19T18:19:37.190Z"
   },
   {
    "duration": 3395,
    "start_time": "2022-04-19T18:20:15.016Z"
   },
   {
    "duration": 3,
    "start_time": "2022-04-19T18:22:11.708Z"
   },
   {
    "duration": 2035,
    "start_time": "2022-04-19T18:22:27.408Z"
   },
   {
    "duration": 6,
    "start_time": "2022-04-19T18:23:44.799Z"
   },
   {
    "duration": 4,
    "start_time": "2022-04-19T18:24:55.942Z"
   },
   {
    "duration": 9,
    "start_time": "2022-04-19T18:25:02.378Z"
   },
   {
    "duration": 4,
    "start_time": "2022-04-19T18:25:11.752Z"
   },
   {
    "duration": 12,
    "start_time": "2022-04-19T18:25:17.229Z"
   },
   {
    "duration": 6,
    "start_time": "2022-04-19T18:25:20.152Z"
   },
   {
    "duration": 9,
    "start_time": "2022-04-19T18:25:21.012Z"
   },
   {
    "duration": 127,
    "start_time": "2022-04-19T18:25:30.653Z"
   },
   {
    "duration": 134,
    "start_time": "2022-04-19T18:27:12.071Z"
   },
   {
    "duration": 106,
    "start_time": "2022-04-19T18:29:02.106Z"
   },
   {
    "duration": 127,
    "start_time": "2022-04-19T18:29:13.991Z"
   },
   {
    "duration": 127,
    "start_time": "2022-04-19T18:29:54.716Z"
   },
   {
    "duration": 116,
    "start_time": "2022-04-19T18:30:18.312Z"
   },
   {
    "duration": 146,
    "start_time": "2022-04-19T18:31:41.524Z"
   },
   {
    "duration": 175,
    "start_time": "2022-04-19T18:32:04.590Z"
   },
   {
    "duration": 181,
    "start_time": "2022-04-19T18:32:44.736Z"
   },
   {
    "duration": 285,
    "start_time": "2022-04-19T18:32:58.929Z"
   },
   {
    "duration": 284,
    "start_time": "2022-04-19T18:33:24.719Z"
   },
   {
    "duration": 180,
    "start_time": "2022-04-19T18:34:24.599Z"
   },
   {
    "duration": 486,
    "start_time": "2022-04-19T18:34:50.357Z"
   },
   {
    "duration": 288,
    "start_time": "2022-04-19T18:35:05.570Z"
   },
   {
    "duration": 280,
    "start_time": "2022-04-19T18:35:43.587Z"
   },
   {
    "duration": 323,
    "start_time": "2022-04-19T18:35:56.708Z"
   },
   {
    "duration": 307,
    "start_time": "2022-04-19T18:36:17.811Z"
   },
   {
    "duration": 1746,
    "start_time": "2022-04-21T18:27:13.755Z"
   },
   {
    "duration": 2,
    "start_time": "2022-04-21T18:27:15.503Z"
   },
   {
    "duration": 35,
    "start_time": "2022-04-21T18:27:15.507Z"
   },
   {
    "duration": 6,
    "start_time": "2022-04-21T18:27:15.544Z"
   },
   {
    "duration": 18,
    "start_time": "2022-04-21T18:27:15.551Z"
   },
   {
    "duration": 45,
    "start_time": "2022-04-21T18:27:15.570Z"
   },
   {
    "duration": 34,
    "start_time": "2022-04-21T18:27:15.617Z"
   },
   {
    "duration": 12,
    "start_time": "2022-04-21T18:27:15.653Z"
   },
   {
    "duration": 14,
    "start_time": "2022-04-21T18:27:15.666Z"
   },
   {
    "duration": 5,
    "start_time": "2022-04-21T18:27:15.683Z"
   },
   {
    "duration": 7,
    "start_time": "2022-04-21T18:27:15.690Z"
   },
   {
    "duration": 42,
    "start_time": "2022-04-21T18:27:15.699Z"
   },
   {
    "duration": 8,
    "start_time": "2022-04-21T18:27:15.743Z"
   },
   {
    "duration": 16,
    "start_time": "2022-04-21T18:27:15.752Z"
   },
   {
    "duration": 18,
    "start_time": "2022-04-21T18:27:15.769Z"
   },
   {
    "duration": 172,
    "start_time": "2022-04-21T18:27:15.789Z"
   },
   {
    "duration": 130,
    "start_time": "2022-04-21T18:27:15.963Z"
   },
   {
    "duration": 6,
    "start_time": "2022-04-21T18:27:16.094Z"
   },
   {
    "duration": 11,
    "start_time": "2022-04-21T18:27:16.102Z"
   },
   {
    "duration": 372,
    "start_time": "2022-04-21T18:27:16.115Z"
   },
   {
    "duration": 8,
    "start_time": "2022-04-21T18:27:16.488Z"
   },
   {
    "duration": 132,
    "start_time": "2022-04-21T18:27:16.498Z"
   },
   {
    "duration": 7,
    "start_time": "2022-04-21T18:27:16.633Z"
   },
   {
    "duration": 9,
    "start_time": "2022-04-21T18:27:16.642Z"
   },
   {
    "duration": 13,
    "start_time": "2022-04-21T18:27:16.653Z"
   },
   {
    "duration": 482,
    "start_time": "2022-04-21T18:27:16.668Z"
   },
   {
    "duration": 114,
    "start_time": "2022-04-21T18:27:17.151Z"
   },
   {
    "duration": 7,
    "start_time": "2022-04-21T18:27:17.270Z"
   },
   {
    "duration": 10,
    "start_time": "2022-04-21T18:27:17.278Z"
   },
   {
    "duration": 5,
    "start_time": "2022-04-21T18:27:17.289Z"
   },
   {
    "duration": 38,
    "start_time": "2022-04-21T18:27:17.296Z"
   },
   {
    "duration": 366,
    "start_time": "2022-04-21T18:27:17.336Z"
   },
   {
    "duration": 35,
    "start_time": "2022-04-21T18:27:17.704Z"
   },
   {
    "duration": 18,
    "start_time": "2022-04-21T18:27:17.741Z"
   },
   {
    "duration": 5,
    "start_time": "2022-04-21T18:27:17.761Z"
   },
   {
    "duration": 6,
    "start_time": "2022-04-21T18:27:17.768Z"
   },
   {
    "duration": 7,
    "start_time": "2022-04-21T18:27:17.776Z"
   },
   {
    "duration": 12,
    "start_time": "2022-04-21T18:27:17.785Z"
   },
   {
    "duration": 10,
    "start_time": "2022-04-21T18:27:17.799Z"
   },
   {
    "duration": 34,
    "start_time": "2022-04-21T18:27:17.810Z"
   },
   {
    "duration": 144,
    "start_time": "2022-04-21T18:27:17.846Z"
   },
   {
    "duration": 11,
    "start_time": "2022-04-21T18:27:17.991Z"
   },
   {
    "duration": 6,
    "start_time": "2022-04-21T18:27:18.003Z"
   },
   {
    "duration": 26,
    "start_time": "2022-04-21T18:27:18.010Z"
   },
   {
    "duration": 4,
    "start_time": "2022-04-21T18:27:18.038Z"
   },
   {
    "duration": 25,
    "start_time": "2022-04-21T18:27:18.044Z"
   },
   {
    "duration": 18,
    "start_time": "2022-04-21T18:27:18.071Z"
   },
   {
    "duration": 19,
    "start_time": "2022-04-21T18:27:18.091Z"
   },
   {
    "duration": 5,
    "start_time": "2022-04-21T18:27:18.134Z"
   },
   {
    "duration": 593,
    "start_time": "2022-04-21T18:27:18.141Z"
   },
   {
    "duration": 970,
    "start_time": "2022-04-21T18:27:18.736Z"
   },
   {
    "duration": 4588,
    "start_time": "2022-04-21T18:27:19.707Z"
   },
   {
    "duration": 13,
    "start_time": "2022-04-21T18:27:24.297Z"
   },
   {
    "duration": 11,
    "start_time": "2022-04-21T18:27:24.311Z"
   },
   {
    "duration": 24,
    "start_time": "2022-04-21T18:27:24.324Z"
   },
   {
    "duration": 50,
    "start_time": "2022-04-21T18:27:24.350Z"
   },
   {
    "duration": 5846,
    "start_time": "2022-04-21T18:27:24.402Z"
   },
   {
    "duration": 5,
    "start_time": "2022-04-21T18:27:30.249Z"
   },
   {
    "duration": 25,
    "start_time": "2022-04-21T18:27:30.255Z"
   },
   {
    "duration": 17,
    "start_time": "2022-04-21T18:27:30.282Z"
   },
   {
    "duration": 3523,
    "start_time": "2022-04-21T18:27:30.301Z"
   },
   {
    "duration": 4455,
    "start_time": "2022-04-21T18:27:35.431Z"
   },
   {
    "duration": 3661,
    "start_time": "2022-04-21T18:30:47.832Z"
   },
   {
    "duration": 3485,
    "start_time": "2022-04-21T18:31:02.811Z"
   },
   {
    "duration": 3,
    "start_time": "2022-04-21T18:35:06.732Z"
   },
   {
    "duration": 3,
    "start_time": "2022-04-21T18:36:03.354Z"
   },
   {
    "duration": 97801,
    "start_time": "2022-04-21T18:36:03.956Z"
   },
   {
    "duration": 3,
    "start_time": "2022-04-21T18:38:01.695Z"
   },
   {
    "duration": 2137,
    "start_time": "2022-04-21T18:38:05.835Z"
   },
   {
    "duration": 9,
    "start_time": "2022-04-21T18:46:06.535Z"
   },
   {
    "duration": 4,
    "start_time": "2022-04-21T18:46:22.261Z"
   },
   {
    "duration": 9,
    "start_time": "2022-04-21T18:46:34.980Z"
   },
   {
    "duration": 4,
    "start_time": "2022-04-21T18:46:42.773Z"
   },
   {
    "duration": 5,
    "start_time": "2022-04-21T18:47:11.934Z"
   },
   {
    "duration": 152,
    "start_time": "2022-04-21T18:47:12.941Z"
   },
   {
    "duration": 89,
    "start_time": "2022-04-21T18:47:36.522Z"
   },
   {
    "duration": 25,
    "start_time": "2022-04-21T18:49:36.342Z"
   },
   {
    "duration": 245,
    "start_time": "2022-04-21T18:49:54.293Z"
   },
   {
    "duration": 17,
    "start_time": "2022-04-21T18:53:07.216Z"
   },
   {
    "duration": 145,
    "start_time": "2022-04-21T18:54:29.288Z"
   },
   {
    "duration": 145,
    "start_time": "2022-04-21T18:54:32.214Z"
   },
   {
    "duration": 134,
    "start_time": "2022-04-21T18:54:51.549Z"
   },
   {
    "duration": 5,
    "start_time": "2022-04-21T18:57:44.690Z"
   },
   {
    "duration": 582,
    "start_time": "2022-04-21T18:57:50.358Z"
   },
   {
    "duration": 4,
    "start_time": "2022-04-21T18:59:08.789Z"
   },
   {
    "duration": 501,
    "start_time": "2022-04-21T18:59:12.850Z"
   },
   {
    "duration": 5,
    "start_time": "2022-04-21T18:59:49.380Z"
   },
   {
    "duration": 430,
    "start_time": "2022-04-21T18:59:49.917Z"
   },
   {
    "duration": 5,
    "start_time": "2022-04-21T19:00:48.153Z"
   },
   {
    "duration": 604,
    "start_time": "2022-04-21T19:00:48.636Z"
   },
   {
    "duration": 5,
    "start_time": "2022-04-21T19:01:34.782Z"
   },
   {
    "duration": 1433,
    "start_time": "2022-04-21T19:01:35.320Z"
   },
   {
    "duration": 6,
    "start_time": "2022-04-21T19:01:46.738Z"
   },
   {
    "duration": 474,
    "start_time": "2022-04-21T19:01:47.076Z"
   },
   {
    "duration": 5,
    "start_time": "2022-04-21T19:02:07.817Z"
   },
   {
    "duration": 600,
    "start_time": "2022-04-21T19:02:08.736Z"
   },
   {
    "duration": 5,
    "start_time": "2022-04-21T19:03:05.070Z"
   },
   {
    "duration": 551,
    "start_time": "2022-04-21T19:03:05.690Z"
   },
   {
    "duration": 5,
    "start_time": "2022-04-21T19:03:33.749Z"
   },
   {
    "duration": 541,
    "start_time": "2022-04-21T19:03:34.098Z"
   },
   {
    "duration": 1195,
    "start_time": "2022-04-21T19:03:48.661Z"
   },
   {
    "duration": 4755,
    "start_time": "2022-04-21T19:03:58.433Z"
   },
   {
    "duration": 13,
    "start_time": "2022-04-21T19:04:45.991Z"
   },
   {
    "duration": 4,
    "start_time": "2022-04-21T19:04:57.967Z"
   },
   {
    "duration": 12,
    "start_time": "2022-04-21T19:04:58.254Z"
   },
   {
    "duration": 5,
    "start_time": "2022-04-21T19:04:58.463Z"
   },
   {
    "duration": 6075,
    "start_time": "2022-04-21T19:04:59.184Z"
   },
   {
    "duration": 4,
    "start_time": "2022-04-21T19:06:22.602Z"
   },
   {
    "duration": 12,
    "start_time": "2022-04-21T19:06:23.205Z"
   },
   {
    "duration": 6,
    "start_time": "2022-04-21T19:06:23.972Z"
   },
   {
    "duration": 3366,
    "start_time": "2022-04-21T19:06:25.410Z"
   },
   {
    "duration": 4380,
    "start_time": "2022-04-21T19:07:09.322Z"
   },
   {
    "duration": 2,
    "start_time": "2022-04-21T19:07:24.574Z"
   },
   {
    "duration": 3,
    "start_time": "2022-04-21T19:07:24.977Z"
   },
   {
    "duration": 3,
    "start_time": "2022-04-21T19:07:32.043Z"
   },
   {
    "duration": 2134,
    "start_time": "2022-04-21T19:07:32.435Z"
   },
   {
    "duration": 141,
    "start_time": "2022-04-21T19:07:50.417Z"
   },
   {
    "duration": 4,
    "start_time": "2022-04-21T19:08:58.747Z"
   },
   {
    "duration": 238,
    "start_time": "2022-04-21T19:08:59.557Z"
   },
   {
    "duration": 11,
    "start_time": "2022-04-21T19:11:04.794Z"
   },
   {
    "duration": 22,
    "start_time": "2022-04-21T19:11:45.750Z"
   },
   {
    "duration": 14,
    "start_time": "2022-04-21T19:12:14.141Z"
   },
   {
    "duration": 7,
    "start_time": "2022-04-21T19:12:24.668Z"
   },
   {
    "duration": 7,
    "start_time": "2022-04-21T19:12:25.397Z"
   },
   {
    "duration": 7,
    "start_time": "2022-04-21T19:12:26.057Z"
   },
   {
    "duration": 3,
    "start_time": "2022-04-21T19:12:33.323Z"
   },
   {
    "duration": 31,
    "start_time": "2022-04-21T19:12:54.948Z"
   },
   {
    "duration": 20,
    "start_time": "2022-04-21T19:12:57.075Z"
   },
   {
    "duration": 22,
    "start_time": "2022-04-21T19:13:03.567Z"
   },
   {
    "duration": 6,
    "start_time": "2022-04-21T19:14:45.225Z"
   },
   {
    "duration": 416,
    "start_time": "2022-04-21T19:14:51.630Z"
   },
   {
    "duration": 1020,
    "start_time": "2022-04-21T19:15:16.070Z"
   },
   {
    "duration": 4028,
    "start_time": "2022-04-21T19:15:22.060Z"
   },
   {
    "duration": 14,
    "start_time": "2022-04-21T19:16:09.340Z"
   },
   {
    "duration": 4,
    "start_time": "2022-04-21T19:16:16.356Z"
   },
   {
    "duration": 12,
    "start_time": "2022-04-21T19:16:16.918Z"
   },
   {
    "duration": 6,
    "start_time": "2022-04-21T19:16:17.805Z"
   },
   {
    "duration": 4909,
    "start_time": "2022-04-21T19:16:19.134Z"
   },
   {
    "duration": 13,
    "start_time": "2022-04-21T19:17:12.148Z"
   },
   {
    "duration": 4,
    "start_time": "2022-04-21T19:17:25.499Z"
   },
   {
    "duration": 11,
    "start_time": "2022-04-21T19:17:26.057Z"
   },
   {
    "duration": 6,
    "start_time": "2022-04-21T19:17:26.809Z"
   },
   {
    "duration": 3341,
    "start_time": "2022-04-21T19:17:27.922Z"
   },
   {
    "duration": 4328,
    "start_time": "2022-04-21T19:18:24.413Z"
   },
   {
    "duration": 4,
    "start_time": "2022-04-21T19:18:53.263Z"
   },
   {
    "duration": 3,
    "start_time": "2022-04-21T19:18:54.686Z"
   },
   {
    "duration": 6307,
    "start_time": "2022-04-21T19:19:03.028Z"
   },
   {
    "duration": 1695,
    "start_time": "2022-04-21T19:19:31.574Z"
   },
   {
    "duration": 3,
    "start_time": "2022-04-21T19:19:33.271Z"
   },
   {
    "duration": 46,
    "start_time": "2022-04-21T19:19:33.275Z"
   },
   {
    "duration": 6,
    "start_time": "2022-04-21T19:19:33.323Z"
   },
   {
    "duration": 17,
    "start_time": "2022-04-21T19:19:33.331Z"
   },
   {
    "duration": 53,
    "start_time": "2022-04-21T19:19:33.350Z"
   },
   {
    "duration": 41,
    "start_time": "2022-04-21T19:19:33.404Z"
   },
   {
    "duration": 14,
    "start_time": "2022-04-21T19:19:33.448Z"
   },
   {
    "duration": 16,
    "start_time": "2022-04-21T19:19:33.464Z"
   },
   {
    "duration": 6,
    "start_time": "2022-04-21T19:19:33.484Z"
   },
   {
    "duration": 9,
    "start_time": "2022-04-21T19:19:33.492Z"
   },
   {
    "duration": 15,
    "start_time": "2022-04-21T19:19:33.533Z"
   },
   {
    "duration": 7,
    "start_time": "2022-04-21T19:19:33.550Z"
   },
   {
    "duration": 17,
    "start_time": "2022-04-21T19:19:33.559Z"
   },
   {
    "duration": 17,
    "start_time": "2022-04-21T19:19:33.578Z"
   },
   {
    "duration": 188,
    "start_time": "2022-04-21T19:19:33.597Z"
   },
   {
    "duration": 137,
    "start_time": "2022-04-21T19:19:33.787Z"
   },
   {
    "duration": 11,
    "start_time": "2022-04-21T19:19:33.926Z"
   },
   {
    "duration": 10,
    "start_time": "2022-04-21T19:19:33.939Z"
   },
   {
    "duration": 322,
    "start_time": "2022-04-21T19:19:33.952Z"
   },
   {
    "duration": 8,
    "start_time": "2022-04-21T19:19:34.276Z"
   },
   {
    "duration": 136,
    "start_time": "2022-04-21T19:19:34.286Z"
   },
   {
    "duration": 13,
    "start_time": "2022-04-21T19:19:34.424Z"
   },
   {
    "duration": 8,
    "start_time": "2022-04-21T19:19:34.438Z"
   },
   {
    "duration": 14,
    "start_time": "2022-04-21T19:19:34.448Z"
   },
   {
    "duration": 524,
    "start_time": "2022-04-21T19:19:34.464Z"
   },
   {
    "duration": 246,
    "start_time": "2022-04-21T19:19:34.989Z"
   },
   {
    "duration": 11,
    "start_time": "2022-04-21T19:19:35.239Z"
   },
   {
    "duration": 12,
    "start_time": "2022-04-21T19:19:35.252Z"
   },
   {
    "duration": 10,
    "start_time": "2022-04-21T19:19:35.266Z"
   },
   {
    "duration": 70,
    "start_time": "2022-04-21T19:19:35.278Z"
   },
   {
    "duration": 695,
    "start_time": "2022-04-21T19:19:35.351Z"
   },
   {
    "duration": 89,
    "start_time": "2022-04-21T19:19:36.048Z"
   },
   {
    "duration": 10,
    "start_time": "2022-04-21T19:19:36.139Z"
   },
   {
    "duration": 21,
    "start_time": "2022-04-21T19:19:36.151Z"
   },
   {
    "duration": 61,
    "start_time": "2022-04-21T19:19:36.174Z"
   },
   {
    "duration": 6,
    "start_time": "2022-04-21T19:19:36.237Z"
   },
   {
    "duration": 26,
    "start_time": "2022-04-21T19:19:36.245Z"
   },
   {
    "duration": 62,
    "start_time": "2022-04-21T19:19:36.273Z"
   },
   {
    "duration": 22,
    "start_time": "2022-04-21T19:19:36.337Z"
   },
   {
    "duration": 313,
    "start_time": "2022-04-21T19:19:36.362Z"
   },
   {
    "duration": 69,
    "start_time": "2022-04-21T19:19:36.678Z"
   },
   {
    "duration": 9,
    "start_time": "2022-04-21T19:19:36.749Z"
   },
   {
    "duration": 13,
    "start_time": "2022-04-21T19:19:36.759Z"
   },
   {
    "duration": 62,
    "start_time": "2022-04-21T19:19:36.774Z"
   },
   {
    "duration": 5,
    "start_time": "2022-04-21T19:19:36.838Z"
   },
   {
    "duration": 39,
    "start_time": "2022-04-21T19:19:36.845Z"
   },
   {
    "duration": 54,
    "start_time": "2022-04-21T19:19:36.886Z"
   },
   {
    "duration": 21,
    "start_time": "2022-04-21T19:19:36.942Z"
   },
   {
    "duration": 5,
    "start_time": "2022-04-21T19:19:36.964Z"
   },
   {
    "duration": 665,
    "start_time": "2022-04-21T19:19:36.971Z"
   },
   {
    "duration": 1011,
    "start_time": "2022-04-21T19:19:37.638Z"
   },
   {
    "duration": 4205,
    "start_time": "2022-04-21T19:19:38.651Z"
   },
   {
    "duration": 18,
    "start_time": "2022-04-21T19:19:42.858Z"
   },
   {
    "duration": 6,
    "start_time": "2022-04-21T19:19:42.934Z"
   },
   {
    "duration": 18,
    "start_time": "2022-04-21T19:19:42.942Z"
   },
   {
    "duration": 7,
    "start_time": "2022-04-21T19:19:42.962Z"
   },
   {
    "duration": 5214,
    "start_time": "2022-04-21T19:19:42.972Z"
   },
   {
    "duration": 5,
    "start_time": "2022-04-21T19:19:48.187Z"
   },
   {
    "duration": 18,
    "start_time": "2022-04-21T19:19:48.193Z"
   },
   {
    "duration": 8,
    "start_time": "2022-04-21T19:19:48.213Z"
   },
   {
    "duration": 3828,
    "start_time": "2022-04-21T19:19:48.234Z"
   },
   {
    "duration": 4299,
    "start_time": "2022-04-21T19:19:52.064Z"
   },
   {
    "duration": 4,
    "start_time": "2022-04-21T19:19:56.365Z"
   },
   {
    "duration": 3,
    "start_time": "2022-04-21T19:19:59.540Z"
   },
   {
    "duration": 90439,
    "start_time": "2022-04-21T19:20:00.061Z"
   },
   {
    "duration": 5,
    "start_time": "2022-04-21T19:21:36.605Z"
   },
   {
    "duration": 4,
    "start_time": "2022-04-21T19:22:03.776Z"
   },
   {
    "duration": 1801,
    "start_time": "2022-04-21T19:22:05.747Z"
   },
   {
    "duration": 141,
    "start_time": "2022-04-21T19:22:38.240Z"
   },
   {
    "duration": 146,
    "start_time": "2022-04-21T19:23:23.691Z"
   },
   {
    "duration": 218,
    "start_time": "2022-04-21T19:23:31.886Z"
   },
   {
    "duration": 231,
    "start_time": "2022-04-21T19:25:31.450Z"
   },
   {
    "duration": 20,
    "start_time": "2022-04-21T19:27:57.624Z"
   },
   {
    "duration": 15,
    "start_time": "2022-04-21T19:28:26.460Z"
   },
   {
    "duration": 22,
    "start_time": "2022-04-21T19:28:58.998Z"
   },
   {
    "duration": 9,
    "start_time": "2022-04-21T19:29:15.566Z"
   },
   {
    "duration": 9,
    "start_time": "2022-04-21T19:29:23.199Z"
   },
   {
    "duration": 9,
    "start_time": "2022-04-21T19:29:29.171Z"
   },
   {
    "duration": 9,
    "start_time": "2022-04-21T19:29:39.237Z"
   },
   {
    "duration": 10,
    "start_time": "2022-04-21T19:29:44.238Z"
   },
   {
    "duration": 9,
    "start_time": "2022-04-21T19:29:46.666Z"
   },
   {
    "duration": 10,
    "start_time": "2022-04-21T19:29:49.360Z"
   },
   {
    "duration": 8,
    "start_time": "2022-04-21T19:29:54.934Z"
   },
   {
    "duration": 9,
    "start_time": "2022-04-21T19:29:57.675Z"
   },
   {
    "duration": 8,
    "start_time": "2022-04-21T19:30:00.738Z"
   },
   {
    "duration": 9,
    "start_time": "2022-04-21T19:30:04.308Z"
   },
   {
    "duration": 13,
    "start_time": "2022-04-21T19:30:06.909Z"
   },
   {
    "duration": 9,
    "start_time": "2022-04-21T19:30:10.108Z"
   },
   {
    "duration": 9,
    "start_time": "2022-04-21T19:30:13.706Z"
   },
   {
    "duration": 11,
    "start_time": "2022-04-21T19:30:16.574Z"
   },
   {
    "duration": 470,
    "start_time": "2022-04-21T19:30:49.849Z"
   },
   {
    "duration": 11,
    "start_time": "2022-04-21T19:31:10.792Z"
   },
   {
    "duration": 11,
    "start_time": "2022-04-21T19:31:13.573Z"
   },
   {
    "duration": 10,
    "start_time": "2022-04-21T19:31:18.255Z"
   },
   {
    "duration": 96,
    "start_time": "2022-04-21T19:31:48.149Z"
   },
   {
    "duration": 1786,
    "start_time": "2022-04-22T15:33:40.943Z"
   },
   {
    "duration": 3,
    "start_time": "2022-04-22T15:33:42.731Z"
   },
   {
    "duration": 29,
    "start_time": "2022-04-22T15:33:42.735Z"
   },
   {
    "duration": 5,
    "start_time": "2022-04-22T15:33:42.766Z"
   },
   {
    "duration": 31,
    "start_time": "2022-04-22T15:33:42.773Z"
   },
   {
    "duration": 43,
    "start_time": "2022-04-22T15:33:42.805Z"
   },
   {
    "duration": 20,
    "start_time": "2022-04-22T15:33:42.849Z"
   },
   {
    "duration": 19,
    "start_time": "2022-04-22T15:33:42.878Z"
   },
   {
    "duration": 14,
    "start_time": "2022-04-22T15:33:42.898Z"
   },
   {
    "duration": 5,
    "start_time": "2022-04-22T15:33:42.914Z"
   },
   {
    "duration": 6,
    "start_time": "2022-04-22T15:33:42.921Z"
   },
   {
    "duration": 15,
    "start_time": "2022-04-22T15:33:42.928Z"
   },
   {
    "duration": 33,
    "start_time": "2022-04-22T15:33:42.944Z"
   },
   {
    "duration": 19,
    "start_time": "2022-04-22T15:33:42.982Z"
   },
   {
    "duration": 17,
    "start_time": "2022-04-22T15:33:43.002Z"
   },
   {
    "duration": 162,
    "start_time": "2022-04-22T15:33:43.021Z"
   },
   {
    "duration": 123,
    "start_time": "2022-04-22T15:33:43.185Z"
   },
   {
    "duration": 5,
    "start_time": "2022-04-22T15:33:43.310Z"
   },
   {
    "duration": 7,
    "start_time": "2022-04-22T15:33:43.316Z"
   },
   {
    "duration": 333,
    "start_time": "2022-04-22T15:33:43.325Z"
   },
   {
    "duration": 22,
    "start_time": "2022-04-22T15:33:43.660Z"
   },
   {
    "duration": 135,
    "start_time": "2022-04-22T15:33:43.684Z"
   },
   {
    "duration": 7,
    "start_time": "2022-04-22T15:33:43.821Z"
   },
   {
    "duration": 7,
    "start_time": "2022-04-22T15:33:43.830Z"
   },
   {
    "duration": 12,
    "start_time": "2022-04-22T15:33:43.839Z"
   },
   {
    "duration": 482,
    "start_time": "2022-04-22T15:33:43.853Z"
   },
   {
    "duration": 110,
    "start_time": "2022-04-22T15:33:44.337Z"
   },
   {
    "duration": 9,
    "start_time": "2022-04-22T15:33:44.449Z"
   },
   {
    "duration": 29,
    "start_time": "2022-04-22T15:33:44.459Z"
   },
   {
    "duration": 8,
    "start_time": "2022-04-22T15:33:44.490Z"
   },
   {
    "duration": 12,
    "start_time": "2022-04-22T15:33:44.500Z"
   },
   {
    "duration": 441,
    "start_time": "2022-04-22T15:33:44.514Z"
   },
   {
    "duration": 34,
    "start_time": "2022-04-22T15:33:44.956Z"
   },
   {
    "duration": 20,
    "start_time": "2022-04-22T15:33:44.991Z"
   },
   {
    "duration": 20,
    "start_time": "2022-04-22T15:33:45.013Z"
   },
   {
    "duration": 15,
    "start_time": "2022-04-22T15:33:45.035Z"
   },
   {
    "duration": 30,
    "start_time": "2022-04-22T15:33:45.052Z"
   },
   {
    "duration": 25,
    "start_time": "2022-04-22T15:33:45.085Z"
   },
   {
    "duration": 10,
    "start_time": "2022-04-22T15:33:45.112Z"
   },
   {
    "duration": 18,
    "start_time": "2022-04-22T15:33:45.124Z"
   },
   {
    "duration": 139,
    "start_time": "2022-04-22T15:33:45.147Z"
   },
   {
    "duration": 14,
    "start_time": "2022-04-22T15:33:45.289Z"
   },
   {
    "duration": 13,
    "start_time": "2022-04-22T15:33:45.305Z"
   },
   {
    "duration": 34,
    "start_time": "2022-04-22T15:33:45.320Z"
   },
   {
    "duration": 11,
    "start_time": "2022-04-22T15:33:45.356Z"
   },
   {
    "duration": 32,
    "start_time": "2022-04-22T15:33:45.369Z"
   },
   {
    "duration": 42,
    "start_time": "2022-04-22T15:33:45.403Z"
   },
   {
    "duration": 19,
    "start_time": "2022-04-22T15:33:45.447Z"
   },
   {
    "duration": 33,
    "start_time": "2022-04-22T15:33:45.468Z"
   },
   {
    "duration": 23,
    "start_time": "2022-04-22T15:33:45.503Z"
   },
   {
    "duration": 1046,
    "start_time": "2022-04-22T15:33:45.528Z"
   },
   {
    "duration": 1067,
    "start_time": "2022-04-22T15:33:46.576Z"
   },
   {
    "duration": 5126,
    "start_time": "2022-04-22T15:33:47.645Z"
   },
   {
    "duration": 16,
    "start_time": "2022-04-22T15:33:52.777Z"
   },
   {
    "duration": 14,
    "start_time": "2022-04-22T15:33:52.795Z"
   },
   {
    "duration": 14,
    "start_time": "2022-04-22T15:33:52.811Z"
   },
   {
    "duration": 4,
    "start_time": "2022-04-22T15:33:52.827Z"
   },
   {
    "duration": 4760,
    "start_time": "2022-04-22T15:33:52.833Z"
   },
   {
    "duration": 4,
    "start_time": "2022-04-22T15:33:57.596Z"
   },
   {
    "duration": 15,
    "start_time": "2022-04-22T15:33:57.602Z"
   },
   {
    "duration": 5,
    "start_time": "2022-04-22T15:33:57.619Z"
   },
   {
    "duration": 3094,
    "start_time": "2022-04-22T15:33:57.626Z"
   },
   {
    "duration": 4045,
    "start_time": "2022-04-22T15:34:00.722Z"
   },
   {
    "duration": 3,
    "start_time": "2022-04-22T15:34:04.769Z"
   },
   {
    "duration": 17,
    "start_time": "2022-04-22T15:34:04.777Z"
   },
   {
    "duration": 81935,
    "start_time": "2022-04-22T15:34:04.796Z"
   },
   {
    "duration": 4,
    "start_time": "2022-04-22T15:35:26.733Z"
   },
   {
    "duration": 6,
    "start_time": "2022-04-22T15:35:26.739Z"
   },
   {
    "duration": 1547,
    "start_time": "2022-04-22T15:35:26.746Z"
   },
   {
    "duration": 255,
    "start_time": "2022-04-22T15:35:28.294Z"
   },
   {
    "duration": 132,
    "start_time": "2022-04-22T15:36:00.321Z"
   },
   {
    "duration": 116,
    "start_time": "2022-04-22T15:36:40.137Z"
   },
   {
    "duration": 128,
    "start_time": "2022-04-22T15:36:43.540Z"
   },
   {
    "duration": 144,
    "start_time": "2022-04-22T15:36:51.147Z"
   },
   {
    "duration": 244,
    "start_time": "2022-04-22T15:36:55.607Z"
   },
   {
    "duration": 13,
    "start_time": "2022-04-22T15:37:44.671Z"
   },
   {
    "duration": 55595,
    "start_time": "2022-04-22T20:47:48.098Z"
   },
   {
    "duration": 3,
    "start_time": "2022-04-22T20:48:43.694Z"
   },
   {
    "duration": 43,
    "start_time": "2022-04-22T20:48:43.698Z"
   },
   {
    "duration": 5,
    "start_time": "2022-04-22T20:48:43.742Z"
   },
   {
    "duration": 14,
    "start_time": "2022-04-22T20:48:43.748Z"
   },
   {
    "duration": 34,
    "start_time": "2022-04-22T20:48:43.764Z"
   },
   {
    "duration": 23,
    "start_time": "2022-04-22T20:48:43.804Z"
   },
   {
    "duration": 10,
    "start_time": "2022-04-22T20:48:43.828Z"
   },
   {
    "duration": 13,
    "start_time": "2022-04-22T20:48:43.840Z"
   },
   {
    "duration": 3,
    "start_time": "2022-04-22T20:48:43.855Z"
   },
   {
    "duration": 4,
    "start_time": "2022-04-22T20:48:43.860Z"
   },
   {
    "duration": 12,
    "start_time": "2022-04-22T20:48:43.865Z"
   },
   {
    "duration": 30,
    "start_time": "2022-04-22T20:48:43.878Z"
   },
   {
    "duration": 14,
    "start_time": "2022-04-22T20:48:43.909Z"
   },
   {
    "duration": 14,
    "start_time": "2022-04-22T20:48:43.924Z"
   },
   {
    "duration": 126,
    "start_time": "2022-04-22T20:48:43.939Z"
   },
   {
    "duration": 101,
    "start_time": "2022-04-22T20:48:44.066Z"
   },
   {
    "duration": 4,
    "start_time": "2022-04-22T20:48:44.169Z"
   },
   {
    "duration": 6,
    "start_time": "2022-04-22T20:48:44.174Z"
   },
   {
    "duration": 332,
    "start_time": "2022-04-22T20:48:44.182Z"
   },
   {
    "duration": 7,
    "start_time": "2022-04-22T20:48:44.516Z"
   },
   {
    "duration": 103,
    "start_time": "2022-04-22T20:48:44.524Z"
   },
   {
    "duration": 5,
    "start_time": "2022-04-22T20:48:44.629Z"
   },
   {
    "duration": 5,
    "start_time": "2022-04-22T20:48:44.636Z"
   },
   {
    "duration": 10,
    "start_time": "2022-04-22T20:48:44.642Z"
   },
   {
    "duration": 422,
    "start_time": "2022-04-22T20:48:44.654Z"
   },
   {
    "duration": 92,
    "start_time": "2022-04-22T20:48:45.078Z"
   },
   {
    "duration": 6,
    "start_time": "2022-04-22T20:48:45.173Z"
   },
   {
    "duration": 8,
    "start_time": "2022-04-22T20:48:45.181Z"
   },
   {
    "duration": 6,
    "start_time": "2022-04-22T20:48:45.199Z"
   },
   {
    "duration": 15,
    "start_time": "2022-04-22T20:48:45.209Z"
   },
   {
    "duration": 313,
    "start_time": "2022-04-22T20:48:45.226Z"
   },
   {
    "duration": 28,
    "start_time": "2022-04-22T20:48:45.541Z"
   },
   {
    "duration": 41,
    "start_time": "2022-04-22T20:48:45.571Z"
   },
   {
    "duration": 8,
    "start_time": "2022-04-22T20:48:45.614Z"
   },
   {
    "duration": 4,
    "start_time": "2022-04-22T20:48:45.623Z"
   },
   {
    "duration": 7,
    "start_time": "2022-04-22T20:48:45.628Z"
   },
   {
    "duration": 13,
    "start_time": "2022-04-22T20:48:45.636Z"
   },
   {
    "duration": 11,
    "start_time": "2022-04-22T20:48:45.650Z"
   },
   {
    "duration": 10,
    "start_time": "2022-04-22T20:48:45.663Z"
   },
   {
    "duration": 121,
    "start_time": "2022-04-22T20:48:45.674Z"
   },
   {
    "duration": 16,
    "start_time": "2022-04-22T20:48:45.796Z"
   },
   {
    "duration": 9,
    "start_time": "2022-04-22T20:48:45.814Z"
   },
   {
    "duration": 5,
    "start_time": "2022-04-22T20:48:45.824Z"
   },
   {
    "duration": 8,
    "start_time": "2022-04-22T20:48:45.830Z"
   },
   {
    "duration": 5,
    "start_time": "2022-04-22T20:48:45.839Z"
   },
   {
    "duration": 25,
    "start_time": "2022-04-22T20:48:45.845Z"
   },
   {
    "duration": 38,
    "start_time": "2022-04-22T20:48:45.871Z"
   },
   {
    "duration": 22,
    "start_time": "2022-04-22T20:48:45.910Z"
   },
   {
    "duration": 4,
    "start_time": "2022-04-22T20:48:45.933Z"
   },
   {
    "duration": 481,
    "start_time": "2022-04-22T20:48:45.939Z"
   },
   {
    "duration": 893,
    "start_time": "2022-04-22T20:48:46.422Z"
   },
   {
    "duration": 4036,
    "start_time": "2022-04-22T20:48:47.317Z"
   },
   {
    "duration": 11,
    "start_time": "2022-04-22T20:48:51.354Z"
   },
   {
    "duration": 6,
    "start_time": "2022-04-22T20:48:51.366Z"
   },
   {
    "duration": 12,
    "start_time": "2022-04-22T20:48:51.374Z"
   },
   {
    "duration": 5,
    "start_time": "2022-04-22T20:48:51.387Z"
   },
   {
    "duration": 4756,
    "start_time": "2022-04-22T20:48:51.393Z"
   },
   {
    "duration": 4,
    "start_time": "2022-04-22T20:48:56.151Z"
   },
   {
    "duration": 18,
    "start_time": "2022-04-22T20:48:56.157Z"
   },
   {
    "duration": 5,
    "start_time": "2022-04-22T20:48:56.176Z"
   },
   {
    "duration": 3059,
    "start_time": "2022-04-22T20:48:56.182Z"
   },
   {
    "duration": 3961,
    "start_time": "2022-04-22T20:48:59.243Z"
   },
   {
    "duration": 5,
    "start_time": "2022-04-22T20:49:03.206Z"
   },
   {
    "duration": 6,
    "start_time": "2022-04-22T20:49:03.213Z"
   },
   {
    "duration": 76871,
    "start_time": "2022-04-22T20:49:03.220Z"
   },
   {
    "duration": 3,
    "start_time": "2022-04-22T20:50:20.093Z"
   },
   {
    "duration": 18,
    "start_time": "2022-04-22T20:50:20.097Z"
   },
   {
    "duration": 1856,
    "start_time": "2022-04-22T20:50:20.116Z"
   },
   {
    "duration": 112,
    "start_time": "2022-04-22T20:50:21.974Z"
   },
   {
    "duration": 9,
    "start_time": "2022-04-22T20:50:22.087Z"
   },
   {
    "duration": 22,
    "start_time": "2022-04-22T21:01:15.308Z"
   },
   {
    "duration": 10,
    "start_time": "2022-04-22T21:01:46.195Z"
   },
   {
    "duration": 6,
    "start_time": "2022-04-22T21:01:59.520Z"
   },
   {
    "duration": 5,
    "start_time": "2022-04-22T21:02:10.725Z"
   },
   {
    "duration": 2730,
    "start_time": "2022-04-23T08:32:42.330Z"
   },
   {
    "duration": 3,
    "start_time": "2022-04-23T08:32:45.063Z"
   },
   {
    "duration": 66,
    "start_time": "2022-04-23T08:32:45.068Z"
   },
   {
    "duration": 8,
    "start_time": "2022-04-23T08:32:45.136Z"
   },
   {
    "duration": 20,
    "start_time": "2022-04-23T08:32:45.148Z"
   },
   {
    "duration": 84,
    "start_time": "2022-04-23T08:32:45.170Z"
   },
   {
    "duration": 45,
    "start_time": "2022-04-23T08:32:45.257Z"
   },
   {
    "duration": 25,
    "start_time": "2022-04-23T08:32:45.304Z"
   },
   {
    "duration": 21,
    "start_time": "2022-04-23T08:32:45.331Z"
   },
   {
    "duration": 11,
    "start_time": "2022-04-23T08:32:45.391Z"
   },
   {
    "duration": 24,
    "start_time": "2022-04-23T08:32:45.404Z"
   },
   {
    "duration": 20,
    "start_time": "2022-04-23T08:32:45.430Z"
   },
   {
    "duration": 7,
    "start_time": "2022-04-23T08:32:45.453Z"
   },
   {
    "duration": 55,
    "start_time": "2022-04-23T08:32:45.465Z"
   },
   {
    "duration": 23,
    "start_time": "2022-04-23T08:32:45.523Z"
   },
   {
    "duration": 278,
    "start_time": "2022-04-23T08:32:45.548Z"
   },
   {
    "duration": 209,
    "start_time": "2022-04-23T08:32:45.829Z"
   },
   {
    "duration": 8,
    "start_time": "2022-04-23T08:32:46.040Z"
   },
   {
    "duration": 10,
    "start_time": "2022-04-23T08:32:46.050Z"
   },
   {
    "duration": 499,
    "start_time": "2022-04-23T08:32:46.063Z"
   },
   {
    "duration": 9,
    "start_time": "2022-04-23T08:32:46.564Z"
   },
   {
    "duration": 227,
    "start_time": "2022-04-23T08:32:46.586Z"
   },
   {
    "duration": 12,
    "start_time": "2022-04-23T08:32:46.815Z"
   },
   {
    "duration": 9,
    "start_time": "2022-04-23T08:32:46.830Z"
   },
   {
    "duration": 52,
    "start_time": "2022-04-23T08:32:46.842Z"
   },
   {
    "duration": 758,
    "start_time": "2022-04-23T08:32:46.897Z"
   },
   {
    "duration": 205,
    "start_time": "2022-04-23T08:32:47.657Z"
   },
   {
    "duration": 10,
    "start_time": "2022-04-23T08:32:47.863Z"
   },
   {
    "duration": 41,
    "start_time": "2022-04-23T08:32:47.875Z"
   },
   {
    "duration": 9,
    "start_time": "2022-04-23T08:32:47.918Z"
   },
   {
    "duration": 21,
    "start_time": "2022-04-23T08:32:47.929Z"
   },
   {
    "duration": 608,
    "start_time": "2022-04-23T08:32:47.952Z"
   },
   {
    "duration": 76,
    "start_time": "2022-04-23T08:32:48.562Z"
   },
   {
    "duration": 12,
    "start_time": "2022-04-23T08:32:48.640Z"
   },
   {
    "duration": 6,
    "start_time": "2022-04-23T08:33:03.728Z"
   },
   {
    "duration": 11,
    "start_time": "2022-04-23T08:33:15.844Z"
   },
   {
    "duration": 2304,
    "start_time": "2022-04-23T15:42:03.162Z"
   },
   {
    "duration": 4,
    "start_time": "2022-04-23T15:42:05.469Z"
   },
   {
    "duration": 49,
    "start_time": "2022-04-23T15:42:07.558Z"
   },
   {
    "duration": 8,
    "start_time": "2022-04-23T15:42:07.881Z"
   },
   {
    "duration": 19,
    "start_time": "2022-04-23T15:42:08.477Z"
   },
   {
    "duration": 58,
    "start_time": "2022-04-23T15:42:09.130Z"
   },
   {
    "duration": 31,
    "start_time": "2022-04-23T15:42:09.996Z"
   },
   {
    "duration": 16,
    "start_time": "2022-04-23T15:42:10.610Z"
   },
   {
    "duration": 20,
    "start_time": "2022-04-23T15:42:11.643Z"
   },
   {
    "duration": 5,
    "start_time": "2022-04-23T15:42:13.041Z"
   },
   {
    "duration": 4,
    "start_time": "2022-04-23T15:42:13.627Z"
   },
   {
    "duration": 17,
    "start_time": "2022-04-23T15:42:13.820Z"
   },
   {
    "duration": 6,
    "start_time": "2022-04-23T15:42:14.529Z"
   },
   {
    "duration": 17,
    "start_time": "2022-04-23T15:42:14.931Z"
   },
   {
    "duration": 23,
    "start_time": "2022-04-23T15:42:15.786Z"
   },
   {
    "duration": 209,
    "start_time": "2022-04-23T15:42:16.219Z"
   },
   {
    "duration": 171,
    "start_time": "2022-04-23T15:42:16.449Z"
   },
   {
    "duration": 8,
    "start_time": "2022-04-23T15:42:17.127Z"
   },
   {
    "duration": 9,
    "start_time": "2022-04-23T15:42:17.541Z"
   },
   {
    "duration": 477,
    "start_time": "2022-04-23T15:42:18.430Z"
   },
   {
    "duration": 11,
    "start_time": "2022-04-23T15:42:19.254Z"
   },
   {
    "duration": 162,
    "start_time": "2022-04-23T15:42:19.752Z"
   },
   {
    "duration": 10,
    "start_time": "2022-04-23T15:42:21.086Z"
   },
   {
    "duration": 10,
    "start_time": "2022-04-23T15:42:21.801Z"
   },
   {
    "duration": 20,
    "start_time": "2022-04-23T15:42:23.492Z"
   },
   {
    "duration": 587,
    "start_time": "2022-04-23T15:42:26.049Z"
   },
   {
    "duration": 160,
    "start_time": "2022-04-23T15:42:26.894Z"
   },
   {
    "duration": 11,
    "start_time": "2022-04-23T15:42:27.839Z"
   },
   {
    "duration": 550,
    "start_time": "2022-04-23T15:46:22.373Z"
   },
   {
    "duration": 34,
    "start_time": "2022-04-23T15:46:23.976Z"
   },
   {
    "duration": 15,
    "start_time": "2022-04-23T15:46:40.602Z"
   },
   {
    "duration": 9,
    "start_time": "2022-04-23T15:46:41.420Z"
   },
   {
    "duration": 7,
    "start_time": "2022-04-23T15:51:17.194Z"
   },
   {
    "duration": 9,
    "start_time": "2022-04-23T15:53:27.171Z"
   },
   {
    "duration": 7,
    "start_time": "2022-04-23T15:53:46.256Z"
   },
   {
    "duration": 5,
    "start_time": "2022-04-23T15:53:47.110Z"
   },
   {
    "duration": 6,
    "start_time": "2022-04-23T15:53:47.272Z"
   },
   {
    "duration": 19,
    "start_time": "2022-04-23T15:53:48.108Z"
   },
   {
    "duration": 16,
    "start_time": "2022-04-23T15:53:48.452Z"
   },
   {
    "duration": 20,
    "start_time": "2022-04-23T15:53:48.651Z"
   },
   {
    "duration": 206,
    "start_time": "2022-04-23T15:53:49.063Z"
   },
   {
    "duration": 18,
    "start_time": "2022-04-23T15:53:50.149Z"
   },
   {
    "duration": 11,
    "start_time": "2022-04-23T15:53:51.130Z"
   },
   {
    "duration": 9,
    "start_time": "2022-04-23T15:53:54.688Z"
   },
   {
    "duration": 8,
    "start_time": "2022-04-23T15:53:55.250Z"
   },
   {
    "duration": 3,
    "start_time": "2022-04-23T15:53:58.442Z"
   },
   {
    "duration": 54,
    "start_time": "2022-04-23T15:56:57.098Z"
   },
   {
    "duration": 41,
    "start_time": "2022-04-23T15:59:24.054Z"
   },
   {
    "duration": 42,
    "start_time": "2022-04-23T15:59:24.994Z"
   },
   {
    "duration": 10,
    "start_time": "2022-04-23T15:59:33.425Z"
   },
   {
    "duration": 530,
    "start_time": "2022-04-23T15:59:37.181Z"
   },
   {
    "duration": 1745,
    "start_time": "2022-04-23T16:00:14.556Z"
   },
   {
    "duration": 5389,
    "start_time": "2022-04-23T16:00:29.410Z"
   },
   {
    "duration": 5665,
    "start_time": "2022-04-23T16:01:00.645Z"
   },
   {
    "duration": 17,
    "start_time": "2022-04-23T16:01:31.688Z"
   },
   {
    "duration": 6,
    "start_time": "2022-04-23T16:03:22.175Z"
   },
   {
    "duration": 16,
    "start_time": "2022-04-23T16:03:25.415Z"
   },
   {
    "duration": 8,
    "start_time": "2022-04-23T16:03:25.865Z"
   },
   {
    "duration": 7047,
    "start_time": "2022-04-23T16:05:17.525Z"
   },
   {
    "duration": 2608,
    "start_time": "2022-04-23T16:05:36.580Z"
   },
   {
    "duration": 6822,
    "start_time": "2022-04-23T16:05:44.111Z"
   },
   {
    "duration": 7,
    "start_time": "2022-04-23T16:10:02.215Z"
   },
   {
    "duration": 16,
    "start_time": "2022-04-23T16:10:02.750Z"
   },
   {
    "duration": 7,
    "start_time": "2022-04-23T16:10:03.200Z"
   },
   {
    "duration": 648,
    "start_time": "2022-04-23T16:11:50.807Z"
   },
   {
    "duration": 3788,
    "start_time": "2022-04-23T16:11:53.794Z"
   },
   {
    "duration": 168,
    "start_time": "2022-04-23T16:18:26.656Z"
   },
   {
    "duration": 2008,
    "start_time": "2022-04-23T16:18:34.041Z"
   },
   {
    "duration": 1299,
    "start_time": "2022-04-23T16:18:47.549Z"
   },
   {
    "duration": 5387,
    "start_time": "2022-04-23T16:19:05.916Z"
   },
   {
    "duration": 8,
    "start_time": "2022-04-23T16:29:59.269Z"
   },
   {
    "duration": 17,
    "start_time": "2022-04-23T16:30:30.609Z"
   },
   {
    "duration": 15,
    "start_time": "2022-04-23T16:30:37.165Z"
   },
   {
    "duration": 14,
    "start_time": "2022-04-23T16:30:51.264Z"
   },
   {
    "duration": 8,
    "start_time": "2022-04-23T16:30:58.056Z"
   },
   {
    "duration": 21,
    "start_time": "2022-04-23T16:30:58.487Z"
   },
   {
    "duration": 4,
    "start_time": "2022-04-23T16:36:07.465Z"
   },
   {
    "duration": 4,
    "start_time": "2022-04-23T16:36:08.422Z"
   },
   {
    "duration": 50539,
    "start_time": "2022-04-23T16:36:09.142Z"
   },
   {
    "duration": 8,
    "start_time": "2022-04-23T16:39:50.280Z"
   },
   {
    "duration": 6,
    "start_time": "2022-04-23T16:40:00.767Z"
   },
   {
    "duration": 6,
    "start_time": "2022-04-23T16:40:07.939Z"
   },
   {
    "duration": 12193,
    "start_time": "2022-04-23T16:40:31.099Z"
   },
   {
    "duration": 0,
    "start_time": "2022-04-23T16:40:43.299Z"
   },
   {
    "duration": 4,
    "start_time": "2022-04-23T16:40:46.777Z"
   },
   {
    "duration": 4,
    "start_time": "2022-04-23T16:40:48.001Z"
   },
   {
    "duration": 8,
    "start_time": "2022-04-23T16:40:48.347Z"
   },
   {
    "duration": 6,
    "start_time": "2022-04-23T16:40:48.691Z"
   },
   {
    "duration": 140784,
    "start_time": "2022-04-23T16:40:49.100Z"
   },
   {
    "duration": 5,
    "start_time": "2022-04-23T16:43:38.245Z"
   },
   {
    "duration": 4,
    "start_time": "2022-04-23T16:44:02.829Z"
   },
   {
    "duration": 18,
    "start_time": "2022-04-23T16:45:33.377Z"
   },
   {
    "duration": 2546,
    "start_time": "2022-04-23T16:46:10.451Z"
   },
   {
    "duration": 27,
    "start_time": "2022-04-23T16:46:15.126Z"
   },
   {
    "duration": 40,
    "start_time": "2022-04-23T16:46:43.176Z"
   },
   {
    "duration": 200,
    "start_time": "2022-04-23T16:47:13.038Z"
   },
   {
    "duration": 195,
    "start_time": "2022-04-23T16:47:26.834Z"
   },
   {
    "duration": 17,
    "start_time": "2022-04-23T16:50:13.432Z"
   },
   {
    "duration": 6,
    "start_time": "2022-04-23T16:51:31.840Z"
   },
   {
    "duration": 5,
    "start_time": "2022-04-23T16:51:43.574Z"
   },
   {
    "duration": 3,
    "start_time": "2022-04-23T16:51:49.809Z"
   },
   {
    "duration": 6,
    "start_time": "2022-04-23T16:51:55.464Z"
   },
   {
    "duration": 4,
    "start_time": "2022-04-23T16:52:15.228Z"
   },
   {
    "duration": 6,
    "start_time": "2022-04-23T16:52:15.661Z"
   },
   {
    "duration": 4,
    "start_time": "2022-04-23T16:52:27.489Z"
   },
   {
    "duration": 7,
    "start_time": "2022-04-23T16:52:28.659Z"
   },
   {
    "duration": 10,
    "start_time": "2022-04-23T16:52:43.200Z"
   },
   {
    "duration": 14,
    "start_time": "2022-04-23T16:53:03.160Z"
   },
   {
    "duration": 14,
    "start_time": "2022-04-23T16:53:18.329Z"
   },
   {
    "duration": 11,
    "start_time": "2022-04-23T16:53:37.365Z"
   },
   {
    "duration": 2128,
    "start_time": "2022-04-23T16:56:38.872Z"
   },
   {
    "duration": 4,
    "start_time": "2022-04-23T16:56:41.003Z"
   },
   {
    "duration": 41,
    "start_time": "2022-04-23T16:56:41.009Z"
   },
   {
    "duration": 7,
    "start_time": "2022-04-23T16:56:41.053Z"
   },
   {
    "duration": 32,
    "start_time": "2022-04-23T16:56:41.062Z"
   },
   {
    "duration": 58,
    "start_time": "2022-04-23T16:56:41.096Z"
   },
   {
    "duration": 53,
    "start_time": "2022-04-23T16:56:41.157Z"
   },
   {
    "duration": 18,
    "start_time": "2022-04-23T16:56:41.212Z"
   },
   {
    "duration": 19,
    "start_time": "2022-04-23T16:56:41.232Z"
   },
   {
    "duration": 4,
    "start_time": "2022-04-23T16:56:41.255Z"
   },
   {
    "duration": 4,
    "start_time": "2022-04-23T16:56:41.293Z"
   },
   {
    "duration": 20,
    "start_time": "2022-04-23T16:56:41.299Z"
   },
   {
    "duration": 7,
    "start_time": "2022-04-23T16:56:41.321Z"
   },
   {
    "duration": 18,
    "start_time": "2022-04-23T16:56:41.330Z"
   },
   {
    "duration": 57,
    "start_time": "2022-04-23T16:56:41.350Z"
   },
   {
    "duration": 225,
    "start_time": "2022-04-23T16:56:41.410Z"
   },
   {
    "duration": 181,
    "start_time": "2022-04-23T16:56:41.637Z"
   },
   {
    "duration": 7,
    "start_time": "2022-04-23T16:56:41.820Z"
   },
   {
    "duration": 18,
    "start_time": "2022-04-23T16:56:41.829Z"
   },
   {
    "duration": 406,
    "start_time": "2022-04-23T16:56:41.849Z"
   },
   {
    "duration": 10,
    "start_time": "2022-04-23T16:56:42.258Z"
   },
   {
    "duration": 180,
    "start_time": "2022-04-23T16:56:42.270Z"
   },
   {
    "duration": 9,
    "start_time": "2022-04-23T16:56:42.452Z"
   },
   {
    "duration": 9,
    "start_time": "2022-04-23T16:56:42.463Z"
   },
   {
    "duration": 18,
    "start_time": "2022-04-23T16:56:42.494Z"
   },
   {
    "duration": 637,
    "start_time": "2022-04-23T16:56:42.514Z"
   },
   {
    "duration": 176,
    "start_time": "2022-04-23T16:56:43.154Z"
   },
   {
    "duration": 10,
    "start_time": "2022-04-23T16:56:43.337Z"
   },
   {
    "duration": 17,
    "start_time": "2022-04-23T16:56:43.349Z"
   },
   {
    "duration": 617,
    "start_time": "2022-04-23T16:56:43.368Z"
   },
   {
    "duration": 36,
    "start_time": "2022-04-23T16:56:43.987Z"
   },
   {
    "duration": 14,
    "start_time": "2022-04-23T16:56:44.026Z"
   },
   {
    "duration": 9,
    "start_time": "2022-04-23T16:56:44.043Z"
   },
   {
    "duration": 46,
    "start_time": "2022-04-23T16:56:44.054Z"
   },
   {
    "duration": 7,
    "start_time": "2022-04-23T16:56:44.102Z"
   },
   {
    "duration": 10,
    "start_time": "2022-04-23T16:56:44.112Z"
   },
   {
    "duration": 18,
    "start_time": "2022-04-23T16:56:44.124Z"
   },
   {
    "duration": 58,
    "start_time": "2022-04-23T16:56:44.144Z"
   },
   {
    "duration": 20,
    "start_time": "2022-04-23T16:56:44.205Z"
   },
   {
    "duration": 222,
    "start_time": "2022-04-23T16:56:44.227Z"
   },
   {
    "duration": 19,
    "start_time": "2022-04-23T16:56:44.451Z"
   },
   {
    "duration": 23,
    "start_time": "2022-04-23T16:56:44.472Z"
   },
   {
    "duration": 9,
    "start_time": "2022-04-23T16:56:44.497Z"
   },
   {
    "duration": 8,
    "start_time": "2022-04-23T16:56:44.508Z"
   },
   {
    "duration": 5,
    "start_time": "2022-04-23T16:56:44.518Z"
   },
   {
    "duration": 71,
    "start_time": "2022-04-23T16:56:44.525Z"
   },
   {
    "duration": 28,
    "start_time": "2022-04-23T16:56:44.598Z"
   },
   {
    "duration": 27,
    "start_time": "2022-04-23T16:56:44.628Z"
   },
   {
    "duration": 36,
    "start_time": "2022-04-23T16:56:44.657Z"
   },
   {
    "duration": 707,
    "start_time": "2022-04-23T16:56:44.695Z"
   },
   {
    "duration": 1296,
    "start_time": "2022-04-23T16:56:45.405Z"
   },
   {
    "duration": 5088,
    "start_time": "2022-04-23T16:56:46.703Z"
   },
   {
    "duration": 16,
    "start_time": "2022-04-23T16:56:51.794Z"
   },
   {
    "duration": 6,
    "start_time": "2022-04-23T16:56:51.812Z"
   },
   {
    "duration": 17,
    "start_time": "2022-04-23T16:56:51.820Z"
   },
   {
    "duration": 7,
    "start_time": "2022-04-23T16:56:51.839Z"
   },
   {
    "duration": 1739,
    "start_time": "2022-04-23T16:56:51.848Z"
   },
   {
    "duration": 6063,
    "start_time": "2022-04-23T16:56:53.593Z"
   },
   {
    "duration": 6,
    "start_time": "2022-04-23T16:56:59.658Z"
   },
   {
    "duration": 27,
    "start_time": "2022-04-23T16:56:59.666Z"
   },
   {
    "duration": 7,
    "start_time": "2022-04-23T16:56:59.695Z"
   },
   {
    "duration": 651,
    "start_time": "2022-04-23T16:56:59.704Z"
   },
   {
    "duration": 3834,
    "start_time": "2022-04-23T16:57:00.357Z"
   },
   {
    "duration": 1161,
    "start_time": "2022-04-23T16:57:04.193Z"
   },
   {
    "duration": 5717,
    "start_time": "2022-04-23T16:57:05.356Z"
   },
   {
    "duration": 9,
    "start_time": "2022-04-23T16:57:11.077Z"
   },
   {
    "duration": 24,
    "start_time": "2022-04-23T16:57:11.088Z"
   },
   {
    "duration": 7,
    "start_time": "2022-04-23T16:57:11.114Z"
   },
   {
    "duration": 13,
    "start_time": "2022-04-23T16:57:11.123Z"
   },
   {
    "duration": 12,
    "start_time": "2022-04-23T16:57:11.138Z"
   },
   {
    "duration": 9,
    "start_time": "2022-04-23T16:57:11.153Z"
   },
   {
    "duration": 134724,
    "start_time": "2022-04-23T16:57:11.164Z"
   },
   {
    "duration": 5,
    "start_time": "2022-04-23T16:59:25.891Z"
   },
   {
    "duration": 6,
    "start_time": "2022-04-23T16:59:25.899Z"
   },
   {
    "duration": 2213,
    "start_time": "2022-04-23T16:59:25.907Z"
   },
   {
    "duration": 40,
    "start_time": "2022-04-23T16:59:28.122Z"
   },
   {
    "duration": 199,
    "start_time": "2022-04-23T16:59:28.165Z"
   },
   {
    "duration": 173,
    "start_time": "2022-04-23T16:59:28.367Z"
   },
   {
    "duration": 14,
    "start_time": "2022-04-23T17:00:04.619Z"
   },
   {
    "duration": 16,
    "start_time": "2022-04-23T17:00:43.631Z"
   },
   {
    "duration": 24,
    "start_time": "2022-04-23T17:01:57.290Z"
   },
   {
    "duration": 6,
    "start_time": "2022-04-23T17:02:03.601Z"
   },
   {
    "duration": 2640,
    "start_time": "2022-04-23T17:02:32.387Z"
   },
   {
    "duration": 5,
    "start_time": "2022-04-23T17:02:35.031Z"
   },
   {
    "duration": 1753,
    "start_time": "2022-04-23T17:02:35.038Z"
   },
   {
    "duration": 9,
    "start_time": "2022-04-23T17:02:36.794Z"
   },
   {
    "duration": 20,
    "start_time": "2022-04-23T17:02:36.806Z"
   },
   {
    "duration": 66,
    "start_time": "2022-04-23T17:02:36.828Z"
   },
   {
    "duration": 31,
    "start_time": "2022-04-23T17:02:36.896Z"
   },
   {
    "duration": 16,
    "start_time": "2022-04-23T17:02:36.929Z"
   },
   {
    "duration": 21,
    "start_time": "2022-04-23T17:02:36.947Z"
   },
   {
    "duration": 5,
    "start_time": "2022-04-23T17:02:36.970Z"
   },
   {
    "duration": 16,
    "start_time": "2022-04-23T17:02:36.977Z"
   },
   {
    "duration": 25,
    "start_time": "2022-04-23T17:02:36.997Z"
   },
   {
    "duration": 7,
    "start_time": "2022-04-23T17:02:37.025Z"
   },
   {
    "duration": 59,
    "start_time": "2022-04-23T17:02:37.039Z"
   },
   {
    "duration": 31,
    "start_time": "2022-04-23T17:02:37.101Z"
   },
   {
    "duration": 394,
    "start_time": "2022-04-23T17:02:37.135Z"
   },
   {
    "duration": 207,
    "start_time": "2022-04-23T17:02:37.531Z"
   },
   {
    "duration": 8,
    "start_time": "2022-04-23T17:02:37.740Z"
   },
   {
    "duration": 10,
    "start_time": "2022-04-23T17:02:37.751Z"
   },
   {
    "duration": 471,
    "start_time": "2022-04-23T17:02:37.763Z"
   },
   {
    "duration": 12,
    "start_time": "2022-04-23T17:02:38.236Z"
   },
   {
    "duration": 232,
    "start_time": "2022-04-23T17:02:38.251Z"
   },
   {
    "duration": 11,
    "start_time": "2022-04-23T17:02:38.492Z"
   },
   {
    "duration": 19,
    "start_time": "2022-04-23T17:02:38.506Z"
   },
   {
    "duration": 17,
    "start_time": "2022-04-23T17:02:38.527Z"
   },
   {
    "duration": 950,
    "start_time": "2022-04-23T17:02:38.546Z"
   },
   {
    "duration": 208,
    "start_time": "2022-04-23T17:02:39.498Z"
   },
   {
    "duration": 13,
    "start_time": "2022-04-23T17:02:39.708Z"
   },
   {
    "duration": 16,
    "start_time": "2022-04-23T17:02:39.724Z"
   },
   {
    "duration": 709,
    "start_time": "2022-04-23T17:02:39.743Z"
   },
   {
    "duration": 43,
    "start_time": "2022-04-23T17:02:40.455Z"
   },
   {
    "duration": 18,
    "start_time": "2022-04-23T17:02:40.501Z"
   },
   {
    "duration": 10,
    "start_time": "2022-04-23T17:02:40.522Z"
   },
   {
    "duration": 10,
    "start_time": "2022-04-23T17:02:40.535Z"
   },
   {
    "duration": 48,
    "start_time": "2022-04-23T17:02:40.548Z"
   },
   {
    "duration": 10,
    "start_time": "2022-04-23T17:02:40.599Z"
   },
   {
    "duration": 23,
    "start_time": "2022-04-23T17:02:40.613Z"
   },
   {
    "duration": 58,
    "start_time": "2022-04-23T17:02:40.639Z"
   },
   {
    "duration": 27,
    "start_time": "2022-04-23T17:02:40.701Z"
   },
   {
    "duration": 332,
    "start_time": "2022-04-23T17:02:40.731Z"
   },
   {
    "duration": 37,
    "start_time": "2022-04-23T17:02:41.070Z"
   },
   {
    "duration": 8,
    "start_time": "2022-04-23T17:02:41.111Z"
   },
   {
    "duration": 9,
    "start_time": "2022-04-23T17:02:41.121Z"
   },
   {
    "duration": 8,
    "start_time": "2022-04-23T17:02:41.132Z"
   },
   {
    "duration": 5,
    "start_time": "2022-04-23T17:02:41.142Z"
   },
   {
    "duration": 75,
    "start_time": "2022-04-23T17:02:41.149Z"
   },
   {
    "duration": 30,
    "start_time": "2022-04-23T17:02:41.226Z"
   },
   {
    "duration": 51,
    "start_time": "2022-04-23T17:02:41.259Z"
   },
   {
    "duration": 8,
    "start_time": "2022-04-23T17:02:41.313Z"
   },
   {
    "duration": 2080,
    "start_time": "2022-04-23T17:02:41.324Z"
   },
   {
    "duration": 1297,
    "start_time": "2022-04-23T17:02:43.407Z"
   },
   {
    "duration": 5440,
    "start_time": "2022-04-23T17:02:44.706Z"
   },
   {
    "duration": 17,
    "start_time": "2022-04-23T17:02:50.148Z"
   },
   {
    "duration": 25,
    "start_time": "2022-04-23T17:02:50.168Z"
   },
   {
    "duration": 16,
    "start_time": "2022-04-23T17:02:50.195Z"
   },
   {
    "duration": 8,
    "start_time": "2022-04-23T17:02:50.213Z"
   },
   {
    "duration": 1783,
    "start_time": "2022-04-23T17:02:50.223Z"
   },
   {
    "duration": 6170,
    "start_time": "2022-04-23T17:02:52.008Z"
   },
   {
    "duration": 6,
    "start_time": "2022-04-23T17:02:58.180Z"
   },
   {
    "duration": 25,
    "start_time": "2022-04-23T17:02:58.190Z"
   },
   {
    "duration": 10,
    "start_time": "2022-04-23T17:02:58.218Z"
   },
   {
    "duration": 916,
    "start_time": "2022-04-23T17:02:58.231Z"
   },
   {
    "duration": 3797,
    "start_time": "2022-04-23T17:02:59.150Z"
   },
   {
    "duration": 1168,
    "start_time": "2022-04-23T17:03:02.949Z"
   },
   {
    "duration": 5120,
    "start_time": "2022-04-23T17:03:04.119Z"
   },
   {
    "duration": 9,
    "start_time": "2022-04-23T17:03:09.242Z"
   },
   {
    "duration": 20,
    "start_time": "2022-04-23T17:03:09.254Z"
   },
   {
    "duration": 18,
    "start_time": "2022-04-23T17:03:09.277Z"
   },
   {
    "duration": 9,
    "start_time": "2022-04-23T17:03:09.297Z"
   },
   {
    "duration": 11,
    "start_time": "2022-04-23T17:03:09.308Z"
   },
   {
    "duration": 5,
    "start_time": "2022-04-23T17:03:09.321Z"
   },
   {
    "duration": 137980,
    "start_time": "2022-04-23T17:03:09.328Z"
   },
   {
    "duration": 6,
    "start_time": "2022-04-23T17:05:27.310Z"
   },
   {
    "duration": 7,
    "start_time": "2022-04-23T17:05:27.318Z"
   },
   {
    "duration": 2387,
    "start_time": "2022-04-23T17:05:27.328Z"
   },
   {
    "duration": 44,
    "start_time": "2022-04-23T17:05:29.718Z"
   },
   {
    "duration": 208,
    "start_time": "2022-04-23T17:05:29.764Z"
   },
   {
    "duration": 21,
    "start_time": "2022-04-23T17:05:29.974Z"
   }
  ],
  "kernelspec": {
   "display_name": "Python 3 (ipykernel)",
   "language": "python",
   "name": "python3"
  },
  "language_info": {
   "codemirror_mode": {
    "name": "ipython",
    "version": 3
   },
   "file_extension": ".py",
   "mimetype": "text/x-python",
   "name": "python",
   "nbconvert_exporter": "python",
   "pygments_lexer": "ipython3",
   "version": "3.9.12"
  },
  "toc": {
   "base_numbering": 1,
   "nav_menu": {},
   "number_sections": true,
   "sideBar": true,
   "skip_h1_title": true,
   "title_cell": "Содержание",
   "title_sidebar": "Contents",
   "toc_cell": true,
   "toc_position": {
    "height": "571px",
    "left": "60px",
    "top": "111.133px",
    "width": "225.8px"
   },
   "toc_section_display": true,
   "toc_window_display": true
  }
 },
 "nbformat": 4,
 "nbformat_minor": 2
}
